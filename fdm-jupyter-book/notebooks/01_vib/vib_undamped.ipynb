{
 "cells": [
  {
   "cell_type": "markdown",
   "metadata": {},
   "source": [
    "<!-- 2DO: -->\n",
    "<!-- _undamped -> _simple everywhere -->\n",
    "<!-- Long time integration by adaptive RK: will that improve the -->\n",
    "<!-- phase error? Do experiments where we measure the wavelength -->\n",
    "<!-- and plot it as function of time. Can we vectorize the -->\n",
    "<!-- max/min pt computation? -->\n",
    "\n",
    "Vibration problems lead to differential equations with solutions that\n",
    "oscillate in time, typically in a damped or undamped sinusoidal\n",
    "fashion.  Such solutions put certain demands on the numerical methods\n",
    "compared to other phenomena whose solutions are monotone or very smooth.\n",
    "Both the frequency and amplitude of the oscillations need to be\n",
    "accurately handled by the numerical schemes. The forthcoming text\n",
    "presents a range of different methods, from classical ones\n",
    "(Runge-Kutta and midpoint/Crank-Nicolson methods), to more\n",
    "modern and popular symplectic (geometric) integration schemes (Leapfrog,\n",
    "Euler-Cromer, and\n",
    "Stoermer-Verlet\n",
    "methods), but with a clear emphasis on the latter. Vibration problems\n",
    "occur throughout mechanics and physics, but the methods discussed\n",
    "in this text are also fundamental for constructing successful algorithms\n",
    "for partial differential equations\n",
    "of wave nature in multiple spatial dimensions.\n",
    "\n",
    "\n",
    "# Finite difference discretization\n",
    "<div id=\"vib:model1\"></div>\n",
    "\n",
    "Many of the numerical challenges faced when computing oscillatory\n",
    "solutions to ODEs and PDEs can be captured by the very simple ODE\n",
    "$u^{\\prime\\prime} + u =0$. This ODE is thus chosen as our starting\n",
    "point for method development, implementation, and analysis.\n",
    "\n",
    "## A basic model for vibrations\n",
    "\n",
    "\n",
    "The simplest model of a vibrating mechanical system has the following form:"
   ]
  },
  {
   "cell_type": "markdown",
   "metadata": {},
   "source": [
    "<!-- Equation labels as ordinary links -->\n",
    "<div id=\"vib:ode1\"></div>\n",
    "\n",
    "$$\n",
    "\\begin{equation}\n",
    "u^{\\prime\\prime} + \\omega^2u = 0,\\quad u(0)=I,\\ u^{\\prime}(0)=0,\\ t\\in (0,T\\rbrack\n",
    "% \\thinspace .\n",
    "\\label{vib:ode1} \\tag{1}\n",
    "\\end{equation}\n",
    "$$"
   ]
  },
  {
   "cell_type": "markdown",
   "metadata": {},
   "source": [
    "Here, $\\omega$ and $I$ are given constants.\n",
    "The section [Applications of vibration models](vib_app.ipynb#vib:app:mass_spring) derives ([1](#vib:ode1)) from physical\n",
    "principles and explains what the constants mean.\n",
    "\n",
    "\n",
    "The exact solution of ([1](#vib:ode1)) is"
   ]
  },
  {
   "cell_type": "markdown",
   "metadata": {},
   "source": [
    "<!-- Equation labels as ordinary links -->\n",
    "<div id=\"vib:ode1:uex\"></div>\n",
    "\n",
    "$$\n",
    "\\begin{equation}\n",
    "u(t) = I\\cos (\\omega t)\n",
    "\\thinspace .\n",
    "\\label{vib:ode1:uex} \\tag{2}\n",
    "\\end{equation}\n",
    "$$"
   ]
  },
  {
   "cell_type": "markdown",
   "metadata": {},
   "source": [
    "That is, $u$ oscillates with constant amplitude $I$ and\n",
    "angular frequency $\\omega$.\n",
    "The corresponding period of oscillations (i.e., the time between two\n",
    "neighboring peaks in the cosine function) is $P=2\\pi/\\omega$.\n",
    "The number of periods per second\n",
    "is $f=\\omega/(2\\pi)$ and measured in the unit Hz.\n",
    "Both $f$ and $\\omega$ are referred to as frequency, but $\\omega$\n",
    "is more precisely named *angular frequency*, measured in rad/s.\n",
    "\n",
    "In vibrating mechanical systems modeled by ([1](#vib:ode1)), $u(t)$\n",
    "very often represents a position or a displacement of a particular\n",
    "point in the system. The derivative $u^{\\prime}(t)$ then has the\n",
    "interpretation of velocity, and $u^{\\prime\\prime}(t)$ is the associated\n",
    "acceleration.  The model ([1](#vib:ode1)) is not only\n",
    "applicable to vibrating mechanical systems, but also to oscillations\n",
    "in electrical circuits.\n",
    "\n",
    "## A centered finite difference scheme\n",
    "<div id=\"vib:ode1:fdm\"></div>\n",
    "\n",
    "To formulate a finite difference method for the model\n",
    "problem  ([1](#vib:ode1)), we follow the four steps explained in Section 1.1.2\n",
    "in [[Langtangen_decay]](#Langtangen_decay).\n",
    "\n",
    "\n",
    "### Step 1: Discretizing the domain\n",
    "\n",
    "The domain is discretized by\n",
    "introducing a uniformly partitioned time mesh.\n",
    "The points in the mesh are $t_n=n\\Delta t$, $n=0,1,\\ldots,N_t$,\n",
    "where $\\Delta t = T/N_t$ is the constant length of the time steps.\n",
    "We introduce a mesh function $u^n$ for $n=0,1,\\ldots,N_t$, which\n",
    "approximates the exact solution at the mesh points. (Note that\n",
    "$n=0$ is the known initial condition, so $u^n$ is identical to the mathematical\n",
    "$u$ at this point.) The mesh\n",
    "function $u^n$ will be computed from algebraic equations derived from\n",
    "the differential equation problem.\n",
    "\n",
    "\n",
    "### Step 2: Fulfilling the equation at discrete time points\n",
    "\n",
    "The ODE is to be satisfied at each mesh point where the solution\n",
    "must be found:"
   ]
  },
  {
   "cell_type": "markdown",
   "metadata": {},
   "source": [
    "<!-- Equation labels as ordinary links -->\n",
    "<div id=\"vib:ode1:step2\"></div>\n",
    "\n",
    "$$\n",
    "\\begin{equation}\n",
    "u^{\\prime\\prime}(t_n) + \\omega^2u(t_n) = 0,\\quad n=1,\\ldots,N_t\n",
    "\\thinspace .\n",
    "\\label{vib:ode1:step2} \\tag{3}\n",
    "\\end{equation}\n",
    "$$"
   ]
  },
  {
   "cell_type": "markdown",
   "metadata": {},
   "source": [
    "### Step 3: Replacing derivatives by finite differences\n",
    "\n",
    "The derivative $u^{\\prime\\prime}(t_n)$ is to be replaced by a finite\n",
    "difference approximation. A common second-order accurate approximation\n",
    "to the second-order derivative is"
   ]
  },
  {
   "cell_type": "markdown",
   "metadata": {},
   "source": [
    "<!-- Equation labels as ordinary links -->\n",
    "<div id=\"vib:ode1:step3\"></div>\n",
    "\n",
    "$$\n",
    "\\begin{equation}\n",
    "u^{\\prime\\prime}(t_n) \\approx \\frac{u^{n+1}-2u^n + u^{n-1}}{\\Delta t^2}\n",
    "\\thinspace .\n",
    "\\label{vib:ode1:step3} \\tag{4}\n",
    "\\end{equation}\n",
    "$$"
   ]
  },
  {
   "cell_type": "markdown",
   "metadata": {},
   "source": [
    "Inserting ([4](#vib:ode1:step3)) in ([3](#vib:ode1:step2))\n",
    "yields"
   ]
  },
  {
   "cell_type": "markdown",
   "metadata": {},
   "source": [
    "<!-- Equation labels as ordinary links -->\n",
    "<div id=\"vib:ode1:step3b\"></div>\n",
    "\n",
    "$$\n",
    "\\begin{equation}\n",
    "\\frac{u^{n+1}-2u^n + u^{n-1}}{\\Delta t^2} = -\\omega^2 u^n\n",
    "\\thinspace .\n",
    "\\label{vib:ode1:step3b} \\tag{5}\n",
    "\\end{equation}\n",
    "$$"
   ]
  },
  {
   "cell_type": "markdown",
   "metadata": {},
   "source": [
    "We also need to replace the derivative in the initial condition by\n",
    "a finite difference. Here we choose a centered difference, whose\n",
    "accuracy is similar to the centered difference we used for $u^{\\prime\\prime}$:"
   ]
  },
  {
   "cell_type": "markdown",
   "metadata": {},
   "source": [
    "<!-- Equation labels as ordinary links -->\n",
    "<div id=\"vib:ode1:step3c\"></div>\n",
    "\n",
    "$$\n",
    "\\begin{equation}\n",
    "\\frac{u^1-u^{-1}}{2\\Delta t} = 0\n",
    "\\label{vib:ode1:step3c} \\tag{6}\n",
    "\\thinspace .\n",
    "\\end{equation}\n",
    "$$"
   ]
  },
  {
   "cell_type": "markdown",
   "metadata": {},
   "source": [
    "### Step 4: Formulating a recursive algorithm\n",
    "\n",
    "To formulate the computational algorithm, we assume that we\n",
    "have already computed $u^{n-1}$ and $u^n$, such that $u^{n+1}$ is the\n",
    "unknown value to be solved for:"
   ]
  },
  {
   "cell_type": "markdown",
   "metadata": {},
   "source": [
    "<!-- Equation labels as ordinary links -->\n",
    "<div id=\"vib:ode1:step4\"></div>\n",
    "\n",
    "$$\n",
    "\\begin{equation}\n",
    "u^{n+1} = 2u^n - u^{n-1} - \\Delta t^2\\omega^2 u^n\n",
    "\\thinspace .\n",
    "\\label{vib:ode1:step4} \\tag{7}\n",
    "\\end{equation}\n",
    "$$"
   ]
  },
  {
   "cell_type": "markdown",
   "metadata": {},
   "source": [
    "The computational algorithm is simply to apply ([7](#vib:ode1:step4))\n",
    "successively for $n=1,2,\\ldots,N_t-1$. This numerical scheme sometimes\n",
    "goes under the name\n",
    "Stoermer's\n",
    "method, [Verlet integration](http://en.wikipedia.org/wiki/Verlet_integration), or the Leapfrog method\n",
    "(one should note\n",
    "that Leapfrog is used for many quite different methods for quite\n",
    "different differential equations!).\n",
    "\n",
    "\n",
    "### Computing the first step\n",
    "\n",
    "We observe that ([7](#vib:ode1:step4)) cannot be used for $n=0$ since\n",
    "the computation of $u^1$ then involves the undefined value $u^{-1}$\n",
    "at $t=-\\Delta t$. The discretization of the initial condition\n",
    "then comes to our rescue: ([6](#vib:ode1:step3c)) implies $u^{-1} = u^1$\n",
    "and this relation can be combined with ([7](#vib:ode1:step4))\n",
    "for $n=0$ to yield a value for $u^1$:"
   ]
  },
  {
   "cell_type": "markdown",
   "metadata": {},
   "source": [
    "$$\n",
    "u^1 = 2u^0 - u^{1} - \\Delta t^2 \\omega^2 u^0,\n",
    "$$"
   ]
  },
  {
   "cell_type": "markdown",
   "metadata": {},
   "source": [
    "which reduces to"
   ]
  },
  {
   "cell_type": "markdown",
   "metadata": {},
   "source": [
    "<!-- Equation labels as ordinary links -->\n",
    "<div id=\"vib:ode1:step4b\"></div>\n",
    "\n",
    "$$\n",
    "\\begin{equation}\n",
    "u^1 = u^0 - \\frac{1}{2} \\Delta t^2 \\omega^2 u^0\n",
    "\\thinspace .\n",
    "\\label{vib:ode1:step4b} \\tag{8}\n",
    "\\end{equation}\n",
    "$$"
   ]
  },
  {
   "cell_type": "markdown",
   "metadata": {},
   "source": [
    "[Exercise 5: Use a Taylor polynomial to compute $u^1$](#vib:exer:step4b:alt) asks you to perform an alternative derivation\n",
    "and also to generalize the initial condition to $u^{\\prime}(0)=V\\neq 0$.\n",
    "\n",
    "### The computational algorithm\n",
    "\n",
    "The steps for solving ([1](#vib:ode1)) become\n",
    "\n",
    "1. $u^0=I$\n",
    "\n",
    "2. compute $u^1$ from ([8](#vib:ode1:step4b))\n",
    "\n",
    "3. for $n=1,2,\\ldots,N_t-1$: compute $u^{n+1}$ from ([7](#vib:ode1:step4))\n",
    "\n",
    "The algorithm is more precisely expressed directly in Python:"
   ]
  },
  {
   "cell_type": "markdown",
   "metadata": {},
   "source": [
    "```python\n",
    "t = linspace(0, T, Nt+1)  # mesh points in time\n",
    "dt = t[1] - t[0]          # constant time step\n",
    "u = zeros(Nt+1)           # solution\n",
    "\n",
    "u[0] = I\n",
    "u[1] = u[0] - 0.5*dt**2*w**2*u[0]\n",
    "for n in range(1, Nt):\n",
    "    u[n+1] = 2*u[n] - u[n-1] - dt**2*w**2*u[n]\n",
    "```"
   ]
  },
  {
   "cell_type": "markdown",
   "metadata": {},
   "source": [
    "**Remark on using `w` for $\\omega$ in computer code.**\n",
    "\n",
    "In the code, we use `w` as the symbol for $\\omega$.\n",
    "The reason is that the authors prefer `w` for readability\n",
    "and comparison with the mathematical $\\omega$ instead of\n",
    "the full word `omega` as variable name.\n",
    "\n",
    "\n",
    "\n",
    "\n",
    "### Operator notation\n",
    "\n",
    "We may write the scheme using a compact difference notation\n",
    "listed in the [Finite difference operator notation](../A_formulas/formulas.ipynb#sec:form:fdop) section\n",
    "(see also Section 1.1.8 in [[Langtangen_decay]](#Langtangen_decay)).\n",
    "The difference ([4](#vib:ode1:step3)) has the operator\n",
    "notation $[D_tD_t u]^n$ such that we can write:"
   ]
  },
  {
   "cell_type": "markdown",
   "metadata": {},
   "source": [
    "<!-- Equation labels as ordinary links -->\n",
    "<div id=\"vib:ode1:step4:op\"></div>\n",
    "\n",
    "$$\n",
    "\\begin{equation}\n",
    "[D_tD_t u  + \\omega^2 u = 0]^n\n",
    "\\thinspace .\n",
    "\\label{vib:ode1:step4:op} \\tag{9}\n",
    "\\end{equation}\n",
    "$$"
   ]
  },
  {
   "cell_type": "markdown",
   "metadata": {},
   "source": [
    "Note that $[D_tD_t u]^n$ means applying a central difference with step $\\Delta t/2$ twice:"
   ]
  },
  {
   "cell_type": "markdown",
   "metadata": {},
   "source": [
    "$$\n",
    "[D_t(D_t u)]^n = \\frac{[D_t u]^{n+\\frac{1}{2}} - [D_t u]^{n-\\frac{1}{2}}}{\\Delta t}\n",
    "$$"
   ]
  },
  {
   "cell_type": "markdown",
   "metadata": {},
   "source": [
    "which is written out as"
   ]
  },
  {
   "cell_type": "markdown",
   "metadata": {},
   "source": [
    "$$\n",
    "\\frac{1}{\\Delta t}\\left(\\frac{u^{n+1}-u^n}{\\Delta t} - \\frac{u^{n}-u^{n-1}}{\\Delta t}\\right) = \\frac{u^{n+1}-2u^n + u^{n-1}}{\\Delta t^2}\n",
    "\\thinspace .\n",
    "$$"
   ]
  },
  {
   "cell_type": "markdown",
   "metadata": {},
   "source": [
    "The discretization of initial conditions can in the operator notation\n",
    "be expressed as"
   ]
  },
  {
   "cell_type": "markdown",
   "metadata": {},
   "source": [
    "<!-- Equation labels as ordinary links -->\n",
    "<div id=\"_auto1\"></div>\n",
    "\n",
    "$$\n",
    "\\begin{equation}\n",
    "[u = I]^0,\\quad [D_{2t} u = 0]^0,\n",
    "\\label{_auto1} \\tag{10}\n",
    "\\end{equation}\n",
    "$$"
   ]
  },
  {
   "cell_type": "markdown",
   "metadata": {},
   "source": [
    "where the operator $[D_{2t} u]^n$ is defined as"
   ]
  },
  {
   "cell_type": "markdown",
   "metadata": {},
   "source": [
    "<!-- Equation labels as ordinary links -->\n",
    "<div id=\"_auto2\"></div>\n",
    "\n",
    "$$\n",
    "\\begin{equation}\n",
    "[D_{2t} u]^n = \\frac{u^{n+1} - u^{n-1}}{2\\Delta t}\n",
    "\\thinspace .\n",
    "\\label{_auto2} \\tag{11}\n",
    "\\end{equation}\n",
    "$$"
   ]
  },
  {
   "cell_type": "markdown",
   "metadata": {},
   "source": [
    "# Implementation\n",
    "<div id=\"vib:impl1\"></div>\n",
    "\n",
    "## Making a solver function\n",
    "<div id=\"vib:impl1:solver\"></div>\n",
    "\n",
    "\n",
    "The algorithm from the previous section is readily translated to\n",
    "a complete Python function for computing and returning\n",
    "$u^0,u^1,\\ldots,u^{N_t}$ and $t_0,t_1,\\ldots,t_{N_t}$, given the\n",
    "input $I$, $\\omega$, $\\Delta t$, and $T$:"
   ]
  },
  {
   "cell_type": "code",
   "execution_count": 1,
   "metadata": {},
   "outputs": [],
   "source": [
    "# NBVAL_IGNORE_OUTPUT\n",
    "import numpy as np\n",
    "import matplotlib.pyplot as plt\n",
    "from devito import Dimension, Constant, TimeFunction, Eq, solve, Operator"
   ]
  },
  {
   "cell_type": "code",
   "execution_count": 2,
   "metadata": {},
   "outputs": [],
   "source": [
    "# %load -s solver, src-vib/vib_undamped.py\n",
    "def solver(I, w, dt, T):\n",
    "    \"\"\"\n",
    "    Solve u'' + w**2*u = 0 for t in (0,T], u(0)=I and u'(0)=0,\n",
    "    by a central finite difference method with time step dt.\n",
    "    \"\"\"\n",
    "    dt = float(dt)\n",
    "    Nt = int(round(T/dt))\n",
    "    t = Dimension('t', spacing=Constant('h_t'))\n",
    "\n",
    "    u = TimeFunction(name='u', dimensions=(t,),\n",
    "                     shape=(Nt+1,), space_order=2)\n",
    "\n",
    "    u.data[:] = I\n",
    "    eqn = u.dt2 + (w**2)*u\n",
    "    stencil = Eq(u.forward, solve(eqn, u.forward))\n",
    "    op = Operator(stencil)\n",
    "    op.apply(h_t=dt, t_M=Nt-1)\n",
    "    return u.data, np.linspace(0, Nt*dt, Nt+1)\n"
   ]
  },
  {
   "cell_type": "markdown",
   "metadata": {},
   "source": [
    "We have imported `numpy` and `matplotlib` under the names `np` and `plt`, as this is very common in the Python scientific computing community and a good programming habit (since we explicitly\n",
    "see where the different functions come from).\n",
    "\n",
    "A function for plotting the numerical and the exact solution is also\n",
    "convenient to have:"
   ]
  },
  {
   "cell_type": "code",
   "execution_count": 4,
   "metadata": {},
   "outputs": [],
   "source": [
    "# %load -s u_exact, src-vib/vib_undamped.py\n",
    "def u_exact(t, I, w):\n",
    "    return I*np.cos(w*t)\n"
   ]
  },
  {
   "cell_type": "code",
   "execution_count": 5,
   "metadata": {},
   "outputs": [],
   "source": [
    "# %load -s visualize, src-vib/vib_undamped.py\n",
    "def visualize(u, t, I, w):\n",
    "    plt.plot(t, u, 'r--o')\n",
    "    t_fine = np.linspace(0, t[-1], 1001)  # very fine mesh for u_e\n",
    "    u_e = u_exact(t_fine, I, w)\n",
    "    plt.plot(t_fine, u_e, 'b-')\n",
    "    plt.legend(['numerical', 'exact'], loc='upper left')\n",
    "    plt.xlabel('t')\n",
    "    plt.ylabel('u')\n",
    "    dt = t[1] - t[0]\n",
    "    plt.title('dt=%g' % dt)\n",
    "    umin = 1.2*u.min();  umax = -umin\n",
    "    plt.axis([t[0], t[-1], umin, umax])\n",
    "    plt.savefig('tmp1.png');  plt.savefig('tmp1.pdf')\n"
   ]
  },
  {
   "cell_type": "markdown",
   "metadata": {},
   "source": [
    "A corresponding main program calling these functions to simulate\n",
    "a given number of periods (`num_periods`) may take the form"
   ]
  },
  {
   "cell_type": "code",
   "execution_count": 13,
   "metadata": {},
   "outputs": [
    {
     "name": "stderr",
     "output_type": "stream",
     "text": [
      "Operator `Kernel` run in 0.01 s\n"
     ]
    },
    {
     "data": {
      "image/png": "[encoded data removed]",
      "text/plain": [
       "<Figure size 432x288 with 1 Axes>"
      ]
     },
     "metadata": {
      "needs_background": "light"
     },
     "output_type": "display_data"
    }
   ],
   "source": [
    "I = 1\n",
    "w = 2*np.pi\n",
    "dt = 0.05\n",
    "num_periods = 5\n",
    "P = 2*np.pi/w    #  one period\n",
    "T = P*num_periods\n",
    "u, t = solver(I, w, dt, T)\n",
    "visualize(u, t, I, w)"
   ]
  },
  {
   "cell_type": "markdown",
   "metadata": {},
   "source": [
    "Adjusting some of the input parameters via the command line can be\n",
    "handy. Here is a code segment using the `ArgumentParser` tool in\n",
    "the `argparse` module to define option value (`--option value`)\n",
    "pairs on the command line:"
   ]
  },
  {
   "cell_type": "markdown",
   "metadata": {},
   "source": [
    "```python\n",
    "import argparse\n",
    "parser = argparse.ArgumentParser()\n",
    "parser.add_argument('--I', type=float, default=1.0)\n",
    "parser.add_argument('--w', type=float, default=2*np.pi)\n",
    "parser.add_argument('--dt', type=float, default=0.05)\n",
    "parser.add_argument('--num_periods', type=int, default=5)\n",
    "a = parser.parse_args()\n",
    "I, w, dt, num_periods = a.I, a.w, a.dt, a.num_periods\n",
    "```"
   ]
  },
  {
   "cell_type": "markdown",
   "metadata": {},
   "source": [
    "Such parsing of the command line is explained in more detail in Section 5.2.3 in \n",
    "[[Langtangen_decay]](#Langtangen_decay).\n",
    "\n",
    "A typical execution goes like"
   ]
  },
  {
   "cell_type": "markdown",
   "metadata": {},
   "source": [
    "        Terminal> python vib_undamped.py --num_periods 20 --dt 0.1\n"
   ]
  },
  {
   "cell_type": "markdown",
   "metadata": {},
   "source": [
    "## Verification\n",
    "<div id=\"vib:ode1:verify\"></div>\n",
    "\n",
    "\n",
    "### Manual calculation\n",
    "\n",
    "The simplest type of verification, which is also instructive for understanding\n",
    "the algorithm, is to compute $u^1$, $u^2$, and $u^3$\n",
    "with the aid of a calculator\n",
    "and make a function for comparing these results with those from the `solver`\n",
    "function. The `test_three_steps` function in\n",
    "the file [`vib_undamped.py`](https://github.com/devitocodes/devito_book/blob/master/fdm-devito-notebooks/01_vib/src-vib/vib_undamped.py)\n",
    "shows the details of how we use the hand calculations to test the code:"
   ]
  },
  {
   "cell_type": "code",
   "execution_count": 14,
   "metadata": {},
   "outputs": [],
   "source": [
    "# %load -s test_three_steps, src-vib/vib_undamped.py\n",
    "def test_three_steps():\n",
    "    from math import pi\n",
    "    I = 1;  w = 2*pi;  dt = 0.1;  T = 1\n",
    "    u_by_hand = np.array([1.000000000000000,\n",
    "                          0.802607911978213,\n",
    "                          0.288358920740053])\n",
    "    u, t = solver(I, w, dt, T)\n",
    "    diff = np.abs(u_by_hand - u[:3]).max()\n",
    "    tol = 1E-14\n",
    "    assert diff < tol\n"
   ]
  },
  {
   "cell_type": "markdown",
   "metadata": {},
   "source": [
    "This function is a proper *test function*,\n",
    "compliant with the pytest and nose testing\n",
    "framework for Python code, because\n",
    "\n",
    " * the function name begins with `test_`\n",
    "\n",
    " * the function takes no arguments\n",
    "\n",
    " * the test is formulated as a boolean condition and executed by `assert`\n",
    "\n",
    "We shall in this book implement all software verification via such\n",
    "proper test functions, also known as unit testing.\n",
    "\n",
    "See Section 5.3.2 in [[Langtangen_decay]](#Langtangen_decay)\n",
    "for more details on how to construct test functions and utilize nose\n",
    "or pytest for automatic execution of tests. Our recommendation is to\n",
    "use pytest. With this choice, you can\n",
    "run all test functions in `vib_undamped.py` by"
   ]
  },
  {
   "cell_type": "markdown",
   "metadata": {},
   "source": [
    "        Terminal> py.test -s -v vib_undamped.py\n",
    "        ============================= test session starts ======...\n",
    "        platform linux2 -- Python 2.7.9 -- ...\n",
    "        collected 2 items\n",
    "        \n",
    "        vib_undamped.py::test_three_steps PASSED\n",
    "        vib_undamped.py::test_convergence_rates PASSED\n",
    "        \n",
    "        =========================== 2 passed in 0.19 seconds ===...\n"
   ]
  },
  {
   "cell_type": "markdown",
   "metadata": {},
   "source": [
    "### Testing very simple polynomial solutions\n",
    "\n",
    "Constructing test problems where the exact solution is constant or\n",
    "linear helps initial debugging and verification as one expects any\n",
    "reasonable numerical method to reproduce such solutions to machine\n",
    "precision.  Second-order accurate methods will often also reproduce a\n",
    "quadratic solution.  Here $[D_tD_tt^2]^n=2$, which is the exact\n",
    "result. A solution $u=t^2$ leads to $u^{\\prime\\prime}+\\omega^2 u=2 + (\\omega\n",
    "t)^2\\neq 0$.  We must therefore add a source in the equation: $u^{\\prime\\prime} +\n",
    "\\omega^2 u = f$ to allow a solution $u=t^2$ for $f=2 + (\\omega t)^2$.  By\n",
    "simple insertion we can show that the mesh function $u^n = t_n^2$ is\n",
    "also a solution of the discrete equations.  [Problem 1: Use linear/quadratic functions for verification](#vib:exer:undamped:verify:linquad) asks you to carry out all\n",
    "details to show that linear and quadratic solutions are solutions\n",
    "of the discrete equations. Such results are very useful for debugging\n",
    "and verification. You are strongly encouraged to do this problem now!\n",
    "\n",
    "\n",
    "### Checking convergence rates\n",
    "\n",
    "Empirical computation of convergence rates yields a good method for\n",
    "verification. The method and its computational details are explained\n",
    "in detail in Section 3.1.6 in [[Langtangen_decay]](#Langtangen_decay).  Readers not\n",
    "familiar with the concept should look up this reference before\n",
    "proceeding.\n",
    "\n",
    "In the present problem, computing convergence rates means that we must\n",
    "\n",
    " * perform $m$ simulations, halving the time steps as: $\\Delta t_i=2^{-i}\\Delta t_0$, $i=1,\\ldots,m-1$, and $\\Delta t_i$ is the time step used in simulation $i$;\n",
    "\n",
    " * compute the $L^2$ norm of the error,\n",
    "   $E_i=\\sqrt{\\Delta t_i\\sum_{n=0}^{N_t-1}(u^n-u(t_n))^2}$ in each case;\n",
    "\n",
    " * estimate the convergence rates $r_i$ based on two consecutive\n",
    "   experiments $(\\Delta t_{i-1}, E_{i-1})$ and $(\\Delta t_{i}, E_{i})$,\n",
    "   assuming $E_i=C(\\Delta t_i)^{r}$ and $E_{i-1}=C(\\Delta t_{i-1})^{r}$, where $C$ is a constant.\n",
    "   From these equations it follows that\n",
    "   $r = \\ln (E_{i-1}/E_i)/\\ln (\\Delta t_{i-1}/\\Delta t_i)$. Since this $r$\n",
    "   will vary with $i$, we equip it with an index and call it $r_{i-1}$,\n",
    "   where $i$ runs from $1$ to $m-1$.\n",
    "\n",
    "The computed rates $r_0,r_1,\\ldots,r_{m-2}$ hopefully converge to the\n",
    "number 2 in the present\n",
    "problem, because theory (from the section [Analysis of the numerical scheme](#vib:ode1:analysis)) shows\n",
    "that the error of the numerical method we use behaves like $\\Delta t^2$.\n",
    "The convergence of the sequence $r_0,r_1,\\ldots,r_{m-2}$\n",
    "demands that the time steps\n",
    "$\\Delta t_i$ are sufficiently small for the error model $E_i=C(\\Delta t_i)^r$\n",
    "to be valid.\n",
    "\n",
    "All the implementational details of computing the sequence\n",
    "$r_0,r_1,\\ldots,r_{m-2}$ appear below."
   ]
  },
  {
   "cell_type": "code",
   "execution_count": 15,
   "metadata": {},
   "outputs": [],
   "source": [
    "# %load -s convergence_rates, src-vib/vib_undamped.py\n",
    "def convergence_rates(m, solver_function, num_periods=8):\n",
    "    \"\"\"\n",
    "    Return m-1 empirical estimates of the convergence rate\n",
    "    based on m simulations, where the time step is halved\n",
    "    for each simulation.\n",
    "    solver_function(I, w, dt, T) solves each problem, where T\n",
    "    is based on simulation for num_periods periods.\n",
    "    \"\"\"\n",
    "    from math import pi\n",
    "    w = 0.35; I = 0.3       # just chosen values\n",
    "    P = 2*pi/w              # period\n",
    "    dt = P/30               # 30 time step per period 2*pi/w\n",
    "    T = P*num_periods\n",
    "\n",
    "    dt_values = []\n",
    "    E_values = []\n",
    "    for i in range(m):\n",
    "        u, t = solver_function(I, w, dt, T)\n",
    "        u_e = u_exact(t, I, w)\n",
    "        E = np.sqrt(dt*np.sum((u_e-u)**2))\n",
    "        dt_values.append(dt)\n",
    "        E_values.append(E)\n",
    "        dt = dt/2\n",
    "\n",
    "    r = [np.log(E_values[i-1]/E_values[i])/\n",
    "         np.log(dt_values[i-1]/dt_values[i])\n",
    "         for i in range(1, m, 1)]\n",
    "    return r, E_values, dt_values\n"
   ]
  },
  {
   "cell_type": "markdown",
   "metadata": {},
   "source": [
    "The error analysis in the section [Analysis of the numerical scheme](#vib:ode1:analysis) is quite\n",
    "detailed and suggests that $r=2$. It is also a intuitively reasonable result, since we used a\n",
    "second-order accurate finite difference approximation $[D_tD_tu]^n$ to\n",
    "the ODE and a second-order accurate finite difference formula for the\n",
    "initial condition for $u^{\\prime}$.\n",
    "\n",
    "In the present problem, when $\\Delta t_0$ corresponds to 30 time steps\n",
    "per period, the returned `r` list has all its values equal to 2.00\n",
    "(if rounded to two decimals). This amazingly accurate result means that all\n",
    "$\\Delta t_i$ values are well into the asymptotic regime where the\n",
    "error model $E_i = C(\\Delta t_i)^r$ is valid.\n",
    "\n",
    "We can now construct a proper test function that computes convergence rates\n",
    "and checks that the final (and usually the best) estimate is sufficiently\n",
    "close to 2. Here, a rough tolerance of 0.1 is enough. Later, we will argue\n",
    "for an improvement by adjusting omega and include also that case in our test\n",
    "function here. The unit test goes like"
   ]
  },
  {
   "cell_type": "code",
   "execution_count": 16,
   "metadata": {},
   "outputs": [],
   "source": [
    "# %load -s test_convergence_rates, src-vib/vib_undamped.py\n",
    "def test_convergence_rates():\n",
    "    r, E, dt = convergence_rates(\n",
    "        m=5, solver_function=solver, num_periods=8)\n",
    "    # Accept rate to 1 decimal place\n",
    "    tol = 0.1\n",
    "    assert abs(r[-1] - 2.0) < tol\n",
    "    # Test that adjusted w obtains 4th order convergence\n",
    "    r, E, dt = convergence_rates(\n",
    "        m=5, solver_function=solver_adjust_w, num_periods=8)\n",
    "    print(\"adjust w rates:\")\n",
    "    print(r)\n",
    "    assert abs(r[-1] - 4.0) < tol\n"
   ]
  },
  {
   "cell_type": "markdown",
   "metadata": {},
   "source": [
    "where `solver_adjust_w` is a slight variation on the original `solver` function, as follows:"
   ]
  },
  {
   "cell_type": "code",
   "execution_count": 17,
   "metadata": {},
   "outputs": [],
   "source": [
    "# %load -s solver_adjust_w, src-vib/vib_undamped.py\n",
    "def solver_adjust_w(I, w, dt, T, adjust_w=True):\n",
    "    \"\"\"\n",
    "    Solve u'' + w**2*u = 0 for t in (0,T], u(0)=I and u'(0)=0,\n",
    "    by a central finite difference method with time step dt.\n",
    "    \"\"\"\n",
    "    dt = float(dt)\n",
    "    Nt = int(round(T/dt))\n",
    "    t = Dimension('t', spacing=Constant('h_t'))\n",
    "\n",
    "    u = TimeFunction(name='u', dimensions=(t,),\n",
    "                     shape=(Nt+1,), space_order=2)\n",
    "\n",
    "    w_adj = w*(1 - w**2*dt**2/24.) if adjust_w else w\n",
    "\n",
    "    u.data[:] = I\n",
    "    eqn = u.dt2 + (w**2)*u\n",
    "    stencil = Eq(u.forward, solve(eqn, u.forward))\n",
    "    op = Operator(stencil)\n",
    "    op.apply(h_t=dt, t_M=Nt-1)\n",
    "    return u.data, np.linspace(0, Nt*dt, Nt+1)\n"
   ]
  },
  {
   "cell_type": "markdown",
   "metadata": {},
   "source": [
    "The complete code appears in the file [`vib_undamped.py`](https://github.com/devitocodes/devito_book/blob/master/fdm-devito-notebooks/01_vib/src-vib/vib_undamped.py).\n",
    "\n",
    "\n",
    "### Visualizing convergence rates with slope markers\n",
    "\n",
    "Tony S. Yu has written a script [`plotslopes.py`](http://goo.gl/A4Utm7)\n",
    "that is very useful to indicate the slope of a graph, especially\n",
    "a graph like $\\ln E = r\\ln \\Delta t + \\ln C$ arising from the model\n",
    "$E=C\\Delta t^r$. A copy of the script resides in the [`src-vib`](https://github.com/devitocodes/devito_book/tree/master/fdm-devito-notebooks/01_vib/src-vib)\n",
    "directory. Let us use it to compare the original method for $u'' + \\omega^2u =0$\n",
    "with the same method applied to the equation with a modified\n",
    "$\\omega$. We make log-log plots of the error versus $\\Delta t$.\n",
    "For each curve we attach a slope marker using the `slope_marker((x,y), r)`\n",
    "function from `plotslopes.py`, where `(x,y)` is the position of the\n",
    "marker and `r` and the slope ($(r,1)$), here (2,1) and (4,1)."
   ]
  },
  {
   "cell_type": "code",
   "execution_count": 18,
   "metadata": {},
   "outputs": [],
   "source": [
    "# %load -s plot_convergence_rates, src-vib/vib_undamped.py\n",
    "def plot_convergence_rates():\n",
    "    r2, E2, dt2 = convergence_rates(\n",
    "        m=5, solver_function=solver, num_periods=8)\n",
    "    plt.loglog(dt2, E2)\n",
    "    r4, E4, dt4 = convergence_rates(\n",
    "        m=5, solver_function=solver_adjust_w, num_periods=8)\n",
    "    plt.loglog(dt4, E4)\n",
    "    plt.legend(['original scheme', r'adjusted $\\omega$'],\n",
    "               loc='upper left')\n",
    "    plt.title('Convergence of finite difference methods')\n",
    "    # from plotslopes import slope_marker\n",
    "    # slope_marker((dt2[1], E2[1]), (2,1))\n",
    "    # slope_marker((dt4[1], E4[1]), (4,1))\n",
    "    plt.savefig('tmp_convrate.png'); plt.savefig('tmp_convrate.pdf')\n",
    "    plt.show()\n"
   ]
  },
  {
   "cell_type": "markdown",
   "metadata": {},
   "source": [
    "[Figure](#vib:ode1:verify:fig:convrate_curve) displays the two curves\n",
    "with the markers. The match of the curve slope and the marker slope is\n",
    "excellent.\n",
    "\n",
    "<!-- dom:FIGURE: [fig-vib/vib_adjusted_w_rate_curves.png, width=500 frac=0.7] Empirical convergence rate curves with special slope marker. <div id=\"vib:ode1:verify:fig:convrate_curve\"></div> -->\n",
    "<!-- begin figure -->\n",
    "<div id=\"vib:ode1:verify:fig:convrate_curve\"></div>\n",
    "\n",
    "<p>Empirical convergence rate curves with special slope marker.</p>\n",
    "<img src=\"fig-vib/vib_adjusted_w_rate_curves.png\" width=500>\n",
    "\n",
    "<!-- end figure -->\n",
    "\n",
    "\n",
    "## Scaled model\n",
    "\n",
    "It is advantageous to use dimensionless variables in simulations,\n",
    "because fewer parameters need to be set. The present problem is made\n",
    "dimensionless by introducing dimensionless variables $\\bar t = t/t_c$\n",
    "and $\\bar u = u/u_c$, where $t_c$ and $u_c$ are characteristic scales\n",
    "for $t$ and $u$, respectively. We refer to Section 2.2.1 in \n",
    "[[Langtangen_scaling]](#Langtangen_scaling) for all details about this scaling.\n",
    "\n",
    "The scaled ODE problem reads"
   ]
  },
  {
   "cell_type": "markdown",
   "metadata": {},
   "source": [
    "$$\n",
    "\\frac{u_c}{t_c^2}\\frac{d^2\\bar u}{d\\bar t^2} + u_c\\bar u = 0,\\quad\n",
    "u_c\\bar u(0) = I,\\ \\frac{u_c}{t_c}\\frac{d\\bar u}{d\\bar t}(0)=0\\thinspace .\n",
    "$$"
   ]
  },
  {
   "cell_type": "markdown",
   "metadata": {},
   "source": [
    "A common choice is to take $t_c$ as one period of\n",
    "the oscillations, $t_c = 2\\pi/w$, and $u_c=I$.\n",
    "This gives the dimensionless model"
   ]
  },
  {
   "cell_type": "markdown",
   "metadata": {},
   "source": [
    "<!-- Equation labels as ordinary links -->\n",
    "<div id=\"vib:ode1:model:scaled\"></div>\n",
    "\n",
    "$$\n",
    "\\begin{equation}\n",
    "\\frac{d^2\\bar u}{d\\bar t^2} + 4\\pi^2 \\bar u = 0,\\quad \\bar u(0)=1,\\ \n",
    "\\bar u^{\\prime}(0)=0\\thinspace .\n",
    "\\label{vib:ode1:model:scaled} \\tag{13}\n",
    "\\end{equation}\n",
    "$$"
   ]
  },
  {
   "cell_type": "markdown",
   "metadata": {},
   "source": [
    "Observe that there are no physical parameters in ([13](#vib:ode1:model:scaled))!\n",
    "We can therefore perform\n",
    "a single numerical simulation $\\bar u(\\bar t)$ and afterwards\n",
    "recover any $u(t; \\omega, I)$ by"
   ]
  },
  {
   "cell_type": "markdown",
   "metadata": {},
   "source": [
    "$$\n",
    "u(t;\\omega, I) = u_c\\bar u(t/t_c) = I\\bar u(\\omega t/(2\\pi))\\thinspace .\n",
    "$$"
   ]
  },
  {
   "cell_type": "markdown",
   "metadata": {},
   "source": [
    "We can easily check this assertion: the solution of the scaled problem\n",
    "is $\\bar u(\\bar t) = \\cos(2\\pi\\bar t)$. The formula for $u$ in terms\n",
    "of $\\bar u$ gives $u = I\\cos(\\omega t)$, which is nothing but the solution\n",
    "of the original problem with dimensions.\n",
    "\n",
    "The scaled model can be run by calling `solver(I=1, w=2*pi, dt, T)`.\n",
    "Each period is now 1 and `T` simply counts the number of periods.\n",
    "Choosing `dt` as `1./M` gives `M` time steps per period.\n",
    "\n",
    "\n",
    "# Visualization of long time simulations\n",
    "<div id=\"vib:ode1:longseries\"></div>\n",
    "\n",
    "[Figure](#vib:ode1:2dt) shows a comparison of the exact and numerical\n",
    "solution for the scaled model ([13](#vib:ode1:model:scaled)) with\n",
    "$\\Delta t=0.1, 0.05$.\n",
    "From the plot we make the following observations:\n",
    "\n",
    " * The numerical solution seems to have correct amplitude.\n",
    "\n",
    " * There is an angular frequency error which is reduced by decreasing the time step.\n",
    "\n",
    " * The total angular frequency error grows with time.\n",
    "\n",
    "By angular frequency error we mean that the numerical angular frequency differs\n",
    "from the exact $\\omega$. This is evident by looking\n",
    "at the peaks of the numerical solution: these have incorrect\n",
    "positions compared with the peaks of the exact cosine solution. The\n",
    "effect can be mathematically expressed by writing the numerical solution\n",
    "as $I\\cos\\tilde\\omega t$, where $\\tilde\\omega$ is not exactly\n",
    "equal to $\\omega$. Later, we shall mathematically\n",
    "quantify this numerical angular frequency $\\tilde\\omega$.\n",
    "\n",
    "Here, we show the effect of halving the time step on the error."
   ]
  },
  {
   "cell_type": "code",
   "execution_count": 19,
   "metadata": {},
   "outputs": [],
   "source": [
    "I = 1\n",
    "w = 2*np.pi\n",
    "num_periods = 5\n",
    "P = 2*np.pi/w    #  one period\n",
    "T = P*num_periods"
   ]
  },
  {
   "cell_type": "code",
   "execution_count": 20,
   "metadata": {},
   "outputs": [
    {
     "name": "stderr",
     "output_type": "stream",
     "text": [
      "Operator `Kernel` run in 0.01 s\n"
     ]
    },
    {
     "data": {
      "image/png": "[encoded data removed]",
      "text/plain": [
       "<Figure size 432x288 with 1 Axes>"
      ]
     },
     "metadata": {
      "needs_background": "light"
     },
     "output_type": "display_data"
    }
   ],
   "source": [
    "dt = 0.1\n",
    "u_1, t = solver(I, w, dt, T)\n",
    "visualize(u_1, t, I, w)"
   ]
  },
  {
   "cell_type": "code",
   "execution_count": 21,
   "metadata": {},
   "outputs": [
    {
     "name": "stderr",
     "output_type": "stream",
     "text": [
      "Operator `Kernel` run in 0.01 s\n"
     ]
    },
    {
     "data": {
      "image/png": "[encoded data removed]",
      "text/plain": [
       "<Figure size 432x288 with 1 Axes>"
      ]
     },
     "metadata": {
      "needs_background": "light"
     },
     "output_type": "display_data"
    }
   ],
   "source": [
    "dt = 0.05\n",
    "u_2, t = solver(I, w, dt, T)\n",
    "visualize(u_2, t, I, w)"
   ]
  },
  {
   "cell_type": "markdown",
   "metadata": {},
   "source": [
    "\n",
    "## Using a moving plot window\n",
    "\n",
    "\n",
    "In vibration problems it is often of interest to investigate the system's\n",
    "behavior over long time intervals. Errors in the angular frequency accumulate\n",
    "and become more visible as time grows. We can investigate long\n",
    "time series by introducing a moving plot window that can move along with\n",
    "the $p$ most recently computed periods of the solution. The\n",
    "[SciTools](https://github.com/hplgit/scitools) package contains\n",
    "a convenient tool for this: `MovingPlotWindow`. Typing\n",
    "`pydoc scitools.MovingPlotWindow` shows a demo and a description of its use.\n",
    "The function below utilizes the moving plot window and is in fact\n",
    "called by the `main` function in the `vib_undamped` module\n",
    "if the number of periods in the simulation exceeds 10."
   ]
  },
  {
   "cell_type": "code",
   "execution_count": 22,
   "metadata": {},
   "outputs": [],
   "source": [
    "# %load -s visualize_front, src-vib/vib_undamped.py\n",
    "def visualize_front(u, t, I, w, savefig=False, skip_frames=1):\n",
    "    \"\"\"\n",
    "    Visualize u and the exact solution vs t, using a\n",
    "    moving plot window and continuous drawing of the\n",
    "    curves as they evolve in time.\n",
    "    Makes it easy to plot very long time series.\n",
    "    Plots are saved to files if savefig is True.\n",
    "    Only each skip_frames-th plot is saved (e.g., if\n",
    "    skip_frame=10, only each 10th plot is saved to file;\n",
    "    this is convenient if plot files corresponding to\n",
    "    different time steps are to be compared).\n",
    "    \"\"\"\n",
    "    import scitools.std as st\n",
    "    from scitools.MovingPlotWindow import MovingPlotWindow\n",
    "    from math import pi\n",
    "\n",
    "    # Remove all old plot files tmp_*.png\n",
    "    import glob, os\n",
    "    for filename in glob.glob('tmp_*.png'):\n",
    "        os.remove(filename)\n",
    "\n",
    "    P = 2*pi/w  # one period\n",
    "    umin = 1.2*u.min();  umax = -umin\n",
    "    dt = t[1] - t[0]\n",
    "    plot_manager = MovingPlotWindow(\n",
    "        window_width=8*P,\n",
    "        dt=dt,\n",
    "        yaxis=[umin, umax],\n",
    "        mode='continuous drawing')\n",
    "    frame_counter = 0\n",
    "    for n in range(1,len(u)):\n",
    "        if plot_manager.plot(n):\n",
    "            s = plot_manager.first_index_in_plot\n",
    "            st.plot(t[s:n+1], u[s:n+1], 'r-1',\n",
    "                    t[s:n+1], I*cos(w*t)[s:n+1], 'b-1',\n",
    "                    title='t=%6.3f' % t[n],\n",
    "                    axis=plot_manager.axis(),\n",
    "                    show=not savefig) # drop window if savefig\n",
    "            if savefig and n % skip_frames == 0:\n",
    "                filename = 'tmp_%04d.png' % frame_counter\n",
    "                st.savefig(filename)\n",
    "                print('making plot file', filename, 'at t=%g' % t[n])\n",
    "                frame_counter += 1\n",
    "        plot_manager.update(n)\n"
   ]
  },
  {
   "cell_type": "markdown",
   "metadata": {},
   "source": [
    "We run the scaled problem (the default values for the command-line arguments\n",
    "`--I` and `--w` correspond to the scaled problem) for 40 periods with 20\n",
    "time steps per period:"
   ]
  },
  {
   "cell_type": "markdown",
   "metadata": {},
   "source": [
    "        Terminal> python vib_undamped.py --dt 0.05 --num_periods 40\n"
   ]
  },
  {
   "cell_type": "markdown",
   "metadata": {},
   "source": [
    "The moving plot window is invoked, and we can follow the numerical and exact\n",
    "solutions as time progresses. From this demo we see that\n",
    "the angular frequency error is small in the beginning, and that it becomes more\n",
    "prominent with time. A new run with $\\Delta t=0.1$ (i.e., only 10 time steps per period)\n",
    "clearly shows that the phase errors become significant even earlier\n",
    "in the time series, deteriorating the solution further.\n",
    "\n",
    "## Making animations\n",
    "<div id=\"vib:ode1:anim\"></div>\n",
    "\n",
    "\n",
    "### Producing standard video formats\n",
    "\n",
    "The `visualize_front` function stores all the plots in\n",
    "files whose names are numbered:\n",
    "`tmp_0000.png`, `tmp_0001.png`, `tmp_0002.png`,\n",
    "and so on. From these files we may make a movie. The Flash\n",
    "format is popular,"
   ]
  },
  {
   "cell_type": "markdown",
   "metadata": {},
   "source": [
    "        Terminal> ffmpeg -r 25 -i tmp_%04d.png -c:v flv movie.flv\n"
   ]
  },
  {
   "cell_type": "markdown",
   "metadata": {},
   "source": [
    "The `-r` option should come first and\n",
    "describes the number of frames per second in the movie (even if we\n",
    "would like to have slow movies, keep this number as large as 25,\n",
    "otherwise files are skipped from the movie). The\n",
    "`-i` option describes the name of the plot files.\n",
    "Other formats can be generated by changing the video codec\n",
    "and equipping the video file with the right extension:\n",
    "\n",
    "<table border=\"1\">\n",
    "<thead>\n",
    "<tr><th align=\"center\">Format</th> <th align=\"center\">    Codec and filename    </th> </tr>\n",
    "</thead>\n",
    "<tbody>\n",
    "<tr><td align=\"left\">   Flash     </td> <td align=\"left\">   <code>-c:v flv movie.flv</code>          </td> </tr>\n",
    "<tr><td align=\"left\">   MP4       </td> <td align=\"left\">   <code>-c:v libx264 movie.mp4</code>      </td> </tr>\n",
    "<tr><td align=\"left\">   WebM      </td> <td align=\"left\">   <code>-c:v libvpx movie.webm</code>      </td> </tr>\n",
    "<tr><td align=\"left\">   Ogg       </td> <td align=\"left\">   <code>-c:v libtheora movie.ogg</code>    </td> </tr>\n",
    "</tbody>\n",
    "</table>\n",
    "\n",
    "The video file can be played by some video player like `vlc`, `mplayer`,\n",
    "`gxine`, or `totem`, e.g.,"
   ]
  },
  {
   "cell_type": "markdown",
   "metadata": {},
   "source": [
    "        Terminal> vlc movie.webm\n"
   ]
  },
  {
   "cell_type": "markdown",
   "metadata": {},
   "source": [
    "A web page can also be used to play the movie. Today's standard is\n",
    "to use the HTML5 `video` tag:"
   ]
  },
  {
   "cell_type": "markdown",
   "metadata": {},
   "source": [
    "        <video autoplay loop controls\n",
    "               width='640' height='365' preload='none'>\n",
    "        <source src='movie.webm'  type='video/webm; codecs=\"vp8, vorbis\"'>\n",
    "        </video>\n"
   ]
  },
  {
   "cell_type": "markdown",
   "metadata": {},
   "source": [
    "Modern browsers do not support all of the video formats.\n",
    "MP4 is needed to successfully play the videos on Apple devices\n",
    "that use the Safari browser.\n",
    "WebM is the preferred format for Chrome, Opera, Firefox, and Internet\n",
    "Explorer v9+. Flash was a popular format, but older browsers that\n",
    "required Flash can play MP4. All browsers that work with Ogg can also\n",
    "work with WebM. This means that to have a video work in all browsers,\n",
    "the video should be available in the MP4 and WebM formats.\n",
    "The proper HTML code reads"
   ]
  },
  {
   "cell_type": "markdown",
   "metadata": {},
   "source": [
    "        <video autoplay loop controls\n",
    "               width='640' height='365' preload='none'>\n",
    "        <source src='movie.mp4'   type='video/mp4;\n",
    "         codecs=\"avc1.42E01E, mp4a.40.2\"'>\n",
    "        <source src='movie.webm'  type='video/webm;\n",
    "         codecs=\"vp8, vorbis\"'>\n",
    "        </video>\n"
   ]
  },
  {
   "cell_type": "markdown",
   "metadata": {},
   "source": [
    "The MP4 format should appear first to ensure that Apple devices will\n",
    "load the video correctly.\n",
    "\n",
    "**Caution: number the plot files correctly.**\n",
    "\n",
    "To ensure that the individual plot frames are shown in correct order,\n",
    "it is important to number the files with zero-padded numbers\n",
    "(0000, 0001, 0002, etc.). The printf format `%04d` specifies an\n",
    "integer in a field of width 4, padded with zeros from the left.\n",
    "A simple Unix wildcard file specification like `tmp_*.png`\n",
    "will then list the frames in the right order. If the numbers in the\n",
    "filenames were not zero-padded, the frame `tmp_11.png` would appear\n",
    "before `tmp_2.png` in the movie.\n",
    "\n",
    "\n",
    "\n",
    "### Playing PNG files in a web browser\n",
    "\n",
    "The `scitools movie` command can create a movie player for a set\n",
    "of PNG files such that a web browser can be used to watch the movie.\n",
    "This interface has the advantage that the speed of the movie can\n",
    "easily be controlled, a feature that scientists often appreciate.\n",
    "The command for creating an HTML with a player for a set of\n",
    "PNG files `tmp_*.png` goes like"
   ]
  },
  {
   "cell_type": "markdown",
   "metadata": {},
   "source": [
    "        Terminal> scitools movie output_file=vib.html fps=4 tmp_*.png\n"
   ]
  },
  {
   "cell_type": "markdown",
   "metadata": {},
   "source": [
    "The `fps` argument controls the speed of the movie (\"frames per second\").\n",
    "\n",
    "To watch the movie, load the video file `vib.html` into some browser, e.g.,"
   ]
  },
  {
   "cell_type": "markdown",
   "metadata": {},
   "source": [
    "        Terminal> google-chrome vib.html  # invoke web page\n"
   ]
  },
  {
   "cell_type": "markdown",
   "metadata": {},
   "source": [
    "Click on `Start movie` to see the result. Moving this movie to\n",
    "some other place requires moving `vib.html` *and all the PNG files*\n",
    "`tmp_*.png`:"
   ]
  },
  {
   "cell_type": "markdown",
   "metadata": {},
   "source": [
    "        Terminal> mkdir vib_dt0.1\n",
    "        Terminal> mv tmp_*.png vib_dt0.1\n",
    "        Terminal> mv vib.html vib_dt0.1/index.html\n"
   ]
  },
  {
   "cell_type": "markdown",
   "metadata": {},
   "source": [
    "### Making animated GIF files\n",
    "\n",
    "The `convert` program from the ImageMagick software suite can be\n",
    "used to produce animated GIF files from a set of PNG files:"
   ]
  },
  {
   "cell_type": "markdown",
   "metadata": {},
   "source": [
    "        Terminal> convert -delay 25 tmp_vib*.png tmp_vib.gif\n"
   ]
  },
  {
   "cell_type": "markdown",
   "metadata": {},
   "source": [
    "The `-delay` option needs an argument of the delay between each frame,\n",
    "measured in 1/100 s, so 4 frames/s here gives 25/100 s delay.\n",
    "Note, however, that in this particular example\n",
    "with $\\Delta t=0.05$ and 40 periods,\n",
    "making an animated GIF file out of\n",
    "the large number of PNG files is a very heavy process and not\n",
    "considered feasible. Animated GIFs are best suited for animations with\n",
    "not so many frames and where you want to see each frame and play them\n",
    "slowly.\n",
    "\n",
    "[hpl 2: Combine two simulations side by side!]\n",
    "\n",
    "## Using Bokeh to compare graphs\n",
    "\n",
    "\n",
    "Instead of a moving plot frame, one can use tools that allow panning\n",
    "by the mouse. For example, we can show four periods of several signals in\n",
    "several plots and then scroll with the mouse through the rest of the\n",
    "simulation *simultaneously* in all the plot windows.\n",
    "The [Bokeh](http://bokeh.pydata.org/en/latest) plotting library offers such tools, but the plots must be displayed in\n",
    "a web browser. The documentation of Bokeh is excellent, so here we just\n",
    "show how the library can be used to compare a set of $u$ curves corresponding\n",
    "to long time simulations. (By the way, the guidance to correct\n",
    "pronunciation of Bokeh in\n",
    "the [documentation](http://bokeh.pydata.org/en/0.10.0/docs/faq.html#how-do-you-pronounce-bokeh) and on [Wikipedia](https://en.wikipedia.org/wiki/Bokeh) is not directly compatible with a [YouTube video](https://www.youtube.com/watch?v=OR8HSHevQTM)...).\n",
    "\n",
    "Imagine we have performed experiments for a set of $\\Delta t$ values.\n",
    "We want each curve, together with the exact solution, to appear in\n",
    "a plot, and then arrange all plots in a grid-like fashion:\n",
    "\n",
    "<!-- dom:FIGURE: [fig-vib/bokeh_gridplot1.png, width=800 frac=1] -->\n",
    "<!-- begin figure -->\n",
    "\n",
    "<p></p>\n",
    "<img src=\"fig-vib/bokeh_gridplot1.png\" width=800>\n",
    "\n",
    "<!-- end figure -->\n",
    "\n",
    "\n",
    "Furthermore, we want the axes to couple such that if we move into\n",
    "the future in one plot, all the other plots follows (note the\n",
    "displaced $t$ axes!):\n",
    "\n",
    "<!-- dom:FIGURE: [fig-vib/bokeh_gridplot2.png, width=800 frac=1] -->\n",
    "<!-- begin figure -->\n",
    "\n",
    "<p></p>\n",
    "<img src=\"fig-vib/bokeh_gridplot2.png\" width=800>\n",
    "\n",
    "<!-- end figure -->\n",
    "\n",
    "\n",
    "\n",
    "A function for creating a Bokeh plot, given a list of `u` arrays\n",
    "and corresponding `t` arrays, is implemented below.\n",
    "The code combines data from different simulations, described\n",
    "compactly in a list of strings `legends`."
   ]
  },
  {
   "cell_type": "markdown",
   "metadata": {},
   "source": [
    "A particular example using the `bokeh_plot` function appears below."
   ]
  },
  {
   "cell_type": "code",
   "execution_count": 23,
   "metadata": {},
   "outputs": [],
   "source": [
    "# %load -s bokeh_plot, src-vib/vib_undamped.py\n",
    "def bokeh_plot(u, t, legends, I, w, t_range, filename):\n",
    "    \"\"\"\n",
    "    Make plots for u vs t using the Bokeh library.\n",
    "    u and t are lists (several experiments can be compared).\n",
    "    legens contain legend strings for the various u,t pairs.\n",
    "    \"\"\"\n",
    "    if not isinstance(u, (list,tuple)):\n",
    "        u = [u]  # wrap in list\n",
    "    if not isinstance(t, (list,tuple)):\n",
    "        t = [t]  # wrap in list\n",
    "    if not isinstance(legends, (list,tuple)):\n",
    "        legends = [legends]  # wrap in list\n",
    "\n",
    "    import bokeh.plotting as plt\n",
    "    plt.output_file(filename, mode='cdn', title='Comparison')\n",
    "    # Assume that all t arrays have the same range\n",
    "    t_fine = np.linspace(0, t[0][-1], 1001)  # fine mesh for u_e\n",
    "    tools = 'pan,wheel_zoom,box_zoom,reset,'\\\n",
    "            'save,box_select,lasso_select'\n",
    "    u_range = [-1.2*I, 1.2*I]\n",
    "    font_size = '8pt'\n",
    "    p = []  # list of plot objects\n",
    "    # Make the first figure\n",
    "    p_ = plt.figure(\n",
    "        width=300, plot_height=250, title=legends[0],\n",
    "        x_axis_label='t', y_axis_label='u',\n",
    "        x_range=t_range, y_range=u_range, tools=tools)\n",
    "    p_.xaxis.axis_label_text_font_size=font_size\n",
    "    p_.yaxis.axis_label_text_font_size=font_size\n",
    "    p_.line(t[0], u[0], line_color='blue')\n",
    "    # Add exact solution\n",
    "    u_e = u_exact(t_fine, I, w)\n",
    "    p_.line(t_fine, u_e, line_color='red', line_dash='4 4')\n",
    "    p.append(p_)\n",
    "    # Make the rest of the figures and attach their axes to\n",
    "    # the first figure's axes\n",
    "    for i in range(1, len(t)):\n",
    "        p_ = plt.figure(\n",
    "            width=300, plot_height=250, title=legends[i],\n",
    "            x_axis_label='t', y_axis_label='u',\n",
    "            x_range=p[0].x_range, y_range=p[0].y_range, tools=tools)\n",
    "        p_.xaxis.axis_label_text_font_size = font_size\n",
    "        p_.yaxis.axis_label_text_font_size = font_size\n",
    "        p_.line(t[i], u[i], line_color='blue')\n",
    "        p_.line(t_fine, u_e, line_color='red', line_dash='4 4')\n",
    "        p.append(p_)\n",
    "\n",
    "    # Arrange all plots in a grid with 3 plots per row\n",
    "    grid = [[]]\n",
    "    for i, p_ in enumerate(p):\n",
    "        grid[-1].append(p_)\n",
    "        if (i+1) % 3 == 0:\n",
    "            # New row\n",
    "            grid.append([])\n",
    "    plot = plt.gridplot(grid, toolbar_location='left')\n",
    "    plt.save(plot)\n",
    "    plt.show(plot)\n"
   ]
  },
  {
   "cell_type": "code",
   "execution_count": 1,
   "metadata": {},
   "outputs": [],
   "source": [
    "# %load -s demo_bokeh, src-vib/vib_undamped.py\n",
    "def demo_bokeh():\n",
    "    \"\"\"Solve a scaled ODE u'' + u = 0.\"\"\"\n",
    "    from math import pi\n",
    "    w = 1.0        # Scaled problem (frequency)\n",
    "    P = 2*np.pi/w  # Period\n",
    "    num_steps_per_period = [5, 10, 20, 40, 80]\n",
    "    T = 40*P       # Simulation time: 40 periods\n",
    "    u = []         # List of numerical solutions\n",
    "    t = []         # List of corresponding meshes\n",
    "    legends = []\n",
    "    for n in num_steps_per_period:\n",
    "        dt = P/n\n",
    "        u_, t_ = solver(I=1, w=w, dt=dt, T=T)\n",
    "        u.append(u_)\n",
    "        t.append(t_)\n",
    "        legends.append('# time steps per period: %d' % n)\n",
    "    bokeh_plot(u, t, legends, I=1, w=w, t_range=[0, 4*P],\n",
    "               filename='tmp.html')\n"
   ]
  },
  {
   "cell_type": "markdown",
   "metadata": {},
   "source": [
    "We can run this below, which should open a window with the Bokeh plots where you can experiment with the graphs yourself:"
   ]
  },
  {
   "cell_type": "code",
   "execution_count": 25,
   "metadata": {},
   "outputs": [
    {
     "name": "stderr",
     "output_type": "stream",
     "text": [
      "Operator `Kernel` run in 0.01 s\n",
      "Operator `Kernel` run in 0.01 s\n",
      "Operator `Kernel` run in 0.01 s\n",
      "Operator `Kernel` run in 0.01 s\n",
      "Operator `Kernel` run in 0.01 s\n"
     ]
    }
   ],
   "source": [
    "# NBVAL_IGNORE_OUTPUT\n",
    "demo_bokeh()"
   ]
  },
  {
   "cell_type": "markdown",
   "metadata": {},
   "source": [
    "## Using a line-by-line ascii plotter\n",
    "\n",
    "Plotting functions vertically, line by line, in the terminal window\n",
    "using ascii characters only is a simple, fast, and convenient\n",
    "visualization technique for long time series. Note that the time\n",
    "axis then is positive downwards on the screen, so we can let the\n",
    "solution be visualized \"forever\".\n",
    "The tool\n",
    "`scitools.avplotter.Plotter` makes it easy to create such plots:"
   ]
  },
  {
   "cell_type": "code",
   "execution_count": 26,
   "metadata": {},
   "outputs": [],
   "source": [
    "# %load -s visualize_front_ascii, src-vib/vib_undamped.py\n",
    "def visualize_front_ascii(u, t, I, w, fps=10):\n",
    "    \"\"\"\n",
    "    Plot u and the exact solution vs t line by line in a\n",
    "    terminal window (only using ascii characters).\n",
    "    Makes it easy to plot very long time series.\n",
    "    \"\"\"\n",
    "    from scitools.avplotter import Plotter\n",
    "    import time\n",
    "    from math import pi\n",
    "    P = 2*pi/w\n",
    "    umin = 1.2*u.min();  umax = -umin\n",
    "\n",
    "    p = Plotter(ymin=umin, ymax=umax, width=60, symbols='+o')\n",
    "    for n in range(len(u)):\n",
    "        print(p.plot(t[n], u[n], I*np.cos(w*t[n])), '%.1f' % (t[n]/P))\n",
    "        time.sleep(1/float(fps))\n"
   ]
  },
  {
   "cell_type": "markdown",
   "metadata": {},
   "source": [
    "The call `p.plot` returns a line of text, with the $t$ axis marked and\n",
    "a symbol `+` for the first function (`u`) and `o` for the second\n",
    "function (the exact solution). Here we append to this text\n",
    "a time counter reflecting how many periods the current time point\n",
    "corresponds to.\n",
    "\n",
    "The function can be run as follows:"
   ]
  },
  {
   "cell_type": "code",
   "execution_count": 27,
   "metadata": {},
   "outputs": [
    {
     "name": "stdout",
     "output_type": "stream",
     "text": [
      "                              |                        o      0.0\n",
      "                              |                       o+      0.1\n",
      "                              |                   o +         0.1\n",
      "                              |              o  +             0.2\n",
      "                              |       o  +                    0.2\n",
      "                              |   +                           0.2\n",
      "                      o   +   |                               0.3\n",
      "               o  +           |                               0.4\n",
      "          o +                 |                               0.4\n",
      "      o +                     |                               0.5\n",
      "     o                        |                               0.5\n",
      "     +o                       |                               0.6\n",
      "        + o                   |                               0.6\n",
      "             + o              |                               0.7\n",
      "                   +  o       |                               0.7\n",
      "                           +  |                               0.8\n",
      "                              |   +   o                       0.8\n",
      "                              |           +  o                0.9\n",
      "                              |                 + o           0.9\n",
      "                              |                      +o       1.0\n",
      "                              |                        o      1.0\n",
      "                              |                       o+      1.1\n",
      "                              |                   o +         1.1\n",
      "                              |              o +              1.2\n",
      "                              |       o  +                    1.2\n",
      "                              |  +                            1.2\n",
      "                      o  +    |                               1.3\n",
      "               o  +           |                               1.4\n",
      "          o +                 |                               1.4\n",
      "      o+                      |                               1.5\n",
      "     o                        |                               1.5\n",
      "     +o                       |                               1.6\n",
      "        + o                   |                               1.6\n",
      "             + o              |                               1.7\n",
      "                    + o       |                               1.7\n",
      "                           +  |                               1.8\n",
      "                              |    +  o                       1.8\n",
      "                              |           +  o                1.9\n",
      "                              |                  +o           1.9\n",
      "                              |                      +o       2.0\n",
      "                              |                        o      2.0\n",
      "                              |                       o       2.1\n",
      "                              |                   o +         2.1\n",
      "                              |              o +              2.1\n",
      "                              |       o +                     2.2\n",
      "                              | +                             2.2\n",
      "                      o  +    |                               2.3\n",
      "               o +            |                               2.4\n",
      "          o+                  |                               2.4\n",
      "      o+                      |                               2.5\n",
      "     o                        |                               2.5\n",
      "      o                       |                               2.6\n",
      "         +o                   |                               2.6\n",
      "              +o              |                               2.7\n",
      "                    + o       |                               2.7\n",
      "                            + |                               2.8\n",
      "                              |     + o                       2.8\n",
      "                              |            + o                2.9\n",
      "                              |                  +o           2.9\n",
      "                              |                      +o       3.0\n",
      "                              |                        o      3.0\n",
      "                              |                       o       3.1\n",
      "                              |                   o+          3.1\n",
      "                              |              o+               3.2\n",
      "                              |       o+                      3.2\n",
      "                              | +                             3.2\n",
      "                      o +     |                               3.3\n",
      "               o +            |                               3.4\n",
      "          o+                  |                               3.4\n",
      "      o+                      |                               3.5\n",
      "     o                        |                               3.5\n",
      "      o                       |                               3.6\n",
      "         +o                   |                               3.6\n",
      "              +o              |                               3.7\n",
      "                     +o       |                               3.7\n",
      "                             +|                               3.8\n",
      "                              |     + o                       3.8\n",
      "                              |             +o                3.9\n",
      "                              |                  +o           3.9\n",
      "                              |                      +o       4.0\n",
      "                              |                        o      4.0\n",
      "                              |                       o       4.0\n",
      "                              |                   o+          4.1\n",
      "                              |              o+               4.2\n",
      "                              |       o+                      4.2\n",
      "                              |+                              4.2\n",
      "                      o+      |                               4.3\n",
      "               o+             |                               4.4\n",
      "          o                   |                               4.4\n",
      "      o+                      |                               4.5\n",
      "     o                        |                               4.5\n",
      "      o                       |                               4.5\n",
      "         +o                   |                               4.6\n",
      "               o              |                               4.7\n",
      "                     +o       |                               4.7\n",
      "                             +|                               4.8\n",
      "                              |      +o                       4.8\n",
      "                              |             +o                4.9\n",
      "                              |                   o           4.9\n",
      "                              |                       o       5.0\n",
      "                              |                        o      5.0\n"
     ]
    }
   ],
   "source": [
    "visualize_front_ascii(u, t, I, w)"
   ]
  },
  {
   "cell_type": "markdown",
   "metadata": {},
   "source": [
    "## Empirical analysis of the solution\n",
    "<div id=\"vib:ode1:empirical\"></div>\n",
    "\n",
    "\n",
    "For oscillating functions like those in [Figure](#vib:ode1:2dt) we may\n",
    "compute the amplitude and frequency (or period) empirically.\n",
    "That is, we run through the discrete solution points $(t_n, u_n)$ and\n",
    "find all maxima and minima points. The distance between two consecutive\n",
    "maxima (or minima) points can be used as estimate of the local period,\n",
    "while half the difference between the $u$ value at a maximum and a nearby\n",
    "minimum gives an estimate of the local amplitude.\n",
    "\n",
    "The local maxima are the points where"
   ]
  },
  {
   "cell_type": "markdown",
   "metadata": {},
   "source": [
    "<!-- Equation labels as ordinary links -->\n",
    "<div id=\"_auto4\"></div>\n",
    "\n",
    "$$\n",
    "\\begin{equation}\n",
    "u^{n-1} < u^n > u^{n+1},\\quad n=1,\\ldots,N_t-1,\n",
    "% \\label{_auto4}\n",
    "\\tag{14}\n",
    "\\end{equation}\n",
    "$$"
   ]
  },
  {
   "cell_type": "markdown",
   "metadata": {},
   "source": [
    "and the local minima are recognized by"
   ]
  },
  {
   "cell_type": "markdown",
   "metadata": {},
   "source": [
    "<!-- Equation labels as ordinary links -->\n",
    "<div id=\"_auto5\"></div>\n",
    "\n",
    "$$\n",
    "\\begin{equation}\n",
    "u^{n-1} > u^n < u^{n+1},\\quad n=1,\\ldots,N_t-1\n",
    "\\thinspace .\n",
    "\\label{_auto5} \\tag{15}\n",
    "\\end{equation}\n",
    "$$"
   ]
  },
  {
   "cell_type": "markdown",
   "metadata": {},
   "source": [
    "In computer code this becomes"
   ]
  },
  {
   "cell_type": "code",
   "execution_count": 9,
   "metadata": {},
   "outputs": [],
   "source": [
    "# %load -s minmax, src-vib/vib_empirical_analysis.py\n",
    "def minmax(t, u):\n",
    "    \"\"\"\n",
    "    Compute all local minima and maxima of the function u(t),\n",
    "    represented by discrete points in the arrays u and t.\n",
    "    Return lists minima and maxima of (t[i],u[i]) extreme points.\n",
    "    \"\"\"\n",
    "    minima = []; maxima = []\n",
    "    for n in range(1, len(u)-1, 1):\n",
    "        if u[n-1] > u[n] < u[n+1]:\n",
    "            minima.append((t[n], u[n]))\n",
    "        if u[n-1] < u[n] > u[n+1]:\n",
    "            maxima.append((t[n], u[n]))\n",
    "    return minima, maxima\n"
   ]
  },
  {
   "cell_type": "markdown",
   "metadata": {},
   "source": [
    "Note that the two returned objects are lists of tuples.\n",
    "\n",
    "Let $(t_i, e_i)$, $i=0,\\ldots,M-1$, be the sequence of all\n",
    "the $M$ maxima points, where $t_i$\n",
    "is the time value and $e_i$ the corresponding $u$ value.\n",
    "The local period can be defined as $p_i=t_{i+1}-t_i$.\n",
    "With Python syntax this reads"
   ]
  },
  {
   "cell_type": "code",
   "execution_count": 10,
   "metadata": {},
   "outputs": [],
   "source": [
    "# %load -s periods, src-vib/vib_empirical_analysis.py\n",
    "def periods(extrema):\n",
    "    \"\"\"\n",
    "    Given a list of (t,u) points of the maxima or minima,\n",
    "    return an array of the corresponding local periods.\n",
    "    \"\"\"\n",
    "    p = [extrema[n][0] - extrema[n-1][0]\n",
    "         for n in range(1, len(extrema))]\n",
    "    return np.array(p)\n"
   ]
  },
  {
   "cell_type": "markdown",
   "metadata": {},
   "source": [
    "The list `p` created by a list comprehension is converted to an array\n",
    "since we probably want to compute with it, e.g., find the corresponding\n",
    "frequencies `2*pi/p`.\n",
    "\n",
    "Having the minima and the maxima, the local amplitude can be\n",
    "calculated as the difference between two neighboring minimum and\n",
    "maximum points:"
   ]
  },
  {
   "cell_type": "code",
   "execution_count": 11,
   "metadata": {},
   "outputs": [],
   "source": [
    "# %load -s amplitudes, src-vib/vib_empirical_analysis.py\n",
    "def amplitudes(minima, maxima):\n",
    "    \"\"\"\n",
    "    Given a list of (t,u) points of the minima and maxima of\n",
    "    u, return an array of the corresponding local amplitudes.\n",
    "    \"\"\"\n",
    "    # Compare first maxima with first minima and so on\n",
    "    a = [(abs(maxima[n][1] - minima[n][1]))/2.0\n",
    "         for n in range(min(len(minima),len(maxima)))]\n",
    "    return np.array(a)\n"
   ]
  },
  {
   "cell_type": "markdown",
   "metadata": {},
   "source": [
    "The code segments are found in the file [`vib_empirical_analysis.py`](https://github.com/devitocodes/devito_book/blob/master/fdm-devito-notebooks/01_vib/src-vib/vib_empirical_analysis.py).\n",
    "\n",
    "Since `a[i]` and `p[i]` correspond to\n",
    "the $i$-th amplitude estimate and the $i$-th period estimate, respectively,\n",
    "it is most convenient to visualize the `a` and `p` values with the\n",
    "index `i` on the horizontal axis.\n",
    "(There is no unique time point associated with either of these estimate\n",
    "since values at two different time points were used in the\n",
    "computations.)\n",
    "\n",
    "In the analysis of very long time series, it is advantageous to\n",
    "compute and plot `p` and `a` instead of $u$ to get an impression of\n",
    "the development of the oscillations. Let us do this for the scaled\n",
    "problem and $\\Delta t=0.1, 0.05, 0.01$.\n",
    "A ready-made function"
   ]
  },
  {
   "cell_type": "markdown",
   "metadata": {},
   "source": [
    "```python\n",
    "plot_empirical_freq_and_amplitude(u, t, I, w)\n",
    "```"
   ]
  },
  {
   "cell_type": "markdown",
   "metadata": {},
   "source": [
    "computes the empirical amplitudes and periods, and creates a plot\n",
    "where the amplitudes and angular frequencies\n",
    "are visualized together with the exact amplitude `I`\n",
    "and the exact angular frequency `w`. "
   ]
  },
  {
   "cell_type": "code",
   "execution_count": 12,
   "metadata": {},
   "outputs": [],
   "source": [
    "# %load -s plot_empirical_freq_and_amplitude, src-vib/vib_undamped.py\n",
    "def plot_empirical_freq_and_amplitude(u, t, I, w):\n",
    "    \"\"\"\n",
    "    Find the empirical angular frequency and amplitude of\n",
    "    simulations in u and t. u and t can be arrays or (in\n",
    "    the case of multiple simulations) multiple arrays.\n",
    "    One plot is made for the amplitude and one for the angular\n",
    "    frequency (just called frequency in the legends).\n",
    "    \"\"\"\n",
    "    from math import pi\n",
    "    if not isinstance(u, (list,tuple)):\n",
    "        u = [u]\n",
    "        t = [t]\n",
    "    legends1 = []\n",
    "    legends2 = []\n",
    "    for i in range(len(u)):\n",
    "        minima, maxima = minmax(t[i], u[i])\n",
    "        p = periods(maxima)\n",
    "        a = amplitudes(minima, maxima)\n",
    "        plt.figure(1)\n",
    "        plt.plot(range(len(p)), 2*pi/p)\n",
    "        legends1.append('frequency, case%d' % (i+1))\n",
    "        plt.figure(2)\n",
    "        plt.plot(range(len(a)), a)\n",
    "        legends2.append('amplitude, case%d' % (i+1))\n",
    "    plt.figure(1)\n",
    "    plt.plot(range(len(p)), [w]*len(p), 'k--')\n",
    "    legends1.append('exact frequency')\n",
    "    plt.legend(legends1, loc='lower left')\n",
    "    plt.axis([0, len(a)-1, 0.8*w, 1.2*w])\n",
    "    plt.savefig('tmp1.png');  plt.savefig('tmp1.pdf')\n",
    "    plt.figure(2)\n",
    "    plt.plot(range(len(a)), [I]*len(a), 'k--')\n",
    "    legends2.append('exact amplitude')\n",
    "    plt.legend(legends2, loc='lower left')\n",
    "    plt.axis([0, len(a)-1, 0.8*I, 1.2*I])\n",
    "    plt.savefig('tmp2.png');  plt.savefig('tmp2.pdf')\n",
    "    plt.show()\n"
   ]
  },
  {
   "cell_type": "markdown",
   "metadata": {},
   "source": [
    "We can make a little program\n",
    "for creating the plot:"
   ]
  },
  {
   "cell_type": "code",
   "execution_count": 14,
   "metadata": {},
   "outputs": [
    {
     "name": "stderr",
     "output_type": "stream",
     "text": [
      "Operator `Kernel` run in 0.01 s\n",
      "Operator `Kernel` run in 0.01 s\n",
      "Operator `Kernel` run in 0.01 s\n"
     ]
    },
    {
     "data": {
      "image/png": "[encoded data removed]",
      "text/plain": [
       "<Figure size 432x288 with 1 Axes>"
      ]
     },
     "metadata": {
      "needs_background": "light"
     },
     "output_type": "display_data"
    },
    {
     "data": {
      "image/png": "[encoded data removed]",
      "text/plain": [
       "<Figure size 432x288 with 1 Axes>"
      ]
     },
     "metadata": {
      "needs_background": "light"
     },
     "output_type": "display_data"
    }
   ],
   "source": [
    "# NBVAL_IGNORE_OUTPUT\n",
    "from math import pi\n",
    "dt_values = [0.1, 0.05, 0.01]\n",
    "u_cases = []\n",
    "t_cases = []\n",
    "for dt in dt_values:\n",
    "    # Simulate scaled problem for 40 periods\n",
    "    u, t = solver(I=1, w=2*pi, dt=dt, T=40)\n",
    "    u_cases.append(u)\n",
    "    t_cases.append(t)\n",
    "plot_empirical_freq_and_amplitude(u_cases, t_cases, I=1, w=2*pi)\n"
   ]
  },
  {
   "cell_type": "markdown",
   "metadata": {},
   "source": [
    "Empirical angular frequency (top) and amplitude (bottom) for three different time steps.\n",
    "\n",
    "We can clearly see that\n",
    "lowering $\\Delta t$ improves the angular frequency significantly, while the\n",
    "amplitude seems to be more accurate.\n",
    "The lines with\n",
    "$\\Delta t=0.01$, corresponding to 100 steps per period, can hardly be\n",
    "distinguished from the exact values. The next section shows how we\n",
    "can get mathematical insight into why amplitudes are good while frequencies\n",
    "are more inaccurate."
   ]
  },
  {
   "cell_type": "markdown",
   "metadata": {},
   "source": [
    "# Analysis of the numerical scheme\n",
    "<div id=\"vib:ode1:analysis\"></div>\n",
    "\n",
    "## Deriving a solution of the numerical scheme\n",
    "<div id=\"vib:ode1:analysis:solderiv\"></div>\n",
    "\n",
    "After having seen the phase error grow with time in the previous\n",
    "section, we shall now quantify this error through mathematical\n",
    "analysis.  The key tool in the analysis will be to establish an exact\n",
    "solution of the discrete equations.  The difference equation\n",
    "([7](#vib:ode1:step4)) has constant coefficients and is\n",
    "homogeneous. Such equations are known to have solutions on the form\n",
    "$u^n=CA^n$, where $A$ is some number\n",
    "to be determined from the difference equation and $C$ is found as the\n",
    "initial condition ($C=I$).  Recall that $n$ in $u^n$ is a\n",
    "superscript labeling the time level, while $n$ in $A^n$ is an\n",
    "exponent.\n",
    "\n",
    "With oscillating functions as solutions, the algebra will\n",
    "be considerably simplified if we seek an $A$ on the form"
   ]
  },
  {
   "cell_type": "markdown",
   "metadata": {},
   "source": [
    "$$\n",
    "A=e^{i\\tilde\\omega \\Delta t},\n",
    "$$"
   ]
  },
  {
   "cell_type": "markdown",
   "metadata": {},
   "source": [
    "and solve for the numerical frequency $\\tilde\\omega$ rather than\n",
    "$A$. Note that $i=\\sqrt{-1}$ is the imaginary unit. (Using a\n",
    "complex exponential function gives simpler arithmetics than working\n",
    "with a sine or cosine function.)\n",
    "We have"
   ]
  },
  {
   "cell_type": "markdown",
   "metadata": {},
   "source": [
    "$$\n",
    "A^n = e^{i\\tilde\\omega \\Delta t\\, n}=e^{i\\tilde\\omega t_n} =\n",
    "\\cos (\\tilde\\omega t_n) + i\\sin(\\tilde \\omega t_n)\n",
    "\\thinspace .\n",
    "$$"
   ]
  },
  {
   "cell_type": "markdown",
   "metadata": {},
   "source": [
    "The physically relevant numerical solution can\n",
    "be taken as the real part of this complex expression.\n",
    "\n",
    "The calculations go as"
   ]
  },
  {
   "cell_type": "markdown",
   "metadata": {},
   "source": [
    "$$\n",
    "\\begin{align*}\n",
    "[D_tD_t u]^n &= \\frac{u^{n+1} - 2u^n + u^{n-1}}{\\Delta t^2}\\\\ \n",
    "&= I\\frac{A^{n+1} - 2A^n + A^{n-1}}{\\Delta t^2}\\\\ \n",
    "&= \\frac{I}{\\Delta t^{2}}(e^{i\\tilde\\omega(t_n+\\Delta t)} - 2e^{i\\tilde\\omega t_n} + e^{i\\tilde\\omega(t_n-\\Delta t)})\\\\ \n",
    "&= Ie^{i\\tilde\\omega t_n}\\frac{1}{\\Delta t^2}\\left(e^{i\\tilde\\omega\\Delta t} + e^{i\\tilde\\omega(-\\Delta t)} - 2\\right)\\\\ \n",
    "&= Ie^{i\\tilde\\omega t_n}\\frac{2}{\\Delta t^2}\\left(\\cosh(i\\tilde\\omega\\Delta t) -1 \\right)\\\\ \n",
    "&= Ie^{i\\tilde\\omega t_n}\\frac{2}{\\Delta t^2}\\left(\\cos(\\tilde\\omega\\Delta t) -1 \\right)\\\\ \n",
    "&= -Ie^{i\\tilde\\omega t_n}\\frac{4}{\\Delta t^2}\\sin^2(\\frac{\\tilde\\omega\\Delta t}{2})\n",
    "\\end{align*}\n",
    "$$"
   ]
  },
  {
   "cell_type": "markdown",
   "metadata": {},
   "source": [
    "The last line follows from the relation\n",
    "$\\cos x - 1 = -2\\sin^2(x/2)$ (try `cos(x)-1` on\n",
    "[wolframalpha.com](http://www.wolframalpha.com) to see the formula).\n",
    "\n",
    "The scheme ([7](#vib:ode1:step4))\n",
    "with $u^n=Ie^{i\\tilde\\omega\\Delta t\\, n}$ inserted now gives"
   ]
  },
  {
   "cell_type": "markdown",
   "metadata": {},
   "source": [
    "<!-- Equation labels as ordinary links -->\n",
    "<div id=\"_auto6\"></div>\n",
    "\n",
    "$$\n",
    "\\begin{equation}\n",
    "-Ie^{i\\tilde\\omega t_n}\n",
    "\\frac{4}{\\Delta t^2}\\sin^2(\\frac{\\tilde\\omega\\Delta t}{2})\n",
    "+ \\omega^2 Ie^{i\\tilde\\omega t_n} = 0,\n",
    "\\label{_auto6} \\tag{16}\n",
    "\\end{equation}\n",
    "$$"
   ]
  },
  {
   "cell_type": "markdown",
   "metadata": {},
   "source": [
    "which after dividing by $Ie^{i\\tilde\\omega t_n}$ results in"
   ]
  },
  {
   "cell_type": "markdown",
   "metadata": {},
   "source": [
    "<!-- Equation labels as ordinary links -->\n",
    "<div id=\"_auto7\"></div>\n",
    "\n",
    "$$\n",
    "\\begin{equation}\n",
    "\\frac{4}{\\Delta t^2}\\sin^2(\\frac{\\tilde\\omega\\Delta t}{2}) = \\omega^2\n",
    "\\thinspace .\n",
    "\\label{_auto7} \\tag{17}\n",
    "\\end{equation}\n",
    "$$"
   ]
  },
  {
   "cell_type": "markdown",
   "metadata": {},
   "source": [
    "The first step in solving for the unknown $\\tilde\\omega$ is"
   ]
  },
  {
   "cell_type": "markdown",
   "metadata": {},
   "source": [
    "$$\n",
    "\\sin^2(\\frac{\\tilde\\omega\\Delta t}{2}) = \\left(\\frac{\\omega\\Delta t}{2}\\right)^2\n",
    "\\thinspace .\n",
    "$$"
   ]
  },
  {
   "cell_type": "markdown",
   "metadata": {},
   "source": [
    "Then, taking the square root, applying the inverse sine function, and\n",
    "multiplying by $2/\\Delta t$, results in"
   ]
  },
  {
   "cell_type": "markdown",
   "metadata": {},
   "source": [
    "<!-- Equation labels as ordinary links -->\n",
    "<div id=\"vib:ode1:tildeomega\"></div>\n",
    "\n",
    "$$\n",
    "\\begin{equation}\n",
    "\\tilde\\omega = \\pm \\frac{2}{\\Delta t}\\sin^{-1}\\left(\\frac{\\omega\\Delta t}{2}\\right)\n",
    "\\thinspace .\n",
    "\\label{vib:ode1:tildeomega} \\tag{18}\n",
    "\\end{equation}\n",
    "$$"
   ]
  },
  {
   "cell_type": "markdown",
   "metadata": {},
   "source": [
    "## The error in the numerical frequency\n",
    "<div id=\"vib:ode1:analysis:numfreq\"></div>\n",
    "\n",
    "\n",
    "The first observation following ([18](#vib:ode1:tildeomega)) tells that there\n",
    "is a phase error since the numerical frequency $\\tilde\\omega$ never\n",
    "equals the exact frequency $\\omega$. But how good is the approximation\n",
    "([18](#vib:ode1:tildeomega))? That is, what is the error $\\omega -\n",
    "\\tilde\\omega$ or $\\tilde\\omega/\\omega$?  Taylor series expansion for\n",
    "small $\\Delta t$ may give an expression that is easier to understand\n",
    "than the complicated function in ([18](#vib:ode1:tildeomega)):"
   ]
  },
  {
   "cell_type": "code",
   "execution_count": 33,
   "metadata": {},
   "outputs": [
    {
     "name": "stdout",
     "output_type": "stream",
     "text": [
      "w + dt**2*w**3/24 + O(dt**4)\n"
     ]
    }
   ],
   "source": [
    "from sympy import *\n",
    "dt, w = symbols('dt w')\n",
    "w_tilde_e = 2/dt*asin(w*dt/2)\n",
    "w_tilde_series = w_tilde_e.series(dt, 0, 4)\n",
    "print(w_tilde_series)"
   ]
  },
  {
   "cell_type": "markdown",
   "metadata": {},
   "source": [
    "This means that\n",
    "\n",
    "<!-- See vib_symbolic.py for computations with sympy -->"
   ]
  },
  {
   "cell_type": "markdown",
   "metadata": {},
   "source": [
    "<!-- Equation labels as ordinary links -->\n",
    "<div id=\"vib:ode1:tildeomega:series\"></div>\n",
    "\n",
    "$$\n",
    "\\begin{equation}\n",
    "\\tilde\\omega = \\omega\\left( 1 + \\frac{1}{24}\\omega^2\\Delta t^2\\right)\n",
    "+ \\mathcal{O}({\\Delta t^4})\n",
    "\\thinspace .\n",
    "\\label{vib:ode1:tildeomega:series} \\tag{19}\n",
    "\\end{equation}\n",
    "$$"
   ]
  },
  {
   "cell_type": "markdown",
   "metadata": {},
   "source": [
    "The error in the numerical frequency is of second-order in $\\Delta t$,\n",
    "and the error vanishes as $\\Delta t\\rightarrow 0$.  We see that\n",
    "$\\tilde\\omega > \\omega$ since the term $\\omega^3\\Delta t^2/24 >0$ and\n",
    "this is by far the biggest term in the series expansion for small\n",
    "$\\omega\\Delta t$. A numerical frequency that is too large gives an\n",
    "oscillating curve that oscillates too fast and therefore \"lags\n",
    "behind\" the exact oscillations, a feature that can be seen in the\n",
    "left plot in [Figure](#vib:ode1:2dt).\n",
    "\n",
    "[Figure](#vib:ode1:tildeomega:plot) plots the discrete frequency\n",
    "([18](#vib:ode1:tildeomega)) and its approximation\n",
    "([19](#vib:ode1:tildeomega:series)) for $\\omega =1$ (based on the\n",
    "program [`vib_plot_freq.py`](https://github.com/devitocodes/devito_book/blob/master/fdm-devito-notebooks/01_vib/src-vib/vib_plot_freq.py)).\n",
    "Although $\\tilde\\omega$ is a function of $\\Delta t$ in\n",
    "([19](#vib:ode1:tildeomega:series)), it is misleading to think of\n",
    "$\\Delta t$ as the important discretization parameter. mathcal{I}_t is the\n",
    "product $\\omega\\Delta t$ that is the key discretization\n",
    "parameter. This quantity reflects the *number of time steps per\n",
    "period* of the oscillations.  To see this, we set $P=N_P\\Delta t$,\n",
    "where $P$ is the length of a period, and $N_P$ is the number of time\n",
    "steps during a period.  Since $P$ and $\\omega$ are related by\n",
    "$P=2\\pi/\\omega$, we get that $\\omega\\Delta t = 2\\pi/N_P$, which shows\n",
    "that $\\omega\\Delta t$ is directly related to $N_P$.\n",
    "\n",
    "The plot shows that at least $N_P\\sim 25-30$ points per period are\n",
    "necessary for reasonable accuracy, but this depends on the length of\n",
    "the simulation ($T$) as the total phase error due to the frequency\n",
    "error grows linearly with time (see [Exercise 2: Show linear growth of the phase with time](#vib:exer:phase:err:growth)).\n",
    "\n",
    "<!-- dom:FIGURE: [fig-vib/discrete_freq.png, width=400] Exact discrete frequency and its second-order series expansion. <div id=\"vib:ode1:tildeomega:plot\"></div> -->\n",
    "<!-- begin figure -->\n",
    "<div id=\"vib:ode1:tildeomega:plot\"></div>\n",
    "\n",
    "<p>Exact discrete frequency and its second-order series expansion.</p>\n",
    "<img src=\"fig-vib/discrete_freq.png\" width=400>\n",
    "\n",
    "<!-- end figure -->\n",
    "\n",
    "\n",
    "\n",
    "## Empirical convergence rates and adjusted $\\omega$\n",
    "\n",
    "The expression ([19](#vib:ode1:tildeomega:series)) suggests that\n",
    "adjusting omega to"
   ]
  },
  {
   "cell_type": "markdown",
   "metadata": {},
   "source": [
    "$$\n",
    "\\omega\\left( 1 - \\frac{1}{24}\\omega^2\\Delta t^2\\right),\n",
    "$$"
   ]
  },
  {
   "cell_type": "markdown",
   "metadata": {},
   "source": [
    "could have effect on the *convergence rate* of the global error in $u$\n",
    "(cf. the section [Verification](#vib:ode1:verify)). With the `convergence_rates` function\n",
    "in `vib_undamped.py` we can easily check this. A special solver, with\n",
    "adjusted $w$, is available as the function `solver_adjust_w`. A\n",
    "call to `convergence_rates` with this solver reveals that the rate is\n",
    "4.0! With the original, physical $\\omega$ the rate is 2.0  - as expected\n",
    "from using second-order finite difference approximations,\n",
    "as expected from the forthcoming derivation of the global error,\n",
    "and as expected from truncation error analysis as explained in the [truncation error analysis](../B_trunc/trunc.ipynb#trunc:vib:undamped) section.\n",
    "\n",
    "Adjusting $\\omega$ is an ideal trick for this simple problem, but when\n",
    "adding damping and nonlinear terms, we have no simple formula for the\n",
    "impact on $\\omega$, and therefore we cannot use the trick.\n",
    "\n",
    "## Exact discrete solution\n",
    "<div id=\"vib:ode1:analysis:sol\"></div>\n",
    "\n",
    "\n",
    "Perhaps more important than the $\\tilde\\omega = \\omega + {\\cal O}(\\Delta t^2)$\n",
    "result found above is the fact that we have an exact discrete solution of\n",
    "the problem:"
   ]
  },
  {
   "cell_type": "markdown",
   "metadata": {},
   "source": [
    "<!-- Equation labels as ordinary links -->\n",
    "<div id=\"vib:ode1:un:exact\"></div>\n",
    "\n",
    "$$\n",
    "\\begin{equation}\n",
    "u^n = I\\cos\\left(\\tilde\\omega n\\Delta t\\right),\\quad\n",
    "\\tilde\\omega = \\frac{2}{\\Delta t}\\sin^{-1}\\left(\\frac{\\omega\\Delta t}{2}\\right)\n",
    "\\thinspace .\n",
    "\\label{vib:ode1:un:exact} \\tag{20}\n",
    "\\end{equation}\n",
    "$$"
   ]
  },
  {
   "cell_type": "markdown",
   "metadata": {},
   "source": [
    "We can then compute the error mesh function"
   ]
  },
  {
   "cell_type": "markdown",
   "metadata": {},
   "source": [
    "<!-- Equation labels as ordinary links -->\n",
    "<div id=\"vib:ode1:en\"></div>\n",
    "\n",
    "$$\n",
    "\\begin{equation}\n",
    "e^n = u(t_n) - u^n =\n",
    "I\\cos\\left(\\omega n\\Delta t\\right) - I\\cos\\left(\\tilde\\omega n\\Delta t\\right)\\thinspace .\n",
    "\\label{vib:ode1:en} \\tag{21}\n",
    "\\end{equation}\n",
    "$$"
   ]
  },
  {
   "cell_type": "markdown",
   "metadata": {},
   "source": [
    "From the formula $\\cos 2x - \\cos 2y = -2\\sin(x-y)\\sin(x+y)$ we can\n",
    "rewrite $e^n$ so the expression is easier to interpret:"
   ]
  },
  {
   "cell_type": "markdown",
   "metadata": {},
   "source": [
    "<!-- Equation labels as ordinary links -->\n",
    "<div id=\"vib:ode1:en2\"></div>\n",
    "\n",
    "$$\n",
    "\\begin{equation}\n",
    "e^n = -2I\\sin\\left(t\\frac{1}{2}\\left( \\omega - \\tilde\\omega\\right)\\right)\n",
    "\\sin\\left(t\\frac{1}{2}\\left( \\omega + \\tilde\\omega\\right)\\right)\\thinspace .\n",
    "\\label{vib:ode1:en2} \\tag{22}\n",
    "\\end{equation}\n",
    "$$"
   ]
  },
  {
   "cell_type": "markdown",
   "metadata": {},
   "source": [
    "The error mesh function is ideal for verification purposes and you are\n",
    "strongly encouraged to make a test based on ([20](#vib:ode1:un:exact))\n",
    "by doing [Exercise 11: Use an exact discrete solution for verification](#vib:exer:discrete:omega).\n",
    "\n",
    "\n",
    "## Convergence\n",
    "<div id=\"vib:ode1:analysis:conv\"></div>\n",
    "\n",
    "\n",
    "We can use ([19](#vib:ode1:tildeomega:series)) and ([21](#vib:ode1:en)), or\n",
    "([22](#vib:ode1:en2)), to show *convergence* of the numerical scheme,\n",
    "i.e., $e^n\\rightarrow 0$ as $\\Delta t\\rightarrow 0$, which implies\n",
    "that the numerical solution approaches the exact solution as $\\Delta\n",
    "t$ approaches to zero.  We have that"
   ]
  },
  {
   "cell_type": "markdown",
   "metadata": {},
   "source": [
    "$$\n",
    "\\lim_{\\Delta t\\rightarrow 0}\n",
    "\\tilde\\omega = \\lim_{\\Delta t\\rightarrow 0}\n",
    "\\frac{2}{\\Delta t}\\sin^{-1}\\left(\\frac{\\omega\\Delta t}{2}\\right)\n",
    "= \\omega,\n",
    "$$"
   ]
  },
  {
   "cell_type": "markdown",
   "metadata": {},
   "source": [
    "by L'Hopital's rule. This result could also been computed [WolframAlpha](http://www.wolframalpha.com/input/?i=%282%2Fx%29*asin%28w*x%2F2%29+as+x-%3E0), or\n",
    "we could use the limit functionality in `sympy`:"
   ]
  },
  {
   "cell_type": "code",
   "execution_count": 34,
   "metadata": {},
   "outputs": [
    {
     "data": {
      "text/latex": [
       "$\\displaystyle w$"
      ],
      "text/plain": [
       "w"
      ]
     },
     "execution_count": 34,
     "metadata": {},
     "output_type": "execute_result"
    }
   ],
   "source": [
    "import sympy as sym\n",
    "dt, w = sym.symbols('x w')\n",
    "sym.limit((2/dt)*sym.asin(w*dt/2), dt, 0, dir='+')"
   ]
  },
  {
   "cell_type": "markdown",
   "metadata": {},
   "source": [
    "Also ([19](#vib:ode1:tildeomega:series)) can be used to establish\n",
    "that $\\tilde\\omega\\rightarrow\\omega$ when $\\Delta t\\rightarrow 0$.\n",
    "mathcal{I}_t then follows from the expression(s) for $e^n$ that $e^n\\rightarrow 0$.\n",
    "\n",
    "## The global error\n",
    "\n",
    "\n",
    "To achieve more analytical insight into the nature of the global\n",
    "error, we can Taylor expand the error mesh function\n",
    "([21](#vib:ode1:en)).  Since $\\tilde\\omega$ in\n",
    "([18](#vib:ode1:tildeomega)) contains $\\Delta t$ in the denominator we\n",
    "use the series expansion for $\\tilde\\omega$ inside the cosine\n",
    "function. A relevant `sympy` session is"
   ]
  },
  {
   "cell_type": "code",
   "execution_count": 35,
   "metadata": {},
   "outputs": [
    {
     "data": {
      "text/latex": [
       "$\\displaystyle w + \\frac{dt^{2} w^{3}}{24} + O\\left(dt^{4}\\right)$"
      ],
      "text/plain": [
       "w + dt**2*w**3/24 + O(dt**4)"
      ]
     },
     "execution_count": 35,
     "metadata": {},
     "output_type": "execute_result"
    }
   ],
   "source": [
    "from sympy import *\n",
    "dt, w, t = symbols('dt w t')\n",
    "w_tilde_e = 2/dt*asin(w*dt/2)\n",
    "w_tilde_series = w_tilde_e.series(dt, 0, 4)\n",
    "w_tilde_series"
   ]
  },
  {
   "cell_type": "markdown",
   "metadata": {},
   "source": [
    "Series expansions in `sympy` have the inconvenient `O()` term that\n",
    "prevents further calculations with the series. We can use the\n",
    "`removeO()` command to get rid of the `O()` term:"
   ]
  },
  {
   "cell_type": "code",
   "execution_count": 36,
   "metadata": {},
   "outputs": [
    {
     "data": {
      "text/latex": [
       "$\\displaystyle \\frac{dt^{2} w^{3}}{24} + w$"
      ],
      "text/plain": [
       "dt**2*w**3/24 + w"
      ]
     },
     "execution_count": 36,
     "metadata": {},
     "output_type": "execute_result"
    }
   ],
   "source": [
    "w_tilde_series = w_tilde_series.removeO()\n",
    "w_tilde_series"
   ]
  },
  {
   "cell_type": "markdown",
   "metadata": {},
   "source": [
    "Using this `w_tilde_series` expression for $\\tilde w$ in\n",
    "([21](#vib:ode1:en)), dropping $I$ (which is a common factor), and\n",
    "performing a series expansion of the error yields"
   ]
  },
  {
   "cell_type": "code",
   "execution_count": 37,
   "metadata": {},
   "outputs": [
    {
     "data": {
      "text/latex": [
       "$\\displaystyle \\frac{dt^{2} t w^{3} \\sin{\\left(t w \\right)}}{24} + \\frac{dt^{4} t^{2} w^{6} \\cos{\\left(t w \\right)}}{1152} + O\\left(dt^{6}\\right)$"
      ],
      "text/plain": [
       "dt**2*t*w**3*sin(t*w)/24 + dt**4*t**2*w**6*cos(t*w)/1152 + O(dt**6)"
      ]
     },
     "execution_count": 37,
     "metadata": {},
     "output_type": "execute_result"
    }
   ],
   "source": [
    "error = cos(w*t) - cos(w_tilde_series*t)\n",
    "error.series(dt, 0, 6)"
   ]
  },
  {
   "cell_type": "markdown",
   "metadata": {},
   "source": [
    "Since we are mainly interested in the leading-order term in\n",
    "such expansions (the term with lowest power in $\\Delta t$, which\n",
    "goes most slowly to zero), we use the `.as_leading_term(dt)`\n",
    "construction to pick out this term:"
   ]
  },
  {
   "cell_type": "code",
   "execution_count": 38,
   "metadata": {},
   "outputs": [
    {
     "data": {
      "text/latex": [
       "$\\displaystyle \\frac{dt^{2} t w^{3} \\sin{\\left(t w \\right)}}{24}$"
      ],
      "text/plain": [
       "dt**2*t*w**3*sin(t*w)/24"
      ]
     },
     "execution_count": 38,
     "metadata": {},
     "output_type": "execute_result"
    }
   ],
   "source": [
    "error.series(dt, 0, 6).as_leading_term(dt)"
   ]
  },
  {
   "cell_type": "markdown",
   "metadata": {},
   "source": [
    "The last result\n",
    "means that the leading order global (true) error at a point $t$\n",
    "is proportional to $\\omega^3t\\Delta t^2$. Considering only the\n",
    "discrete $t_n$ values for $t$, $t_n$ is related\n",
    "to $\\Delta t$ through $t_n=n\\Delta t$. The factor\n",
    "$\\sin(\\omega t)$ can at most be 1, so we use this value to\n",
    "bound the leading-order expression to its maximum value"
   ]
  },
  {
   "cell_type": "markdown",
   "metadata": {},
   "source": [
    "$$\n",
    "e^n = \\frac{1}{24}n\\omega^3\\Delta t^3\\thinspace .\n",
    "$$"
   ]
  },
  {
   "cell_type": "markdown",
   "metadata": {},
   "source": [
    "This is the dominating term of the error *at a point*.\n",
    "\n",
    "We are interested in the accumulated global error, which can be taken\n",
    "as the $\\ell^2$ norm of $e^n$.  The norm is simply computed by summing\n",
    "contributions from all mesh points:"
   ]
  },
  {
   "cell_type": "markdown",
   "metadata": {},
   "source": [
    "$$\n",
    "||e^n||_{\\ell^2}^2 = \\Delta t\\sum_{n=0}^{N_t} \\frac{1}{24^2}n^2\\omega^6\\Delta t^6\n",
    "=\\frac{1}{24^2}\\omega^6\\Delta t^7 \\sum_{n=0}^{N_t} n^2\\thinspace .\n",
    "$$"
   ]
  },
  {
   "cell_type": "markdown",
   "metadata": {},
   "source": [
    "The sum $\\sum_{n=0}^{N_t} n^2$ is approximately equal to\n",
    "$\\frac{1}{3}N_t^3$. Replacing $N_t$ by $T/\\Delta t$ and taking\n",
    "the square root gives the expression"
   ]
  },
  {
   "cell_type": "markdown",
   "metadata": {},
   "source": [
    "$$\n",
    "||e^n||_{\\ell^2} = \\frac{1}{24}\\sqrt{\\frac{T^3}{3}}\\omega^3\\Delta t^2\\thinspace .\n",
    "$$"
   ]
  },
  {
   "cell_type": "markdown",
   "metadata": {},
   "source": [
    "This is our expression for the global (or integrated) error.\n",
    "A primary result from this expression is that the global error\n",
    "is proportional to $\\Delta t^2$.\n",
    "\n",
    "\n",
    "## Stability\n",
    "\n",
    "Looking at ([20](#vib:ode1:un:exact)), it appears that the numerical\n",
    "solution has constant and correct amplitude, but an error in the\n",
    "angular frequency. A constant amplitude is not necessarily the case,\n",
    "however! To see this, note that if only $\\Delta t$ is large enough,\n",
    "the magnitude of the argument to $\\sin^{-1}$ in\n",
    "([18](#vib:ode1:tildeomega)) may be larger than 1, i.e., $\\omega\\Delta\n",
    "t/2 > 1$. In this case, $\\sin^{-1}(\\omega\\Delta t/2)$ has a complex\n",
    "value and therefore $\\tilde\\omega$ becomes complex.  Type, for\n",
    "example, `asin(x)` in [wolframalpha.com](http://www.wolframalpha.com) to see basic properties of $\\sin^{-1}\n",
    "(x)$).\n",
    "\n",
    "A complex $\\tilde\\omega$ can be written $\\tilde\\omega = \\tilde\\omega_r\n",
    "+ i\\tilde\\omega_i$. Since $\\sin^{-1}(x)$ has a *negative* imaginary\n",
    "part for $x>1$, $\\tilde\\omega_i < 0$, which means that\n",
    "$e^{i\\tilde\\omega t}=e^{-\\tilde\\omega_i t}e^{i\\tilde\\omega_r t}$ will\n",
    "lead to exponential growth in time because $e^{-\\tilde\\omega_i t}$\n",
    "with $\\tilde\\omega_i <0$ has a positive exponent.\n",
    "\n",
    "\n",
    "**Stability criterion.**\n",
    "\n",
    "We do not tolerate growth in the amplitude since such growth is not\n",
    "present in the exact solution. Therefore, we\n",
    "must impose a *stability criterion* so that\n",
    "the argument in the inverse sine function leads\n",
    "to real and not complex values of $\\tilde\\omega$. The stability\n",
    "criterion reads"
   ]
  },
  {
   "cell_type": "markdown",
   "metadata": {},
   "source": [
    "<!-- Equation labels as ordinary links -->\n",
    "<div id=\"_auto8\"></div>\n",
    "\n",
    "$$\n",
    "\\begin{equation}\n",
    "\\frac{\\omega\\Delta t}{2} \\leq 1\\quad\\Rightarrow\\quad\n",
    "\\Delta t \\leq \\frac{2}{\\omega}\n",
    "\\thinspace .\n",
    "\\label{_auto8} \\tag{23}\n",
    "\\end{equation}\n",
    "$$"
   ]
  },
  {
   "cell_type": "markdown",
   "metadata": {},
   "source": [
    "With $\\omega =2\\pi$, $\\Delta t > \\pi^{-1} = 0.3183098861837907$ will give\n",
    "growing solutions. [Figure](#vib:ode1:dt:unstable)\n",
    "displays what happens when $\\Delta t =0.3184$,\n",
    "which is slightly above the critical value: $\\Delta t =\\pi^{-1} + 9.01\\cdot\n",
    "10^{-5}$.\n",
    "\n",
    "<!-- dom:FIGURE: [fig-vib/vib_unstable.png, width=400] Growing, unstable solution because of a time step slightly beyond the stability limit. <div id=\"vib:ode1:dt:unstable\"></div> -->\n",
    "<!-- begin figure -->\n",
    "<div id=\"vib:ode1:dt:unstable\"></div>\n",
    "\n",
    "<p>Growing, unstable solution because of a time step slightly beyond the stability limit.</p>\n",
    "<img src=\"fig-vib/vib_unstable.png\" width=400>\n",
    "\n",
    "<!-- end figure -->\n",
    "\n",
    "\n",
    "## About the accuracy at the stability limit\n",
    "\n",
    "An interesting question is whether the stability condition $\\Delta t <\n",
    "2/\\omega$ is unfortunate, or more precisely: would it be meaningful to\n",
    "take larger time steps to speed up computations?  The answer is a\n",
    "clear no. At the stability limit, we have that $\\sin^{-1}\\omega\\Delta\n",
    "t/2 = \\sin^{-1} 1 = \\pi/2$, and therefore $\\tilde\\omega = \\pi/\\Delta\n",
    "t$. (Note that the approximate formula\n",
    "([19](#vib:ode1:tildeomega:series)) is very inaccurate for this value of\n",
    "$\\Delta t$ as it predicts $\\tilde\\omega = 2.34/pi$, which is a 25\n",
    "percent reduction.) The corresponding period of the numerical solution\n",
    "is $\\tilde P=2\\pi/\\tilde\\omega = 2\\Delta t$, which means that there is\n",
    "just one time step $\\Delta t$ between a peak (maximum) and a\n",
    "[through](https://simple.wikipedia.org/wiki/Wave_(physics))\n",
    "(minimum) in the numerical solution. This is the shortest possible\n",
    "wave that can be represented in the mesh! In other words, it is not\n",
    "meaningful to use a larger time step than the stability limit.\n",
    "\n",
    "Also, the error in angular frequency when $\\Delta t = 2/\\omega$ is\n",
    "severe: [Figure](#vib:ode1:dt:stablimit) shows a comparison of the\n",
    "numerical and analytical solution with $\\omega = 2\\pi$ and $\\Delta t =\n",
    "2/\\omega = \\pi^{-1}$. Already after one period, the numerical solution\n",
    "has a through while the exact solution has a peak (!).  The error in\n",
    "frequency when $\\Delta t$ is at the stability limit becomes $\\omega -\n",
    "\\tilde\\omega = \\omega(1-\\pi/2)\\approx -0.57\\omega$.  The corresponding\n",
    "error in the period is $P - \\tilde P \\approx 0.36P$.  The error after\n",
    "$m$ periods is then $0.36mP$. This error has reached half a period\n",
    "when $m=1/(2\\cdot 0.36)\\approx 1.38$, which theoretically confirms the\n",
    "observations in [Figure](#vib:ode1:dt:stablimit) that the numerical\n",
    "solution is a through ahead of a peak already after one and a half\n",
    "period. Consequently, $\\Delta t$ should be chosen much less than the\n",
    "stability limit to achieve meaningful numerical computations.\n",
    "\n",
    "<!-- dom:FIGURE: [fig-vib/vib_stability_limit.png, width=400] Numerical solution with $\\Delta t$ exactly at the stability limit. <div id=\"vib:ode1:dt:stablimit\"></div> -->\n",
    "<!-- begin figure -->\n",
    "<div id=\"vib:ode1:dt:stablimit\"></div>\n",
    "\n",
    "<p>Numerical solution with $\\Delta t$ exactly at the stability limit.</p>\n",
    "<img src=\"fig-vib/vib_stability_limit.png\" width=400>\n",
    "\n",
    "<!-- end figure -->\n",
    "\n",
    "\n",
    "\n",
    "**Summary.**\n",
    "\n",
    "From the accuracy and stability\n",
    "analysis we can draw three important conclusions:\n",
    "\n",
    "1. The key parameter in the formulas is $p=\\omega\\Delta t$.\n",
    "   The period of oscillations is $P=2\\pi/\\omega$, and the\n",
    "   number of time steps per period is $N_P=P/\\Delta t$.\n",
    "   Therefore, $p=\\omega\\Delta t = 2\\pi/N_P$, showing that the\n",
    "   critical parameter is the number of time steps per period.\n",
    "   The smallest possible $N_P$ is 2, showing that $p\\in (0,\\pi]$.\n",
    "\n",
    "2. Provided $p\\leq 2$, the amplitude of the numerical solution is\n",
    "   constant.\n",
    "\n",
    "3. The ratio of the numerical angular frequency and the exact\n",
    "   one is\n",
    "   $\\tilde\\omega/\\omega \\approx 1 + \\frac{1}{24}p^2$.\n",
    "   The error $\\frac{1}{24}p^2$ leads to wrongly displaced peaks of the numerical\n",
    "   solution, and the error in peak location grows linearly with time\n",
    "   (see [Exercise 2: Show linear growth of the phase with time](#vib:exer:phase:err:growth)).\n",
    "\n",
    "\n",
    "\n",
    "\n",
    "# Alternative schemes based on 1st-order equations\n",
    "<div id=\"vib:model2x2\"></div>\n",
    "\n",
    "\n",
    "A standard technique for solving second-order ODEs is to rewrite them\n",
    "as a system of first-order ODEs and then choose a solution strategy\n",
    "from the vast collection of methods for first-order ODE systems.\n",
    "Given the second-order ODE problem"
   ]
  },
  {
   "cell_type": "markdown",
   "metadata": {},
   "source": [
    "$$\n",
    "u^{\\prime\\prime} + \\omega^2 u = 0,\\quad u(0)=I,\\ u^{\\prime}(0)=0,\n",
    "$$"
   ]
  },
  {
   "cell_type": "markdown",
   "metadata": {},
   "source": [
    "we introduce the auxiliary variable $v=u^{\\prime}$ and express the ODE problem\n",
    "in terms of first-order derivatives of $u$ and $v$:"
   ]
  },
  {
   "cell_type": "markdown",
   "metadata": {},
   "source": [
    "<!-- Equation labels as ordinary links -->\n",
    "<div id=\"vib:model2x2:ueq\"></div>\n",
    "\n",
    "$$\n",
    "\\begin{equation}\n",
    "u^{\\prime} = v,\n",
    "\\label{vib:model2x2:ueq} \\tag{24}\n",
    "\\end{equation}\n",
    "$$"
   ]
  },
  {
   "cell_type": "markdown",
   "metadata": {},
   "source": [
    "<!-- Equation labels as ordinary links -->\n",
    "<div id=\"vib:model2x2:veq\"></div>\n",
    "\n",
    "$$\n",
    "\\begin{equation}  \n",
    "v^{\\prime} = -\\omega^2 u\n",
    "\\label{vib:model2x2:veq} \\tag{25}\n",
    "\\thinspace .\n",
    "\\end{equation}\n",
    "$$"
   ]
  },
  {
   "cell_type": "markdown",
   "metadata": {},
   "source": [
    "The initial conditions become $u(0)=I$ and $v(0)=0$.\n",
    "\n",
    "\n",
    "\n",
    "## The Forward Euler scheme\n",
    "\n",
    "A Forward Euler approximation to our $2\\times 2$ system of ODEs\n",
    "([24](#vib:model2x2:ueq))-([25](#vib:model2x2:veq)) becomes"
   ]
  },
  {
   "cell_type": "markdown",
   "metadata": {},
   "source": [
    "<!-- Equation labels as ordinary links -->\n",
    "<div id=\"_auto9\"></div>\n",
    "\n",
    "$$\n",
    "\\begin{equation}\n",
    "\\lbrack D_t^+ u = v\\rbrack^n,\n",
    "\\label{_auto9} \\tag{26}\n",
    "\\end{equation}\n",
    "$$"
   ]
  },
  {
   "cell_type": "markdown",
   "metadata": {},
   "source": [
    "<!-- Equation labels as ordinary links -->\n",
    "<div id=\"_auto10\"></div>\n",
    "\n",
    "$$\n",
    "\\begin{equation}  \n",
    "\\lbrack D_t^+ v = -\\omega^2 u\\rbrack^n,\n",
    "\\label{_auto10} \\tag{27}\n",
    "\\end{equation}\n",
    "$$"
   ]
  },
  {
   "cell_type": "markdown",
   "metadata": {},
   "source": [
    "or written out,"
   ]
  },
  {
   "cell_type": "markdown",
   "metadata": {},
   "source": [
    "<!-- Equation labels as ordinary links -->\n",
    "<div id=\"vib:undamped:FE1\"></div>\n",
    "\n",
    "$$\n",
    "\\begin{equation}\n",
    "u^{n+1} = u^n + \\Delta t v^n,\n",
    "\\label{vib:undamped:FE1} \\tag{28}\n",
    "\\end{equation}\n",
    "$$"
   ]
  },
  {
   "cell_type": "markdown",
   "metadata": {},
   "source": [
    "<!-- Equation labels as ordinary links -->\n",
    "<div id=\"vib:undamped:FE2\"></div>\n",
    "\n",
    "$$\n",
    "\\begin{equation}  \n",
    "v^{n+1} = v^n -\\Delta t \\omega^2 u^n\n",
    "\\label{vib:undamped:FE2} \\tag{29}\n",
    "\\thinspace .\n",
    "\\end{equation}\n",
    "$$"
   ]
  },
  {
   "cell_type": "markdown",
   "metadata": {},
   "source": [
    "Let us briefly compare this Forward Euler method with the centered\n",
    "difference scheme for the second-order differential equation. We have\n",
    "from ([28](#vib:undamped:FE1)) and ([29](#vib:undamped:FE2)) applied at\n",
    "levels $n$ and $n-1$ that"
   ]
  },
  {
   "cell_type": "markdown",
   "metadata": {},
   "source": [
    "$$\n",
    "u^{n+1} = u^n + \\Delta t v^n = u^n + \\Delta t (v^{n-1} -\\Delta t \\omega^2 u^{n-1})\\thinspace .\n",
    "$$"
   ]
  },
  {
   "cell_type": "markdown",
   "metadata": {},
   "source": [
    "Since from ([28](#vib:undamped:FE1))"
   ]
  },
  {
   "cell_type": "markdown",
   "metadata": {},
   "source": [
    "$$\n",
    "v^{n-1} = \\frac{1}{\\Delta t}(u^{n}-u^{n-1}),\n",
    "$$"
   ]
  },
  {
   "cell_type": "markdown",
   "metadata": {},
   "source": [
    "it follows that"
   ]
  },
  {
   "cell_type": "markdown",
   "metadata": {},
   "source": [
    "$$\n",
    "u^{n+1} = 2u^n - u^{n-1} -\\Delta t^2\\omega^2 u^{n-1},\n",
    "$$"
   ]
  },
  {
   "cell_type": "markdown",
   "metadata": {},
   "source": [
    "which is very close to the centered difference scheme, but the last\n",
    "term is evaluated at $t_{n-1}$ instead of $t_n$.  Rewriting, so that\n",
    "$\\Delta t^2\\omega^2u^{n-1}$ appears alone on the right-hand side, and\n",
    "then dividing by $\\Delta t^2$, the new left-hand side is an\n",
    "approximation to $u^{\\prime\\prime}$ at $t_n$, while the right-hand\n",
    "side is sampled at $t_{n-1}$.  All terms should be sampled at the same\n",
    "mesh point, so using $\\omega^2 u^{n-1}$ instead of $\\omega^2 u^n$\n",
    "points to a kind of mathematical error in the derivation of the\n",
    "scheme. This error turns out to be rather crucial for the accuracy of\n",
    "the Forward Euler method applied to vibration problems (the section [Comparison of schemes](#vib:model2x2:compare) has examples).\n",
    "\n",
    "The reasoning above does not imply that the Forward Euler scheme is not\n",
    "correct, but more that it is almost equivalent to a second-order accurate\n",
    "scheme for the second-order ODE formulation, and that the error\n",
    "committed has to do with a wrong sampling point.\n",
    "\n",
    "## The Backward Euler scheme\n",
    "\n",
    "A Backward Euler approximation to the ODE system is equally easy to\n",
    "write up in the operator notation:"
   ]
  },
  {
   "cell_type": "markdown",
   "metadata": {},
   "source": [
    "<!-- Equation labels as ordinary links -->\n",
    "<div id=\"_auto11\"></div>\n",
    "\n",
    "$$\n",
    "\\begin{equation}\n",
    "\\lbrack D_t^- u = v\\rbrack^{n+1},\n",
    "\\label{_auto11} \\tag{30}\n",
    "\\end{equation}\n",
    "$$"
   ]
  },
  {
   "cell_type": "markdown",
   "metadata": {},
   "source": [
    "<!-- Equation labels as ordinary links -->\n",
    "<div id=\"_auto12\"></div>\n",
    "\n",
    "$$\n",
    "\\begin{equation}  \n",
    "\\lbrack D_t^- v = -\\omega u\\rbrack^{n+1} \\thinspace .\n",
    "\\label{_auto12} \\tag{31}\n",
    "\\end{equation}\n",
    "$$"
   ]
  },
  {
   "cell_type": "markdown",
   "metadata": {},
   "source": [
    "This becomes a coupled system for $u^{n+1}$ and $v^{n+1}$:"
   ]
  },
  {
   "cell_type": "markdown",
   "metadata": {},
   "source": [
    "<!-- Equation labels as ordinary links -->\n",
    "<div id=\"vib:undamped:BE1\"></div>\n",
    "\n",
    "$$\n",
    "\\begin{equation}\n",
    "u^{n+1} - \\Delta t v^{n+1} = u^{n},\n",
    "\\label{vib:undamped:BE1} \\tag{32}\n",
    "\\end{equation}\n",
    "$$"
   ]
  },
  {
   "cell_type": "markdown",
   "metadata": {},
   "source": [
    "<!-- Equation labels as ordinary links -->\n",
    "<div id=\"vib:undamped:BE2\"></div>\n",
    "\n",
    "$$\n",
    "\\begin{equation}  \n",
    "v^{n+1} + \\Delta t \\omega^2 u^{n+1} = v^{n}\n",
    "\\label{vib:undamped:BE2} \\tag{33}\n",
    "\\thinspace .\n",
    "\\end{equation}\n",
    "$$"
   ]
  },
  {
   "cell_type": "markdown",
   "metadata": {},
   "source": [
    "We can compare ([32](#vib:undamped:BE1))-([33](#vib:undamped:BE2)) with\n",
    "the centered scheme ([7](#vib:ode1:step4)) for the second-order\n",
    "differential equation.  To this end, we eliminate $v^{n+1}$ in\n",
    "([32](#vib:undamped:BE1)) using ([33](#vib:undamped:BE2)) solved with\n",
    "respect to $v^{n+1}$.  Thereafter, we eliminate $v^n$ using\n",
    "([32](#vib:undamped:BE1)) solved with respect to $v^{n+1}$ and also\n",
    "replacing $n+1$ by $n$ and $n$ by $n-1$.  The resulting equation\n",
    "involving only $u^{n+1}$, $u^n$, and $u^{n-1}$ can be ordered as"
   ]
  },
  {
   "cell_type": "markdown",
   "metadata": {},
   "source": [
    "$$\n",
    "\\frac{u^{n+1}-2u^n+u^{n-1}}{\\Delta t^2} = -\\omega^2 u^{n+1},\n",
    "$$"
   ]
  },
  {
   "cell_type": "markdown",
   "metadata": {},
   "source": [
    "which has almost the same form as the centered scheme for the\n",
    "second-order differential equation, but the right-hand side is\n",
    "evaluated at $u^{n+1}$ and not $u^n$. This inconsistent sampling\n",
    "of terms has a dramatic effect on the numerical solution, as we\n",
    "demonstrate in the section [Comparison of schemes](#vib:model2x2:compare).\n",
    "\n",
    "## The Crank-Nicolson scheme\n",
    "<div id=\"vib:undamped:CN\"></div>\n",
    "\n",
    "The Crank-Nicolson scheme takes this form in the operator notation:"
   ]
  },
  {
   "cell_type": "markdown",
   "metadata": {},
   "source": [
    "<!-- Equation labels as ordinary links -->\n",
    "<div id=\"_auto13\"></div>\n",
    "\n",
    "$$\n",
    "\\begin{equation}\n",
    "\\lbrack D_t u = \\overline{v}^t\\rbrack^{n+\\frac{1}{2}},\n",
    "\\label{_auto13} \\tag{34}\n",
    "\\end{equation}\n",
    "$$"
   ]
  },
  {
   "cell_type": "markdown",
   "metadata": {},
   "source": [
    "<!-- Equation labels as ordinary links -->\n",
    "<div id=\"_auto14\"></div>\n",
    "\n",
    "$$\n",
    "\\begin{equation}  \n",
    "\\lbrack D_t v = -\\omega^2 \\overline{u}^t\\rbrack^{n+\\frac{1}{2}}\n",
    "\\thinspace .\n",
    "\\label{_auto14} \\tag{35}\n",
    "\\end{equation}\n",
    "$$"
   ]
  },
  {
   "cell_type": "markdown",
   "metadata": {},
   "source": [
    "Writing the equations out and rearranging terms,\n",
    "shows that this is also a coupled system of two linear equations\n",
    "at each time level:"
   ]
  },
  {
   "cell_type": "markdown",
   "metadata": {},
   "source": [
    "<!-- Equation labels as ordinary links -->\n",
    "<div id=\"_auto15\"></div>\n",
    "\n",
    "$$\n",
    "\\begin{equation}\n",
    "u^{n+1} - \\frac{1}{2}\\Delta t v^{n+1} = u^{n} + \\frac{1}{2}\\Delta t v^{n},\n",
    "\\label{_auto15} \\tag{36}\n",
    "\\end{equation}\n",
    "$$"
   ]
  },
  {
   "cell_type": "markdown",
   "metadata": {},
   "source": [
    "<!-- Equation labels as ordinary links -->\n",
    "<div id=\"_auto16\"></div>\n",
    "\n",
    "$$\n",
    "\\begin{equation}  \n",
    "v^{n+1} + \\frac{1}{2}\\Delta t \\omega^2 u^{n+1} = v^{n}\n",
    "- \\frac{1}{2}\\Delta t \\omega^2 u^{n}\n",
    "\\thinspace .\n",
    "\\label{_auto16} \\tag{37}\n",
    "\\end{equation}\n",
    "$$"
   ]
  },
  {
   "cell_type": "markdown",
   "metadata": {},
   "source": [
    "We may compare also this scheme to the centered discretization of\n",
    "the second-order ODE. It turns out that the Crank-Nicolson scheme is\n",
    "equivalent to the discretization"
   ]
  },
  {
   "cell_type": "markdown",
   "metadata": {},
   "source": [
    "<!-- Equation labels as ordinary links -->\n",
    "<div id=\"vib:undamped:CN:equiv_utt\"></div>\n",
    "\n",
    "$$\n",
    "\\begin{equation}\n",
    "\\frac{u^{n+1} - 2u^n + u^{n-1}}{\\Delta t^2} = - \\omega^2\n",
    "\\frac{1}{4}(u^{n+1} + 2u^n + u^{n-1}) = -\\omega^2 u^{n} +\n",
    "\\mathcal{O}{\\Delta t^2}\\thinspace .\n",
    "\\label{vib:undamped:CN:equiv_utt} \\tag{38}\n",
    "\\end{equation}\n",
    "$$"
   ]
  },
  {
   "cell_type": "markdown",
   "metadata": {},
   "source": [
    "That is, the Crank-Nicolson is equivalent to ([7](#vib:ode1:step4))\n",
    "for the second-order ODE, apart from an extra term of size\n",
    "$\\Delta t^2$, but this is an error of the same order as in\n",
    "the finite difference approximation on the left-hand side of the\n",
    "equation anyway. The fact that the Crank-Nicolson scheme is so\n",
    "close to ([7](#vib:ode1:step4)) makes it a much better method than\n",
    "the Forward or Backward Euler methods for vibration problems,\n",
    "as will be illustrated in the section [Comparison of schemes](#vib:model2x2:compare).\n",
    "\n",
    "Deriving ([38](#vib:undamped:CN:equiv_utt)) is a bit tricky.\n",
    "We start with rewriting the Crank-Nicolson equations as follows"
   ]
  },
  {
   "cell_type": "markdown",
   "metadata": {},
   "source": [
    "<!-- Equation labels as ordinary links -->\n",
    "<div id=\"vib:undamped:CN3a\"></div>\n",
    "\n",
    "$$\n",
    "\\begin{equation}\n",
    "u^{n+1} - u^n = \\frac{1}{2}\\Delta t(v^{n+1} + v^n),\n",
    "\\label{vib:undamped:CN3a} \\tag{39}\n",
    "\\end{equation}\n",
    "$$"
   ]
  },
  {
   "cell_type": "markdown",
   "metadata": {},
   "source": [
    "<!-- Equation labels as ordinary links -->\n",
    "<div id=\"vib:undamped:CN4a\"></div>\n",
    "\n",
    "$$\n",
    "\\begin{equation}  \n",
    "v^{n+1}  = v^n -\\frac{1}{2}\\Delta t\\omega^2 (u^{n+1} + u^n),\n",
    "\\label{vib:undamped:CN4a} \\tag{40}\n",
    "\\end{equation}\n",
    "$$"
   ]
  },
  {
   "cell_type": "markdown",
   "metadata": {},
   "source": [
    "and add the latter at the previous time level as well:"
   ]
  },
  {
   "cell_type": "markdown",
   "metadata": {},
   "source": [
    "<!-- Equation labels as ordinary links -->\n",
    "<div id=\"vib:undamped:CN4b1\"></div>\n",
    "\n",
    "$$\n",
    "\\begin{equation}\n",
    "v^{n}  = v^{n-1} -\\frac{1}{2}\\Delta t\\omega^2(u^{n} + u^{n-1})\n",
    "\\label{vib:undamped:CN4b1} \\tag{41}\n",
    "\\end{equation}\n",
    "$$"
   ]
  },
  {
   "cell_type": "markdown",
   "metadata": {},
   "source": [
    "We can also rewrite ([39](#vib:undamped:CN3a)) at the previous time level\n",
    "as"
   ]
  },
  {
   "cell_type": "markdown",
   "metadata": {},
   "source": [
    "<!-- Equation labels as ordinary links -->\n",
    "<div id=\"vib:undamped:CN4b\"></div>\n",
    "\n",
    "$$\n",
    "\\begin{equation}\n",
    "v^{n} + v^{n-1} = \\frac{2}{\\Delta t}(u^{n} - u^{n-1})\\thinspace .\n",
    "\\label{vib:undamped:CN4b} \\tag{42}\n",
    "\\end{equation}\n",
    "$$"
   ]
  },
  {
   "cell_type": "markdown",
   "metadata": {},
   "source": [
    "Inserting ([40](#vib:undamped:CN4a)) for $v^{n+1}$ in\n",
    "([39](#vib:undamped:CN3a)) and\n",
    "([41](#vib:undamped:CN4b1)) for $v^{n}$ in\n",
    "([39](#vib:undamped:CN3a)) yields after some reordering:"
   ]
  },
  {
   "cell_type": "markdown",
   "metadata": {},
   "source": [
    "$$\n",
    "u^{n+1} - u^n = \\frac{1}{2}(-\\frac{1}{2}\\Delta t\\omega^2\n",
    "(u^{n+1} + 2u^n + u^{n-1}) + v^n + v^{n-1})\\thinspace .\n",
    "$$"
   ]
  },
  {
   "cell_type": "markdown",
   "metadata": {},
   "source": [
    "Now, $v^n + v^{n-1}$ can be eliminated by means of\n",
    "([42](#vib:undamped:CN4b)). The result becomes"
   ]
  },
  {
   "cell_type": "markdown",
   "metadata": {},
   "source": [
    "<!-- Equation labels as ordinary links -->\n",
    "<div id=\"vib:undamped:CN5\"></div>\n",
    "\n",
    "$$\n",
    "\\begin{equation}\n",
    "u^{n+1} - 2u^n + u^{n-1} = -\\Delta t^2\\omega^2\n",
    "\\frac{1}{4}(u^{n+1} + 2u^n + u^{n-1})\\thinspace .\n",
    "\\label{vib:undamped:CN5} \\tag{43}\n",
    "\\end{equation}\n",
    "$$"
   ]
  },
  {
   "cell_type": "markdown",
   "metadata": {},
   "source": [
    "It can be shown that"
   ]
  },
  {
   "cell_type": "markdown",
   "metadata": {},
   "source": [
    "$$\n",
    "\\frac{1}{4}(u^{n+1} + 2u^n + u^{n-1}) \\approx u^n + \\mathcal{O}{\\Delta t^2},\n",
    "$$"
   ]
  },
  {
   "cell_type": "markdown",
   "metadata": {},
   "source": [
    "meaning that ([43](#vib:undamped:CN5)) is an approximation to\n",
    "the centered scheme ([7](#vib:ode1:step4)) for the second-order ODE where\n",
    "the sampling error in the term $\\Delta t^2\\omega^2 u^n$ is of the same\n",
    "order as the approximation errors in the finite differences, i.e.,\n",
    "$\\mathcal{O}{\\Delta t^2}$. The Crank-Nicolson scheme written as\n",
    "([43](#vib:undamped:CN5)) therefore has consistent sampling of all\n",
    "terms at the same time point $t_n$.\n",
    "\n",
    "\n",
    "## Comparison of schemes\n",
    "<div id=\"vib:model2x2:compare\"></div>\n",
    "\n",
    "\n",
    "We can easily compare methods like the ones above (and many more!)\n",
    "with the aid of the\n",
    "[Odespy](https://github.com/hplgit/odespy) package. Below is\n",
    "a sketch of the code."
   ]
  },
  {
   "cell_type": "markdown",
   "metadata": {},
   "source": [
    "```python\n",
    "import odespy\n",
    "import numpy as np\n",
    "\n",
    "def f(u, t, w=1):\n",
    "    # v, u numbering for EulerCromer to work well\n",
    "    v, u = u  # u is array of length 2 holding our [v, u]\n",
    "    return [-w**2*u, v]\n",
    "\n",
    "def run_solvers_and_plot(solvers, timesteps_per_period=20,\n",
    "                         num_periods=1, I=1, w=2*np.pi):\n",
    "    P = 2*np.pi/w  # duration of one period\n",
    "    dt = P/timesteps_per_period\n",
    "    Nt = num_periods*timesteps_per_period\n",
    "    T = Nt*dt\n",
    "    t_mesh = np.linspace(0, T, Nt+1)\n",
    "\n",
    "    legends = []\n",
    "    for solver in solvers:\n",
    "        solver.set(f_kwargs={'w': w})\n",
    "        solver.set_initial_condition([0, I])\n",
    "        u, t = solver.solve(t_mesh)\n",
    "```"
   ]
  },
  {
   "cell_type": "markdown",
   "metadata": {},
   "source": [
    "There is quite some more code dealing with plots also, and we refer\n",
    "to the source file [`vib_undamped_odespy.py`](https://github.com/devitocodes/devito_book/blob/master/fdm-devito-notebooks/01_vib/src-vib/vib_undamped_odespy.py)\n",
    "for details. Observe that keyword arguments in `f(u,t,w=1)` can\n",
    "be supplied through a solver parameter `f_kwargs` (dictionary of\n",
    "additional keyword arguments to `f`).\n",
    "\n",
    "Specification of the Forward Euler, Backward Euler, and\n",
    "Crank-Nicolson schemes is done like this:"
   ]
  },
  {
   "cell_type": "markdown",
   "metadata": {},
   "source": [
    "```python\n",
    "solvers = [\n",
    "    odespy.ForwardEuler(f),\n",
    "    # Implicit methods must use Newton solver to converge\n",
    "    odespy.BackwardEuler(f, nonlinear_solver='Newton'),\n",
    "    odespy.CrankNicolson(f, nonlinear_solver='Newton'),\n",
    "    ]\n",
    "```"
   ]
  },
  {
   "cell_type": "markdown",
   "metadata": {},
   "source": [
    "The `vib_undamped_odespy.py` program makes two plots of the computed\n",
    "solutions with the various methods in the `solvers` list: one plot\n",
    "with $u(t)$ versus $t$, and one *phase plane plot* where $v$ is\n",
    "plotted against $u$.  That is, the phase plane plot is the curve\n",
    "$(u(t),v(t))$ parameterized by $t$. Analytically, $u=I\\cos(\\omega t)$\n",
    "and $v=u^{\\prime}=-\\omega I\\sin(\\omega t)$.  The exact curve\n",
    "$(u(t),v(t))$ is therefore an ellipse, which often looks like a circle\n",
    "in a plot if the axes are automatically scaled. The important feature,\n",
    "however, is that the exact curve $(u(t),v(t))$ is closed and repeats\n",
    "itself for every period. Not all numerical schemes are capable of\n",
    "doing that, meaning that the amplitude instead shrinks or grows with\n",
    "time.\n",
    "\n",
    "[Figure](#vib:ode1:1st:odespy:theta:phaseplane) show the\n",
    "results. Note that Odespy applies the label MidpointImplicit for what\n",
    "we have specified as `CrankNicolson` in the code (`CrankNicolson` is\n",
    "just a synonym for class `MidpointImplicit` in the Odespy code).  The\n",
    "Forward Euler scheme in [Figure](#vib:ode1:1st:odespy:theta:phaseplane) has a pronounced spiral\n",
    "curve, pointing to the fact that the amplitude steadily grows, which\n",
    "is also evident in [Figure](#vib:ode1:1st:odespy:theta).  The\n",
    "Backward Euler scheme has a similar feature, except that the spriral\n",
    "goes inward and the amplitude is significantly damped.  The changing\n",
    "amplitude and the spiral form decreases with decreasing time step.\n",
    "The Crank-Nicolson scheme looks much more accurate.  In fact, these\n",
    "plots tell that the Forward and Backward Euler schemes are not\n",
    "suitable for solving our ODEs with oscillating solutions.\n",
    "\n",
    "<!-- dom:FIGURE: [fig-vib/vib_theta_1_pp.png, width=800 frac=1.0] Comparison of classical schemes in the phase plane for two time step values. <div id=\"vib:ode1:1st:odespy:theta:phaseplane\"></div> -->\n",
    "<!-- begin figure -->\n",
    "<div id=\"vib:ode1:1st:odespy:theta:phaseplane\"></div>\n",
    "\n",
    "<p>Comparison of classical schemes in the phase plane for two time step values.</p>\n",
    "<img src=\"fig-vib/vib_theta_1_pp.png\" width=800>\n",
    "\n",
    "<!-- end figure -->\n",
    "\n",
    "\n",
    "<!-- dom:FIGURE: [fig-vib/vib_theta_1_u.png, width=800 frac=1.0] Comparison of solution curves for classical schemes. <div id=\"vib:ode1:1st:odespy:theta\"></div> -->\n",
    "<!-- begin figure -->\n",
    "<div id=\"vib:ode1:1st:odespy:theta\"></div>\n",
    "\n",
    "<p>Comparison of solution curves for classical schemes.</p>\n",
    "<img src=\"fig-vib/vib_theta_1_u.png\" width=800>\n",
    "\n",
    "<!-- end figure -->\n",
    "\n",
    "\n",
    "\n",
    "## Runge-Kutta methods\n",
    "\n",
    "We may run two other popular standard methods for first-order ODEs,\n",
    "the 2nd- and 4th-order Runge-Kutta methods, to see how they\n",
    "perform. The figures below show the solutions with larger $\\Delta t$\n",
    "values than what was used in the previous two plots.\n",
    "\n",
    "<!-- dom:FIGURE: [fig-vib/vib_RK_1_pp.png, width=800 frac=1.0] Comparison of Runge-Kutta schemes in the phase plane. <div id=\"vib:ode1:1st:odespy:RK:phaseplane\"></div> -->\n",
    "<!-- begin figure -->\n",
    "<div id=\"vib:ode1:1st:odespy:RK:phaseplane\"></div>\n",
    "\n",
    "<p>Comparison of Runge-Kutta schemes in the phase plane.</p>\n",
    "<img src=\"fig-vib/vib_RK_1_pp.png\" width=800>\n",
    "\n",
    "<!-- end figure -->\n",
    "\n",
    "\n",
    "<!-- dom:FIGURE: [fig-vib/vib_RK_1_u.png, width=800 frac=1.0] Comparison of Runge-Kutta schemes. <div id=\"vib:ode1:1st:odespy:RK\"></div> -->\n",
    "<!-- begin figure -->\n",
    "<div id=\"vib:ode1:1st:odespy:RK\"></div>\n",
    "\n",
    "<p>Comparison of Runge-Kutta schemes.</p>\n",
    "<img src=\"fig-vib/vib_RK_1_u.png\" width=800>\n",
    "\n",
    "<!-- end figure -->\n",
    "\n",
    "\n",
    "\n",
    "\n",
    "The visual impression is that the 4th-order Runge-Kutta method is very\n",
    "accurate, under all circumstances in these tests, while the 2nd-order\n",
    "scheme suffers from amplitude errors unless the time step is very\n",
    "small.\n",
    "\n",
    "\n",
    "The corresponding results for the Crank-Nicolson scheme are shown in\n",
    "[Figure](#vib:ode1:1st:odespy:CN:long:phaseplane).  It is clear that\n",
    "the Crank-Nicolson scheme outhinspace .erforms the 2nd-order Runge-Kutta\n",
    "method. Both schemes have the same order of accuracy $\\mathcal{O}{\\Delta\n",
    "t^2}$, but their differences in the accuracy that matters in a real\n",
    "physical application is very clearly pronounced in this example.\n",
    "[Exercise 13: Investigate the amplitude errors of many solvers](#vib:exer:undamped:odespy) invites you to investigate how\n",
    "the amplitude is computed by a series of famous methods for\n",
    "first-order ODEs.\n",
    "\n",
    "<!-- dom:FIGURE: [fig-vib/vib_CN_10_pp.png, width=800 frac=1.0] Long-time behavior of the Crank-Nicolson scheme in the phase plane. <div id=\"vib:ode1:1st:odespy:CN:long:phaseplane\"></div> -->\n",
    "<!-- begin figure -->\n",
    "<div id=\"vib:ode1:1st:odespy:CN:long:phaseplane\"></div>\n",
    "\n",
    "<p>Long-time behavior of the Crank-Nicolson scheme in the phase plane.</p>\n",
    "<img src=\"fig-vib/vib_CN_10_pp.png\" width=800>\n",
    "\n",
    "<!-- end figure -->\n",
    "\n",
    "\n",
    "\n",
    "\n",
    "## Analysis of the Forward Euler scheme\n",
    "\n",
    "We may try to find exact solutions of the discrete equations\n",
    "([28](#vib:undamped:FE1))-([29](#vib:undamped:FE2)) in the Forward Euler\n",
    "method to better understand why this otherwise useful method has so\n",
    "bad performance for vibration ODEs. An \"ansatz\" for the solution of\n",
    "the discrete equations is"
   ]
  },
  {
   "cell_type": "markdown",
   "metadata": {},
   "source": [
    "$$\n",
    "\\begin{align*}\n",
    "u^n &= IA^n,\\\\ \n",
    "v^n &= qIA^n,\n",
    "\\end{align*}\n",
    "$$"
   ]
  },
  {
   "cell_type": "markdown",
   "metadata": {},
   "source": [
    "where $q$ and $A$ are scalars to be determined. We could have used a complex\n",
    "exponential form $e^{i\\tilde\\omega n\\Delta t}$ since we get\n",
    "oscillatory solutions, but the oscillations grow in the Forward Euler\n",
    "method, so the numerical frequency $\\tilde\\omega$ will be complex\n",
    "anyway (producing an exponentially growing amplitude). Therefore, it is\n",
    "easier to just work with potentially complex $A$ and $q$ as introduced\n",
    "above.\n",
    "\n",
    "The Forward Euler scheme leads to"
   ]
  },
  {
   "cell_type": "markdown",
   "metadata": {},
   "source": [
    "$$\n",
    "\\begin{align*}\n",
    "A &= 1 + \\Delta t q,\\\\ \n",
    "A &= 1 - \\Delta t\\omega^2 q^{-1}\\thinspace .\n",
    "\\end{align*}\n",
    "$$"
   ]
  },
  {
   "cell_type": "markdown",
   "metadata": {},
   "source": [
    "We can easily eliminate $A$, get $q^2 + \\omega^2=0$, and solve for"
   ]
  },
  {
   "cell_type": "markdown",
   "metadata": {},
   "source": [
    "$$\n",
    "q = \\pm i\\omega,\n",
    "$$"
   ]
  },
  {
   "cell_type": "markdown",
   "metadata": {},
   "source": [
    "which gives"
   ]
  },
  {
   "cell_type": "markdown",
   "metadata": {},
   "source": [
    "$$\n",
    "A = 1 \\pm \\Delta t i\\omega\\thinspace .\n",
    "$$"
   ]
  },
  {
   "cell_type": "markdown",
   "metadata": {},
   "source": [
    "We shall take the real part of $A^n$ as the solution. The two values\n",
    "of $A$ are complex conjugates, and the real part of $A^n$ will be the\n",
    "same for both roots. This is easy to realize if we rewrite the complex\n",
    "numbers in polar form, which is also convenient for further analysis\n",
    "and understanding.  The polar form $re^{i\\theta}$ of a complex number\n",
    "$x+iy$ has $r=\\sqrt{x^2+y^2}$ and $\\theta = \\tan^{-1}(y/x)$.  Hence,\n",
    "the polar form of the two values for $A$ becomes"
   ]
  },
  {
   "cell_type": "markdown",
   "metadata": {},
   "source": [
    "$$\n",
    "1 \\pm \\Delta t i\\omega = \\sqrt{1+\\omega^2\\Delta t^2}e^{\\pm i\\tan^{-1}(\\omega\\Delta t)}\\thinspace .\n",
    "$$"
   ]
  },
  {
   "cell_type": "markdown",
   "metadata": {},
   "source": [
    "Now it is very easy to compute $A^n$:"
   ]
  },
  {
   "cell_type": "markdown",
   "metadata": {},
   "source": [
    "$$\n",
    "(1 \\pm \\Delta t i\\omega)^n = (1+\\omega^2\\Delta t^2)^{n/2}e^{\\pm ni\\tan^{-1}(\\omega\\Delta t)}\\thinspace .\n",
    "$$"
   ]
  },
  {
   "cell_type": "markdown",
   "metadata": {},
   "source": [
    "Since $\\cos (\\theta n) = \\cos (-\\theta n)$, the real parts of the two\n",
    "numbers become the same. We therefore continue with the solution that has\n",
    "the plus sign.\n",
    "\n",
    "The general solution is $u^n = CA^n$, where $C$ is a constant\n",
    "determined from the initial condition: $u^0=C=I$. We have $u^n=IA^n$\n",
    "and $v^n=qIA^n$. The final solutions are just the real part of the\n",
    "expressions in polar form:"
   ]
  },
  {
   "cell_type": "markdown",
   "metadata": {},
   "source": [
    "<!-- Equation labels as ordinary links -->\n",
    "<div id=\"_auto17\"></div>\n",
    "\n",
    "$$\n",
    "\\begin{equation}\n",
    "u^n  =\n",
    "I(1+\\omega^2\\Delta t^2)^{n/2}\\cos (n\\tan^{-1}(\\omega\\Delta t)),\n",
    "\\label{_auto17} \\tag{44}\n",
    "\\end{equation}\n",
    "$$"
   ]
  },
  {
   "cell_type": "markdown",
   "metadata": {},
   "source": [
    "<!-- Equation labels as ordinary links -->\n",
    "<div id=\"_auto18\"></div>\n",
    "\n",
    "$$\n",
    "\\begin{equation}  \n",
    "v^n =- \\omega\n",
    "I(1+\\omega^2\\Delta t^2)^{n/2}\\sin (n\\tan^{-1}(\\omega\\Delta t))\\thinspace .\n",
    "\\label{_auto18} \\tag{45}\n",
    "\\end{equation}\n",
    "$$"
   ]
  },
  {
   "cell_type": "markdown",
   "metadata": {},
   "source": [
    "The expression $(1+\\omega^2\\Delta t^2)^{n/2}$ causes growth of\n",
    "the amplitude, since a number greater than one is raised to a positive\n",
    "exponent $n/2$. We can develop a series expression to better understand\n",
    "the formula for the amplitude. Introducing $p=\\omega\\Delta t$ as the\n",
    "key variable and using `sympy` gives"
   ]
  },
  {
   "cell_type": "code",
   "execution_count": 15,
   "metadata": {},
   "outputs": [
    {
     "data": {
      "text/latex": [
       "$\\displaystyle 1 + \\frac{n p^{2}}{2} + O\\left(p^{4}\\right)$"
      ],
      "text/plain": [
       "1 + n*p**2/2 + O(p**4)"
      ]
     },
     "execution_count": 15,
     "metadata": {},
     "output_type": "execute_result"
    }
   ],
   "source": [
    "from sympy import *\n",
    "p = symbols('p', real=True)\n",
    "n = symbols('n', integer=True, positive=True)\n",
    "amplitude = (1 + p**2)**(n/2)\n",
    "amplitude.series(p, 0, 4)"
   ]
  },
  {
   "cell_type": "markdown",
   "metadata": {},
   "source": [
    "The amplitude goes like $1 + \\frac{1}{2} n\\omega^2\\Delta t^2$, clearly growing\n",
    "linearly in time (with $n$).\n",
    "\n",
    "We can also investigate the error in the angular frequency by a\n",
    "series expansion:"
   ]
  },
  {
   "cell_type": "code",
   "execution_count": 16,
   "metadata": {},
   "outputs": [
    {
     "data": {
      "text/latex": [
       "$\\displaystyle n \\left(p - \\frac{p^{3}}{3} + O\\left(p^{4}\\right)\\right)$"
      ],
      "text/plain": [
       "n*(p - p**3/3 + O(p**4))"
      ]
     },
     "execution_count": 16,
     "metadata": {},
     "output_type": "execute_result"
    }
   ],
   "source": [
    "n*atan(p).series(p, 0, 4)"
   ]
  },
  {
   "cell_type": "markdown",
   "metadata": {},
   "source": [
    "This means that the solution for $u^n$ can be written as"
   ]
  },
  {
   "cell_type": "markdown",
   "metadata": {},
   "source": [
    "$$\n",
    "u^n = (1 + \\frac{1}{2} n\\omega^2\\Delta t^2 + \\mathcal{O}{\\Delta t^4})\n",
    "\\cos\\left(\\omega t - \\frac{1}{3}\\omega t\\Delta t^2 + \\mathcal{O}{\\Delta t^4}\\right)\n",
    "\\thinspace .\n",
    "$$"
   ]
  },
  {
   "cell_type": "markdown",
   "metadata": {},
   "source": [
    "The error in the angular frequency is of the same order as in the\n",
    "scheme ([7](#vib:ode1:step4)) for the second-order ODE, but the error\n",
    "in the amplitude is severe.\n",
    "\n",
    "\n",
    "# Energy considerations\n",
    "<div id=\"vib:model1:energy\"></div>\n",
    "\n",
    "\n",
    "The observations of various methods in the previous section can be\n",
    "better interpreted if we compute a quantity reflecting\n",
    "the total *energy of the system*. mathcal{I}_t turns out that this quantity,"
   ]
  },
  {
   "cell_type": "markdown",
   "metadata": {},
   "source": [
    "$$\n",
    "E(t) = \\frac{1}{2}(u^{\\prime})^2 + \\frac{1}{2}\\omega^2u^2,\n",
    "$$"
   ]
  },
  {
   "cell_type": "markdown",
   "metadata": {},
   "source": [
    "is *constant* for all $t$. Checking that $E(t)$ really remains constant\n",
    "brings evidence that the numerical computations are sound.\n",
    "mathcal{I}_t turns out that $E$ is proportional to the mechanical energy\n",
    "in the system. Conservation of energy is\n",
    "much used to check numerical simulations, so it is well invested time to\n",
    "dive into this subject.\n",
    "\n",
    "## Derivation of the energy expression\n",
    "<div id=\"vib:model1:energy:expr\"></div>\n",
    "\n",
    "\n",
    "We start out with multiplying"
   ]
  },
  {
   "cell_type": "markdown",
   "metadata": {},
   "source": [
    "$$\n",
    "u^{\\prime\\prime} + \\omega^2 u = 0,\n",
    "$$"
   ]
  },
  {
   "cell_type": "markdown",
   "metadata": {},
   "source": [
    "by $u^{\\prime}$ and integrating from $0$ to $T$:"
   ]
  },
  {
   "cell_type": "markdown",
   "metadata": {},
   "source": [
    "$$\n",
    "\\int_0^T u^{\\prime\\prime}u^{\\prime} dt + \\int_0^T\\omega^2 u u^{\\prime} dt = 0\\thinspace .\n",
    "$$"
   ]
  },
  {
   "cell_type": "markdown",
   "metadata": {},
   "source": [
    "Observing that"
   ]
  },
  {
   "cell_type": "markdown",
   "metadata": {},
   "source": [
    "$$\n",
    "u^{\\prime\\prime}u^{\\prime} = \\frac{d}{dt}\\frac{1}{2}(u^{\\prime})^2,\\quad uu^{\\prime} = \\frac{d}{dt} {\\frac{1}{2}}u^2,\n",
    "$$"
   ]
  },
  {
   "cell_type": "markdown",
   "metadata": {},
   "source": [
    "we get"
   ]
  },
  {
   "cell_type": "markdown",
   "metadata": {},
   "source": [
    "$$\n",
    "\\int_0^T (\\frac{d}{dt}\\frac{1}{2}(u^{\\prime})^2 + \\frac{d}{dt} \\frac{1}{2}\\omega^2u^2)dt = E(T) - E(0)=0,\n",
    "$$"
   ]
  },
  {
   "cell_type": "markdown",
   "metadata": {},
   "source": [
    "where we have introduced"
   ]
  },
  {
   "cell_type": "markdown",
   "metadata": {},
   "source": [
    "<!-- Equation labels as ordinary links -->\n",
    "<div id=\"vib:model1:energy:balance1\"></div>\n",
    "\n",
    "$$\n",
    "\\begin{equation}\n",
    "E(t) = \\frac{1}{2}(u^{\\prime})^2 + \\frac{1}{2}\\omega^2u^2\\thinspace .\n",
    "\\label{vib:model1:energy:balance1} \\tag{46}\n",
    "\\end{equation}\n",
    "$$"
   ]
  },
  {
   "cell_type": "markdown",
   "metadata": {},
   "source": [
    "The important result from this derivation is that the total energy\n",
    "is constant:"
   ]
  },
  {
   "cell_type": "markdown",
   "metadata": {},
   "source": [
    "$$\n",
    "E(t) = E(0)\\thinspace .\n",
    "$$"
   ]
  },
  {
   "cell_type": "markdown",
   "metadata": {},
   "source": [
    "**$E(t)$ is closely related to the system's energy.**\n",
    "\n",
    "The quantity $E(t)$ derived above is physically not the mechanical energy of a\n",
    "vibrating mechanical system, but the energy per unit mass. To see this,\n",
    "we start with Newton's second law $F=ma$ ($F$ is the sum of forces, $m$\n",
    "is the mass of the system, and $a$ is the acceleration).\n",
    "The displacement $u$ is related to $a$ through\n",
    "$a=u^{\\prime\\prime}$. With a spring force as the only force we have $F=-ku$, where\n",
    "$k$ is a spring constant measuring the stiffness of the spring.\n",
    "Newton's second law then implies the differential equation"
   ]
  },
  {
   "cell_type": "markdown",
   "metadata": {},
   "source": [
    "$$\n",
    "-ku = mu^{\\prime\\prime}\\quad\\Rightarrow mu^{\\prime\\prime} + ku = 0\\thinspace .\n",
    "$$"
   ]
  },
  {
   "cell_type": "markdown",
   "metadata": {},
   "source": [
    "This equation of motion can be turned into an energy balance equation\n",
    "by finding the work done by each term during a time interval $[0,T]$.\n",
    "To this end, we multiply the equation by $du=u^{\\prime}dt$ and integrate:"
   ]
  },
  {
   "cell_type": "markdown",
   "metadata": {},
   "source": [
    "$$\n",
    "\\int_0^T muu^{\\prime}dt + \\int_0^T kuu^{\\prime}dt = 0\\thinspace .\n",
    "$$"
   ]
  },
  {
   "cell_type": "markdown",
   "metadata": {},
   "source": [
    "The result is"
   ]
  },
  {
   "cell_type": "markdown",
   "metadata": {},
   "source": [
    "$$\n",
    "\\tilde E(t) = E_k(t) + E_p(t) = 0,\n",
    "$$"
   ]
  },
  {
   "cell_type": "markdown",
   "metadata": {},
   "source": [
    "where"
   ]
  },
  {
   "cell_type": "markdown",
   "metadata": {},
   "source": [
    "<!-- Equation labels as ordinary links -->\n",
    "<div id=\"vib:model1:energy:kinetic\"></div>\n",
    "\n",
    "$$\n",
    "\\begin{equation}\n",
    "E_k(t) = \\frac{1}{2}mv^2,\\quad v=u^{\\prime},\n",
    "\\label{vib:model1:energy:kinetic} \\tag{47}\n",
    "\\end{equation}\n",
    "$$"
   ]
  },
  {
   "cell_type": "markdown",
   "metadata": {},
   "source": [
    "is the *kinetic energy* of the system, and"
   ]
  },
  {
   "cell_type": "markdown",
   "metadata": {},
   "source": [
    "<!-- Equation labels as ordinary links -->\n",
    "<div id=\"vib:model1:energy:potential\"></div>\n",
    "\n",
    "$$\n",
    "\\begin{equation}\n",
    "E_p(t) = {\\frac{1}{2}}ku^2\n",
    "\\label{vib:model1:energy:potential} \\tag{48}\n",
    "\\end{equation}\n",
    "$$"
   ]
  },
  {
   "cell_type": "markdown",
   "metadata": {},
   "source": [
    "is the *potential energy*. The sum $\\tilde E(t)$ is the total mechanical energy.\n",
    "The derivation demonstrates the famous energy principle that, under\n",
    "the right physical circumstances, any\n",
    "change in the kinetic energy is due to a change in potential energy\n",
    "and vice versa. (This principle breaks down when we introduce damping\n",
    "in the system, as we do in the section [Generalization: damping, nonlinearities, and\n",
    "excitation](vib_gen.ipynb#vib:model2).)\n",
    "\n",
    "The equation $mu^{\\prime\\prime}+ku=0$ can be divided by $m$ and written as\n",
    "$u^{\\prime\\prime} + \\omega^2u=0$ for $\\omega=\\sqrt{k/m}$. The energy expression\n",
    "$E(t)=\\frac{1}{2}(u^{\\prime})^2 + \\frac{1}{2}\\omega^2u^2$ derived earlier is then\n",
    "$\\tilde E(t)/m$, i.e., mechanical energy per unit mass.\n",
    "\n",
    "\n",
    "\n",
    "### Energy of the exact solution\n",
    "\n",
    "Analytically, we have $u(t)=I\\cos\\omega t$, if $u(0)=I$ and $u^{\\prime}(0)=0$,\n",
    "so we can easily check the energy evolution and confirm that $E(t)$\n",
    "is constant:"
   ]
  },
  {
   "cell_type": "markdown",
   "metadata": {},
   "source": [
    "$$\n",
    "E(t) = {\\frac{1}{2}}I^2 (-\\omega\\sin\\omega t)^2\n",
    "+ \\frac{1}{2}\\omega^2 I^2 \\cos^2\\omega t\n",
    "= \\frac{1}{2}\\omega^2 (\\sin^2\\omega t + \\cos^2\\omega t) = \\frac{1}{2}\\omega^2\n",
    "\\thinspace .\n",
    "$$"
   ]
  },
  {
   "cell_type": "markdown",
   "metadata": {},
   "source": [
    "### Growth of energy in the Forward Euler scheme\n",
    "\n",
    "mathcal{I}_t is easy to show that the energy in the Forward Euler scheme increases\n",
    "when stepping from time level $n$ to $n+1$."
   ]
  },
  {
   "cell_type": "markdown",
   "metadata": {},
   "source": [
    "$$\n",
    "\\begin{align*}\n",
    "E^{n+1} &= \\frac{1}{2}(v^{n+1})^2 + \\frac{1}{2}\\omega^2 (u^{n+1})^2\\\\ \n",
    "&= \\frac{1}{2}(v^n - \\omega^2\\Delta t u^n)^2 + \\frac{1}{2}\\omega^2(u^n + \\Delta t v^n)^2\\\\ \n",
    "&= (1 + \\Delta t^2\\omega^2)E^n\\thinspace .\n",
    "\\end{align*}\n",
    "$$"
   ]
  },
  {
   "cell_type": "markdown",
   "metadata": {},
   "source": [
    "## An error measure based on energy\n",
    "<div id=\"vib:model1:energy:measure\"></div>\n",
    "\n",
    "\n",
    "The constant energy is well expressed by its initial value $E(0)$, so that\n",
    "the error in mechanical energy can be computed as a mesh function by"
   ]
  },
  {
   "cell_type": "markdown",
   "metadata": {},
   "source": [
    "<!-- Equation labels as ordinary links -->\n",
    "<div id=\"_auto19\"></div>\n",
    "\n",
    "$$\n",
    "\\begin{equation}\n",
    "e_E^n = \\frac{1}{2}\\left(\\frac{u^{n+1}-u^{n-1}}{2\\Delta t}\\right)^2\n",
    "+ \\frac{1}{2}\\omega^2 (u^n)^2 - E(0),\n",
    "\\quad n=1,\\ldots,N_t-1,\n",
    "\\label{_auto19} \\tag{49}\n",
    "\\end{equation}\n",
    "$$"
   ]
  },
  {
   "cell_type": "markdown",
   "metadata": {},
   "source": [
    "where"
   ]
  },
  {
   "cell_type": "markdown",
   "metadata": {},
   "source": [
    "$$\n",
    "E(0) = {\\frac{1}{2}}V^2 + \\frac{1}{2}\\omega^2I^2,\n",
    "$$"
   ]
  },
  {
   "cell_type": "markdown",
   "metadata": {},
   "source": [
    "if $u(0)=I$ and $u^{\\prime}(0)=V$. Note that we have used a centered\n",
    "approximation to $u^{\\prime}$: $u^{\\prime}(t_n)\\approx [D_{2t}u]^n$.\n",
    "\n",
    "A useful norm of the mesh function $e_E^n$ for the discrete mechanical\n",
    "energy can be the maximum absolute value of $e_E^n$:"
   ]
  },
  {
   "cell_type": "markdown",
   "metadata": {},
   "source": [
    "$$\n",
    "||e_E^n||_{\\ell^\\infty} = \\max_{1\\leq n <N_t} |e_E^n|\\thinspace .\n",
    "$$"
   ]
  },
  {
   "cell_type": "markdown",
   "metadata": {},
   "source": [
    "Alternatively, we can compute other norms involving integration over\n",
    "all mesh points, but we are often interested in worst case deviation\n",
    "of the energy, and then the maximum value is of particular relevance.\n",
    "\n",
    "A vectorized Python implementation of $e_E^n$ takes the form"
   ]
  },
  {
   "cell_type": "markdown",
   "metadata": {},
   "source": [
    "```python\n",
    "# import numpy as np and compute u, t\n",
    "dt = t[1]-t[0]\n",
    "E = 0.5*((u[2:] - u[:-2])/(2*dt))**2 + 0.5*w**2*u[1:-1]**2\n",
    "E0 = 0.5*V**2 + 0.5**w**2*I**2\n",
    "e_E = E - E0\n",
    "e_E_norm = np.abs(e_E).max()\n",
    "```"
   ]
  },
  {
   "cell_type": "markdown",
   "metadata": {},
   "source": [
    "The convergence rates of the quantity `e_E_norm` can be used for\n",
    "verification.  The value of `e_E_norm` is also useful for comparing\n",
    "schemes through their ability to preserve energy. Below is a table\n",
    "demonstrating the relative error in total energy for various schemes\n",
    "(computed by the [`vib_undamped_odespy.py`](https://github.com/devitocodes/devito_book/blob/master/fdm-devito-notebooks/01_vib/src-vib/vib_undamped_odespy.py) program). The test problem is\n",
    "$u^{\\prime\\prime} + 4\\pi^2 u =0$ with $u(0)=1$ and $u'(0)=0$, so the\n",
    "period is 1 and $E(t)\\approx 4.93$. We clearly see that the\n",
    "Crank-Nicolson and the Runge-Kutta schemes are superior to the Forward\n",
    "and Backward Euler schemes already after one period.\n",
    "\n",
    "<table border=\"1\">\n",
    "<thead>\n",
    "<tr><th align=\"center\">        Method       </th> <th align=\"center\">$T$</th> <th align=\"center\">$\\Delta t$</th> <th align=\"center\">$\\max \\left\\vert e_E^n\\right\\vert/e_E^0$</th> </tr>\n",
    "</thead>\n",
    "<tbody>\n",
    "<tr><td align=\"left\">   Forward Euler            </td> <td align=\"left\">   $1$    </td> <td align=\"left\">   $0.025$       </td> <td align=\"left\">   $1.678\\cdot 10^{0}$                         </td> </tr>\n",
    "<tr><td align=\"left\">   Backward Euler           </td> <td align=\"left\">   $1$    </td> <td align=\"left\">   $0.025$       </td> <td align=\"left\">   $6.235\\cdot 10^{-1}$                        </td> </tr>\n",
    "<tr><td align=\"left\">   Crank-Nicolson           </td> <td align=\"left\">   $1$    </td> <td align=\"left\">   $0.025$       </td> <td align=\"left\">   $1.221\\cdot 10^{-2}$                        </td> </tr>\n",
    "<tr><td align=\"left\">   Runge-Kutta 2nd-order    </td> <td align=\"left\">   $1$    </td> <td align=\"left\">   $0.025$       </td> <td align=\"left\">   $6.076\\cdot 10^{-3}$                        </td> </tr>\n",
    "<tr><td align=\"left\">   Runge-Kutta 4th-order    </td> <td align=\"left\">   $1$    </td> <td align=\"left\">   $0.025$       </td> <td align=\"left\">   $8.214\\cdot 10^{-3}$                        </td> </tr>\n",
    "</tbody>\n",
    "</table>\n",
    "However, after 10 periods, the picture is much more dramatic:\n",
    "\n",
    "<table border=\"1\">\n",
    "<thead>\n",
    "<tr><th align=\"center\">        Method       </th> <th align=\"center\">$T$ </th> <th align=\"center\">$\\Delta t$</th> <th align=\"center\">$\\max \\left\\vert e_E^n\\right\\vert/e_E^0$</th> </tr>\n",
    "</thead>\n",
    "<tbody>\n",
    "<tr><td align=\"left\">   Forward Euler            </td> <td align=\"left\">   $10$    </td> <td align=\"left\">   $0.025$       </td> <td align=\"left\">   $1.788\\cdot 10^{4}$                         </td> </tr>\n",
    "<tr><td align=\"left\">   Backward Euler           </td> <td align=\"left\">   $10$    </td> <td align=\"left\">   $0.025$       </td> <td align=\"left\">   $1.000\\cdot 10^{0}$                         </td> </tr>\n",
    "<tr><td align=\"left\">   Crank-Nicolson           </td> <td align=\"left\">   $10$    </td> <td align=\"left\">   $0.025$       </td> <td align=\"left\">   $1.221\\cdot 10^{-2}$                        </td> </tr>\n",
    "<tr><td align=\"left\">   Runge-Kutta 2nd-order    </td> <td align=\"left\">   $10$    </td> <td align=\"left\">   $0.025$       </td> <td align=\"left\">   $6.250\\cdot 10^{-2}$                        </td> </tr>\n",
    "<tr><td align=\"left\">   Runge-Kutta 4th-order    </td> <td align=\"left\">   $10$    </td> <td align=\"left\">   $0.025$       </td> <td align=\"left\">   $8.288\\cdot 10^{-3}$                        </td> </tr>\n",
    "</tbody>\n",
    "</table>\n",
    "The Runge-Kutta and Crank-Nicolson methods hardly change their energy\n",
    "error with $T$, while the error in the Forward Euler method grows to\n",
    "huge levels and a relative error of 1 in the Backward Euler method\n",
    "points to $E(t)\\rightarrow 0$ as $t$ grows large.\n",
    "\n",
    "Running multiple values of $\\Delta t$, we can get some insight into\n",
    "the convergence of the energy error:\n",
    "\n",
    "<table border=\"1\">\n",
    "<thead>\n",
    "<tr><th align=\"center\">        Method       </th> <th align=\"center\">$T$ </th> <th align=\"center\">$\\Delta t$</th> <th align=\"center\">$\\max \\left\\vert e_E^n\\right\\vert/e_E^0$</th> </tr>\n",
    "</thead>\n",
    "<tbody>\n",
    "<tr><td align=\"left\">   Forward Euler            </td> <td align=\"left\">   $10$    </td> <td align=\"left\">   $0.05$        </td> <td align=\"left\">   $1.120\\cdot 10^{8}$                         </td> </tr>\n",
    "<tr><td align=\"left\">   Forward Euler            </td> <td align=\"left\">   $10$    </td> <td align=\"left\">   $0.025$       </td> <td align=\"left\">   $1.788\\cdot 10^{4}$                         </td> </tr>\n",
    "<tr><td align=\"left\">   Forward Euler            </td> <td align=\"left\">   $10$    </td> <td align=\"left\">   $0.0125$      </td> <td align=\"left\">   $1.374\\cdot 10^{2}$                         </td> </tr>\n",
    "<tr><td align=\"left\">   Backward Euler           </td> <td align=\"left\">   $10$    </td> <td align=\"left\">   $0.05$        </td> <td align=\"left\">   $1.000\\cdot 10^{0}$                         </td> </tr>\n",
    "<tr><td align=\"left\">   Backward Euler           </td> <td align=\"left\">   $10$    </td> <td align=\"left\">   $0.025$       </td> <td align=\"left\">   $1.000\\cdot 10^{0}$                         </td> </tr>\n",
    "<tr><td align=\"left\">   Backward Euler           </td> <td align=\"left\">   $10$    </td> <td align=\"left\">   $0.0125$      </td> <td align=\"left\">   $9.928\\cdot 10^{-1}$                        </td> </tr>\n",
    "<tr><td align=\"left\">   Crank-Nicolson           </td> <td align=\"left\">   $10$    </td> <td align=\"left\">   $0.05$        </td> <td align=\"left\">   $4.756\\cdot 10^{-2}$                        </td> </tr>\n",
    "<tr><td align=\"left\">   Crank-Nicolson           </td> <td align=\"left\">   $10$    </td> <td align=\"left\">   $0.025$       </td> <td align=\"left\">   $1.221\\cdot 10^{-2}$                        </td> </tr>\n",
    "<tr><td align=\"left\">   Crank-Nicolson           </td> <td align=\"left\">   $10$    </td> <td align=\"left\">   $0.0125$      </td> <td align=\"left\">   $3.125\\cdot 10^{-3}$                        </td> </tr>\n",
    "<tr><td align=\"left\">   Runge-Kutta 2nd-order    </td> <td align=\"left\">   $10$    </td> <td align=\"left\">   $0.05$        </td> <td align=\"left\">   $6.152\\cdot 10^{-1}$                        </td> </tr>\n",
    "<tr><td align=\"left\">   Runge-Kutta 2nd-order    </td> <td align=\"left\">   $10$    </td> <td align=\"left\">   $0.025$       </td> <td align=\"left\">   $6.250\\cdot 10^{-2}$                        </td> </tr>\n",
    "<tr><td align=\"left\">   Runge-Kutta 2nd-order    </td> <td align=\"left\">   $10$    </td> <td align=\"left\">   $0.0125$      </td> <td align=\"left\">   $7.631\\cdot 10^{-3}$                        </td> </tr>\n",
    "<tr><td align=\"left\">   Runge-Kutta 4th-order    </td> <td align=\"left\">   $10$    </td> <td align=\"left\">   $0.05$        </td> <td align=\"left\">   $3.510\\cdot 10^{-2}$                        </td> </tr>\n",
    "<tr><td align=\"left\">   Runge-Kutta 4th-order    </td> <td align=\"left\">   $10$    </td> <td align=\"left\">   $0.025$       </td> <td align=\"left\">   $8.288\\cdot 10^{-3}$                        </td> </tr>\n",
    "<tr><td align=\"left\">   Runge-Kutta 4th-order    </td> <td align=\"left\">   $10$    </td> <td align=\"left\">   $0.0125$      </td> <td align=\"left\">   $2.058\\cdot 10^{-3}$                        </td> </tr>\n",
    "</tbody>\n",
    "</table>\n",
    "A striking fact from this table is that the error of the Forward Euler\n",
    "method is reduced by the same factor as $\\Delta t$ is reduced by,\n",
    "while the error in the Crank-Nicolson method has a reduction\n",
    "proportional to $\\Delta t^2$ (we cannot say anything for the Backward\n",
    "Euler method). However, for the RK2 method, halving $\\Delta t$ reduces\n",
    "the error by almost a factor of 10 (!), and for the RK4 method the\n",
    "reduction seems proportional to $\\Delta t^2$ only (and the trend is\n",
    "confirmed by running smaller time steps, so for $\\Delta t = 3.9\\cdot\n",
    "10^{-4}$ the relative error of RK2 is a factor 10 smaller than that of\n",
    "RK4!).\n",
    "\n",
    "\n",
    "<!-- Should build a verification test on the energy error. -->\n",
    "\n",
    "<!-- Link phase plane plot to energy -->\n",
    "<!-- A phase plane plot shows the curve $(u(t), u^{\\prime}(t))$. -->\n",
    "\n",
    "\n",
    "# The Euler-Cromer method\n",
    "<div id=\"vib:model2x2:EulerCromer\"></div>\n",
    "\n",
    "While the Runge-Kutta methods and the Crank-Nicolson scheme work well\n",
    "for the vibration equation modeled as a first-order ODE system, both\n",
    "were inferior to the straightforward centered difference scheme for\n",
    "the second-order equation $u^{\\prime\\prime}+\\omega^2u=0$. However,\n",
    "there is a similarly successful scheme available for the first-order\n",
    "system $u^{\\prime}=v$, $v^{\\prime}=-\\omega^2u$, to be presented below.\n",
    "The ideas of the scheme and their further developments have become\n",
    "very popular in particle and rigid body dynamics and hence are widely\n",
    "used by physicists.\n",
    "\n",
    "\n",
    "\n",
    "## Forward-backward discretization\n",
    "\n",
    "The idea is to apply a Forward Euler discretization to the first\n",
    "equation and a Backward Euler discretization to the second. In\n",
    "operator notation this is stated as"
   ]
  },
  {
   "cell_type": "markdown",
   "metadata": {},
   "source": [
    "<!-- Equation labels as ordinary links -->\n",
    "<div id=\"_auto20\"></div>\n",
    "\n",
    "$$\n",
    "\\begin{equation}\n",
    "\\lbrack D_t^+u = v\\rbrack^n,\n",
    "\\label{_auto20} \\tag{50}\n",
    "\\end{equation}\n",
    "$$"
   ]
  },
  {
   "cell_type": "markdown",
   "metadata": {},
   "source": [
    "<!-- Equation labels as ordinary links -->\n",
    "<div id=\"_auto21\"></div>\n",
    "\n",
    "$$\n",
    "\\begin{equation}  \n",
    "\\lbrack D_t^-v = -\\omega^2 u\\rbrack^{n+1}\n",
    "\\thinspace .\n",
    "\\label{_auto21} \\tag{51}\n",
    "\\end{equation}\n",
    "$$"
   ]
  },
  {
   "cell_type": "markdown",
   "metadata": {},
   "source": [
    "We can write out the formulas and collect the unknowns on the left-hand side:"
   ]
  },
  {
   "cell_type": "markdown",
   "metadata": {},
   "source": [
    "<!-- Equation labels as ordinary links -->\n",
    "<div id=\"vib:model2x2:EulerCromer:ueq1\"></div>\n",
    "\n",
    "$$\n",
    "\\begin{equation}\n",
    "u^{n+1} = u^n + \\Delta t v^n,\n",
    "\\label{vib:model2x2:EulerCromer:ueq1} \\tag{52}\n",
    "\\end{equation}\n",
    "$$"
   ]
  },
  {
   "cell_type": "markdown",
   "metadata": {},
   "source": [
    "<!-- Equation labels as ordinary links -->\n",
    "<div id=\"vib:model2x2:EulerCromer:veq1\"></div>\n",
    "\n",
    "$$\n",
    "\\begin{equation}  \n",
    "v^{n+1} = v^n -\\Delta t \\omega^2u^{n+1}\n",
    "\\label{vib:model2x2:EulerCromer:veq1} \\tag{53}\n",
    "\\thinspace .\n",
    "\\end{equation}\n",
    "$$"
   ]
  },
  {
   "cell_type": "markdown",
   "metadata": {},
   "source": [
    "We realize that after $u^{n+1}$ has been computed from\n",
    "([52](#vib:model2x2:EulerCromer:ueq1)), it may be used directly\n",
    "in\n",
    "([53](#vib:model2x2:EulerCromer:veq1)) to compute $v^{n+1}$.\n",
    "\n",
    "In physics, it is more common to update the $v$ equation first, with a\n",
    "forward difference, and thereafter the $u$ equation, with a backward\n",
    "difference that applies the most recently computed $v$ value:"
   ]
  },
  {
   "cell_type": "markdown",
   "metadata": {},
   "source": [
    "<!-- Equation labels as ordinary links -->\n",
    "<div id=\"vib:model2x2:EulerCromer:veq1b\"></div>\n",
    "\n",
    "$$\n",
    "\\begin{equation}\n",
    "v^{n+1} = v^n -\\Delta t \\omega^2u^{n},\n",
    "\\label{vib:model2x2:EulerCromer:veq1b} \\tag{54}\n",
    "\\end{equation}\n",
    "$$"
   ]
  },
  {
   "cell_type": "markdown",
   "metadata": {},
   "source": [
    "<!-- Equation labels as ordinary links -->\n",
    "<div id=\"vib:model2x2:EulerCromer:ueq1b\"></div>\n",
    "\n",
    "$$\n",
    "\\begin{equation}  \n",
    "u^{n+1} = u^n + \\Delta t v^{n+1}\\thinspace .\n",
    "\\label{vib:model2x2:EulerCromer:ueq1b} \\tag{55}\n",
    "\\end{equation}\n",
    "$$"
   ]
  },
  {
   "cell_type": "markdown",
   "metadata": {},
   "source": [
    "The advantage of ordering the ODEs as in\n",
    "([54](#vib:model2x2:EulerCromer:veq1b))-([55](#vib:model2x2:EulerCromer:ueq1b))\n",
    "becomes evident when considering complicated models. Such models are\n",
    "included if we write our vibration ODE more generally as"
   ]
  },
  {
   "cell_type": "markdown",
   "metadata": {},
   "source": [
    "$$\n",
    "u^{\\prime\\prime} + g(u, u^{\\prime}, t)=0\\thinspace .\n",
    "$$"
   ]
  },
  {
   "cell_type": "markdown",
   "metadata": {},
   "source": [
    "We can rewrite this second-order ODE as two first-order ODEs,"
   ]
  },
  {
   "cell_type": "markdown",
   "metadata": {},
   "source": [
    "$$\n",
    "\\begin{align*}\n",
    "v^{\\prime} &= -g(u,v,t),\\\\ \n",
    "u^{\\prime} &= v\\thinspace .\n",
    "\\end{align*}\n",
    "$$"
   ]
  },
  {
   "cell_type": "markdown",
   "metadata": {},
   "source": [
    "This rewrite allows the following scheme to be used:"
   ]
  },
  {
   "cell_type": "markdown",
   "metadata": {},
   "source": [
    "$$\n",
    "\\begin{align*}\n",
    "v^{n+1} &= v^n -\\Delta t\\, g(u^n,v^n,t),\\\\ \n",
    "u^{n+1} &= u^n + \\Delta t\\, v^{n+1}\\thinspace .\n",
    "\\end{align*}\n",
    "$$"
   ]
  },
  {
   "cell_type": "markdown",
   "metadata": {},
   "source": [
    "We realize that the first update works well with any $g$ since old\n",
    "values $u^n$ and $v^n$ are used. Switching the equations would\n",
    "demand $u^{n+1}$ and $v^{n+1}$ values in $g$ and result in nonlinear\n",
    "algebraic equations to be solved at each time level.\n",
    "\n",
    "\n",
    "\n",
    "<!-- Despite using a backward difference, there is no need to solve a coupled -->\n",
    "<!-- system for $u^{n+1}$ and $v^{n+1}$ because the structure of the ODEs -->\n",
    "<!-- allows ([52](#vib:model2x2:EulerCromer:ueq1)) -->\n",
    "\n",
    "\n",
    "The scheme\n",
    "([54](#vib:model2x2:EulerCromer:veq1b))-([55](#vib:model2x2:EulerCromer:ueq1b))\n",
    "goes under several names: forward-backward scheme, [semi-implicit\n",
    "Euler method](http://en.wikipedia.org/wiki/Semi-implicit_Euler_method),\n",
    "semi-explicit Euler, symplectic Euler,\n",
    "Newton-Stoermer-Verlet,\n",
    "and Euler-Cromer.  We shall stick to the latter name.\n",
    "\n",
    "How does the Euler-Cromer method preserve the total energy?\n",
    "We may run the example from the section [An error measure based on energy](#vib:model1:energy:measure):\n",
    "\n",
    "<table border=\"1\">\n",
    "<thead>\n",
    "<tr><th align=\"center\">   Method   </th> <th align=\"center\">$T$ </th> <th align=\"center\">$\\Delta t$</th> <th align=\"center\">$\\max \\left\\vert e_E^n\\right\\vert/e_E^0$</th> </tr>\n",
    "</thead>\n",
    "<tbody>\n",
    "<tr><td align=\"left\">   Euler-Cromer    </td> <td align=\"left\">   $10$    </td> <td align=\"left\">   $0.05$        </td> <td align=\"left\">   $2.530\\cdot 10^{-2}$                        </td> </tr>\n",
    "<tr><td align=\"left\">   Euler-Cromer    </td> <td align=\"left\">   $10$    </td> <td align=\"left\">   $0.025$       </td> <td align=\"left\">   $6.206\\cdot 10^{-3}$                        </td> </tr>\n",
    "<tr><td align=\"left\">   Euler-Cromer    </td> <td align=\"left\">   $10$    </td> <td align=\"left\">   $0.0125$      </td> <td align=\"left\">   $1.544\\cdot 10^{-3}$                        </td> </tr>\n",
    "</tbody>\n",
    "</table>\n",
    "The relative error in the total energy decreases as $\\Delta t^2$,\n",
    "and the error level is slightly lower than for the Crank-Nicolson and\n",
    "Runge-Kutta methods.\n",
    "\n",
    "\n",
    "## Equivalence with the scheme for the second-order ODE\n",
    "<div id=\"vib:model2x2:EulerCromer:equiv\"></div>\n",
    "\n",
    "We shall now show that the Euler-Cromer scheme for the system of\n",
    "first-order equations is equivalent to the centered finite difference\n",
    "method for the second-order vibration ODE (!).\n",
    "\n",
    "We may eliminate the $v^n$ variable from\n",
    "([52](#vib:model2x2:EulerCromer:ueq1))-([53](#vib:model2x2:EulerCromer:veq1))\n",
    "or\n",
    "([54](#vib:model2x2:EulerCromer:veq1b))-([55](#vib:model2x2:EulerCromer:ueq1b)).\n",
    "The $v^{n+1}$ term in ([54](#vib:model2x2:EulerCromer:veq1b)) can\n",
    "be eliminated from ([55](#vib:model2x2:EulerCromer:ueq1b)):"
   ]
  },
  {
   "cell_type": "markdown",
   "metadata": {},
   "source": [
    "<!-- Equation labels as ordinary links -->\n",
    "<div id=\"vib:model2x2:EulerCromer:elim1\"></div>\n",
    "\n",
    "$$\n",
    "\\begin{equation}\n",
    "u^{n+1} = u^n + \\Delta t (v^n - \\omega^2\\Delta t u^n)\\thinspace .\n",
    "\\label{vib:model2x2:EulerCromer:elim1} \\tag{56}\n",
    "\\end{equation}\n",
    "$$"
   ]
  },
  {
   "cell_type": "markdown",
   "metadata": {},
   "source": [
    "The $v^{n}$ quantity can be expressed by $u^n$ and $u^{n-1}$\n",
    "using ([55](#vib:model2x2:EulerCromer:ueq1b)):"
   ]
  },
  {
   "cell_type": "markdown",
   "metadata": {},
   "source": [
    "$$\n",
    "v^{n} = \\frac{u^n - u^{n-1}}{\\Delta t},\n",
    "$$"
   ]
  },
  {
   "cell_type": "markdown",
   "metadata": {},
   "source": [
    "and when this is inserted in ([56](#vib:model2x2:EulerCromer:elim1)) we get"
   ]
  },
  {
   "cell_type": "markdown",
   "metadata": {},
   "source": [
    "<!-- Equation labels as ordinary links -->\n",
    "<div id=\"_auto22\"></div>\n",
    "\n",
    "$$\n",
    "\\begin{equation}\n",
    "u^{n+1} = 2u^n - u^{n-1} - \\Delta t^2 \\omega^2u^{n},\n",
    "\\label{_auto22} \\tag{57}\n",
    "\\end{equation}\n",
    "$$"
   ]
  },
  {
   "cell_type": "markdown",
   "metadata": {},
   "source": [
    "which is nothing but the centered scheme ([7](#vib:ode1:step4))!  The\n",
    "two seemingly different numerical methods are mathematically\n",
    "equivalent. Consequently, the previous analysis of\n",
    "([7](#vib:ode1:step4)) also applies to the Euler-Cromer method. In\n",
    "particular, the amplitude is constant, given that the stability\n",
    "criterion is fulfilled, but there is always an angular frequency error\n",
    "([19](#vib:ode1:tildeomega:series)). [Exercise 18: Analysis of the Euler-Cromer scheme](#vib:exer:EulerCromer:analysis) gives guidance on how to derive the\n",
    "exact discrete solution of the two equations in the Euler-Cromer\n",
    "method.\n",
    "\n",
    "Although the Euler-Cromer scheme and the method ([7](#vib:ode1:step4))\n",
    "are equivalent, there could be differences in the way they handle the\n",
    "initial conditions. Let us look into this topic.  The initial\n",
    "condition $u^{\\prime}=0$ means $u^{\\prime}=v=0$.  From\n",
    "([54](#vib:model2x2:EulerCromer:veq1b)) we get"
   ]
  },
  {
   "cell_type": "markdown",
   "metadata": {},
   "source": [
    "$$\n",
    "v^1=v^0-\\Delta t\\omega^2 u^0\n",
    "=\\Delta t\\omega^2 u^0,\n",
    "$$"
   ]
  },
  {
   "cell_type": "markdown",
   "metadata": {},
   "source": [
    "and from ([55](#vib:model2x2:EulerCromer:ueq1b))\n",
    "it follows that"
   ]
  },
  {
   "cell_type": "markdown",
   "metadata": {},
   "source": [
    "$$\n",
    "u^1=u^0 + \\Delta t v^1 = u^0 - \\omega^2\\Delta t^2 u^0\\thinspace .\n",
    "$$"
   ]
  },
  {
   "cell_type": "markdown",
   "metadata": {},
   "source": [
    "When we previously used a centered approximation of $u^{\\prime}(0)=0$\n",
    "combined with the discretization ([7](#vib:ode1:step4)) of the\n",
    "second-order ODE, we got a slightly different result: $u^1=u^0 -\n",
    "\\frac{1}{2}\\omega^2\\Delta t^2 u^0$. The difference is\n",
    "$\\frac{1}{2}\\omega^2\\Delta t^2 u^0$, which is of second order in\n",
    "$\\Delta t$, seemingly consistent with the overall error in the scheme\n",
    "for the differential equation model.\n",
    "\n",
    "A different view can also be taken.  If we approximate\n",
    "$u^{\\prime}(0)=0$ by a backward difference, $(u^0-u^{-1})/\\Delta t\n",
    "=0$, we get $u^{-1}=u^0$, and when combined with\n",
    "([7](#vib:ode1:step4)), it results in $u^1=u^0 - \\omega^2\\Delta t^2\n",
    "u^0$. This means that the Euler-Cromer method based on\n",
    "([55](#vib:model2x2:EulerCromer:ueq1b))-([54](#vib:model2x2:EulerCromer:veq1b))\n",
    "corresponds to using only a first-order approximation to the initial\n",
    "condition in the method from the section [A centered finite difference scheme](#vib:ode1:fdm).\n",
    "\n",
    "Correspondingly, using the formulation\n",
    "([52](#vib:model2x2:EulerCromer:ueq1))-([53](#vib:model2x2:EulerCromer:veq1))\n",
    "with $v^n=0$ leads to $u^1=u^0$, which can be interpreted as using a\n",
    "forward difference approximation for the initial condition\n",
    "$u^{\\prime}(0)=0$.  Both Euler-Cromer formulations lead to slightly\n",
    "different values for $u^1$ compared to the method in the section [A centered finite difference scheme](#vib:ode1:fdm).  The error is $\\frac{1}{2}\\omega^2\\Delta t^2 u^0$.\n",
    "\n",
    "## Implementation\n",
    "<div id=\"vib:model2x2:EulerCromer:impl\"></div>\n",
    "\n",
    "### Solver function\n",
    "\n",
    "The function below, found in [`vib_undamped_EulerCromer.py`](https://github.com/devitocodes/devito_book/blob/master/fdm-devito-notebooks/01_vib/src-vib/vib_undamped_EulerCromer.py), implements the Euler-Cromer scheme\n",
    "([54](#vib:model2x2:EulerCromer:veq1b))-([55](#vib:model2x2:EulerCromer:ueq1b)):"
   ]
  },
  {
   "cell_type": "code",
   "execution_count": 50,
   "metadata": {},
   "outputs": [],
   "source": [
    "import numpy as np\n",
    "from devito import Dimension, TimeFunction, Eq, solve, Operator, Constant"
   ]
  },
  {
   "cell_type": "code",
   "execution_count": 51,
   "metadata": {},
   "outputs": [],
   "source": [
    "# %load -s solver, src-vib/vib_undamped_EulerCromer.py\n",
    "def solver(I, w, dt, T):\n",
    "    \"\"\"\n",
    "    Solve u'=v, v' = - w**2*u for t in (0,T], u(0)=I and v(0)=0,\n",
    "    by an Euler-Cromer method.\n",
    "    \"\"\"\n",
    "    dt = float(dt)\n",
    "    Nt = int(round(T/dt))\n",
    "    \n",
    "    t = Dimension('t', spacing=Constant('h_t'))\n",
    "    v = TimeFunction(name='v', dimensions=(t,), shape=(Nt+1,), space_order=2)\n",
    "    u = TimeFunction(name='u', dimensions=(t,), shape=(Nt+1,), space_order=2)\n",
    "\n",
    "    v.data[:] = 0    \n",
    "    u.data[:] = I\n",
    "\n",
    "    eq_v = Eq(v.dt, -(w**2)*u)\n",
    "    eq_u = Eq(u.dt, v.forward)\n",
    "    \n",
    "    stencil_v = solve(eq_v, v.forward)\n",
    "    stencil_u = solve(eq_u, u.forward)\n",
    "    \n",
    "    update_v = Eq(v.forward, stencil_v)\n",
    "    update_u = Eq(u.forward, stencil_u)\n",
    "    \n",
    "\n",
    "    op = Operator([update_v, update_u])\n",
    "    op.apply(h_t=dt, t_M=Nt-1)\n",
    "\n",
    "    return u.data, v.data, np.linspace(0, Nt*dt, Nt+1)\n"
   ]
  },
  {
   "cell_type": "markdown",
   "metadata": {},
   "source": [
    "We can now compare the output from this function with the exact solution to the original second-order vibration ODE using our `visualize` function from before:"
   ]
  },
  {
   "cell_type": "code",
   "execution_count": 53,
   "metadata": {},
   "outputs": [
    {
     "name": "stderr",
     "output_type": "stream",
     "text": [
      "Operator `Kernel` run in 0.01 s\n"
     ]
    },
    {
     "data": {
      "image/png": "[encoded data removed]",
      "text/plain": [
       "<Figure size 432x288 with 1 Axes>"
      ]
     },
     "metadata": {
      "needs_background": "light"
     },
     "output_type": "display_data"
    }
   ],
   "source": [
    "I = 1\n",
    "w = 2*np.pi\n",
    "dt = 0.05\n",
    "num_periods = 5\n",
    "P = 2*np.pi/w    #  one period\n",
    "T = P*num_periods\n",
    "u, v, t = solver(I, w, dt, T)\n",
    "\n",
    "visualize(u, t, I, w)"
   ]
  },
  {
   "cell_type": "markdown",
   "metadata": {},
   "source": [
    "### Verification\n",
    "\n",
    "Since the Euler-Cromer scheme is equivalent to the finite difference\n",
    "method for the second-order ODE $u^{\\prime\\prime}+\\omega^2u=0$ (see the section [Equivalence with the scheme for the second-order ODE](#vib:model2x2:EulerCromer:equiv)), the performance of the above\n",
    "`solver` function is the same as for the `solver` function in the section [Implementation](#vib:impl1). The only difference is the formula for the first time\n",
    "step, as discussed above.  This deviation in the Euler-Cromer scheme\n",
    "means that the discrete solution listed in the section [Exact discrete solution](#vib:ode1:analysis:sol) is not a solution of the Euler-Cromer\n",
    "scheme!\n",
    "\n",
    "To verify the implementation of the Euler-Cromer method we can adjust\n",
    "`v[1]` so that the computer-generated values can be compared with the\n",
    "formula ([20](#vib:ode1:un:exact)) from in the section [Exact discrete solution](#vib:ode1:analysis:sol). This adjustment is done in an alternative\n",
    "solver function, `solver_ic_fix` in [`vib_undamped_EulerCromer.py`](https://github.com/devitocodes/devito_book/blob/master/fdm-devito-notebooks/01_vib/src-vib/vib_undamped_EulerCromer.py). Since we now\n",
    "have an exact solution of the discrete equations available, we can\n",
    "write a test function `test_solver` for checking the equality of\n",
    "computed values with the formula ([20](#vib:ode1:un:exact)):"
   ]
  },
  {
   "cell_type": "code",
   "execution_count": 54,
   "metadata": {},
   "outputs": [],
   "source": [
    "# %load -s test_solver, src-vib/vib_undamped_EulerCromer.py\n",
    "def test_solver():\n",
    "    \"\"\"\n",
    "    Test solver with fixed initial condition against\n",
    "    equivalent scheme for the 2nd-order ODE u'' + u = 0.\n",
    "    \"\"\"\n",
    "    I = 1.2; w = 2.0; T = 5\n",
    "    dt = 2/w  # longest possible time step\n",
    "    u, v, t = solver_ic_fix(I, w, dt, T)\n",
    "    from vib_undamped import solver as solver2  # 2nd-order ODE\n",
    "    u2, t2 = solver2(I, w, dt, T)\n",
    "    error = np.abs(u - u2).max()\n",
    "    tol = 1E-14\n",
    "    assert error < tol\n"
   ]
  },
  {
   "cell_type": "markdown",
   "metadata": {},
   "source": [
    "Another function, `demo`, visualizes the difference between the\n",
    "Euler-Cromer scheme and the scheme ([7](#vib:ode1:step4)) for the\n",
    "second-oder ODE, arising from the mismatch in the first time level.\n"
   ]
  },
  {
   "cell_type": "markdown",
   "metadata": {},
   "source": [
    "### Convergence rates\n",
    "\n",
    "We may use the `convergence_rates` function in the file\n",
    "[`vib_undamped.py`](https://github.com/devitocodes/devito_book/blob/master/fdm-devito-notebooks/01_vib/src-vib/vib_undamped.py) to investigate the convergence rate of the\n",
    "Euler-Cromer method, see the `convergence_rate` function in the file\n",
    "[`vib_undamped_EulerCromer.py`](https://github.com/devitocodes/devito_book/blob/master/fdm-devito-notebooks/01_vib/src-vib/vib_undamped_EulerCromer.py).  Since we could eliminate $v$ to get a\n",
    "scheme for $u$ that is equivalent to the finite difference method for\n",
    "the second-order equation in $u$, we would expect the convergence\n",
    "rates to be the same, i.e., $r = 2$. However,\n",
    "measuring the convergence rate of $u$ in the Euler-Cromer scheme shows\n",
    "that $r = 1$ only!  Adjusting the initial condition\n",
    "does not change the rate. Adjusting $\\omega$, as outlined in the section [The error in the numerical frequency](#vib:ode1:analysis:numfreq), gives a 4th-order method there, while\n",
    "there is no increase in the measured rate in the Euler-Cromer\n",
    "scheme. It is obvious that the Euler-Cromer scheme is dramatically\n",
    "much better than the two other first-order methods, Forward Euler and\n",
    "Backward Euler, but this is not reflected in the convergence rate of\n",
    "$u$.\n",
    "\n",
    "\n",
    "<!-- is anything really gained? is v of higher order compared -->\n",
    "<!-- with differentiating u in the 2nd order ODE? most likely, -->\n",
    "<!-- v is 2nd order, v from 2nd-order ODE is 1st order -->\n",
    "\n",
    "## The Stoermer-Verlet algorithm\n",
    "<div id=\"vib:model2x2:StormerVerlet\"></div>\n",
    "\n",
    "<!-- See velverlet_EulerCromer_....pdf for discussion and relation to EC -->\n",
    "\n",
    "\n",
    "Another very popular algorithm for vibration problems, especially\n",
    "for long time simulations, is the\n",
    "Stoermer-Verlet\n",
    "algorithm. It has become *the* method among physicists\n",
    "for molecular simulations as well as particle and rigid body dynamics.\n",
    "\n",
    "The method can be derived by applying the Euler-Cromer idea\n",
    "twice, in a symmetric fashion, during the interval $[t_n,t_{n+1}]$:\n",
    "\n",
    "1. solve $v^{\\prime}=-\\omega u$ by a Forward Euler step in $[t_n,t_{n+\\frac{1}{2}}]$\n",
    "\n",
    "2. solve $u^{\\prime}=v$ by a Backward Euler step in $[t_n,t_{n+\\frac{1}{2}}]$\n",
    "\n",
    "3. solve $u^{\\prime}=v$ by a Forward Euler step in $[t_{n+\\frac{1}{2}}, t_{n+1}]$\n",
    "\n",
    "4. solve $v^{\\prime}=-\\omega u$ by a Backward Euler step in $[t_{n+\\frac{1}{2}}, t_{n+1}]$\n",
    "\n",
    "With mathematics,"
   ]
  },
  {
   "cell_type": "markdown",
   "metadata": {},
   "source": [
    "$$\n",
    "\\begin{align*}\n",
    "\\frac{v^{n+\\frac{1}{2}}-v^n}{\\frac{1}{2}\\Delta t} &= -\\omega^2 u^n,\\\\ \n",
    "\\frac{u^{n+\\frac{1}{2}}-u^n}{\\frac{1}{2}\\Delta t} &= v^{n+\\frac{1}{2}},\\\\ \n",
    "\\frac{u^{n+1}-u^{n+\\frac{1}{2}}}{\\frac{1}{2}\\Delta t} &= v^{n+\\frac{1}{2}},\\\\ \n",
    "\\frac{v^{n+1}-v^{n+\\frac{1}{2}}}{\\frac{1}{2}\\Delta t} &= -\\omega^2 u^{n+1}\\thinspace .\n",
    "\\end{align*}\n",
    "$$"
   ]
  },
  {
   "cell_type": "markdown",
   "metadata": {},
   "source": [
    "The two steps in the middle can be combined to"
   ]
  },
  {
   "cell_type": "markdown",
   "metadata": {},
   "source": [
    "$$\n",
    "\\frac{u^{n+1}-u^{n}}{\\Delta t} = v^{n+\\frac{1}{2}},\n",
    "$$"
   ]
  },
  {
   "cell_type": "markdown",
   "metadata": {},
   "source": [
    "and consequently"
   ]
  },
  {
   "cell_type": "markdown",
   "metadata": {},
   "source": [
    "<!-- Equation labels as ordinary links -->\n",
    "<div id=\"_auto23\"></div>\n",
    "\n",
    "$$\n",
    "\\begin{equation}\n",
    "v^{n+\\frac{1}{2}} = v^n - \\frac{1}{2}\\Delta t \\omega^2 u^n,\n",
    "\\label{_auto23} \\tag{58}\n",
    "\\end{equation}\n",
    "$$"
   ]
  },
  {
   "cell_type": "markdown",
   "metadata": {},
   "source": [
    "<!-- Equation labels as ordinary links -->\n",
    "<div id=\"_auto24\"></div>\n",
    "\n",
    "$$\n",
    "\\begin{equation}  \n",
    "u^{n+1} = u^{n} + \\Delta t v^{n+\\frac{1}{2}},\n",
    "\\label{_auto24} \\tag{59}\n",
    "\\end{equation}\n",
    "$$"
   ]
  },
  {
   "cell_type": "markdown",
   "metadata": {},
   "source": [
    "<!-- Equation labels as ordinary links -->\n",
    "<div id=\"_auto25\"></div>\n",
    "\n",
    "$$\n",
    "\\begin{equation}  \n",
    "v^{n+1} = v^{n+\\frac{1}{2}} - \\frac{1}{2}\\Delta t \\omega^2 u^{n+1}\\thinspace .\n",
    "\\label{_auto25} \\tag{60}\n",
    "\\end{equation}\n",
    "$$"
   ]
  },
  {
   "cell_type": "markdown",
   "metadata": {},
   "source": [
    "Writing the last equation as $v^n = v^{n-\\frac{1}{2}} - \\frac{1}{2}\\Delta\n",
    "t\\omega^2 u^n$ and using this $v^n$ in the first equation gives\n",
    "$v^{n+\\frac{1}{2}} = v^{n-\\frac{1}{2}} - \\Delta t\\omega^2 u^n$, and the scheme can\n",
    "be written as two steps:"
   ]
  },
  {
   "cell_type": "markdown",
   "metadata": {},
   "source": [
    "<!-- Equation labels as ordinary links -->\n",
    "<div id=\"vib:model2x2:StormerVerlet:eqv\"></div>\n",
    "\n",
    "$$\n",
    "\\begin{equation}\n",
    "v^{n+\\frac{1}{2}} = v^{n-\\frac{1}{2}} - \\Delta t \\omega^2 u^n,\n",
    "\\label{vib:model2x2:StormerVerlet:eqv} \\tag{61}\n",
    "\\end{equation}\n",
    "$$"
   ]
  },
  {
   "cell_type": "markdown",
   "metadata": {},
   "source": [
    "<!-- Equation labels as ordinary links -->\n",
    "<div id=\"vib:model2x2:StormerVerlet:equ\"></div>\n",
    "\n",
    "$$\n",
    "\\begin{equation}  \n",
    "u^{n+1} = u^{n} + \\Delta t v^{n+\\frac{1}{2}},\n",
    "\\label{vib:model2x2:StormerVerlet:equ} \\tag{62}\n",
    "\\end{equation}\n",
    "$$"
   ]
  },
  {
   "cell_type": "markdown",
   "metadata": {},
   "source": [
    "which is nothing but straightforward centered differences for the\n",
    "$2\\times 2$ ODE system on a *staggered mesh*, see\n",
    "the section [The Euler-Cromer scheme on a staggered mesh](#vib:model2x2:staggered). We have thus seen that\n",
    "four different reasonings (discretizing $u^{\\prime\\prime}+\\omega^2 u$\n",
    "directly, using Euler-Cromer, using\n",
    "Stoermer-Verlet,\n",
    "and using centered differences for the $2\\times 2$ system on a staggered\n",
    "mesh) all end up with the same equations! The main difference is that\n",
    "the traditional Euler-Cromer displays first-order convergence in $\\Delta t$\n",
    "(due to less symmetry in the way $u$ and $v$ are treated)\n",
    "while the others are $\\mathcal{O}{\\Delta t^2}$ schemes.\n",
    "\n",
    "\n",
    "The most numerically stable scheme, with respect to accumulation of\n",
    "rounding errors, is\n",
    "([61](#vib:model2x2:StormerVerlet:eqv))-([62](#vib:model2x2:StormerVerlet:equ)).\n",
    "It has, according to [[Hairer_Wanner_Norsett_bookI]](#Hairer_Wanner_Norsett_bookI), better\n",
    "properties in this regard than the direct scheme for the second-order\n",
    "ODE.\n",
    "\n",
    "\n",
    "\n",
    "# Staggered mesh\n",
    "\n",
    "A more intuitive discretization than the Euler-Cromer method, yet\n",
    "equivalent, employs solely centered differences in a natural way\n",
    "for the $2\\times 2$ first-order ODE system.\n",
    "The scheme is in fact fully equivalent to the second-order scheme for\n",
    "$u''+\\omega u=0$, also for the first time step.\n",
    "Such a scheme needs to operate on a *staggered mesh* in time.\n",
    "Staggered meshes are very popular in many physical application, maybe foremost\n",
    "fluid dynamics and electromagnetics, so the topic is important to learn.\n",
    "\n",
    "\n",
    "## The Euler-Cromer scheme on a staggered mesh\n",
    "<div id=\"vib:model2x2:staggered\"></div>\n",
    "\n",
    "\n",
    "In a staggered mesh, the unknowns are sought at different points in\n",
    "the mesh. Specifically, $u$ is sought at\n",
    "integer time points $t_n$ and $v$ is sought at $t_{n+1/2}$\n",
    "*between* two $u$ points.\n",
    "The unknowns are then $u^1, v^{3/2}, u^2, v^{5/2}$, and so on.\n",
    "We typically use the notation\n",
    "$u^n$ and $v^{n+\\frac{1}{2}}$ for the two unknown mesh functions.\n",
    "[Figure](#staggered:EC:fig1) presents a graphical sketch of two\n",
    "mesh functions $u$ and $v$ on a staggered mesh.\n",
    "\n",
    "<!-- dom:FIGURE: [fig-vib/staggered_time.png, width=500 frac=0.8] Examples on mesh functions on a staggered mesh in time. <div id=\"staggered:EC:fig1\"></div> -->\n",
    "<!-- begin figure -->\n",
    "<div id=\"staggered:EC:fig1\"></div>\n",
    "\n",
    "<p>Examples on mesh functions on a staggered mesh in time.</p>\n",
    "<img src=\"fig-vib/staggered_time.png\" width=500>\n",
    "\n",
    "<!-- end figure -->\n",
    "\n",
    "\n",
    "\n",
    "On a staggered mesh it is natural to\n",
    "use centered difference approximations, expressed\n",
    "in operator notation as"
   ]
  },
  {
   "cell_type": "markdown",
   "metadata": {},
   "source": [
    "<!-- Equation labels as ordinary links -->\n",
    "<div id=\"_auto26\"></div>\n",
    "\n",
    "$$\n",
    "\\begin{equation}\n",
    "\\lbrack D_t u = v\\rbrack^{n+\\frac{1}{2}},\n",
    "\\label{_auto26} \\tag{63}\n",
    "\\end{equation}\n",
    "$$"
   ]
  },
  {
   "cell_type": "markdown",
   "metadata": {},
   "source": [
    "<!-- Equation labels as ordinary links -->\n",
    "<div id=\"_auto27\"></div>\n",
    "\n",
    "$$\n",
    "\\begin{equation}  \n",
    "\\lbrack D_t v = -\\omega^2 u\\rbrack^{n+1}\n",
    "\\thinspace .\n",
    "\\label{_auto27} \\tag{64}\n",
    "\\end{equation}\n",
    "$$"
   ]
  },
  {
   "cell_type": "markdown",
   "metadata": {},
   "source": [
    "or if we switch the sequence of the equations:"
   ]
  },
  {
   "cell_type": "markdown",
   "metadata": {},
   "source": [
    "<!-- Equation labels as ordinary links -->\n",
    "<div id=\"_auto28\"></div>\n",
    "\n",
    "$$\n",
    "\\begin{equation}\n",
    "\\lbrack D_t v = -\\omega^2 u\\rbrack^{n},\n",
    "\\label{_auto28} \\tag{65}\n",
    "\\end{equation}\n",
    "$$"
   ]
  },
  {
   "cell_type": "markdown",
   "metadata": {},
   "source": [
    "<!-- Equation labels as ordinary links -->\n",
    "<div id=\"_auto29\"></div>\n",
    "\n",
    "$$\n",
    "\\begin{equation}  \n",
    "\\lbrack D_t u = v\\rbrack^{n+\\frac{1}{2}}\n",
    "\\thinspace .\n",
    "\\label{_auto29} \\tag{66}\n",
    "\\end{equation}\n",
    "$$"
   ]
  },
  {
   "cell_type": "markdown",
   "metadata": {},
   "source": [
    "Writing out the formulas gives"
   ]
  },
  {
   "cell_type": "markdown",
   "metadata": {},
   "source": [
    "<!-- Equation labels as ordinary links -->\n",
    "<div id=\"vib:model2x2:EulerCromer:veq1s2\"></div>\n",
    "\n",
    "$$\n",
    "\\begin{equation}\n",
    "v^{n+\\frac{1}{2}} = v^{n-\\frac{1}{2}} -\\Delta t \\omega^2u^{n}\n",
    "\\label{vib:model2x2:EulerCromer:veq1s2} \\tag{67},\n",
    "\\end{equation}\n",
    "$$"
   ]
  },
  {
   "cell_type": "markdown",
   "metadata": {},
   "source": [
    "<!-- Equation labels as ordinary links -->\n",
    "<div id=\"vib:model2x2:EulerCromer:ueq1s2\"></div>\n",
    "\n",
    "$$\n",
    "\\begin{equation}  \n",
    "u^{n+1} = u^{n} + \\Delta t v^{n+\\frac{1}{2}}\n",
    "\\label{vib:model2x2:EulerCromer:ueq1s2} \\tag{68}\n",
    "\\thinspace .\n",
    "\\end{equation}\n",
    "$$"
   ]
  },
  {
   "cell_type": "markdown",
   "metadata": {},
   "source": [
    "<!-- We shall use the names -->\n",
    "<!-- *forward-backward Euler-Cromer* and *staggered Euler-Cromer* -->\n",
    "<!-- to distinguish the two schemes. -->\n",
    "\n",
    "We can eliminate the $v$\n",
    "values and get back the centered scheme based on the second-order\n",
    "differential equation $u^{\\prime\\prime} +\\omega^2 u = 0$,\n",
    "so all these three schemes are equivalent.\n",
    "However, they differ somewhat in the treatment of the initial\n",
    "conditions.\n",
    "\n",
    "Suppose we have $u(0)=I$ and $u'(0)=v(0)=0$ as mathematical\n",
    "initial conditions. This means $u^0=I$ and"
   ]
  },
  {
   "cell_type": "markdown",
   "metadata": {},
   "source": [
    "$$\n",
    "v(0)\\approx \\frac{1}{2}(v^{-\\frac{1}{2}} + v^{\\frac{1}{2}}) = 0,\n",
    "\\quad\\Rightarrow\\quad v^{-\\frac{1}{2}} =- v^\\frac{1}{2}\\thinspace .\n",
    "$$"
   ]
  },
  {
   "cell_type": "markdown",
   "metadata": {},
   "source": [
    "Using the discretized equation ([67](#vib:model2x2:EulerCromer:veq1s2)) for\n",
    "$n=0$ yields"
   ]
  },
  {
   "cell_type": "markdown",
   "metadata": {},
   "source": [
    "$$\n",
    "v^\\frac{1}{2} = v^{-\\frac{1}{2}} -\\Delta t\\omega^2 I,\n",
    "$$"
   ]
  },
  {
   "cell_type": "markdown",
   "metadata": {},
   "source": [
    "and eliminating $v^{-\\frac{1}{2}} =- v^{\\frac{1}{2}}$\n",
    "results in"
   ]
  },
  {
   "cell_type": "markdown",
   "metadata": {},
   "source": [
    "$$\n",
    "v^\\frac{1}{2} = -\\frac{1}{2}\\Delta t\\omega^2I,\n",
    "$$"
   ]
  },
  {
   "cell_type": "markdown",
   "metadata": {},
   "source": [
    "and"
   ]
  },
  {
   "cell_type": "markdown",
   "metadata": {},
   "source": [
    "$$\n",
    "u^1 = u^0 - \\frac{1}{2}\\Delta t^2\\omega^2 I,\n",
    "$$"
   ]
  },
  {
   "cell_type": "markdown",
   "metadata": {},
   "source": [
    "which is exactly the same equation for $u^1$ as we had in the\n",
    "centered scheme based on the second-order differential equation\n",
    "(and hence corresponds to a centered difference approximation of\n",
    "the initial condition for $u'(0)$).\n",
    "The conclusion is that a staggered mesh is fully equivalent with\n",
    "that scheme, while the forward-backward version gives a slight\n",
    "deviation in the computation of $u^1$.\n",
    "\n",
    "We can redo the derivation of the initial conditions when $u'(0)=V$:"
   ]
  },
  {
   "cell_type": "markdown",
   "metadata": {},
   "source": [
    "$$\n",
    "v(0)\\approx \\frac{1}{2}(v^{-\\frac{1}{2}} + v^{\\frac{1}{2}}) = V,\n",
    "\\quad\\Rightarrow\\quad v^{-\\frac{1}{2}} = 2V - v^\\frac{1}{2}\\thinspace .\n",
    "$$"
   ]
  },
  {
   "cell_type": "markdown",
   "metadata": {},
   "source": [
    "Using this $v^{-\\frac{1}{2}}$ in"
   ]
  },
  {
   "cell_type": "markdown",
   "metadata": {},
   "source": [
    "$$\n",
    "v^\\frac{1}{2} = v^{-\\frac{1}{2}} -\\Delta t\\omega^2 I,\n",
    "$$"
   ]
  },
  {
   "cell_type": "markdown",
   "metadata": {},
   "source": [
    "then gives $v^\\frac{1}{2} = V - \\frac{1}{2}\\Delta t\\omega^2 I$.\n",
    "The general initial conditions are therefore"
   ]
  },
  {
   "cell_type": "markdown",
   "metadata": {},
   "source": [
    "<!-- Equation labels as ordinary links -->\n",
    "<div id=\"vib:ode2:staggered:u0\"></div>\n",
    "\n",
    "$$\n",
    "\\begin{equation}\n",
    "u^0 = I,\n",
    "\\label{vib:ode2:staggered:u0} \\tag{69}\n",
    "\\end{equation}\n",
    "$$"
   ]
  },
  {
   "cell_type": "markdown",
   "metadata": {},
   "source": [
    "<!-- Equation labels as ordinary links -->\n",
    "<div id=\"vib:ode2:staggered:v0\"></div>\n",
    "\n",
    "$$\n",
    "\\begin{equation}  \n",
    "v^\\frac{1}{2} = V - \\frac{1}{2}\\Delta t\\omega^2I\n",
    "\\label{vib:ode2:staggered:v0} \\tag{70}\\thinspace .\n",
    "\\end{equation}\n",
    "$$"
   ]
  },
  {
   "cell_type": "markdown",
   "metadata": {},
   "source": [
    "## Implementation of the scheme on a staggered mesh\n",
    "\n",
    "The algorithm goes like this:\n",
    "\n",
    "1. Set the initial values ([69](#vib:ode2:staggered:u0)) and\n",
    "   ([70](#vib:ode2:staggered:v0)).\n",
    "\n",
    "2. For $n=1,2,\\ldots$:\n",
    "\n",
    "a. Compute $u^{n}$ from ([68](#vib:model2x2:EulerCromer:ueq1s2)).\n",
    "\n",
    "b. Compute $v^{n+\\frac{1}{2}}$ from ([67](#vib:model2x2:EulerCromer:veq1s2)).\n",
    "\n",
    "\n",
    "### Implementation with integer indices\n",
    "\n",
    "Translating the schemes ([68](#vib:model2x2:EulerCromer:ueq1s2))\n",
    "and ([67](#vib:model2x2:EulerCromer:veq1s2)) to computer code\n",
    "faces the problem of how to store and access $v^{n+\\frac{1}{2}}$,\n",
    "since arrays only allow integer indices with base 0.\n",
    "We must then introduce a convention: $v^{1+\\frac{1}{2}}$ is stored\n",
    "in `v[n]` while $v^{1-\\frac{1}{2}}$ is stored in `v[n-1]`.\n",
    "We can then write the algorithm in Python as"
   ]
  },
  {
   "cell_type": "code",
   "execution_count": null,
   "metadata": {},
   "outputs": [],
   "source": [
    "# %load -s solver_v1, src-vib/vib_undamped_staggered.py\n",
    "def solver_v1(I, w, dt, T):\n",
    "    \"\"\"\n",
    "    Solve u'=v, v' = - w**2*u for t in (0,T], u(0)=I and v(0)=0,\n",
    "    by a central finite difference method with time step dt.\n",
    "    \"\"\"\n",
    "    dt = float(dt)\n",
    "    Nt = int(round(T/dt))\n",
    "    \n",
    "    t = Dimension('t', spacing=Constant('h_t'))\n",
    "    u = TimeFunction(name='u', dimensions=(t,), shape=(Nt+1,), space_order=2)\n",
    "    v = TimeFunction(name='v', dimensions=(t,), shape=(Nt+1,), space_order=2)\n",
    "\n",
    "    u.data[:] = I\n",
    "    v.data[:] = 0 - 0.5*dt*w**2*u.data[:]\n",
    "    \n",
    "    eq_u = Eq(u.dt, v)\n",
    "    eq_v = Eq(v.dt, -(w**2)*u.forward)\n",
    "    \n",
    "    stencil_u = solve(eq_u, u.forward)\n",
    "    stencil_v = solve(eq_v, v.forward)\n",
    "    \n",
    "    update_u = Eq(u.forward, stencil_u)\n",
    "    update_v = Eq(v.forward, stencil_v)\n",
    "    \n",
    "    op = Operator([update_u, update_v])\n",
    "    op.apply(h_t=dt, t_M=Nt-1)\n",
    "\n",
    "    t_mesh = np.linspace(0, Nt*dt, Nt+1)    # mesh for u\n",
    "    t_v_mesh = (t_mesh + dt/2)[:-1]         # mesh for v\n",
    "\n",
    "    return u.data, t_mesh, v.data, t_v_mesh\n"
   ]
  },
  {
   "cell_type": "markdown",
   "metadata": {},
   "source": [
    "Note that $u$ and $v$ are returned together with the mesh points such\n",
    "that the complete mesh function for $u$ is described by `u` and `t_mesh`,\n",
    "while `v` and `t_v_mesh` represent the mesh function for $v$.\n",
    "\n",
    "Once again, we can compare with the exact solution using the `visualize` function:"
   ]
  },
  {
   "cell_type": "code",
   "execution_count": 66,
   "metadata": {},
   "outputs": [
    {
     "name": "stderr",
     "output_type": "stream",
     "text": [
      "Operator `Kernel` run in 0.01 s\n"
     ]
    },
    {
     "data": {
      "image/png": "[encoded data removed]",
      "text/plain": [
       "<Figure size 432x288 with 1 Axes>"
      ]
     },
     "metadata": {
      "needs_background": "light"
     },
     "output_type": "display_data"
    }
   ],
   "source": [
    "I = 1\n",
    "w = 2*np.pi\n",
    "dt = 0.05\n",
    "num_periods = 5\n",
    "P = 2*np.pi/w    #  one period\n",
    "T = P*num_periods\n",
    "u, t, v, t_v = solver_v1(I, w, dt, T)\n",
    "\n",
    "visualize(u, t, I, w)"
   ]
  },
  {
   "cell_type": "markdown",
   "metadata": {},
   "source": [
    "Verification of this code is easy as we can just compare the computed\n",
    "`u` with the `u` produced by the `solver` function in\n",
    "`vib_undamped.py` (which solves $u''+\\omega^2u=0$ directly).  The\n",
    "values should coincide to machine precision since the two numerical\n",
    "methods are mathematically equivalent.  We refer to the file\n",
    "[`vib_undamped_staggered.py`](https://github.com/devitocodes/devito_book/blob/master/fdm-devito-notebooks/01_vib/src-vib/vib_undamped_staggered.py)\n",
    "for the details of a unit test (`test_staggered`) that checks this property.\n",
    "\n",
    "# Exercises and Problems\n",
    "\n",
    "\n",
    "\n",
    "\n",
    "<!-- --- begin exercise --- -->\n",
    "\n",
    "## Problem 1: Use linear/quadratic functions for verification\n",
    "<div id=\"vib:exer:undamped:verify:linquad\"></div>\n",
    "\n",
    "Consider the ODE problem"
   ]
  },
  {
   "cell_type": "markdown",
   "metadata": {},
   "source": [
    "$$\n",
    "u^{\\prime\\prime} + \\omega^2u=f(t), \\quad u(0)=I,\\ u^{\\prime}(0)=V,\\ t\\in(0,T]\\thinspace .\n",
    "$$"
   ]
  },
  {
   "cell_type": "markdown",
   "metadata": {},
   "source": [
    "**a)**\n",
    "Discretize this equation according to $[D_tD_t u + \\omega^2 u = f]^n$ and\n",
    "derive the equation for the first time step ($u^1$).\n",
    "\n",
    "\n",
    "<!-- --- begin solution of exercise --- -->\n",
    "**Solution.**\n",
    "For the requested discretization, we get"
   ]
  },
  {
   "cell_type": "markdown",
   "metadata": {},
   "source": [
    "$$\n",
    "\\frac{u^{n+1} - 2u^n + u^{n-1}}{\\Delta t^2} + \\omega^2u^n = f^n\\thinspace .\n",
    "$$"
   ]
  },
  {
   "cell_type": "markdown",
   "metadata": {},
   "source": [
    "To derive the equation for $u^1$, we first find the expression for $u^{n+1}$ from the\n",
    "discretized form of the equation. Isolating $u^{n+1}$, we get"
   ]
  },
  {
   "cell_type": "markdown",
   "metadata": {},
   "source": [
    "$$\n",
    "u^{n+1} = \\left(2 - (\\Delta t\\omega)^2\\right)u^n - u^{n-1} + \\Delta t^2 f^n\\thinspace .\n",
    "$$"
   ]
  },
  {
   "cell_type": "markdown",
   "metadata": {},
   "source": [
    "With $n = 0$, this expression gives"
   ]
  },
  {
   "cell_type": "markdown",
   "metadata": {},
   "source": [
    "$$\n",
    "u^1 = \\left(2 - (\\Delta t\\omega)^2\\right)u^0 - u^{-1} + \\Delta t^2 f^n\\thinspace .\n",
    "$$"
   ]
  },
  {
   "cell_type": "markdown",
   "metadata": {},
   "source": [
    "Here, however, we get a problem with $u^{-1}$, which appears on the right hand side.\n",
    "To get around that problem, we realize that the initial condition $u^{\\prime} = V$ might\n",
    "be approximated by use of a centered difference approximation as"
   ]
  },
  {
   "cell_type": "markdown",
   "metadata": {},
   "source": [
    "$$\n",
    "\\frac{u^1 - u^{-1}}{2\\Delta t} = V,\n",
    "$$"
   ]
  },
  {
   "cell_type": "markdown",
   "metadata": {},
   "source": [
    "which means that"
   ]
  },
  {
   "cell_type": "markdown",
   "metadata": {},
   "source": [
    "$$\n",
    "u^{-1} = u^1 - 2\\Delta t V\\thinspace .\n",
    "$$"
   ]
  },
  {
   "cell_type": "markdown",
   "metadata": {},
   "source": [
    "Inserting this expression for $u^{-1}$ into the expression for $u^1$, we get"
   ]
  },
  {
   "cell_type": "markdown",
   "metadata": {},
   "source": [
    "$$\n",
    "u^1 = \\left(2 - (\\Delta t\\omega)^2\\right)u^0 - (u^1 - 2\\Delta t V) + \\Delta t^2 f^n\\thinspace .\n",
    "$$"
   ]
  },
  {
   "cell_type": "markdown",
   "metadata": {},
   "source": [
    "Finally, after isolating $u^1$ on the left hand side, we arrive at\n",
    "\\[ u^1 = \\left(1 - \\frac{1}{2}(\\Delta t\\omega)^2\\right)u^0 + \\Delta t V + \\frac{1}{2}\\Delta t^2 f^n\\thinspace .\\]\n",
    "\n",
    "<!-- --- end solution of exercise --- -->\n",
    "\n",
    "**b)**\n",
    "For verification purposes, we use the method of manufactured solutions (MMS) with the\n",
    "choice of $\\uex(t)= ct+d$. Find restrictions on $c$ and $d$ from\n",
    "the initial conditions. Compute the corresponding source term $f$.\n",
    "Show that $[D_tD_t t]^n=0$ and use the fact\n",
    "that the $D_tD_t$ operator is linear,\n",
    "$[D_tD_t (ct+d)]^n = c[D_tD_t t]^n + [D_tD_t d]^n = 0$, to show that\n",
    "$\\uex$ is also a perfect solution of the discrete equations.\n",
    "\n",
    "\n",
    "<!-- --- begin solution of exercise --- -->\n",
    "**Solution.**\n",
    "The initial conditions $u(0)=I$ and $u^{\\prime}(0)=V$ give demands\n",
    "$\\uex(0)=I$ and $\\uex^{\\prime}(0)=V$, which imply that\n",
    "$d = I$ and {c = V}.\n",
    "\n",
    "To compute the source term $f$, we insert the chosen solution $\\uex$ into\n",
    "the ODE. This gives"
   ]
  },
  {
   "cell_type": "markdown",
   "metadata": {},
   "source": [
    "$$\n",
    "0 + \\omega^2(ct+d)=f(t),\n",
    "$$"
   ]
  },
  {
   "cell_type": "markdown",
   "metadata": {},
   "source": [
    "which implies that"
   ]
  },
  {
   "cell_type": "markdown",
   "metadata": {},
   "source": [
    "$$\n",
    "f(t)=\\omega^2(Vt+I)\\thinspace .\n",
    "$$"
   ]
  },
  {
   "cell_type": "markdown",
   "metadata": {},
   "source": [
    "To show that $[D_tD_t t]^n=0$, we proceed as"
   ]
  },
  {
   "cell_type": "markdown",
   "metadata": {},
   "source": [
    "$$\n",
    "[D_tD_t t]^n = \\frac{t^{n+1} - 2t^n + t^{n-1}}{\\Delta t^2}, \\nonumber\n",
    "$$"
   ]
  },
  {
   "cell_type": "markdown",
   "metadata": {},
   "source": [
    "$$\n",
    "= \\frac{(n+1)\\Delta t - 2n\\Delta t + (n-1)\\Delta t}{\\Delta t^2}, \\nonumber\n",
    "$$"
   ]
  },
  {
   "cell_type": "markdown",
   "metadata": {},
   "source": [
    "$$\n",
    "= \\frac{n\\Delta t + \\Delta t - 2n\\Delta t + n\\Delta t - \\Delta t}{\\Delta t^2}, \\nonumber\n",
    "$$"
   ]
  },
  {
   "cell_type": "markdown",
   "metadata": {},
   "source": [
    "$$\n",
    "= 0\\thinspace . \\nonumber\n",
    "$$"
   ]
  },
  {
   "cell_type": "markdown",
   "metadata": {},
   "source": [
    "Finally, we show that the chosen $\\uex$ is also a perfect solution of the discrete equations.\n",
    "If we start by inserting $\\uex$ into"
   ]
  },
  {
   "cell_type": "markdown",
   "metadata": {},
   "source": [
    "$$\n",
    "[D_tD_t u + \\omega^2u = f]^n,\n",
    "$$"
   ]
  },
  {
   "cell_type": "markdown",
   "metadata": {},
   "source": [
    "as well as the expression found for $f$.\n",
    "We get"
   ]
  },
  {
   "cell_type": "markdown",
   "metadata": {},
   "source": [
    "$$\n",
    "[D_tD_t (Vt+I) + \\omega^2(Vt+I) = \\omega^2(Vt+I)]^n,\n",
    "$$"
   ]
  },
  {
   "cell_type": "markdown",
   "metadata": {},
   "source": [
    "which can be rewritten as"
   ]
  },
  {
   "cell_type": "markdown",
   "metadata": {},
   "source": [
    "$$\n",
    "[D_tD_t (Vt+I)]^n + [\\omega^2(Vt+I)]^n = [\\omega^2(Vt+I)]^n\\thinspace .\n",
    "$$"
   ]
  },
  {
   "cell_type": "markdown",
   "metadata": {},
   "source": [
    "Now, since the first term here is zero, we see that the discrete equation is\n",
    "fulfilled exactly for the chosen $\\uex$ function.\n",
    "\n",
    "<!-- --- end solution of exercise --- -->\n",
    "\n",
    "**c)**\n",
    "Use `sympy` to do the symbolic calculations above. Here is a\n",
    "sketch of the program `vib_undamped_verify_mms.py`:"
   ]
  },
  {
   "cell_type": "code",
   "execution_count": null,
   "metadata": {},
   "outputs": [],
   "source": [
    "# NBVAL_SKIP\n",
    "import sympy as sym\n",
    "V, t, I, w, dt = sym.symbols('V t I w dt')  # global symbols\n",
    "f = None  # global variable for the source term in the ODE\n",
    "\n",
    "def ode_source_term(u):\n",
    "    \"\"\"Return the terms in the ODE that the source term\n",
    "    must balance, here u'' + w**2*u.\n",
    "    u is symbolic Python function of t.\"\"\"\n",
    "    return sym.diff(u(t), t, t) + w**2*u(t)\n",
    "\n",
    "def residual_discrete_eq(u):\n",
    "    \"\"\"Return the residual of the discrete eq. with u inserted.\"\"\"\n",
    "    R = ...\n",
    "    return sym.simplify(R)\n",
    "\n",
    "def residual_discrete_eq_step1(u):\n",
    "    \"\"\"Return the residual of the discrete eq. at the first\n",
    "    step with u inserted.\"\"\"\n",
    "    R = ...\n",
    "    return sym.simplify(R)\n",
    "\n",
    "def DtDt(u, dt):\n",
    "    \"\"\"Return 2nd-order finite difference for u_tt.\n",
    "    u is a symbolic Python function of t.\n",
    "    \"\"\"\n",
    "    return ...\n",
    "\n",
    "def main(u):\n",
    "    \"\"\"\n",
    "    Given some chosen solution u (as a function of t, implemented\n",
    "    as a Python function), use the method of manufactured solutions\n",
    "    to compute the source term f, and check if u also solves\n",
    "    the discrete equations.\n",
    "    \"\"\"\n",
    "    print '=== Testing exact solution: %s ===' % u\n",
    "    print \"Initial conditions u(0)=%s, u'(0)=%s:\" % \\\n",
    "          (u(t).subs(t, 0), sym.diff(u(t), t).subs(t, 0))\n",
    "\n",
    "    # Method of manufactured solution requires fitting f\n",
    "    global f  # source term in the ODE\n",
    "    f = sym.simplify(ode_lhs(u))\n",
    "\n",
    "    # Residual in discrete equations (should be 0)\n",
    "    print 'residual step1:', residual_discrete_eq_step1(u)\n",
    "    print 'residual:', residual_discrete_eq(u)\n",
    "\n",
    "def linear():\n",
    "    main(lambda t: V*t + I)\n",
    "\n",
    "if __name__ == '__main__':\n",
    "    linear()"
   ]
  },
  {
   "cell_type": "markdown",
   "metadata": {},
   "source": [
    "Fill in the various functions such that the calls in the `main`\n",
    "function works.\n",
    "\n",
    "\n",
    "<!-- --- begin solution of exercise --- -->\n",
    "**Solution.**\n",
    "This part of the code goes as follows:"
   ]
  },
  {
   "cell_type": "code",
   "execution_count": null,
   "metadata": {},
   "outputs": [],
   "source": [
    "# NBVAL_SKIP\n",
    "import sympy as sym\n",
    "import numpy as np\n",
    "\n",
    "V, t, I, w, dt = sym.symbols('V t I w dt')  # global symbols\n",
    "f = None  # global variable for the source term in the ODE\n",
    "\n",
    "def ode_source_term(u):\n",
    "    \"\"\"Return the terms in the ODE that the source term\n",
    "    must balance, here u'' + w**2*u.\n",
    "    u is symbolic Python function of t.\"\"\"\n",
    "    return sym.diff(u(t), t, t) + w**2*u(t)\n",
    "\n",
    "def residual_discrete_eq(u):\n",
    "    \"\"\"Return the residual of the discrete eq. with u inserted.\"\"\"\n",
    "    R = DtDt(u, dt) + w**2*u(t) - f\n",
    "    return sym.simplify(R)\n",
    "\n",
    "def residual_discrete_eq_step1(u):\n",
    "    \"\"\"Return the residual of the discrete eq. at the first\n",
    "    step with u inserted.\"\"\"\n",
    "    half = sym.Rational(1,2)\n",
    "    R = u(t+dt) - I - dt*V - \\\n",
    "        half*dt**2*f.subs(t, 0) + half*dt**2*w**2*I\n",
    "    R = R.subs(t, 0)  # t=0 in the rhs of the first step eq.\n",
    "    return sym.simplify(R)\n",
    "\n",
    "def DtDt(u, dt):\n",
    "    \"\"\"Return 2nd-order finite difference for u_tt.\n",
    "    u is a symbolic Python function of t.\n",
    "    \"\"\"\n",
    "    return (u(t+dt) - 2*u(t) + u(t-dt))/dt**2\n",
    "\n",
    "def main(u):\n",
    "    \"\"\"\n",
    "    Given some chosen solution u (as a function of t, implemented\n",
    "    as a Python function), use the method of manufactured solutions\n",
    "    to compute the source term f, and check if u also solves\n",
    "    the discrete equations.\n",
    "    \"\"\"\n",
    "    print '=== Testing exact solution: %s ===' % u(t)\n",
    "    print \"Initial conditions u(0)=%s, u'(0)=%s:\" % \\\n",
    "          (u(t).subs(t, 0), sym.diff(u(t), t).subs(t, 0))\n",
    "\n",
    "    # Method of manufactured solution requires fitting f\n",
    "    global f  # source term in the ODE\n",
    "    f = sym.simplify(ode_source_term(u))\n",
    "\n",
    "    # Residual in discrete equations (should be 0)\n",
    "    print 'residual step1:', residual_discrete_eq_step1(u)\n",
    "    print 'residual:', residual_discrete_eq(u)"
   ]
  },
  {
   "cell_type": "markdown",
   "metadata": {},
   "source": [
    "<!-- --- end solution of exercise --- -->\n",
    "\n",
    "**d)**\n",
    "The purpose now is to choose a quadratic function\n",
    "$\\uex = bt^2 + ct + d$ as exact solution. Extend the `sympy`\n",
    "code above with a function `quadratic` for fitting `f` and checking\n",
    "if the discrete equations are fulfilled. (The function is very similar\n",
    "to `linear`.)\n",
    "\n",
    "<!-- Check with hand calculations that the `sympy` implementation -->\n",
    "<!-- is correct. -->\n",
    "\n",
    "\n",
    "<!-- --- begin solution of exercise --- -->\n",
    "**Solution.**\n",
    "Yes, a quadratic function will fulfill the discrete equations exactly.\n",
    "The implementation becomes"
   ]
  },
  {
   "cell_type": "code",
   "execution_count": null,
   "metadata": {},
   "outputs": [],
   "source": [
    "# NBVAL_SKIP\n",
    "def quadratic():\n",
    "    \"\"\"Test quadratic function q*t**2 + V*t + I.\"\"\"\n",
    "    q = sym.Symbol('q')  # arbitrary constant in t**2 term\n",
    "    u_e = lambda t: q*t**2 + V*t + I\n",
    "    main(u_e)"
   ]
  },
  {
   "cell_type": "markdown",
   "metadata": {},
   "source": [
    "Calling `quadratic()` shows that the residual vanishes, and the quadratic\n",
    "function is an exact solution of the discrete equations.\n",
    "\n",
    "<!-- --- end solution of exercise --- -->\n",
    "\n",
    "**e)**\n",
    "Will a polynomial of degree three fulfill the discrete equations?\n",
    "\n",
    "\n",
    "<!-- --- begin solution of exercise --- -->\n",
    "**Solution.**\n",
    "We can easily make a test:"
   ]
  },
  {
   "cell_type": "code",
   "execution_count": null,
   "metadata": {},
   "outputs": [],
   "source": [
    "# NBVAL_SKIP\n",
    "def cubic():\n",
    "    r, q = sym.symbols('r q')\n",
    "    main(lambda t: r*t**3 + q*t**2 + V*t + I)"
   ]
  },
  {
   "cell_type": "markdown",
   "metadata": {},
   "source": [
    "When running the final code presented below, the printout shows that the\n",
    "step1 residual for the cubic function is not zero.\n",
    "\n",
    "<!-- --- end solution of exercise --- -->\n",
    "\n",
    "**f)**\n",
    "Implement a `solver` function for computing the numerical\n",
    "solution of this problem.\n",
    "\n",
    "\n",
    "<!-- --- begin solution of exercise --- -->\n",
    "**Solution.**\n",
    "The `solver` function may take the form"
   ]
  },
  {
   "cell_type": "code",
   "execution_count": null,
   "metadata": {},
   "outputs": [],
   "source": [
    "# NBVAL_SKIP\n",
    "def solver(I, V, f, w, dt, T):\n",
    "    \"\"\"\n",
    "    Solve u'' + w**2*u = f for t in (0,T], u(0)=I and u'(0)=V,\n",
    "    by a central finite difference method with time step dt.\n",
    "    f(t) is a callable Python function.\n",
    "    \"\"\"\n",
    "    dt = float(dt)\n",
    "    Nt = int(round(T/dt))\n",
    "    u = np.zeros(Nt+1)\n",
    "    t = np.linspace(0, Nt*dt, Nt+1)\n",
    "\n",
    "    u[0] = I\n",
    "    u[1] = u[0] - 0.5*dt**2*w**2*u[0] + 0.5*dt**2*f(t[0]) + dt*V\n",
    "    for n in range(1, Nt):\n",
    "        u[n+1] = 2*u[n] - u[n-1] - dt**2*w**2*u[n] + dt**2*f(t[n])\n",
    "    return u, t"
   ]
  },
  {
   "cell_type": "markdown",
   "metadata": {},
   "source": [
    "We can verify the implementation by the following test function:"
   ]
  },
  {
   "cell_type": "code",
   "execution_count": null,
   "metadata": {},
   "outputs": [],
   "source": [
    "# NBVAL_SKIP\n",
    "def test_quadratic_exact_solution():\n",
    "    \"\"\"Verify solver function via quadratic solution.\"\"\"\n",
    "    # Transform global symbolic variables to functions and numbers\n",
    "    # for numerical computations\n",
    "    global p, V, I, w\n",
    "    p, V, I, w = 2.3, 0.9, 1.2, 1.5\n",
    "    global f, t\n",
    "    u_e = lambda t: p*t**2 + V*t + I # use p, V, I, w as numbers\n",
    "    f = ode_source_term(u_e)         # fit source term\n",
    "    f = sym.lambdify(t, f)           # make function numerical\n",
    "\n",
    "    dt = 2./w\n",
    "    u, t = solver(I=I, V=V, f=f, w=w, dt=dt, T=3)\n",
    "    u_e = u_e(t)\n",
    "    error = np.abs(u - u_e).max()\n",
    "    tol = 1E-12\n",
    "    assert error < tol\n",
    "    print 'Error in computing a quadratic solution:', error"
   ]
  },
  {
   "cell_type": "markdown",
   "metadata": {},
   "source": [
    "<!-- --- end solution of exercise --- -->\n",
    "\n",
    "\n",
    "**g)**\n",
    "Write a test function for checking that the quadratic solution\n",
    "is computed correctly (to machine precision, but the\n",
    "round-off errors accumulate and increase with $T$) by the `solver`\n",
    "function.\n",
    "\n",
    "\n",
    "<!-- --- begin solution of exercise --- -->\n",
    "**Solution.**\n",
    "Here is the complete code for this exercise:"
   ]
  },
  {
   "cell_type": "code",
   "execution_count": null,
   "metadata": {},
   "outputs": [],
   "source": [
    "# NBVAL_SKIP\n",
    "import sympy as sym\n",
    "import numpy as np\n",
    "\n",
    "V, t, I, w, dt = sym.symbols('V t I w dt')  # global symbols\n",
    "f = None  # global variable for the source term in the ODE\n",
    "\n",
    "def ode_source_term(u):\n",
    "    \"\"\"Return the terms in the ODE that the source term\n",
    "    must balance, here u'' + w**2*u.\n",
    "    u is symbolic Python function of t.\"\"\"\n",
    "    return sym.diff(u(t), t, t) + w**2*u(t)\n",
    "\n",
    "def residual_discrete_eq(u):\n",
    "    \"\"\"Return the residual of the discrete eq. with u inserted.\"\"\"\n",
    "    R = DtDt(u, dt) + w**2*u(t) - f\n",
    "    return sym.simplify(R)\n",
    "\n",
    "def residual_discrete_eq_step1(u):\n",
    "    \"\"\"Return the residual of the discrete eq. at the first\n",
    "    step with u inserted.\"\"\"\n",
    "    half = sym.Rational(1,2)\n",
    "    R = u(t+dt) - I - dt*V - \\\n",
    "        half*dt**2*f.subs(t, 0) + half*dt**2*w**2*I\n",
    "    R = R.subs(t, 0)  # t=0 in the rhs of the first step eq.\n",
    "    return sym.simplify(R)\n",
    "\n",
    "def DtDt(u, dt):\n",
    "    \"\"\"Return 2nd-order finite difference for u_tt.\n",
    "    u is a symbolic Python function of t.\n",
    "    \"\"\"\n",
    "    return (u(t+dt) - 2*u(t) + u(t-dt))/dt**2\n",
    "\n",
    "def main(u):\n",
    "    \"\"\"\n",
    "    Given some chosen solution u (as a function of t, implemented\n",
    "    as a Python function), use the method of manufactured solutions\n",
    "    to compute the source term f, and check if u also solves\n",
    "    the discrete equations.\n",
    "    \"\"\"\n",
    "    print '=== Testing exact solution: %s ===' % u(t)\n",
    "    print \"Initial conditions u(0)=%s, u'(0)=%s:\" % \\\n",
    "          (u(t).subs(t, 0), sym.diff(u(t), t).subs(t, 0))\n",
    "\n",
    "    # Method of manufactured solution requires fitting f\n",
    "    global f  # source term in the ODE\n",
    "    f = sym.simplify(ode_source_term(u))\n",
    "\n",
    "    # Residual in discrete equations (should be 0)\n",
    "    print 'residual step1:', residual_discrete_eq_step1(u)\n",
    "    print 'residual:', residual_discrete_eq(u)\n",
    "\n",
    "\n",
    "def linear():\n",
    "    \"\"\"Test linear function V*t+I: u(0)=I, u'(0)=V.\"\"\"\n",
    "    main(lambda t: V*t + I)\n",
    "\n",
    "def quadratic():\n",
    "    \"\"\"Test quadratic function q*t**2 + V*t + I.\"\"\"\n",
    "    q = sym.Symbol('q')  # arbitrary constant in t**2 term\n",
    "    u_e = lambda t: q*t**2 + V*t + I\n",
    "    main(u_e)\n",
    "\n",
    "def cubic():\n",
    "    r, q = sym.symbols('r q')\n",
    "    main(lambda t: r*t**3 + q*t**2 + V*t + I)\n",
    "\n",
    "def solver(I, V, f, w, dt, T):\n",
    "    \"\"\"\n",
    "    Solve u'' + w**2*u = f for t in (0,T], u(0)=I and u'(0)=V,\n",
    "    by a central finite difference method with time step dt.\n",
    "    f(t) is a callable Python function.\n",
    "    \"\"\"\n",
    "    dt = float(dt)\n",
    "    Nt = int(round(T/dt))\n",
    "    u = np.zeros(Nt+1)\n",
    "    t = np.linspace(0, Nt*dt, Nt+1)\n",
    "\n",
    "    u[0] = I\n",
    "    u[1] = u[0] - 0.5*dt**2*w**2*u[0] + 0.5*dt**2*f(t[0]) + dt*V\n",
    "    for n in range(1, Nt):\n",
    "        u[n+1] = 2*u[n] - u[n-1] - dt**2*w**2*u[n] + dt**2*f(t[n])\n",
    "    return u, t\n",
    "\n",
    "def test_quadratic_exact_solution():\n",
    "    \"\"\"Verify solver function via quadratic solution.\"\"\"\n",
    "    # Transform global symbolic variables to functions and numbers\n",
    "    # for numerical computations\n",
    "    global p, V, I, w\n",
    "    p, V, I, w = 2.3, 0.9, 1.2, 1.5\n",
    "    global f, t\n",
    "    u_e = lambda t: p*t**2 + V*t + I # use p, V, I, w as numbers\n",
    "    f = ode_source_term(u_e)         # fit source term\n",
    "    f = sym.lambdify(t, f)           # make function numerical\n",
    "\n",
    "    dt = 2./w\n",
    "    u, t = solver(I=I, V=V, f=f, w=w, dt=dt, T=3)\n",
    "    u_e = u_e(t)\n",
    "    error = np.abs(u - u_e).max()\n",
    "    tol = 1E-12\n",
    "    assert error < tol\n",
    "    print 'Error in computing a quadratic solution:', error\n",
    "\n",
    "if __name__ == '__main__':\n",
    "    linear()\n",
    "    quadratic()\n",
    "    cubic()\n",
    "    test_quadratic_exact_solution()"
   ]
  },
  {
   "cell_type": "markdown",
   "metadata": {},
   "source": [
    "<!-- --- end solution of exercise --- -->\n",
    "\n",
    "Filename: `vib_undamped_verify_mms`.\n",
    "\n",
    "<!-- --- end exercise --- -->\n",
    "\n",
    "\n",
    "\n",
    "\n",
    "<!-- --- begin exercise --- -->\n",
    "\n",
    "## Exercise 2: Show linear growth of the phase with time\n",
    "<div id=\"vib:exer:phase:err:growth\"></div>\n",
    "\n",
    "Consider an exact solution $I\\cos (\\omega t)$ and an\n",
    "approximation $I\\cos(\\tilde\\omega t)$.\n",
    "Define the phase error as the time lag between the peak $I$\n",
    "in the exact solution and the corresponding peak in the approximation\n",
    "after $m$ periods of oscillations. Show that this phase error\n",
    "is linear in $m$.\n",
    "\n",
    "\n",
    "<!-- --- begin solution of exercise --- -->\n",
    "**Solution.**\n",
    "From ([19](#vib:ode1:tildeomega:series)) we have that"
   ]
  },
  {
   "cell_type": "markdown",
   "metadata": {},
   "source": [
    "$$\n",
    "\\tilde\\omega = \\omega\\left( 1 + \\frac{1}{24}\\omega^2\\Delta t^2\\right)\n",
    "+ \\mathcal{O}{\\Delta t^4}\n",
    "\\thinspace .\n",
    "\\nonumber\n",
    "$$"
   ]
  },
  {
   "cell_type": "markdown",
   "metadata": {},
   "source": [
    "Dropping the $\\mathcal{O}{\\Delta t^4}$ term, and since $\\omega=\\frac{2\\pi}{P}$ and $\\tilde\\omega=\\frac{2\\pi}{\\tilde P}$, we have that"
   ]
  },
  {
   "cell_type": "markdown",
   "metadata": {},
   "source": [
    "$$\n",
    "\\frac{2\\pi}{\\tilde P} \\approx \\frac{2\\pi}{P}\\left( 1 + \\frac{1}{24}\\omega^2\\Delta t^2\\right)\n",
    "\\thinspace .\n",
    "\\nonumber\n",
    "$$"
   ]
  },
  {
   "cell_type": "markdown",
   "metadata": {},
   "source": [
    "Now, $2\\pi$ cancels and the remaining equation may be rewritten as"
   ]
  },
  {
   "cell_type": "markdown",
   "metadata": {},
   "source": [
    "$$\n",
    "P - \\tilde P \\approx \\frac{1}{24}\\omega^2\\Delta t^2\n",
    "\\thinspace .\n",
    "\\nonumber\n",
    "$$"
   ]
  },
  {
   "cell_type": "markdown",
   "metadata": {},
   "source": [
    "This implies that the periods differ by a constant. Since the exact and the numerical\n",
    "solution start out identically, the phase error $P - \\tilde P$ will become\n",
    "$m\\frac{1}{24}\\omega^2\\Delta t^2$ after $m$ periods, i.e. the phase error is linear in $m$.\n",
    "\n",
    "<!-- --- end solution of exercise --- -->\n",
    "Filename: `vib_phase_error_growth`.\n",
    "\n",
    "<!-- --- end exercise --- -->\n",
    "\n",
    "\n",
    "\n",
    "\n",
    "<!-- --- begin exercise --- -->\n",
    "\n",
    "## Exercise 3: Improve the accuracy by adjusting the frequency\n",
    "<div id=\"vib:exer:w:adjust\"></div>\n",
    "\n",
    "According to ([19](#vib:ode1:tildeomega:series)), the numerical\n",
    "frequency deviates from the exact frequency by a (dominating) amount\n",
    "$\\omega^3\\Delta t^2/24 >0$. Replace the `w` parameter in the algorithm\n",
    "in the `solver` function in `vib_undamped.py` by `w*(1 -\n",
    "(1./24)*w**2*dt**2` and test how this adjustment in the numerical\n",
    "algorithm improves the accuracy (use $\\Delta t =0.1$ and simulate\n",
    "for 80 periods, with and without adjustment of $\\omega$).\n",
    "\n",
    "\n",
    "<!-- --- begin solution of exercise --- -->\n",
    "**Solution.**\n",
    "We may take a copy of the `vib_undamped.py` file and edit the `solver`\n",
    "function to"
   ]
  },
  {
   "cell_type": "code",
   "execution_count": 17,
   "metadata": {},
   "outputs": [],
   "source": [
    "# NBVAL_SKIP\n",
    "from numpy import *\n",
    "from matplotlib.pyplot import *\n",
    "\n",
    "def solver(I, w, dt, T, adjust_w=True):\n",
    "    \"\"\"\n",
    "    Solve u'' + w**2*u = 0 for t in (0,T], u(0)=I and u'(0)=0,\n",
    "    by a central finite difference method with time step dt.\n",
    "    \"\"\"\n",
    "    dt = float(dt)\n",
    "    Nt = int(round(T/dt))\n",
    "    u = zeros(Nt+1)\n",
    "    t = linspace(0, Nt*dt, Nt+1)\n",
    "    if adjust_w:\n",
    "        w = w*(1 - 1./24*w**2*dt**2)\n",
    "\n",
    "    u[0] = I\n",
    "    u[1] = u[0] - 0.5*dt**2*w**2*u[0]\n",
    "    for n in range(1, Nt):\n",
    "        u[n+1] = 2*u[n] - u[n-1] - dt**2*w**2*u[n]\n",
    "    return u, t"
   ]
  },
  {
   "cell_type": "markdown",
   "metadata": {},
   "source": [
    "The modified code was run for 80 periods with, and without,\n",
    "the given adjustment of $\\omega$. A substantial difference in accuracy\n",
    "was observed between the two,\n",
    "showing that the frequency adjustment improves the situation.\n",
    "\n",
    "<!-- --- end solution of exercise --- -->\n",
    "Filename: `vib_adjust_w`.\n",
    "\n",
    "\n",
    "<!-- How does this go if -->\n",
    "<!-- --- end exercise --- -->\n",
    "\n",
    "\n",
    "\n",
    "\n",
    "<!-- --- begin exercise --- -->\n",
    "\n",
    "## Exercise 4: See if adaptive methods improve the phase error\n",
    "<div id=\"vib:exer:undamped:adaptive\"></div>\n",
    "\n",
    "Adaptive methods for solving ODEs aim at adjusting $\\Delta t$ such\n",
    "that the error is within a user-prescribed tolerance. Implement the\n",
    "equation $u^{\\prime\\prime}+u=0$ in the [Odespy](https://github.com/hplgit/odespy)\n",
    "software. Use the example from Section 3.2.11 in [[Langtangen_decay]](#Langtangen_decay).  \n",
    "Run the scheme with a very low\n",
    "tolerance (say $10^{-14}$) and for a long time, check the number of\n",
    "time points in the solver's mesh (`len(solver.t_all)`), and compare\n",
    "the phase error with that produced by the simple finite difference\n",
    "method from the section [A centered finite difference scheme](#vib:ode1:fdm) with the same number of (equally\n",
    "spaced) mesh points. The question is whether it pays off to use an\n",
    "adaptive solver or if equally many points with a simple method gives\n",
    "about the same accuracy.\n",
    "\n",
    "\n",
    "<!-- --- begin solution of exercise --- -->\n",
    "**Solution.**\n",
    "Here is a code where we define the test problem, solve it by the\n",
    "Dormand-Prince adaptive method from Odespy, and then call `solver`"
   ]
  },
  {
   "cell_type": "markdown",
   "metadata": {},
   "source": [
    "```python\n",
    "import odespy\n",
    "import numpy as np\n",
    "import sys\n",
    "#import matplotlib.pyplot as plt\n",
    "import scitools.std as plt\n",
    "\n",
    "def f(s, t):\n",
    "    u, v = s\n",
    "    return np.array([v, -u])\n",
    "\n",
    "def u_exact(t):\n",
    "    return I*np.cos(w*t)\n",
    "\n",
    "I = 1; V = 0; u0 = np.array([I, V])\n",
    "w  = 1; T = 50\n",
    "tol = float(sys.argv[1])\n",
    "solver = odespy.DormandPrince(f, atol=tol, rtol=0.1*tol)\n",
    "\n",
    "Nt = 1 # just one step - let scheme find its intermediate points\n",
    "t_mesh = np.linspace(0, T, Nt+1)\n",
    "t_fine = np.linspace(0, T, 10001)\n",
    "\n",
    "solver.set_initial_condition(u0)\n",
    "u, t = solver.solve(t_mesh)\n",
    "\n",
    "# u and t will only consist of [I, u^Nt] and [0,T], i.e. 2 values\n",
    "# each, while solver.u_all and solver.t_all contain all computed\n",
    "# points. solver.u_all is a list with arrays, one array (with 2\n",
    "# values) for each point in time.\n",
    "u_adaptive = np.array(solver.u_all)\n",
    "\n",
    "# For comparison, we solve also with simple FDM method\n",
    "import sys, os\n",
    "sys.path.insert(0, os.path.join(os.pardir, 'src-vib'))\n",
    "from vib_undamped import solver as simple_solver\n",
    "Nt_simple = len(solver.t_all)\n",
    "dt = float(T)/Nt_simple\n",
    "u_simple, t_simple = simple_solver(I, w, dt, T)\n",
    "\n",
    "# Compare in plot: adaptive, constant dt, exact\n",
    "plt.plot(solver.t_all, u_adaptive[:,0], 'k-')\n",
    "plt.hold('on')\n",
    "plt.plot(t_simple, u_simple, 'r--')\n",
    "plt.plot(t_fine, u_exact(t_fine), 'b-')\n",
    "plt.legend(['tol=%.0E' % tol, 'u simple', 'exact'])\n",
    "plt.savefig('tmp_odespy_adaptive.png')\n",
    "plt.savefig('tmp_odespy_adaptive.pdf')\n",
    "plt.show()\n",
    "raw_input()\n",
    "```"
   ]
  },
  {
   "cell_type": "markdown",
   "metadata": {},
   "source": [
    "The program may produce the plots seen in\n",
    "the figure below,\n",
    "which shows how the adaptive solution clearly outhinspace .erforms the simpler method,\n",
    "regardless of the accuracy level.\n",
    "\n",
    "<!-- dom:FIGURE: [fig-vib/vib_undamped_adaptive.png, width=800 frac=1.0] -->\n",
    "<!-- begin figure -->\n",
    "\n",
    "<p></p>\n",
    "<img src=\"fig-vib/vib_undamped_adaptive.png\" width=800>\n",
    "\n",
    "<!-- end figure -->\n",
    "\n",
    "\n",
    "<!-- --- end solution of exercise --- -->\n",
    "Filename: `vib_undamped_adaptive`.\n",
    "\n",
    "<!-- --- end exercise --- -->\n",
    "\n",
    "\n",
    "\n",
    "\n",
    "<!-- --- begin exercise --- -->\n",
    "\n",
    "## Exercise 5: Use a Taylor polynomial to compute $u^1$\n",
    "<div id=\"vib:exer:step4b:alt\"></div>\n",
    "\n",
    "As an alternative to computing $u^1$ by ([8](#vib:ode1:step4b)),\n",
    "one can use a Taylor polynomial with three terms:"
   ]
  },
  {
   "cell_type": "markdown",
   "metadata": {},
   "source": [
    "$$\n",
    "u(t_1) \\approx u(0) + u^{\\prime}(0)\\Delta t + {\\frac{1}{2}}u^{\\prime\\prime}(0)\\Delta t^2\n",
    "$$"
   ]
  },
  {
   "cell_type": "markdown",
   "metadata": {},
   "source": [
    "With $u^{\\prime\\prime}=-\\omega^2 u$ and $u^{\\prime}(0)=0$, show that this method also leads to\n",
    "([8](#vib:ode1:step4b)). Generalize the condition on $u^{\\prime}(0)$ to\n",
    "be $u^{\\prime}(0)=V$ and compute $u^1$ in this case with both methods.\n",
    "\n",
    "\n",
    "<!-- --- begin solution of exercise --- -->\n",
    "**Solution.**\n",
    "With $u^{\\prime\\prime}(0)=-\\omega^2 u(0)$ and $u^{\\prime}(0)=0$, the given Taylor series\n",
    "becomes"
   ]
  },
  {
   "cell_type": "markdown",
   "metadata": {},
   "source": [
    "$$\n",
    "u(t_1) \\approx u(0) + {\\frac{1}{2}}(-\\omega^2 u(0))\\Delta t^2\n",
    "$$"
   ]
  },
  {
   "cell_type": "markdown",
   "metadata": {},
   "source": [
    "which may be written as"
   ]
  },
  {
   "cell_type": "markdown",
   "metadata": {},
   "source": [
    "$$\n",
    "u^1 \\approx u^0 - {\\frac{1}{2}}\\Delta t^2\\omega^2 u^0\n",
    "$$"
   ]
  },
  {
   "cell_type": "markdown",
   "metadata": {},
   "source": [
    "but this is nothing but ([8](#vib:ode1:step4b)).\n",
    "\n",
    "Now, consider $u^{\\prime}(0)=V$.\n",
    "With a centered difference approximation, this initial condition becomes"
   ]
  },
  {
   "cell_type": "markdown",
   "metadata": {},
   "source": [
    "$$\n",
    "\\frac{u^1 - u^{-1}}{2\\Delta t} \\approx V\n",
    "$$"
   ]
  },
  {
   "cell_type": "markdown",
   "metadata": {},
   "source": [
    "which implies that"
   ]
  },
  {
   "cell_type": "markdown",
   "metadata": {},
   "source": [
    "$$\n",
    "u^{-1} \\approx u^1 - 2\\Delta t V\n",
    "$$"
   ]
  },
  {
   "cell_type": "markdown",
   "metadata": {},
   "source": [
    "When $n=0$, ([7](#vib:ode1:step4)) reads"
   ]
  },
  {
   "cell_type": "markdown",
   "metadata": {},
   "source": [
    "$$\n",
    "u^1 = 2u^0 - u^{-1} - \\Delta t^2\\omega^2 u^0\n",
    "$$"
   ]
  },
  {
   "cell_type": "markdown",
   "metadata": {},
   "source": [
    "Inserting the expression for $u^{-1}$, we get"
   ]
  },
  {
   "cell_type": "markdown",
   "metadata": {},
   "source": [
    "$$\n",
    "u^1 = 2u^0 - (u^1 - 2\\Delta t V) - \\Delta t^2\\omega^2 u^0\n",
    "$$"
   ]
  },
  {
   "cell_type": "markdown",
   "metadata": {},
   "source": [
    "which implies that"
   ]
  },
  {
   "cell_type": "markdown",
   "metadata": {},
   "source": [
    "$$\n",
    "u^1 = u^0 + \\Delta t V - \\frac{1}{2}\\Delta t^2\\omega^2 u^0\n",
    "$$"
   ]
  },
  {
   "cell_type": "markdown",
   "metadata": {},
   "source": [
    "With the Taylor series approach, we now get"
   ]
  },
  {
   "cell_type": "markdown",
   "metadata": {},
   "source": [
    "$$\n",
    "u(t_1) \\approx u(0) + V\\Delta t + {\\frac{1}{2}}(-\\omega^2 u(0))\\Delta t^2\n",
    "$$"
   ]
  },
  {
   "cell_type": "markdown",
   "metadata": {},
   "source": [
    "which also gives"
   ]
  },
  {
   "cell_type": "markdown",
   "metadata": {},
   "source": [
    "$$\n",
    "u^1 = u^0 + \\Delta t V - \\frac{1}{2}\\Delta t^2\\omega^2 u^0\n",
    "$$"
   ]
  },
  {
   "cell_type": "markdown",
   "metadata": {},
   "source": [
    "<!-- --- end solution of exercise --- -->\n",
    "Filename: `vib_first_step`.\n",
    "\n",
    "<!-- --- end exercise --- -->\n",
    "\n",
    "\n",
    "\n",
    "\n",
    "<!-- --- begin exercise --- -->\n",
    "\n",
    "## Problem 6: Derive and investigate the velocity Verlet method\n",
    "\n",
    "The velocity Verlet method for $u^{\\prime\\prime} + \\omega^2u=0$ is\n",
    "based on the following ideas:\n",
    "\n",
    "1. step $u$ forward from $t_n$ to $t_{n+1}$ using a three-term Taylor\n",
    "   series,\n",
    "\n",
    "2. replace $u^{\\prime\\prime}$ by $-\\omega^2u$\n",
    "\n",
    "3. discretize $v^{\\prime}=-\\omega^2u$ by a Crank-Nicolson method.\n",
    "\n",
    "Derive the scheme, implement it, and determine empirically the convergence rate.\n",
    "\n",
    "\n",
    "<!-- --- begin solution of exercise --- -->\n",
    "**Solution.**\n",
    "Stepping $u$ forward from $t_n$ to $t_{n+1}$ using a three-term Taylor\n",
    "series gives"
   ]
  },
  {
   "cell_type": "markdown",
   "metadata": {},
   "source": [
    "$$\n",
    "u(t_{n+1}) = u(t_n) + u^{\\prime}(t_n)\\Delta t + \\frac{1}{2}u^{\\prime\\prime}(t_n)\\Delta t^2\\thinspace .\n",
    "$$"
   ]
  },
  {
   "cell_type": "markdown",
   "metadata": {},
   "source": [
    "Using $u^{\\prime}=v$ and $u^{\\prime\\prime}=-\\omega^2u$, we get the updating formula"
   ]
  },
  {
   "cell_type": "markdown",
   "metadata": {},
   "source": [
    "$$\n",
    "u^{n+1} = u^n + v^n\\Delta t - \\frac{1}{2}\\Delta t^2\\omega^2u^n\\thinspace .\n",
    "$$"
   ]
  },
  {
   "cell_type": "markdown",
   "metadata": {},
   "source": [
    "Second, the first-order equation for $v$,"
   ]
  },
  {
   "cell_type": "markdown",
   "metadata": {},
   "source": [
    "$$\n",
    "v^{\\prime}=-\\omega^2u,\n",
    "$$"
   ]
  },
  {
   "cell_type": "markdown",
   "metadata": {},
   "source": [
    "is discretized by a centered difference in a Crank-Nicolson fashion at\n",
    "$t_{n+\\frac{1}{2}}$:"
   ]
  },
  {
   "cell_type": "markdown",
   "metadata": {},
   "source": [
    "$$\n",
    "\\frac{v^{n+1}-v^n}{\\Delta t} = -\\omega^2\\frac{1}{2}(u^n + u^{n+1})\\thinspace .\n",
    "$$"
   ]
  },
  {
   "cell_type": "markdown",
   "metadata": {},
   "source": [
    "To summarize, we have the scheme"
   ]
  },
  {
   "cell_type": "markdown",
   "metadata": {},
   "source": [
    "<!-- Equation labels as ordinary links -->\n",
    "<div id=\"_auto30\"></div>\n",
    "\n",
    "$$\n",
    "\\begin{equation}\n",
    "u^{n+1} = u^n + v^n\\Delta t - \\frac{1}{2}\\Delta t^2\\omega^2u^n,\n",
    "\\label{_auto30} \\tag{71}\n",
    "\\end{equation}\n",
    "$$"
   ]
  },
  {
   "cell_type": "markdown",
   "metadata": {},
   "source": [
    "<!-- Equation labels as ordinary links -->\n",
    "<div id=\"_auto31\"></div>\n",
    "\n",
    "$$\n",
    "\\begin{equation}  \n",
    "v^{n+1} = v^n -\\frac{1}{2}\\Delta t\\omega^2 (u^n + u^{n+1}),\n",
    "\\label{_auto31} \\tag{72}\n",
    "\\end{equation}\n",
    "$$"
   ]
  },
  {
   "cell_type": "markdown",
   "metadata": {},
   "source": [
    "known as the velocity Verlet algorithm.\n",
    "Observe that this scheme is explicit since $u^{n+1}$ in the second\n",
    "equation is already computed by the first equation.\n",
    "\n",
    "The algorithm can be straightforwardly implemented as shown below:"
   ]
  },
  {
   "cell_type": "code",
   "execution_count": null,
   "metadata": {},
   "outputs": [],
   "source": [
    "# NBVAL_SKIP\n",
    "from vib_undamped import convergence_rates, main\n",
    "\n",
    "def solver(I, w, dt, T, return_v=False):\n",
    "    \"\"\"\n",
    "    Solve u'=v, v'=-w**2*u for t in (0,T], u(0)=I and v(0)=0,\n",
    "    by the velocity Verlet method with time step dt.\n",
    "    \"\"\"\n",
    "    dt = float(dt)\n",
    "    Nt = int(round(T/dt))\n",
    "    u = np.zeros(Nt+1)\n",
    "    v = np.zeros(Nt+1)\n",
    "    t = np.linspace(0, Nt*dt, Nt+1)\n",
    "\n",
    "    u[0] = I\n",
    "    v[0] = 0\n",
    "    for n in range(Nt):\n",
    "        u[n+1] = u[n] + v[n]*dt - 0.5*dt**2*w**2*u[n]\n",
    "        v[n+1] = v[n] - 0.5*dt*w**2*(u[n] + u[n+1])\n",
    "    if return_v:\n",
    "        return u, v, t\n",
    "    else:\n",
    "        # Return just u and t as in the vib_undamped.py's solver\n",
    "        return u, t"
   ]
  },
  {
   "cell_type": "markdown",
   "metadata": {},
   "source": [
    "We provide the option that this `solver` function returns the same data\n",
    "as the `solver` function from the section [Making a solver function](#vib:impl1:solver) (if `return_v`\n",
    "is `False`), but alternatively, it may return `v` along with `u` and `t`.\n",
    "\n",
    "The error in the Taylor series expansion behind the first equation\n",
    "is $\\mathcal{O}{\\Delta t^3}$, while the error\n",
    "in the central difference for $v$ is $\\mathcal{O}{\\Delta t^2}$.  The overall\n",
    "error is then no better than $\\mathcal{O}{\\Delta t^2}$, which can be verified\n",
    "empirically using the `convergence_rates` function from\n",
    "the section [Verification](#vib:ode1:verify):"
   ]
  },
  {
   "cell_type": "code",
   "execution_count": null,
   "metadata": {},
   "outputs": [],
   "source": [
    "# NBVAL_SKIP\n",
    "import vib_undamped_velocity_Verlet as m\n",
    "m.convergence_rates(4, solver_function=m.solver)"
   ]
  },
  {
   "cell_type": "markdown",
   "metadata": {},
   "source": [
    "The output confirms that the overall convergence rate is 2.\n",
    "\n",
    "<!-- --- end solution of exercise --- -->\n",
    "\n",
    "\n",
    "<!-- How can the scheme be extended to the general case $mu^{\\prime\\prime} -->\n",
    "<!-- + f(u^{\\prime}) + s(u) =F(t)$? No, that's too complicated because of -->\n",
    "<!-- the substitution in the Taylor series. -->\n",
    "<!-- --- end exercise --- -->\n",
    "\n",
    "\n",
    "\n",
    "\n",
    "<!-- --- begin exercise --- -->\n",
    "\n",
    "## Problem 7: Find the minimal resolution of an oscillatory function\n",
    "<div id=\"vib:exer:wdt:limit\"></div>\n",
    "\n",
    "<!-- Short: Find the largest relevant value of $\\omega\\Delta t$ -->\n",
    "\n",
    "\n",
    "Sketch the function on a given mesh which has the highest possible\n",
    "frequency. That is, this oscillatory \"cos-like\" function has its\n",
    "maxima and minima at every two grid points.  Find an expression for\n",
    "the frequency of this function, and use the result to find the largest\n",
    "relevant value of $\\omega\\Delta t$ when $\\omega$ is the frequency\n",
    "of an oscillating function and $\\Delta t$ is the mesh spacing.\n",
    "\n",
    "\n",
    "<!-- --- begin solution of exercise --- -->\n",
    "**Solution.**\n",
    "The smallest period must be $2\\Delta t$. Since the period $P$ is related\n",
    "to the angular frequency $\\omega$ by $P=2\\pi/\\omega$, it means that\n",
    "$\\omega = \\frac{2\\pi}{2\\Delta t} = \\frac{\\pi}{\\Delta t}$ is the smallest\n",
    "meaningful angular frequency.\n",
    "This further means that the largest value for $\\omega\\Delta t$ is $\\pi$.\n",
    "\n",
    "<!-- --- end solution of exercise --- -->\n",
    "Filename: `vib_largest_wdt`.\n",
    "\n",
    "<!-- --- end exercise --- -->\n",
    "\n",
    "\n",
    "\n",
    "\n",
    "<!-- --- begin exercise --- -->\n",
    "\n",
    "## Exercise 8: Visualize the accuracy of finite differences for a cosine function\n",
    "<div id=\"vib:exer:fd:exp:plot\"></div>\n",
    "\n",
    "<!-- Short: Visualize the accuracy of finite differences -->\n",
    "\n",
    "\n",
    "We introduce the error fraction"
   ]
  },
  {
   "cell_type": "markdown",
   "metadata": {},
   "source": [
    "$$\n",
    "E = \\frac{[D_tD_t u]^n}{u^{\\prime\\prime}(t_n)}\n",
    "$$"
   ]
  },
  {
   "cell_type": "markdown",
   "metadata": {},
   "source": [
    "to measure the error in the finite difference approximation $D_tD_tu$ to\n",
    "$u^{\\prime\\prime}$.\n",
    "Compute $E$\n",
    "for the specific choice of a cosine/sine function of the\n",
    "form $u=\\exp{(i\\omega t)}$ and show that"
   ]
  },
  {
   "cell_type": "markdown",
   "metadata": {},
   "source": [
    "$$\n",
    "E = \\left(\\frac{2}{\\omega\\Delta t}\\right)^2\n",
    "\\sin^2(\\frac{\\omega\\Delta t}{2})\n",
    "\\thinspace .\n",
    "$$"
   ]
  },
  {
   "cell_type": "markdown",
   "metadata": {},
   "source": [
    "Plot $E$ as a function of $p=\\omega\\Delta t$. The relevant\n",
    "values of $p$ are $[0,\\pi]$ (see [Problem 7: Find the minimal resolution of an oscillatory function](#vib:exer:wdt:limit)\n",
    "for why $p>\\pi$ does not make sense).\n",
    "The deviation of the curve from unity visualizes the error in the\n",
    "approximation. Also expand $E$ as a Taylor polynomial in $p$ up to\n",
    "fourth degree (use, e.g., `sympy`).\n",
    "\n",
    "\n",
    "<!-- --- begin solution of exercise --- -->\n",
    "**Solution.**"
   ]
  },
  {
   "cell_type": "markdown",
   "metadata": {},
   "source": [
    "$$\n",
    "E = \\frac{[D_tD_t u]^n}{u^{\\prime\\prime}(t_n)}, \\nonumber\n",
    "$$"
   ]
  },
  {
   "cell_type": "markdown",
   "metadata": {},
   "source": [
    "$$\n",
    "= \\frac{u^{n+1} - 2u^n + u^{n-1}}{u^{\\prime\\prime}(t_n)\\Delta t^2}, \\nonumber\n",
    "$$"
   ]
  },
  {
   "cell_type": "markdown",
   "metadata": {},
   "source": [
    "Since $u(t)=\\exp{(i\\omega t)}$, we have that $u^{\\prime}(t)=i\\omega\\exp{(i\\omega t)}$\n",
    "and $u^{\\prime\\prime}(t)=(i\\omega)^2\\exp{(i\\omega t)}=-\\omega^2\\exp{(i\\omega t)}$, so we may proceed with $E$ as"
   ]
  },
  {
   "cell_type": "markdown",
   "metadata": {},
   "source": [
    "$$\n",
    "E = \\frac{e^{i\\omega(t_n+\\Delta t)} - 2e^{i\\omega t_n} + e^{i\\omega(t_n-\\Delta t)}}{-\\omega^2e^{i\\omega t_n}\\Delta t^2}, \\nonumber\n",
    "$$"
   ]
  },
  {
   "cell_type": "markdown",
   "metadata": {},
   "source": [
    "$$\n",
    "=\\frac{e^{i\\omega t_n}e^{i\\omega \\Delta t} -2e^{i\\omega t_n} + e^{i\\omega t_n}e^{-i\\omega\\Delta t}}{-\\omega^2e^{i\\omega t_n}\\Delta t^2}, \\nonumber\n",
    "$$"
   ]
  },
  {
   "cell_type": "markdown",
   "metadata": {},
   "source": [
    "$$\n",
    "= \\frac{e^{i\\omega\\Delta t} - 2 + e^{-i\\omega\\Delta t}}{-\\omega^2 \\Delta t^2}, \\nonumber\n",
    "$$"
   ]
  },
  {
   "cell_type": "markdown",
   "metadata": {},
   "source": [
    "$$\n",
    "= \\frac{1}{-\\omega^2 \\Delta t^2}\\frac{4}{4}\\left(e^{i\\omega\\Delta t} - 2 + e^{-i\\omega\\Delta t}\\right), \\nonumber\n",
    "$$"
   ]
  },
  {
   "cell_type": "markdown",
   "metadata": {},
   "source": [
    "$$\n",
    "= \\left(\\frac{2}{\\omega\\Delta t}\\right)^2 \\left(-\\frac{e^{i\\omega\\Delta t} - 2 + e^{-i\\omega\\Delta t}}{4}\\right), \\nonumber\n",
    "$$"
   ]
  },
  {
   "cell_type": "markdown",
   "metadata": {},
   "source": [
    "$$\n",
    "= \\left(\\frac{2}{\\omega\\Delta t}\\right)^2 \\left(-\\frac{1}{2}\\left(\\frac{1}{2}e^{i\\omega\\Delta t} + e^{-i\\omega\\Delta t} - 1\\right)\\right), \\nonumber\n",
    "$$"
   ]
  },
  {
   "cell_type": "markdown",
   "metadata": {},
   "source": [
    "$$\n",
    "= \\left(\\frac{2}{\\omega\\Delta t}\\right)^2 \\left(-\\frac{1}{2}\\left( \\cos(\\omega\\Delta t) - 1\\right)\\right). \\nonumber\n",
    "$$"
   ]
  },
  {
   "cell_type": "markdown",
   "metadata": {},
   "source": [
    "Now, since $\\cos(\\omega\\Delta t)=1-2\\sin^2\\left(\\frac{\\omega\\Delta t}{2}\\right)$, we finally get"
   ]
  },
  {
   "cell_type": "markdown",
   "metadata": {},
   "source": [
    "$$\n",
    "E = \\left(\\frac{2}{\\omega\\Delta t}\\right)^2 \\left(-\\frac{1}{2}\\left( \\left(1-2\\sin^2\\left(\\frac{\\omega\\Delta t}{2}\\right)\\right) - 1\\right)\\right), \\nonumber\n",
    "$$"
   ]
  },
  {
   "cell_type": "markdown",
   "metadata": {},
   "source": [
    "$$\n",
    "= \\left(\\frac{2}{\\omega\\Delta t}\\right)^2 \\sin^2\\left(\\frac{\\omega\\Delta t}{2}\\right). \\nonumber\n",
    "$$"
   ]
  },
  {
   "cell_type": "code",
   "execution_count": 19,
   "metadata": {},
   "outputs": [
    {
     "ename": "SyntaxError",
     "evalue": "Missing parentheses in call to 'print'. Did you mean print(E_series)? (<ipython-input-19-8ac6d8c081b7>, line 16)",
     "output_type": "error",
     "traceback": [
      "\u001b[0;36m  File \u001b[0;32m\"<ipython-input-19-8ac6d8c081b7>\"\u001b[0;36m, line \u001b[0;32m16\u001b[0m\n\u001b[0;31m    print E_series\u001b[0m\n\u001b[0m          ^\u001b[0m\n\u001b[0;31mSyntaxError\u001b[0m\u001b[0;31m:\u001b[0m Missing parentheses in call to 'print'. Did you mean print(E_series)?\n"
     ]
    }
   ],
   "source": [
    "# NBVAL_SKIP\n",
    "import matplotlib.pyplot as plt\n",
    "import numpy as np\n",
    "import sympy as sym\n",
    "\n",
    "def E_fraction(p):\n",
    "    return (2./p)**2*(np.sin(p/2.))**2\n",
    "\n",
    "a = 0; b = np.pi\n",
    "p = np.linspace(a, b, 100)\n",
    "E_values = np.zeros(len(p))\n",
    "\n",
    "# create 4th degree Taylor polynomial (also plotted)\n",
    "p_ = sym.symbols('p_')\n",
    "E = (2./p_)**2*(sym.sin(p_/2.))**2\n",
    "E_series = E.series(p_, 0, 4).removeO()\n",
    "print E_series\n",
    "E_pyfunc = sym.lambdify([p_], E_series, modules='numpy')\n",
    "\n",
    "# To avoid division by zero when p is 0, we rather take the limit\n",
    "E_values[0] = sym.limit(E, p_, 0, dir='+')  # ...when p --> 0, E --> 1\n",
    "E_values[1:] = E_fraction(p[1:])\n",
    "\n",
    "plt.plot(p, E_values, 'k-', p, E_pyfunc(p), 'k--')\n",
    "plt.xlabel('p'); plt.ylabel('Error fraction')\n",
    "plt.legend(['E', 'E Taylor'])\n",
    "plt.savefig('tmp_error_fraction.png')\n",
    "plt.savefig('tmp_error_fraction.pdf')\n",
    "plt.show()"
   ]
  },
  {
   "cell_type": "markdown",
   "metadata": {},
   "source": [
    "From the plot seen below, we realize\n",
    "how the error fraction $E$ deviates from unity as $p$ grows.\n",
    "\n",
    "<!-- dom:FIGURE: [fig-vib/error_fraction.png, width=600 frac=1.0] -->\n",
    "<!-- begin figure -->\n",
    "\n",
    "<p></p>\n",
    "<img src=\"fig-vib/error_fraction.png\" width=600>\n",
    "\n",
    "<!-- end figure -->\n",
    "\n",
    "\n",
    "<!-- --- end solution of exercise --- -->\n",
    "Filename: `vib_plot_fd_exp_error`.\n",
    "\n",
    "<!-- --- end exercise --- -->\n",
    "\n",
    "\n",
    "\n",
    "\n",
    "<!-- --- begin exercise --- -->\n",
    "\n",
    "## Exercise 9: Verify convergence rates of the error in energy\n",
    "<div id=\"vib:exer:energy:convrate\"></div>\n",
    "\n",
    "We consider the ODE problem $u^{\\prime\\prime} + \\omega^2u=0$, $u(0)=I$, $u^{\\prime}(0)=V$,\n",
    "for $t\\in (0,T]$. The total energy of the solution\n",
    "$E(t)=\\frac{1}{2}(u^{\\prime})^2 + \\frac{1}{2}\\omega^2 u^2$ should stay\n",
    "constant.\n",
    "The error in energy can be computed as explained in\n",
    "the section [Energy considerations](#vib:model1:energy).\n",
    "\n",
    "Make a test function in a separate file, where code from\n",
    "`vib_undamped.py` is imported, but the `convergence_rates` and\n",
    "`test_convergence_rates` functions are copied and modified to also\n",
    "incorporate computations of the error in energy and the convergence\n",
    "rate of this error. The expected rate is 2, just as for the solution\n",
    "itself.\n",
    "\n",
    "\n",
    "<!-- --- begin solution of exercise --- -->\n",
    "**Solution.**\n",
    "The complete code with test functions goes as follows."
   ]
  },
  {
   "cell_type": "code",
   "execution_count": null,
   "metadata": {},
   "outputs": [],
   "source": [
    "# NBVAL_SKIP\n",
    "import os, sys\n",
    "sys.path.insert(0, os.path.join(os.pardir, 'src-vib'))\n",
    "from vib_undamped import solver, u_exact, visualize\n",
    "import numpy as np\n",
    "\n",
    "def convergence_rates(m, solver_function, num_periods=8):\n",
    "    \"\"\"\n",
    "    Return m-1 empirical estimates of the convergence rate\n",
    "    based on m simulations, where the time step is halved\n",
    "    for each simulation.\n",
    "    solver_function(I, w, dt, T) solves each problem, where T\n",
    "    is based on simulation for num_periods periods.\n",
    "    \"\"\"\n",
    "    from math import pi\n",
    "    w = 0.35; I = 0.3       # just chosen values\n",
    "    P = 2*pi/w              # period\n",
    "    dt = P/30               # 30 time step per period 2*pi/w\n",
    "    T = P*num_periods\n",
    "    energy_const = 0.5*I**2*w**2    # initial energy when V = 0\n",
    "\n",
    "    dt_values = []\n",
    "    E_u_values = []         # error in u\n",
    "    E_energy_values = []    # error in energy\n",
    "    for i in range(m):\n",
    "        u, t = solver_function(I, w, dt, T)\n",
    "        u_e = u_exact(t, I, w)\n",
    "        E_u = np.sqrt(dt*np.sum((u_e-u)**2))\n",
    "        E_u_values.append(E_u)\n",
    "        energy = 0.5*((u[2:] - u[:-2])/(2*dt))**2 + \\\n",
    "                                    0.5*w**2*u[1:-1]**2\n",
    "        E_energy = energy - energy_const\n",
    "        E_energy_norm = np.abs(E_energy).max()\n",
    "        E_energy_values.append(E_energy_norm)\n",
    "        dt_values.append(dt)\n",
    "        dt = dt/2\n",
    "\n",
    "    r_u = [np.log(E_u_values[i-1]/E_u_values[i])/\n",
    "         np.log(dt_values[i-1]/dt_values[i])\n",
    "         for i in range(1, m, 1)]\n",
    "    r_E = [np.log(E_energy_values[i-1]/E_energy_values[i])/\n",
    "         np.log(dt_values[i-1]/dt_values[i])\n",
    "         for i in range(1, m, 1)]\n",
    "    return r_u, r_E\n",
    "\n",
    "def test_convergence_rates():\n",
    "    r_u, r_E = convergence_rates(\n",
    "        m=5,\n",
    "        solver_function=solver,\n",
    "        num_periods=8)\n",
    "    # Accept rate to 1 decimal place\n",
    "    tol = 0.1\n",
    "    assert abs(r_u[-1] - 2.0) < tol\n",
    "    assert abs(r_E[-1] - 2.0) < tol\n",
    "\n",
    "if __name__ == '__main__':\n",
    "    test_convergence_rates()"
   ]
  },
  {
   "cell_type": "markdown",
   "metadata": {},
   "source": [
    "<!-- --- end solution of exercise --- -->\n",
    "Filename: `test_error_conv`.\n",
    "\n",
    "<!-- --- end exercise --- -->\n",
    "\n",
    "\n",
    "\n",
    "\n",
    "<!-- --- begin exercise --- -->\n",
    "\n",
    "## Exercise 10: Use linear/quadratic functions for verification\n",
    "<div id=\"vib:exer:verify:gen:linear\"></div>\n",
    "\n",
    "This exercise is a generalization of [Problem 1: Use linear/quadratic functions for verification](#vib:exer:undamped:verify:linquad) to the extended model problem\n",
    "([vib:ode2](#vib:ode2)) where the damping term is either linear or quadratic.\n",
    "Solve the various subproblems and see how the results and problem\n",
    "settings change with the generalized ODE in case of linear or\n",
    "quadratic damping. By modifying the code from [Problem 1: Use linear/quadratic functions for verification](#vib:exer:undamped:verify:linquad), `sympy` will do most\n",
    "of the work required to analyze the generalized problem.\n",
    "\n",
    "\n",
    "<!-- --- begin solution of exercise --- -->\n",
    "**Solution.**\n",
    "With a linear spring force, i.e. $s(u)=cu$ (for constant $c$),\n",
    "our model problem becomes"
   ]
  },
  {
   "cell_type": "markdown",
   "metadata": {},
   "source": [
    "$$\n",
    "mu^{\\prime\\prime} + f(u^{\\prime}) + cu = F(t),\\quad u(0)=I,\\ u^{\\prime}(0)=V,\\ t\\in (0,T]\n",
    "\\thinspace .\n",
    "\\nonumber\n",
    "$$"
   ]
  },
  {
   "cell_type": "markdown",
   "metadata": {},
   "source": [
    "First we consider linear damping, i.e., when $f(u^{\\prime}) =\n",
    "bu^{\\prime}$, and follow the text in the section [vib:ode2:fdm:flin](#vib:ode2:fdm:flin). Discretizing the equation according to"
   ]
  },
  {
   "cell_type": "markdown",
   "metadata": {},
   "source": [
    "$$\n",
    "[mD_tD_t u + f(D_{2t}u) + cu = F]^n,\n",
    "\\nonumber\n",
    "$$"
   ]
  },
  {
   "cell_type": "markdown",
   "metadata": {},
   "source": [
    "implies that"
   ]
  },
  {
   "cell_type": "markdown",
   "metadata": {},
   "source": [
    "$$\n",
    "m\\frac{u^{n+1}-2u^n + u^{n-1}}{\\Delta t^2}\n",
    "+ b\\frac{u^{n+1}-u^{n-1}}{2\\Delta t} + cu^n = F^n.\n",
    "\\nonumber\n",
    "$$"
   ]
  },
  {
   "cell_type": "markdown",
   "metadata": {},
   "source": [
    "The explicit formula for $u$ at each\n",
    "new time level then becomes"
   ]
  },
  {
   "cell_type": "markdown",
   "metadata": {},
   "source": [
    "$$\n",
    "u^{n+1} = (2mu^n + (\\frac{b}{2}\\Delta t - m)u^{n-1} +\n",
    "\\Delta t^2(F^n - cu^n))(m + \\frac{b}{2}\\Delta t)^{-1}\n",
    "\\nonumber\n",
    "\\thinspace .\n",
    "$$"
   ]
  },
  {
   "cell_type": "markdown",
   "metadata": {},
   "source": [
    "For the first time step, we use $n=0$ and a centered difference approximation for the\n",
    "initial condition on the derivative. This gives"
   ]
  },
  {
   "cell_type": "markdown",
   "metadata": {},
   "source": [
    "$$\n",
    "u^1 = u^0 + \\Delta t\\, V\n",
    "+ \\frac{\\Delta t^2}{2m}(-bV - cu^0 + F^0)\n",
    "\\thinspace .\n",
    "\\nonumber\n",
    "$$"
   ]
  },
  {
   "cell_type": "markdown",
   "metadata": {},
   "source": [
    "Next, we consider quadratic damping, i.e., when\n",
    "$f(u^{\\prime})=bu^{\\prime}|u^{\\prime}|$, and follow the\n",
    "text in the chapter [vib:ode2:fdm:fquad](#vib:ode2:fdm:fquad). Discretizing the\n",
    "equation according to"
   ]
  },
  {
   "cell_type": "markdown",
   "metadata": {},
   "source": [
    "$$\n",
    "[mD_tD_t u + bD_{2t}u|D_{2t}u| + cu = F]^n\\thinspace .\n",
    "\\nonumber\n",
    "$$"
   ]
  },
  {
   "cell_type": "markdown",
   "metadata": {},
   "source": [
    "gives us"
   ]
  },
  {
   "cell_type": "markdown",
   "metadata": {},
   "source": [
    "$$\n",
    "m\\frac{u^{n+1}-2u^n + u^{n-1}}{\\Delta t^2}\n",
    "+ b\\frac{u^{n+1}-u^n}{\\Delta t}\\frac{|u^n-u^{n-1}|}{\\Delta t}\n",
    "+ cu^n = F^n.\n",
    "\\nonumber\n",
    "$$"
   ]
  },
  {
   "cell_type": "markdown",
   "metadata": {},
   "source": [
    "We solve for $u^{n+1}$ to get the explicit updating formula as"
   ]
  },
  {
   "cell_type": "markdown",
   "metadata": {},
   "source": [
    "$$\n",
    "u^{n+1} =  \\left( m + b|u^n-u^{n-1}|\\right)^{-1}\\times \\nonumber\n",
    "$$"
   ]
  },
  {
   "cell_type": "markdown",
   "metadata": {},
   "source": [
    "$$\n",
    "\\qquad \\left(2m u^n - mu^{n-1} + bu^n|u^n-u^{n-1}| + \\Delta t^2 (F^n - cu^n)\n",
    "\\right)\n",
    "\\thinspace .\n",
    "\\nonumber\n",
    "$$"
   ]
  },
  {
   "cell_type": "markdown",
   "metadata": {},
   "source": [
    "and the equation for the first time step as"
   ]
  },
  {
   "cell_type": "markdown",
   "metadata": {},
   "source": [
    "$$\n",
    "u^1 = u^0 + \\Delta t V + \\frac{\\Delta t^2}{2m}\\left(-bV|V| - cu^0 + F^0\\right)\n",
    "\\thinspace .\n",
    "\\nonumber\n",
    "$$"
   ]
  },
  {
   "cell_type": "markdown",
   "metadata": {},
   "source": [
    "Turning to verification with MMS and $u_e(t)=ct+d$, we get $d=I$ and $c=V$ independent\n",
    "of the damping term, so these parameter values stay as for the undamped case.\n",
    "\n",
    "Proceeding with linear damping, we get from the chapter [vib:ode2:verify](#vib:ode2:verify) that"
   ]
  },
  {
   "cell_type": "markdown",
   "metadata": {},
   "source": [
    "$$\n",
    "F(t) = bV + c(Vt + I)\\thinspace .\n",
    "\\nonumber\n",
    "$$"
   ]
  },
  {
   "cell_type": "markdown",
   "metadata": {},
   "source": [
    "(Note that there are two different c parameters here, one from $u_e=ct+d$ and one from the spring force $cu$.\n",
    "The first one disappears, however, as it is switched with $V$.)\n",
    "\n",
    "To show that $u_e$ is a perfect solution also to the discrete equations, we insert $u_e$ and $F$ into"
   ]
  },
  {
   "cell_type": "markdown",
   "metadata": {},
   "source": [
    "$$\n",
    "[mD_tD_t u + bD_{2t}u + cu = F]^n\\thinspace .\n",
    "\\nonumber\n",
    "$$"
   ]
  },
  {
   "cell_type": "markdown",
   "metadata": {},
   "source": [
    "This gives"
   ]
  },
  {
   "cell_type": "markdown",
   "metadata": {},
   "source": [
    "$$\n",
    "[mD_tD_t (Vt+I) + bD_{2t}(Vt+I) + c(Vt+I) = bV + c(Vt + I)]^n,\n",
    "\\nonumber\n",
    "$$"
   ]
  },
  {
   "cell_type": "markdown",
   "metadata": {},
   "source": [
    "which may be split up as"
   ]
  },
  {
   "cell_type": "markdown",
   "metadata": {},
   "source": [
    "$$\n",
    "m[D_tD_t (Vt+I)]^n + b[D_{2t}(Vt+I)]^n + c[(Vt+I)]^n = b[V]^n + c[(Vt + I)]^n.\n",
    "\\nonumber\n",
    "$$"
   ]
  },
  {
   "cell_type": "markdown",
   "metadata": {},
   "source": [
    "Simplifying, we note that the first term is zero and that $c[(Vt+I)]^n$ appears with the\n",
    "same sign on each side of the equation. Thus, dropping these terms, and cancelling the common\n",
    "factor $b$, we are left with"
   ]
  },
  {
   "cell_type": "markdown",
   "metadata": {},
   "source": [
    "$$\n",
    "[D_{2t}(Vt+I)]^n = [V]^n.\n",
    "\\nonumber\n",
    "$$"
   ]
  },
  {
   "cell_type": "markdown",
   "metadata": {},
   "source": [
    "mathcal{I}_t therefore remains to show that $[D_{2t}(Vt+I)]^n$ is equal to $[V]^n = V$. We write out\n",
    "the left hand side as"
   ]
  },
  {
   "cell_type": "markdown",
   "metadata": {},
   "source": [
    "$$\n",
    "[D_{2t}(Vt+I)]^n = \\frac{(Vt_{n+1}+I) - (Vt_{n-1}+I)}{2\\Delta t} \\nonumber\n",
    "$$"
   ]
  },
  {
   "cell_type": "markdown",
   "metadata": {},
   "source": [
    "$$\n",
    "= \\frac{V(t_{n+1}-t_{n-1})}{2\\Delta t} \\nonumber\n",
    "$$"
   ]
  },
  {
   "cell_type": "markdown",
   "metadata": {},
   "source": [
    "$$\n",
    "= \\frac{V((t_n + \\Delta t) - (t_n - \\Delta t))}{2\\Delta t} \\nonumber\n",
    "$$"
   ]
  },
  {
   "cell_type": "markdown",
   "metadata": {},
   "source": [
    "$$\n",
    "= V, \\nonumber\n",
    "\\nonumber\n",
    "$$"
   ]
  },
  {
   "cell_type": "markdown",
   "metadata": {},
   "source": [
    "which shows that the two sides of the equation are equal and that the discrete equations\n",
    "are fulfilled exactly for the given $u_e$ function.\n",
    "\n",
    "If the damping is rather quadratic, we find from the chapter [vib:ode2:verify](#vib:ode2:verify) that"
   ]
  },
  {
   "cell_type": "markdown",
   "metadata": {},
   "source": [
    "$$\n",
    "F(t) = b|V|V + c(Vt + I)\\thinspace .\n",
    "\\nonumber\n",
    "$$"
   ]
  },
  {
   "cell_type": "markdown",
   "metadata": {},
   "source": [
    "As with linear damping, we show that $u_e$ is a perfect solution also to the discrete equations\n",
    "by inserting $u_e$ and $F$ into"
   ]
  },
  {
   "cell_type": "markdown",
   "metadata": {},
   "source": [
    "$$\n",
    "[mD_tD_t u + bD_{2t}u|D_{2t}u| + cu = F]^n\\thinspace .\n",
    "\\nonumber\n",
    "$$"
   ]
  },
  {
   "cell_type": "markdown",
   "metadata": {},
   "source": [
    "We then get"
   ]
  },
  {
   "cell_type": "markdown",
   "metadata": {},
   "source": [
    "$$\n",
    "[mD_tD_t (Vt+I) + bD_{2t}(Vt+I)|D_{2t}(Vt+I)| + c(Vt+I) = b|V|V + c(Vt+I)]^n,\n",
    "\\nonumber\n",
    "$$"
   ]
  },
  {
   "cell_type": "markdown",
   "metadata": {},
   "source": [
    "which simplifies to"
   ]
  },
  {
   "cell_type": "markdown",
   "metadata": {},
   "source": [
    "$$\n",
    "[bD_{2t}(Vt+I)|D_{2t}(Vt+I)| = b|V|V]^n\n",
    "\\nonumber\n",
    "$$"
   ]
  },
  {
   "cell_type": "markdown",
   "metadata": {},
   "source": [
    "and further to"
   ]
  },
  {
   "cell_type": "markdown",
   "metadata": {},
   "source": [
    "$$\n",
    "[D_{2t}(Vt+I)]^n [|D_{2t}(Vt+I)|]^n = |V|V\n",
    "\\nonumber\n",
    "$$"
   ]
  },
  {
   "cell_type": "markdown",
   "metadata": {},
   "source": [
    "which simply states that"
   ]
  },
  {
   "cell_type": "markdown",
   "metadata": {},
   "source": [
    "$$\n",
    "V|V| = |V|V\\thinspace .\n",
    "\\nonumber\n",
    "$$"
   ]
  },
  {
   "cell_type": "markdown",
   "metadata": {},
   "source": [
    "Thus, $u_e$ fulfills the discrete equations exactly also when the damping term\n",
    "is quadratic.\n",
    "\n",
    "When the exact solution is changed to become quadratic or cubic, the situation is more complicated.\n",
    "\n",
    "For a quadratic solution $u_e$ combined with (zero damping or) linear damping, the output from the program below shows that the discrete equations are fulfilled exactly. However, this is not the case with nonlinear damping, where only the first step gives zero residual.\n",
    "\n",
    "For a cubic solution $u_e$, we get a nonzero residual for (zero damping and) linear and nonlinear damping."
   ]
  },
  {
   "cell_type": "code",
   "execution_count": null,
   "metadata": {},
   "outputs": [],
   "source": [
    "# NBVAL_SKIP\n",
    "import sympy as sym\n",
    "import numpy as np\n",
    "\n",
    "# The code in vib_undamped_verify_mms.py is here generalized\n",
    "# to treat the model m*u'' + f(u') + c*u = F(t), where the\n",
    "# damping term f(u') = 0, b*u' or b*V*abs(V).\n",
    "\n",
    "def ode_source_term(u, damping):\n",
    "    \"\"\"Return the terms in the ODE that the source term\n",
    "    must balance, here m*u'' + f(u') + c*u.\n",
    "    u is a symbolic Python function of t.\"\"\"\n",
    "    if damping == 'zero':\n",
    "        return m*sym.diff(u(t), t, t) + c*u(t)\n",
    "    elif damping == 'linear':\n",
    "        return m*sym.diff(u(t), t, t) + \\\n",
    "               b*sym.diff(u(t), t) + c*u(t)\n",
    "    else:  # damping is nonlinear\n",
    "        return m*sym.diff(u(t), t, t) + \\\n",
    "               b*sym.diff(u(t), t)*abs(sym.diff(u(t), t)) + c*u(t)\n",
    "\n",
    "def residual_discrete_eq(u, damping):\n",
    "    \"\"\"Return the residual of the discrete eq. with u inserted.\"\"\"\n",
    "    if damping == 'zero':\n",
    "        R = m*DtDt(u, dt) + c*u(t) - F\n",
    "    elif damping == 'linear':\n",
    "        R = m*DtDt(u, dt) + b*D2t(u, dt) + c*u(t) - F\n",
    "    else:   # damping is nonlinear\n",
    "        R = m*DtDt(u, dt) + b*Dt_p_half(u, dt)*\\\n",
    "            abs(Dt_m_half(u, dt)) + c*u(t) - F\n",
    "    return sym.simplify(R)\n",
    "\n",
    "def residual_discrete_eq_step1(u, damping):\n",
    "    \"\"\"Return the residual of the discrete eq. at the first\n",
    "    step with u inserted.\"\"\"\n",
    "    half = sym.Rational(1,2)\n",
    "    if damping == 'zero':\n",
    "        R = u(t+dt) - u(t) - dt*V - \\\n",
    "            half*dt**2*(F.subs(t, 0)/m) + half*dt**2*(c/m)*I\n",
    "    elif damping == 'linear':\n",
    "        R = u(t+dt) - (I + dt*V + \\\n",
    "            half*(dt**2/m)*(-b*V - c*I + F.subs(t, 0)))\n",
    "    else:   # damping is nonlinear\n",
    "        R = u(t+dt) - (I + dt*V + \\\n",
    "            half*(dt**2/m)*(-b*V*abs(V) - c*I + F.subs(t, 0)))\n",
    "    R = R.subs(t, 0)  # t=0 in the rhs of the first step eq.\n",
    "    return sym.simplify(R)\n",
    "\n",
    "def DtDt(u, dt):\n",
    "    \"\"\"Return 2nd-order finite difference for u_tt.\n",
    "    u is a symbolic Python function of t.\n",
    "    \"\"\"\n",
    "    return (u(t+dt) - 2*u(t) + u(t-dt))/dt**2\n",
    "\n",
    "def D2t(u, dt):\n",
    "    \"\"\"Return 2nd-order finite difference for u_t.\n",
    "    u is a symbolic Python function of t.\n",
    "    \"\"\"\n",
    "    return (u(t+dt) - u(t-dt))/(2.0*dt)\n",
    "\n",
    "def Dt_p_half(u, dt):\n",
    "    \"\"\"Return 2nd-order finite difference for u_t, sampled at n+1/2,\n",
    "    i.e, n pluss one half... u is a symbolic Python function of t.\n",
    "    \"\"\"\n",
    "    return (u(t+dt) - u(t))/dt\n",
    "\n",
    "def Dt_m_half(u, dt):\n",
    "    \"\"\"Return 2nd-order finite difference for u_t, sampled at n-1/2,\n",
    "    i.e, n minus one half.... u is a symbolic Python function of t.\n",
    "    \"\"\"\n",
    "    return (u(t) - u(t-dt))/dt\n",
    "\n",
    "def main(u, damping):\n",
    "    \"\"\"\n",
    "    Given some chosen solution u (as a function of t, implemented\n",
    "    as a Python function), use the method of manufactured solutions\n",
    "    to compute the source term f, and check if u also solves\n",
    "    the discrete equations.\n",
    "    \"\"\"\n",
    "    print '=== Testing exact solution: %s ===' % u(t)\n",
    "    print \"Initial conditions u(0)=%s, u'(0)=%s:\" % \\\n",
    "          (u(t).subs(t, 0), sym.diff(u(t), t).subs(t, 0))\n",
    "\n",
    "    # Method of manufactured solution requires fitting F\n",
    "    global F  # source term in the ODE\n",
    "    F = sym.simplify(ode_source_term(u, damping))\n",
    "\n",
    "    # Residual in discrete equations (should be 0)\n",
    "    print 'residual step1:', residual_discrete_eq_step1(u, damping)\n",
    "    print 'residual:', residual_discrete_eq(u, damping)\n",
    "\n",
    "\n",
    "def linear(damping):\n",
    "    def u_e(t):\n",
    "        \"\"\"Return chosen linear exact solution.\"\"\"\n",
    "        # General linear function u_e = c*t + d\n",
    "        # Initial conditions u(0)=I, u'(0)=V require c=V, d=I\n",
    "        return V*t + I\n",
    "\n",
    "    main(u_e, damping)\n",
    "\n",
    "def quadratic(damping):\n",
    "    # Extend with quadratic functions\n",
    "    q = sym.Symbol('q')  # arbitrary constant in quadratic term\n",
    "\n",
    "    def u_e(t):\n",
    "        return q*t**2 + V*t + I\n",
    "\n",
    "    main(u_e, damping)\n",
    "\n",
    "def cubic(damping):\n",
    "    r, q = sym.symbols('r q')\n",
    "\n",
    "    main(lambda t: r*t**3 + q*t**2 + V*t + I, damping)\n",
    "\n",
    "\n",
    "def solver(I, V, F, b, c, m, dt, T, damping):\n",
    "    \"\"\"\n",
    "    Solve m*u'' + f(u') + c*u = F for t in (0,T], u(0)=I and u'(0)=V,\n",
    "    by a central finite difference method with time step dt.\n",
    "    F(t) is a callable Python function.\n",
    "    \"\"\"\n",
    "    dt = float(dt)\n",
    "    Nt = int(round(T/dt))\n",
    "    u = np.zeros(Nt+1)\n",
    "    t = np.linspace(0, Nt*dt, Nt+1)\n",
    "\n",
    "    if damping == 'zero':\n",
    "        u[0] = I\n",
    "        u[1] = u[0] - 0.5*dt**2*(c/m)*u[0] + \\\n",
    "               0.5*dt**2*F(t[0])/m + dt*V\n",
    "        for n in range(1, Nt):\n",
    "            u[n+1] = 2*u[n] - u[n-1] - \\\n",
    "                     dt**2*(c/m)*u[n] + dt**2*F(t[n])/m\n",
    "    elif damping == 'linear':\n",
    "        u[0] = I\n",
    "        u[1] = u[0] + dt*V + \\\n",
    "               0.5*(dt**2/m)*(-b*V - c*u[0] + F(t[0]))\n",
    "        for n in range(1, Nt):\n",
    "            u[n+1] = (2*m*u[n] + (b*dt/2.-m)*u[n-1] + \\\n",
    "                     dt**2*(F(t[n])-c*u[n]))/(m+b*dt/2.)\n",
    "    else:    # damping is quadratic\n",
    "        u[0] = I\n",
    "        u[1] = u[0] + dt*V + \\\n",
    "               0.5*(dt**2/m)*(-b*V*abs(V) - c*u[0] + F(t[0]))\n",
    "        for n in range(1, Nt):\n",
    "            u[n+1] = 1./(m+b*abs(u[n]-u[n-1])) * \\\n",
    "                     (2*m*u[n] - m*u[n-1] + b*u[n]*\\\n",
    "                     abs(u[n]-u[n-1])+dt**2*(F(t[n])-c*u[n]))\n",
    "    return u, t\n",
    "\n",
    "def test_quadratic_exact_solution(damping):\n",
    "    # Transform global symbolic variables to functions and numbers\n",
    "    # for numerical computations\n",
    "\n",
    "    global p, V, I, b, c, m\n",
    "    p, V, I, b, c, m = 2.3, 0.9, 1.2, 2.1, 1.6, 1.3 # i.e., as numbers\n",
    "    global F, t\n",
    "    u_e = lambda t: p*t**2 + V*t + I\n",
    "    F = ode_source_term(u_e, damping) # fit source term\n",
    "    F = sym.lambdify(t, F)            # ...numerical Python function\n",
    "\n",
    "    from math import pi, sqrt\n",
    "    dt = 2*pi/sqrt(c/m)/10   # 10 steps per period 2*pi/w, w=sqrt(c/m)\n",
    "    u, t = solver(I=I, V=V, F=F, b=b, c=c, m=m, dt=dt,\n",
    "                  T=(2*pi/sqrt(c/m))*2, damping=damping)\n",
    "    u_e = u_e(t)\n",
    "    error = np.abs(u - u_e).max()\n",
    "    tol = 1E-12\n",
    "    assert error < tol    \n",
    "    print 'Error in computing a quadratic solution:', error\n",
    "\n",
    "if __name__ == '__main__':\n",
    "    damping = ['zero', 'linear', 'quadratic']\n",
    "    for e in damping:\n",
    "        V, t, I, dt, m, b, c = sym.symbols('V t I dt m b c')  # global\n",
    "        F = None  # global variable for the source term in the ODE\n",
    "        print '---------------------------------------Damping:', e\n",
    "        linear(e)  \t# linear solution used for MMS\n",
    "        quadratic(e)   \t# quadratic solution for MMS\n",
    "        cubic(e)       \t# ... and cubic\n",
    "        test_quadratic_exact_solution(e)"
   ]
  },
  {
   "cell_type": "markdown",
   "metadata": {},
   "source": [
    "<!-- --- end solution of exercise --- -->\n",
    "Filename: `vib_verify_mms`.\n",
    "\n",
    "<!-- --- end exercise --- -->\n",
    "\n",
    "\n",
    "\n",
    "\n",
    "<!-- --- begin exercise --- -->\n",
    "\n",
    "## Exercise 11: Use an exact discrete solution for verification\n",
    "<div id=\"vib:exer:discrete:omega\"></div>\n",
    "\n",
    "Write a test function in a separate file\n",
    "that employs the exact discrete solution\n",
    "([20](#vib:ode1:un:exact)) to verify the implementation of the\n",
    "`solver` function in the file `vib_undamped.py`.\n",
    "\n",
    "\n",
    "<!-- --- begin solution of exercise --- -->\n",
    "**Solution.**\n",
    "The code goes like this:"
   ]
  },
  {
   "cell_type": "code",
   "execution_count": null,
   "metadata": {},
   "outputs": [],
   "source": [
    "# NBVAL_SKIP\n",
    "from vib_undamped import solver\n",
    "from numpy import arcsin as asin, pi, cos, abs\n",
    "\n",
    "def test_solver_exact_discrete_solution():\n",
    "    def tilde_w(w, dt):\n",
    "        return (2./dt)*asin(w*dt/2.)\n",
    "\n",
    "    def u_numerical_exact(t):\n",
    "        return I*cos(tilde_w(w, dt)*t)\n",
    "\n",
    "    w = 2.5\n",
    "    I = 1.5\n",
    "\n",
    "    # Estimate period and time step\n",
    "    P = 2*pi/w\n",
    "    num_periods = 4\n",
    "    T = num_periods*P\n",
    "    N = 5               # time steps per period\n",
    "    dt = P/N\n",
    "    u, t = solver(I, w, dt, T)\n",
    "    u_e = u_numerical_exact(t)\n",
    "    error= abs(u_e - u).max()\n",
    "    # Make a plot in a file, but not on the screen\n",
    "    from scitools.std import plot\n",
    "    plot(t, u, 'bo', t, u_e, 'r-',\n",
    "         legend=('numerical', 'exact'), show=False,\n",
    "         savefig='tmp.png')\n",
    "\n",
    "    assert error < 1E-14\n",
    "\n",
    "if __name__ == '__main__':\n",
    "    test_solver_exact_discrete_solution()"
   ]
  },
  {
   "cell_type": "markdown",
   "metadata": {},
   "source": [
    "<!-- --- end solution of exercise --- -->\n",
    "Filename: `test_vib_undamped_exact_discrete_sol`.\n",
    "\n",
    "<!-- --- end exercise --- -->\n",
    "\n",
    "\n",
    "\n",
    "\n",
    "<!-- --- begin exercise --- -->\n",
    "\n",
    "## Exercise 12: Use analytical solution for convergence rate tests\n",
    "<div id=\"vib:exer:conv:rate\"></div>\n",
    "\n",
    "The purpose of this exercise is to perform convergence tests of the\n",
    "problem ([vib:ode2](#vib:ode2)) when $s(u)=cu$, $F(t)=A\\sin\\phi t$ and there\n",
    "is no damping.  Find the complete analytical solution to the problem\n",
    "in this case (most textbooks on mechanics or ordinary differential\n",
    "equations list the various elements you need to write down the exact\n",
    "solution, or you can use symbolic tools like `sympy` or `wolframalpha.com`).\n",
    "Modify the `convergence_rate` function from the\n",
    "`vib_undamped.py` program to perform experiments with the extended\n",
    "model.  Verify that the error is of order $\\Delta t^2$.\n",
    "\n",
    "\n",
    "<!-- --- begin solution of exercise --- -->\n",
    "**Solution.**\n",
    "The code:"
   ]
  },
  {
   "cell_type": "code",
   "execution_count": null,
   "metadata": {},
   "outputs": [],
   "source": [
    "# NBVAL_SKIP\n",
    "import numpy as np\n",
    "import matplotlib.pyplot as plt\n",
    "from vib_verify_mms import solver\n",
    "\n",
    "def u_exact(t, I, V, A, f, c, m):\n",
    "    \"\"\"Found by solving mu'' + cu = F in Wolfram alpha.\"\"\"\n",
    "    k_1 = I\n",
    "    k_2 = (V - A*2*np.pi*f/(c - 4*np.pi**2*f**2*m))*\\\n",
    "                                        np.sqrt(m/float(c))\n",
    "    return A*np.sin(2*np.pi*f*t)/(c - 4*np.pi**2*f**2*m) + \\\n",
    "           k_2*np.sin(np.sqrt(c/float(m))*t) + \\\n",
    "           k_1*np.cos(np.sqrt(c/float(m))*t)\n",
    "\n",
    "def convergence_rates(N, solver_function, num_periods=8):\n",
    "    \"\"\"\n",
    "    Returns N-1 empirical estimates of the convergence rate\n",
    "    based on N simulations, where the time step is halved\n",
    "    for each simulation.\n",
    "    solver_function(I, V, F, c, m, dt, T, damping) solves\n",
    "    each problem, where T is based on simulation for\n",
    "    num_periods periods.\n",
    "    \"\"\"\n",
    "\n",
    "    def F(t):\n",
    "        \"\"\"External driving force\"\"\"\n",
    "        return A*np.sin(2*np.pi*f*t)\n",
    "\n",
    "    b, c, m = 0, 1.6, 1.3  # just some chosen values\n",
    "    I = 0                  # init. cond. u(0)\n",
    "    V = 0                  # init. cond. u'(0)\n",
    "    A = 1.0                # amplitude of driving force\n",
    "    f = 1.0                # chosen frequency of driving force\n",
    "    damping = 'zero'\n",
    "\n",
    "    P = 1/f\n",
    "    dt = P/30              # 30 time step per period 2*pi/w\n",
    "    T = P*num_periods\n",
    "\n",
    "    dt_values = []\n",
    "    E_values = []\n",
    "    for i in range(N):\n",
    "        u, t = solver_function(I, V, F, b, c, m, dt, T, damping)\n",
    "        u_e = u_exact(t, I, V, A, f, c, m)\n",
    "        E = np.sqrt(dt*np.sum((u_e-u)**2))\n",
    "        dt_values.append(dt)\n",
    "        E_values.append(E)\n",
    "        dt = dt/2\n",
    "\n",
    "    #plt.plot(t, u, 'b--', t, u_e, 'r-'); plt.grid(); plt.show()\n",
    "\n",
    "    r = [np.log(E_values[i-1]/E_values[i])/\n",
    "         np.log(dt_values[i-1]/dt_values[i])\n",
    "         for i in range(1, N, 1)]\n",
    "    print r\n",
    "    return r\n",
    "\n",
    "def test_convergence_rates():\n",
    "    r = convergence_rates(\n",
    "        N=5,\n",
    "        solver_function=solver,\n",
    "        num_periods=8)\n",
    "    # Accept rate to 1 decimal place\n",
    "    tol = 0.1\n",
    "    assert abs(r[-1] - 2.0) < tol\n",
    "\n",
    "if __name__ == '__main__':\n",
    "    test_convergence_rates()"
   ]
  },
  {
   "cell_type": "markdown",
   "metadata": {},
   "source": [
    "The output from the program shows that $r$ approaches 2.\n",
    "\n",
    "<!-- --- end solution of exercise --- -->\n",
    "Filename: `vib_conv_rate`.\n",
    "\n",
    "<!-- --- end exercise --- -->\n",
    "\n",
    "\n",
    "\n",
    "\n",
    "<!-- --- begin exercise --- -->\n",
    "\n",
    "## Exercise 13: Investigate the amplitude errors of many solvers\n",
    "<div id=\"vib:exer:undamped:odespy\"></div>\n",
    "\n",
    "Use the program `vib_undamped_odespy.py` from the section [Comparison of schemes](#vib:model2x2:compare) (utilize the function `amplitudes`) to investigate\n",
    "how well famous methods for 1st-order ODEs can preserve the amplitude of $u$ in undamped\n",
    "oscillations.  Test, for example, the 3rd- and 4th-order Runge-Kutta\n",
    "methods (`RK3`, `RK4`), the Crank-Nicolson method (`CrankNicolson`),\n",
    "the 2nd- and 3rd-order Adams-Bashforth methods (`AdamsBashforth2`,\n",
    "`AdamsBashforth3`), and a 2nd-order Backwards scheme\n",
    "(`Backward2Step`).  The relevant governing equations are listed in\n",
    "the beginning of the section [Alternative schemes based on 1st-order equations](#vib:model2x2).\n",
    "\n",
    "Running the code, we get the plots seen in [Figure](#vib:exer:fig:ampl_RK34),\n",
    "[vib:exer:fig:ampl_CNB2](#vib:exer:fig:ampl_CNB2), and [vib:exer:fig:ampl_AB](#vib:exer:fig:ampl_AB). They\n",
    "show that `RK4` is superior to the others, but that also `CrankNicolson` performs well. In fact, with `RK4` the amplitude changes by less than $0.1$ per cent over the interval.\n",
    "\n",
    "<!-- dom:FIGURE: [fig-vib/Amplitudes_RK3_RK4.png, width=600 frac=1.0] The amplitude as it changes over 100 periods for RK3 and RK4. <div id=\"vib:exer:fig:ampl_RK34\"></div> -->\n",
    "<!-- begin figure -->\n",
    "<div id=\"vib:exer:fig:ampl_RK34\"></div>\n",
    "\n",
    "<p>The amplitude as it changes over 100 periods for RK3 and RK4.</p>\n",
    "<img src=\"fig-vib/Amplitudes_RK3_RK4.png\" width=600>\n",
    "\n",
    "<!-- end figure -->\n",
    "\n",
    "\n",
    "<!-- dom:FIGURE: [fig-vib/Amplitudes_CrankNicolson_Backward2Step.png, width=600 frac=1.0] The amplitude as it changes over 100 periods for Crank-Nicolson and Backward 2 step. <div id=\"vib:exer:fig:ampl_CNB2\"></div> -->\n",
    "<!-- begin figure -->\n",
    "<div id=\"vib:exer:fig:ampl_CNB2\"></div>\n",
    "\n",
    "<p>The amplitude as it changes over 100 periods for Crank-Nicolson and Backward 2 step.</p>\n",
    "<img src=\"fig-vib/Amplitudes_CrankNicolson_Backward2Step.png\" width=600>\n",
    "\n",
    "<!-- end figure -->\n",
    "\n",
    "\n",
    "<!-- dom:FIGURE: [fig-vib/Amplitudes_AdamsBashforth2_AdamsBashforth3.png, width=600 frac=1.0] The amplitude as it changes over 100 periods for Adams-Bashforth 2 and 3. <div id=\"vib:exer:fig:ampl_AB\"></div> -->\n",
    "<!-- begin figure -->\n",
    "<div id=\"vib:exer:fig:ampl_AB\"></div>\n",
    "\n",
    "<p>The amplitude as it changes over 100 periods for Adams-Bashforth 2 and 3.</p>\n",
    "<img src=\"fig-vib/Amplitudes_AdamsBashforth2_AdamsBashforth3.png\" width=600>\n",
    "\n",
    "<!-- end figure -->\n",
    "\n",
    "\n",
    "\n",
    "<!-- --- begin solution of exercise --- -->\n",
    "**Solution.**\n",
    "We modify the proposed code to the following:"
   ]
  },
  {
   "cell_type": "code",
   "execution_count": null,
   "metadata": {},
   "outputs": [],
   "source": [
    "# NBVAL_SKIP\n",
    "import scitools.std as plt\n",
    "#import matplotlib.pyplot as plt\n",
    "from vib_empirical_analysis import minmax, amplitudes\n",
    "import sys\n",
    "import odespy\n",
    "import numpy as np\n",
    "\n",
    "def f(u, t, w=1):\n",
    "    # v, u numbering for EulerCromer to work well\n",
    "    v, u = u  # u is array of length 2 holding our [v, u]\n",
    "    return [-w**2*u, v]\n",
    "\n",
    "def run_solvers_and_check_amplitudes(solvers, timesteps_per_period=20,\n",
    "                                     num_periods=1, I=1, w=2*np.pi):\n",
    "    P = 2*np.pi/w  # duration of one period\n",
    "    dt = P/timesteps_per_period\n",
    "    Nt = num_periods*timesteps_per_period\n",
    "    T = Nt*dt\n",
    "    t_mesh = np.linspace(0, T, Nt+1)\n",
    "\n",
    "    file_name = 'Amplitudes'   # initialize filename for plot\n",
    "    for solver in solvers:\n",
    "        solver.set(f_kwargs={'w': w})\n",
    "        solver.set_initial_condition([0, I])\n",
    "        u, t = solver.solve(t_mesh)\n",
    "\n",
    "        solver_name = \\\n",
    "               'CrankNicolson' if solver.__class__.__name__ == \\\n",
    "               'MidpointImplicit' else solver.__class__.__name__\n",
    "        file_name = file_name + '_' + solver_name\n",
    "\n",
    "        minima, maxima = minmax(t, u[:,0])\n",
    "        a = amplitudes(minima, maxima)\n",
    "        plt.plot(range(len(a)), a, '-', label=solver_name)\n",
    "        plt.hold('on')\n",
    "\n",
    "    plt.xlabel('Number of periods')\n",
    "    plt.ylabel('Amplitude (absolute value)')\n",
    "    plt.legend(loc='upper left')\n",
    "    plt.savefig(file_name + '.png')\n",
    "    plt.savefig(file_name + '.pdf')\n",
    "    plt.show()\n",
    "\n",
    "\n",
    "# Define different sets of experiments\n",
    "solvers_CNB2 = [odespy.CrankNicolson(f, nonlinear_solver='Newton'),\n",
    "                odespy.Backward2Step(f)]\n",
    "solvers_RK34 = [odespy.RK3(f), \n",
    "                odespy.RK4(f)]\n",
    "solvers_AB = [odespy.AdamsBashforth2(f), \n",
    "              odespy.AdamsBashforth3(f)]\n",
    "\n",
    "if __name__ == '__main__':\n",
    "    # Default values\n",
    "    timesteps_per_period = 30\n",
    "    solver_collection = 'CNB2'\n",
    "    num_periods = 100\n",
    "    # Override from command line\n",
    "    try:\n",
    "        # Example: python vib_undamped_odespy.py 30 RK34 50\n",
    "        timesteps_per_period = int(sys.argv[1])\n",
    "        solver_collection = sys.argv[2]\n",
    "        num_periods = int(sys.argv[3])\n",
    "    except IndexError:\n",
    "        pass # default values are ok\n",
    "    solvers = eval('solvers_' + solver_collection)  # list of solvers\n",
    "    run_solvers_and_check_amplitudes(solvers,\n",
    "                                     timesteps_per_period,\n",
    "                                     num_periods)"
   ]
  },
  {
   "cell_type": "markdown",
   "metadata": {},
   "source": [
    "<!-- --- end solution of exercise --- -->\n",
    "Filename: `vib_amplitude_errors`.\n",
    "\n",
    "<!-- --- end exercise --- -->\n",
    "\n",
    "\n",
    "\n",
    "\n",
    "<!-- --- begin exercise --- -->\n",
    "\n",
    "## Problem 14: Minimize memory usage of a simple vibration solver\n",
    "<div id=\"vib:exer:memsave0\"></div>\n",
    "\n",
    "We consider the model problem $u''+\\omega^2 u = 0$, $u(0)=I$, $u'(0)=V$,\n",
    "solved by a second-order finite difference scheme. A standard implementation\n",
    "typically employs an array `u` for storing all the $u^n$ values. However,\n",
    "at some time level `n+1` where we want to compute `u[n+1]`, all we need\n",
    "of previous `u` values are from level `n` and `n-1`. We can therefore avoid\n",
    "storing the entire array `u`, and instead work with `u[n+1]`, `u[n],`\n",
    "and `u[n-1]`, named as `u`, `u_n`, `u_nmp1`, for instance. Another\n",
    "possible naming convention is `u`, `u_n[0]`, `u_n[-1]`.\n",
    "Store the solution in a file\n",
    "for later visualization. Make a test function that verifies the implementation\n",
    "by comparing with the another code for the same problem.\n",
    "\n",
    "\n",
    "<!-- --- begin solution of exercise --- -->\n",
    "**Solution.**\n",
    "The modified solver function needs more manual steps initially, and it needs\n",
    "shuffling of the `u_n` and `u_nm1` variables at each time  level. Otherwise\n",
    "it is very similar to the previous `solver` function with an array `u` for\n",
    "the entire mesh function."
   ]
  },
  {
   "cell_type": "code",
   "execution_count": null,
   "metadata": {},
   "outputs": [],
   "source": [
    "# NBVAL_SKIP\n",
    "import numpy as np\n",
    "import matplotlib.pyplot as plt\n",
    "\n",
    "def solver_memsave(I, w, dt, T, filename='tmp.dat'):\n",
    "    \"\"\"\n",
    "    As vib_undamped.solver, but store only the last three\n",
    "    u values in the implementation. The solution is written to\n",
    "    file `tmp_memsave.dat`.\n",
    "    Solve u'' + w**2*u = 0 for t in (0,T], u(0)=I and u'(0)=0,\n",
    "    by a central finite difference method with time step dt.\n",
    "    \"\"\"\n",
    "    dt = float(dt)\n",
    "    Nt = int(round(T/dt))\n",
    "    t = np.linspace(0, Nt*dt, Nt+1)\n",
    "    outfile = open(filename, 'w')\n",
    "\n",
    "    u_n = I\n",
    "    outfile.write('%20.12f %20.12f\\n' % (0, u_n))\n",
    "    u = u_n - 0.5*dt**2*w**2*u_n\n",
    "    outfile.write('%20.12f %20.12f\\n' % (dt, u))\n",
    "    u_nm1 = u_n\n",
    "    u_n = u\n",
    "    for n in range(1, Nt):\n",
    "        u = 2*u_n - u_nm1 - dt**2*w**2*u_n\n",
    "        outfile.write('%20.12f %20.12f\\n' % (t[n], u))\n",
    "        u_nm1 = u_n\n",
    "        u_n = u\n",
    "    return u, t"
   ]
  },
  {
   "cell_type": "markdown",
   "metadata": {},
   "source": [
    "Verification can be done by comparing with the `solver` function in\n",
    "the `vib_undamped` module. Note that to compare both time series, we need\n",
    "to load the data written to file in `solver_memsave` back in memory again.\n",
    "For this purpose, we can use the `numpy.loadtxt` function, which reads\n",
    "tabular data and returns them as a table `data`. Our interest is in the\n",
    "second column of the data (the `u` values)."
   ]
  },
  {
   "cell_type": "code",
   "execution_count": null,
   "metadata": {},
   "outputs": [],
   "source": [
    "# NBVAL_SKIP\n",
    "def test_solver_memsave():\n",
    "    from vib_undamped import solver\n",
    "    _, _ = solver_memsave(I=1, dt=0.1, w=1, T=30)\n",
    "    u_expected, _ = solver        (I=1, dt=0.1, w=1, T=30)\n",
    "    data = np.loadtxt('tmp.dat')\n",
    "    u_computed = data[:,1]\n",
    "    diff = np.abs(u_expected - u_computed).max()\n",
    "    assert diff < 5E-13, diff"
   ]
  },
  {
   "cell_type": "markdown",
   "metadata": {},
   "source": [
    "<!-- --- end solution of exercise --- -->\n",
    "Filename: `vib_memsave0`.\n",
    "\n",
    "<!-- --- end exercise --- -->\n",
    "\n",
    "\n",
    "\n",
    "\n",
    "<!-- --- begin exercise --- -->\n",
    "\n",
    "## Problem 15: Minimize memory usage of a general vibration solver\n",
    "<div id=\"vib:exer:memsave\"></div>\n",
    "\n",
    "The program [`vib.py`](https://github.com/devitocodes/devito_book/blob/master/fdm-devito-notebooks/01_vib/src-vib/vib.py) stores the complete\n",
    "solution $u^0,u^1,\\ldots,u^{N_t}$ in memory, which is convenient for\n",
    "later plotting.  Make a memory minimizing version of this program\n",
    "where only the last three $u^{n+1}$, $u^n$, and $u^{n-1}$ values are\n",
    "stored in memory under the names `u`, `u_n`, and `u_nm1` (this is the\n",
    "naming convention used in this book).\n",
    "Write each computed $(t_{n+1}, u^{n+1})$ pair to\n",
    "file.  Visualize the data in the file (a cool solution is to read one\n",
    "line at a time and plot the $u$ value using the line-by-line plotter\n",
    "in the `visualize_front_ascii` function - this technique makes it\n",
    "trivial to visualize very long time simulations).\n",
    "\n",
    "\n",
    "<!-- --- begin solution of exercise --- -->\n",
    "**Solution.**\n",
    "Here is the complete program:"
   ]
  },
  {
   "cell_type": "code",
   "execution_count": null,
   "metadata": {},
   "outputs": [],
   "source": [
    "# NBVAL_SKIP\n",
    "import numpy as np\n",
    "import scitools.std as plt\n",
    "\n",
    "def solve_and_store(filename, I, V, m, b, s,\n",
    "                    F, dt, T, damping='linear'):\n",
    "    \"\"\"\n",
    "    Solve m*u'' + f(u') + s(u) = F(t) for t in (0,T], u(0)=I and\n",
    "    u'(0)=V, by a central finite difference method with time step\n",
    "    dt. If damping is 'linear', f(u')=b*u, while if damping is\n",
    "    'quadratic', f(u')=b*u'*abs(u'). F(t) and s(u) are Python\n",
    "    functions. The solution is written to file (filename).\n",
    "    Naming convention: we use the name u for the new solution\n",
    "    to be computed, u_n for the solution one time step prior to\n",
    "    that and u_nm1 for the solution two time steps prior to that.\n",
    "    Returns min and max u values needed for subsequent plotting.\n",
    "    \"\"\"\n",
    "    dt = float(dt); b = float(b); m = float(m) # avoid integer div.\n",
    "    Nt = int(round(T/dt))\n",
    "    outfile = open(filename, 'w')\n",
    "    outfile.write('Time          Position\\n')\n",
    "\n",
    "    u_nm1 = I\n",
    "    u_min = u_max = u_nm1\n",
    "    outfile.write('%6.3f         %7.5f\\n' % (0*dt, u_nm1))\n",
    "    if damping == 'linear':\n",
    "        u_n = u_nm1 + dt*V + dt**2/(2*m)*(-b*V - s(u_nm1) + F(0*dt))\n",
    "    elif damping == 'quadratic':\n",
    "        u_n = u_nm1 + dt*V + \\\n",
    "               dt**2/(2*m)*(-b*V*abs(V) - s(u_nm1) + F(0*dt))\n",
    "    if u_n < u_nm1:\n",
    "        u_min = u_n\n",
    "    else:  # either equal or u_n > u_nm1\n",
    "        u_max = u_n\n",
    "    outfile.write('%6.3f         %7.5f\\n' % (1*dt, u_n))\n",
    "\n",
    "    for n in range(1, Nt):\n",
    "        # compute  solution at next time step\n",
    "        if damping == 'linear':\n",
    "            u = (2*m*u_n + (b*dt/2 - m)*u_nm1 +\n",
    "                dt**2*(F(n*dt) - s(u_n)))/(m + b*dt/2)\n",
    "        elif damping == 'quadratic':\n",
    "            u = (2*m*u_n - m*u_nm1 + b*u_n*abs(u_n - u_nm1)\n",
    "                + dt**2*(F(n*dt) - s(u_n)))/\\\n",
    "                (m + b*abs(u_n - u_nm1))\n",
    "        if u < u_min:\n",
    "            u_min = u\n",
    "        elif u > u_max:\n",
    "            u_max = u\n",
    "\n",
    "        # write solution to file\n",
    "        outfile.write('%6.3f         %7.5f\\n' % ((n+1)*dt, u))\n",
    "        # switch references before next step\n",
    "        u_nm1, u_n, u = u_n, u, u_nm1\n",
    "\n",
    "    outfile.close()\n",
    "    return u_min, u_max\n",
    "\n",
    "def main():\n",
    "    import argparse\n",
    "    parser = argparse.ArgumentParser()\n",
    "    parser.add_argument('--I', type=float, default=1.0)\n",
    "    parser.add_argument('--V', type=float, default=0.0)\n",
    "    parser.add_argument('--m', type=float, default=1.0)\n",
    "    parser.add_argument('--b', type=float, default=0.0)\n",
    "    parser.add_argument('--s', type=str, default='u')\n",
    "    parser.add_argument('--F', type=str, default='0')\n",
    "    parser.add_argument('--dt', type=float, default=0.05)\n",
    "    parser.add_argument('--T', type=float, default=10)\n",
    "    parser.add_argument('--window_width', type=float, default=30.,\n",
    "                        help='Number of periods in a window')\n",
    "    parser.add_argument('--damping', type=str, default='linear')\n",
    "    parser.add_argument('--savefig', action='store_true')\n",
    "    # Hack to allow --SCITOOLS options\n",
    "    # (scitools.std reads this argument at import)\n",
    "    parser.add_argument('--SCITOOLS_easyviz_backend',\n",
    "                        default='matplotlib')\n",
    "    a = parser.parse_args()\n",
    "    from scitools.std import StringFunction\n",
    "    s = StringFunction(a.s, independent_variable='u')\n",
    "    F = StringFunction(a.F, independent_variable='t')\n",
    "    I, V, m, b, dt, T, window_width, savefig, damping = \\\n",
    "       a.I, a.V, a.m, a.b, a.dt, a.T, a.window_width, a.savefig, \\\n",
    "       a.damping\n",
    "\n",
    "    filename = 'vibration_sim.dat'\n",
    "    u_min, u_max = solve_and_store(filename, I, V, m, b, s,\n",
    "                                   F, dt, T, damping)\n",
    "\n",
    "    read_and_plot(filename, u_min, u_max)\n",
    "\n",
    "def read_and_plot(filename, u_min, u_max):\n",
    "    \"\"\"\n",
    "    Read file and plot u vs t line by line in a\n",
    "    terminal window (only using ascii characters).\n",
    "    \"\"\"\n",
    "    from scitools.avplotter import Plotter\n",
    "    import time\n",
    "    umin = 1.2*u_min;  umax = 1.2*u_max\n",
    "    p = Plotter(ymin=umin, ymax=umax, width=60, symbols='+o')\n",
    "    fps = 10\n",
    "    infile = open(filename, 'r')\n",
    "\n",
    "    # read and treat one line at a time\n",
    "    infile.readline()   # skip header line\n",
    "    for line in infile:\n",
    "        time_and_pos = line.split()  # gives list with 2 elements\n",
    "        t = float(time_and_pos[0])\n",
    "        u = float(time_and_pos[1])\n",
    "        #print 'time: %g   position: %g' % (time, pos)\n",
    "        print p.plot(t, u), '%.2f' % (t)\n",
    "        time.sleep(1/float(fps))\n",
    "\n",
    "if __name__ == '__main__':\n",
    "    main()"
   ]
  },
  {
   "cell_type": "markdown",
   "metadata": {},
   "source": [
    "<!-- --- end solution of exercise --- -->\n",
    "Filename: `vib_memsave`.\n",
    "\n",
    "<!-- --- end exercise --- -->\n",
    "\n",
    "\n",
    "\n",
    "\n",
    "<!-- --- begin exercise --- -->\n",
    "\n",
    "## Exercise 16: Implement the Euler-Cromer scheme for the generalized model\n",
    "<div id=\"vib:exer:EC_vs_centered\"></div>\n",
    "\n",
    "We consider the generalized model problem"
   ]
  },
  {
   "cell_type": "markdown",
   "metadata": {},
   "source": [
    "$$\n",
    "mu'' + f(u') + s(u) = F(t),\\quad u(0)=I,\\ u'(0)=V\\thinspace .\n",
    "$$"
   ]
  },
  {
   "cell_type": "markdown",
   "metadata": {},
   "source": [
    "**a)**\n",
    "Implement the Euler-Cromer method from the section [vib:ode2:EulerCromer](#vib:ode2:EulerCromer).\n",
    "\n",
    "\n",
    "<!-- --- begin solution of exercise --- -->\n",
    "**Solution.**\n",
    "A suitable function is"
   ]
  },
  {
   "cell_type": "code",
   "execution_count": null,
   "metadata": {},
   "outputs": [],
   "source": [
    "# NBVAL_SKIP\n",
    "import numpy as np\n",
    "from math import pi\n",
    "\n",
    "def solver(I, V, m, b, s, F, dt, T, damping='linear'):\n",
    "    \"\"\"\n",
    "    Solve m*u'' + f(u') + s(u) = F(t) for t in (0,T], u(0)=I,\n",
    "    u'(0)=V by an Euler-Cromer method.\n",
    "    \"\"\"\n",
    "    f = lambda v: b*v if damping == 'linear' else b*abs(v)*v\n",
    "    dt = float(dt)\n",
    "    Nt = int(round(T/dt))\n",
    "    u = np.zeros(Nt+1)\n",
    "    v = np.zeros(Nt+1)\n",
    "    t = np.linspace(0, Nt*dt, Nt+1)\n",
    "\n",
    "    v[0] = V\n",
    "    u[0] = I\n",
    "    for n in range(0, Nt):\n",
    "        v[n+1] = v[n] + dt*(1./m)*(F(t[n]) - s(u[n]) - f(v[n]))\n",
    "        u[n+1] = u[n] + dt*v[n+1]\n",
    "        #print 'F=%g, s=%g, f=%g, v_prev=%g' % (F(t[n]), s(u[n]), f(v[n]), v[n])\n",
    "        #print 'v[%d]=%g u[%d]=%g' % (n+1,v[n+1],n+1,u[n+1])\n",
    "    return u, v, t"
   ]
  },
  {
   "cell_type": "markdown",
   "metadata": {},
   "source": [
    "<!-- --- end solution of exercise --- -->\n",
    "\n",
    "**b)**\n",
    "We expect the Euler-Cromer method to have first-order convergence rate.\n",
    "Make a unit test based on this expectation.\n",
    "\n",
    "\n",
    "<!-- --- begin solution of exercise --- -->\n",
    "**Solution.**\n",
    "We may use SymPy to derive a problem based on a manufactured solution\n",
    "$u=3\\cos t$. Then we may run some $\\Delta t$ values, compute the error\n",
    "divided by $\\Delta t$, and check that this ratio remains approximately\n",
    "constant. (An alternative is to compute true convergence rates and check\n",
    "that they are close to unity.)"
   ]
  },
  {
   "cell_type": "code",
   "execution_count": null,
   "metadata": {},
   "outputs": [],
   "source": [
    "# NBVAL_SKIP\n",
    "def test_solver():\n",
    "    \"\"\"Check 1st order convergence rate.\"\"\"\n",
    "    m = 4; b = 0.1\n",
    "    s = lambda u: 2*u\n",
    "    f = lambda v: b*v\n",
    "\n",
    "    import sympy as sym\n",
    "    def ode(u):\n",
    "        \"\"\"Return source F(t) in ODE for given manufactured u.\"\"\"\n",
    "        print 'ode:', m*sym.diff(u, t, 2), f(sym.diff(u,t)), s(u)\n",
    "        return m*sym.diff(u, t, 2) + f(sym.diff(u,t)) + s(u)\n",
    "\n",
    "    t = sym.symbols('t')\n",
    "    u = 3*sym.cos(t)\n",
    "    F = ode(u)\n",
    "    F = sym.simplify(F)\n",
    "    print 'F:', F, 'u:', u\n",
    "    F = sym.lambdify([t], F, modules='numpy')\n",
    "    u_exact = sym.lambdify([t], u, modules='numpy')\n",
    "    I = u_exact(0)\n",
    "    V = sym.diff(u, t).subs(t, 0)\n",
    "    print 'V:', V, 'I:', I\n",
    "\n",
    "    # Numerical parameters\n",
    "    w = np.sqrt(0.5)\n",
    "    P = 2*pi/w\n",
    "    dt_values = [P/20, P/40, P/80, P/160, P/320]\n",
    "    T = 8*P\n",
    "    error_vs_dt = []\n",
    "    for n, dt in enumerate(dt_values):\n",
    "        u, v, t = solver(I, V, m, b, s, F, dt, T, damping='linear')\n",
    "        error = np.abs(u - u_exact(t)).max()\n",
    "        if n > 0:\n",
    "            error_vs_dt.append(error/dt)\n",
    "    for i in range(len(error_vs_dt)):\n",
    "        assert abs(error_vs_dt[i]-\n",
    "                   error_vs_dt[0]) < 0.1"
   ]
  },
  {
   "cell_type": "markdown",
   "metadata": {},
   "source": [
    "<!-- --- end solution of exercise --- -->\n",
    "\n",
    "**c)**\n",
    "Consider a system with $m=4$, $f(v)=b|v|v$, $b=0.2$, $s=2u$, $F=0$.\n",
    "Compute the solution using the centered difference scheme\n",
    "from the section [vib:ode2:fdm:flin](#vib:ode2:fdm:flin) and the Euler-Cromer scheme\n",
    "for the longest possible time step $\\Delta t$. We can use the\n",
    "result from the case without damping, i.e., the largest $\\Delta t= 2/\\omega$,\n",
    "$\\omega\\approx\n",
    "\\sqrt{0.5}$ in this case, but since $b$ will modify the frequency, we\n",
    "take the longest possible time step as a safety factor 0.9 times $2/\\omega$.\n",
    "Refine $\\Delta t$ three times by a factor of two and compare the\n",
    "two curves.\n",
    "\n",
    "\n",
    "<!-- --- begin solution of exercise --- -->\n",
    "**Solution.**\n",
    "We rely on the module `vib` for the implementation of the method\n",
    "from the section [vib:ode2:fdm:flin](#vib:ode2:fdm:flin). A suitable function for making\n",
    "the comparisons is then"
   ]
  },
  {
   "cell_type": "code",
   "execution_count": null,
   "metadata": {},
   "outputs": [],
   "source": [
    "# NBVAL_SKIP\n",
    "def demo():\n",
    "    \"\"\"\n",
    "    Demonstrate difference between Euler-Cromer and the\n",
    "    scheme for the corresponding 2nd-order ODE.\n",
    "    \"\"\"\n",
    "    I = 1.2; V = 0.2; m = 4; b = 0.2\n",
    "    s = lambda u: 2*u\n",
    "    F = lambda t: 0\n",
    "    w = np.sqrt(2./4)   # approx freq\n",
    "    dt = 0.9*2/w  # longest possible time step\n",
    "    w = 0.5\n",
    "    P = 2*pi/w\n",
    "    T = 4*P\n",
    "    from vib import solver as solver2\n",
    "    import scitools.std as plt\n",
    "    for k in range(4):\n",
    "        u2, t2 = solver2(I, V, m, b, s, F, dt, T, 'quadratic')\n",
    "        u, v, t = solver(I, V, m, b, s, F, dt, T, 'quadratic')\n",
    "        plt.figure()\n",
    "        plt.plot(t, u, 'r-', t2, u2, 'b-')\n",
    "        plt.legend(['Euler-Cromer', 'centered scheme'])\n",
    "        plt.title('dt=%.3g' % dt)\n",
    "        raw_input()\n",
    "        plt.savefig('tmp_%d' % k + '.png')\n",
    "        plt.savefig('tmp_%d' % k + '.pdf')\n",
    "        dt /= 2"
   ]
  },
  {
   "cell_type": "markdown",
   "metadata": {},
   "source": [
    "<!-- --- end solution of exercise --- -->\n",
    "\n",
    "\n",
    "Filename: `vib_EulerCromer`.\n",
    "\n",
    "<!-- --- end exercise --- -->\n",
    "\n",
    "\n",
    "\n",
    "\n",
    "<!-- --- begin exercise --- -->\n",
    "\n",
    "## Problem 17: Interpret $[D_tD_t u]^n$ as a forward-backward difference\n",
    "<div id=\"vib:exer:DtDt:asDthinspace .Dtm\"></div>\n",
    "\n",
    "Show that the difference $[D_t D_tu]^n$ is equal to $[D_t^+D_t^-u]^n$\n",
    "and $D_t^-D_t^+u]^n$. That is, instead of applying a centered difference\n",
    "twice one can alternatively apply a mixture of forward and backward\n",
    "differences.\n",
    "\n",
    "\n",
    "<!-- --- begin solution of exercise --- -->\n",
    "**Solution.**"
   ]
  },
  {
   "cell_type": "markdown",
   "metadata": {},
   "source": [
    "$$\n",
    "[D_t^+D_t^-u]^n = [D_t^+\\left(\\frac{u^n - u^{n-1}}{\\Delta t}\\right)]^n \\nonumber\n",
    "$$"
   ]
  },
  {
   "cell_type": "markdown",
   "metadata": {},
   "source": [
    "$$\n",
    "= [\\left(\\frac{u^{n+1} - u^n}{\\Delta t}\\right) - \\left(\\frac{u^n - u^{n-1}}{\\Delta t}\\right)]^n  \\nonumber\n",
    "$$"
   ]
  },
  {
   "cell_type": "markdown",
   "metadata": {},
   "source": [
    "$$\n",
    "= \\frac{u^{n+1}-2u^n+u^{n-1}}{\\Delta t^2} \\nonumber\n",
    "$$"
   ]
  },
  {
   "cell_type": "markdown",
   "metadata": {},
   "source": [
    "$$\n",
    "= [D_t D_tu]^n. \\nonumber\n",
    "$$"
   ]
  },
  {
   "cell_type": "markdown",
   "metadata": {},
   "source": [
    "Similarly, we get that"
   ]
  },
  {
   "cell_type": "markdown",
   "metadata": {},
   "source": [
    "$$\n",
    "[D_t^-D_t^+u]^n = [D_t^-\\left(\\frac{u^{n+1} - u^n}{\\Delta t}\\right)]^n \\nonumber\n",
    "$$"
   ]
  },
  {
   "cell_type": "markdown",
   "metadata": {},
   "source": [
    "$$\n",
    "= [\\left(\\frac{u^{n+1} - u^n}{\\Delta t}\\right) - \\left(\\frac{u^n - u^{n-1}}{\\Delta t}\\right)]^n  \\nonumber\n",
    "$$"
   ]
  },
  {
   "cell_type": "markdown",
   "metadata": {},
   "source": [
    "$$\n",
    "= \\frac{u^{n+1}-2u^n+u^{n-1}}{\\Delta t^2} \\nonumber\n",
    "$$"
   ]
  },
  {
   "cell_type": "markdown",
   "metadata": {},
   "source": [
    "$$\n",
    "= [D_t D_tu]^n. \\nonumber\n",
    "$$"
   ]
  },
  {
   "cell_type": "markdown",
   "metadata": {},
   "source": [
    "<!-- --- end solution of exercise --- -->\n",
    "Filename: `vib_DtDt_fw_bw`.\n",
    "\n",
    "<!-- --- end exercise --- -->\n",
    "\n",
    "\n",
    "\n",
    "\n",
    "<!-- --- begin exercise --- -->\n",
    "\n",
    "## Exercise 18: Analysis of the Euler-Cromer scheme\n",
    "<div id=\"vib:exer:EulerCromer:analysis\"></div>\n",
    "\n",
    "The Euler-Cromer scheme for the model problem\n",
    "$u^{\\prime\\prime} + \\omega^2 u =0$, $u(0)=I$, $u^{\\prime}(0)=0$, is given in\n",
    "([55](#vib:model2x2:EulerCromer:ueq1b))-([54](#vib:model2x2:EulerCromer:veq1b)).\n",
    "Find the exact discrete solutions of this scheme and show that the solution\n",
    "for $u^n$ coincides with that found in the section [Analysis of the numerical scheme](#vib:ode1:analysis).\n",
    "\n",
    "<!-- --- begin hint in exercise --- -->\n",
    "\n",
    "**Hint.**\n",
    "Use an \"ansatz\" $u^n=I\\exp{(i\\tilde\\omega\\Delta t\\,n)}$ and\n",
    "$v^n=qu^n$, where $\\tilde\\omega$ and $q$ are unknown parameters. The\n",
    "following formula is handy:"
   ]
  },
  {
   "cell_type": "markdown",
   "metadata": {},
   "source": [
    "$$\n",
    "\\e^{i\\tilde\\omega\\Delta t} + e^{i\\tilde\\omega(-\\Delta t)} - 2\n",
    "= 2\\left(\\cosh(i\\tilde\\omega\\Delta t) -1 \\right)\n",
    "=-4\\sin^2(\\frac{\\tilde\\omega\\Delta t}{2})\\thinspace .\n",
    "$$"
   ]
  },
  {
   "cell_type": "markdown",
   "metadata": {},
   "source": [
    "<!-- --- end hint in exercise --- -->\n",
    "\n",
    "\n",
    "<!-- --- begin solution of exercise --- -->\n",
    "**Solution.**\n",
    "We follow the ideas in the section [Analysis of the numerical scheme](#vib:ode1:analysis). Inserting\n",
    "$u^n=I\\exp{(i\\tilde\\omega\\Delta t\\,n)}$ and\n",
    "$v^n=qu^n$ in\n",
    "([55](#vib:model2x2:EulerCromer:ueq1b))-([54](#vib:model2x2:EulerCromer:veq1b))\n",
    "and dividing by $I\\exp{(i\\tilde\\omega\\Delta t\\,n)}$ gives"
   ]
  },
  {
   "cell_type": "markdown",
   "metadata": {},
   "source": [
    "<!-- Equation labels as ordinary links -->\n",
    "<div id=\"vib:exer:EulerCromer:analysis:equ\"></div>\n",
    "\n",
    "$$\n",
    "\\begin{equation}\n",
    "q\\exp{(i\\tilde\\omega\\Delta t)} = q - \\omega^2 \\Delta t,\n",
    "\\label{vib:exer:EulerCromer:analysis:equ} \\tag{73} \n",
    "\\end{equation}\n",
    "$$"
   ]
  },
  {
   "cell_type": "markdown",
   "metadata": {},
   "source": [
    "<!-- Equation labels as ordinary links -->\n",
    "<div id=\"vib:exer:EulerCromer:analysis:eqv\"></div>\n",
    "\n",
    "$$\n",
    "\\begin{equation}  \n",
    "\\exp{(i\\tilde\\omega\\Delta t)} = 1 + \\Delta t\\, q\\exp{(i\\tilde\\omega\\Delta t)}\n",
    "\\label{vib:exer:EulerCromer:analysis:eqv} \\tag{74}\\thinspace .\n",
    "\\end{equation}\n",
    "$$"
   ]
  },
  {
   "cell_type": "markdown",
   "metadata": {},
   "source": [
    "Solving ([74](#vib:exer:EulerCromer:analysis:eqv)) with respect to $q$ gives"
   ]
  },
  {
   "cell_type": "markdown",
   "metadata": {},
   "source": [
    "$$\n",
    "q = \\frac{1}{\\Delta t}\\left( 1 - \\exp{(i\\tilde\\omega\\Delta t)} \\right)\\thinspace .\n",
    "$$"
   ]
  },
  {
   "cell_type": "markdown",
   "metadata": {},
   "source": [
    "Inserting this expression for $q$ in ([73](#vib:exer:EulerCromer:analysis:equ))\n",
    "results in"
   ]
  },
  {
   "cell_type": "markdown",
   "metadata": {},
   "source": [
    "$$\n",
    "\\exp{(i\\tilde\\omega\\Delta t)} + \\exp{(-i\\tilde\\omega\\Delta t)} -2\n",
    "= - \\omega^2\\Delta t^2\\thinspace .\n",
    "$$"
   ]
  },
  {
   "cell_type": "markdown",
   "metadata": {},
   "source": [
    "Using the relation\n",
    "$\\exp{(i\\tilde\\omega(\\Delta t))} + \\exp{(i\\tilde\\omega(-\\Delta t))} - 2\n",
    "= -4\\sin^2(\\frac{\\tilde\\omega\\Delta t}{2})$ gives"
   ]
  },
  {
   "cell_type": "markdown",
   "metadata": {},
   "source": [
    "$$\n",
    "-4\\sin^2(\\frac{\\tilde\\omega\\Delta t}{2}) = - \\omega^2\\Delta t^2,\n",
    "$$"
   ]
  },
  {
   "cell_type": "markdown",
   "metadata": {},
   "source": [
    "or after dividing by 4,"
   ]
  },
  {
   "cell_type": "markdown",
   "metadata": {},
   "source": [
    "$$\n",
    "\\sin^2(\\frac{\\tilde\\omega\\Delta t}{2}) = \\left(\\frac{1}{2}\\omega\\Delta t\\right)^2,\n",
    "$$"
   ]
  },
  {
   "cell_type": "markdown",
   "metadata": {},
   "source": [
    "which is the same equation for $\\tilde\\omega$ as found in\n",
    "the section [Analysis of the numerical scheme](#vib:ode1:analysis), such that $\\tilde\\omega$ is the\n",
    "same. The accuracy, stability, and formula for the exact discrete solution\n",
    "are then all the same as derived in the section [Analysis of the numerical scheme](#vib:ode1:analysis).\n",
    "<!-- This proves that the solution of the Euler-Cromer scheme -->\n",
    "<!-- coincides -->\n",
    "\n",
    "<!-- --- end solution of exercise --- -->\n",
    "\n",
    "<!-- --- end exercise --- -->"
   ]
  }
 ],
 "metadata": {
  "kernelspec": {
   "display_name": "Python 3",
   "language": "python",
   "name": "python3"
  },
  "language_info": {
   "codemirror_mode": {
    "name": "ipython",
    "version": 3
   },
   "file_extension": ".py",
   "mimetype": "text/x-python",
   "name": "python",
   "nbconvert_exporter": "python",
   "pygments_lexer": "ipython3",
   "version": "3.8.2"
  }
 },
 "nbformat": 4,
 "nbformat_minor": 4
}
