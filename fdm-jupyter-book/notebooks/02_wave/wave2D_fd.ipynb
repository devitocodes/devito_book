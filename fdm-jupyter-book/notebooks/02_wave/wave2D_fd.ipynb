{
 "cells": [
  {
   "cell_type": "markdown",
   "metadata": {},
   "source": [
    "# Finite difference methods for 2D and 3D wave equations\n",
    "<div id=\"wave:2D3D\"></div>\n",
    "\n",
    "A natural next step is to consider extensions of the methods for\n",
    "various\n",
    "variants of the one-dimensional wave equation to two-dimensional (2D) and\n",
    "three-dimensional (3D) versions of the wave equation.\n",
    "\n",
    "## Multi-dimensional wave equations\n",
    "<div id=\"wave:2D3D:models\"></div>\n",
    "\n",
    "The general wave equation in $d$ space dimensions, with constant\n",
    "wave velocity $c$,\n",
    "can be written in the compact form"
   ]
  },
  {
   "cell_type": "markdown",
   "metadata": {},
   "source": [
    "<!-- Equation labels as ordinary links -->\n",
    "<div id=\"wave:2D3D:model1\"></div>\n",
    "\n",
    "$$\n",
    "\\begin{equation}\n",
    "\\frac{\\partial^2 u}{\\partial t^2} = c^2\\nabla^2 u\\hbox{ for } \\textbf{x}\\in\\Omega\\subset\\mathbb{R}^d,\\ t\\in (0,T] ,\n",
    "\\label{wave:2D3D:model1} \\tag{1}\n",
    "\\end{equation}\n",
    "$$"
   ]
  },
  {
   "cell_type": "markdown",
   "metadata": {},
   "source": [
    "where"
   ]
  },
  {
   "cell_type": "markdown",
   "metadata": {},
   "source": [
    "$$\n",
    "\\nabla^2 u = \\frac{\\partial^2 u}{\\partial x^2} +\n",
    "\\frac{\\partial^2 u}{\\partial y^2} ,\n",
    "$$"
   ]
  },
  {
   "cell_type": "markdown",
   "metadata": {},
   "source": [
    "in a 2D problem ($d=2$) and"
   ]
  },
  {
   "cell_type": "markdown",
   "metadata": {},
   "source": [
    "$$\n",
    "\\nabla^2 u = \\frac{\\partial^2 u}{\\partial x^2} +\n",
    "\\frac{\\partial^2 u}{\\partial y^2} + \\frac{\\partial^2 u}{\\partial z^2},\n",
    "$$"
   ]
  },
  {
   "cell_type": "markdown",
   "metadata": {},
   "source": [
    "in three space dimensions ($d=3$).\n",
    "\n",
    "Many applications involve variable coefficients, and the general\n",
    "wave equation in $d$ dimensions is in this case written as"
   ]
  },
  {
   "cell_type": "markdown",
   "metadata": {},
   "source": [
    "<!-- Equation labels as ordinary links -->\n",
    "<div id=\"wave:2D3D:model2\"></div>\n",
    "\n",
    "$$\n",
    "\\begin{equation}\n",
    "\\varrho\\frac{\\partial^2 u}{\\partial t^2} = \\nabla\\cdot (q\\nabla u) + f\\hbox{ for } \\textbf{x} \\in\\Omega\\subset\\mathbb{R}^d,\\ t\\in (0,T],\n",
    "\\label{wave:2D3D:model2} \\tag{2}\n",
    "\\end{equation}\n",
    "$$"
   ]
  },
  {
   "cell_type": "markdown",
   "metadata": {},
   "source": [
    "which in, e.g.,  2D becomes"
   ]
  },
  {
   "cell_type": "markdown",
   "metadata": {},
   "source": [
    "<!-- Equation labels as ordinary links -->\n",
    "<div id=\"_auto1\"></div>\n",
    "\n",
    "$$\n",
    "\\begin{equation}\n",
    "\\varrho(x,y)\n",
    "\\frac{\\partial^2 u}{\\partial t^2} =\n",
    "\\frac{\\partial}{\\partial x}\\left( q(x,y)\n",
    "\\frac{\\partial u}{\\partial x}\\right)\n",
    "+\n",
    "\\frac{\\partial}{\\partial y}\\left( q(x,y)\n",
    "\\frac{\\partial u}{\\partial y}\\right)\n",
    "+ f(x,y,t)\n",
    "\\thinspace .\n",
    "\\label{_auto1} \\tag{3}\n",
    "\\end{equation}\n",
    "$$"
   ]
  },
  {
   "cell_type": "markdown",
   "metadata": {},
   "source": [
    "To save some writing and space we may use the index notation, where\n",
    "subscript $t$, $x$, or $y$ means differentiation with respect\n",
    "to that coordinate. For example,"
   ]
  },
  {
   "cell_type": "markdown",
   "metadata": {},
   "source": [
    "$$\n",
    "\\begin{align*}\n",
    "\\frac{\\partial^2 u}{\\partial t^2} &= u_{tt},\\\\\n",
    "\\frac{\\partial}{\\partial y}\\left( q(x,y)\n",
    "\\frac{\\partial u}{\\partial y}\\right) &= (q u_y)_y\n",
    "\\thinspace .\n",
    "\\end{align*}\n",
    "$$"
   ]
  },
  {
   "cell_type": "markdown",
   "metadata": {},
   "source": [
    "These comments extend straightforwardly to 3D, which means that\n",
    "the 3D versions of the\n",
    "two wave PDEs, with and without variable coefficients,\n",
    "can be stated as"
   ]
  },
  {
   "cell_type": "markdown",
   "metadata": {},
   "source": [
    "<!-- Equation labels as ordinary links -->\n",
    "<div id=\"wave:2D3D:model1:v2\"></div>\n",
    "\n",
    "$$\n",
    "\\begin{equation}\n",
    "u_{tt} = c^2(u_{xx} + u_{yy} + u_{zz}) + f,\n",
    "\\label{wave:2D3D:model1:v2} \\tag{4}\n",
    "\\end{equation}\n",
    "$$"
   ]
  },
  {
   "cell_type": "markdown",
   "metadata": {},
   "source": [
    "<!-- Equation labels as ordinary links -->\n",
    "<div id=\"wave:2D3D:model2:v2\"></div>\n",
    "\n",
    "$$\n",
    "\\begin{equation} \n",
    "\\varrho u_{tt} = (q u_x)_x + (q u_y)_y + (q u_z)_z + f\\thinspace .\n",
    "\\label{wave:2D3D:model2:v2} \\tag{5}\n",
    "\\end{equation}\n",
    "$$"
   ]
  },
  {
   "cell_type": "markdown",
   "metadata": {},
   "source": [
    "At *each point* of the boundary $\\partial\\Omega$ (of $\\Omega$) we need\n",
    "*one* boundary condition involving the unknown $u$.\n",
    "The boundary conditions are of three principal types:\n",
    "\n",
    "1. $u$ is prescribed ($u=0$ or a known time variation of $u$ at\n",
    "    the boundary points, e.g.,\n",
    "    modeling an incoming wave),\n",
    "\n",
    "2. $\\partial u/\\partial n = \\boldsymbol{n}\\cdot\\nabla u$ is prescribed\n",
    "    (zero for reflecting boundaries),\n",
    "\n",
    "3. an open boundary condition (also called radiation condition)\n",
    "    is specified to let waves travel undisturbed out of the domain,\n",
    "    see [wave:app:exer:radiationBC](#wave:app:exer:radiationBC) for details.\n",
    "\n",
    "All the listed wave equations with *second-order* derivatives in\n",
    "time need *two* initial conditions:\n",
    "\n",
    "1. $u=I$,\n",
    "\n",
    "2. $u_t = V$.\n",
    "\n",
    "## Mesh\n",
    "<div id=\"wave:2D3D:mesh\"></div>\n",
    "\n",
    "We introduce a mesh in time and in space. The mesh in time consists\n",
    "of time points"
   ]
  },
  {
   "cell_type": "markdown",
   "metadata": {},
   "source": [
    "$$\n",
    "t_0=0 < t_1 < \\cdots < t_{N_t},\n",
    "$$"
   ]
  },
  {
   "cell_type": "markdown",
   "metadata": {},
   "source": [
    "normally, for wave equation problems, with a constant spacing $\\Delta\n",
    "t= t_{n+1}-t_{n}$, $n\\in\\setl{\\mathcal{I}_t}$.\n",
    "\n",
    "Finite difference methods are easy to implement on simple rectangle-\n",
    "or box-shaped *spatial domains*. More complicated shapes of the\n",
    "spatial domain require substantially more advanced techniques and\n",
    "implementational efforts (and a finite element method is usually a more\n",
    "convenient approach). On a rectangle- or box-shaped domain, mesh\n",
    "points are introduced separately in the various space directions:"
   ]
  },
  {
   "cell_type": "markdown",
   "metadata": {},
   "source": [
    "$$\n",
    "\\begin{align*}\n",
    "&x_0 < x_1 < \\cdots < x_{N_x}  \\hbox{ in the }x \\hbox{ direction},\\\\\n",
    "&y_0 < y_1 < \\cdots < y_{N_y}  \\hbox{ in the }y \\hbox{ direction},\\\\\n",
    "&z_0 < z_1 < \\cdots < z_{N_z}  \\hbox{ in the }z \\hbox{ direction}\\thinspace .\n",
    "\\end{align*}\n",
    "$$"
   ]
  },
  {
   "cell_type": "markdown",
   "metadata": {},
   "source": [
    "We can write a general mesh point as $(x_i,y_j,z_k,t_n)$, with\n",
    "$i\\in\\mathcal{I}_x$, $j\\in\\Iy$, $k\\in\\Iz$, and $n\\in\\mathcal{I}_t$.\n",
    "\n",
    "It is a very common choice to use constant mesh spacings:\n",
    "$\\Delta x = x_{i+1}-x_{i}$, $i\\in\\setl{\\mathcal{I}_x}$,\n",
    "$\\Delta y = y_{j+1}-y_{j}$, $j\\in\\setl{\\Iy}$, and\n",
    "$\\Delta z = z_{k+1}-z_{k}$, $k\\in\\setl{\\Iz}$.\n",
    "With equal mesh spacings one often introduces\n",
    "$h = \\Delta x = \\Delta y =\\Delta z$.\n",
    "\n",
    "The unknown $u$ at mesh point $(x_i,y_j,z_k,t_n)$ is denoted by\n",
    "$u^{n}_{i,j,k}$. In 2D problems we just skip the $z$ coordinate\n",
    "(by assuming no variation in that direction: $\\partial/\\partial z=0$)\n",
    "and write $u^n_{i,j}$.\n",
    "\n",
    "\n",
    "## Discretization\n",
    "<div id=\"wave:2D3D:discretization\"></div>\n",
    "\n",
    "Two- and three-dimensional wave equations are easily discretized by\n",
    "assembling building blocks for discretization of\n",
    "1D wave equations, because the multi-dimensional versions just contain\n",
    "terms of the same type as those in 1D.\n",
    "\n",
    "### Discretizing the PDEs\n",
    "\n",
    "Equation ([4](#wave:2D3D:model1:v2)) can be discretized as"
   ]
  },
  {
   "cell_type": "markdown",
   "metadata": {},
   "source": [
    "<!-- Equation labels as ordinary links -->\n",
    "<div id=\"_auto2\"></div>\n",
    "\n",
    "$$\n",
    "\\begin{equation}\n",
    "[D_tD_t u = c^2(D_xD_x u + D_yD_yu + D_zD_z u) + f]^n_{i,j,k}\n",
    "\\thinspace .\n",
    "\\label{_auto2} \\tag{6}\n",
    "\\end{equation}\n",
    "$$"
   ]
  },
  {
   "cell_type": "markdown",
   "metadata": {},
   "source": [
    "A 2D version might be instructive to write out in detail:"
   ]
  },
  {
   "cell_type": "markdown",
   "metadata": {},
   "source": [
    "$$\n",
    "[D_tD_t u = c^2(D_xD_x u + D_yD_yu) + f]^n_{i,j},\n",
    "$$"
   ]
  },
  {
   "cell_type": "markdown",
   "metadata": {},
   "source": [
    "which becomes"
   ]
  },
  {
   "cell_type": "markdown",
   "metadata": {},
   "source": [
    "$$\n",
    "\\frac{u^{n+1}_{i,j} - 2u^{n}_{i,j} + u^{n-1}_{i,j}}{\\Delta t^2}\n",
    "= c^2\n",
    "\\frac{u^{n}_{i+1,j} - 2u^{n}_{i,j} + u^{n}_{i-1,j}}{\\Delta x^2}\n",
    "+ c^2\n",
    "\\frac{u^{n}_{i,j+1} - 2u^{n}_{i,j} + u^{n}_{i,j-1}}{\\Delta y^2}\n",
    "+ f^n_{i,j},\n",
    "$$"
   ]
  },
  {
   "cell_type": "markdown",
   "metadata": {},
   "source": [
    "Assuming, as usual, that all values at time levels $n$ and $n-1$\n",
    "are known, we can solve for the only unknown $u^{n+1}_{i,j}$. The\n",
    "result can be compactly written as"
   ]
  },
  {
   "cell_type": "markdown",
   "metadata": {},
   "source": [
    "<!-- Equation labels as ordinary links -->\n",
    "<div id=\"wave:2D3D:models:unp1\"></div>\n",
    "\n",
    "$$\n",
    "\\begin{equation}\n",
    "u^{n+1}_{i,j} = 2u^n_{i,j} + u^{n-1}_{i,j} + c^2\\Delta t^2[D_xD_x u + D_yD_y u]^n_{i,j}\\thinspace .\n",
    "\\label{wave:2D3D:models:unp1} \\tag{7}\n",
    "\\end{equation}\n",
    "$$"
   ]
  },
  {
   "cell_type": "markdown",
   "metadata": {},
   "source": [
    "As in the 1D case, we need to develop a special formula for $u^1_{i,j}$\n",
    "where we combine the general scheme for $u^{n+1}_{i,j}$, when $n=0$,\n",
    "with the discretization of the initial condition:"
   ]
  },
  {
   "cell_type": "markdown",
   "metadata": {},
   "source": [
    "$$\n",
    "[D_{2t}u = V]^0_{i,j}\\quad\\Rightarrow\\quad u^{-1}_{i,j} = u^1_{i,j} - 2\\Delta t V_{i,j}\n",
    "\\thinspace .\n",
    "$$"
   ]
  },
  {
   "cell_type": "markdown",
   "metadata": {},
   "source": [
    "The result becomes, in compact form,"
   ]
  },
  {
   "cell_type": "markdown",
   "metadata": {},
   "source": [
    "<!-- Equation labels as ordinary links -->\n",
    "<div id=\"wave:2D3D:models:u1\"></div>\n",
    "\n",
    "$$\n",
    "\\begin{equation}\n",
    "u^{1}_{i,j} = u^0_{i,j} -2\\Delta V_{i,j} + {\\frac{1}{2}}\n",
    "c^2\\Delta t^2[D_xD_x u + D_yD_y u]^0_{i,j}\\thinspace .\n",
    "\\label{wave:2D3D:models:u1} \\tag{8}\n",
    "\\end{equation}\n",
    "$$"
   ]
  },
  {
   "cell_type": "markdown",
   "metadata": {},
   "source": [
    "The PDE ([5](#wave:2D3D:model2:v2))\n",
    "with variable coefficients is discretized term by term using\n",
    "the corresponding elements from the 1D case:"
   ]
  },
  {
   "cell_type": "markdown",
   "metadata": {},
   "source": [
    "<!-- Equation labels as ordinary links -->\n",
    "<div id=\"_auto3\"></div>\n",
    "\n",
    "$$\n",
    "\\begin{equation}\n",
    "[\\varrho D_tD_t u = (D_x\\overline{q}^x D_x u +\n",
    "D_y\\overline{q}^y D_yu + D_z\\overline{q}^z D_z u) + f]^n_{i,j,k}\n",
    "\\thinspace .\n",
    "\\label{_auto3} \\tag{9}\n",
    "\\end{equation}\n",
    "$$"
   ]
  },
  {
   "cell_type": "markdown",
   "metadata": {},
   "source": [
    "When written out and solved for the unknown $u^{n+1}_{i,j,k}$, one gets the\n",
    "scheme"
   ]
  },
  {
   "cell_type": "markdown",
   "metadata": {},
   "source": [
    "$$\n",
    "\\begin{align*}\n",
    "u^{n+1}_{i,j,k} &= - u^{n-1}_{i,j,k}  + 2u^{n}_{i,j,k} + \\\\\n",
    "&\\quad \\frac{1}{\\varrho_{i,j,k}}\\frac{1}{\\Delta x^2} ( \\frac{1}{2}(q_{i,j,k} + q_{i+1,j,k})(u^{n}_{i+1,j,k} - u^{n}_{i,j,k}) - \\\\\n",
    "&\\qquad\\qquad \\frac{1}{2}(q_{i-1,j,k} + q_{i,j,k})(u^{n}_{i,j,k} - u^{n}_{i-1,j,k})) + \\\\\n",
    "&\\quad \\frac{1}{\\varrho_{i,j,k}}\\frac{1}{\\Delta y^2} ( \\frac{1}{2}(q_{i,j,k} + q_{i,j+1,k})(u^{n}_{i,j+1,k} - u^{n}_{i,j,k}) - \\\\\n",
    "&\\qquad\\qquad\\frac{1}{2}(q_{i,j-1,k} + q_{i,j,k})(u^{n}_{i,j,k} - u^{n}_{i,j-1,k})) + \\\\\n",
    "&\\quad \\frac{1}{\\varrho_{i,j,k}}\\frac{1}{\\Delta z^2} ( \\frac{1}{2}(q_{i,j,k} + q_{i,j,k+1})(u^{n}_{i,j,k+1} - u^{n}_{i,j,k}) -\\\\\n",
    "&\\qquad\\qquad \\frac{1}{2}(q_{i,j,k-1} + q_{i,j,k})(u^{n}_{i,j,k} - u^{n}_{i,j,k-1})) + \\\\\n",
    "&\\quad \\Delta t^2 f^n_{i,j,k}\n",
    "\\thinspace .\n",
    "\\end{align*}\n",
    "$$"
   ]
  },
  {
   "cell_type": "markdown",
   "metadata": {},
   "source": [
    "Also here we need to develop a special formula for $u^1_{i,j,k}$\n",
    "by combining the scheme for $n=0$ with the discrete initial condition,\n",
    "which is just a matter of inserting\n",
    "$u^{-1}_{i,j,k}=u^1_{i,j,k} - 2\\Delta tV_{i,j,k}$ in the scheme\n",
    "and solving for $u^1_{i,j,k}$.\n",
    "\n",
    "### Handling boundary conditions where $u$ is known\n",
    "\n",
    "The schemes listed above are valid for the internal points in the mesh.\n",
    "After updating these, we need to visit all the mesh points at the\n",
    "boundaries and set the prescribed $u$ value.\n",
    "\n",
    "### Discretizing the Neumann condition\n",
    "\n",
    "The condition $\\partial u/\\partial n = 0$ was implemented in 1D by\n",
    "discretizing it with a $D_{2x}u$ centered difference, followed by\n",
    "eliminating the fictitious $u$ point outside the mesh by using the\n",
    "general scheme at the boundary point. Alternatively, one can introduce\n",
    "ghost cells and update a ghost value for use in the Neumann\n",
    "condition. Exactly the same ideas are reused in multiple dimensions.\n",
    "\n",
    "Consider the condition  $\\partial u/\\partial n = 0$\n",
    "at a boundary $y=0$ of a rectangular domain $[0, L_x]\\times [0,L_y]$ in 2D.\n",
    "The normal direction is then in $-y$ direction,\n",
    "so"
   ]
  },
  {
   "cell_type": "markdown",
   "metadata": {},
   "source": [
    "$$\n",
    "\\frac{\\partial u}{\\partial n} = -\\frac{\\partial u}{\\partial y},\n",
    "$$"
   ]
  },
  {
   "cell_type": "markdown",
   "metadata": {},
   "source": [
    "and we set"
   ]
  },
  {
   "cell_type": "markdown",
   "metadata": {},
   "source": [
    "$$\n",
    "[-D_{2y} u = 0]^n_{i,0}\\quad\\Rightarrow\\quad \\frac{u^n_{i,1}-u^n_{i,-1}}{2\\Delta y} = 0\n",
    "\\thinspace .\n",
    "$$"
   ]
  },
  {
   "cell_type": "markdown",
   "metadata": {},
   "source": [
    "From this it follows that $u^n_{i,-1}=u^n_{i,1}$.\n",
    "The discretized PDE at the boundary point $(i,0)$ reads"
   ]
  },
  {
   "cell_type": "markdown",
   "metadata": {},
   "source": [
    "$$\n",
    "\\frac{u^{n+1}_{i,0} - 2u^{n}_{i,0} + u^{n-1}_{i,0}}{\\Delta t^2}\n",
    "= c^2\n",
    "\\frac{u^{n}_{i+1,0} - 2u^{n}_{i,0} + u^{n}_{i-1,0}}{\\Delta x^2}\n",
    "+ c^2\n",
    "\\frac{u^{n}_{i,1} - 2u^{n}_{i,0} + u^{n}_{i,-1}}{\\Delta y^2}\n",
    "+ f^n_{i,j},\n",
    "$$"
   ]
  },
  {
   "cell_type": "markdown",
   "metadata": {},
   "source": [
    "We can then just insert $u^n_{i,1}$ for $u^n_{i,-1}$ in this equation\n",
    "and solve for the boundary value $u^{n+1}_{i,0}$, just as was done in 1D.\n",
    "\n",
    "From these calculations, we see a pattern:\n",
    "the general scheme applies at the boundary $j=0$ too if we just\n",
    "replace $j-1$ by $j+1$. Such a pattern is particularly useful for\n",
    "implementations. The details follow from the explained 1D case\n",
    "in the section [wave:pde2:Neumann:impl](#wave:pde2:Neumann:impl).\n",
    "\n",
    "The alternative approach to eliminating fictitious values outside the\n",
    "mesh is to have $u^n_{i,-1}$ available as a ghost value.  The mesh is\n",
    "extended with one extra line (2D) or plane (3D) of ghost cells at a\n",
    "Neumann boundary. In the present example it means that we need a line\n",
    "with ghost cells below the $y$ axis.  The ghost values must be updated\n",
    "according to $u^{n+1}_{i,-1}=u^{n+1}_{i,1}$."
   ]
  }
 ],
 "metadata": {
  "kernelspec": {
   "display_name": "Python 3 (ipykernel)",
   "language": "python",
   "name": "python3"
  },
  "language_info": {
   "codemirror_mode": {
    "name": "ipython",
    "version": 3
   },
   "file_extension": ".py",
   "mimetype": "text/x-python",
   "name": "python",
   "nbconvert_exporter": "python",
   "pygments_lexer": "ipython3",
   "version": "3.10.6"
  }
 },
 "nbformat": 4,
 "nbformat_minor": 4
}
