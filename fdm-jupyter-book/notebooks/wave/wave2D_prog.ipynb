{
 "cells": [
  {
   "cell_type": "markdown",
   "metadata": {},
   "source": [
    "# Implementation\n",
    "<div id=\"wave:2D3D:impl\"></div>\n",
    "\n",
    "\n",
    "We shall now describe in detail various Python implementations\n",
    "for solving a standard 2D, linear wave equation with constant\n",
    "wave velocity and $u=0$ on the\n",
    "boundary. The wave equation is to be solved\n",
    "in the space-time domain $\\Omega\\times (0,T]$,\n",
    "where $\\Omega = (0,L_x)\\times (0,L_y)$ is a rectangular spatial\n",
    "domain. More precisely,\n",
    "the complete initial-boundary value problem is defined by"
   ]
  },
  {
   "cell_type": "markdown",
   "metadata": {},
   "source": [
    "<!-- Equation labels as ordinary links -->\n",
    "<div id=\"_auto1\"></div>\n",
    "\n",
    "$$\n",
    "\\begin{equation}\n",
    "u_{tt} = c^2(u_{xx} + u_{yy}) + f(x,y,t),\\quad (x,y)\\in \\Omega,\\ t\\in (0,T],\n",
    "\\label{_auto1} \\tag{1}\n",
    "\\end{equation}\n",
    "$$"
   ]
  },
  {
   "cell_type": "markdown",
   "metadata": {},
   "source": [
    "<!-- Equation labels as ordinary links -->\n",
    "<div id=\"_auto2\"></div>\n",
    "\n",
    "$$\n",
    "\\begin{equation} \n",
    "u(x,y,0) = I(x,y),\\quad (x,y)\\in\\Omega,\n",
    "\\label{_auto2} \\tag{2}\n",
    "\\end{equation}\n",
    "$$"
   ]
  },
  {
   "cell_type": "markdown",
   "metadata": {},
   "source": [
    "<!-- Equation labels as ordinary links -->\n",
    "<div id=\"_auto3\"></div>\n",
    "\n",
    "$$\n",
    "\\begin{equation} \n",
    "u_t(x,y,0) = V(x,y),\\quad (x,y)\\in\\Omega,\n",
    "\\label{_auto3} \\tag{3}\n",
    "\\end{equation}\n",
    "$$"
   ]
  },
  {
   "cell_type": "markdown",
   "metadata": {},
   "source": [
    "<!-- Equation labels as ordinary links -->\n",
    "<div id=\"_auto4\"></div>\n",
    "\n",
    "$$\n",
    "\\begin{equation} \n",
    "u = 0,\\quad (x,y)\\in\\partial\\Omega,\\ t\\in (0,T],\n",
    "\\label{_auto4} \\tag{4}\n",
    "\\end{equation}\n",
    "$$"
   ]
  },
  {
   "cell_type": "markdown",
   "metadata": {},
   "source": [
    "where $\\partial\\Omega$ is the boundary of $\\Omega$, in this case\n",
    "the four sides of the rectangle $\\Omega = [0,L_x]\\times [0,L_y]$:\n",
    "$x=0$, $x=L_x$, $y=0$, and $y=L_y$.\n",
    "\n",
    "The PDE is discretized as"
   ]
  },
  {
   "cell_type": "markdown",
   "metadata": {},
   "source": [
    "$$\n",
    "[D_t D_t u = c^2(D_xD_x u + D_yD_y u) + f]^n_{i,j},\n",
    "$$"
   ]
  },
  {
   "cell_type": "markdown",
   "metadata": {},
   "source": [
    "which leads to an explicit updating formula to be implemented in a\n",
    "program:"
   ]
  },
  {
   "cell_type": "markdown",
   "metadata": {},
   "source": [
    "$$\n",
    "u^{n+1}_{i,j} = -u^{n-1}_{i,j} + 2u^n_{i,j} + \\nonumber\n",
    "$$"
   ]
  },
  {
   "cell_type": "markdown",
   "metadata": {},
   "source": [
    "<!-- Equation labels as ordinary links -->\n",
    "<div id=\"wave:2D3D:impl1:2Du0:ueq:discrete\"></div>\n",
    "\n",
    "$$\n",
    "\\begin{equation} \n",
    "\\quad C_x^2(\n",
    "u^{n}_{i+1,j} - 2u^{n}_{i,j} + u^{n}_{i-1,j}) + C_y^2\n",
    "(u^{n}_{i,j+1} - 2u^{n}_{i,j} + u^{n}_{i,j-1}) + \\Delta t^2 f_{i,j}^n,\n",
    "\\label{wave:2D3D:impl1:2Du0:ueq:discrete} \\tag{5}\n",
    "\\end{equation}\n",
    "$$"
   ]
  },
  {
   "cell_type": "markdown",
   "metadata": {},
   "source": [
    "for all interior mesh points $i\\in\\seti{\\mathcal{I}_x}$ and\n",
    "$j\\in\\seti{\\mathcal{I}_y}$, for $n\\in\\setr{\\mathcal{I}_t}$.\n",
    "The constants $C_x$ and $C_y$ are defined as"
   ]
  },
  {
   "cell_type": "markdown",
   "metadata": {},
   "source": [
    "$$\n",
    "C_x = c\\frac{\\Delta t}{\\Delta x},\\quad C_y = c\\frac{\\Delta t}{\\Delta y}\n",
    "\\thinspace .\n",
    "$$"
   ]
  },
  {
   "cell_type": "markdown",
   "metadata": {},
   "source": [
    "At the boundary, we simply set $u^{n+1}_{i,j}=0$ for\n",
    "$i=0$, $j=0,\\ldots,N_y$; $i=N_x$, $j=0,\\ldots,N_y$;\n",
    "$j=0$, $i=0,\\ldots,N_x$; and $j=N_y$, $i=0,\\ldots,N_x$.\n",
    "For the first step, $n=0$, ([5](#wave:2D3D:impl1:2Du0:ueq:discrete))\n",
    "is combined with the discretization of the initial condition $u_t=V$,\n",
    "$[D_{2t} u = V]^0_{i,j}$ to obtain a special formula for\n",
    "$u^1_{i,j}$ at the interior mesh points:"
   ]
  },
  {
   "cell_type": "markdown",
   "metadata": {},
   "source": [
    "$$\n",
    "u^{1}_{i,j} = u^0_{i,j} + \\Delta t V_{i,j} + \\nonumber\n",
    "$$"
   ]
  },
  {
   "cell_type": "markdown",
   "metadata": {},
   "source": [
    "$$\n",
    "\\quad {\\frac{1}{2}}C_x^2(\n",
    "u^{0}_{i+1,j} - 2u^{0}_{i,j} + u^{0}_{i-1,j}) + {\\frac{1}{2}}C_y^2\n",
    "(u^{0}_{i,j+1} - 2u^{0}_{i,j} + u^{0}_{i,j-1}) +\\nonumber\n",
    "$$"
   ]
  },
  {
   "cell_type": "markdown",
   "metadata": {},
   "source": [
    "<!-- Equation labels as ordinary links -->\n",
    "<div id=\"wave:2D3D:impl1:2Du0:ueq:n0:discrete\"></div>\n",
    "\n",
    "$$\n",
    "\\begin{equation} \n",
    "\\quad \\frac{1}{2}\\Delta t^2f_{i,j}^n,\n",
    "\\label{wave:2D3D:impl1:2Du0:ueq:n0:discrete} \\tag{6}\n",
    "\\end{equation}\n",
    "$$"
   ]
  },
  {
   "cell_type": "markdown",
   "metadata": {},
   "source": [
    "The algorithm is very similar to the one in 1D:\n",
    "\n",
    "1. Set initial condition $u^0_{i,j}=I(x_i,y_j)$\n",
    "\n",
    "2. Compute $u^1_{i,j}$ from ([5](#wave:2D3D:impl1:2Du0:ueq:discrete))\n",
    "\n",
    "3. Set $u^1_{i,j}=0$ for the boundaries $i=0,N_x$, $j=0,N_y$\n",
    "\n",
    "4. For $n=1,2,\\ldots,N_t$:\n",
    "\n",
    " a. Find $u^{n+1}_{i,j}$ from ([5](#wave:2D3D:impl1:2Du0:ueq:discrete))\n",
    "    for all internal mesh points, $i\\in\\seti{\\mathcal{I}_x}$, $j\\in\\seti{\\mathcal{I}_y}$\n",
    "\n",
    " b. Set $u^{n+1}_{i,j}=0$ for the boundaries $i=0,N_x$, $j=0,N_y$\n",
    "\n",
    "\n",
    "<div id=\"wave2D3D:impl:scalar\"></div>\n",
    "\n",
    "\n",
    "### The wave propagator\n",
    "\n",
    "The `solver` function for a 2D case with constant wave velocity and\n",
    "boundary condition $u=0$ is analogous to the 1D case with similar parameter\n",
    "values (see `wave1D_u0.py`), apart from a few necessary\n",
    "extensions. The code is found in the program\n",
    "[`wave2D_u0.py`](${src_wave}/wave2D_u0/wave2D_u0.py).\n",
    "\n",
    "\n",
    "The spatial domain is now $[0,L_x]\\times [0,L_y]$, specified\n",
    "by the arguments `Lx` and `Ly`. Similarly, the number of mesh\n",
    "points in the $x$ and $y$ directions,\n",
    "$N_x$ and $N_y$, become the arguments `Nx` and `Ny`.\n",
    "In multi-dimensional problems it makes less sense to specify a\n",
    "Courant number since the wave velocity is a vector and mesh spacings\n",
    "may differ in the various spatial directions.\n",
    "We therefore give $\\Delta t$ explicitly. The `solver` function is implemented\n",
    "and explained below."
   ]
  },
  {
   "cell_type": "code",
   "execution_count": null,
   "metadata": {},
   "outputs": [],
   "source": [
    "import numpy as np\n",
    "from math import sqrt\n",
    "from devito import *\n",
    "\n",
    "def solver(I, V, f_init, c, bc, Lx, Ly, Nx, Ny, dt, T):\n",
    "    # Define the physical domain\n",
    "    grid = Grid(shape=(Nx, Ny), extent=(Lx, Ly))\n",
    "\n",
    "    t = grid.stepping_dim\n",
    "    time = grid.time_dim\n",
    "    x, y = grid.dimensions\n",
    "    dx, dy = grid.spacing\n",
    "    \n",
    "    if dt <= 0:                # max time step?\n",
    "        dt = (1/float(c))*(1/sqrt(1/dx**2 + 1/dy**2))\n",
    "    Nt = int(round(T/float(dt)))\n",
    "\n",
    "    cx2 = (c*dt/dx)**2\n",
    "    cy2 = (c*dt/dy)**2\n",
    "\n",
    "    # A Function to represent the space-varying field `f`\n",
    "    f = Function(name='f', grid=grid, initializer=f_init)\n",
    "\n",
    "    # A TimeFunction to represent the time- and space-varying field `u`\n",
    "    # Here `u^{n}_{i,j}` corresponds to `u(t, x, y)`\n",
    "    u = TimeFunction(name='u', grid=grid, space_order=2, save=Nt+1)\n",
    "    u0 = u.shift(time, -time)\n",
    "    u1 = u.shift(time, 1 - time)\n",
    "\n",
    "    # Load initial condition at t=0 into `u0`    \n",
    "    I(u0)\n",
    "\n",
    "    # The time marching updating equations\n",
    "    u1_update = Eq(u1, u0 + dt*V(u0) + 0.5*(cx2*u0.dx2 + cy2*u0.dy2 + dt**2*f))\n",
    "    un_update = Eq(u.forward, -u.backward + 2*u + cx2*u.dx2 + cy2*u.dy2 + dt**2*f)\n",
    "\n",
    "    # We create an Operator, which joins together the time marching equation\n",
    "    # and the BCs\n",
    "    op = Operator([u1_update, un_update] + bc(u))\n",
    "\n",
    "    # Finally, we can execute the Operator for the given number of timesteps\n",
    "    op.apply(time_m=2, time_M=5)\n",
    "    #op.apply(time_m=2, time_M=Nt)\n",
    "    \n",
    "    return u"
   ]
  },
  {
   "cell_type": "markdown",
   "metadata": {},
   "source": [
    "### Boundary conditions\n",
    "\n",
    "The following functions build several sorts of boundary conditions as lists of `Eq`'s."
   ]
  },
  {
   "cell_type": "code",
   "execution_count": null,
   "metadata": {},
   "outputs": [],
   "source": [
    "def make_dirichlet_bc(u):\n",
    "    Nx, Ny = u.grid.shape\n",
    "    x, y = u.grid.dimensions\n",
    "    t = u.grid.stepping_dim\n",
    "\n",
    "    return [Eq(u[t+1, 0, y], 0),\n",
    "            Eq(u[t+1, Nx-1, y], 0),\n",
    "            Eq(u[t+1, x, 0], 0),\n",
    "            Eq(u[t+1, x, Ny-1], 0)]"
   ]
  },
  {
   "cell_type": "code",
   "execution_count": null,
   "metadata": {},
   "outputs": [],
   "source": [
    "##### TEMPORARY CELL FOR TESTING PURPOSES ######\n",
    "\n",
    "import os\n",
    "from glob import glob\n",
    "\n",
    "from sympy import exp\n",
    "\n",
    "\n",
    "# Initial Gaussian bell in the middle of the domain.\n",
    "\n",
    "# Clean up plot files\n",
    "for name in glob('tmp_*.png'):\n",
    "    os.remove(name)\n",
    "\n",
    "Lx = 10\n",
    "Ly = 10\n",
    "c = 1.0\n",
    "\n",
    "def I(u0):\n",
    "    x, y = u0.function.grid.dimensions\n",
    "    op = Operator(Eq(u0, exp(-(x-Lx/2.0)**2/2.0 -(y-Ly/2.0)**2/2.0)))\n",
    "    op.apply()\n",
    "\n",
    "def f_init(data):\n",
    "    data[:] = 0.\n",
    "\n",
    "def V(u0):\n",
    "    return 0.5*u0\n",
    "\n",
    "bc = make_dirichlet_bc\n",
    "\n",
    "Nx = 41\n",
    "Ny = 41\n",
    "T = 15\n",
    "    \n",
    "u = solver(I, V, f_init, c, bc, Lx, Ly, Nx, Ny, 0, T)"
   ]
  },
  {
   "cell_type": "markdown",
   "metadata": {},
   "source": [
    "**Remark: How to use the solution.**\n",
    "\n",
    "The `solver` function in the `wave2D_u0.py` code\n",
    "updates arrays for the next time step by switching references as\n",
    "described in the section [wave:pde1:impl:ref:switch](#wave:pde1:impl:ref:switch). Any use of `u` on the\n",
    "user's side is assumed to take place in the user action function. However,\n",
    "should the code be changed such that `u` is returned and used as solution,\n",
    "have in mind that you must return `u_n` after the time limit, otherwise\n",
    "a `return u` will actually return `u_nm1` (due to the switching of array\n",
    "indices in the loop)!"
   ]
  },
  {
   "cell_type": "markdown",
   "metadata": {},
   "source": [
    "## Verification\n",
    "<div id=\"wave2D3D:impl:verify\"></div>\n",
    "\n",
    "### Testing a quadratic solution\n",
    "\n",
    "The 1D solution from the section [wave:pde2:fd:verify:quadratic](#wave:pde2:fd:verify:quadratic) can be\n",
    "generalized to multi-dimensions and provides a test case where the\n",
    "exact solution also fulfills the discrete equations, such that we know\n",
    "(to machine precision) what numbers the solver function should\n",
    "produce. In 2D we use the following generalization of\n",
    "([wave:pde2:fd:verify:quadratic:uex](#wave:pde2:fd:verify:quadratic:uex)):"
   ]
  },
  {
   "cell_type": "markdown",
   "metadata": {},
   "source": [
    "<!-- Equation labels as ordinary links -->\n",
    "<div id=\"wave2D3D:impl:verify:quadratic\"></div>\n",
    "\n",
    "$$\n",
    "\\begin{equation}\n",
    "\\uex(x,y,t) = x(L_x-x)y(L_y-y)(1+{\\frac{1}{2}}t)\n",
    "\\thinspace .\n",
    "\\label{wave2D3D:impl:verify:quadratic} \\tag{7}\n",
    "\\end{equation}\n",
    "$$"
   ]
  },
  {
   "cell_type": "markdown",
   "metadata": {},
   "source": [
    "This solution fulfills the PDE problem if $I(x,y)=\\uex(x,y,0)$,\n",
    "$V=\\frac{1}{2}\\uex(x,y,0)$, and $f=2c^2(1+{\\frac{1}{2}}t)(y(L_y-y) +\n",
    "x(L_x-x))$. To show that $\\uex$ also solves the discrete equations,\n",
    "we start with the general results $[D_t D_t 1]^n=0$, $[D_t D_t t]^n=0$,\n",
    "and $[D_t D_t t^2]=2$, and use these to compute"
   ]
  },
  {
   "cell_type": "markdown",
   "metadata": {},
   "source": [
    "$$\n",
    "\\begin{align*}\n",
    "[D_xD_x \\uex]^n_{i,j} &= [y(L_y-y)(1+{\\frac{1}{2}}t) D_xD_x x(L_x-x)]^n_{i,j}\\\\\n",
    "&= y_j(L_y-y_j)(1+{\\frac{1}{2}}t_n)(-2)\\thinspace .\n",
    "\\end{align*}\n",
    "$$"
   ]
  },
  {
   "cell_type": "markdown",
   "metadata": {},
   "source": [
    "A similar calculation must be carried out for the $[D_yD_y\n",
    "\\uex]^n_{i,j}$ and $[D_tD_t \\uex]^n_{i,j}$ terms.  One must also show\n",
    "that the quadratic solution fits the special formula for\n",
    "$u^1_{i,j}$. The details are left as [Exercise 1: Check that a solution fulfills the discrete model](#wave:exer:quadratic:2D).\n",
    "The `test_quadratic` function in the\n",
    "[`wave2D_u0.py`](${src_wave}/wave2D_u0/wave2D_u0.py)\n",
    "program implements this verification as a proper test function\n",
    "for the pytest and nose frameworks."
   ]
  },
  {
   "cell_type": "markdown",
   "metadata": {},
   "source": [
    "## Visualization\n",
    "\n",
    "We want to animate a 3D surface in Matplotlib, but this is a really\n",
    "slow process and not recommended, so we consider Matplotlib not an\n",
    "option as long as on-screen animation is desired. One can use the\n",
    "recipes for single shots of $u$, where it does produce high-quality\n",
    "3D plots."
   ]
  },
  {
   "cell_type": "markdown",
   "metadata": {},
   "source": [
    "The best option for doing visualization of 2D and 3D scalar and vector fields\n",
    "in Python programs is Mayavi, which is an interface to the high-quality\n",
    "package VTK in C++. There is good online documentation and also\n",
    "an introduction in Chapter 5 of [[Langtangen_2012]](#Langtangen_2012).\n",
    "\n",
    "To obtain Mayavi on Ubuntu platforms you can write"
   ]
  },
  {
   "cell_type": "markdown",
   "metadata": {},
   "source": [
    "        pip install mayavi --upgrade\n"
   ]
  },
  {
   "cell_type": "markdown",
   "metadata": {},
   "source": [
    "For Mac OS X and Windows, we recommend using Anaconda.\n",
    "To obtain Mayavi for Anaconda you can write"
   ]
  },
  {
   "cell_type": "markdown",
   "metadata": {},
   "source": [
    "        conda install mayavi\n"
   ]
  },
  {
   "cell_type": "markdown",
   "metadata": {},
   "source": [
    "Mayavi has a MATLAB-like interface called `mlab`. We can do"
   ]
  },
  {
   "cell_type": "markdown",
   "metadata": {},
   "source": [
    "```python\n",
    "import mayavi.mlab as plt\n",
    "# or\n",
    "from mayavi import mlab\n",
    "```"
   ]
  },
  {
   "cell_type": "markdown",
   "metadata": {},
   "source": [
    "and have `plt` (as usual) or `mlab`\n",
    "as a kind of MATLAB visualization access inside our program (just\n",
    "more powerful and with higher visual quality).\n",
    "\n",
    "The official documentation of the `mlab` module is provided in two\n",
    "places, one for the [basic functionality](http://docs.enthought.com/mayavi/mayavi/auto/mlab_helper_functions.html)\n",
    "and one for [further functionality](http://docs.enthought.com/mayavi/mayavi/auto/mlab_other_functions.html).\n",
    "Basic [figure\n",
    "handling](http://docs.enthought.com/mayavi/mayavi/auto/mlab_figure.html)\n",
    "is very similar to the one we know from Matplotlib.  Just as for\n",
    "Matplotlib, all plotting commands you do in `mlab` will go into the\n",
    "same figure, until you manually change to a new figure.\n",
    "\n",
    "Back to our application, the following code for the user action\n",
    "function with plotting in Mayavi is relevant to add."
   ]
  },
  {
   "cell_type": "code",
   "execution_count": null,
   "metadata": {},
   "outputs": [],
   "source": [
    "%matplotlib inline\n",
    "\n",
    "# Top of the file\n",
    "try:\n",
    "    import mayavi.mlab as mlab\n",
    "except:\n",
    "    # We don't have mayavi\n",
    "    pass\n",
    "\n",
    "# Mayavi visualization\n",
    "x = np.linspace(0, Lx, Nx+1)\n",
    "y = np.linspace(0, Ly, Ny+1)\n",
    "\n",
    "# time consuming!\n",
    "for t in range(u.shape[0]):\n",
    "    mlab.clf()\n",
    "    extent1 = (0, 20, 0, 20,-2, 2)\n",
    "    s = mlab.surf(x, y, u,\n",
    "                  colormap='Blues', warp_scale=5, extent=extent1)\n",
    "    mlab.axes(s, color=(.7, .7, .7), extent=extent1,\n",
    "              ranges=(0, 10, 0, 10, -1, 1), \n",
    "              xlabel='', ylabel='', zlabel='',\n",
    "              x_axis_visibility=False, z_axis_visibility=False)\n",
    "    mlab.outline(s, color=(0.7, .7, .7), extent=extent1)\n",
    "    mlab.text(6, -2.5, '', z=-4, width=0.14)\n",
    "    mlab.colorbar(object=None, title=None, orientation='horizontal', \n",
    "                  nb_labels=None, nb_colors=None, label_fmt=None)\n",
    "    mlab.title('Gaussian t=%g' % t[n])\n",
    "    mlab.view(142, -72, 50) \n",
    "    f = mlab.gcf()\n",
    "    camera = f.scene.camera\n",
    "    camera.yaw(0)\n",
    "\n",
    "    mlab.savefig(filename)"
   ]
  },
  {
   "cell_type": "markdown",
   "metadata": {},
   "source": [
    "This is a point to get started - visualization is as always a very\n",
    "time-consuming and experimental discipline. With the PNG files we\n",
    "can use `ffmpeg` to create videos.\n",
    "\n",
    "<!-- dom:FIGURE: [fig-wave/mayavi2D_gaussian1.png, width=600 frac=0.8] Plot with Mayavi. -->\n",
    "<!-- begin figure -->\n",
    "\n",
    "<p>Plot with Mayavi.</p>\n",
    "<img src=\"fig-wave/mayavi2D_gaussian1.png\" width=600>\n",
    "\n",
    "<!-- end figure -->\n",
    "\n",
    "\n",
    "<!-- dom:MOVIE: [https://github.com/hplgit/fdm-book/blob/master/doc/pub/book/html/mov-wave/mayavi/wave2D_u0_gaussian/movie.mp4] -->\n",
    "<!-- begin movie -->"
   ]
  },
  {
   "cell_type": "code",
   "execution_count": null,
   "metadata": {},
   "outputs": [],
   "source": [
    "from IPython.display import HTML\n",
    "_s = \"\"\"\n",
    "<div>\n",
    "<video  loop controls width='640' height='365' preload='none'>\n",
    "    <source src='https://github.com/hplgit/fdm-book/blob/master/doc/pub/book/html/mov-wave/mayavi/wave2D_u0_gaussian/movie.mp4'  type='video/mp4;  codecs=\"avc1.42E01E, mp4a.40.2\"'>\n",
    "    <source src='https://github.com/hplgit/fdm-book/blob/master/doc/pub/book/html/mov-wave/mayavi/wave2D_u0_gaussian/movie.ogg'  type='video/ogg;  codecs=\"theora, vorbis\"'>\n",
    "</video>\n",
    "</div>\n",
    "<p><em></em></p>\n",
    "\n",
    "<!-- Issue warning if in a Safari browser -->\n",
    "<script language=\"javascript\">\n",
    "if (!!(window.safari)) {\n",
    "  document.write(\"<div style=\\\"width: 95%%; padding: 10px; border: 1px solid #100; border-radius: 4px;\\\"><p><font color=\\\"red\\\">The above movie will not play in Safari - use Chrome, Firefox, or Opera.</font></p></div>\")}\n",
    "</script>\n",
    "\n",
    "\"\"\"\n",
    "HTML(_s)"
   ]
  },
  {
   "cell_type": "markdown",
   "metadata": {},
   "source": [
    "<!-- end movie -->\n",
    "\n",
    "\n",
    "\n",
    "# Exercises\n",
    "\n",
    "\n",
    "\n",
    "<!-- --- begin exercise --- -->\n",
    "\n",
    "## Exercise 1: Check that a solution fulfills the discrete model\n",
    "<div id=\"wave:exer:quadratic:2D\"></div>\n",
    "\n",
    "Carry out all mathematical details to show that\n",
    "([7](#wave2D3D:impl:verify:quadratic)) is indeed a solution of the\n",
    "discrete model for a 2D wave equation with $u=0$ on the boundary.\n",
    "One must check the boundary conditions, the initial conditions,\n",
    "the general discrete equation at a time level and the special\n",
    "version of this equation for the first time level.\n",
    "Filename: `check_quadratic_solution`.\n",
    "\n",
    "<!-- --- end exercise --- -->\n",
    "\n",
    "\n",
    "\n",
    "\n",
    "<!-- --- begin exercise --- -->\n",
    "\n",
    "## Project 2: Calculus with 2D mesh functions\n",
    "<div id=\"wave:exer:mesh3D:calculus\"></div>\n",
    "\n",
    "The goal of this project is to redo\n",
    "[wave:exer:mesh1D:calculus](#wave:exer:mesh1D:calculus) with 2D\n",
    "mesh functions ($f_{i,j}$).\n",
    "\n",
    "**Differentiation.**\n",
    "The differentiation results in a discrete gradient\n",
    "function, which in the 2D case can be represented by a three-dimensional\n",
    "array `df[d,i,j]` where `d` represents the direction of\n",
    "the derivative, and `i,j` is a mesh point in 2D.\n",
    "Use centered differences for\n",
    "the derivative at inner points and one-sided forward or backward\n",
    "differences at the boundary points. Construct unit tests and\n",
    "write a corresponding test function.\n",
    "\n",
    "**Integration.**\n",
    "The integral of a 2D mesh function $f_{i,j}$ is defined as"
   ]
  },
  {
   "cell_type": "markdown",
   "metadata": {},
   "source": [
    "$$\n",
    "F_{i,j} = \\int_{y_0}^{y_j} \\int_{x_0}^{x_i} f(x,y)dxdy,\n",
    "$$"
   ]
  },
  {
   "cell_type": "markdown",
   "metadata": {},
   "source": [
    "where $f(x,y)$ is a function that takes on the values of the\n",
    "discrete mesh function $f_{i,j}$ at the mesh points, but can also\n",
    "be evaluated in between the mesh points. The particular variation\n",
    "between mesh points can be taken as bilinear, but this is not\n",
    "important as we will use a product Trapezoidal rule to approximate\n",
    "the integral over a cell in the mesh and then we only need to\n",
    "evaluate $f(x,y)$ at the mesh points.\n",
    "\n",
    "Suppose $F_{i,j}$ is computed. The calculation of $F_{i+1,j}$\n",
    "is then"
   ]
  },
  {
   "cell_type": "markdown",
   "metadata": {},
   "source": [
    "$$\n",
    "\\begin{align*}\n",
    "F_{i+1,j} &= F_{i,j} + \\int_{x_i}^{x_{i+1}}\\int_{y_0}^{y_j} f(x,y)dydx\\\\\n",
    "& \\approx \\Delta x \\frac{1}{2}\\left(\n",
    "\\int_{y_0}^{y_j} f(x_{i},y)dy\n",
    "+ \\int_{y_0}^{y_j} f(x_{i+1},y)dy\\right)\n",
    "\\end{align*}\n",
    "$$"
   ]
  },
  {
   "cell_type": "markdown",
   "metadata": {},
   "source": [
    "The integrals in the $y$ direction can be approximated by a Trapezoidal\n",
    "rule. A similar idea can be used to compute $F_{i,j+1}$. Thereafter,\n",
    "$F_{i+1,j+1}$ can be computed by adding the integral over the final\n",
    "corner cell to $F_{i+1,j} + F_{i,j+1} - F_{i,j}$. Carry out the\n",
    "details of these computations and implement a function that can\n",
    "return $F_{i,j}$ for all mesh indices $i$ and $j$. Use the\n",
    "fact that the Trapezoidal rule is exact for linear functions and\n",
    "write a test function.\n",
    "Filename: `mesh_calculus_2D`.\n",
    "\n",
    "<!-- --- end exercise --- -->\n",
    "\n",
    "\n",
    "\n",
    "\n",
    "<!-- --- begin exercise --- -->\n",
    "\n",
    "## Exercise 3: Implement Neumann conditions in 2D\n",
    "<div id=\"wave:app:exer:wave2D:Neumann\"></div>\n",
    "\n",
    "Modify the [`wave2D_u0.py`](${src_wave}/wave2D_u0/wave2D_u0.py)\n",
    "program, which solves the 2D wave equation $u_{tt}=c^2(u_{xx}+u_{yy})$\n",
    "with constant wave velocity $c$ and $u=0$ on the boundary, to have\n",
    "Neumann boundary conditions: $\\partial u/\\partial n=0$.\n",
    "Include both scalar code (for debugging and reference) and\n",
    "vectorized code (for speed).\n",
    "\n",
    "To test the code, use $u=1.2$ as solution ($I(x,y)=1.2$, $V=f=0$, and\n",
    "$c$ arbitrary), which should be exactly reproduced with any mesh\n",
    "as long as the stability criterion is satisfied.\n",
    "Another test is to use the plug-shaped pulse\n",
    "in the `pulse` function from the section [wave:pde2:software](#wave:pde2:software)\n",
    "and the [`wave1D_dn_vc.py`](${src_wave}/wave1D/wave1D_dn_vc.py)\n",
    "program. This pulse\n",
    "is exactly propagated in 1D if $c\\Delta t/\\Delta x=1$. Check\n",
    "that also the 2D program can propagate this pulse exactly\n",
    "in $x$ direction ($c\\Delta t/\\Delta x=1$, $\\Delta y$ arbitrary)\n",
    "and $y$ direction ($c\\Delta t/\\Delta y=1$, $\\Delta x$ arbitrary).\n",
    "Filename: `wave2D_dn`.\n",
    "\n",
    "<!-- --- end exercise --- -->\n",
    "\n",
    "\n",
    "\n",
    "\n",
    "<!-- --- begin exercise --- -->\n",
    "\n",
    "## Exercise 4: Test the efficiency of compiled loops in 3D\n",
    "<div id=\"wave:exer:3D:f77:cy:efficiency\"></div>\n",
    "\n",
    "Extend the `wave2D_u0.py` code and the Cython, Fortran, and C versions to 3D.\n",
    "Set up an efficiency experiment to determine the relative efficiency of\n",
    "pure scalar Python code, vectorized code, Cython-compiled loops,\n",
    "Fortran-compiled loops, and C-compiled loops.\n",
    "Normalize the CPU time for each mesh by the fastest version.\n",
    "Filename: `wave3D_u0`.\n",
    "\n",
    "<!-- --- end exercise --- -->"
   ]
  }
 ],
 "metadata": {
  "kernelspec": {
   "display_name": "Python 3",
   "language": "python",
   "name": "python3"
  },
  "language_info": {
   "codemirror_mode": {
    "name": "ipython",
    "version": 3
   },
   "file_extension": ".py",
   "mimetype": "text/x-python",
   "name": "python",
   "nbconvert_exporter": "python",
   "pygments_lexer": "ipython3",
   "version": "3.6.8"
  }
 },
 "nbformat": 4,
 "nbformat_minor": 4
}
