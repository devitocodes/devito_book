{
 "cells": [
  {
   "cell_type": "markdown",
   "metadata": {},
   "source": [
    "<div id=\"ch:advec\"></div>\n",
    "\n",
    "Wave ([Wave equations](../02_wave) chapter) and diffusion ([Diffusion equations](../03_diffu) chapter)\n",
    "equations are solved reliably by finite difference methods. As soon as\n",
    "we add a first-order derivative in space, representing *advective*\n",
    "transport (also known as *convective* transport), the numerics gets\n",
    "more complicated and intuitively attractive methods no longer work\n",
    "well. We shall show how and why such methods fail and provide\n",
    "remedies. The present chapter builds on basic knowledge about finite\n",
    "difference methods for diffusion and wave equations, including the\n",
    "analysis by Fourier components, ([truncation error analysis](../B_trunc/trunc.ipynb)), and compact difference notation.\n",
    "\n",
    "**Remark on terminology.**\n",
    "\n",
    "It is common to refer to movement of a fluid as convection, while advection\n",
    "is the transport of some material dissolved or suspended in the fluid.\n",
    "We shall mostly choose the word advection here, but both terms are\n",
    "in heavy use, and for mass transport of a substance the PDE has an\n",
    "advection term, while the similar term for the heat equation is a\n",
    "convection term.\n",
    "\n",
    "\n",
    "\n",
    "Much more comprehensive discussion of dispersion analysis for\n",
    "advection problems can be found in the book by <cite data-cite=\"8023556/KKSJA3CM\">Duran</cite>.\n",
    "This is a an excellent resource for further studies on the topic of\n",
    "advection PDEs, with emphasis on gener\n",
    "alizations to real geophysical\n",
    "problems. The book by <cite data-cite=\"8023556/J9FF4ZJM\">Fletcher</cite> also has a good\n",
    "overview of methods for advection and convection problems.\n",
    "\n",
    "# One-dimensional time-dependent advection equations\n",
    "<div id=\"advec:1D\"></div>\n",
    "\n",
    "We consider the pure advection model"
   ]
  },
  {
   "cell_type": "markdown",
   "metadata": {},
   "source": [
    "<!-- Equation labels as ordinary links -->\n",
    "<div id=\"advec:1D:pde1:u\"></div>\n",
    "\n",
    "$$\n",
    "\\begin{equation}\n",
    "\\frac{\\partial u}{\\partial t} + v\\frac{\\partial u}{\\partial x} = 0,\\quad\n",
    " x\\in (0,L),\\ t\\in (0,T],\n",
    "\\label{advec:1D:pde1:u} \\tag{1}\n",
    "\\end{equation}\n",
    "$$"
   ]
  },
  {
   "cell_type": "markdown",
   "metadata": {},
   "source": [
    "<!-- Equation labels as ordinary links -->\n",
    "<div id=\"advec:1D:pde1:U0\"></div>\n",
    "\n",
    "$$\n",
    "\\begin{equation} \n",
    "u(x,0) = I(x), x\\in (0,L),\n",
    "\\label{advec:1D:pde1:U0} \\tag{2}\n",
    "\\end{equation}\n",
    "$$"
   ]
  },
  {
   "cell_type": "markdown",
   "metadata": {},
   "source": [
    "<!-- Equation labels as ordinary links -->\n",
    "<div id=\"advec:1D:pde1:I\"></div>\n",
    "\n",
    "$$\n",
    "\\begin{equation} \n",
    "u(0,t) = U_0, t\\in (0,T].\n",
    "\\label{advec:1D:pde1:I} \\tag{3}\n",
    "\\end{equation}\n",
    "$$"
   ]
  },
  {
   "cell_type": "markdown",
   "metadata": {},
   "source": [
    "In ([1](#advec:1D:pde1:u)), $v$ is a given parameter, typically reflecting\n",
    "the transport velocity of a quantity $u$ with a flow.\n",
    "There is only one boundary condition ([3](#advec:1D:pde1:I)) since\n",
    "the spatial derivative is only first order in the PDE ([1](#advec:1D:pde1:u)).\n",
    "The information at $x=0$ and the initial condition get\n",
    "transported in the positive $x$ direction\n",
    "if $v>0$ through the domain.\n",
    "\n",
    "It is easiest to find the solution of ([1](#advec:1D:pde1:u)) if we remove the\n",
    "boundary condition and consider a process on the\n",
    "infinite domain $(-\\infty, \\infty)$. The solution is simply"
   ]
  },
  {
   "cell_type": "markdown",
   "metadata": {},
   "source": [
    "<!-- Equation labels as ordinary links -->\n",
    "<div id=\"advec:1D:pde1:sol\"></div>\n",
    "\n",
    "$$\n",
    "\\begin{equation}\n",
    "u(x,t) = I(x-vt)\\thinspace .\n",
    "\\label{advec:1D:pde1:sol} \\tag{4}\n",
    "\\end{equation}\n",
    "$$"
   ]
  },
  {
   "cell_type": "markdown",
   "metadata": {},
   "source": [
    "This is also the solution we expect locally in a finite domain before boundary\n",
    "conditions have reflected or modified the wave.\n",
    "\n",
    "A particular feature of the solution ([4](#advec:1D:pde1:sol)) is that"
   ]
  },
  {
   "cell_type": "markdown",
   "metadata": {},
   "source": [
    "<!-- Equation labels as ordinary links -->\n",
    "<div id=\"advec:1D:pde1:uprop1\"></div>\n",
    "\n",
    "$$\n",
    "\\begin{equation}\n",
    "u(x_i, t_{n+1}) = u(x_{i-1}, t_n),\n",
    "\\label{advec:1D:pde1:uprop1} \\tag{5}\n",
    "\\end{equation}\n",
    "$$"
   ]
  },
  {
   "cell_type": "markdown",
   "metadata": {},
   "source": [
    "if $x_i=i\\Delta x$ and $t_n=n\\Delta t$ are points in a uniform mesh.\n",
    "We see this relation from"
   ]
  },
  {
   "cell_type": "markdown",
   "metadata": {},
   "source": [
    "$$\n",
    "u(i\\Delta x, (n+1)\\Delta t) = I(i\\Delta x - v(n+1)\\Delta t) \\nonumber\n",
    "$$"
   ]
  },
  {
   "cell_type": "markdown",
   "metadata": {},
   "source": [
    "$$\n",
    "= I((i-1)\\Delta x - vn\\Delta t - v\\Delta t + \\Delta x) \\nonumber\n",
    "$$"
   ]
  },
  {
   "cell_type": "markdown",
   "metadata": {},
   "source": [
    "$$\n",
    "= I((i-1)\\Delta x - vn\\Delta t) \\nonumber\n",
    "$$"
   ]
  },
  {
   "cell_type": "markdown",
   "metadata": {},
   "source": [
    "$$\n",
    "= u((i-1)\\Delta x, n\\Delta t), \\nonumber\n",
    "$$"
   ]
  },
  {
   "cell_type": "markdown",
   "metadata": {},
   "source": [
    "provided $v = \\Delta x/\\Delta t$. So, whenever we see a scheme that\n",
    "collapses to"
   ]
  },
  {
   "cell_type": "markdown",
   "metadata": {},
   "source": [
    "<!-- Equation labels as ordinary links -->\n",
    "<div id=\"advec:1D:pde1:uprop2\"></div>\n",
    "\n",
    "$$\n",
    "\\begin{equation}\n",
    "u^{n+1}_i = u_{i-1}^n,\n",
    "\\label{advec:1D:pde1:uprop2} \\tag{6}\n",
    "\\end{equation}\n",
    "$$"
   ]
  },
  {
   "cell_type": "markdown",
   "metadata": {},
   "source": [
    "for the PDE in question, we have in fact a scheme that reproduces the\n",
    "analytical solution, and many of the schemes to be presented possess\n",
    "this nice property!\n",
    "\n",
    "Finally, we add that a discussion of appropriate boundary conditions\n",
    "for the advection PDE in multiple dimensions is a challenging topic beyond\n",
    "the scope of this text.\n",
    "\n",
    "## Simplest scheme: forward in time, centered in space\n",
    "<div id=\"advec:1D:FTCS\"></div>\n",
    "\n",
    "### Method\n",
    "\n",
    "A first attempt to solve a PDE like ([1](#advec:1D:pde1:u)) will normally\n",
    "be to look for a time-discretization scheme that is explicit so we avoid\n",
    "solving systems of linear equations. In space, we anticipate that\n",
    "centered differences are most accurate and therefore best. These\n",
    "two arguments lead us to a Forward Euler scheme in time and\n",
    "centered differences in space:"
   ]
  },
  {
   "cell_type": "markdown",
   "metadata": {},
   "source": [
    "<!-- Equation labels as ordinary links -->\n",
    "<div id=\"_auto1\"></div>\n",
    "\n",
    "$$\n",
    "\\begin{equation}\n",
    "[D_t^+ u + vD_{2x} u = 0]^n_i\n",
    "\\label{_auto1} \\tag{7}\n",
    "\\end{equation}\n",
    "$$"
   ]
  },
  {
   "cell_type": "markdown",
   "metadata": {},
   "source": [
    "Written out, we see that this expression implies that"
   ]
  },
  {
   "cell_type": "markdown",
   "metadata": {},
   "source": [
    "$$\n",
    "u^{n+1} = u^n - \\frac{1}{2} C (u^n_{i+1}-u_{i-1}^n),\n",
    "$$"
   ]
  },
  {
   "cell_type": "markdown",
   "metadata": {},
   "source": [
    "with $C$ as the Courant number"
   ]
  },
  {
   "cell_type": "markdown",
   "metadata": {},
   "source": [
    "$$\n",
    "C = \\frac{v\\Delta t}{\\Delta x}\\thinspace .\n",
    "$$"
   ]
  },
  {
   "cell_type": "markdown",
   "metadata": {},
   "source": [
    "### Implementation\n",
    "\n",
    "A solver function for our scheme goes as follows."
   ]
  },
  {
   "cell_type": "code",
   "execution_count": 1,
   "metadata": {},
   "outputs": [],
   "source": [
    "%matplotlib inline\n",
    "\n",
    "import numpy as np\n",
    "import matplotlib.pyplot as plt\n",
    "from devito import Grid, Eq, solve, TimeFunction, Operator"
   ]
  },
  {
   "cell_type": "code",
   "execution_count": 2,
   "metadata": {},
   "outputs": [],
   "source": [
    "# %load -s solver_FECS src-advec/advec1D.py\n",
    "def solver_FECS(I, U0, v, L, dt, C, T, user_action=None):\n",
    "    Nt = int(round(T/float(dt)))\n",
    "    t = np.linspace(0, Nt*dt, Nt+1)  # Mesh points in time\n",
    "    dx = v*dt/C\n",
    "    Nx = int(round(L/dx))\n",
    "    x = np.linspace(0, L, Nx+1)      # Mesh points in space\n",
    "    \n",
    "    # Make sure dx and dt are compatible with x and t\n",
    "    dx = float(x[1] - x[0])\n",
    "    dt = float(t[1] - t[0])\n",
    "    C = v*dt/dx\n",
    "\n",
    "    grid = Grid(shape=(Nx+1,), extent=(L,))\n",
    "    t_s=grid.time_dim\n",
    "\n",
    "    u = TimeFunction(name='u', grid=grid, space_order=2, save=Nt+1)\n",
    "\n",
    "    pde = u.dtr + v*u.dxc\n",
    "    \n",
    "    stencil = solve(pde, u.forward)\n",
    "    eq = Eq(u.forward, stencil)\n",
    "    \n",
    "    # Set initial condition u(x,0) = I(x)\n",
    "    u.data[1, :] = [I(xi) for xi in x]\n",
    "    \n",
    "    # Insert boundary condition\n",
    "    bc = [Eq(u[t_s+1, 0], U0)]\n",
    "    \n",
    "    op = Operator([eq] + bc)\n",
    "    op.apply(dt=dt, x_m=1, x_M=Nx-1)\n",
    "    \n",
    "    if user_action is not None:\n",
    "        for n in range(0, Nt + 1):\n",
    "            user_action(u.data[n], x, t, n)\n"
   ]
  },
  {
   "cell_type": "markdown",
   "metadata": {},
   "source": [
    "### Test cases\n",
    "\n",
    "The typical solution $u$ has the shape of $I$ and is transported at\n",
    "velocity $v$ to the right (if $v>0$). Let us consider two different\n",
    "initial conditions, one smooth (Gaussian pulse) and one non-smooth\n",
    "(half-truncated cosine pulse):"
   ]
  },
  {
   "cell_type": "markdown",
   "metadata": {},
   "source": [
    "<!-- Equation labels as ordinary links -->\n",
    "<div id=\"advec:1D:case_gaussian\"></div>\n",
    "\n",
    "$$\n",
    "\\begin{equation}\n",
    "u(x,0) = Ae^{-\\frac{1}{2}\\left(\\frac{x-L/10}{\\sigma}\\right)^2},\n",
    "\\label{advec:1D:case_gaussian} \\tag{8}\n",
    "\\end{equation}\n",
    "$$"
   ]
  },
  {
   "cell_type": "markdown",
   "metadata": {},
   "source": [
    "<!-- Equation labels as ordinary links -->\n",
    "<div id=\"advec:1D:case_cos\"></div>\n",
    "\n",
    "$$\n",
    "\\begin{equation} \n",
    "u(x,0) = A\\cos\\left(\\frac{5\\pi}{L}\\left( x - \\frac{L}{10}\\right)\\right),\\quad\n",
    "x < \\frac{L}{5} \\hbox{ else } 0\\thinspace .\n",
    "\\label{advec:1D:case_cos} \\tag{9}\n",
    "\\end{equation}\n",
    "$$"
   ]
  },
  {
   "cell_type": "markdown",
   "metadata": {},
   "source": [
    "The parameter $A$ is the maximum value of the initial condition.\n",
    "\n",
    "Before doing numerical simulations, we scale the PDE\n",
    "problem and introduce $\\bar x = x/L$ and $\\bar t= vt/L$,\n",
    "which gives"
   ]
  },
  {
   "cell_type": "markdown",
   "metadata": {},
   "source": [
    "$$\n",
    "\\frac{\\partial\\bar u}{\\partial \\bar t} +\n",
    "\\frac{\\partial\\bar u}{\\partial\\bar x} = 0\\thinspace .\n",
    "$$"
   ]
  },
  {
   "cell_type": "markdown",
   "metadata": {},
   "source": [
    "The unknown $u$ is scaled by the maximum value of the initial condition:\n",
    "$\\bar u = u/\\max |I(x)|$ such that $|\\bar u(\\bar x, 0)|\\in [0,1]$.\n",
    "The scaled problem is solved by setting $v=1$, $L=1$, and $A=1$.\n",
    "From now on we drop the bars.\n",
    "\n",
    "To run our test cases and plot the solution, we make the function"
   ]
  },
  {
   "cell_type": "code",
   "execution_count": 3,
   "metadata": {},
   "outputs": [],
   "source": [
    "def run_FECS(case):\n",
    "    \"\"\"Special function for the FECS case.\"\"\"\n",
    "    if case == 'gaussian':\n",
    "        def I(x):\n",
    "            return np.exp(-0.5*((x-L/10)/sigma)**2)\n",
    "    elif case == 'cosinehat':\n",
    "        def I(x):\n",
    "            return np.cos(np.pi*5/L*(x - L/10)) if x < L/5 else 0\n",
    "\n",
    "    L = 1.0\n",
    "    sigma = 0.02\n",
    "    legends = []\n",
    "\n",
    "    def plot(u, x, t, n):\n",
    "        \"\"\"Animate and plot every m steps in the same figure.\"\"\"\n",
    "        plt.figure(1)\n",
    "        if n == 0:\n",
    "            lines = plot(x, u)\n",
    "        else:\n",
    "            lines[0].set_ydata(u)\n",
    "            plt.draw()\n",
    "            #plt.savefig()\n",
    "        plt.figure(2)\n",
    "        m = 40\n",
    "        if n % m != 0:\n",
    "            return\n",
    "        print('t=%g, n=%d, u in [%g, %g] w/%d points' % \\\n",
    "              (t[n], n, u.min(), u.max(), x.size))\n",
    "        if np.abs(u).max() > 3:  # Instability?\n",
    "            return\n",
    "        plt.plot(x, u)\n",
    "        legends.append('t=%g' % t[n])\n",
    "\n",
    "    plt.ion()\n",
    "    U0 = 0\n",
    "    dt = 0.001\n",
    "    C = 1\n",
    "    T = 1\n",
    "    solver_FECS(I=I, U0=U0, v=1.0, L=L, dt=dt, C=C, T=T,\n",
    "           user_action=plot)\n",
    "    plt.legend(legends, loc='lower left')\n",
    "    plt.savefig('tmp.png'); plt.savefig('tmp.pdf')\n",
    "    plt.axis([0, L, -0.75, 1.1])\n",
    "    plt.show()"
   ]
  },
  {
   "cell_type": "markdown",
   "metadata": {},
   "source": [
    "### Bug?\n",
    "\n",
    "Running either of the test cases, the plot becomes a mess, and\n",
    "the printout of $u$ values in the `plot` function reveals that\n",
    "$u$ grows very quickly. We may reduce $\\Delta t$ and make it\n",
    "very small, yet the solution just grows.\n",
    "Such behavior points to a bug in the code.\n",
    "However, choosing a coarse mesh and performing one time step by\n",
    "hand calculations produces the same numbers as the code, so\n",
    "the implementation seems to be correct.\n",
    "The hypothesis is therefore that the solution is unstable.\n",
    "\n",
    "## Analysis of the scheme\n",
    "<div id=\"advec:1D:FTCS:anal\"></div>\n",
    "\n",
    "It is easy to show that a typical Fourier component"
   ]
  },
  {
   "cell_type": "markdown",
   "metadata": {},
   "source": [
    "$$\n",
    "u(x,t)= B\\sin (k(x-ct))\n",
    "$$"
   ]
  },
  {
   "cell_type": "markdown",
   "metadata": {},
   "source": [
    "is a solution of our PDE for any spatial wave length $\\lambda = 2\\pi /k$\n",
    "and any amplitude $B$. (Since the PDE to be investigated by this method\n",
    "is homogeneous and linear, $B$ will always cancel out, so we tend to skip\n",
    "this amplitude, but keep it here in the beginning for completeness.)\n",
    "\n",
    "A general solution may be viewed as a collection of long and\n",
    "short waves with different amplitudes. Algebraically, the work\n",
    "simplifies if we introduce the complex Fourier component"
   ]
  },
  {
   "cell_type": "markdown",
   "metadata": {},
   "source": [
    "$$\n",
    "u(x,t)=A_\\text{e} e^{ikx},\n",
    "$$"
   ]
  },
  {
   "cell_type": "markdown",
   "metadata": {},
   "source": [
    "with"
   ]
  },
  {
   "cell_type": "markdown",
   "metadata": {},
   "source": [
    "$$\n",
    "A_\\text{e}=Be^{-ikv\\Delta t} = Be^{-iCk\\Delta x}\\thinspace .\n",
    "$$"
   ]
  },
  {
   "cell_type": "markdown",
   "metadata": {},
   "source": [
    "Note that $|A_\\text{e}| \\leq 1$.\n",
    "\n",
    "It turns out that many schemes also allow a Fourier wave component as\n",
    "solution, and we can use the numerically computed values of $A_\\text{e}$\n",
    "(denoted $A$) to learn about the\n",
    "quality of the scheme. Hence, to analyze the difference scheme we have just\n",
    "implemented, we look at how it treats the Fourier component"
   ]
  },
  {
   "cell_type": "markdown",
   "metadata": {},
   "source": [
    "$$\n",
    "u_q^n = A^n e^{ikq\\Delta x}\\thinspace .\n",
    "$$"
   ]
  },
  {
   "cell_type": "markdown",
   "metadata": {},
   "source": [
    "Inserting the numerical component in the scheme,"
   ]
  },
  {
   "cell_type": "markdown",
   "metadata": {},
   "source": [
    "$$\n",
    "[D_t^+ A e^{ikq\\Delta x} + v D_{2x}A e^{ikq\\Delta x} = 0]^n_q,\n",
    "$$"
   ]
  },
  {
   "cell_type": "markdown",
   "metadata": {},
   "source": [
    "and making use of [this equation](../A_formulas/formulas.ipynb#form:exp:fd1c:center)\n",
    "results in"
   ]
  },
  {
   "cell_type": "markdown",
   "metadata": {},
   "source": [
    "$$\n",
    "[e^{ikq\\Delta x} (\\frac{A-1}{\\Delta t} + v\\frac{1}{\\Delta x}i\\sin (k\\Delta x)) = 0]^n_q,\n",
    "$$"
   ]
  },
  {
   "cell_type": "markdown",
   "metadata": {},
   "source": [
    "which implies"
   ]
  },
  {
   "cell_type": "markdown",
   "metadata": {},
   "source": [
    "$$\n",
    "A = 1 - iC\\sin(k\\Delta x)\\thinspace .\n",
    "$$"
   ]
  },
  {
   "cell_type": "markdown",
   "metadata": {},
   "source": [
    "The numerical solution features the formula $A^n$. To find out whether\n",
    "$A^n$ means growth in time, we rewrite $A$ in polar form: $A=A_re^{i\\phi}$,\n",
    "for real numbers $A_r$ and $\\phi$,\n",
    "since we then have $A^n = A_r^ne^{i\\phi n}$. The magnitude of $A^n$ is\n",
    "$A_r^n$. In our case, $A_r = (1 + C^2\\sin^2(kx))^{1/2} > 1$, so\n",
    "$A_r^n$ will increase in time, whereas the\n",
    "exact solution will not. Regardless of $\\Delta t$, we get unstable\n",
    "numerical solutions.\n",
    "\n",
    "## Leapfrog in time, centered differences in space\n",
    "<div id=\"advec:1D:leapfrog\"></div>\n",
    "\n",
    "### Method\n",
    "\n",
    "Another explicit scheme is to do a \"leapfrog\" jump over $2\\Delta t$ in\n",
    "time and combine it with central differences in space:"
   ]
  },
  {
   "cell_type": "markdown",
   "metadata": {},
   "source": [
    "$$\n",
    "[D_{2t} u + vD_{2x} u = 0]_i^n,\n",
    "$$"
   ]
  },
  {
   "cell_type": "markdown",
   "metadata": {},
   "source": [
    "which results in the updating formula"
   ]
  },
  {
   "cell_type": "markdown",
   "metadata": {},
   "source": [
    "$$\n",
    "u^{n+1}_i = u^{n-1}_i - C(u_{i+1}^n-u_{i-1}^n)\\thinspace .\n",
    "$$"
   ]
  },
  {
   "cell_type": "markdown",
   "metadata": {},
   "source": [
    "A special scheme is needed to compute $u^1$, but we leave that problem for\n",
    "now. Anyway, this special scheme can be found in \n",
    "[`advec1D.py`](https://github.com/devitocodes/devito_book/blob/master/fdm-devito-notebooks/04_advec/src-advec/advec1D.py).\n",
    "\n",
    "### Implementation\n",
    "\n",
    "We now need to work with three time levels and must modify our solver a bit:"
   ]
  },
  {
   "cell_type": "markdown",
   "metadata": {},
   "source": [
    "```python\n",
    "Nt = int(round(T/float(dt)))\n",
    "t = np.linspace(0, Nt*dt, Nt+1)   # Mesh points in time\n",
    "...\n",
    "if scheme == 'FE':\n",
    "    u   = TimeFunction(name='u', grid=grid, space_order=2, save=Nt+1)\n",
    "    pde = u.dtr + v*u.dxc\n",
    "    ...\n",
    "elif scheme == 'LF':\n",
    "    u = ...\n",
    "    \n",
    "    # Use some scheme for the first step\n",
    "    pde0 = ...\n",
    "    ...\n",
    "    \n",
    "    # Move to the LF scheme after the first step\n",
    "    pde = u.dtc + v*u.dxc\n",
    "    ...\n",
    "```"
   ]
  },
  {
   "cell_type": "markdown",
   "metadata": {},
   "source": [
    "### Running a test case\n",
    "\n",
    "Let us try a coarse mesh such that the smooth Gaussian initial condition\n",
    "is represented by 1 at mesh node 1 and 0 at all other nodes. This\n",
    "triangular initial condition should then be advected to the right.\n",
    "Choosing scaled variables as $\\Delta t=0.1$, $T=1$, and $C=1$ gives\n",
    "the plot in [Figure](#advec:1D:case_gaussian:fig:LFCS), which\n",
    "is in fact identical to the exact solution (!).\n",
    "\n",
    "<!-- dom:FIGURE: [fig-advec/solver_FE_Upw.png, width=500 frac=0.8] Exact solution obtained by Leapfrog scheme with $\\Delta t = 0.1$ and $C=1$. <div id=\"advec:1D:case_gaussian:fig:LFCS\"></div> -->\n",
    "<!-- begin figure -->\n",
    "<div id=\"advec:1D:case_gaussian:fig:LFCS\"></div>\n",
    "\n",
    "Exact solution obtained by Leapfrog scheme with $\\Delta t = 0.1$ and $C=1$.\n",
    "<img src=\"fig-advec/solver_FE_Upw.png\" width=500>\n",
    "\n",
    "<!-- end figure -->\n",
    "\n",
    "\n",
    "### Running more test cases\n",
    "\n",
    "We can run two types of initial conditions for $C=0.8$: one very\n",
    "smooth with a Gaussian function ([Figure](#advec:1D:LF:fig1:C08)) and\n",
    "one with a discontinuity in the first derivative ([Figure](#advec:1D:LF:fig2:C08)).  Unless we have a very fine mesh, as in\n",
    "the left plots in the figures, we get small ripples behind the main\n",
    "wave, and this main wave has the amplitude reduced.\n",
    "\n",
    "<!-- dom:FIGURE: [fig-advec/gaussian_LF_C08.png, width=800 frac=1] Advection of a Gaussian function with a leapfrog scheme and $C=0.8$, $\\Delta t = 0.001$ (left) and $\\Delta t=0.01$ (right). <div id=\"advec:1D:LF:fig1:C08\"></div> -->\n",
    "<!-- begin figure -->\n",
    "<div id=\"advec:1D:LF:fig1:C08\"></div>\n",
    "\n",
    "Advection of a Gaussian function with a leapfrog scheme and $C=0.8$, $\\Delta t = 0.001$ (left) and $\\Delta t=0.01$ (right).\n",
    "<img src=\"fig-advec/gaussian_LF_C08.png\" width=800>\n",
    "\n",
    "<!-- end figure -->\n",
    "\n",
    "\n",
    "Advection of the Gaussian function with a leapfrog scheme, using $C=0.8$ and $\\Delta t = 0.01$ can be seen in a [movie file](mov-advec/gaussian/LF/C08_dt01.ogg). Alternatively, with $\\Delta t = 0.001$, we get this [movie file](mov-advec/gaussian/LF/C08_dt001.ogg).\n",
    "\n",
    "<!-- dom:FIGURE: [fig-advec/cosinehat_LF_C08.png, width=800 frac=1] Advection of frac{1}{2} a cosine function with a leapfrog scheme and $C=0.8$, $\\Delta t = 0.001$ (left) and $\\Delta t=0.01$ (right). <div id=\"advec:1D:LF:fig2:C08\"></div> -->\n",
    "<!-- begin figure -->\n",
    "<div id=\"advec:1D:LF:fig2:C08\"></div>\n",
    "\n",
    "Advection of half a cosine function with a leapfrog scheme and $C=0.8$, $\\Delta t = 0.001$ (left) and $\\Delta t=0.01$ (right).\n",
    "<img src=\"fig-advec/cosinehat_LF_C08.png\" width=800>\n",
    "\n",
    "<!-- end figure -->\n",
    "\n",
    "\n",
    "Advection of the cosine hat function with a leapfrog scheme, using $C=0.8$ and $\\Delta t = 0.01$ can be seen in a [movie file](mov-advec/cosinehat/LF/C08_dt01.ogg). Alternatively, with $\\Delta t = 0.001$, we get this [movie file](mov-advec/cosinehat/LF/C08_dt001.ogg).\n",
    "\n",
    "\n",
    "### Analysis\n",
    "\n",
    "We can perform a Fourier analysis again. Inserting the numerical\n",
    "Fourier component in the Leapfrog scheme, we get"
   ]
  },
  {
   "cell_type": "markdown",
   "metadata": {},
   "source": [
    "$$\n",
    "A^2 - i2C\\sin(k\\Delta x) A - 1 = 0,\n",
    "$$"
   ]
  },
  {
   "cell_type": "markdown",
   "metadata": {},
   "source": [
    "and"
   ]
  },
  {
   "cell_type": "markdown",
   "metadata": {},
   "source": [
    "$$\n",
    "A = -iC\\sin(k\\Delta x) \\pm \\sqrt{1-C^2\\sin^2(k\\Delta x)}\\thinspace .\n",
    "$$"
   ]
  },
  {
   "cell_type": "markdown",
   "metadata": {},
   "source": [
    "Rewriting to polar form, $A=A_re^{i\\phi}$, we see that $A_r=1$, so the\n",
    "numerical component is neither increasing nor decreasing in time, which is\n",
    "exactly what we want. However, for $C>1$, the square root can become\n",
    "complex valued, so stability is obtained only as long as $C\\leq 1$.\n",
    "\n",
    "**Stability.**\n",
    "\n",
    "For all the working schemes to be presented in this chapter, we\n",
    "get the stability condition $C\\leq 1$:"
   ]
  },
  {
   "cell_type": "markdown",
   "metadata": {},
   "source": [
    "$$\n",
    "\\Delta t \\leq \\frac{\\Delta x}{v}\\thinspace .\n",
    "$$"
   ]
  },
  {
   "cell_type": "markdown",
   "metadata": {},
   "source": [
    "This is called the CFL condition and applies almost always to successful\n",
    "schemes for advection problems. Of course, one can use Crank-Nicolson or\n",
    "Backward Euler schemes for increased and even unconditional\n",
    "stability (no $\\Delta t$ restrictions), but these have other\n",
    "less desired damping problems.\n",
    "\n",
    "\n",
    "\n",
    "We introduce $p=k\\Delta x$. The amplification factor now reads"
   ]
  },
  {
   "cell_type": "markdown",
   "metadata": {},
   "source": [
    "$$\n",
    "A = -iC\\sin p \\pm \\sqrt{1-C^2\\sin^2 p},\n",
    "$$"
   ]
  },
  {
   "cell_type": "markdown",
   "metadata": {},
   "source": [
    "and is to be compared to the exact amplification factor"
   ]
  },
  {
   "cell_type": "markdown",
   "metadata": {},
   "source": [
    "$$\n",
    "A_\\text{e} = e^{-ikv\\Delta t} = e^{-ikC\\Delta x} = e^{-iCp}\\thinspace .\n",
    "$$"
   ]
  },
  {
   "cell_type": "markdown",
   "metadata": {},
   "source": [
    "the section [Analysis of dispersion relations](#advec:1D:disprel) compares numerical amplification factors\n",
    "of many schemes with the exact expression.\n",
    "\n",
    "\n",
    "## Upwind differences in space\n",
    "<div id=\"advec:1D:FTUP\"></div>\n",
    "\n",
    "Since the PDE reflects transport of information along with a flow in\n",
    "positive $x$ direction, when $v>0$, it could be natural to go (what is called)\n",
    "upstream and not\n",
    "downstream in the spatial derivative to collect information about the\n",
    "change of the function. That is, we approximate"
   ]
  },
  {
   "cell_type": "markdown",
   "metadata": {},
   "source": [
    "$$\n",
    "\\frac{\\partial u}{\\partial x}(x_i,t_n)\\approx [D^-_x u]^n_i = \\frac{u^n_{i} - u^n_{i-1}}{\\Delta x}\\thinspace .\n",
    "$$"
   ]
  },
  {
   "cell_type": "markdown",
   "metadata": {},
   "source": [
    "This is called an *upwind difference* (the corresponding difference in the\n",
    "time direction would be called a backward difference, and we could use that\n",
    "name in space too, but *upwind* is the common name for a difference against\n",
    "the flow in advection problems). This spatial approximation does magic\n",
    "compared to\n",
    "the scheme we had with Forward Euler in time and centered difference in space.\n",
    "With an upwind difference,"
   ]
  },
  {
   "cell_type": "markdown",
   "metadata": {},
   "source": [
    "<!-- Equation labels as ordinary links -->\n",
    "<div id=\"advec:1D:upwind\"></div>\n",
    "\n",
    "$$\n",
    "\\begin{equation} [D^+_t u + vD^-_x u = 0]^n_i,\n",
    "\\label{advec:1D:upwind} \\tag{10}\n",
    "\\end{equation}\n",
    "$$"
   ]
  },
  {
   "cell_type": "markdown",
   "metadata": {},
   "source": [
    "written out as"
   ]
  },
  {
   "cell_type": "markdown",
   "metadata": {},
   "source": [
    "$$\n",
    "u^{n+1}_i = u^n_i - C(u^{n}_{i}-u^{n}_{i-1}),\n",
    "$$"
   ]
  },
  {
   "cell_type": "markdown",
   "metadata": {},
   "source": [
    "gives a generally popular and robust scheme that is stable if $C\\leq 1$.\n",
    "As with the Leapfrog scheme, it becomes exact if $C=1$, exactly as shown in\n",
    "[Figure](#advec:1D:case_gaussian:fig:LFCS). This is easy to see since\n",
    "$C=1$ gives the property ([6](#advec:1D:pde1:uprop2)).\n",
    "However, any $C<1$ gives a significant reduction in the amplitude of the\n",
    "solution, which is a purely numerical effect, see\n",
    "[this Figure](#advec:1D:UP:fig1:C08) and [this Figure](#advec:1D:UP:fig2:C08).\n",
    "Experiments show, however, that\n",
    "reducing $\\Delta t$ or $\\Delta x$, while keeping $C$ reduces the\n",
    "error.\n",
    "\n",
    "<!-- dom:FIGURE: [fig-advec/gaussian_UP_C08.png, width=800 frac=1] Advection of a Gaussian function with a forward in time, upwind in space scheme and $C=0.8$, $\\Delta t = 0.01$ (left) and $\\Delta t=0.001$ (right). <div id=\"advec:1D:UP:fig1:C08\"></div> -->\n",
    "<!-- begin figure -->\n",
    "<div id=\"advec:1D:UP:fig1:C08\"></div>\n",
    "\n",
    "Advection of a Gaussian function with a forward in time, upwind in space scheme and $C=0.8$, $\\Delta t = 0.01$ (left) and $\\Delta t=0.001$ (right).\n",
    "<img src=\"fig-advec/gaussian_UP_C08.png\" width=800>\n",
    "\n",
    "<!-- end figure -->\n",
    "\n",
    "\n",
    "Advection of the Gaussian function with a forward in time, upwind in space scheme, using $C=0.8$ and $\\Delta t = 0.01$ can be seen in a [movie file](mov-advec/gaussian/UP/C08_dt001/movie.ogg). Alternatively, with $\\Delta t = 0.005$, we get this [movie file](mov-advec/gaussian/UP/C08_dt0005/movie.ogg).\n",
    "\n",
    "<!-- dom:FIGURE: [fig-advec/cosinehat_UP_08.png, width=800 frac=1] Advection of half a cosine function with a forward in time, upwind in space scheme and $C=0.8$, $\\Delta t = 0.001$ (left) and $\\Delta t=0.01$ (right). <div id=\"advec:1D:UP:fig2:C08\"></div> -->\n",
    "<!-- begin figure -->\n",
    "<div id=\"advec:1D:UP:fig2:C08\"></div>\n",
    "\n",
    "Advection of half a cosine function with a forward in time, upwind in space scheme and $C=0.8$, $\\Delta t = 0.001$ (left) and $\\Delta t=0.01$ (right).\n",
    "<img src=\"fig-advec/cosinehat_UP_08.png\" width=800>\n",
    "\n",
    "<!-- end figure -->\n",
    "\n",
    "\n",
    "Advection of the cosine hat function with a forward in time, upwind in space scheme, using $C=0.8$ and $\\Delta t = 0.01$ can be seen in a [movie file](mov-advec/cosinehat/UP/C08_dt01.ogg). Alternatively, with $\\Delta t = 0.001$, we get this [movie file](mov-advec/cosinehat/UP/C08_dt001.ogg).\n",
    "\n",
    "The amplification factor can be computed using [this formula](../A_formulas/formulas.ipynb#form:exp:fd1:bw)."
   ]
  },
  {
   "cell_type": "markdown",
   "metadata": {},
   "source": [
    "$$\n",
    "\\frac{A - 1}{\\Delta t} + \\frac{v}{\\Delta x}(1 - e^{-ik\\Delta x}) = 0,\n",
    "$$"
   ]
  },
  {
   "cell_type": "markdown",
   "metadata": {},
   "source": [
    "which means"
   ]
  },
  {
   "cell_type": "markdown",
   "metadata": {},
   "source": [
    "$$\n",
    "A = 1 - C(1 - \\cos(p) - i\\sin(p))\\thinspace .\n",
    "$$"
   ]
  },
  {
   "cell_type": "markdown",
   "metadata": {},
   "source": [
    "For $C<1$ there is, unfortunately,\n",
    "non-physical damping of discrete Fourier components, giving rise to reduced\n",
    "amplitude of $u^n_i$ as in [this Figure](#advec:1D:UP:fig1:C08)\n",
    "and [this Figure](#advec:1D:UP:fig2:C08). The damping seen\n",
    "in these figures is quite severe. Stability requires $C\\leq 1$.\n",
    "\n",
    "**Interpretation of upwind difference as artificial diffusion.**\n",
    "\n",
    "One can interpret the upwind difference as extra, artificial diffusion\n",
    "in the equation. Solving"
   ]
  },
  {
   "cell_type": "markdown",
   "metadata": {},
   "source": [
    "$$\n",
    "\\frac{\\partial u}{\\partial t} + v\\frac{\\partial u}{\\partial x}\n",
    "= \\nu\\frac{\\partial^2 u}{\\partial x^2},\n",
    "$$"
   ]
  },
  {
   "cell_type": "markdown",
   "metadata": {},
   "source": [
    "by a forward difference in time and centered differences in space,"
   ]
  },
  {
   "cell_type": "markdown",
   "metadata": {},
   "source": [
    "$$\n",
    "D^+_t u + vD_{2x} u = \\nu D_xD_x u]^n_i,\n",
    "$$"
   ]
  },
  {
   "cell_type": "markdown",
   "metadata": {},
   "source": [
    "actually gives the upwind scheme ([10](#advec:1D:upwind)) if\n",
    "$\\nu = v\\Delta x/2$. That is, solving the PDE $u_t + vu_x=0$\n",
    "by centered differences in space and forward difference in time is\n",
    "unsuccessful, but by adding some artificial diffusion $\\nu u_{xx}$,\n",
    "the method becomes stable:"
   ]
  },
  {
   "cell_type": "markdown",
   "metadata": {},
   "source": [
    "$$\n",
    "\\frac{\\partial u}{\\partial t} + v\n",
    "\\frac{\\partial u}{\\partial x} = \\left(\\alpha + \\frac{v\\Delta x}{2}\\right)\n",
    "\\frac{\\partial^2 u}{\\partial x^2}\\thinspace .\n",
    "$$"
   ]
  },
  {
   "cell_type": "markdown",
   "metadata": {},
   "source": [
    "## Periodic boundary conditions\n",
    "<div id=\"advec:1D:periodic_BC\"></div>\n",
    "\n",
    "So far, we have given the value on the left boundary, $u_0^n$, and used\n",
    "the scheme to propagate the solution signal through the domain.\n",
    "Often, we want to follow such signals for long time series, and periodic\n",
    "boundary conditions are then relevant since they enable a signal that\n",
    "leaves the right boundary to immediately enter the left boundary and propagate\n",
    "through the domain again.\n",
    "\n",
    "The periodic boundary condition is"
   ]
  },
  {
   "cell_type": "markdown",
   "metadata": {},
   "source": [
    "$$\n",
    "u(0,t) = u(L,t),\\quad u_0^n = u_{N_x}^n\\thinspace .\n",
    "$$"
   ]
  },
  {
   "cell_type": "markdown",
   "metadata": {},
   "source": [
    "It means that we in the first equation, involving $u_0^n$, insert $u_{N_x}^n$,\n",
    "and that we in the last equation, involving $u^{n+1}_{N_x}$ insert $u^{n+1}_0$.\n",
    "Normally, we can do this in the simple way that `u[t_s, 0]` is updated as\n",
    "`u[t_s, Nx]` at the beginning of a new time level.\n",
    "\n",
    "In some schemes we may need $u^{n}_{N_x+1}$ and $u^{n}_{-1}$. Periodicity\n",
    "then means that these values are equal to $u^n_1$ and $u^n_{N_x-1}$,\n",
    "respectively. For the upwind scheme, it is sufficient to set\n",
    "`u[t_s, 0]=u[t_s, Nx]` at a new time level before computing `u[t_s+1, 1]`. This ensures\n",
    "that `u[t_s+1, 1]` becomes right and at the next time level `u[t_s+1, 0]` at the current\n",
    "time level is correctly updated.\n",
    "For the Leapfrog scheme we must update `u[t_s+1, 0]` and `u[t_s+1, Nx]` using the scheme:"
   ]
  },
  {
   "cell_type": "markdown",
   "metadata": {},
   "source": [
    "```python\n",
    "pbc = [Eq(u[t_s+1, 0], u[t_s-1, 0] - C*(u[t_s, 1] - u[t_s, Nx-1]))]\n",
    "pbc += [Eq(u[t_s+1, Nx], u[t_s+1, 0])]\n",
    "...\n",
    "```"
   ]
  },
  {
   "cell_type": "markdown",
   "metadata": {},
   "source": [
    "## Implementation\n",
    "\n",
    "### Test condition\n",
    "\n",
    "Analytically, we can show that the integral in space under the $u(x,t)$ curve\n",
    "is constant:"
   ]
  },
  {
   "cell_type": "markdown",
   "metadata": {},
   "source": [
    "$$\n",
    "\\begin{align*}\n",
    "\\int_0^L \\left(\\frac{\\partial u}{\\partial t} + v\\frac{\\partial u}{\\partial x}\n",
    "\\right) dx &= 0\\\\\n",
    "\\frac{\\partial }{\\partial t} \\int_0^L udx &=\n",
    "- \\int_0^L v\\frac{\\partial u}{\\partial x}dx\\\\\n",
    "\\frac{\\partial u}{\\partial t} \\int_0^L udx &=\n",
    "[v u]_0^L =0\n",
    "\\end{align*}\n",
    "$$"
   ]
  },
  {
   "cell_type": "markdown",
   "metadata": {},
   "source": [
    "as long as $u(0)=u(L)=0$. We can therefore use the property"
   ]
  },
  {
   "cell_type": "markdown",
   "metadata": {},
   "source": [
    "$$\n",
    "\\int_0^L u(x,t)dx = \\hbox{const}\n",
    "$$"
   ]
  },
  {
   "cell_type": "markdown",
   "metadata": {},
   "source": [
    "as a partial verification during the simulation. Now, any numerical method\n",
    "with $C\\neq 1$ will deviate from the constant, expected value, so\n",
    "the integral is a measure of the error in the scheme. The integral can\n",
    "be computed by the Trapezoidal integration rule"
   ]
  },
  {
   "cell_type": "markdown",
   "metadata": {},
   "source": [
    "```python\n",
    "dx*(0.5*u.data[n][0] + 0.5*u.data[n][Nx] + np.sum(u.data[n][1:Nx]))\n",
    "```"
   ]
  },
  {
   "cell_type": "markdown",
   "metadata": {},
   "source": [
    "if `u` is a `TimeFunction` with the `save` parameter set to $Nx+1$ and `n` indicates a current timestep.\n",
    "\n",
    "### The code\n",
    "\n",
    "An appropriate `solver` function for multiple schemes may go as shown\n",
    "below."
   ]
  },
  {
   "cell_type": "code",
   "execution_count": 4,
   "metadata": {},
   "outputs": [],
   "source": [
    "# %load -s solver src-advec/advec1D.py\n",
    "def solver(I, U0, v, L, dt, C, T, user_action=None,\n",
    "           scheme='FE', periodic_bc=True):\n",
    "    Nt = int(round(T/np.float64(dt)))\n",
    "    t = np.linspace(0, Nt*dt, Nt+1)   # Mesh points in time\n",
    "    dx = v*dt/C\n",
    "    Nx = int(round(L/dx))\n",
    "    x = np.linspace(0, L, Nx+1)       # Mesh points in space\n",
    "    \n",
    "    # Make sure dx and dt are compatible with x and t\n",
    "    dx = x[1] - x[0]\n",
    "    dt = t[1] - t[0]\n",
    "    C = v*dt/dx\n",
    "    print('dt=%g, dx=%g, Nx=%d, C=%g' % (dt, dx, Nx, C))\n",
    "\n",
    "    integral = np.zeros(Nt+1)\n",
    "    \n",
    "    grid = Grid(shape=(Nx+1,), extent=(L,), dtype=np.float64)\n",
    "\n",
    "    t_s=grid.time_dim\n",
    "    \n",
    "    def u(to=1, so=1):\n",
    "        u = TimeFunction(name='u', grid=grid, time_order=to, space_order=so, save=Nt+1)\n",
    "        return u\n",
    "        \n",
    "    if scheme == 'FE':\n",
    "        u   = u(so=2)\n",
    "        pde = u.dtr + v*u.dxc\n",
    "        \n",
    "        pbc = [Eq(u[t_s+1, 0], u[t_s, 0] - 0.5*C*(u[t_s, 1] - u[t_s, Nx]))]\n",
    "        pbc += [Eq(u[t_s+1, Nx], u[t_s+1, 0])]\n",
    "        \n",
    "    elif scheme == 'LF':\n",
    "        # Use UP scheme for the first timestep\n",
    "        u = u(to=2, so=2)\n",
    "        pde0 = u.dtr(fd_order=1) + v*u.dxl(fd_order=1)\n",
    "        \n",
    "        stencil0 = solve(pde0, u.forward)\n",
    "        eq0      = Eq(u.forward, stencil0).subs(t_s, 0)\n",
    "\n",
    "        pbc0 = [Eq(u[t_s, 0], u[t_s, Nx]).subs(t_s, 0)]\n",
    "            \n",
    "        # Now continue with LF scheme\n",
    "        pde = u.dtc + v*u.dxc\n",
    "        \n",
    "        pbc = [Eq(u[t_s+1, 0], u[t_s-1, 0] - C*(u[t_s, 1] - u[t_s, Nx-1]))]\n",
    "        pbc += [Eq(u[t_s+1, Nx], u[t_s+1, 0])]\n",
    "    \n",
    "    elif scheme == 'UP':\n",
    "        u   = u()\n",
    "        pde = u.dtr + v*u.dxl\n",
    "        \n",
    "        pbc = [Eq(u[t_s, 0], u[t_s, Nx])]\n",
    "    \n",
    "    elif scheme == 'LW':\n",
    "        u = u(so=2)\n",
    "        pde = u.dtr + v*u.dxc - 0.5*dt*v**2*u.dx2\n",
    "        \n",
    "        pbc = [Eq(u[t_s+1, 0], u[t_s, 0] - 0.5*C*(u[t_s, 1] - u[t_s, Nx-1]) + \\\n",
    "                  0.5*C**2*(u[t_s, 1] - 2*u[t_s, 0] + u[t_s, Nx-1]))]\n",
    "        pbc += [Eq(u[t_s+1, Nx], u[t_s+1, 0])]\n",
    "    \n",
    "    else:\n",
    "        raise ValueError('scheme=\"%s\" not implemented' % scheme)\n",
    "\n",
    "    stencil = solve(pde, u.forward)\n",
    "    eq = Eq(u.forward, stencil)\n",
    "    \n",
    "    bc_init = [Eq(u[t_s+1, 0], U0).subs(t_s, 0)]\n",
    "    \n",
    "    # Set initial condition u(x,0) = I(x)\n",
    "    u.data[0, :] = [I(xi) for xi in x]\n",
    "        \n",
    "    # Compute the integral under the curve\n",
    "    integral[0] = dx*(0.5*u.data[0][0] + 0.5*u.data[0][Nx] + np.sum(u.data[0][1:Nx]))\n",
    "    \n",
    "    if user_action is not None:\n",
    "        user_action(u.data[0], x, t, 0)\n",
    "\n",
    "    bc  = [Eq(u[t_s+1, 0], U0)]\n",
    "    \n",
    "    if scheme == 'LF':\n",
    "        op = Operator((pbc0 if periodic_bc else []) + [eq0] + (bc_init if not periodic_bc else []) \\\n",
    "                      + (pbc if periodic_bc else []) + [eq] + (bc if not periodic_bc else []))\n",
    "    else:       \n",
    "        op = Operator(bc_init + (pbc if periodic_bc else []) + [eq] + (bc if not periodic_bc else []))\n",
    "        \n",
    "    op.apply(dt=dt, x_m=1, x_M=Nx if scheme == 'UP' else Nx-1)\n",
    "\n",
    "    for n in range(1, Nt+1):\n",
    "        # Compute the integral under the curve\n",
    "        integral[n] = dx*(0.5*u.data[n][0] + 0.5*u.data[n][Nx] + np.sum(u.data[n][1:Nx]))\n",
    "\n",
    "        if user_action is not None:\n",
    "            user_action(u.data[n], x, t, n)\n",
    "\n",
    "        print('I:', integral[n])\n",
    "    return integral\n"
   ]
  },
  {
   "cell_type": "markdown",
   "metadata": {},
   "source": [
    "### Solving a specific problem\n",
    "\n",
    "We need to call up the `solver` function in some kind of administering\n",
    "problem solving function that can solve specific problems and make\n",
    "appropriate visualization. The function below makes both static plots,\n",
    "screen animation, and hard copy videos in various formats."
   ]
  },
  {
   "cell_type": "code",
   "execution_count": 5,
   "metadata": {},
   "outputs": [],
   "source": [
    "def run(scheme='UP', case='gaussian', C=1, dt=0.01):\n",
    "    \"\"\"General admin routine for explicit and implicit solvers.\"\"\"\n",
    "\n",
    "    if case == 'gaussian':\n",
    "        def I(x):\n",
    "            return np.exp(-0.5*((x-L/10)/sigma)**2)\n",
    "    elif case == 'cosinehat':\n",
    "        def I(x):\n",
    "            return np.cos(np.pi*5/L*(x - L/10)) \\\n",
    "                   if 0 < x < L/5 else 0\n",
    "\n",
    "    L = 1.0\n",
    "    sigma = 0.02\n",
    "    global lines  # needs to be saved between calls to plot\n",
    "\n",
    "    def plot(u, x, t, n):\n",
    "        \"\"\"Plot t=0 and t=0.6 in the same figure.\"\"\"\n",
    "        plt.figure(1)\n",
    "        global lines\n",
    "        if n == 0:\n",
    "            lines = plt.plot(x, u)\n",
    "            plt.axis([x[0], x[-1], -0.5, 1.5])\n",
    "            plt.xlabel('x'); plt.ylabel('u')\n",
    "            plt.savefig('tmp_%04d.png' % n)\n",
    "            plt.savefig('tmp_%04d.pdf' % n)\n",
    "        else:\n",
    "            lines[0].set_ydata(u)\n",
    "            plt.axis([x[0], x[-1], -0.5, 1.5])\n",
    "            plt.title('C=%g, dt=%g, dx=%g' %\n",
    "                      (C, t[1]-t[0], x[1]-x[0]))\n",
    "            plt.legend(['t=%.3f' % t[n]])\n",
    "            plt.xlabel('x'); plt.ylabel('u')\n",
    "            plt.draw()\n",
    "            plt.savefig('tmp_%04d.png' % n)\n",
    "        plt.figure(2)\n",
    "        eps = 1E-14\n",
    "        if abs(t[n] - 0.6) > eps and abs(t[n] - 0) > eps:\n",
    "            return\n",
    "        print('t=%g, n=%d, u in [%g, %g] w/%d points' % \\\n",
    "              (t[n], n, u.min(), u.max(), x.size))\n",
    "        if np.abs(u).max() > 3:  # Instability?\n",
    "            return\n",
    "        plt.plot(x, u)\n",
    "        plt.draw()\n",
    "        if n > 0:\n",
    "            y = [I(x_-v*t[n]) for x_ in x]\n",
    "            plt.plot(x, y, 'k--')\n",
    "            if abs(t[n] - 0.6) < eps:\n",
    "                filename = ('tmp_%s_dt%s_C%s' % \\\n",
    "                            (scheme, t[1]-t[0], C)).replace('.', '')\n",
    "                np.savez(filename, x=x, u=u, u_e=y)\n",
    "\n",
    "    plt.ion()\n",
    "    U0 = 0\n",
    "    T = 0.7\n",
    "    v = 1\n",
    "    # Define video formats and libraries\n",
    "    codecs = dict(flv='flv', mp4='libx264', webm='libvpx',\n",
    "                  ogg='libtheora')\n",
    "    # Remove video files\n",
    "    import glob, os\n",
    "    for name in glob.glob('tmp_*.png'):\n",
    "        os.remove(name)\n",
    "    for ext in codecs:\n",
    "        name = 'movie.%s' % ext\n",
    "        if os.path.isfile(name):\n",
    "            os.remove(name)\n",
    "\n",
    "    if scheme == 'CN':\n",
    "        integral = solver_theta(\n",
    "            I, v, L, dt, C, T, user_action=plot, FE=False)\n",
    "    elif scheme == 'BE':\n",
    "        integral = solver_theta(\n",
    "            I, v, L, dt, C, T, theta=1, user_action=plot)\n",
    "    else:\n",
    "        integral = solver(\n",
    "            I=I, U0=U0, v=v, L=L, dt=dt, C=C, T=T,\n",
    "            scheme=scheme, user_action=plot)\n",
    "    # Finish figure(2)\n",
    "    plt.figure(2)\n",
    "    plt.axis([0, L, -0.5, 1.1])\n",
    "    plt.xlabel('$x$');  plt.ylabel('$u$')\n",
    "    plt.savefig('tmp1.png'); plt.savefig('tmp1.pdf')\n",
    "    plt.show()\n",
    "    # Make videos from figure(1) animation files\n",
    "    for codec in codecs:\n",
    "        cmd = 'ffmpeg -i tmp_%%04d.png -r 25 -vcodec %s movie.%s' % \\\n",
    "              (codecs[codec], codec)\n",
    "        os.system(cmd)\n",
    "    print('Integral of u:', integral.max(), integral.min())\n"
   ]
  },
  {
   "cell_type": "markdown",
   "metadata": {},
   "source": [
    "The complete code is found in the file\n",
    "[`advec1D.py`](https://github.com/devitocodes/devito_book/blob/master/fdm-devito-notebooks/04_advec/src-advec/advec1D.py).\n",
    "\n",
    "## A Crank-Nicolson discretization in time and centered differences in space\n",
    "<div id=\"advec:1D:CN\"></div>\n",
    "\n",
    "\n",
    "Another obvious candidate for time discretization is the Crank-Nicolson\n",
    "method combined with centered differences in space:"
   ]
  },
  {
   "cell_type": "markdown",
   "metadata": {},
   "source": [
    "$$\n",
    "[D_t u]^n_i + v\\frac{1}{2}([D_{2x} u]^{n+1}_i + [D_{2x} u]^{n}_i) = 0\\thinspace .\n",
    "$$"
   ]
  },
  {
   "cell_type": "markdown",
   "metadata": {},
   "source": [
    "It can be nice to include the Backward Euler scheme too, via the\n",
    "$\\theta$-rule,"
   ]
  },
  {
   "cell_type": "markdown",
   "metadata": {},
   "source": [
    "$$\n",
    "[D_t u]^n_i + v\\theta [D_{2x} u]^{n+1}_i + v(1-\\theta)[D_{2x} u]^{n}_i = 0\\thinspace .\n",
    "$$"
   ]
  },
  {
   "cell_type": "markdown",
   "metadata": {},
   "source": [
    "When $\\theta$ is different from zero, this gives rise to an *implicit* scheme,"
   ]
  },
  {
   "cell_type": "markdown",
   "metadata": {},
   "source": [
    "$$\n",
    "u^{n+1}_i + \\frac{\\theta}{2} C (u^{n+1}_{i+1} - u^{n+1}_{i-1})\n",
    "= u^n_i - \\frac{1-\\theta}{2} C (u^{n}_{i+1} - u^{n}_{i-1})\n",
    "$$"
   ]
  },
  {
   "cell_type": "markdown",
   "metadata": {},
   "source": [
    "for $i=1,\\ldots,N_x-1$. At the boundaries we set $u=0$ and simulate just to\n",
    "the point of time when the signal hits the boundary (and gets reflected)."
   ]
  },
  {
   "cell_type": "markdown",
   "metadata": {},
   "source": [
    "$$\n",
    "u^{n+1}_0 = u^{n+1}_{N_x} = 0\\thinspace .\n",
    "$$"
   ]
  },
  {
   "cell_type": "markdown",
   "metadata": {},
   "source": [
    "The elements on the diagonal in the matrix become:"
   ]
  },
  {
   "cell_type": "markdown",
   "metadata": {},
   "source": [
    "$$\n",
    "A_{i,i} = 1,\\quad i=0,\\ldots,N_x\\thinspace .\n",
    "$$"
   ]
  },
  {
   "cell_type": "markdown",
   "metadata": {},
   "source": [
    "On the subdiagonal and superdiagonal we have"
   ]
  },
  {
   "cell_type": "markdown",
   "metadata": {},
   "source": [
    "$$\n",
    "A_{i-1,i} = -\\frac{\\theta}{2} C,\\quad A_{i+1,i} = \\frac{\\theta}{2} C,\\quad i=1,\\ldots,N_x-1,\n",
    "$$"
   ]
  },
  {
   "cell_type": "markdown",
   "metadata": {},
   "source": [
    "with $A_{0,1}=0$ and $A_{N_x-1,N_x}=0$ due to the known boundary conditions.\n",
    "And finally, the right-hand side becomes"
   ]
  },
  {
   "cell_type": "markdown",
   "metadata": {},
   "source": [
    "$$\n",
    "\\begin{align*}\n",
    "b_0 &= u^n_{N_x}\\\\\n",
    "b_i &= u^n_i - \\frac{1-\\theta}{2} C (u^{n}_{i+1} - u^{n}_{i-1}),\\quad i=1,\\ldots,N_x-1\\\\\n",
    "b_{N_x} &= u^n_0\n",
    "\\end{align*}\n",
    "$$"
   ]
  },
  {
   "cell_type": "markdown",
   "metadata": {},
   "source": [
    "The dispersion relation follows from inserting $u^n_q = A^ne^{ikx}$\n",
    "and using [this formula](../A_formulas/formulas.ipynb#form:exp:fd1c:center) for the spatial\n",
    "differences:"
   ]
  },
  {
   "cell_type": "markdown",
   "metadata": {},
   "source": [
    "$$\n",
    "A = \\frac{1 - (1-\\theta) i C\\sin p}{1 + \\theta i C\\sin p}\\thinspace .\n",
    "$$"
   ]
  },
  {
   "cell_type": "markdown",
   "metadata": {},
   "source": [
    "<!-- dom:FIGURE: [fig-advec/gaussian_CN_C08.png, width=800 frac=1] Crank-Nicolson in time, centered in space, Gaussian profile, $C=0.8$, $\\Delta t = 0.01$ (left) and $\\Delta t=0.005$ (right). <div id=\"advec:1D:CN:fig:C08\"></div> -->\n",
    "<!-- begin figure -->\n",
    "<div id=\"advec:1D:CN:fig:C08\"></div>\n",
    "\n",
    "Crank-Nicolson in time, centered in space, Gaussian profile, $C=0.8$, $\\Delta t = 0.01$ (left) and $\\Delta t=0.005$ (right).\n",
    "<img src=\"fig-advec/gaussian_CN_C08.png\" width=800>\n",
    "\n",
    "<!-- end figure -->\n",
    "\n",
    "\n",
    "<!-- dom:FIGURE: [fig-advec/cosinehat_BE_C08.png, width=800 frac=1] Backward-Euler in time, centered in space, frac{1}{2} a cosine profile, $C=0.8$, $\\Delta t = 0.01$ (left) and $\\Delta t=0.005$ (right). <div id=\"advec:1D:BE:fig:C08\"></div> -->\n",
    "<!-- begin figure -->\n",
    "<div id=\"advec:1D:BE:fig:C08\"></div>\n",
    "\n",
    "Backward-Euler in time, centered in space, half a cosine profile, $C=0.8$, $\\Delta t = 0.01$ (left) and $\\Delta t=0.005$ (right).\n",
    "<img src=\"fig-advec/cosinehat_BE_C08.png\" width=800>\n",
    "\n",
    "<!-- end figure -->\n",
    "\n",
    "\n",
    "<!-- dom:MOVIE: [https://raw.githubusercontent.com/hplgit/fdm-book/master/doc/pub/book/html/mov-advec/gaussian/CN/C08_dt0005/movie.ogg] Crank-Nicolson in time, centered in space, $C=0.8$, $\\Delta t = 0.005$. <div id=\"advec:1D:CN:mov:C08:dt2\"></div> -->\n",
    "<!-- begin movie -->"
   ]
  },
  {
   "cell_type": "code",
   "execution_count": 6,
   "metadata": {},
   "outputs": [
    {
     "data": {
      "text/html": [
       "\n",
       "<div>\n",
       "<video  loop controls width='640' height='365' preload='none'>\n",
       "    <source src='https://raw.githubusercontent.com/hplgit/fdm-book/master/doc/pub/book/html/mov-advec/gaussian/CN/C08_dt0005/movie.mp4'  type='video/mp4;  codecs=\"avc1.42E01E, mp4a.40.2\"'>\n",
       "    <source src='https://raw.githubusercontent.com/hplgit/fdm-book/master/doc/pub/book/html/mov-advec/gaussian/CN/C08_dt0005/movie.webm' type='video/webm; codecs=\"vp8, vorbis\"'>\n",
       "    <source src='https://raw.githubusercontent.com/hplgit/fdm-book/master/doc/pub/book/html/mov-advec/gaussian/CN/C08_dt0005/movie.ogg'  type='video/ogg;  codecs=\"theora, vorbis\"'>\n",
       "</video>\n",
       "</div>\n",
       "Crank-Nicolson in time, centered in space, $C=0.8$, $\\Delta t = 0.005$. <!-- \\label{advec:1D:CN:mov:C08:dt2} -->\n",
       "\n",
       "<!-- Issue warning if in a Safari browser -->\n",
       "<script language=\"javascript\">\n",
       "if (!!(window.safari)) {\n",
       "  document.write(\"<div style=\"width: 95%%; padding: 10px; border: 1px solid #100; border-radius: 4px;\"><p><font color=\"red\">The above movie will not play in Safari - use Chrome, Firefox, or Opera.</font></p></div>\")}\n",
       "</script>\n",
       "\n"
      ],
      "text/plain": [
       "<IPython.core.display.HTML object>"
      ]
     },
     "execution_count": 6,
     "metadata": {},
     "output_type": "execute_result"
    }
   ],
   "source": [
    "from IPython.display import HTML\n",
    "_s = \"\"\"\n",
    "<div>\n",
    "<video  loop controls width='640' height='365' preload='none'>\n",
    "    <source src='https://raw.githubusercontent.com/hplgit/fdm-book/master/doc/pub/book/html/mov-advec/gaussian/CN/C08_dt0005/movie.mp4'  type='video/mp4;  codecs=\"avc1.42E01E, mp4a.40.2\"'>\n",
    "    <source src='https://raw.githubusercontent.com/hplgit/fdm-book/master/doc/pub/book/html/mov-advec/gaussian/CN/C08_dt0005/movie.webm' type='video/webm; codecs=\"vp8, vorbis\"'>\n",
    "    <source src='https://raw.githubusercontent.com/hplgit/fdm-book/master/doc/pub/book/html/mov-advec/gaussian/CN/C08_dt0005/movie.ogg'  type='video/ogg;  codecs=\"theora, vorbis\"'>\n",
    "</video>\n",
    "</div>\n",
    "Crank-Nicolson in time, centered in space, $C=0.8$, $\\Delta t = 0.005$. <!-- \\label{advec:1D:CN:mov:C08:dt2} -->\n",
    "\n",
    "<!-- Issue warning if in a Safari browser -->\n",
    "<script language=\"javascript\">\n",
    "if (!!(window.safari)) {\n",
    "  document.write(\"<div style=\\\"width: 95%%; padding: 10px; border: 1px solid #100; border-radius: 4px;\\\"><p><font color=\\\"red\\\">The above movie will not play in Safari - use Chrome, Firefox, or Opera.</font></p></div>\")}\n",
    "</script>\n",
    "\n",
    "\"\"\"\n",
    "HTML(_s)"
   ]
  },
  {
   "cell_type": "markdown",
   "metadata": {},
   "source": [
    "<!-- end movie -->\n",
    "\n",
    "\n",
    "<!-- dom:MOVIE: [https://raw.githubusercontent.com/hplgit/fdm-book/master/doc/pub/book/html/mov-advec/cosinehat/BE/C_08_dt005.ogg] Backward-Euler in time, centered in space, $C=0.8$, $\\Delta t = 0.005$. <div id=\"advec:1D:BE:mov:C08:dt2\"></div> -->\n",
    "<!-- begin movie -->"
   ]
  },
  {
   "cell_type": "code",
   "execution_count": 7,
   "metadata": {},
   "outputs": [
    {
     "data": {
      "text/html": [
       "\n",
       "<div>\n",
       "<video  loop controls width='640' height='365' preload='none'>\n",
       "    <source src='https://raw.githubusercontent.com/hplgit/fdm-book/master/doc/pub/book/html/mov-advec/cosinehat/BE/C_08_dt005.mp4'  type='video/mp4;  codecs=\"avc1.42E01E, mp4a.40.2\"'>\n",
       "    <source src='https://raw.githubusercontent.com/hplgit/fdm-book/master/doc/pub/book/html/mov-advec/cosinehat/BE/C_08_dt005.webm' type='video/webm; codecs=\"vp8, vorbis\"'>\n",
       "    <source src='https://raw.githubusercontent.com/hplgit/fdm-book/master/doc/pub/book/html/mov-advec/cosinehat/BE/C_08_dt005.ogg'  type='video/ogg;  codecs=\"theora, vorbis\"'>\n",
       "</video>\n",
       "</div>\n",
       "Backward-Euler in time, centered in space, $C=0.8$, $\\Delta t = 0.005$. <!-- \\label{advec:1D:BE:mov:C08:dt2} -->\n",
       "\n",
       "<!-- Issue warning if in a Safari browser -->\n",
       "<script language=\"javascript\">\n",
       "if (!!(window.safari)) {\n",
       "  document.write(\"<div style=\"width: 95%%; padding: 10px; border: 1px solid #100; border-radius: 4px;\"><p><font color=\"red\">The above movie will not play in Safari - use Chrome, Firefox, or Opera.</font></p></div>\")}\n",
       "</script>\n",
       "\n"
      ],
      "text/plain": [
       "<IPython.core.display.HTML object>"
      ]
     },
     "execution_count": 7,
     "metadata": {},
     "output_type": "execute_result"
    }
   ],
   "source": [
    "_s = \"\"\"\n",
    "<div>\n",
    "<video  loop controls width='640' height='365' preload='none'>\n",
    "    <source src='https://raw.githubusercontent.com/hplgit/fdm-book/master/doc/pub/book/html/mov-advec/cosinehat/BE/C_08_dt005.mp4'  type='video/mp4;  codecs=\"avc1.42E01E, mp4a.40.2\"'>\n",
    "    <source src='https://raw.githubusercontent.com/hplgit/fdm-book/master/doc/pub/book/html/mov-advec/cosinehat/BE/C_08_dt005.webm' type='video/webm; codecs=\"vp8, vorbis\"'>\n",
    "    <source src='https://raw.githubusercontent.com/hplgit/fdm-book/master/doc/pub/book/html/mov-advec/cosinehat/BE/C_08_dt005.ogg'  type='video/ogg;  codecs=\"theora, vorbis\"'>\n",
    "</video>\n",
    "</div>\n",
    "Backward-Euler in time, centered in space, $C=0.8$, $\\Delta t = 0.005$. <!-- \\label{advec:1D:BE:mov:C08:dt2} -->\n",
    "\n",
    "<!-- Issue warning if in a Safari browser -->\n",
    "<script language=\"javascript\">\n",
    "if (!!(window.safari)) {\n",
    "  document.write(\"<div style=\\\"width: 95%%; padding: 10px; border: 1px solid #100; border-radius: 4px;\\\"><p><font color=\\\"red\\\">The above movie will not play in Safari - use Chrome, Firefox, or Opera.</font></p></div>\")}\n",
    "</script>\n",
    "\n",
    "\"\"\"\n",
    "HTML(_s)"
   ]
  },
  {
   "cell_type": "markdown",
   "metadata": {},
   "source": [
    "<!-- end movie -->\n",
    "\n",
    "\n",
    "[This figure](#advec:1D:CN:fig:C08) depicts a numerical solution for $C=0.8$\n",
    "and the Crank-Nicolson\n",
    "with severe oscillations behind the main wave. These oscillations are\n",
    "damped as the mesh is refined. Switching to the Backward Euler scheme\n",
    "removes the oscillations, but the amplitude is\n",
    "significantly reduced. One could expect that the discontinuous derivative\n",
    "in the initial condition of the half a cosine wave would make even\n",
    "stronger demands on producing a smooth profile, but [this figure](#advec:1D:BE:fig:C08) shows that also here, Backward-Euler is capable of producing a\n",
    "smooth profile. All in all, there are no major differences between the\n",
    "Gaussian initial condition and the half a cosine condition for any of\n",
    "the schemes.\n",
    "\n",
    "\n",
    "## The Lax-Wendroff method\n",
    "<div id=\"advec:1D:LaxW\"></div>\n",
    "\n",
    "The Lax-Wendroff method is based on three ideas:\n",
    "\n",
    "1. Express the new unknown $u^{n+1}_i$ in terms of known\n",
    "   quantities at $t=t_n$ by means of a Taylor polynomial of second degree.\n",
    "\n",
    "2. Replace time-derivatives at $t=t_n$ by spatial derivatives,\n",
    "   using the PDE.\n",
    "\n",
    "3. Discretize the spatial derivatives by second-order differences so we\n",
    "   achieve a scheme of accuracy $\\mathcal{O}{\\Delta t^2} + \\mathcal{O}{\\Delta x^2}$.\n",
    "\n",
    "Let us follow the recipe. First we have the three-term Taylor polynomial,"
   ]
  },
  {
   "cell_type": "markdown",
   "metadata": {},
   "source": [
    "$$\n",
    "u^{n+1}_i = u^n_i + \\Delta t\\left(\\frac{\\partial u}{\\partial t}\\right)^n_i\n",
    "+ \\frac{1}{2}\\Delta t^2\\left(\\frac{\\partial^2 u}{\\partial t^2}\\right)^n_i\\thinspace .\n",
    "$$"
   ]
  },
  {
   "cell_type": "markdown",
   "metadata": {},
   "source": [
    "From the PDE we have that temporal derivatives can be substituted by\n",
    "spatial derivatives:"
   ]
  },
  {
   "cell_type": "markdown",
   "metadata": {},
   "source": [
    "$$\n",
    "\\frac{\\partial u}{\\partial t} = -v\\frac{\\partial u}{\\partial x},\n",
    "$$"
   ]
  },
  {
   "cell_type": "markdown",
   "metadata": {},
   "source": [
    "and furthermore,"
   ]
  },
  {
   "cell_type": "markdown",
   "metadata": {},
   "source": [
    "$$\n",
    "\\frac{\\partial ^2 u}{\\partial t^2} = v^2\\frac{\\partial^2 u}{\\partial x^2}\\thinspace .\n",
    "$$"
   ]
  },
  {
   "cell_type": "markdown",
   "metadata": {},
   "source": [
    "Inserted in the Taylor polynomial formula, we get"
   ]
  },
  {
   "cell_type": "markdown",
   "metadata": {},
   "source": [
    "$$\n",
    "u^{n+1}_i = u^n_i -v \\Delta t\\left(\\frac{\\partial u}{\\partial x}\\right)^n_i\n",
    "+ \\frac{1}{2}\\Delta t^2 v^2\n",
    "\\left(\\frac{\\partial^2 u}{\\partial x^2}\\right)^n_i\\thinspace .\n",
    "$$"
   ]
  },
  {
   "cell_type": "markdown",
   "metadata": {},
   "source": [
    "To obtain second-order accuracy in space we now use central differences:"
   ]
  },
  {
   "cell_type": "markdown",
   "metadata": {},
   "source": [
    "$$\n",
    "u^{n+1}_i = u^n_i -v \\Delta t [D_{2x} u]^n_i\n",
    "+ \\frac{1}{2}\\Delta t^2 v^2 [D_xD_x u]^n_i,\n",
    "$$"
   ]
  },
  {
   "cell_type": "markdown",
   "metadata": {},
   "source": [
    "or written out,"
   ]
  },
  {
   "cell_type": "markdown",
   "metadata": {},
   "source": [
    "$$\n",
    "u^{n+1}_i = u^n_i - \\frac{1}{2} C (u^{n}_{i+1} - u^{n}_{i-1})\n",
    "+ \\frac{1}{2} C^2 (u^{n}_{i+1}-2u^n_i+u^n_{i-1})\\thinspace .\n",
    "$$"
   ]
  },
  {
   "cell_type": "markdown",
   "metadata": {},
   "source": [
    "This is the explicit Lax-Wendroff scheme.\n",
    "\n",
    "**Lax-Wendroff works because of artificial viscosity.**\n",
    "\n",
    "From the formulas above, we notice that the Lax-Wendroff method is nothing but\n",
    "a Forward Euler, central difference in space scheme, which we have shown\n",
    "to be useless because of chronic instability, plus an artificial\n",
    "diffusion term of strength $\\frac{1}{2}\\Delta t v^2$. It means that we can take\n",
    "an unstable scheme and add some diffusion to stabilize it. This is a common\n",
    "trick to deal with advection problems. Sometimes, the real physical diffusion\n",
    "is not sufficiently large to make schemes stable, so then we also add\n",
    "artificial diffusion.\n",
    "\n",
    "\n",
    "\n",
    "<!-- FIGURE: [fig-advec/gaussian_LW_C08, width=800 frac=1] Lax-Wendroff scheme, $C=0.8$, $\\Delta t = 0.01$ (left) and $\\Delta t=0.005$ (right). <div id=\"advec:1D:LW:fig:C08\"></div> -->\n",
    "\n",
    "<!-- MOVIE: [fig-advec/ -->\n",
    "\n",
    "From an analysis similar to the ones carried out above, we get an\n",
    "amplification factor for the Lax-Wendroff method that equals"
   ]
  },
  {
   "cell_type": "markdown",
   "metadata": {},
   "source": [
    "$$\n",
    "A = 1 - iC\\sin p - 2C^2\\sin^2 (p/2)\\thinspace .\n",
    "$$"
   ]
  },
  {
   "cell_type": "markdown",
   "metadata": {},
   "source": [
    "This means that $|A|=1$ and also that we have an exact solution if $C=1$!\n",
    "\n",
    "\n",
    "## Analysis of dispersion relations\n",
    "<div id=\"advec:1D:disprel\"></div>\n",
    "\n",
    "We have developed expressions for $A(C,p)$ in the exact solution\n",
    "$u_q^n=A^ne^{ikq\\Delta x}$ of the discrete equations. \n",
    "Note that the Fourier component that solves the original\n",
    "PDE problem has no damping and moves with constant velocity $v$. There\n",
    "are two basic errors in the numerical Fourier component: there may be\n",
    "damping and the wave velocity may depend on $C$ and $p=k\\Delta x$.\n",
    "\n",
    "The shortest wavelength that can be represented is $\\lambda = 2\\Delta x$.\n",
    "The corresponding $k$ is $k=2\\pi/\\lambda = \\pi/\\Delta x$, so $p=k\\Delta x\\in\n",
    "(0,\\pi]$.\n",
    "\n",
    "Given a complex $A$ as a function of $C$ and $p$, how can we visualize\n",
    "it? The two key ingredients in $A$ is the magnitude, reflecting damping or\n",
    "growth of the wave, and the angle, closely related to the\n",
    "velocity of the wave. The Fourier component"
   ]
  },
  {
   "cell_type": "markdown",
   "metadata": {},
   "source": [
    "$$\n",
    "D^n e^{ik(x-ct)}\n",
    "$$"
   ]
  },
  {
   "cell_type": "markdown",
   "metadata": {},
   "source": [
    "has damping $D$ and wave velocity $c$. Let us express our $A$ in\n",
    "polar form, $A = A_re^{-i\\phi}$, and insert this expression in\n",
    "our discrete component $u_q^n = A^ne^{ikq\\Delta x} = A^ne^{ikx}$:"
   ]
  },
  {
   "cell_type": "markdown",
   "metadata": {},
   "source": [
    "$$\n",
    "u^n_q = A_r^n e^{-i\\phi n} e^{ikx} = A_r^n e^{i(kx - n\\phi)} =\n",
    "A_r^ne^{i(k(x - ct))},\n",
    "$$"
   ]
  },
  {
   "cell_type": "markdown",
   "metadata": {},
   "source": [
    "for"
   ]
  },
  {
   "cell_type": "markdown",
   "metadata": {},
   "source": [
    "$$\n",
    "c = \\frac{\\phi}{k\\Delta t}\\thinspace .\n",
    "$$"
   ]
  },
  {
   "cell_type": "markdown",
   "metadata": {},
   "source": [
    "Now,"
   ]
  },
  {
   "cell_type": "markdown",
   "metadata": {},
   "source": [
    "$$\n",
    "k\\Delta t = \\frac{Ck\\Delta x}{v}=\\frac{Cp}{v},\n",
    "$$"
   ]
  },
  {
   "cell_type": "markdown",
   "metadata": {},
   "source": [
    "so"
   ]
  },
  {
   "cell_type": "markdown",
   "metadata": {},
   "source": [
    "$$\n",
    "c = \\frac{\\phi v}{Cp}\\thinspace .\n",
    "$$"
   ]
  },
  {
   "cell_type": "markdown",
   "metadata": {},
   "source": [
    "An appropriate dimensionless quantity to plot is the scaled wave velocity $c/v$:"
   ]
  },
  {
   "cell_type": "markdown",
   "metadata": {},
   "source": [
    "$$\n",
    "\\frac{c}{v} = \\frac{\\phi}{Cp}\\thinspace .\n",
    "$$"
   ]
  },
  {
   "cell_type": "markdown",
   "metadata": {},
   "source": [
    "Figures from [this](#advec:1D:disprel:C1:1) up to [this](#advec:1D:disprel:C05:2) contain\n",
    "dispersion curves, velocity and damping, for various values of $C$.\n",
    "The horizontal axis shows the dimensionless frequency $p$ of the wave,\n",
    "while the figures to the left illustrate the error in wave velocity $c/v$\n",
    "(should ideally be 1 for all $p$), and the figures to the right display\n",
    "the absolute value (magnitude) of the damping factor $A_r$.\n",
    "The curves are labeled according to the table below.\n",
    "\n",
    "<table border=\"1\">\n",
    "<thead>\n",
    "<tr><th align=\"center\">Label</th> <th align=\"center\">                       Method                       </th> </tr>\n",
    "</thead>\n",
    "<tbody>\n",
    "<tr><td align=\"left\">   FE       </td> <td align=\"left\">   Forward Euler in time, centered difference in space     </td> </tr>\n",
    "<tr><td align=\"left\">   LF       </td> <td align=\"left\">   Leapfrog in time, centered difference in space          </td> </tr>\n",
    "<tr><td align=\"left\">   UP       </td> <td align=\"left\">   Forward Euler in time, upwind difference in space       </td> </tr>\n",
    "<tr><td align=\"left\">   CN       </td> <td align=\"left\">   Crank-Nicolson in time, centered difference in space    </td> </tr>\n",
    "<tr><td align=\"left\">   LW       </td> <td align=\"left\">   Lax-Wendroff's method                                   </td> </tr>\n",
    "<tr><td align=\"left\">   BE       </td> <td align=\"left\">   Backward Euler in time, centered difference in space    </td> </tr>\n",
    "</tbody>\n",
    "</table>\n",
    "<!-- dom:FIGURE: [fig-advec/disprel_C1_LW_UP_LF.png, width=800 frac=1] Dispersion relations for $C=1$. <div id=\"advec:1D:disprel:C1:1\"></div> -->\n",
    "<!-- begin figure -->\n",
    "<div id=\"advec:1D:disprel:C1:1\"></div>\n",
    "\n",
    "Dispersion relations for $C=1$.\n",
    "<img src=\"fig-advec/disprel_C1_LW_UP_LF.png\" width=800>\n",
    "\n",
    "<!-- end figure -->\n",
    "\n",
    "\n",
    "<!-- dom:FIGURE: [fig-advec/disprel_C1_CN_BE_FE.png, width=800 frac=1] Dispersion relations for $C=1$. <div id=\"advec:1D:disprel:C1:2\"></div> -->\n",
    "<!-- begin figure -->\n",
    "<div id=\"advec:1D:disprel:C1:2\"></div>\n",
    "\n",
    "Dispersion relations for $C=1$.\n",
    "<img src=\"fig-advec/disprel_C1_CN_BE_FE.png\" width=800>\n",
    "\n",
    "<!-- end figure -->\n",
    "\n",
    "\n",
    "<!-- dom:FIGURE: [fig-advec/disprel_C0_8_LW_UP_LF.png, width=800 frac=1] Dispersion relations for $C=0.8$. <div id=\"advec:1D:disprel:C08:1\"></div> -->\n",
    "<!-- begin figure -->\n",
    "<div id=\"advec:1D:disprel:C08:1\"></div>\n",
    "\n",
    "Dispersion relations for $C=0.8$.\n",
    "<img src=\"fig-advec/disprel_C0_8_LW_UP_LF.png\" width=800>\n",
    "\n",
    "<!-- end figure -->\n",
    "\n",
    "\n",
    "<!-- dom:FIGURE: [fig-advec/disprel_C0_8_CN_BE_FE.png, width=800 frac=1] Dispersion relations for $C=0.8$. <div id=\"advec:1D:disprel:C08:2\"></div> -->\n",
    "<!-- begin figure -->\n",
    "<div id=\"advec:1D:disprel:C08:2\"></div>\n",
    "\n",
    "Dispersion relations for $C=0.8$.\n",
    "<img src=\"fig-advec/disprel_C0_8_CN_BE_FE.png\" width=800>\n",
    "\n",
    "<!-- end figure -->\n",
    "\n",
    "\n",
    "<!-- dom:FIGURE: [fig-advec/disprel_C0_5_LW_UP_LF.png, width=800 frac=1] Dispersion relations for $C=0.5$. <div id=\"advec:1D:disprel:C05:1\"></div> -->\n",
    "<!-- begin figure -->\n",
    "<div id=\"advec:1D:disprel:C05:1\"></div>\n",
    "\n",
    "Dispersion relations for $C=0.5$.\n",
    "<img src=\"fig-advec/disprel_C0_5_LW_UP_LF.png\" width=800>\n",
    "\n",
    "<!-- end figure -->\n",
    "\n",
    "\n",
    "<!-- dom:FIGURE: [fig-advec/disprel_C0_5_CN_BE_FE.png, width=800 frac=1] Dispersion relations for $C=0.5$. <div id=\"advec:1D:disprel:C05:2\"></div> -->\n",
    "<!-- begin figure -->\n",
    "<div id=\"advec:1D:disprel:C05:2\"></div>\n",
    "\n",
    "Dispersion relations for $C=0.5$.\n",
    "<img src=\"fig-advec/disprel_C0_5_CN_BE_FE.png\" width=800>\n",
    "\n",
    "<!-- end figure -->\n",
    "\n",
    "\n",
    "The total damping after some time $T=n\\Delta t$ is reflected by\n",
    "$A_r(C,p)^n$. Since normally $A_r<1$, the damping goes like\n",
    "$A_r^{1/\\Delta t}$ and approaches zero as $\\Delta t\\rightarrow 0$.\n",
    "The only way to reduce damping is to increase $C$ and/or the mesh resolution.\n",
    "\n",
    "We can learn a lot from the dispersion relation plots. For example,\n",
    "looking at the plots for $C=1$, the schemes LW, UP, and LF has no\n",
    "amplitude reduction, but LF has wrong phase velocity for the\n",
    "shortest wave in the mesh. This wave does not (normally) have enough\n",
    "amplitude to be seen, so for all practical purposes, there is no\n",
    "damping or wrong velocity of the individual waves, so the total shape\n",
    "of the wave is also correct. For the CN scheme, see [this figure](#advec:1D:CN:fig:C08), each individual wave has its amplitude, but\n",
    "they move with different velocities, so after a while, we see some of\n",
    "these waves lagging behind.  For the BE scheme, see [this figure](#advec:1D:BE:fig:C08), all the shorter waves are so heavily\n",
    "dampened that we cannot see them after a while. We see only the\n",
    "longest waves, which have slightly wrong velocity, but visible\n",
    "amplitudes are sufficiently equal to produce what looks like a smooth\n",
    "profile.\n",
    "\n",
    "Another feature was that the Leapfrog method produced oscillations,\n",
    "while the upwind scheme did not. Since the Leapfrog method does not\n",
    "dampen the shorter waves, which have wrong wave velocities of order 10\n",
    "percent, we can see these waves as noise. The upwind scheme, however,\n",
    "dampens these waves. The same effect is also present in the Lax-Wendroff\n",
    "scheme, but the damping of the intermediate waves is hardly present, so\n",
    "there is visible noise in the total signal.\n",
    "\n",
    "We realize that, compared to pure truncation error analysis, dispersion \n",
    "analysis sheds more light on the behavior of the computational schemes. \n",
    "Truncation analysis just says that Lax-Wendroff is\n",
    "better than upwind, because of the increased order in time, but\n",
    "most people would say upwind is the better one when looking at the plots.\n",
    "\n",
    "# One-dimensional stationary advection-diffusion equation\n",
    "<div id=\"advec:1D:stationary\"></div>\n",
    "\n",
    "\n",
    "Now we pay attention to a physical process where advection (or convection)\n",
    "is in balance with diffusion:"
   ]
  },
  {
   "cell_type": "markdown",
   "metadata": {},
   "source": [
    "<!-- Equation labels as ordinary links -->\n",
    "<div id=\"advec:1D:stat:pde1\"></div>\n",
    "\n",
    "$$\n",
    "\\begin{equation}\n",
    "v\\frac{du}{dx} = \\alpha\\frac{d^2 u}{dx^2}\\thinspace .\n",
    "\\label{advec:1D:stat:pde1} \\tag{11}\n",
    "\\end{equation}\n",
    "$$"
   ]
  },
  {
   "cell_type": "markdown",
   "metadata": {},
   "source": [
    "For simplicity, we assume $v$ and $\\alpha$ to be constant, but the extension to\n",
    "the variable-coefficient case is trivial.\n",
    "This equation can be viewed as the stationary limit of the corresponding\n",
    "time-dependent problem"
   ]
  },
  {
   "cell_type": "markdown",
   "metadata": {},
   "source": [
    "<!-- Equation labels as ordinary links -->\n",
    "<div id=\"advec:1D:stat:pde2\"></div>\n",
    "\n",
    "$$\n",
    "\\begin{equation}\n",
    "\\frac{\\partial u}{\\partial t} + v\\frac{\\partial u}{\\partial x} =\n",
    "\\alpha\\frac{\\partial^2 u}{\\partial x^2}\\thinspace .\n",
    "\\label{advec:1D:stat:pde2} \\tag{12}\n",
    "\\end{equation}\n",
    "$$"
   ]
  },
  {
   "cell_type": "markdown",
   "metadata": {},
   "source": [
    "Equations of the form ([11](#advec:1D:stat:pde1)) or\n",
    "([12](#advec:1D:stat:pde2)) arise from transport phenomena, either mass\n",
    "or heat transport. One can also view the equations as a simple model\n",
    "problem for the Navier-Stokes equations. With the chosen boundary\n",
    "conditions, the differential equation problem models the phenomenon of\n",
    "a *boundary layer*, where the solution changes rapidly very close to\n",
    "the boundary. This is a characteristic of many fluid flow problems, which\n",
    "makes strong demands to numerical methods. The fundamental numerical\n",
    "difficulty is related to non-physical oscillations of the solution\n",
    "(instability) if the first-derivative spatial term dominates over the\n",
    "second-derivative term.\n",
    "\n",
    "## A simple model problem\n",
    "<div id=\"advec:1D:stationary:model\"></div>\n",
    "\n",
    "We consider ([11](#advec:1D:stat:pde1)) on $[0,L]$ equipped with the\n",
    "boundary conditions $u(0)=U_0$, $u(L)=U_L$.  By scaling we can reduce the\n",
    "number of parameters in the problem. We scale $x$ by $\\bar x = x/L$,\n",
    "and $u$ by"
   ]
  },
  {
   "cell_type": "markdown",
   "metadata": {},
   "source": [
    "$$\n",
    "\\bar u = \\frac{u - U_0}{U_L-U_0}\\thinspace .\n",
    "$$"
   ]
  },
  {
   "cell_type": "markdown",
   "metadata": {},
   "source": [
    "Inserted in the governing equation we get"
   ]
  },
  {
   "cell_type": "markdown",
   "metadata": {},
   "source": [
    "$$\n",
    "\\frac{v(U_L-U_0)}{L}\\frac{d\\bar u}{d\\bar x} =\n",
    "\\frac{\\alpha(U_L-U_0)}{L^2}\\frac{d^2\\bar u}{d\\bar x^2},\\quad\n",
    "\\bar u(0)=0,\\ \\bar u(1)=1\\thinspace .\n",
    "$$"
   ]
  },
  {
   "cell_type": "markdown",
   "metadata": {},
   "source": [
    "Dropping the bars is common. We can then simplify to"
   ]
  },
  {
   "cell_type": "markdown",
   "metadata": {},
   "source": [
    "<!-- Equation labels as ordinary links -->\n",
    "<div id=\"advec:1D:stat:pde1s\"></div>\n",
    "\n",
    "$$\n",
    "\\begin{equation}\n",
    "\\frac{du}{dx} = \\epsilon\\frac{d^2 u}{d x^2},\\quad u(0)=0,\\ u(1)=1\\thinspace .\n",
    "\\label{advec:1D:stat:pde1s} \\tag{13}\n",
    "\\end{equation}\n",
    "$$"
   ]
  },
  {
   "cell_type": "markdown",
   "metadata": {},
   "source": [
    "There are two competing effects in this equation: the advection term\n",
    "transports signals to the right, while the diffusion term transports\n",
    "signals to the left and the right. The value $u(0)=0$ is transported\n",
    "through the domain if $\\epsilon$ is small, and $u\\approx 0$ except in\n",
    "the vicinity of $x=1$, where $u(1)=1$ and the diffusion transports\n",
    "some information about $u(1)=1$ to the left. For large $\\epsilon$,\n",
    "diffusion dominates and the $u$ takes on the \"average\" value, i.e.,\n",
    "$u$ gets a linear variation from 0 to 1 throughout the domain.\n",
    "\n",
    "It turns out that we can find an exact solution to the differential\n",
    "equation problem and also to many of its discretizations. This is one\n",
    "reason why this model problem has been so successful in designing and\n",
    "investigating numerical methods for mixed convection/advection and\n",
    "diffusion.  The exact solution reads"
   ]
  },
  {
   "cell_type": "markdown",
   "metadata": {},
   "source": [
    "$$\n",
    "u_\\text{e} (x) = \\frac{e^{x/\\epsilon} - 1}{e^{1/\\epsilon} - 1}\\thinspace .\n",
    "$$"
   ]
  },
  {
   "cell_type": "markdown",
   "metadata": {},
   "source": [
    "The forthcoming plots illustrate this function for various values of\n",
    "$\\epsilon$.\n",
    "\n",
    "## A centered finite difference scheme\n",
    "<div id=\"advec:1D:stationary:fdm\"></div>\n",
    "\n",
    "\n",
    "The most obvious idea to solve ([13](#advec:1D:stat:pde1s)) is to apply\n",
    "centered differences:"
   ]
  },
  {
   "cell_type": "markdown",
   "metadata": {},
   "source": [
    "$$\n",
    "[D_{2x} u = \\epsilon D_xD_x u]_i\n",
    "$$"
   ]
  },
  {
   "cell_type": "markdown",
   "metadata": {},
   "source": [
    "for $i=1,\\ldots,N_x-1$, with $u_0=0$ and $u_{N_x}=1$.\n",
    "Note that this is a coupled system of algebraic equations\n",
    "involving $u_0,\\ldots,u_{N_x}$.\n",
    "\n",
    "Written out, the scheme becomes a tridiagonal system"
   ]
  },
  {
   "cell_type": "markdown",
   "metadata": {},
   "source": [
    "$$\n",
    "A_{i-1,i}u_{i-1} + A_{i,i}u_i + A_{i+1.i}u_{i+1} = 0,\n",
    "$$"
   ]
  },
  {
   "cell_type": "markdown",
   "metadata": {},
   "source": [
    "for $i=1,\\ldots,N_x-1$"
   ]
  },
  {
   "cell_type": "markdown",
   "metadata": {},
   "source": [
    "$$\n",
    "\\begin{align*}\n",
    "A_{0,0} &= 1,\\\\\n",
    "A_{i-1,i} &= -\\frac{1}{\\Delta x} -\\epsilon\\frac{1}{\\Delta x^2},\\\\\n",
    "A_{i,i} &= 2\\epsilon\\frac{1}{\\Delta x^2},\\\\\n",
    "A_{i,i+1} &=  \\frac{1}{\\Delta x} -\\epsilon\\frac{1}{\\Delta x^2},\\\\\n",
    "A_{N_x,N_x} &= 1\\thinspace .\n",
    "\\end{align*}\n",
    "$$"
   ]
  },
  {
   "cell_type": "markdown",
   "metadata": {},
   "source": [
    "The right-hand side of the linear system is zero except $b_{N_x}=1$.\n",
    "\n",
    "[This figure](#advec:1D:stationary:fdm:fig1) shows reasonably accurate\n",
    "results with $N_x=20 $ and $N_x=40$ cells in $x$ direction and a value of\n",
    "$\\epsilon = 0.1$. Decreasing $\\epsilon$ to $0.01$ leads to oscillatory\n",
    "solutions as depicted in [this figure](#advec:1D:stationary:fdm:fig2).\n",
    "This is, unfortunately, a typical phenomenon in this type of problem:\n",
    "non-physical oscillations arise for small $\\epsilon$ unless the resolution\n",
    "$N_x$ is big enough. [Exercise 1: Analyze 1D stationary convection-diffusion problem](#advec:1D:stationary:exer:analysis1)\n",
    "develops a precise criterion: $u$ is oscillation-free if"
   ]
  },
  {
   "cell_type": "markdown",
   "metadata": {},
   "source": [
    "$$\n",
    "\\Delta x \\leq \\frac{2}{\\epsilon}\\thinspace .\n",
    "$$"
   ]
  },
  {
   "cell_type": "markdown",
   "metadata": {},
   "source": [
    "If we take the present model as a simplified model for a *viscous\n",
    "boundary layer* in real, industrial fluid flow applications,\n",
    "$\\epsilon\\sim 10^{-6}$\n",
    "and millions of cells are required to resolve the boundary layer.\n",
    "Fortunately, this is not strictly necessary as we have methods in\n",
    "the next section to overcome the problem!\n",
    "\n",
    "<!-- dom:FIGURE: [fig-advec/twopt_BVP_cen_01.png, width=800 frac=1] Comparison of exact and numerical solution for $\\epsilon =0.1$ and $N_x=20,40$ with centered differences. <div id=\"advec:1D:stationary:fdm:fig1\"></div> -->\n",
    "<!-- begin figure -->\n",
    "<div id=\"advec:1D:stationary:fdm:fig1\"></div>\n",
    "\n",
    "Comparison of exact and numerical solution for $\\epsilon =0.1$ and $N_x=20,40$ with centered differences.\n",
    "<img src=\"fig-advec/twopt_BVP_cen_01.png\" width=800>\n",
    "\n",
    "<!-- end figure -->\n",
    "\n",
    "\n",
    "<!-- dom:FIGURE: [fig-advec/twopt_BVP_cen_001.png, width=800 frac=1] Comparison of exact and numerical solution for $\\epsilon =0.01$ and $N_x=20,40$ with centered differences. <div id=\"advec:1D:stationary:fdm:fig2\"></div> -->\n",
    "<!-- begin figure -->\n",
    "<div id=\"advec:1D:stationary:fdm:fig2\"></div>\n",
    "\n",
    "Comparison of exact and numerical solution for $\\epsilon =0.01$ and $N_x=20,40$ with centered differences.\n",
    "<img src=\"fig-advec/twopt_BVP_cen_001.png\" width=800>\n",
    "\n",
    "<!-- end figure -->\n",
    "\n",
    "\n",
    "**Solver.**\n",
    "\n",
    "A suitable solver for doing the experiments is presented below."
   ]
  },
  {
   "cell_type": "code",
   "execution_count": 8,
   "metadata": {},
   "outputs": [],
   "source": [
    "# TODO: IMPLEMENT THIS IN DEVITO\n",
    "import numpy as np\n",
    "\n",
    "def solver(eps, Nx, method='centered'):\n",
    "    \"\"\"\n",
    "    Solver for the two point boundary value problem u'=eps*u'',\n",
    "    u(0)=0, u(1)=1.\n",
    "    \"\"\"\n",
    "    x = np.linspace(0, 1, Nx+1)       # Mesh points in space\n",
    "    # Make sure dx and dt are compatible with x and t\n",
    "    dx = x[1] - x[0]\n",
    "    u   = np.zeros(Nx+1)\n",
    "\n",
    "    # Representation of sparse matrix and right-hand side\n",
    "    diagonal = np.zeros(Nx+1)\n",
    "    lower    = np.zeros(Nx)\n",
    "    upper    = np.zeros(Nx)\n",
    "    b        = np.zeros(Nx+1)\n",
    "\n",
    "    # Precompute sparse matrix (scipy format)\n",
    "    if method == 'centered':\n",
    "        diagonal[:] = 2*eps/dx**2\n",
    "        lower[:] = -1/dx - eps/dx**2\n",
    "        upper[:] =  1/dx - eps/dx**2\n",
    "    elif method == 'upwind':\n",
    "        diagonal[:] = 1/dx + 2*eps/dx**2\n",
    "        lower[:] =  1/dx - eps/dx**2\n",
    "        upper[:] = - eps/dx**2\n",
    "\n",
    "    # Insert boundary conditions\n",
    "    upper[0] = 0\n",
    "    lower[-1] = 0\n",
    "    diagonal[0] = diagonal[-1] = 1\n",
    "    b[-1] = 1.0\n",
    "\n",
    "    # Set up sparse matrix and solve\n",
    "    diags = [0, -1, 1]\n",
    "    import scipy.sparse\n",
    "    import scipy.sparse.linalg\n",
    "    A = scipy.sparse.diags(\n",
    "        diagonals=[diagonal, lower, upper],\n",
    "        offsets=[0, -1, 1], shape=(Nx+1, Nx+1),\n",
    "        format='csr')\n",
    "    u[:] = scipy.sparse.linalg.spsolve(A, b)\n",
    "    return u, x"
   ]
  },
  {
   "cell_type": "markdown",
   "metadata": {},
   "source": [
    "## Remedy: upwind finite difference scheme\n",
    "<div id=\"advec:1D:stationary:upwind\"></div>\n",
    "\n",
    "The scheme can be stabilized by letting the advective transport term, which\n",
    "is the dominating term, collect its information in the flow direction, i.e.,\n",
    "upstream or upwind of the point in question. So, instead of using a\n",
    "centered difference"
   ]
  },
  {
   "cell_type": "markdown",
   "metadata": {},
   "source": [
    "$$\n",
    "\\frac{du}{dx}_i\\approx \\frac{u_{i+1}-u_{i-1}}{2\\Delta x},\n",
    "$$"
   ]
  },
  {
   "cell_type": "markdown",
   "metadata": {},
   "source": [
    "we use the one-sided *upwind* difference"
   ]
  },
  {
   "cell_type": "markdown",
   "metadata": {},
   "source": [
    "$$\n",
    "\\frac{du}{dx}_i\\approx \\frac{u_{i}-u_{i-1}}{\\Delta x},\n",
    "$$"
   ]
  },
  {
   "cell_type": "markdown",
   "metadata": {},
   "source": [
    "in case $v>0$. For $v<0$ we set"
   ]
  },
  {
   "cell_type": "markdown",
   "metadata": {},
   "source": [
    "$$\n",
    "\\frac{du}{dx}_i\\approx \\frac{u_{i+1}-u_{i}}{\\Delta x},\n",
    "$$"
   ]
  },
  {
   "cell_type": "markdown",
   "metadata": {},
   "source": [
    "On compact operator notation form, our upwind scheme can be expressed\n",
    "as"
   ]
  },
  {
   "cell_type": "markdown",
   "metadata": {},
   "source": [
    "$$\n",
    "[D^-_x u = \\epsilon D_xD_x u]_i\n",
    "$$"
   ]
  },
  {
   "cell_type": "markdown",
   "metadata": {},
   "source": [
    "provided $v>0$ (and $\\epsilon > 0$).\n",
    "\n",
    "We write out the equations and implement them as shown in the program\n",
    "in the section [A centered finite difference scheme](#advec:1D:stationary:fdm). The results appear in [this figure](#advec:1D:stationary:upwind:fig1) and\n",
    "[this figure](#advec:1D:stationary:upwind:fig2): no more oscillations!\n",
    "\n",
    "<!-- dom:FIGURE: [fig-advec/twopt_BVP_upw_01.png, width=800 frac=1] Comparison of exact and numerical solution for $\\epsilon =0.1$ and $N_x=20,40$ with upwind difference. <div id=\"advec:1D:stationary:upwind:fig1\"></div> -->\n",
    "<!-- begin figure -->\n",
    "<div id=\"advec:1D:stationary:upwind:fig1\"></div>\n",
    "\n",
    "Comparison of exact and numerical solution for $\\epsilon =0.1$ and $N_x=20,40$ with upwind difference.\n",
    "<img src=\"fig-advec/twopt_BVP_upw_01.png\" width=800>\n",
    "\n",
    "<!-- end figure -->\n",
    "\n",
    "\n",
    "<!-- dom:FIGURE: [fig-advec/twopt_BVP_upw_001.png, width=800 frac=1] Comparison of exact and numerical solution for $\\epsilon =0.01$ and $N_x=20,40$ with upwind difference. <div id=\"advec:1D:stationary:upwind:fig2\"></div> -->\n",
    "<!-- begin figure -->\n",
    "<div id=\"advec:1D:stationary:upwind:fig2\"></div>\n",
    "\n",
    "Comparison of exact and numerical solution for $\\epsilon =0.01$ and $N_x=20,40$ with upwind difference.\n",
    "<img src=\"fig-advec/twopt_BVP_upw_001.png\" width=800>\n",
    "\n",
    "<!-- end figure -->\n",
    "\n",
    "\n",
    "We see that the upwind scheme is always stable, but it gives a thicker\n",
    "boundary layer when the centered scheme is also stable.\n",
    "Why the upwind scheme is always stable is easy to understand as\n",
    "soon as we undertake the mathematical analysis in\n",
    "[Exercise 1: Analyze 1D stationary convection-diffusion problem](#advec:1D:stationary:exer:analysis1).\n",
    "Moreover, the thicker layer (seemingly larger diffusion) can be\n",
    "understood by doing\n",
    "[Exercise 2: Interpret upwind difference as artificial diffusion](#advec:1D:stationary:exer:analysis2).\n",
    "\n",
    "**Exact solution for this model problem.**\n",
    "\n",
    "It turns out that one can introduce a linear combination of the centered\n",
    "and upwind differences for the first-derivative term in this model\n",
    "problem. One can then adjust the weight in the linear combination so that\n",
    "the numerical solution becomes identical to the analytical solution of\n",
    "the differential equation problem at any mesh point.\n",
    "<!-- This approach cannot be generalized to more complicated problems. -->\n",
    "\n",
    "\n",
    "\n",
    "# Time-dependent convection-diffusion equations\n",
    "\n",
    "Now it is time to combine time-dependency, convection (advection) and\n",
    "diffusion into one equation:"
   ]
  },
  {
   "cell_type": "markdown",
   "metadata": {},
   "source": [
    "<!-- Equation labels as ordinary links -->\n",
    "<div id=\"advec:1D:stat:pde3\"></div>\n",
    "\n",
    "$$\n",
    "\\begin{equation}\n",
    "\\frac{\\partial u}{\\partial t} + v\\frac{\\partial u}{\\partial x} =\n",
    "\\alpha\\frac{\\partial^2 u}{\\partial x^2}\\thinspace .\n",
    "\\label{advec:1D:stat:pde3} \\tag{14}\n",
    "\\end{equation}\n",
    "$$"
   ]
  },
  {
   "cell_type": "markdown",
   "metadata": {},
   "source": [
    "### Analytical insight\n",
    "\n",
    "The diffusion is now dominated by convection, a wave, and diffusion, a loss\n",
    "of amplitude. One possible analytical solution is a traveling Gaussian\n",
    "function"
   ]
  },
  {
   "cell_type": "markdown",
   "metadata": {},
   "source": [
    "$$\n",
    "u(x,t) = B\\exp{\\left(-\\left(\\frac{x - vt}{4at}\\right)\\right)}\\thinspace .\n",
    "$$"
   ]
  },
  {
   "cell_type": "markdown",
   "metadata": {},
   "source": [
    "This function moves with velocity $v>0$ to the right\n",
    "($v<0$ to the left) due to convection, but at the same time we have a damping\n",
    "$e^{-16a^2t^2}$ from diffusion.\n",
    "\n",
    "## Forward in time, centered in space scheme\n",
    "\n",
    "The Forward Euler for the diffusion equation is a successful scheme, but it\n",
    "has a very strict stability condition. The similar Forward in time, centered\n",
    "in space strategy always gives unstable solutions for the advection PDE.\n",
    "What happens when we have both diffusion and advection present at once?"
   ]
  },
  {
   "cell_type": "markdown",
   "metadata": {},
   "source": [
    "$$\n",
    "[D_t u + vD_{2x} u = \\alpha D_xD_x u + f]_i^n\\thinspace .\n",
    "$$"
   ]
  },
  {
   "cell_type": "markdown",
   "metadata": {},
   "source": [
    "We expect that diffusion will stabilize the scheme, but that advection will\n",
    "destabilize it.\n",
    "\n",
    "Another problem is non-physical oscillations, but not growing amplitudes,\n",
    "due to centered differences in the advection term. There will hence be\n",
    "two types of instabilities to consider.\n",
    "Our analysis showed that pure advection with centered\n",
    "differences in space needs some artificial diffusion to become stable\n",
    "(and then it produces upwind differences for the advection term).\n",
    "Adding more physical diffusion should further help the numerics to stabilize\n",
    "the non-physical oscillations.\n",
    "\n",
    "The scheme is quickly implemented, but suffers from the need for small\n",
    "space and time steps, according to this reasoning. A better approach is\n",
    "to get rid of the non-physical oscillations in space by simply applying\n",
    "an upwind difference on the advection term.\n",
    "\n",
    "## Forward in time, upwind in space scheme\n",
    "\n",
    "A good approximation for the pure advection equation is to use upwind\n",
    "discretization of the advection term. We also know that centered differences\n",
    "are good for the diffusion term, so let us combine these two discretizations:"
   ]
  },
  {
   "cell_type": "markdown",
   "metadata": {},
   "source": [
    "<!-- Equation labels as ordinary links -->\n",
    "<div id=\"_auto2\"></div>\n",
    "\n",
    "$$\n",
    "\\begin{equation}\n",
    "[D_t u + vD^-_{x} u = \\alpha D_xD_x u + f]_i^n,\n",
    "\\label{_auto2} \\tag{15}\n",
    "\\end{equation}\n",
    "$$"
   ]
  },
  {
   "cell_type": "markdown",
   "metadata": {},
   "source": [
    "for $v>0$. Use $vD^+ u$ if $v<0$.\n",
    "In this case the physical diffusion and the extra numerical diffusion\n",
    "$v\\Delta x/2$ will stabilize the solution, but give an overall too large\n",
    "reduction in amplitude compared with the exact solution.\n",
    "\n",
    "We may also interpret the upwind difference as artificial numerical diffusion\n",
    "and centered differences in space everywhere, so the scheme can be expressed as"
   ]
  },
  {
   "cell_type": "markdown",
   "metadata": {},
   "source": [
    "<!-- Equation labels as ordinary links -->\n",
    "<div id=\"_auto3\"></div>\n",
    "\n",
    "$$\n",
    "\\begin{equation}\n",
    "[D_t u + vD^-_{2x} u = \\alpha \\frac{v\\Delta x}{2} D_xD_x u + f]_i^n\\thinspace .\n",
    "\\label{_auto3} \\tag{16}\n",
    "\\end{equation}\n",
    "$$"
   ]
  },
  {
   "cell_type": "markdown",
   "metadata": {},
   "source": [
    "# Applications of advection equations\n",
    "<div id=\"advec:app\"></div>\n",
    "\n",
    "There are two major areas where advection and convection applications arise:\n",
    "transport of a substance and heat transport *in a fluid*.\n",
    "To derive the models, we may look at the similar derivations of\n",
    "diffusion models in the [Applications](../03_diffu/diffu_app.ipynb) section of the Diffusion equations chapter,\n",
    "but change the assumption from a solid to fluid medium.\n",
    "This gives rise to the extra advection or convection term $\\boldsymbol{v}\\cdot\\nabla u$.\n",
    "We briefly show how this is done.\n",
    "\n",
    "Normally, transport in a fluid is dominated by the fluid flow and not\n",
    "diffusion, so we can neglect diffusion compared to advection or convection.\n",
    "The end result is anyway an equation of the form"
   ]
  },
  {
   "cell_type": "markdown",
   "metadata": {},
   "source": [
    "$$\n",
    "\\frac{\\partial u}{\\partial t} + \\boldsymbol{v}\\cdot\\nabla u = 0\\thinspace .\n",
    "$$"
   ]
  },
  {
   "cell_type": "markdown",
   "metadata": {},
   "source": [
    "## Transport of a substance\n",
    "<div id=\"advec:app:mass\"></div>\n",
    "\n",
    "The diffusion of a substance in the section [Diffusion of a substance](../03_diffu/diffu_app.ipynb#diffu:app:substance) takes place\n",
    "in a solid medium, but in a fluid we can have two transport mechanisms:\n",
    "one by diffusion and one by advection.\n",
    "The latter arises from the fact\n",
    "that the substance particles are moved with the fluid velocity $\\boldsymbol{v}$ such that\n",
    "the effective flux now consists of two and not only one component as in\n",
    "[this equation](../03_diffu/diffu_app.ipynb#diffu:app:substance:Fick):"
   ]
  },
  {
   "cell_type": "markdown",
   "metadata": {},
   "source": [
    "$$\n",
    "\\boldsymbol{q} = -\\alpha\\nabla c + \\boldsymbol{v}_\\xi\\thinspace .\n",
    "$$"
   ]
  },
  {
   "cell_type": "markdown",
   "metadata": {},
   "source": [
    "Inserted in the equation $\\nabla\\cdot\\boldsymbol{q} = 0$ we get the extra advection\n",
    "term $\\nabla\\cdot (\\boldsymbol{v}_\\xi)$. Very often we deal with incompressible flows,\n",
    "$\\nabla\\cdot\\boldsymbol{v} = 0$ such that the advective term becomes $\\boldsymbol{v}\\cdot\\nabla c$.\n",
    "The mass transport equation for a substance then reads"
   ]
  },
  {
   "cell_type": "markdown",
   "metadata": {},
   "source": [
    "<!-- Equation labels as ordinary links -->\n",
    "<div id=\"_auto4\"></div>\n",
    "\n",
    "$$\n",
    "\\begin{equation}\n",
    "\\frac{\\partial c}{\\partial t} + \\boldsymbol{v}\\cdot\\nabla c = \\alpha\\nabla^2 c\\thinspace .\n",
    "\\label{_auto4} \\tag{17}\n",
    "\\end{equation}\n",
    "$$"
   ]
  },
  {
   "cell_type": "markdown",
   "metadata": {},
   "source": [
    "## Transport of heat in fluids\n",
    "<div id=\"advec:app:heat\"></div>\n",
    "\n",
    "\n",
    "The derivation of the heat equation in the section [Heat conduction](../03_diffu/diffu_app.ipynb#diffu:app:heat) is limited\n",
    "to heat transport in solid bodies. If we turn the attention to heat transport\n",
    "in fluids, we get a material derivative of the internal energy in\n",
    "[this equation](../03_diffu/diffu_app.ipynb#diffu:app:heat:PDE1),"
   ]
  },
  {
   "cell_type": "markdown",
   "metadata": {},
   "source": [
    "$$\n",
    "\\frac{De}{dt} = - \\nabla\\cdot\\boldsymbol{q},\n",
    "$$"
   ]
  },
  {
   "cell_type": "markdown",
   "metadata": {},
   "source": [
    "and more terms if work by stresses is also included, where"
   ]
  },
  {
   "cell_type": "markdown",
   "metadata": {},
   "source": [
    "$$\n",
    "\\frac{De}{dt} = \\frac{\\partial e}{\\partial t} + \\boldsymbol{v}\\cdot\\nabla e,\n",
    "$$"
   ]
  },
  {
   "cell_type": "markdown",
   "metadata": {},
   "source": [
    "$\\boldsymbol{v}$ being the velocity of the fluid. The convective term\n",
    "$\\boldsymbol{v}\\cdot\\nabla e$ must therefore be added to the governing equation,\n",
    "resulting typically in"
   ]
  },
  {
   "cell_type": "markdown",
   "metadata": {},
   "source": [
    "<!-- Equation labels as ordinary links -->\n",
    "<div id=\"advec:app:heat:PDE\"></div>\n",
    "\n",
    "$$\n",
    "\\begin{equation}\n",
    "\\varrho c\\left(\\frac{\\partial T}{\\partial t} + \\boldsymbol{v}\\cdot\\nabla T\\right)\n",
    "= \\nabla\\cdot(k\\nabla T) + f,\n",
    "\\label{advec:app:heat:PDE} \\tag{18}\n",
    "\\end{equation}\n",
    "$$"
   ]
  },
  {
   "cell_type": "markdown",
   "metadata": {},
   "source": [
    "where $f$ is some external heating inside the medium.\n",
    "\n",
    "# Exercises\n",
    "\n",
    "\n",
    "\n",
    "<!-- --- begin exercise --- -->\n",
    "\n",
    "## Exercise 1: Analyze 1D stationary convection-diffusion problem\n",
    "<div id=\"advec:1D:stationary:exer:analysis1\"></div>\n",
    "\n",
    "Explain the observations in the numerical experiments from the sections [A centered finite difference scheme](#advec:1D:stationary:fdm) and [Remedy: upwind finite difference scheme](#advec:1D:stationary:upwind) by\n",
    "finding exact numerical solutions.\n",
    "\n",
    "<!-- --- begin hint in exercise --- -->\n",
    "\n",
    "**Hint.**\n",
    "The difference equations allow solutions on the form $A^i$, where\n",
    "$A$ is an unknown constant and $i$ is a mesh point counter.\n",
    "There are two solutions for $A$, so the general solution is a linear\n",
    "combination of the two, where the constants in the linear combination\n",
    "are determined from the boundary conditions.\n",
    "\n",
    "<!-- --- end hint in exercise --- -->\n",
    "Filename: `twopt_BVP_analysis1`.\n",
    "\n",
    "<!-- --- end exercise --- -->\n",
    "\n",
    "\n",
    "\n",
    "\n",
    "<!-- --- begin exercise --- -->\n",
    "\n",
    "## Exercise 2: Interpret upwind difference as artificial diffusion\n",
    "<div id=\"advec:1D:stationary:exer:analysis2\"></div>\n",
    "\n",
    "Consider an upwind, one-sided difference approximation to\n",
    "a term $du/dx$ in a differential equation. Show that this\n",
    "formula can be expressed as a centered difference plus an artificial\n",
    "diffusion term of strength proportional to $\\Delta x$.\n",
    "This means that introducing an upwind difference also means introducing\n",
    "extra diffusion of order $\\mathcal{O}{\\Delta x}$.\n",
    "Filename: `twopt_BVP_analysis2`.\n",
    "\n",
    "<!-- --- end exercise --- -->"
   ]
  }
 ],
 "metadata": {
  "cite2c": {
   "citations": {
    "8023556/J9FF4ZJM": {
     "author": [
      {
       "family": "Fletcher",
       "given": "C. A. J."
      }
     ],
     "edition": "second",
     "id": "8023556/J9FF4ZJM",
     "issued": {
      "year": 2013
     },
     "publisher": "Springer",
     "title": "Computational Techniques for Fluid Dynamics, Vol. 1: Fundamental and General Techniques",
     "type": "book"
    },
    "8023556/KKSJA3CM": {
     "author": [
      {
       "family": "Duran",
       "given": "D."
      }
     ],
     "edition": "second",
     "id": "8023556/KKSJA3CM",
     "issued": {
      "year": 2010
     },
     "publisher": "Springer",
     "title": "Numerical Methods for Fluid Dynamics - With Applications to Geophysics",
     "type": "book"
    }
   }
  },
  "kernelspec": {
   "display_name": "Devito",
   "language": "python",
   "name": "devito"
  },
  "language_info": {
   "codemirror_mode": {
    "name": "ipython",
    "version": 3
   },
   "file_extension": ".py",
   "mimetype": "text/x-python",
   "name": "python",
   "nbconvert_exporter": "python",
   "pygments_lexer": "ipython3",
   "version": "3.10.6"
  }
 },
 "nbformat": 4,
 "nbformat_minor": 4
}
