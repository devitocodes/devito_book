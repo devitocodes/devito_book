{
 "cells": [
  {
   "cell_type": "markdown",
   "metadata": {},
   "source": [
    "## Spherically symmetric waves\n",
    "\n",
    "Spherically symmetric three-dimensional\n",
    "waves propagate in the radial direction $r$ only so that\n",
    "$u = u(r,t)$. The fully three-dimensional wave equation"
   ]
  },
  {
   "cell_type": "markdown",
   "metadata": {},
   "source": [
    "$$\n",
    "\\frac{\\partial^2u}{\\partial t^2}=\\nabla\\cdot (c^2\\nabla u) + f\n",
    "$$"
   ]
  },
  {
   "cell_type": "markdown",
   "metadata": {},
   "source": [
    "then reduces to the spherically symmetric wave equation"
   ]
  },
  {
   "cell_type": "markdown",
   "metadata": {},
   "source": [
    "<!-- Equation labels as ordinary links -->\n",
    "<div id=\"_auto1\"></div>\n",
    "\n",
    "$$\n",
    "\\begin{equation}\n",
    "\\frac{\\partial^2u}{\\partial t^2}=\\frac{1}{r^2}\\frac{\\partial}{\\partial r}\n",
    "\\left(c^2(r)r^2\\frac{\\partial u}{\\partial t}\\right)\n",
    "+ f(r),\\quad r\\in (0,R),\\ t>0\n",
    "\\tp \n",
    "\\label{_auto1} \\tag{1}\n",
    "\\end{equation}\n",
    "$$"
   ]
  },
  {
   "cell_type": "markdown",
   "metadata": {},
   "source": [
    "Assume that the wave velocity $c$ is constant. One can easily show\n",
    "that the function $v(r,t) = ru(r,t)$ fulfills a standard wave equation\n",
    "in Cartesian coordinates. To this end, insert $u=v/r$ in"
   ]
  },
  {
   "cell_type": "markdown",
   "metadata": {},
   "source": [
    "$$\n",
    "\\frac{1}{r^2}\\frac{\\partial}{\\partial r}\n",
    "\\left(c^2(r)r^2\\frac{\\partial u}{\\partial t}\\right)\n",
    "$$"
   ]
  },
  {
   "cell_type": "markdown",
   "metadata": {},
   "source": [
    "to obtain"
   ]
  },
  {
   "cell_type": "markdown",
   "metadata": {},
   "source": [
    "$$\n",
    "r\\left(\\frac{d c^2}{dr}\\frac{\\partial v}{\\partial r} +\n",
    "c^2\\frac{\\partial^2 v}{\\partial r^2}\\right) - \\frac{d c^2}{dr}v\n",
    "\\tp\n",
    "$$"
   ]
  },
  {
   "cell_type": "markdown",
   "metadata": {},
   "source": [
    "The two terms in the parenthesis can be combined to"
   ]
  },
  {
   "cell_type": "markdown",
   "metadata": {},
   "source": [
    "$$\n",
    "r\\frac{\\partial}{\\partial r}\\left( c^2\\frac{\\partial v}{\\partial r}\\right),\n",
    "$$"
   ]
  },
  {
   "cell_type": "markdown",
   "metadata": {},
   "source": [
    "which is recognized as the variable-coefficient Laplace operator in\n",
    "one Cartesian coordinate. The spherically symmetric wave equation in\n",
    "terms of $v(r,t)$ now becomes"
   ]
  },
  {
   "cell_type": "markdown",
   "metadata": {},
   "source": [
    "<!-- Equation labels as ordinary links -->\n",
    "<div id=\"_auto2\"></div>\n",
    "\n",
    "$$\n",
    "\\begin{equation}\n",
    "\\frac{\\partial^2u}{\\partial t^2}=\n",
    "\\frac{\\partial}{\\partial r}\n",
    "\\left(c^2(r)\\frac{\\partial v}{\\partial t}\n",
    "-\\frac{1}{r}\\frac{d c^2}{dr}v\\right) + rf(r),\\quad r\\in (0,R),\\ t>0\n",
    "\\tp \n",
    "\\label{_auto2} \\tag{2}\n",
    "\\end{equation}\n",
    "$$"
   ]
  },
  {
   "cell_type": "markdown",
   "metadata": {},
   "source": [
    "In the case of constant wave velocity $c$, this equation reduces to\n",
    "the wave equation in a single Cartesian coordinate:"
   ]
  },
  {
   "cell_type": "markdown",
   "metadata": {},
   "source": [
    "<!-- Equation labels as ordinary links -->\n",
    "<div id=\"wave:app:rsymm:Cart\"></div>\n",
    "\n",
    "$$\n",
    "\\begin{equation}\n",
    "\\frac{\\partial^2u}{\\partial t^2}=\n",
    "\\frac{\\partial}{\\partial r}\n",
    "\\left(c^2(r)\\frac{\\partial v}{\\partial t}\\right)\n",
    "+ rf(r),\\quad r\\in (0,R),\\ t>0\n",
    "\\tp \n",
    "\\label{wave:app:rsymm:Cart} \\tag{3}\n",
    "\\end{equation}\n",
    "$$"
   ]
  },
  {
   "cell_type": "markdown",
   "metadata": {},
   "source": [
    "That is, any program for solving the one-dimensional wave equation\n",
    "in a Cartesian coordinate system can be used to\n",
    "solve ([3](#wave:app:rsymm:Cart)), provided the source term is\n",
    "multiplied by the coordinate. Moreover, if $r=0$ is included in the\n",
    "domain, spherical symmetry demands that $\\partial u/\\partial r=0$ at\n",
    "$r=0$, which means that"
   ]
  },
  {
   "cell_type": "markdown",
   "metadata": {},
   "source": [
    "$$\n",
    "\\frac{\\partial u}{\\partial r} = \\frac{1}{r^2}\\left(\n",
    "r\\frac{\\partial v}{\\partial r} - v\\right) = 0,\\quad r=0,\n",
    "$$"
   ]
  },
  {
   "cell_type": "markdown",
   "metadata": {},
   "source": [
    "implying $v(0,t)=0$ as a necessary condition. For practical applications,\n",
    "we exclude $r=0$ from the domain and assume that some boundary\n",
    "condition is assigned at $r=\\epsilon$, for some $\\epsilon >0$."
   ]
  }
 ],
 "metadata": {},
 "nbformat": 4,
 "nbformat_minor": 4
}
