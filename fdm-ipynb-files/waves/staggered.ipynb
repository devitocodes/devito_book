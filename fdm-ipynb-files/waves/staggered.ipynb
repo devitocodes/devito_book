{
 "cells": [
  {
   "cell_type": "markdown",
   "metadata": {},
   "source": [
    "# Ordinary differential equations\n",
    "\n",
    "## The Euler-Cromer scheme on a standard mesh\n",
    "\n",
    "Consider the fundamental model problem for simple harmonic oscillations,"
   ]
  },
  {
   "cell_type": "markdown",
   "metadata": {},
   "source": [
    "<!-- Equation labels as ordinary links -->\n",
    "<div id=\"stag:vib:ODE2nd\"></div>\n",
    "\n",
    "$$\n",
    "\\begin{equation}\n",
    "u'' + \\omega^2u = 0,\\quad u(0)=I,\\ u'(0)=0,\n",
    "\\label{stag:vib:ODE2nd} \\tag{1}\n",
    "\\end{equation}\n",
    "$$"
   ]
  },
  {
   "cell_type": "markdown",
   "metadata": {},
   "source": [
    "where $\\omega$ is the frequency of the oscillations (the exact solution\n",
    "is $u(t)=I\\cos\\omega t$). This model can equivalently be\n",
    "formulated as two first-order equations,"
   ]
  },
  {
   "cell_type": "markdown",
   "metadata": {},
   "source": [
    "<!-- Equation labels as ordinary links -->\n",
    "<div id=\"stag:vib:EulerCromer:veq\"></div>\n",
    "\n",
    "$$\n",
    "\\begin{equation}\n",
    "v' = -\\omega^2 u,\n",
    "\\label{stag:vib:EulerCromer:veq} \\tag{2} \n",
    "\\end{equation}\n",
    "$$"
   ]
  },
  {
   "cell_type": "markdown",
   "metadata": {},
   "source": [
    "<!-- Equation labels as ordinary links -->\n",
    "<div id=\"stag:vib:EulerCromer:ueq\"></div>\n",
    "\n",
    "$$\n",
    "\\begin{equation}  \n",
    "u' = v\\tp\n",
    "\\label{stag:vib:EulerCromer:ueq} \\tag{3}\n",
    "\\end{equation}\n",
    "$$"
   ]
  },
  {
   "cell_type": "markdown",
   "metadata": {},
   "source": [
    "The popular Euler-Cromer scheme for this $2\\times 2$ system of ODEs\n",
    "applies an explicit\n",
    "forward difference in ([2](#stag:vib:EulerCromer:veq)) and a\n",
    "backward difference in ([3](#stag:vib:EulerCromer:ueq)):"
   ]
  },
  {
   "cell_type": "markdown",
   "metadata": {},
   "source": [
    "<!-- Equation labels as ordinary links -->\n",
    "<div id=\"stag:vib:EulerCromer:dveq0\"></div>\n",
    "\n",
    "$$\n",
    "\\begin{equation}\n",
    "\\frac{v^{n+1}- v^n}{\\Delta t} =- \\omega^2u^{n},\n",
    "\\label{stag:vib:EulerCromer:dveq0} \\tag{4}\n",
    "\\end{equation}\n",
    "$$"
   ]
  },
  {
   "cell_type": "markdown",
   "metadata": {},
   "source": [
    "<!-- Equation labels as ordinary links -->\n",
    "<div id=\"stag:vib:EulerCromer:dueq0\"></div>\n",
    "\n",
    "$$\n",
    "\\begin{equation}  \n",
    "\\frac{u^{n+1} - u^n}{\\Delta t} = v^{n+1}\\tp\n",
    "\\label{stag:vib:EulerCromer:dueq0} \\tag{5}\n",
    "\\end{equation}\n",
    "$$"
   ]
  },
  {
   "cell_type": "markdown",
   "metadata": {},
   "source": [
    "For a time domain $[0,T]$, we have introduced a mesh with points\n",
    "$0=t_0 < t_1 < \\cdots < t_n=T$. The most common case is a mesh with\n",
    "uniform spacing $\\Delta t$: $t_n=n\\Delta t$. Then\n",
    "$v^n$ is an approximation to $v(t)$ at mesh point $t_n$, and\n",
    "$u^n$ is an approximation to $u(t)$ at the same point.\n",
    "Note that the backward difference in ([7](#stag:vib:EulerCromer:dueq))\n",
    "leads to an explicit updating formula for $u^{n+1}$\n",
    "since $v^{n+1}$ is already computed:"
   ]
  },
  {
   "cell_type": "markdown",
   "metadata": {},
   "source": [
    "<!-- Equation labels as ordinary links -->\n",
    "<div id=\"stag:vib:EulerCromer:dveq\"></div>\n",
    "\n",
    "$$\n",
    "\\begin{equation}\n",
    "v^{n+1} = v^n -\\Delta t \\omega^2u^{n},\n",
    "\\label{stag:vib:EulerCromer:dveq} \\tag{6}\n",
    "\\end{equation}\n",
    "$$"
   ]
  },
  {
   "cell_type": "markdown",
   "metadata": {},
   "source": [
    "<!-- Equation labels as ordinary links -->\n",
    "<div id=\"stag:vib:EulerCromer:dueq\"></div>\n",
    "\n",
    "$$\n",
    "\\begin{equation}  \n",
    "u^{n+1} = u^n + \\Delta t v^{n+1}\\tp\n",
    "\\label{stag:vib:EulerCromer:dueq} \\tag{7}\n",
    "\\end{equation}\n",
    "$$"
   ]
  },
  {
   "cell_type": "markdown",
   "metadata": {},
   "source": [
    "The Euler-Cromer scheme is equivalent with the standard second-order\n",
    "accurate scheme for ([1](#stag:vib:ODE2nd)):"
   ]
  },
  {
   "cell_type": "markdown",
   "metadata": {},
   "source": [
    "<!-- Equation labels as ordinary links -->\n",
    "<div id=\"stag:vib:dODE2nd\"></div>\n",
    "\n",
    "$$\n",
    "\\begin{equation}\n",
    "u^{n+1} = 2u^n - u^{n-1} - \\Delta t^2\\omega^2 u^n,\\ n=1,2,\\ldots,\n",
    "\\label{stag:vib:dODE2nd} \\tag{8}\n",
    "\\end{equation}\n",
    "$$"
   ]
  },
  {
   "cell_type": "markdown",
   "metadata": {},
   "source": [
    "but for the first time step, the method for ([1](#stag:vib:ODE2nd))\n",
    "leads to"
   ]
  },
  {
   "cell_type": "markdown",
   "metadata": {},
   "source": [
    "<!-- Equation labels as ordinary links -->\n",
    "<div id=\"_auto1\"></div>\n",
    "\n",
    "$$\n",
    "\\begin{equation}\n",
    "u^1= u^0 - \\frac{1}{2}\\Delta t^2\\omega^2u^0,\n",
    "\\label{_auto1} \\tag{9}\n",
    "\\end{equation}\n",
    "$$"
   ]
  },
  {
   "cell_type": "markdown",
   "metadata": {},
   "source": [
    "while Euler-Cromer gives"
   ]
  },
  {
   "cell_type": "markdown",
   "metadata": {},
   "source": [
    "<!-- Equation labels as ordinary links -->\n",
    "<div id=\"_auto2\"></div>\n",
    "\n",
    "$$\n",
    "\\begin{equation}\n",
    "u^1= u^0 - \\Delta t^2\\omega^2u^0,\n",
    "\\label{_auto2} \\tag{10}\n",
    "\\end{equation}\n",
    "$$"
   ]
  },
  {
   "cell_type": "markdown",
   "metadata": {},
   "source": [
    "which can be interpreted as a first-order, backward difference approximation\n",
    "of $u'(0)=0$ combined with ([8](#stag:vib:dODE2nd)). At later time steps,\n",
    "however, the alternating use of forward and backward differences in\n",
    "([6](#stag:vib:EulerCromer:dveq))-([7](#stag:vib:EulerCromer:dueq))\n",
    "leads to a method with error $\\Oof{\\Delta t^2}$.\n",
    "\n",
    "\n",
    "\n",
    "\n",
    "\n",
    "# Exercises\n",
    "\n",
    "\n",
    "\n",
    "<!-- --- begin exercise --- -->\n",
    "\n",
    "## Exercise 1: Use the forward-backward scheme with quadratic damping\n",
    "<div id=\"vib:exer:quad:damping:fwbw\"></div>\n",
    "\n",
    "We consider the generalized model with quadratic damping, expressed\n",
    "as a system of two first-order equations as in the section [vib:ode2:staggered](#vib:ode2:staggered):"
   ]
  },
  {
   "cell_type": "markdown",
   "metadata": {},
   "source": [
    "$$\n",
    "\\begin{align*}\n",
    "u^{\\prime} &= v,\\\\ \n",
    "v' &= \\frac{1}{m}\\left( F(t) - \\beta |v|v - s(u)\\right)\\tp\n",
    "\\end{align*}\n",
    "$$"
   ]
  },
  {
   "cell_type": "markdown",
   "metadata": {},
   "source": [
    "However, contrary to what is done in the section [vib:ode2:staggered](#vib:ode2:staggered),\n",
    "we want to apply the idea of a forward-backward discretization:\n",
    "$u$ is marched forward by a one-sided Forward Euler scheme applied\n",
    "to the first equation, and\n",
    "thereafter $v$ can be marched forward by a Backward Euler scheme in the\n",
    "second\n",
    "equation.\n",
    "Express the idea in operator notation and write out the\n",
    "scheme. Unfortunately, the backward difference for the $v$ equation\n",
    "creates a nonlinearity $|v^{n+1}|v^{n+1}$.  To linearize this\n",
    "nonlinearity, use the known value $v^n$ inside the absolute value\n",
    "factor, i.e., $|v^{n+1}|v^{n+1}\\approx |v^n|v^{n+1}$.  Show that the\n",
    "resulting scheme is equivalent to the one in the section [vib:ode2:staggered](#vib:ode2:staggered) for some time level $n\\geq 1$.\n",
    "\n",
    "What we learn from this exercise is that the first-order differences\n",
    "and the linearization trick play together in \"the right way\" such that\n",
    "the scheme is as good as when we (in the section [vib:ode2:staggered](#vib:ode2:staggered))\n",
    "carefully apply centered differences and a geometric mean on a\n",
    "staggered mesh to achieve second-order accuracy.\n",
    "Filename: `vib_gen_bwdamping`.\n",
    "\n",
    "<!-- --- end exercise --- -->\n",
    "\n",
    "\n",
    "# Partial differential equations\n",
    "\n",
    "<!-- dom:FIGURE: [fig-staggered/staggered_space, width=500 frac=0.8] Examples on mesh functions on a staggered mesh in space. <div id=\"staggered:wave:fig1\"></div> -->\n",
    "<!-- begin figure -->\n",
    "<div id=\"staggered:wave:fig1\"></div>\n",
    "\n",
    "<p>Examples on mesh functions on a staggered mesh in space.</p>\n",
    "<img src=\"fig-staggered/staggered_space\" width=500>\n",
    "\n",
    "<!-- end figure -->"
   ]
  }
 ],
 "metadata": {},
 "nbformat": 4,
 "nbformat_minor": 4
}
