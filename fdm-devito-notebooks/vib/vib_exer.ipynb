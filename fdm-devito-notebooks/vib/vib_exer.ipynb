{
 "cells": [
  {
   "cell_type": "markdown",
   "metadata": {},
   "source": [
    "<!-- in vb_odespy examples: add 20 RK4 1000 to show RK4 in the long run -->\n",
    "\n",
    "<!-- mu'' + bu' + ku = F(t) -->\n",
    "<!-- set up analytical solution for reference -->\n",
    "<!-- compare for F = sin qt, demonstrate resonance by having -->\n",
    "<!-- F = sin q t and q = piecewise constant in time with four -->\n",
    "<!-- levels: 0.1, 0.75 1, 1.25, 2 of the resonance frequency, -->\n",
    "<!-- make each platou act for a while to see the effect -->\n",
    "\n",
    "<!-- mu'' + bu' + s(u) = F(t) as exercise, pendulum -->\n",
    "<!-- mu'' + f(x) + s() = F(t) via odespy RK4 -->\n",
    "\n",
    "<!-- odespy: ForwardBackward on a 2n system? Need special formula for first -->\n",
    "<!-- step to ensure dt^2 accuracy there. -->\n",
    "\n",
    "<!-- apps: planet around a star, box horizontal and vertical, bumpy, -->\n",
    "<!-- jumping washing machine, pendulum, moored ship, look to Irgens -->"
   ]
  }
 ],
 "metadata": {},
 "nbformat": 4,
 "nbformat_minor": 4
}
