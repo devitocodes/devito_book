{
 "cells": [
  {
   "cell_type": "markdown",
   "metadata": {},
   "source": [
    "# Exercises\n",
    "<div id=\"wave:app:exer\"></div>\n",
    "\n",
    "\n",
    "\n",
    "<!-- --- begin exercise --- -->\n",
    "\n",
    "## Exercise 1: Simulate waves on a non-homogeneous string\n",
    "<div id=\"wave:app:exer:string:discont\"></div>\n",
    "\n",
    "Simulate waves on a string that consists of two materials with\n",
    "different density. The tension in the string is constant, but the\n",
    "density has a jump at the middle of the string.  Experiment with\n",
    "different sizes of the jump and produce animations that visualize the\n",
    "effect of the jump on the wave motion.\n",
    "\n",
    "<!-- --- begin hint in exercise --- -->\n",
    "\n",
    "**Hint.**\n",
    "According to the section [wave:app:string](#wave:app:string),\n",
    "the density enters the mathematical model as $\\varrho$ in\n",
    "$\\varrho u_{tt} = Tu_{xx}$, where $T$ is the string tension. Modify, e.g., the\n",
    "`wave1D_u0v.py` code to incorporate the tension and two density values.\n",
    "Make a mesh function `rho` with density values at each spatial mesh point.\n",
    "A value for the tension may be 150 N. Corresponding density values can\n",
    "be computed from the wave velocity estimations in the `guitar` function\n",
    "in the `wave1D_u0v.py` file.\n",
    "\n",
    "<!-- --- end hint in exercise --- -->\n",
    "Filename: `wave1D_u0_sv_discont`.\n",
    "\n",
    "<!-- --- end exercise --- -->\n",
    "\n",
    "\n",
    "\n",
    "\n",
    "<!-- --- begin exercise --- -->\n",
    "\n",
    "## Exercise 2: Simulate damped waves on a string\n",
    "<div id=\"wave:app:exer:string:damping\"></div>\n",
    "\n",
    "Formulate a mathematical model for damped waves on a string.\n",
    "Use data from the section [wave:pde1:guitar:data](#wave:pde1:guitar:data), and\n",
    "tune the damping parameter so that the string is very close to\n",
    "the rest state after 15 s. Make a movie of the wave motion.\n",
    "Filename: `wave1D_u0_sv_damping`.\n",
    "\n",
    "<!-- --- end exercise --- -->\n",
    "\n",
    "\n",
    "\n",
    "\n",
    "<!-- --- begin exercise --- -->\n",
    "\n",
    "## Exercise 3: Simulate elastic waves in a rod\n",
    "<div id=\"wave:app:exer:rod\"></div>\n",
    "\n",
    "A hammer hits the end of an elastic rod. The exercise is to simulate\n",
    "the resulting wave motion using the model ([wave:app:elastic:rod:eq](#wave:app:elastic:rod:eq))\n",
    "from the section [wave:app:elastic:rod](#wave:app:elastic:rod). Let the rod have length\n",
    "$L$ and let the boundary $x=L$ be stress free so that $\\sigma_{xx}=0$,\n",
    "implying that $\\partial u/\\partial x=0$. The left end $x=0$ is\n",
    "subject to a strong stress pulse (the hammer), modeled as"
   ]
  },
  {
   "cell_type": "markdown",
   "metadata": {},
   "source": [
    "$$\n",
    "\\sigma_{xx}(t) = \\left\\lbrace\\begin{array}{ll}\n",
    "S,& 0 < t \\leq t_s,\\\\\n",
    "0, & t > t_s\n",
    "\\end{array}\\right.\n",
    "$$"
   ]
  },
  {
   "cell_type": "markdown",
   "metadata": {},
   "source": [
    "The corresponding condition on $u$ becomes $u_x= S/E$\n",
    "for $t\\leq t_s$ and zero afterwards (recall that\n",
    "$\\sigma_{xx} = Eu_x$). This is a non-homogeneous\n",
    "Neumann condition, and you will need to approximate this condition\n",
    "and combine it with the scheme (the ideas and manipulations follow\n",
    "closely the handling of a non-zero initial condition\n",
    "$u_t=V$ in wave PDEs or the corresponding\n",
    "second-order ODEs for vibrations).\n",
    "Filename: `wave_rod`.\n",
    "\n",
    "<!-- --- end exercise --- -->\n",
    "\n",
    "\n",
    "\n",
    "\n",
    "<!-- --- begin exercise --- -->\n",
    "\n",
    "## Exercise 4: Simulate spherical waves\n",
    "<div id=\"wave:app:exer:spherical\"></div>\n",
    "\n",
    "Implement a model for spherically symmetric waves using the method\n",
    "described in the section [wave:app:spherical](#wave:app:spherical). The boundary condition\n",
    "at $r=0$ must be $\\partial u/\\partial r=0$, while the condition at\n",
    "$r=R$ can either be $u=0$ or a radiation condition as described\n",
    "in [wave:app:exer:radiationBC](#wave:app:exer:radiationBC). The $u=0$ condition is\n",
    "sufficient if $R$ is so large that the amplitude of the spherical\n",
    "wave has become insignificant. Make movie(s) of the case where the source\n",
    "term is located around $r=0$ and sends out pulses"
   ]
  },
  {
   "cell_type": "markdown",
   "metadata": {},
   "source": [
    "$$\n",
    "f(r,t) = \\left\\lbrace\\begin{array}{ll}\n",
    "Q\\exp{(-\\frac{r^2}{2\\Delta r^2})}\\sin\\omega t,& \\sin\\omega t\\geq 0\\\\\n",
    "0, & \\sin\\omega t < 0\n",
    "\\end{array}\\right.\n",
    "$$"
   ]
  },
  {
   "cell_type": "markdown",
   "metadata": {},
   "source": [
    "Here, $Q$ and $\\omega$ are constants to be chosen.\n",
    "\n",
    "<!-- --- begin hint in exercise --- -->\n",
    "\n",
    "**Hint.**\n",
    "Use the program `wave1D_u0v.py` as a starting point. Let `solver`\n",
    "compute the $v$ function and then set $u=v/r$. However,\n",
    "$u=v/r$ for $r=0$ requires special treatment. One possibility is\n",
    "to compute `u[1:] = v[1:]/r[1:]` and then set `u[0]=u[1]`. The latter\n",
    "makes it evident that $\\partial u/\\partial r = 0$ in a plot.\n",
    "\n",
    "<!-- --- end hint in exercise --- -->\n",
    "Filename: `wave1D_spherical`.\n",
    "\n",
    "<!-- --- end exercise --- -->\n",
    "\n",
    "\n",
    "\n",
    "\n",
    "<!-- --- begin exercise --- -->\n",
    "\n",
    "## Problem 5: Earthquake-generated tsunami over a subsea hill\n",
    "<div id=\"wave:app:exer:tsunami1D:hill\"></div>\n",
    "\n",
    "A subsea earthquake leads to an immediate lift of the water surface,\n",
    "see [Figure](#wave:app:fig:1D:tsunami:flat).  The lifted water\n",
    "surface splits into two tsunamis, one traveling to the right and one\n",
    "to the left, as depicted in [Figure](#wave:app:fig:1D:tsunami:2waves).  Since tsunamis are normally very\n",
    "long waves, compared to the depth, with a small amplitude, compared to\n",
    "the wave length, a standard wave equation is relevant:"
   ]
  },
  {
   "cell_type": "markdown",
   "metadata": {},
   "source": [
    "$$\n",
    "\\eta_{tt} = (gH(x)\\eta_x)_x,\n",
    "$$"
   ]
  },
  {
   "cell_type": "markdown",
   "metadata": {},
   "source": [
    "where $\\eta$ is the elevation of the water surface,\n",
    "$g$ is the acceleration of gravity, and $H(x)$ is the still water depth.\n",
    "\n",
    "<!-- dom:FIGURE: [fig-wave/earthquake_tsunami_flat.png, width=800 frac=1.2] Sketch of initial water surface due to a subsea earthquake. <div id=\"wave:app:fig:1D:tsunami:flat\"></div> -->\n",
    "<!-- begin figure -->\n",
    "<div id=\"wave:app:fig:1D:tsunami:flat\"></div>\n",
    "\n",
    "<p>Sketch of initial water surface due to a subsea earthquake.</p>\n",
    "<img src=\"fig-wave/earthquake_tsunami_flat.png\" width=800>\n",
    "\n",
    "<!-- end figure -->\n",
    "\n",
    "\n",
    "<!-- dom:FIGURE: [fig-wave/earthquake_tsunami_2waves.png, width=800 frac=1.2] An initial surface elevation is split into two waves. <div id=\"wave:app:fig:1D:tsunami:2waves\"></div> -->\n",
    "<!-- begin figure -->\n",
    "<div id=\"wave:app:fig:1D:tsunami:2waves\"></div>\n",
    "\n",
    "<p>An initial surface elevation is split into two waves.</p>\n",
    "<img src=\"fig-wave/earthquake_tsunami_2waves.png\" width=800>\n",
    "\n",
    "<!-- end figure -->\n",
    "\n",
    "\n",
    "\n",
    "To simulate the right-going tsunami, we can impose a symmetry boundary\n",
    "at $x=0$: $\\partial\\eta/\\partial x =0$.  We then simulate the wave\n",
    "motion in $[0,L]$. Unless the ocean ends at $x=L$, the waves should\n",
    "travel undisturbed through the boundary $x=L$. A radiation condition\n",
    "as explained in [wave:app:exer:radiationBC](#wave:app:exer:radiationBC) can be used for\n",
    "this purpose. Alternatively, one can just stop the simulations before\n",
    "the wave hits the boundary at $x=L$. In that case it does not matter\n",
    "what kind of boundary condition we use at $x=L$. Imposing $\\eta =0$\n",
    "and stopping the simulations when $|\\eta_i^n| > \\epsilon$, $i=N_x-1$,\n",
    "is a possibility ($\\epsilon$ is a small parameter).\n",
    "\n",
    "The shape of the initial surface can be taken as a\n",
    "Gaussian function,"
   ]
  },
  {
   "cell_type": "markdown",
   "metadata": {},
   "source": [
    "<!-- Equation labels as ordinary links -->\n",
    "<div id=\"_auto1\"></div>\n",
    "\n",
    "$$\n",
    "\\begin{equation}\n",
    "I(x;I_0,I_a,I_m,I_s) =\n",
    "I_0 + I_a\\exp{\\left(-\\left(\\frac{x-I_m}{I_s}\\right)^2\\right)},\n",
    "\\label{_auto1} \\tag{1}\n",
    "\\end{equation}\n",
    "$$"
   ]
  },
  {
   "cell_type": "markdown",
   "metadata": {},
   "source": [
    "with $I_m=0$ reflecting the location of the peak of $I(x)$ and\n",
    "$I_s$ being a measure of the width of the function $I(x)$\n",
    "($I_s$ is $\\sqrt{2}$ times the standard deviation of the familiar\n",
    "normal distribution curve).\n",
    "\n",
    "Now we extend the problem with a hill at the sea bottom, see [Figure](#wave:app:fig:1D:tsunami:hill). The wave speed $c=\\sqrt{gH(x)} =\n",
    "\\sqrt{g(H_0-B(x))}$ will then be reduced in the shallow water above\n",
    "the hill.\n",
    "\n",
    "<!-- dom:FIGURE: [fig-wave/earthquake_tsunami_hill.png, width=800 frac=1.2] Sketch of an earthquake-generated tsunami passing over a subsea hill. <div id=\"wave:app:fig:1D:tsunami:hill\"></div> -->\n",
    "<!-- begin figure -->\n",
    "<div id=\"wave:app:fig:1D:tsunami:hill\"></div>\n",
    "\n",
    "<p>Sketch of an earthquake-generated tsunami passing over a subsea hill.</p>\n",
    "<img src=\"fig-wave/earthquake_tsunami_hill.png\" width=800>\n",
    "\n",
    "<!-- end figure -->\n",
    "\n",
    "\n",
    "One possible form of the\n",
    "hill is a Gaussian function,"
   ]
  },
  {
   "cell_type": "markdown",
   "metadata": {},
   "source": [
    "<!-- Equation labels as ordinary links -->\n",
    "<div id=\"wave:app:exer:tsunami1D:hill:Gauss\"></div>\n",
    "\n",
    "$$\n",
    "\\begin{equation}\n",
    "B(x;B_0,B_a,B_m,B_s) =\n",
    "B_0 + B_a\\exp{\\left(-\\left(\\frac{x-B_m}{B_s}\\right)^2\\right)},\n",
    "\\label{wave:app:exer:tsunami1D:hill:Gauss} \\tag{2}\n",
    "\\end{equation}\n",
    "$$"
   ]
  },
  {
   "cell_type": "markdown",
   "metadata": {},
   "source": [
    "but many other shapes are also possible, e.g., a \"cosine hat\" where"
   ]
  },
  {
   "cell_type": "markdown",
   "metadata": {},
   "source": [
    "<!-- Equation labels as ordinary links -->\n",
    "<div id=\"wave:app:exer:tsunami1D:hill:cohat\"></div>\n",
    "\n",
    "$$\n",
    "\\begin{equation}\n",
    "B(x; B_0, B_a, B_m, B_s) = B_0 + B_a\\cos{\\left( \\pi\\frac{x-B_m}{2B_s}\\right)},\n",
    "\\label{wave:app:exer:tsunami1D:hill:cohat} \\tag{3}\n",
    "\\end{equation}\n",
    "$$"
   ]
  },
  {
   "cell_type": "markdown",
   "metadata": {},
   "source": [
    "when $x\\in [B_m - B_s, B_m + B_s]$ while $B=B_0$ outside this\n",
    "interval.\n",
    "\n",
    "Also an abrupt construction may be tried:"
   ]
  },
  {
   "cell_type": "markdown",
   "metadata": {},
   "source": [
    "<!-- Equation labels as ordinary links -->\n",
    "<div id=\"wave:app:exer:tsunami1D:hill:box\"></div>\n",
    "\n",
    "$$\n",
    "\\begin{equation}\n",
    "B(x; B_0, B_a, B_m, B_s) = B_0 + B_a,\n",
    "\\label{wave:app:exer:tsunami1D:hill:box} \\tag{4}\n",
    "\\end{equation}\n",
    "$$"
   ]
  },
  {
   "cell_type": "markdown",
   "metadata": {},
   "source": [
    "for $x\\in [B_m - B_s, B_m + B_s]$ while $B=B_0$ outside this\n",
    "interval.\n",
    "\n",
    "The [`wave1D_dn_vc.py`](${src_wave}/wave1D/wave1D_dn_vc.py)\n",
    "program can be used as starting point for the implementation.\n",
    "Visualize both the bottom topography and the\n",
    "water surface elevation in\n",
    "the same plot.\n",
    "Allow for a flexible choice of bottom shape:\n",
    "([2](#wave:app:exer:tsunami1D:hill:Gauss)),\n",
    "([3](#wave:app:exer:tsunami1D:hill:cohat)),\n",
    "([4](#wave:app:exer:tsunami1D:hill:box)), or $B(x)=B_0$ (flat).\n",
    "\n",
    "The purpose of this problem is to explore the quality of the numerical\n",
    "solution $\\eta^n_i$ for different shapes of the bottom obstruction.\n",
    "The \"cosine hat\" and the box-shaped hills have abrupt changes in the\n",
    "derivative of $H(x)$ and are more likely to generate numerical noise\n",
    "than the smooth Gaussian shape of the hill. Investigate if this is true.\n",
    "Filename: `tsunami1D_hill`.\n",
    "\n",
    "<!-- --- end exercise --- -->\n",
    "\n",
    "\n",
    "\n",
    "\n",
    "<!-- --- begin exercise --- -->\n",
    "\n",
    "## Problem 6: Earthquake-generated tsunami over a 3D hill\n",
    "<div id=\"wave:app:exer:tsunami2D:hill\"></div>\n",
    "\n",
    "This problem extends [Problem 5: Earthquake-generated tsunami over a subsea hill](#wave:app:exer:tsunami1D:hill)\n",
    "to a three-dimensional wave phenomenon, governed by the 2D PDE"
   ]
  },
  {
   "cell_type": "markdown",
   "metadata": {},
   "source": [
    "<!-- Equation labels as ordinary links -->\n",
    "<div id=\"wave:app:sw:2D:eta:2ndoeq2\"></div>\n",
    "\n",
    "$$\n",
    "\\begin{equation}\n",
    "\\eta_{tt} = (gH\\eta_x)_x + (gH\\eta_y)_y = \\nabla\\cdot (gH\\nabla\\eta)\n",
    "\\label{wave:app:sw:2D:eta:2ndoeq2} \\tag{5}\n",
    "\\thinspace .\n",
    "\\end{equation}\n",
    "$$"
   ]
  },
  {
   "cell_type": "markdown",
   "metadata": {},
   "source": [
    "We assume that the earthquake arises from a fault along the line $x=0$\n",
    "in the $xy$-plane so that the initial lift of the surface can be taken\n",
    "as $I(x)$ in [Problem 5: Earthquake-generated tsunami over a subsea hill](#wave:app:exer:tsunami1D:hill). That is, a\n",
    "plane wave is propagating to the right, but will experience bending\n",
    "because of the bottom.\n",
    "\n",
    "The bottom shape is now a function of $x$ and $y$.  An \"elliptic\"\n",
    "Gaussian function in two dimensions, with its peak at $(B_{mx},\n",
    "B_{my})$, generalizes ([2](#wave:app:exer:tsunami1D:hill:Gauss)):"
   ]
  },
  {
   "cell_type": "markdown",
   "metadata": {},
   "source": [
    "<!-- Equation labels as ordinary links -->\n",
    "<div id=\"wave:app:exer:tsunami2D:hill:Gauss\"></div>\n",
    "\n",
    "$$\n",
    "\\begin{equation}\n",
    "B =\n",
    "B_0 + B_a\\exp{\\left(-\\left(\\frac{x-B_{mx}}{B_s}\\right)^2\n",
    "-\\left(\\frac{y-B_{my}}{bB_s}\\right)^2\\right)},\n",
    "\\label{wave:app:exer:tsunami2D:hill:Gauss} \\tag{6}\n",
    "\\end{equation}\n",
    "$$"
   ]
  },
  {
   "cell_type": "markdown",
   "metadata": {},
   "source": [
    "where $b$ is a scaling parameter: $b=1$ gives a circular Gaussian\n",
    "function with circular contour lines, while $b\\neq 1$ gives an elliptic\n",
    "shape with elliptic contour lines. To indicate the input parameters in the\n",
    "model, we may write"
   ]
  },
  {
   "cell_type": "markdown",
   "metadata": {},
   "source": [
    "$$\n",
    "B = B(x;B_0,B_a,B_{mx}, B_{my} ,B_s, b)\\thinspace .\n",
    "$$"
   ]
  },
  {
   "cell_type": "markdown",
   "metadata": {},
   "source": [
    "The \"cosine hat\" ([3](#wave:app:exer:tsunami1D:hill:cohat)) can also be\n",
    "generalized to"
   ]
  },
  {
   "cell_type": "markdown",
   "metadata": {},
   "source": [
    "<!-- Equation labels as ordinary links -->\n",
    "<div id=\"wave:app:exer:tsunami2D:hill:cohat\"></div>\n",
    "\n",
    "$$\n",
    "\\begin{equation}\n",
    "B =\n",
    "B_0 + B_a\\cos{\\left( \\pi\\frac{x-B_{mx}}{2B_s}\\right)}\n",
    "\\cos{\\left( \\pi\\frac{y-B_{my}}{2B_s}\\right)},\n",
    "\\label{wave:app:exer:tsunami2D:hill:cohat} \\tag{7}\n",
    "\\end{equation}\n",
    "$$"
   ]
  },
  {
   "cell_type": "markdown",
   "metadata": {},
   "source": [
    "when $0 \\leq \\sqrt{x^2+y^2} \\leq B_s$ and $B=B_0$ outside this circle.\n",
    "\n",
    "A box-shaped obstacle means that"
   ]
  },
  {
   "cell_type": "markdown",
   "metadata": {},
   "source": [
    "<!-- Equation labels as ordinary links -->\n",
    "<div id=\"wave:app:exer:tsunami2D:hill:box\"></div>\n",
    "\n",
    "$$\n",
    "\\begin{equation}\n",
    "B(x; B_0, B_a, B_m, B_s, b) = B_0 + B_a\n",
    "\\label{wave:app:exer:tsunami2D:hill:box} \\tag{8}\n",
    "\\end{equation}\n",
    "$$"
   ]
  },
  {
   "cell_type": "markdown",
   "metadata": {},
   "source": [
    "for $x$ and $y$ inside a rectangle"
   ]
  },
  {
   "cell_type": "markdown",
   "metadata": {},
   "source": [
    "$$\n",
    "B_{mx}-B_s \\leq  x \\leq B_{mx} + B_s,\\quad\n",
    "B_{my}-bB_s \\leq  y \\leq B_{my} + bB_s,\n",
    "$$"
   ]
  },
  {
   "cell_type": "markdown",
   "metadata": {},
   "source": [
    "and $B=B_0$ outside this rectangle.\n",
    "The $b$ parameter controls the rectangular shape of the cross section of\n",
    "the box.\n",
    "\n",
    "Note that the initial condition and the listed bottom shapes are\n",
    "symmetric around the line $y=B_{my}$. We therefore expect the surface\n",
    "elevation also to be symmetric with respect to this line.  This means\n",
    "that we can halve the computational domain by working with\n",
    "$[0,L_x]\\times [0, B_{my}]$. Along the upper boundary, $y=B_{my}$, we\n",
    "must impose the symmetry condition $\\partial \\eta/\\partial n=0$.  Such\n",
    "a symmetry condition ($-\\eta_x=0$) is also needed at the $x=0$\n",
    "boundary because the initial condition has a symmetry here. At the\n",
    "lower boundary $y=0$ we also set a Neumann condition (which becomes\n",
    "$-\\eta_y=0$).  The wave motion is to be simulated until the wave hits\n",
    "the reflecting boundaries where $\\partial\\eta/\\partial n =\\eta_x =0$\n",
    "(one can also set $\\eta =0$ - the particular condition does not matter\n",
    "as long as the simulation is stopped before the wave is influenced\n",
    "by the boundary condition).\n",
    "\n",
    "Visualize the surface elevation.  Investigate how different hill shapes,\n",
    "different sizes of the water gap above the hill, and different\n",
    "resolutions $\\Delta x = \\Delta y = h$ and $\\Delta t$ influence\n",
    "the numerical quality of the solution.\n",
    "Filename: `tsunami2D_hill`.\n",
    "\n",
    "<!-- --- end exercise --- -->\n",
    "\n",
    "\n",
    "\n",
    "\n",
    "<!-- --- begin exercise --- -->\n",
    "\n",
    "## Problem 7: Investigate Mayavi for visualization\n",
    "<div id=\"wave:app:exer:tsunami:hill:viz:matplotlib\"></div>\n",
    "\n",
    "Play with Mayavi code for visualizing 2D\n",
    "solutions of the wave equation with variable wave velocity.\n",
    "See if there\n",
    "are effective ways to visualize both the solution and the wave\n",
    "velocity scalar field at the same time.\n",
    "Filename: `tsunami2D_hill_mlab`.\n",
    "\n",
    "<!-- --- end exercise --- -->\n",
    "\n",
    "\n",
    "\n",
    "\n",
    "<!-- --- begin exercise --- -->\n",
    "\n",
    "## Problem 8: Investigate visualization packages\n",
    "<div id=\"wave:app:exer:tsunami:hill:viz:packages\"></div>\n",
    "\n",
    "Create some fancy 3D visualization of the water waves *and* the subsea hill\n",
    "in [Problem 6: Earthquake-generated tsunami over a 3D hill](#wave:app:exer:tsunami2D:hill).\n",
    "Try to make the hill transparent. Possible visualization tools are\n",
    "[Mayavi](http://code.enthought.com/projects/mayavi/),\n",
    "[Paraview](http://www.paraview.org/), and\n",
    "[OpenDX](http://www.opendx.org/).\n",
    "Filename: `tsunami2D_hill_viz`.\n",
    "\n",
    "<!-- --- end exercise --- -->\n",
    "\n",
    "\n",
    "\n",
    "\n",
    "<!-- --- begin exercise --- -->\n",
    "\n",
    "## Problem 9: Implement loops in compiled languages\n",
    "<div id=\"wave:app:exer:tsunami2D:hill:compiled\"></div>\n",
    "\n",
    "Extend the program from [Problem 6: Earthquake-generated tsunami over a 3D hill](#wave:app:exer:tsunami2D:hill) such\n",
    "that the loops over mesh points, inside the time loop, are\n",
    "implemented in compiled languages.\n",
    "Consider implementations in\n",
    "Cython, Fortran via `f2py`, C via Cython, C via `f2py`, C/C++ via Instant,\n",
    "and C/C++ via `scipy.weave`.\n",
    "Perform efficiency experiments to investigate the relative performance\n",
    "of the various implementations. mathcal{I}_t is often advantageous to normalize\n",
    "CPU times by the fastest method on a given mesh.\n",
    "Filename: `tsunami2D_hill_compiled`.\n",
    "\n",
    "<!-- --- end exercise --- -->\n",
    "\n",
    "\n",
    "\n",
    "\n",
    "<!-- --- begin exercise --- -->\n",
    "\n",
    "## Exercise 10: Simulate seismic waves in 2D\n",
    "<div id=\"wave:app:exer:seismic2D\"></div>\n",
    "\n",
    "The goal of this exercise is to simulate seismic waves using the\n",
    "PDE model ([wave:app:acoustic:seismic:accoustic1a](#wave:app:acoustic:seismic:accoustic1a)) in a\n",
    "2D $xz$ domain with geological layers.\n",
    "Introduce $m$ horizontal layers of thickness $h_i$, $i=0,\\ldots,m-1$.\n",
    "Inside layer number $i$ we have a vertical wave velocity $c_{z,i}$\n",
    "and a horizontal wave velocity $c_{h,i}$. Make a program\n",
    "for simulating such 2D waves. Test it on a case with 3 layers where"
   ]
  },
  {
   "cell_type": "markdown",
   "metadata": {},
   "source": [
    "$$\n",
    "c_{z,0}=c_{z,1}=c_{z,2},\\quad c_{h,0}=c_{h,2},\\quad c_{h,1} \\ll c_{h,0}\n",
    "\\thinspace .\n",
    "$$"
   ]
  },
  {
   "cell_type": "markdown",
   "metadata": {},
   "source": [
    "Let $s$ be a localized point source at the middle of the Earth's surface\n",
    "(the upper boundary)\n",
    "and investigate how the resulting wave travels through the medium.\n",
    "The source can be a localized Gaussian peak that oscillates in\n",
    "time for some time interval.\n",
    "Place the boundaries far enough from the expanding wave so that the\n",
    "boundary conditions do not disturb the wave. Then the type of\n",
    "boundary condition does not matter, except that we physically need\n",
    "to have $p=p_0$, where $p_0$ is the atmospheric pressure,\n",
    "at the upper boundary.\n",
    "Filename: `seismic2D`.\n",
    "\n",
    "<!-- --- end exercise --- -->\n",
    "\n",
    "\n",
    "\n",
    "\n",
    "<!-- --- begin exercise --- -->\n",
    "\n",
    "## Project 11: Model 3D acoustic waves in a room\n",
    "<div id=\"wave:app:exer:acoustics\"></div>\n",
    "\n",
    "The equation for sound waves in air is derived in the section [wave:app:sound](#wave:app:sound)\n",
    "and reads"
   ]
  },
  {
   "cell_type": "markdown",
   "metadata": {},
   "source": [
    "$$\n",
    "p_{tt} = c^2\\nabla^2 p,\n",
    "$$"
   ]
  },
  {
   "cell_type": "markdown",
   "metadata": {},
   "source": [
    "where $p(x,y,z,t)$ is the pressure and $c$\n",
    "is the speed of sound, taken as 340 m/s.\n",
    "<!-- air at a room temperature 20 C, $p_0$ is reference pressure in the -->\n",
    "<!-- air, typically 1 atm (approximately $10^5$ Pa), and $\\varrho_0$ is -->\n",
    "<!-- the density of air, taken as $1.225\\mbox{ kg/m}^3$. -->\n",
    "However, sound is absorbed in the air due to relaxation of molecules\n",
    "in the gas. A model for simple relaxation, valid for gases consisting\n",
    "only of one type of molecules, is a term $c^2\\tau_s\\nabla^2 p_t$ in\n",
    "the PDE, where $\\tau_s$ is the relaxation time. If we generate sound\n",
    "from, e.g., a loudspeaker in the room, this sound source must also\n",
    "be added to the governing equation.\n",
    "\n",
    "The PDE with the mentioned type of damping and source then becomes"
   ]
  },
  {
   "cell_type": "markdown",
   "metadata": {},
   "source": [
    "<!-- Equation labels as ordinary links -->\n",
    "<div id=\"_auto2\"></div>\n",
    "\n",
    "$$\n",
    "\\begin{equation}\n",
    "p_tt = c^2\\nabla^p + c^2\\tau_s\\nabla^2 p_t + f,\n",
    "\\label{_auto2} \\tag{9}\n",
    "\\end{equation}\n",
    "$$"
   ]
  },
  {
   "cell_type": "markdown",
   "metadata": {},
   "source": [
    "where $f(x,y,z,t)$ is the source term.\n",
    "\n",
    "The walls can absorb some sound. A possible model is to have a \"wall layer\"\n",
    "(thicker than the physical wall)\n",
    "outside the room where $c$ is changed such that some of the wave energy\n",
    "is reflected and some is absorbed in the wall. The absorption of\n",
    "energy can be taken care of by adding a damping term $bp_t$ in\n",
    "the equation:"
   ]
  },
  {
   "cell_type": "markdown",
   "metadata": {},
   "source": [
    "<!-- Equation labels as ordinary links -->\n",
    "<div id=\"_auto3\"></div>\n",
    "\n",
    "$$\n",
    "\\begin{equation}\n",
    "p_tt + bp_t = c^2\\nabla^p + c^2\\tau_s\\nabla^2 p_t + f\\thinspace .\n",
    "\\label{_auto3} \\tag{10}\n",
    "\\end{equation}\n",
    "$$"
   ]
  },
  {
   "cell_type": "markdown",
   "metadata": {},
   "source": [
    "Typically, $b=0$ in the room and $b>0$ in the wall. A discontinuity in $b$\n",
    "or $c$ will give rise to reflections. mathcal{I}_t can be wise to use a constant\n",
    "$c$ in the wall to control reflections because of the discontinuity between\n",
    "$c$ in the air and in the wall, while $b$ is gradually increased\n",
    "as we go into the wall to avoid reflections because of rapid changes in $b$.\n",
    "At the outer boundary of the wall the condition $p=0$ or $\\partial p/\\partial n=0$ can be imposed. The waves should anyway be approximately dampened\n",
    "to $p=0$ this far out in the wall layer.\n",
    "\n",
    "There are two strategies for discretizing the $\\nabla^2 p_t$ term: using\n",
    "a center difference between times $n+1$ and $n-1$ (if the equation is\n",
    "sampled at level $n$), or use a one-sided difference based on levels $n$\n",
    "and $n-1$. The latter has the advantage of not leading to any equation system,\n",
    "while the former is second-order accurate as the scheme for the\n",
    "simple wave equation $p_tt = c^2\\nabla^2 p$. To avoid an equation system,\n",
    "go for the one-sided difference such that the overall scheme becomes\n",
    "explicit and only of first order in time.\n",
    "\n",
    "Develop a 3D solver for the specified PDE and introduce a wall layer.\n",
    "Test the solver with the method of manufactured solutions. Make some\n",
    "demonstrations where the wall reflects and absorbs the waves (reflection\n",
    "because of discontinuity in $b$ and absorption because of growing $b$).\n",
    "Experiment with the impact of the $\\tau_s$ parameter.\n",
    "Filename: `acoustics`.\n",
    "\n",
    "<!-- --- end exercise --- -->\n",
    "\n",
    "\n",
    "\n",
    "\n",
    "<!-- --- begin exercise --- -->\n",
    "\n",
    "## Project 12: Solve a 1D transport equation\n",
    "<div id=\"wave:app:exer:advec1D\"></div>\n",
    "\n",
    "We shall study the wave equation"
   ]
  },
  {
   "cell_type": "markdown",
   "metadata": {},
   "source": [
    "<!-- Equation labels as ordinary links -->\n",
    "<div id=\"wave:app:exer:advec1D:ueq\"></div>\n",
    "\n",
    "$$\n",
    "\\begin{equation}\n",
    "u_t + cu_x = 0,\\quad x\\in (0,L],\\ t\\in (0, T],\n",
    "\\label{wave:app:exer:advec1D:ueq} \\tag{11}\n",
    "\\end{equation}\n",
    "$$"
   ]
  },
  {
   "cell_type": "markdown",
   "metadata": {},
   "source": [
    "with initial condition"
   ]
  },
  {
   "cell_type": "markdown",
   "metadata": {},
   "source": [
    "<!-- Equation labels as ordinary links -->\n",
    "<div id=\"_auto4\"></div>\n",
    "\n",
    "$$\n",
    "\\begin{equation}\n",
    "u(x,0) = I(x),\\quad x\\in [0,L],\n",
    "\\label{_auto4} \\tag{12}\n",
    "\\end{equation}\n",
    "$$"
   ]
  },
  {
   "cell_type": "markdown",
   "metadata": {},
   "source": [
    "and *one* periodic boundary condition"
   ]
  },
  {
   "cell_type": "markdown",
   "metadata": {},
   "source": [
    "<!-- Equation labels as ordinary links -->\n",
    "<div id=\"_auto5\"></div>\n",
    "\n",
    "$$\n",
    "\\begin{equation}\n",
    "u(0,t) = u(L,t)\n",
    "\\thinspace .\n",
    "\\label{_auto5} \\tag{13}\n",
    "\\end{equation}\n",
    "$$"
   ]
  },
  {
   "cell_type": "markdown",
   "metadata": {},
   "source": [
    "This boundary condition means that what goes out of the domain at $x=L$\n",
    "comes in at $x=0$. Roughly speaking,\n",
    "we need only one boundary condition because\n",
    "the spatial derivative is of first order only.\n",
    "\n",
    "**Physical interpretation.**\n",
    "The parameter $c$ can be constant or variable, $c=c(x)$. The\n",
    "equation ([11](#wave:app:exer:advec1D:ueq)) arises in *transport*\n",
    "problems where a quantity $u$, which could be temperature or\n",
    "concentration of some contaminant, is transported with the velocity\n",
    "$c$ of a fluid. In addition to the transport imposed by \"travelling with\n",
    "the fluid\", $u$ may also be transported by diffusion (such as\n",
    "heat conduction or Fickian diffusion), but we have in\n",
    "the model $u_t + cu_x$ assumed that diffusion effects are negligible,\n",
    "which they often are.\n",
    "\n",
    "\n",
    "**a)**\n",
    "Show that under the assumption of $a=\\hbox{const}$,"
   ]
  },
  {
   "cell_type": "markdown",
   "metadata": {},
   "source": [
    "<!-- Equation labels as ordinary links -->\n",
    "<div id=\"wave:app:exer:advec1D:uexact\"></div>\n",
    "\n",
    "$$\n",
    "\\begin{equation}\n",
    "u(x,t) = I(x - ct)\n",
    "\\label{wave:app:exer:advec1D:uexact} \\tag{14}\n",
    "\\end{equation}\n",
    "$$"
   ]
  },
  {
   "cell_type": "markdown",
   "metadata": {},
   "source": [
    "fulfills the PDE as well as the initial and boundary condition\n",
    "(provided $I(0)=I(L)$).\n",
    "\n",
    "A widely used numerical scheme for ([11](#wave:app:exer:advec1D:ueq))\n",
    "applies a forward difference in time and a backward difference in\n",
    "space when $c>0$:"
   ]
  },
  {
   "cell_type": "markdown",
   "metadata": {},
   "source": [
    "<!-- Equation labels as ordinary links -->\n",
    "<div id=\"wave:app:exer:advec1D:u:upwind\"></div>\n",
    "\n",
    "$$\n",
    "\\begin{equation}\n",
    "[D_t^+ u + cD_x^-u = 0]_i^n\n",
    "\\label{wave:app:exer:advec1D:u:upwind} \\tag{15}\n",
    "\\thinspace .\n",
    "\\end{equation}\n",
    "$$"
   ]
  },
  {
   "cell_type": "markdown",
   "metadata": {},
   "source": [
    "For $c<0$ we use a forward difference in space: $[cD_x^+u]_i^n$.\n",
    "\n",
    "**b)**\n",
    "Set up a computational algorithm and implement it in a function.\n",
    "Assume $a$ is constant and positive.\n",
    "\n",
    "**c)**\n",
    "Test the implementation by using the remarkable property that\n",
    "the numerical solution is exact at the mesh points if\n",
    "$\\Delta t = c^{-1}\\Delta x$.\n",
    "\n",
    "**d)**\n",
    "Make a movie comparing the numerical and exact solution for the\n",
    "following two choices of initial conditions:"
   ]
  },
  {
   "cell_type": "markdown",
   "metadata": {},
   "source": [
    "<!-- Equation labels as ordinary links -->\n",
    "<div id=\"wave:app:exer:advec1D:I:sin\"></div>\n",
    "\n",
    "$$\n",
    "\\begin{equation}\n",
    " I(x) = \\left\\lbrack\\sin\\left(\\pi\\frac{x}{L}\\right)\\right\\rbrack^{2n}\n",
    "\\label{wave:app:exer:advec1D:I:sin} \\tag{16}\n",
    "\\end{equation}\n",
    "$$"
   ]
  },
  {
   "cell_type": "markdown",
   "metadata": {},
   "source": [
    "where $n$ is an integer, typically $n=5$,\n",
    "and"
   ]
  },
  {
   "cell_type": "markdown",
   "metadata": {},
   "source": [
    "<!-- Equation labels as ordinary links -->\n",
    "<div id=\"wave:app:exer:advec1D:I:gauss\"></div>\n",
    "\n",
    "$$\n",
    "\\begin{equation}\n",
    "I(x) = \\exp{\\left( -\\frac{(x-L/2)^2}{2\\sigma2}\\right)} \\thinspace .\n",
    "\\end{equation}\n",
    "\\label{wave:app:exer:advec1D:I:gauss} \\tag{17}\n",
    "$$"
   ]
  },
  {
   "cell_type": "markdown",
   "metadata": {},
   "source": [
    "Choose $\\Delta t = c^{-1}\\Delta x, 0.9c^{-1}\\Delta x, 0.5c^{-1}\\Delta x$.\n",
    "\n",
    "\n",
    "**e)**\n",
    "The performance of the suggested numerical scheme can be investigated\n",
    "by analyzing the numerical dispersion relation.\n",
    "Analytically, we have that the *Fourier component*"
   ]
  },
  {
   "cell_type": "markdown",
   "metadata": {},
   "source": [
    "$$\n",
    "u(x,t) = e^{i(kx-\\omega t)},\n",
    "$$"
   ]
  },
  {
   "cell_type": "markdown",
   "metadata": {},
   "source": [
    "is a solution of the PDE if $\\omega = kc$. This is the *analytical\n",
    "dispersion relation*. A complete solution of the PDE can be built by\n",
    "adding up such Fourier components with different amplitudes, where the\n",
    "initial condition $I$ determines the amplitudes. The solution $u$ is\n",
    "then represented by a Fourier series.\n",
    "\n",
    "A similar discrete Fourier component at $(x_p,t_n)$ is"
   ]
  },
  {
   "cell_type": "markdown",
   "metadata": {},
   "source": [
    "$$\n",
    "u_p^q = e^{i(kp\\Delta x -\\tilde\\omega n\\Delta t)},\n",
    "$$"
   ]
  },
  {
   "cell_type": "markdown",
   "metadata": {},
   "source": [
    "where in general $\\tilde\\omega$ is a function of $k$, $\\Delta t$, and\n",
    "$\\Delta x$, and differs from the exact $\\omega =kc$.\n",
    "\n",
    "Insert the discrete Fourier component in the numerical scheme and\n",
    "derive an expression for $\\tilde\\omega$, i.e.,\n",
    "the discrete dispersion relation. Show in particular that if\n",
    "$\\Delta t/(c\\Delta x)=1$, the discrete solution coincides with the\n",
    "exact solution at the mesh points, regardless of the mesh resolution (!).\n",
    "Show that if the stability condition"
   ]
  },
  {
   "cell_type": "markdown",
   "metadata": {},
   "source": [
    "$$\n",
    "\\frac{\\Delta t}{c\\Delta x}\\leq 1,\n",
    "$$"
   ]
  },
  {
   "cell_type": "markdown",
   "metadata": {},
   "source": [
    "the discrete Fourier component cannot grow (i.e., $\\tilde\\omega$ is real).\n",
    "\n",
    "**f)**\n",
    "Write a test for your implementation where you try to use information\n",
    "from the numerical dispersion relation.\n",
    "\n",
    "We shall hereafter assume that $c(x)>0$.\n",
    "\n",
    "**g)**\n",
    "Set up a computational algorithm for the variable\n",
    "coefficient case and implement it in a function.\n",
    "Make a test that the function works for constant $a$.\n",
    "\n",
    "**h)**\n",
    "mathcal{I}_t can be shown that\n",
    "for an observer moving with velocity $c(x)$, $u$ is constant.\n",
    "This can be used to derive an exact solution when $a$ varies\n",
    "with $x$. Show first that"
   ]
  },
  {
   "cell_type": "markdown",
   "metadata": {},
   "source": [
    "<!-- Equation labels as ordinary links -->\n",
    "<div id=\"wave:app:exer:advec1D:u:avar:sol\"></div>\n",
    "\n",
    "$$\n",
    "\\begin{equation}\n",
    "u(x,t) = f(C(x) - t),\n",
    "\\label{wave:app:exer:advec1D:u:avar:sol} \\tag{18}\n",
    "\\end{equation}\n",
    "$$"
   ]
  },
  {
   "cell_type": "markdown",
   "metadata": {},
   "source": [
    "where"
   ]
  },
  {
   "cell_type": "markdown",
   "metadata": {},
   "source": [
    "$$\n",
    "C'(x) = \\frac{1}{c(x)},\n",
    "$$"
   ]
  },
  {
   "cell_type": "markdown",
   "metadata": {},
   "source": [
    "is a solution of ([11](#wave:app:exer:advec1D:ueq)) for any\n",
    "differentiable function $f$.\n",
    "\n",
    "\n",
    "<!-- --- begin solution of exercise --- -->\n",
    "**Solution.**\n",
    "Let $\\xi = C(x) - t$.\n",
    "We have that"
   ]
  },
  {
   "cell_type": "markdown",
   "metadata": {},
   "source": [
    "$$\n",
    "u_t = f'(\\xi)(-1),\n",
    "$$"
   ]
  },
  {
   "cell_type": "markdown",
   "metadata": {},
   "source": [
    "while"
   ]
  },
  {
   "cell_type": "markdown",
   "metadata": {},
   "source": [
    "$$\n",
    "u_x = f'(\\xi)C'(x) = f'(\\xi)\\frac{1}{c(x)},\n",
    "$$"
   ]
  },
  {
   "cell_type": "markdown",
   "metadata": {},
   "source": [
    "implying that $au_x = f'(\\xi)$. Then we have $u_t + cu_x= -f'(\\xi) +\n",
    "f'(\\xi) = 0$.\n",
    "\n",
    "<!-- --- end solution of exercise --- -->\n",
    "\n",
    "**i)**\n",
    "Use the initial condition to show that an exact solution is"
   ]
  },
  {
   "cell_type": "markdown",
   "metadata": {},
   "source": [
    "$$\n",
    "u(x,t) = I(C^{-1}(C(x)-t)),\n",
    "$$"
   ]
  },
  {
   "cell_type": "markdown",
   "metadata": {},
   "source": [
    "with $C^{-1}$ being the inverse function of $C = \\int c^{1}dx$.\n",
    "Since $C(x)$ is an integral $\\int_0^x (1/c)dx$,\n",
    "$C(x)$ is monotonically increasing and there exists hence an\n",
    "inverse function $C^{-1}$ with values in $[0,L]$.\n",
    "\n",
    "\n",
    "<!-- --- begin solution of exercise --- -->\n",
    "**Solution.**\n",
    "In general we have $u(x,t) = f(C(x)-t)$ and the solution is\n",
    "of this form with $f(\\xi)=I(C^{-1}(\\xi))$.\n",
    "Moreover, at $t=0$ we have\n",
    "$I(C^{-1}(C(x)))=I(x)$, which is the required initial condition.\n",
    "\n",
    "<!-- --- end solution of exercise --- -->\n",
    "\n",
    "To compute ([18](#wave:app:exer:advec1D:u:avar:sol)) we need to integrate\n",
    "$1/c$ to obtain $C$ and then compute the inverse of $C$.\n",
    "\n",
    "The inverse function computation can be easily done if we first think\n",
    "discretely. Say we have some function $y=g(x)$ and seek its inverse.\n",
    "Plotting $(x_i,y_i)$, where $y_i=g(x_i)$ for some mesh points $x_i$,\n",
    "displays $g$ as a function of $x$.\n",
    "The inverse function is simply $x$ as a function of $g$, i.e., the\n",
    "curve with points $(y_i,x_i)$. We can therefore quickly compute points\n",
    "at the curve of the inverse function. One way of extending these\n",
    "points to a continuous function is to assume a linear variation\n",
    "(known as linear interpolation)\n",
    "between the points (which actually means to draw straight lines between\n",
    "the points, exactly as done by a plotting program).\n",
    "\n",
    "The function `wrap2callable` in `scitools.std` can take a set of points\n",
    "and return a continuous function that corresponds to linear\n",
    "variation between the points. The computation of the inverse of a\n",
    "function $g$ on $[0,L]$ can then be done by"
   ]
  },
  {
   "cell_type": "code",
   "execution_count": 1,
   "metadata": {
    "collapsed": false
   },
   "outputs": [],
   "source": [
    "%matplotlib inline\n",
    "\n",
    "def inverse(g, domain, resolution=101):\n",
    "    x = linspace(domain[0], domain[L], resolution)\n",
    "    y = g(x)\n",
    "    from scitools.std import wrap2callable\n",
    "    g_inverse = wrap2callable((y, x))\n",
    "    return g_inverse"
   ]
  },
  {
   "cell_type": "markdown",
   "metadata": {},
   "source": [
    "To compute $C(x)$ we need to integrate $1/c$, which can be done by\n",
    "a Trapezoidal rule. Suppose we have computed $C(x_i)$ and need\n",
    "to compute $C(x_{i+1})$. Using the Trapezoidal rule with $m$ subintervals\n",
    "over the integration domain $[x_i,x_{i+1}]$ gives"
   ]
  },
  {
   "cell_type": "markdown",
   "metadata": {},
   "source": [
    "<!-- Equation labels as ordinary links -->\n",
    "<div id=\"wave:app:exer:advec1D:C:recursion\"></div>\n",
    "\n",
    "$$\n",
    "\\begin{equation}\n",
    "C(x_{i+1}) = C(x_i) + \\int_{x_i}^{x_{i+1}} \\frac{dx}{c}\n",
    "\\approx h\\left(\n",
    "\\frac{1}{2}\\frac{1}{c(x_i)} + \\frac{1}{2}\\frac{1}{c(x_{i+1})}\n",
    "+ \\sum_{j=1}^{m-1} \\frac{1}{c(x_i + jh)}\\right),\n",
    "\\label{wave:app:exer:advec1D:C:recursion} \\tag{19}\n",
    "\\end{equation}\n",
    "$$"
   ]
  },
  {
   "cell_type": "markdown",
   "metadata": {},
   "source": [
    "where $h=(x_{i+1}-x_i)/m$ is the length of the subintervals used\n",
    "for the integral over $[x_i,x_{i+1}]$.\n",
    "We observe that ([19](#wave:app:exer:advec1D:C:recursion)) is a\n",
    "*difference equation* which we can solve by repeatedly\n",
    "applying ([19](#wave:app:exer:advec1D:C:recursion)) for\n",
    "$i=0,1,\\ldots,N_x-1$ if a mesh $x_0,x_,\\ldots,x_{N_x}$ is prescribed.\n",
    "Note that $C(0)=0$.\n",
    "\n",
    "**j)**\n",
    "Implement a function for computing $C(x_i)$ and one for computing\n",
    "$C^{-1}(x)$ for any $x$. Use these two functions for computing\n",
    "the exact solution $I(C^{-1}(C(x)-t))$.\n",
    "End up with a function `u_exact_variable_c(x, n, c, I)` that returns\n",
    "the value of $I(C^{-1}(C(x)-t_n))$.\n",
    "\n",
    "**k)**\n",
    "Make movies showing a comparison of the numerical and exact solutions\n",
    "for the two initial conditions\n",
    "([16](#wave:app:exer:advec1D:I:sin)) and ([17](#wave:app:exer:advec1D:I:gauss)).\n",
    "Choose $\\Delta t = \\Delta x /\\max_{0,L} c(x)$\n",
    "and the velocity of the medium as\n",
    "\n",
    "1. $c(x) = 1 + \\epsilon\\sin(k\\pi x/L)$, $\\epsilon <1$,\n",
    "\n",
    "2. $c(x) = 1 + I(x)$, where $I$ is given by\n",
    "   ([16](#wave:app:exer:advec1D:I:sin)) or ([17](#wave:app:exer:advec1D:I:gauss)).\n",
    "\n",
    "The PDE $u_t + cu_x=0$ expresses that the initial condition $I(x)$\n",
    "is transported with velocity $c(x)$.\n",
    "\n",
    "Filename: `advec1D`.\n",
    "\n",
    "<!-- --- end exercise --- -->\n",
    "\n",
    "\n",
    "\n",
    "\n",
    "<!-- --- begin exercise --- -->\n",
    "\n",
    "## Problem 13: General analytical solution of a 1D damped wave equation\n",
    "<div id=\"wave:app:exer:anal:damped:wave1D\"></div>\n",
    "\n",
    "We consider an initial-boundary value problem for the damped wave equation:"
   ]
  },
  {
   "cell_type": "markdown",
   "metadata": {},
   "source": [
    "$$\n",
    "\\begin{alignat*}{2}\n",
    "u_{tt} +bu_t &= c^2 u_{xx}, \\quad &x\\in (0,L),\\ t\\in (0,T]\\\\\n",
    "u(0,t) &= 0,\\\\\n",
    "u(L,t) &=0,\\\\\n",
    "u(x, 0) &= I(x),\\\\\n",
    "u_t(x, 0) &= V(x)\\thinspace .\n",
    "\\end{alignat*}\n",
    "$$"
   ]
  },
  {
   "cell_type": "markdown",
   "metadata": {},
   "source": [
    "Here, $b\\geq 0$ and $c$ are given constants. The aim is to derive a general\n",
    "analytical solution of this problem. Familiarity with the method of\n",
    "separation of variables for solving PDEs will be assumed.\n",
    "\n",
    "\n",
    "**a)**\n",
    "Seek a solution on the form $u(x,t)=X(x)T(t)$. Insert this solution in\n",
    "the PDE and show that it leads to two differential equations for $X$ and $T$:"
   ]
  },
  {
   "cell_type": "markdown",
   "metadata": {},
   "source": [
    "$$\n",
    "T'' + bT' + \\lambda T = 0,\\quad c^2 X'' +\\lambda X = 0,\n",
    "$$"
   ]
  },
  {
   "cell_type": "markdown",
   "metadata": {},
   "source": [
    "with $X(0)=X(L)=0$ as boundary conditions, and $\\lambda$ as a constant\n",
    "to be determined.\n",
    "\n",
    "**b)**\n",
    "Show that $X(x)$ is on the form"
   ]
  },
  {
   "cell_type": "markdown",
   "metadata": {},
   "source": [
    "$$\n",
    "X_n(x) = C_n\\sin kx,\\quad k = \\frac{n\\pi}{L},\\quad n=1,2,\\ldots\n",
    "$$"
   ]
  },
  {
   "cell_type": "markdown",
   "metadata": {},
   "source": [
    "where $C_n$ is an arbitrary constant.\n",
    "\n",
    "<!-- lambda = k**2 -->\n",
    "\n",
    "\n",
    "**c)**\n",
    "Under the assumption that $(b/2)^2 < k^2$, show that $T(t)$ is on\n",
    "the form"
   ]
  },
  {
   "cell_type": "markdown",
   "metadata": {},
   "source": [
    "$$\n",
    "T_n(t) = e^{-{\\frac{1}{2}}bt}(a_n\\cos\\omega t + b_n\\sin\\omega t),\n",
    "\\quad\\omega = \\sqrt{k^2 - \\frac{1}{4}b^2},\\quad n=1,2,\\ldots\n",
    "$$"
   ]
  },
  {
   "cell_type": "markdown",
   "metadata": {},
   "source": [
    "The complete solution is then"
   ]
  },
  {
   "cell_type": "markdown",
   "metadata": {},
   "source": [
    "$$\n",
    "u(x,t) = \\sum_{n=1}^\\infty \\sin kx e^{-{\\frac{1}{2}}bt}(\n",
    "A_n\\cos\\omega t + B_n\\sin\\omega t),\n",
    "$$"
   ]
  },
  {
   "cell_type": "markdown",
   "metadata": {},
   "source": [
    "where the constants $A_n$ and $B_n$ must be computed from the initial\n",
    "conditions.\n",
    "\n",
    "**d)**\n",
    "Derive a formula for $A_n$ from $u(x,0)=I(x)$ and developing $I(x)$ as a sine\n",
    "Fourier series on $[0,L]$.\n",
    "\n",
    "**e)**\n",
    "Derive a formula for $B_n$ from $u_t(x,0)=V(x)$ and developing $V(x)$ as\n",
    "a sine Fourier series on $[0,L]$.\n",
    "\n",
    "**f)**\n",
    "Calculate $A_n$ and $B_n$ from vibrations of a string where $V(x)=0$ and"
   ]
  },
  {
   "cell_type": "markdown",
   "metadata": {},
   "source": [
    "<!-- Equation labels as ordinary links -->\n",
    "<div id=\"_auto6\"></div>\n",
    "\n",
    "$$\n",
    "\\begin{equation}\n",
    "I(x) = \\left\\lbrace\n",
    "\\begin{array}{ll}\n",
    "ax/x_0, & x < x_0,\\\\\n",
    "a(L-x)/(L-x_0), & \\hbox{otherwise}\n",
    "\\end{array}\\right.\n",
    "\\label{_auto6} \\tag{20}\n",
    "\\end{equation}\n",
    "$$"
   ]
  },
  {
   "cell_type": "markdown",
   "metadata": {},
   "source": [
    "**g)**\n",
    "Implement a function `u_series(x, t, tol=1E-10)` for\n",
    "the series for $u(x,t)$,\n",
    "where `tol` is a tolerance for truncating the series. Simply sum\n",
    "the terms until $|a_n|$ and $|b_b|$ both are less than `tol`.\n",
    "\n",
    "**h)**\n",
    "What will change in the derivation of the analytical solution if we\n",
    "have $u_x(0,t)=u_x(L,t)=0$ as boundary conditions?\n",
    "And how will you solve the problem with $u(0,t)=0$ and $u_x(L,t)=0$?\n",
    "\n",
    "<!-- sin goes to cos, k changes as cos(kL)=0 -->\n",
    "\n",
    "Filename: `damped_wave1D`.\n",
    "\n",
    "<!-- --- end exercise --- -->\n",
    "\n",
    "\n",
    "\n",
    "\n",
    "<!-- --- begin exercise --- -->\n",
    "\n",
    "## Problem 14: General analytical solution of a 2D damped wave equation\n",
    "<div id=\"wave:app:exer:anal:damped:wave2D\"></div>\n",
    "\n",
    "Carry out [Problem 13: General analytical solution of a 1D damped wave equation](#wave:app:exer:anal:damped:wave1D) in the 2D\n",
    "case: $u_{tt}+bu_t = c^2(u_{xx}+u_{yy})$, where $(x,y)\\in (0,L_x)\\times\n",
    "(0,L_y)$. Assume a solution on the form $u(x,y,t)=X(x)Y(y)T(t)$.\n",
    "Filename: `damped_wave2D`.\n",
    "\n",
    "<!-- --- end exercise --- -->"
   ]
  }
 ],
 "metadata": {},
 "nbformat": 4,
 "nbformat_minor": 4
}
