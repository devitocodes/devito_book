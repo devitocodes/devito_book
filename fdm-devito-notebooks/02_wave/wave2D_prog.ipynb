{
 "cells": [
  {
   "cell_type": "markdown",
   "metadata": {},
   "source": [
    "# Implementation\n",
    "<div id=\"wave:2D3D:impl\"></div>\n",
    "\n",
    "[Video here](mov-wave/mayavi/wave2D_u0_gaussian/movie.mp4)\n",
    "\n",
    "We shall now describe in detail various Python implementations\n",
    "for solving a standard 2D, linear wave equation with constant\n",
    "wave velocity and $u=0$ on the\n",
    "boundary. The wave equation is to be solved\n",
    "in the space-time domain $\\Omega\\times (0,T]$,\n",
    "where $\\Omega = (0,L_x)\\times (0,L_y)$ is a rectangular spatial\n",
    "domain. More precisely,\n",
    "the complete initial-boundary value problem is defined by"
   ]
  },
  {
   "cell_type": "markdown",
   "metadata": {},
   "source": [
    "<!-- Equation labels as ordinary links -->\n",
    "<div id=\"_auto1\"></div>\n",
    "\n",
    "$$\n",
    "\\begin{equation}\n",
    "u_{tt} = c^2(u_{xx} + u_{yy}) + f(x,y,t),\\quad (x,y)\\in \\Omega,\\ t\\in (0,T],\n",
    "\\label{_auto1} \\tag{1}\n",
    "\\end{equation}\n",
    "$$"
   ]
  },
  {
   "cell_type": "markdown",
   "metadata": {},
   "source": [
    "<!-- Equation labels as ordinary links -->\n",
    "<div id=\"_auto2\"></div>\n",
    "\n",
    "$$\n",
    "\\begin{equation} \n",
    "u(x,y,0) = I(x,y),\\quad (x,y)\\in\\Omega,\n",
    "\\label{_auto2} \\tag{2}\n",
    "\\end{equation}\n",
    "$$"
   ]
  },
  {
   "cell_type": "markdown",
   "metadata": {},
   "source": [
    "<!-- Equation labels as ordinary links -->\n",
    "<div id=\"_auto3\"></div>\n",
    "\n",
    "$$\n",
    "\\begin{equation} \n",
    "u_t(x,y,0) = V(x,y),\\quad (x,y)\\in\\Omega,\n",
    "\\label{_auto3} \\tag{3}\n",
    "\\end{equation}\n",
    "$$"
   ]
  },
  {
   "cell_type": "markdown",
   "metadata": {},
   "source": [
    "<!-- Equation labels as ordinary links -->\n",
    "<div id=\"_auto4\"></div>\n",
    "\n",
    "$$\n",
    "\\begin{equation} \n",
    "u = 0,\\quad (x,y)\\in\\partial\\Omega,\\ t\\in (0,T],\n",
    "\\label{_auto4} \\tag{4}\n",
    "\\end{equation}\n",
    "$$"
   ]
  },
  {
   "cell_type": "markdown",
   "metadata": {},
   "source": [
    "where $\\partial\\Omega$ is the boundary of $\\Omega$, in this case\n",
    "the four sides of the rectangle $\\Omega = [0,L_x]\\times [0,L_y]$:\n",
    "$x=0$, $x=L_x$, $y=0$, and $y=L_y$.\n",
    "\n",
    "The PDE is discretized as"
   ]
  },
  {
   "cell_type": "markdown",
   "metadata": {},
   "source": [
    "$$\n",
    "[D_t D_t u = c^2(D_xD_x u + D_yD_y u) + f]^n_{i,j},\n",
    "$$"
   ]
  },
  {
   "cell_type": "markdown",
   "metadata": {},
   "source": [
    "which leads to an explicit updating formula to be implemented in a\n",
    "program:"
   ]
  },
  {
   "cell_type": "markdown",
   "metadata": {},
   "source": [
    "$$\n",
    "u^{n+1}_{i,j} = -u^{n-1}_{i,j} + 2u^n_{i,j} + \\nonumber\n",
    "$$"
   ]
  },
  {
   "cell_type": "markdown",
   "metadata": {},
   "source": [
    "<!-- Equation labels as ordinary links -->\n",
    "<div id=\"wave:2D3D:impl1:2Du0:ueq:discrete\"></div>\n",
    "\n",
    "$$\n",
    "\\begin{equation} \n",
    "\\quad C_x^2(\n",
    "u^{n}_{i+1,j} - 2u^{n}_{i,j} + u^{n}_{i-1,j}) + C_y^2\n",
    "(u^{n}_{i,j+1} - 2u^{n}_{i,j} + u^{n}_{i,j-1}) + \\Delta t^2 f_{i,j}^n,\n",
    "\\label{wave:2D3D:impl1:2Du0:ueq:discrete} \\tag{5}\n",
    "\\end{equation}\n",
    "$$"
   ]
  },
  {
   "cell_type": "markdown",
   "metadata": {},
   "source": [
    "for all interior mesh points $i\\in\\seti{\\mathcal{I}_x}$ and\n",
    "$j\\in\\seti{\\Iy}$, for $n\\in\\setr{\\mathcal{I}_t}$.\n",
    "The constants $C_x$ and $C_y$ are defined as"
   ]
  },
  {
   "cell_type": "markdown",
   "metadata": {},
   "source": [
    "$$\n",
    "C_x = c\\frac{\\Delta t}{\\Delta x},\\quad C_y = c\\frac{\\Delta t}{\\Delta y}\n",
    "\\thinspace .\n",
    "$$"
   ]
  },
  {
   "cell_type": "markdown",
   "metadata": {},
   "source": [
    "At the boundary, we simply set $u^{n+1}_{i,j}=0$ for\n",
    "$i=0$, $j=0,\\ldots,N_y$; $i=N_x$, $j=0,\\ldots,N_y$;\n",
    "$j=0$, $i=0,\\ldots,N_x$; and $j=N_y$, $i=0,\\ldots,N_x$.\n",
    "For the first step, $n=0$, ([5](#wave:2D3D:impl1:2Du0:ueq:discrete))\n",
    "is combined with the discretization of the initial condition $u_t=V$,\n",
    "$[D_{2t} u = V]^0_{i,j}$ to obtain a special formula for\n",
    "$u^1_{i,j}$ at the interior mesh points:"
   ]
  },
  {
   "cell_type": "markdown",
   "metadata": {},
   "source": [
    "$$\n",
    "u^{1}_{i,j} = u^0_{i,j} + \\Delta t V_{i,j} + \\nonumber\n",
    "$$"
   ]
  },
  {
   "cell_type": "markdown",
   "metadata": {},
   "source": [
    "$$\n",
    "\\quad {\\frac{1}{2}}C_x^2(\n",
    "u^{0}_{i+1,j} - 2u^{0}_{i,j} + u^{0}_{i-1,j}) + {\\frac{1}{2}}C_y^2\n",
    "(u^{0}_{i,j+1} - 2u^{0}_{i,j} + u^{0}_{i,j-1}) +\\nonumber\n",
    "$$"
   ]
  },
  {
   "cell_type": "markdown",
   "metadata": {},
   "source": [
    "<!-- Equation labels as ordinary links -->\n",
    "<div id=\"wave:2D3D:impl1:2Du0:ueq:n0:discrete\"></div>\n",
    "\n",
    "$$\n",
    "\\begin{equation} \n",
    "\\quad \\frac{1}{2}\\Delta t^2f_{i,j}^n,\n",
    "\\label{wave:2D3D:impl1:2Du0:ueq:n0:discrete} \\tag{6}\n",
    "\\end{equation}\n",
    "$$"
   ]
  },
  {
   "cell_type": "markdown",
   "metadata": {},
   "source": [
    "The algorithm is very similar to the one in 1D:\n",
    "\n",
    "1. Set initial condition $u^0_{i,j}=I(x_i,y_j)$\n",
    "\n",
    "2. Compute $u^1_{i,j}$ from ([5](#wave:2D3D:impl1:2Du0:ueq:discrete))\n",
    "\n",
    "3. Set $u^1_{i,j}=0$ for the boundaries $i=0,N_x$, $j=0,N_y$\n",
    "\n",
    "4. For $n=1,2,\\ldots,N_t$:\n",
    "\n",
    "a. Find $u^{n+1}_{i,j}$ from ([5](#wave:2D3D:impl1:2Du0:ueq:discrete))\n",
    "    for all internal mesh points, $i\\in\\seti{\\mathcal{I}_x}$, $j\\in\\seti{\\Iy}$\n",
    "\n",
    "b. Set $u^{n+1}_{i,j}=0$ for the boundaries $i=0,N_x$, $j=0,N_y$\n",
    "\n",
    "\n",
    "## Scalar computations\n",
    "<div id=\"wave2D3D:impl:scalar\"></div>\n",
    "\n",
    "\n",
    "The `solver` function for a 2D case with constant wave velocity and\n",
    "boundary condition $u=0$ is analogous to the 1D case with similar parameter\n",
    "values (see `wave1D_u0.py`), apart from a few necessary\n",
    "extensions. The code is found in the program\n",
    "[`wave2D_u0.py`](${src_wave}/wave2D_u0/wave2D_u0.py).\n",
    "\n",
    "### Domain and mesh\n",
    "\n",
    "The spatial domain is now $[0,L_x]\\times [0,L_y]$, specified\n",
    "by the arguments `Lx` and `Ly`. Similarly, the number of mesh\n",
    "points in the $x$ and $y$ directions,\n",
    "$N_x$ and $N_y$, become the arguments `Nx` and `Ny`.\n",
    "In multi-dimensional problems it makes less sense to specify a\n",
    "Courant number since the wave velocity is a vector and mesh spacings\n",
    "may differ in the various spatial directions.\n",
    "We therefore give $\\Delta t$ explicitly. The signature of\n",
    "the `solver` function is then"
   ]
  },
  {
   "cell_type": "code",
   "execution_count": 3,
   "metadata": {},
   "outputs": [
    {
     "ename": "SyntaxError",
     "evalue": "unexpected EOF while parsing (<ipython-input-3-edc2d0ac531f>, line 2)",
     "output_type": "error",
     "traceback": [
      "\u001b[0;36m  File \u001b[0;32m\"<ipython-input-3-edc2d0ac531f>\"\u001b[0;36m, line \u001b[0;32m2\u001b[0m\n\u001b[0;31m    user_action=None, version='scalar'):\u001b[0m\n\u001b[0m                                        ^\u001b[0m\n\u001b[0;31mSyntaxError\u001b[0m\u001b[0;31m:\u001b[0m unexpected EOF while parsing\n"
     ]
    }
   ],
   "source": [
    "def solver(I, V, f, c, Lx, Ly, Nx, Ny, dt, T,\n",
    "           user_action=None, version='scalar'):"
   ]
  },
  {
   "cell_type": "markdown",
   "metadata": {},
   "source": [
    "Key parameters used in the calculations are created as"
   ]
  },
  {
   "cell_type": "code",
   "execution_count": 4,
   "metadata": {},
   "outputs": [
    {
     "ename": "NameError",
     "evalue": "name 'linspace' is not defined",
     "output_type": "error",
     "traceback": [
      "\u001b[0;31m---------------------------------------------------------------------------\u001b[0m",
      "\u001b[0;31mNameError\u001b[0m                                 Traceback (most recent call last)",
      "\u001b[0;32m<ipython-input-4-932b4fefbee2>\u001b[0m in \u001b[0;36m<module>\u001b[0;34m\u001b[0m\n\u001b[0;32m----> 1\u001b[0;31m \u001b[0mx\u001b[0m \u001b[0;34m=\u001b[0m \u001b[0mlinspace\u001b[0m\u001b[0;34m(\u001b[0m\u001b[0;36m0\u001b[0m\u001b[0;34m,\u001b[0m \u001b[0mLx\u001b[0m\u001b[0;34m,\u001b[0m \u001b[0mNx\u001b[0m\u001b[0;34m+\u001b[0m\u001b[0;36m1\u001b[0m\u001b[0;34m)\u001b[0m                  \u001b[0;31m# mesh points in x dir\u001b[0m\u001b[0;34m\u001b[0m\u001b[0;34m\u001b[0m\u001b[0m\n\u001b[0m\u001b[1;32m      2\u001b[0m \u001b[0my\u001b[0m \u001b[0;34m=\u001b[0m \u001b[0mlinspace\u001b[0m\u001b[0;34m(\u001b[0m\u001b[0;36m0\u001b[0m\u001b[0;34m,\u001b[0m \u001b[0mLy\u001b[0m\u001b[0;34m,\u001b[0m \u001b[0mNy\u001b[0m\u001b[0;34m+\u001b[0m\u001b[0;36m1\u001b[0m\u001b[0;34m)\u001b[0m                  \u001b[0;31m# mesh points in y dir\u001b[0m\u001b[0;34m\u001b[0m\u001b[0;34m\u001b[0m\u001b[0m\n\u001b[1;32m      3\u001b[0m \u001b[0mdx\u001b[0m \u001b[0;34m=\u001b[0m \u001b[0mx\u001b[0m\u001b[0;34m[\u001b[0m\u001b[0;36m1\u001b[0m\u001b[0;34m]\u001b[0m \u001b[0;34m-\u001b[0m \u001b[0mx\u001b[0m\u001b[0;34m[\u001b[0m\u001b[0;36m0\u001b[0m\u001b[0;34m]\u001b[0m\u001b[0;34m\u001b[0m\u001b[0;34m\u001b[0m\u001b[0m\n\u001b[1;32m      4\u001b[0m \u001b[0mdy\u001b[0m \u001b[0;34m=\u001b[0m \u001b[0my\u001b[0m\u001b[0;34m[\u001b[0m\u001b[0;36m1\u001b[0m\u001b[0;34m]\u001b[0m \u001b[0;34m-\u001b[0m \u001b[0my\u001b[0m\u001b[0;34m[\u001b[0m\u001b[0;36m0\u001b[0m\u001b[0;34m]\u001b[0m\u001b[0;34m\u001b[0m\u001b[0;34m\u001b[0m\u001b[0m\n\u001b[1;32m      5\u001b[0m \u001b[0mNt\u001b[0m \u001b[0;34m=\u001b[0m \u001b[0mint\u001b[0m\u001b[0;34m(\u001b[0m\u001b[0mround\u001b[0m\u001b[0;34m(\u001b[0m\u001b[0mT\u001b[0m\u001b[0;34m/\u001b[0m\u001b[0mfloat\u001b[0m\u001b[0;34m(\u001b[0m\u001b[0mdt\u001b[0m\u001b[0;34m)\u001b[0m\u001b[0;34m)\u001b[0m\u001b[0;34m)\u001b[0m\u001b[0;34m\u001b[0m\u001b[0;34m\u001b[0m\u001b[0m\n",
      "\u001b[0;31mNameError\u001b[0m: name 'linspace' is not defined"
     ]
    }
   ],
   "source": [
    "x = linspace(0, Lx, Nx+1)                  # mesh points in x dir\n",
    "y = linspace(0, Ly, Ny+1)                  # mesh points in y dir\n",
    "dx = x[1] - x[0]\n",
    "dy = y[1] - y[0]\n",
    "Nt = int(round(T/float(dt)))\n",
    "t = linspace(0, N*dt, N+1)                 # mesh points in time\n",
    "Cx2 = (c*dt/dx)**2;  Cy2 = (c*dt/dy)**2    # help variables\n",
    "dt2 = dt**2"
   ]
  },
  {
   "cell_type": "markdown",
   "metadata": {},
   "source": [
    "### Solution arrays\n",
    "\n",
    "We store $u^{n+1}_{i,j}$, $u^{n}_{i,j}$, and\n",
    "$u^{n-1}_{i,j}$ in three two-dimensional arrays,"
   ]
  },
  {
   "cell_type": "code",
   "execution_count": 5,
   "metadata": {},
   "outputs": [
    {
     "ename": "NameError",
     "evalue": "name 'zeros' is not defined",
     "output_type": "error",
     "traceback": [
      "\u001b[0;31m---------------------------------------------------------------------------\u001b[0m",
      "\u001b[0;31mNameError\u001b[0m                                 Traceback (most recent call last)",
      "\u001b[0;32m<ipython-input-5-6b966be56677>\u001b[0m in \u001b[0;36m<module>\u001b[0;34m\u001b[0m\n\u001b[0;32m----> 1\u001b[0;31m \u001b[0mu\u001b[0m   \u001b[0;34m=\u001b[0m \u001b[0mzeros\u001b[0m\u001b[0;34m(\u001b[0m\u001b[0;34m(\u001b[0m\u001b[0mNx\u001b[0m\u001b[0;34m+\u001b[0m\u001b[0;36m1\u001b[0m\u001b[0;34m,\u001b[0m\u001b[0mNy\u001b[0m\u001b[0;34m+\u001b[0m\u001b[0;36m1\u001b[0m\u001b[0;34m)\u001b[0m\u001b[0;34m)\u001b[0m   \u001b[0;31m# solution array\u001b[0m\u001b[0;34m\u001b[0m\u001b[0;34m\u001b[0m\u001b[0m\n\u001b[0m\u001b[1;32m      2\u001b[0m \u001b[0mu_n\u001b[0m \u001b[0;34m=\u001b[0m \u001b[0;34m[\u001b[0m\u001b[0mzeros\u001b[0m\u001b[0;34m(\u001b[0m\u001b[0;34m(\u001b[0m\u001b[0mNx\u001b[0m\u001b[0;34m+\u001b[0m\u001b[0;36m1\u001b[0m\u001b[0;34m,\u001b[0m\u001b[0mNy\u001b[0m\u001b[0;34m+\u001b[0m\u001b[0;36m1\u001b[0m\u001b[0;34m)\u001b[0m\u001b[0;34m)\u001b[0m\u001b[0;34m,\u001b[0m \u001b[0mzeros\u001b[0m\u001b[0;34m(\u001b[0m\u001b[0;34m(\u001b[0m\u001b[0mNx\u001b[0m\u001b[0;34m+\u001b[0m\u001b[0;36m1\u001b[0m\u001b[0;34m,\u001b[0m\u001b[0mNy\u001b[0m\u001b[0;34m+\u001b[0m\u001b[0;36m1\u001b[0m\u001b[0;34m)\u001b[0m\u001b[0;34m)\u001b[0m\u001b[0;34m]\u001b[0m  \u001b[0;31m# t-dt, t-2*dt\u001b[0m\u001b[0;34m\u001b[0m\u001b[0;34m\u001b[0m\u001b[0m\n",
      "\u001b[0;31mNameError\u001b[0m: name 'zeros' is not defined"
     ]
    }
   ],
   "source": [
    "u   = zeros((Nx+1,Ny+1))   # solution array\n",
    "u_n = [zeros((Nx+1,Ny+1)), zeros((Nx+1,Ny+1))]  # t-dt, t-2*dt"
   ]
  },
  {
   "cell_type": "markdown",
   "metadata": {},
   "source": [
    "where $u^{n+1}_{i,j}$ corresponds to `u[i,j]`,\n",
    "$u^{n}_{i,j}$ to `u_n[i,j]`, and\n",
    "$u^{n-1}_{i,j}$ to `u_nm1[i,j]`.\n",
    "\n",
    "\n",
    "### Index sets\n",
    "\n",
    "mathcal{I}_t is also convenient to introduce the index sets (cf. the section [wave:indexset](#wave:indexset))"
   ]
  },
  {
   "cell_type": "code",
   "execution_count": 6,
   "metadata": {},
   "outputs": [
    {
     "ename": "SyntaxError",
     "evalue": "invalid syntax (<ipython-input-6-a6a302513643>, line 1)",
     "output_type": "error",
     "traceback": [
      "\u001b[0;36m  File \u001b[0;32m\"<ipython-input-6-a6a302513643>\"\u001b[0;36m, line \u001b[0;32m1\u001b[0m\n\u001b[0;31m    mathcal{I}_x = range(0, u.shape[0])\u001b[0m\n\u001b[0m           ^\u001b[0m\n\u001b[0;31mSyntaxError\u001b[0m\u001b[0;31m:\u001b[0m invalid syntax\n"
     ]
    }
   ],
   "source": [
    "mathcal{I}_x = range(0, u.shape[0])\n",
    "Iy = range(0, u.shape[1])\n",
    "mathcal{I}_t = range(0, t.shape[0])"
   ]
  },
  {
   "cell_type": "markdown",
   "metadata": {},
   "source": [
    "### Computing the solution\n",
    "\n",
    "Inserting the initial\n",
    "condition `I` in `u_n` and making a callback to the user in terms of\n",
    "the `user_action` function is a straightforward generalization of\n",
    "the 1D code from the section [wave:string:impl](#wave:string:impl):"
   ]
  },
  {
   "cell_type": "code",
   "execution_count": 7,
   "metadata": {},
   "outputs": [
    {
     "ename": "SyntaxError",
     "evalue": "invalid syntax (<ipython-input-7-f7875c171ca8>, line 1)",
     "output_type": "error",
     "traceback": [
      "\u001b[0;36m  File \u001b[0;32m\"<ipython-input-7-f7875c171ca8>\"\u001b[0;36m, line \u001b[0;32m1\u001b[0m\n\u001b[0;31m    for i in mathcal{I}_x:\u001b[0m\n\u001b[0m                    ^\u001b[0m\n\u001b[0;31mSyntaxError\u001b[0m\u001b[0;31m:\u001b[0m invalid syntax\n"
     ]
    }
   ],
   "source": [
    "for i in mathcal{I}_x:\n",
    "    for j in Iy:\n",
    "        u_n[i,j] = I(x[i], y[j])\n",
    "\n",
    "if user_action is not None:\n",
    "    user_action(u_n, x, xv, y, yv, t, 0)"
   ]
  },
  {
   "cell_type": "markdown",
   "metadata": {},
   "source": [
    "The `user_action` function has additional arguments compared to the\n",
    "1D case. The arguments `xv` and `yv` will be commented\n",
    "upon in the section [Vectorized computations](#wave2D3D:impl:vectorized).\n",
    "\n",
    "The key finite difference formula ([wave:2D3D:models:unp1](#wave:2D3D:models:unp1))\n",
    "for updating the solution at\n",
    "a time level is implemented in a separate function as"
   ]
  },
  {
   "cell_type": "code",
   "execution_count": 8,
   "metadata": {},
   "outputs": [
    {
     "ename": "SyntaxError",
     "evalue": "invalid syntax (<ipython-input-8-41d61586e2d2>, line 3)",
     "output_type": "error",
     "traceback": [
      "\u001b[0;36m  File \u001b[0;32m\"<ipython-input-8-41d61586e2d2>\"\u001b[0;36m, line \u001b[0;32m3\u001b[0m\n\u001b[0;31m    mathcal{I}_x = range(0, u.shape[0]);  Iy = range(0, u.shape[1])\u001b[0m\n\u001b[0m           ^\u001b[0m\n\u001b[0;31mSyntaxError\u001b[0m\u001b[0;31m:\u001b[0m invalid syntax\n"
     ]
    }
   ],
   "source": [
    "def advance_scalar(u, u_n, u_nm1, f, x, y, t, n, Cx2, Cy2, dt2,\n",
    "                   V=None, step1=False):\n",
    "    mathcal{I}_x = range(0, u.shape[0]);  Iy = range(0, u.shape[1])\n",
    "    if step1:\n",
    "        dt = sqrt(dt2)  # save\n",
    "        Cx2 = 0.5*Cx2;  Cy2 = 0.5*Cy2; dt2 = 0.5*dt2  # redefine\n",
    "        D1 = 1;  D2 = 0\n",
    "    else:\n",
    "        D1 = 2;  D2 = 1\n",
    "    for i in mathcal{I}_x[1:-1]:\n",
    "        for j in Iy[1:-1]:\n",
    "            u_xx = u_n[i-1,j] - 2*u_n[i,j] + u_n[i+1,j]\n",
    "            u_yy = u_n[i,j-1] - 2*u_n[i,j] + u_n[i,j+1]\n",
    "            u[i,j] = D1*u_n[i,j] - D2*u_nm1[i,j] + \\\n",
    "                     Cx2*u_xx + Cy2*u_yy + dt2*f(x[i], y[j], t[n])\n",
    "            if step1:\n",
    "                u[i,j] += dt*V(x[i], y[j])\n",
    "    # Boundary condition u=0\n",
    "    j = Iy[0]\n",
    "    for i in mathcal{I}_x: u[i,j] = 0\n",
    "    j = Iy[-1]\n",
    "    for i in mathcal{I}_x: u[i,j] = 0\n",
    "    i = mathcal{I}_x[0]\n",
    "    for j in Iy: u[i,j] = 0\n",
    "    i = mathcal{I}_x[-1]\n",
    "    for j in Iy: u[i,j] = 0\n",
    "    return u"
   ]
  },
  {
   "cell_type": "markdown",
   "metadata": {},
   "source": [
    "The `step1` variable has been introduced to allow the formula to be\n",
    "reused for the first step, computing $u^1_{i,j}$:"
   ]
  },
  {
   "cell_type": "code",
   "execution_count": 9,
   "metadata": {},
   "outputs": [
    {
     "ename": "NameError",
     "evalue": "name 'advance_scalar' is not defined",
     "output_type": "error",
     "traceback": [
      "\u001b[0;31m---------------------------------------------------------------------------\u001b[0m",
      "\u001b[0;31mNameError\u001b[0m                                 Traceback (most recent call last)",
      "\u001b[0;32m<ipython-input-9-83d64bb1592e>\u001b[0m in \u001b[0;36m<module>\u001b[0;34m\u001b[0m\n\u001b[0;32m----> 1\u001b[0;31m u = advance_scalar(u, u_n, f, x, y, t,\n\u001b[0m\u001b[1;32m      2\u001b[0m                    n, Cx2, Cy2, dt, V, step1=True)\n",
      "\u001b[0;31mNameError\u001b[0m: name 'advance_scalar' is not defined"
     ]
    }
   ],
   "source": [
    "u = advance_scalar(u, u_n, f, x, y, t,\n",
    "                   n, Cx2, Cy2, dt, V, step1=True)"
   ]
  },
  {
   "cell_type": "markdown",
   "metadata": {},
   "source": [
    "Below, we will make many alternative implementations of the\n",
    "`advance_scalar` function to speed up the code since most of\n",
    "the CPU time in simulations is spent in this function.\n",
    "\n",
    "**Remark: How to use the solution.**\n",
    "\n",
    "The `solver` function in the `wave2D_u0.py` code\n",
    "updates arrays for the next time step by switching references as\n",
    "described in the section [wave:pde1:impl:ref:switch](#wave:pde1:impl:ref:switch). Any use of `u` on the\n",
    "user's side is assumed to take place in the user action function. However,\n",
    "should the code be changed such that `u` is returned and used as solution,\n",
    "have in mind that you must return `u_n` after the time limit, otherwise\n",
    "a `return u` will actually return `u_nm1` (due to the switching of array\n",
    "indices in the loop)!\n",
    "\n",
    "\n",
    "\n",
    "## Vectorized computations\n",
    "<div id=\"wave2D3D:impl:vectorized\"></div>\n",
    "\n",
    "\n",
    "The scalar code above turns out to be extremely slow for large 2D\n",
    "meshes, and probably useless in 3D beyond debugging of small test cases.\n",
    "Vectorization is therefore a must for multi-dimensional\n",
    "finite difference computations in Python. For example,\n",
    "with a mesh consisting of $30\\times 30$ cells, vectorization\n",
    "brings down the CPU time by a factor of 70 (!). Equally important,\n",
    "vectorized code can also easily be parallelized to take (usually)\n",
    "optimal advantage of parallel computer platforms.\n",
    "\n",
    "In the vectorized case, we must be able to evaluate user-given\n",
    "functions like $I(x,y)$ and $f(x,y,t)$ for the entire mesh in one\n",
    "operation (without loops). These user-given functions are provided as\n",
    "Python functions `I(x,y)` and `f(x,y,t)`, respectively.  Having the\n",
    "one-dimensional coordinate arrays `x` and `y` is not sufficient when\n",
    "calling `I` and `f` in a vectorized way.  We must extend `x` and `y`\n",
    "to their vectorized versions `xv` and `yv`:"
   ]
  },
  {
   "cell_type": "code",
   "execution_count": 10,
   "metadata": {},
   "outputs": [
    {
     "ename": "NameError",
     "evalue": "name 'x' is not defined",
     "output_type": "error",
     "traceback": [
      "\u001b[0;31m---------------------------------------------------------------------------\u001b[0m",
      "\u001b[0;31mNameError\u001b[0m                                 Traceback (most recent call last)",
      "\u001b[0;32m<ipython-input-10-1752ec18a215>\u001b[0m in \u001b[0;36m<module>\u001b[0;34m\u001b[0m\n\u001b[1;32m      1\u001b[0m \u001b[0;32mfrom\u001b[0m \u001b[0mnumpy\u001b[0m \u001b[0;32mimport\u001b[0m \u001b[0mnewaxis\u001b[0m\u001b[0;34m\u001b[0m\u001b[0;34m\u001b[0m\u001b[0m\n\u001b[0;32m----> 2\u001b[0;31m \u001b[0mxv\u001b[0m \u001b[0;34m=\u001b[0m \u001b[0mx\u001b[0m\u001b[0;34m[\u001b[0m\u001b[0;34m:\u001b[0m\u001b[0;34m,\u001b[0m\u001b[0mnewaxis\u001b[0m\u001b[0;34m]\u001b[0m\u001b[0;34m\u001b[0m\u001b[0;34m\u001b[0m\u001b[0m\n\u001b[0m\u001b[1;32m      3\u001b[0m \u001b[0myv\u001b[0m \u001b[0;34m=\u001b[0m \u001b[0my\u001b[0m\u001b[0;34m[\u001b[0m\u001b[0mnewaxis\u001b[0m\u001b[0;34m,\u001b[0m\u001b[0;34m:\u001b[0m\u001b[0;34m]\u001b[0m\u001b[0;34m\u001b[0m\u001b[0;34m\u001b[0m\u001b[0m\n\u001b[1;32m      4\u001b[0m \u001b[0;31m# or\u001b[0m\u001b[0;34m\u001b[0m\u001b[0;34m\u001b[0m\u001b[0;34m\u001b[0m\u001b[0m\n\u001b[1;32m      5\u001b[0m \u001b[0mxv\u001b[0m \u001b[0;34m=\u001b[0m \u001b[0mx\u001b[0m\u001b[0;34m.\u001b[0m\u001b[0mreshape\u001b[0m\u001b[0;34m(\u001b[0m\u001b[0;34m(\u001b[0m\u001b[0mx\u001b[0m\u001b[0;34m.\u001b[0m\u001b[0msize\u001b[0m\u001b[0;34m,\u001b[0m \u001b[0;36m1\u001b[0m\u001b[0;34m)\u001b[0m\u001b[0;34m)\u001b[0m\u001b[0;34m\u001b[0m\u001b[0;34m\u001b[0m\u001b[0m\n",
      "\u001b[0;31mNameError\u001b[0m: name 'x' is not defined"
     ]
    }
   ],
   "source": [
    "from numpy import newaxis\n",
    "xv = x[:,newaxis]\n",
    "yv = y[newaxis,:]\n",
    "# or\n",
    "xv = x.reshape((x.size, 1))\n",
    "yv = y.reshape((1, y.size))"
   ]
  },
  {
   "cell_type": "markdown",
   "metadata": {},
   "source": [
    "This is a standard required technique when evaluating functions over\n",
    "a 2D mesh, say `sin(xv)*cos(xv)`, which then gives a result with shape\n",
    "`(Nx+1,Ny+1)`. Calling `I(xv, yv)` and `f(xv, yv, t[n])` will now\n",
    "return `I` and `f` values for the entire set of mesh points.\n",
    "\n",
    "With the `xv` and `yv` arrays for vectorized computing,\n",
    "setting the initial condition is just a matter of"
   ]
  },
  {
   "cell_type": "code",
   "execution_count": 11,
   "metadata": {},
   "outputs": [
    {
     "ename": "NameError",
     "evalue": "name 'I' is not defined",
     "output_type": "error",
     "traceback": [
      "\u001b[0;31m---------------------------------------------------------------------------\u001b[0m",
      "\u001b[0;31mNameError\u001b[0m                                 Traceback (most recent call last)",
      "\u001b[0;32m<ipython-input-11-0b4a37ece73c>\u001b[0m in \u001b[0;36m<module>\u001b[0;34m\u001b[0m\n\u001b[0;32m----> 1\u001b[0;31m \u001b[0mu_n\u001b[0m\u001b[0;34m[\u001b[0m\u001b[0;34m:\u001b[0m\u001b[0;34m,\u001b[0m\u001b[0;34m:\u001b[0m\u001b[0;34m]\u001b[0m \u001b[0;34m=\u001b[0m \u001b[0mI\u001b[0m\u001b[0;34m(\u001b[0m\u001b[0mxv\u001b[0m\u001b[0;34m,\u001b[0m \u001b[0myv\u001b[0m\u001b[0;34m)\u001b[0m\u001b[0;34m\u001b[0m\u001b[0;34m\u001b[0m\u001b[0m\n\u001b[0m",
      "\u001b[0;31mNameError\u001b[0m: name 'I' is not defined"
     ]
    }
   ],
   "source": [
    "u_n[:,:] = I(xv, yv)"
   ]
  },
  {
   "cell_type": "markdown",
   "metadata": {},
   "source": [
    "One could also have written `u_n = I(xv, yv)` and let `u_n` point to a\n",
    "new object, but vectorized operations often make use of direct\n",
    "insertion in the original array through `u_n[:,:]`, because sometimes\n",
    "not all of the array is to be filled by such a function\n",
    "evaluation. This is the case with the computational scheme for\n",
    "$u^{n+1}_{i,j}$:"
   ]
  },
  {
   "cell_type": "code",
   "execution_count": 12,
   "metadata": {},
   "outputs": [],
   "source": [
    "def advance_vectorized(u, u_n, u_nm1, f_a, Cx2, Cy2, dt2,\n",
    "                       V=None, step1=False):\n",
    "    if step1:\n",
    "        dt = np.sqrt(dt2)  # save\n",
    "        Cx2 = 0.5*Cx2;  Cy2 = 0.5*Cy2; dt2 = 0.5*dt2  # redefine\n",
    "        D1 = 1;  D2 = 0\n",
    "    else:\n",
    "        D1 = 2;  D2 = 1\n",
    "    u_xx = u_n[:-2,1:-1] - 2*u_n[1:-1,1:-1] + u_n[2:,1:-1]\n",
    "    u_yy = u_n[1:-1,:-2] - 2*u_n[1:-1,1:-1] + u_n[1:-1,2:]\n",
    "    u[1:-1,1:-1] = D1*u_n[1:-1,1:-1] - D2*u_nm1[1:-1,1:-1] + \\\n",
    "                   Cx2*u_xx + Cy2*u_yy + dt2*f_a[1:-1,1:-1]\n",
    "    if step1:\n",
    "        u[1:-1,1:-1] += dt*V[1:-1, 1:-1]\n",
    "    # Boundary condition u=0\n",
    "    j = 0\n",
    "    u[:,j] = 0\n",
    "    j = u.shape[1]-1\n",
    "    u[:,j] = 0\n",
    "    i = 0\n",
    "    u[i,:] = 0\n",
    "    i = u.shape[0]-1\n",
    "    u[i,:] = 0\n",
    "    return u"
   ]
  },
  {
   "cell_type": "markdown",
   "metadata": {},
   "source": [
    "Array slices in 2D are more complicated to understand than those in\n",
    "1D, but the logic from 1D applies to each dimension separately.\n",
    "For example, when doing $u^{n}_{i,j} - u^{n}_{i-1,j}$ for $i\\in\\setr{\\mathcal{I}_x}$,\n",
    "we just keep `j` constant and make a slice in the first index:\n",
    "`u_n[1:,j] - u_n[:-1,j]`, exactly as in 1D. The `1:` slice\n",
    "specifies all the indices $i=1,2,\\ldots,N_x$ (up to the last\n",
    "valid index),\n",
    "while `:-1` specifies the relevant indices for the second term:\n",
    "$0,1,\\ldots,N_x-1$ (up to, but not including the last index).\n",
    "\n",
    "In the above code segment, the situation is slightly more complicated,\n",
    "because each displaced slice in one direction is\n",
    "accompanied by a `1:-1` slice in the other direction. The reason is\n",
    "that we only work with the internal points for the index that is\n",
    "kept constant in a difference.\n",
    "\n",
    "The boundary conditions along the four sides make use of\n",
    "a slice consisting of all indices along a boundary:"
   ]
  },
  {
   "cell_type": "code",
   "execution_count": 13,
   "metadata": {},
   "outputs": [
    {
     "ename": "NameError",
     "evalue": "name 'u' is not defined",
     "output_type": "error",
     "traceback": [
      "\u001b[0;31m---------------------------------------------------------------------------\u001b[0m",
      "\u001b[0;31mNameError\u001b[0m                                 Traceback (most recent call last)",
      "\u001b[0;32m<ipython-input-13-12fc4eb5524c>\u001b[0m in \u001b[0;36m<module>\u001b[0;34m\u001b[0m\n\u001b[0;32m----> 1\u001b[0;31m \u001b[0mu\u001b[0m\u001b[0;34m[\u001b[0m\u001b[0;34m:\u001b[0m \u001b[0;34m,\u001b[0m\u001b[0;36m0\u001b[0m\u001b[0;34m]\u001b[0m \u001b[0;34m=\u001b[0m \u001b[0;36m0\u001b[0m\u001b[0;34m\u001b[0m\u001b[0;34m\u001b[0m\u001b[0m\n\u001b[0m\u001b[1;32m      2\u001b[0m \u001b[0mu\u001b[0m\u001b[0;34m[\u001b[0m\u001b[0;34m:\u001b[0m\u001b[0;34m,\u001b[0m\u001b[0mNy\u001b[0m\u001b[0;34m]\u001b[0m \u001b[0;34m=\u001b[0m \u001b[0;36m0\u001b[0m\u001b[0;34m\u001b[0m\u001b[0;34m\u001b[0m\u001b[0m\n\u001b[1;32m      3\u001b[0m \u001b[0mu\u001b[0m\u001b[0;34m[\u001b[0m\u001b[0;36m0\u001b[0m \u001b[0;34m,\u001b[0m\u001b[0;34m:\u001b[0m\u001b[0;34m]\u001b[0m \u001b[0;34m=\u001b[0m \u001b[0;36m0\u001b[0m\u001b[0;34m\u001b[0m\u001b[0;34m\u001b[0m\u001b[0m\n\u001b[1;32m      4\u001b[0m \u001b[0mu\u001b[0m\u001b[0;34m[\u001b[0m\u001b[0mNx\u001b[0m\u001b[0;34m,\u001b[0m\u001b[0;34m:\u001b[0m\u001b[0;34m]\u001b[0m \u001b[0;34m=\u001b[0m \u001b[0;36m0\u001b[0m\u001b[0;34m\u001b[0m\u001b[0;34m\u001b[0m\u001b[0m\n",
      "\u001b[0;31mNameError\u001b[0m: name 'u' is not defined"
     ]
    }
   ],
   "source": [
    "u[: ,0] = 0\n",
    "u[:,Ny] = 0\n",
    "u[0 ,:] = 0\n",
    "u[Nx,:] = 0"
   ]
  },
  {
   "cell_type": "markdown",
   "metadata": {},
   "source": [
    "In the vectorized update of `u` (above), the function `f` is first computed\n",
    "as an array over all mesh points:"
   ]
  },
  {
   "cell_type": "markdown",
   "metadata": {},
   "source": [
    "        f_a = f(xv, yv, t[n])\n"
   ]
  },
  {
   "cell_type": "markdown",
   "metadata": {},
   "source": [
    "We could, alternatively, have used the call `f(xv, yv, t[n])[1:-1,1:-1]`\n",
    "in the last term of the update statement, but other implementations\n",
    "in compiled languages benefit from having `f` available in an array\n",
    "rather than calling our Python function `f(x,y,t)` for\n",
    "every point.\n",
    "\n",
    "Also in the `advance_vectorized` function we have introduced a\n",
    "boolean `step1` to reuse the formula for the first time step\n",
    "in the same way as we did with `advance_scalar`.\n",
    "We refer to the `solver` function in `wave2D_u0.py`\n",
    "for the details on how the overall algorithm is implemented.\n",
    "\n",
    "The callback function now has the arguments\n",
    "`u, x, xv, y, yv, t, n`. The inclusion of `xv` and `yv` makes it\n",
    "easy to, e.g., compute an exact 2D solution in the callback function\n",
    "and compute errors, through an expression like\n",
    "`u - u_exact(xv, yv, t[n])`.\n",
    "\n",
    "## Verification\n",
    "<div id=\"wave2D3D:impl:verify\"></div>\n",
    "\n",
    "### Testing a quadratic solution\n",
    "\n",
    "The 1D solution from the section [wave:pde2:fd:verify:quadratic](#wave:pde2:fd:verify:quadratic) can be\n",
    "generalized to multi-dimensions and provides a test case where the\n",
    "exact solution also fulfills the discrete equations, such that we know\n",
    "(to machine precision) what numbers the solver function should\n",
    "produce. In 2D we use the following generalization of\n",
    "([wave:pde2:fd:verify:quadratic:uex](#wave:pde2:fd:verify:quadratic:uex)):"
   ]
  },
  {
   "cell_type": "markdown",
   "metadata": {},
   "source": [
    "<!-- Equation labels as ordinary links -->\n",
    "<div id=\"wave2D3D:impl:verify:quadratic\"></div>\n",
    "\n",
    "$$\n",
    "\\begin{equation}\n",
    "\\uex(x,y,t) = x(L_x-x)y(L_y-y)(1+{\\frac{1}{2}}t)\n",
    "\\thinspace .\n",
    "\\label{wave2D3D:impl:verify:quadratic} \\tag{7}\n",
    "\\end{equation}\n",
    "$$"
   ]
  },
  {
   "cell_type": "markdown",
   "metadata": {},
   "source": [
    "This solution fulfills the PDE problem if $I(x,y)=\\uex(x,y,0)$,\n",
    "$V=\\frac{1}{2}\\uex(x,y,0)$, and $f=2c^2(1+{\\frac{1}{2}}t)(y(L_y-y) +\n",
    "x(L_x-x))$. To show that $\\uex$ also solves the discrete equations,\n",
    "we start with the general results $[D_t D_t 1]^n=0$, $[D_t D_t t]^n=0$,\n",
    "and $[D_t D_t t^2]=2$, and use these to compute"
   ]
  },
  {
   "cell_type": "markdown",
   "metadata": {},
   "source": [
    "$$\n",
    "\\begin{align*}\n",
    "[D_xD_x \\uex]^n_{i,j} &= [y(L_y-y)(1+{\\frac{1}{2}}t) D_xD_x x(L_x-x)]^n_{i,j}\\\\\n",
    "&= y_j(L_y-y_j)(1+{\\frac{1}{2}}t_n)(-2)\\thinspace .\n",
    "\\end{align*}\n",
    "$$"
   ]
  },
  {
   "cell_type": "markdown",
   "metadata": {},
   "source": [
    "A similar calculation must be carried out for the $[D_yD_y\n",
    "\\uex]^n_{i,j}$ and $[D_tD_t \\uex]^n_{i,j}$ terms.  One must also show\n",
    "that the quadratic solution fits the special formula for\n",
    "$u^1_{i,j}$. The details are left as [Exercise 1: Check that a solution fulfills the discrete model](#wave:exer:quadratic:2D).\n",
    "The `test_quadratic` function in the\n",
    "[`wave2D_u0.py`](${src_wave}/wave2D_u0/wave2D_u0.py)\n",
    "program implements this verification as a proper test function\n",
    "for the pytest and nose frameworks.\n",
    "\n",
    "## Visualization\n",
    "\n",
    "Eventually, we are ready for a real application with our code!\n",
    "Look at the `wave2D_u0.py` and the `gaussian` function. mathcal{I}_t\n",
    "starts with a Gaussian function to see how it propagates in a square\n",
    "with $u=0$ on the boundaries:"
   ]
  },
  {
   "cell_type": "code",
   "execution_count": 14,
   "metadata": {},
   "outputs": [
    {
     "ename": "TabError",
     "evalue": "inconsistent use of tabs and spaces in indentation (<ipython-input-14-c5fdd8482238>, line 24)",
     "output_type": "error",
     "traceback": [
      "\u001b[0;36m  File \u001b[0;32m\"<ipython-input-14-c5fdd8482238>\"\u001b[0;36m, line \u001b[0;32m24\u001b[0m\n\u001b[0;31m    ...\u001b[0m\n\u001b[0m       ^\u001b[0m\n\u001b[0;31mTabError\u001b[0m\u001b[0;31m:\u001b[0m inconsistent use of tabs and spaces in indentation\n"
     ]
    }
   ],
   "source": [
    "def gaussian(plot_method=2, version='vectorized', save_plot=True):\n",
    "    \"\"\"\n",
    "    Initial Gaussian bell in the middle of the domain.\n",
    "    plot_method=1 applies mesh function,\n",
    "    =2 means surf, =3 means Matplotlib, =4 means mayavi,\n",
    "    =0 means no plot.\n",
    "    \"\"\"\n",
    "    # Clean up plot files\n",
    "    for name in glob('tmp_*.png'):\n",
    "        os.remove(name)\n",
    "\n",
    "    Lx = 10\n",
    "    Ly = 10\n",
    "    c = 1.0\n",
    "\n",
    "    from numpy import exp\n",
    "\n",
    "    def I(x, y):\n",
    "        \"\"\"Gaussian peak at (Lx/2, Ly/2).\"\"\"\n",
    "        return exp(-0.5*(x-Lx/2.0)**2 - 0.5*(y-Ly/2.0)**2)\n",
    "\n",
    "    def plot_u(u, x, xv, y, yv, t, n):\n",
    "        \"\"\"User action function for plotting.\"\"\"\n",
    "\t...\n",
    "\n",
    "    Nx = 40; Ny = 40; T = 20\n",
    "    dt, cpu = solver(I, None, None, c, Lx, Ly, Nx, Ny, -1, T,\n",
    "                     user_action=plot_u, version=version)"
   ]
  },
  {
   "cell_type": "markdown",
   "metadata": {},
   "source": [
    "### Matplotlib\n",
    "\n",
    "We want to animate a 3D surface in Matplotlib, but this is a really\n",
    "slow process and not recommended, so we consider Matplotlib not an\n",
    "option as long as on-screen animation is desired. One can use the\n",
    "recipes for single shots of $u$, where it does produce high-quality\n",
    "3D plots.\n",
    "\n",
    "\n",
    "### Gnuplot\n",
    "\n",
    "Let us look at different ways for visualization. We import SciTools as\n",
    "`st` and can access `st.mesh` and `st.surf` in Matplotlib or Gnuplot,\n",
    "but this is not supported except for the Gnuplot package, where it\n",
    "works really well ([Figure](#wave2D3D:impl:viz:fig:gnuplot1)).  Then\n",
    "we choose `plot_method=2` (or less relevant `plot_method=1`) and force\n",
    "the backend for SciTools to be Gnuplot (if you have the C package\n",
    "Gnuplot and the `Gnuplot.py` Python interface module installed):"
   ]
  },
  {
   "cell_type": "markdown",
   "metadata": {},
   "source": [
    "        Terminal> python wave2D_u0.py --SCITOOLS_easyviz_backend gnuplot\n"
   ]
  },
  {
   "cell_type": "markdown",
   "metadata": {},
   "source": [
    "mathcal{I}_t gives a nice visualization with lifted surface and contours beneath.\n",
    "[Figure](#wave2D3D:impl:viz:fig:gnuplot1) shows four plots of $u$.\n",
    "\n",
    "<!-- dom:FIGURE: [fig-wave/wave2D_u0_gnuplot_gaussian.png, width=800 frac=1] Snapshots of the surface plotted by Gnuplot. <div id=\"wave2D3D:impl:viz:fig:gnuplot1\"></div> -->\n",
    "<!-- begin figure -->\n",
    "<div id=\"wave2D3D:impl:viz:fig:gnuplot1\"></div>\n",
    "\n",
    "<p>Snapshots of the surface plotted by Gnuplot.</p>\n",
    "<img src=\"fig-wave/wave2D_u0_gnuplot_gaussian.png\" width=800>\n",
    "\n",
    "<!-- end figure -->\n",
    "\n",
    "\n",
    "Video files can be made of the PNG frames:"
   ]
  },
  {
   "cell_type": "markdown",
   "metadata": {},
   "source": [
    "        Terminal> ffmpeg -i tmp_%04d.png -r 25 -vcodec flv movie.flv\n",
    "        Terminal> ffmpeg -i tmp_%04d.png -r 25 -vcodec linx264 movie.mp4\n",
    "        Terminal> ffmpeg -i tmp_%04d.png -r 25 -vcodec libvpx movie.webm\n",
    "        Terminal> ffmpeg -i tmp_%04d.png -r 25 -vcodec libtheora movie.ogg\n"
   ]
  },
  {
   "cell_type": "markdown",
   "metadata": {},
   "source": [
    "mathcal{I}_t is wise to use a high frame rate - a low one will just skip many\n",
    "frames. There may also be considerable quality differences between the\n",
    "different formats.\n",
    "\n",
    "<!-- dom:MOVIE: [https://raw.githubusercontent.com/hplgit/fdm-book/master/doc/pub/book/html/mov-wave/gnuplot/wave2D_u0_gaussian/movie25.mp4] -->\n",
    "<!-- begin movie -->"
   ]
  },
  {
   "cell_type": "code",
   "execution_count": 15,
   "metadata": {},
   "outputs": [
    {
     "data": {
      "text/html": [
       "\n",
       "<div>\n",
       "<video  loop controls width='640' height='365' preload='none'>\n",
       "    <source src='https://raw.githubusercontent.com/hplgit/fdm-book/master/doc/pub/book/html/mov-wave/gnuplot/wave2D_u0_gaussian/movie25.mp4'  type='video/mp4;  codecs=\"avc1.42E01E, mp4a.40.2\"'>\n",
       "    <source src='https://raw.githubusercontent.com/hplgit/fdm-book/master/doc/pub/book/html/mov-wave/gnuplot/wave2D_u0_gaussian/movie25.webm' type='video/webm; codecs=\"vp8, vorbis\"'>\n",
       "    <source src='https://raw.githubusercontent.com/hplgit/fdm-book/master/doc/pub/book/html/mov-wave/gnuplot/wave2D_u0_gaussian/movie25.ogg'  type='video/ogg;  codecs=\"theora, vorbis\"'>\n",
       "</video>\n",
       "</div>\n",
       "<p><em></em></p>\n",
       "\n",
       "<!-- Issue warning if in a Safari browser -->\n",
       "<script language=\"javascript\">\n",
       "if (!!(window.safari)) {\n",
       "  document.write(\"<div style=\"width: 95%%; padding: 10px; border: 1px solid #100; border-radius: 4px;\"><p><font color=\"red\">The above movie will not play in Safari - use Chrome, Firefox, or Opera.</font></p></div>\")}\n",
       "</script>\n",
       "\n"
      ],
      "text/plain": [
       "<IPython.core.display.HTML object>"
      ]
     },
     "execution_count": 15,
     "metadata": {},
     "output_type": "execute_result"
    }
   ],
   "source": [
    "from IPython.display import HTML\n",
    "_s = \"\"\"\n",
    "<div>\n",
    "<video  loop controls width='640' height='365' preload='none'>\n",
    "    <source src='https://raw.githubusercontent.com/hplgit/fdm-book/master/doc/pub/book/html/mov-wave/gnuplot/wave2D_u0_gaussian/movie25.mp4'  type='video/mp4;  codecs=\"avc1.42E01E, mp4a.40.2\"'>\n",
    "    <source src='https://raw.githubusercontent.com/hplgit/fdm-book/master/doc/pub/book/html/mov-wave/gnuplot/wave2D_u0_gaussian/movie25.webm' type='video/webm; codecs=\"vp8, vorbis\"'>\n",
    "    <source src='https://raw.githubusercontent.com/hplgit/fdm-book/master/doc/pub/book/html/mov-wave/gnuplot/wave2D_u0_gaussian/movie25.ogg'  type='video/ogg;  codecs=\"theora, vorbis\"'>\n",
    "</video>\n",
    "</div>\n",
    "<p><em></em></p>\n",
    "\n",
    "<!-- Issue warning if in a Safari browser -->\n",
    "<script language=\"javascript\">\n",
    "if (!!(window.safari)) {\n",
    "  document.write(\"<div style=\\\"width: 95%%; padding: 10px; border: 1px solid #100; border-radius: 4px;\\\"><p><font color=\\\"red\\\">The above movie will not play in Safari - use Chrome, Firefox, or Opera.</font></p></div>\")}\n",
    "</script>\n",
    "\n",
    "\"\"\"\n",
    "HTML(_s)"
   ]
  },
  {
   "cell_type": "markdown",
   "metadata": {},
   "source": [
    "<!-- end movie -->\n",
    "\n",
    "\n",
    "\n",
    "### Mayavi\n",
    "\n",
    "The best option for doing visualization of 2D and 3D scalar and vector fields\n",
    "in Python programs is Mayavi, which is an interface to the high-quality\n",
    "package VTK in C++. There is good online documentation and also\n",
    "an introduction in Chapter 5 of [[Langtangen_2012]](#Langtangen_2012).\n",
    "\n",
    "To obtain Mayavi on Ubuntu platforms you can write"
   ]
  },
  {
   "cell_type": "markdown",
   "metadata": {},
   "source": [
    "        pip install mayavi --upgrade\n"
   ]
  },
  {
   "cell_type": "markdown",
   "metadata": {},
   "source": [
    "For Mac OS X and Windows, we recommend using Anaconda.\n",
    "To obtain Mayavi for Anaconda you can write"
   ]
  },
  {
   "cell_type": "markdown",
   "metadata": {},
   "source": [
    "        conda install mayavi\n"
   ]
  },
  {
   "cell_type": "markdown",
   "metadata": {},
   "source": [
    "Mayavi has a MATLAB-like interface called `mlab`. We can do"
   ]
  },
  {
   "cell_type": "code",
   "execution_count": 16,
   "metadata": {},
   "outputs": [
    {
     "ename": "ModuleNotFoundError",
     "evalue": "No module named 'mayavi'",
     "output_type": "error",
     "traceback": [
      "\u001b[0;31m---------------------------------------------------------------------------\u001b[0m",
      "\u001b[0;31mModuleNotFoundError\u001b[0m                       Traceback (most recent call last)",
      "\u001b[0;32m<ipython-input-16-0cc342c2e444>\u001b[0m in \u001b[0;36m<module>\u001b[0;34m\u001b[0m\n\u001b[0;32m----> 1\u001b[0;31m \u001b[0;32mimport\u001b[0m \u001b[0mmayavi\u001b[0m\u001b[0;34m.\u001b[0m\u001b[0mmlab\u001b[0m \u001b[0;32mas\u001b[0m \u001b[0mplt\u001b[0m\u001b[0;34m\u001b[0m\u001b[0;34m\u001b[0m\u001b[0m\n\u001b[0m\u001b[1;32m      2\u001b[0m \u001b[0;31m# or\u001b[0m\u001b[0;34m\u001b[0m\u001b[0;34m\u001b[0m\u001b[0;34m\u001b[0m\u001b[0m\n\u001b[1;32m      3\u001b[0m \u001b[0;32mfrom\u001b[0m \u001b[0mmayavi\u001b[0m \u001b[0;32mimport\u001b[0m \u001b[0mmlab\u001b[0m\u001b[0;34m\u001b[0m\u001b[0;34m\u001b[0m\u001b[0m\n",
      "\u001b[0;31mModuleNotFoundError\u001b[0m: No module named 'mayavi'"
     ]
    }
   ],
   "source": [
    "import mayavi.mlab as plt\n",
    "# or\n",
    "from mayavi import mlab"
   ]
  },
  {
   "cell_type": "markdown",
   "metadata": {},
   "source": [
    "and have `plt` (as usual) or `mlab`\n",
    "as a kind of MATLAB visualization access inside our program (just\n",
    "more powerful and with higher visual quality).\n",
    "\n",
    "The official documentation of the `mlab` module is provided in two\n",
    "places, one for the [basic functionality](http://docs.enthought.com/mayavi/mayavi/auto/mlab_helper_functions.html)\n",
    "and one for [further functionality](http://docs.enthought.com/mayavi/mayavi/auto/mlab_other_functions.html).\n",
    "Basic [figure\n",
    "handling](http://docs.enthought.com/mayavi/mayavi/auto/mlab_figure.html)\n",
    "is very similar to the one we know from Matplotlib.  Just as for\n",
    "Matplotlib, all plotting commands you do in `mlab` will go into the\n",
    "same figure, until you manually change to a new figure.\n",
    "\n",
    "Back to our application, the following code for the user action\n",
    "function with plotting in Mayavi is relevant to add."
   ]
  },
  {
   "cell_type": "code",
   "execution_count": 17,
   "metadata": {},
   "outputs": [
    {
     "ename": "SyntaxError",
     "evalue": "invalid syntax (<ipython-input-17-35bddf66763c>, line 10)",
     "output_type": "error",
     "traceback": [
      "\u001b[0;36m  File \u001b[0;32m\"<ipython-input-17-35bddf66763c>\"\u001b[0;36m, line \u001b[0;32m10\u001b[0m\n\u001b[0;31m    def solver(...):\u001b[0m\n\u001b[0m               ^\u001b[0m\n\u001b[0;31mSyntaxError\u001b[0m\u001b[0;31m:\u001b[0m invalid syntax\n"
     ]
    }
   ],
   "source": [
    "%matplotlib inline\n",
    "\n",
    "# Top of the file\n",
    "try:\n",
    "    import mayavi.mlab as mlab\n",
    "except:\n",
    "    # We don't have mayavi\n",
    "    pass\n",
    "\n",
    "def solver(...):\n",
    "    ...\n",
    "\n",
    "def gaussian(...):\n",
    "    ...\n",
    "    if plot_method == 3:\n",
    "        from mpl_toolkits.mplot3d import axes3d\n",
    "        import matplotlib.pyplot as plt\n",
    "        from matplotlib import cm\n",
    "        plt.ion()\n",
    "        fig = plt.figure()\n",
    "        u_surf = None\n",
    "\n",
    "    def plot_u(u, x, xv, y, yv, t, n):\n",
    "        \"\"\"User action function for plotting.\"\"\"\n",
    "        if t[n] == 0:\n",
    "            time.sleep(2)\n",
    "        if plot_method == 1:\n",
    "            # Works well with Gnuplot backend, not with Matplotlib\n",
    "            st.mesh(x, y, u, title='t=%g' % t[n], zlim=[-1,1],\n",
    "                    caxis=[-1,1])\n",
    "        elif plot_method == 2:\n",
    "            # Works well with Gnuplot backend, not with Matplotlib\n",
    "            st.surfc(xv, yv, u, title='t=%g' % t[n], zlim=[-1, 1],\n",
    "                  colorbar=True, colormap=st.hot(), caxis=[-1,1],\n",
    "                  shading='flat')\n",
    "        elif plot_method == 3:\n",
    "            print 'Experimental 3D matplotlib...not recommended'\n",
    "        elif plot_method == 4:\n",
    "\t    # Mayavi visualization\n",
    "            mlab.clf()\n",
    "            extent1 = (0, 20, 0, 20,-2, 2)\n",
    "            s = mlab.surf(x , y, u,\n",
    "                          colormap='Blues',\n",
    "                          warp_scale=5,extent=extent1)\n",
    "            mlab.axes(s, color=(.7, .7, .7), extent=extent1,\n",
    "                      ranges=(0, 10, 0, 10, -1, 1),\n",
    "                      xlabel='', ylabel='', zlabel='',\n",
    "                      x_axis_visibility=False,\n",
    "                      z_axis_visibility=False)\n",
    "            mlab.outline(s, color=(0.7, .7, .7), extent=extent1)\n",
    "            mlab.text(6, -2.5, '', z=-4, width=0.14)\n",
    "            mlab.colorbar(object=None, title=None,\n",
    "                          orientation='horizontal',\n",
    "                          nb_labels=None, nb_colors=None,\n",
    "                          label_fmt=None)\n",
    "            mlab.title('Gaussian t=%g' % t[n])\n",
    "            mlab.view(142, -72, 50)\n",
    "            f = mlab.gcf()\n",
    "            camera = f.scene.camera\n",
    "            camera.yaw(0)\n",
    "\n",
    "        if plot_method > 0:\n",
    "            time.sleep(0) # pause between frames\n",
    "            if save_plot:\n",
    "                filename = 'tmp_%04d.png' % n\n",
    "\t\tif plot_method == 4:\n",
    "                    mlab.savefig(filename)  # time consuming!\n",
    "\t\telif plot_method in (1,2):\n",
    "                    st.savefig(filename)  # time consuming!"
   ]
  },
  {
   "cell_type": "markdown",
   "metadata": {},
   "source": [
    "This is a point to get started - visualization is as always a very\n",
    "time-consuming and experimental discipline. With the PNG files we\n",
    "can use `ffmpeg` to create videos.\n",
    "\n",
    "<!-- dom:FIGURE: [fig-wave/mayavi2D_gaussian1.png, width=600 frac=0.8] Plot with Mayavi. -->\n",
    "<!-- begin figure -->\n",
    "\n",
    "<p>Plot with Mayavi.</p>\n",
    "<img src=\"fig-wave/mayavi2D_gaussian1.png\" width=600>\n",
    "\n",
    "<!-- end figure -->\n",
    "\n",
    "\n",
    "<!-- dom:MOVIE: [https://github.com/hplgit/fdm-book/blob/master/doc/pub/book/html/mov-wave/mayavi/wave2D_u0_gaussian/movie.mp4] -->\n",
    "<!-- begin movie -->"
   ]
  },
  {
   "cell_type": "code",
   "execution_count": 18,
   "metadata": {},
   "outputs": [],
   "source": [
    "# from IPython.display import HTML\n",
    "\n",
    "# _s = \"\"\"\n",
    "# <div>\n",
    "# <video  loop controls width='640' height='365' preload='none'>\n",
    "#     <source src='mov-wave/mayavi/wave2D_u0_gaussian/movie.mp4'  type='video/mp4;  codecs=\"avc1.42E01E, mp4a.40.2\"'>\n",
    "# </video>\n",
    "# </div>\n",
    "# <p><em></em></p>\n",
    "\n",
    "# <!-- Issue warning if in a Safari browser -->\n",
    "# <script language=\"javascript\">\n",
    "# if (!!(window.safari)) {\n",
    "#   document.write(\"<div style=\\\"width: 95%%; padding: 10px; border: 1px solid #100; border-radius: 4px;\\\"><p><font color=\\\"red\\\">The above movie will not play in Safari - use Chrome, Firefox, or Opera.</font></p></div>\")}\n",
    "# </script>\n",
    "\n",
    "# \"\"\"\n",
    "# #     <source src='https://github.com/hplgit/fdm-book/blob/master/doc/pub/book/html/mov-wave/mayavi/wave2D_u0_gaussian/movie.ogg'  type='video/ogg;  codecs=\"theora, vorbis\"'>\n",
    "# HTML(_s)"
   ]
  },
  {
   "cell_type": "markdown",
   "metadata": {},
   "source": [
    "[Video here](mov-wave/mayavi/wave2D_u0_gaussian/movie.mp4)"
   ]
  },
  {
   "cell_type": "markdown",
   "metadata": {},
   "source": [
    "<!-- end movie -->\n",
    "\n",
    "\n",
    "\n",
    "# Exercises\n",
    "\n",
    "\n",
    "\n",
    "<!-- --- begin exercise --- -->\n",
    "\n",
    "## Exercise 1: Check that a solution fulfills the discrete model\n",
    "<div id=\"wave:exer:quadratic:2D\"></div>\n",
    "\n",
    "Carry out all mathematical details to show that\n",
    "([7](#wave2D3D:impl:verify:quadratic)) is indeed a solution of the\n",
    "discrete model for a 2D wave equation with $u=0$ on the boundary.\n",
    "One must check the boundary conditions, the initial conditions,\n",
    "the general discrete equation at a time level and the special\n",
    "version of this equation for the first time level.\n",
    "Filename: `check_quadratic_solution`.\n",
    "\n",
    "<!-- --- end exercise --- -->\n",
    "\n",
    "\n",
    "\n",
    "\n",
    "<!-- --- begin exercise --- -->\n",
    "\n",
    "## Project 2: Calculus with 2D mesh functions\n",
    "<div id=\"wave:exer:mesh3D:calculus\"></div>\n",
    "\n",
    "The goal of this project is to redo\n",
    "[wave:exer:mesh1D:calculus](#wave:exer:mesh1D:calculus) with 2D\n",
    "mesh functions ($f_{i,j}$).\n",
    "\n",
    "**Differentiation.**\n",
    "The differentiation results in a discrete gradient\n",
    "function, which in the 2D case can be represented by a three-dimensional\n",
    "array `df[d,i,j]` where `d` represents the direction of\n",
    "the derivative, and `i,j` is a mesh point in 2D.\n",
    "Use centered differences for\n",
    "the derivative at inner points and one-sided forward or backward\n",
    "differences at the boundary points. Construct unit tests and\n",
    "write a corresponding test function.\n",
    "\n",
    "**Integration.**\n",
    "The integral of a 2D mesh function $f_{i,j}$ is defined as"
   ]
  },
  {
   "cell_type": "markdown",
   "metadata": {},
   "source": [
    "$$\n",
    "F_{i,j} = \\int_{y_0}^{y_j} \\int_{x_0}^{x_i} f(x,y)dxdy,\n",
    "$$"
   ]
  },
  {
   "cell_type": "markdown",
   "metadata": {},
   "source": [
    "where $f(x,y)$ is a function that takes on the values of the\n",
    "discrete mesh function $f_{i,j}$ at the mesh points, but can also\n",
    "be evaluated in between the mesh points. The particular variation\n",
    "between mesh points can be taken as bilinear, but this is not\n",
    "important as we will use a product Trapezoidal rule to approximate\n",
    "the integral over a cell in the mesh and then we only need to\n",
    "evaluate $f(x,y)$ at the mesh points.\n",
    "\n",
    "Suppose $F_{i,j}$ is computed. The calculation of $F_{i+1,j}$\n",
    "is then"
   ]
  },
  {
   "cell_type": "markdown",
   "metadata": {},
   "source": [
    "$$\n",
    "\\begin{align*}\n",
    "F_{i+1,j} &= F_{i,j} + \\int_{x_i}^{x_{i+1}}\\int_{y_0}^{y_j} f(x,y)dydx\\\\\n",
    "& \\approx \\Delta x \\frac{1}{2}\\left(\n",
    "\\int_{y_0}^{y_j} f(x_{i},y)dy\n",
    "+ \\int_{y_0}^{y_j} f(x_{i+1},y)dy\\right)\n",
    "\\end{align*}\n",
    "$$"
   ]
  },
  {
   "cell_type": "markdown",
   "metadata": {},
   "source": [
    "The integrals in the $y$ direction can be approximated by a Trapezoidal\n",
    "rule. A similar idea can be used to compute $F_{i,j+1}$. Thereafter,\n",
    "$F_{i+1,j+1}$ can be computed by adding the integral over the final\n",
    "corner cell to $F_{i+1,j} + F_{i,j+1} - F_{i,j}$. Carry out the\n",
    "details of these computations and implement a function that can\n",
    "return $F_{i,j}$ for all mesh indices $i$ and $j$. Use the\n",
    "fact that the Trapezoidal rule is exact for linear functions and\n",
    "write a test function.\n",
    "Filename: `mesh_calculus_2D`.\n",
    "\n",
    "<!-- --- end exercise --- -->\n",
    "\n",
    "\n",
    "\n",
    "\n",
    "<!-- --- begin exercise --- -->\n",
    "\n",
    "## Exercise 3: Implement Neumann conditions in 2D\n",
    "<div id=\"wave:app:exer:wave2D:Neumann\"></div>\n",
    "\n",
    "Modify the [`wave2D_u0.py`](${src_wave}/wave2D_u0/wave2D_u0.py)\n",
    "program, which solves the 2D wave equation $u_{tt}=c^2(u_{xx}+u_{yy})$\n",
    "with constant wave velocity $c$ and $u=0$ on the boundary, to have\n",
    "Neumann boundary conditions: $\\partial u/\\partial n=0$.\n",
    "Include both scalar code (for debugging and reference) and\n",
    "vectorized code (for speed).\n",
    "\n",
    "To test the code, use $u=1.2$ as solution ($I(x,y)=1.2$, $V=f=0$, and\n",
    "$c$ arbitrary), which should be exactly reproduced with any mesh\n",
    "as long as the stability criterion is satisfied.\n",
    "Another test is to use the plug-shaped pulse\n",
    "in the `pulse` function from the section [wave:pde2:software](#wave:pde2:software)\n",
    "and the [`wave1D_dn_vc.py`](${src_wave}/wave1D/wave1D_dn_vc.py)\n",
    "program. This pulse\n",
    "is exactly propagated in 1D if $c\\Delta t/\\Delta x=1$. Check\n",
    "that also the 2D program can propagate this pulse exactly\n",
    "in $x$ direction ($c\\Delta t/\\Delta x=1$, $\\Delta y$ arbitrary)\n",
    "and $y$ direction ($c\\Delta t/\\Delta y=1$, $\\Delta x$ arbitrary).\n",
    "Filename: `wave2D_dn`.\n",
    "\n",
    "<!-- --- end exercise --- -->\n",
    "\n",
    "\n",
    "\n",
    "\n",
    "<!-- --- begin exercise --- -->\n",
    "\n",
    "## Exercise 4: Test the efficiency of compiled loops in 3D\n",
    "<div id=\"wave:exer:3D:f77:cy:efficiency\"></div>\n",
    "\n",
    "Extend the `wave2D_u0.py` code and the Cython, Fortran, and C versions to 3D.\n",
    "Set up an efficiency experiment to determine the relative efficiency of\n",
    "pure scalar Python code, vectorized code, Cython-compiled loops,\n",
    "Fortran-compiled loops, and C-compiled loops.\n",
    "Normalize the CPU time for each mesh by the fastest version.\n",
    "Filename: `wave3D_u0`.\n",
    "\n",
    "<!-- --- end exercise --- -->"
   ]
  }
 ],
 "metadata": {
  "kernelspec": {
   "display_name": "Python 3",
   "language": "python",
   "name": "python3"
  },
  "language_info": {
   "codemirror_mode": {
    "name": "ipython",
    "version": 3
   },
   "file_extension": ".py",
   "mimetype": "text/x-python",
   "name": "python",
   "nbconvert_exporter": "python",
   "pygments_lexer": "ipython3",
   "version": "3.8.3"
  }
 },
 "nbformat": 4,
 "nbformat_minor": 4
}
