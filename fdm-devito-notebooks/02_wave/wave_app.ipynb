{
 "cells": [
  {
   "cell_type": "markdown",
   "metadata": {},
   "source": [
    "# Applications of wave equations\n",
    "<div id=\"wave:app\"></div>\n",
    "\n",
    "This section presents a range of wave equation models\n",
    "for different physical phenomena. Although many wave motion problems\n",
    "in physics can be modeled by the standard linear wave equation, or a similar\n",
    "formulation with a system of first-order equations, there are some\n",
    "exceptions. Perhaps the most important is water waves: these are modeled by\n",
    "the Laplace equation with time-dependent boundary conditions at\n",
    "the water surface (long water waves, however, can be approximated\n",
    "by a standard wave equation, see the section [The linear shallow water equations](#wave:app:sw:2D)).\n",
    "Quantum mechanical waves constitute another example where the waves\n",
    "are governed by the\n",
    "Schrodinger\n",
    "equation, i.e., not by a standard wave equation.\n",
    "Many wave phenomena also need to take nonlinear effects into account\n",
    "when the wave amplitude is significant. Shock waves in the air is\n",
    "a primary example.\n",
    "\n",
    "The derivations in the following are very brief. Those with a firm\n",
    "background in continuum mechanics will probably have enough\n",
    "knowledge to fill in the details, while other readers will hopefully\n",
    "get some impression of the physics and approximations involved when\n",
    "establishing wave equation models.\n",
    "\n",
    "## Waves on a string\n",
    "<div id=\"wave:app:string\"></div>\n",
    "\n",
    "<!-- dom:FIGURE: [fig-wave/wave_on_string.png, width=800 frac=1.2] Discrete string model with point masses connected by elastic strings. <div id=\"wave:app:string:fig\"></div> -->\n",
    "<!-- begin figure -->\n",
    "<div id=\"wave:app:string:fig\"></div>\n",
    "\n",
    "<p>Discrete string model with point masses connected by elastic strings.</p>\n",
    "<img src=\"fig-wave/wave_on_string.png\" width=800>\n",
    "\n",
    "<!-- end figure -->\n",
    "\n",
    "\n",
    "[Figure](#wave:app:string:fig) shows a model we may use to derive\n",
    "the equation for waves on a string. The string is modeled as a\n",
    "set of discrete point masses (at mesh points) with\n",
    "elastic strings in between. The string has a large constant tension $T$.\n",
    "We let the mass at mesh point $x_i$ be $m_i$. The displacement of\n",
    "this mass point in the $y$ direction is denoted by $u_i(t)$.\n",
    "\n",
    "The motion of mass $m_i$ is governed by Newton's second law of motion.\n",
    "The position of the mass at time $t$ is $x_i\\ii + u_i(t)\\jj$, where\n",
    "$\\ii$ and $\\jj$ are unit vectors in the $x$ and $y$ direction, respectively.\n",
    "The acceleration is then $u_i''(t)\\jj$. Two forces are acting\n",
    "on the mass as indicated in [Figure](#wave:app:string:fig).\n",
    "The force $\\T^{-}$ acting toward the point $x_{i-1}$ can be decomposed\n",
    "as"
   ]
  },
  {
   "cell_type": "markdown",
   "metadata": {},
   "source": [
    "$$\n",
    "\\T^{-} = -T\\sin\\phi\\ii -T\\cos\\phi\\jj,\n",
    "$$"
   ]
  },
  {
   "cell_type": "markdown",
   "metadata": {},
   "source": [
    "where $\\phi$ is the angle between the force and the\n",
    "line $x=x_i$. Let $\\Delta u_i = u_i - u_{i-1}$ and let\n",
    "$\\Delta s_i = \\sqrt{\\Delta u_i^2 + (x_i - x_{i-1})^2}$\n",
    "be the distance from mass $m_{i-1}$ to mass $m_i$.\n",
    "mathcal{I}_t is seen that $\\cos\\phi = \\Delta u_i/\\Delta s_i$ and $\\sin\\phi =\n",
    "(x_{i}-x_{i-1})/\\Delta s$ or $\\Delta x/\\Delta s_i$ if we\n",
    "introduce a constant mesh spacing $\\Delta x = x_i - x_{i-1}$.\n",
    "The force can then be written"
   ]
  },
  {
   "cell_type": "markdown",
   "metadata": {},
   "source": [
    "$$\n",
    "\\T^{-} = -T\\frac{\\Delta x}{\\Delta s_i}\\ii - T\\frac{\\Delta u_i}{\\Delta s_i}\\jj\n",
    "\\thinspace .\n",
    "$$"
   ]
  },
  {
   "cell_type": "markdown",
   "metadata": {},
   "source": [
    "The force $\\T^{+}$ acting toward $x_{i+1}$ can be calculated in a similar way:"
   ]
  },
  {
   "cell_type": "markdown",
   "metadata": {},
   "source": [
    "$$\n",
    "\\T^{+} = T\\frac{\\Delta x}{\\Delta s_{i+1}}\\ii +\n",
    "            T\\frac{\\Delta u_{i+1}}{\\Delta s_{i+1}}\\jj\n",
    "\\thinspace .\n",
    "$$"
   ]
  },
  {
   "cell_type": "markdown",
   "metadata": {},
   "source": [
    "Newton's second law becomes"
   ]
  },
  {
   "cell_type": "markdown",
   "metadata": {},
   "source": [
    "$$\n",
    "m_iu_i''(t)\\jj = \\T^{+} + \\T^{-},\n",
    "$$"
   ]
  },
  {
   "cell_type": "markdown",
   "metadata": {},
   "source": [
    "which gives the component equations"
   ]
  },
  {
   "cell_type": "markdown",
   "metadata": {},
   "source": [
    "<!-- Equation labels as ordinary links -->\n",
    "<div id=\"wave:app:string:hcomp\"></div>\n",
    "\n",
    "$$\n",
    "\\begin{equation}\n",
    "T\\frac{\\Delta x}{\\Delta s_i} = T\\frac{\\Delta x}{\\Delta s_{i+1}},\n",
    "\\label{wave:app:string:hcomp} \\tag{1}\n",
    "\\end{equation}\n",
    "$$"
   ]
  },
  {
   "cell_type": "markdown",
   "metadata": {},
   "source": [
    "<!-- Equation labels as ordinary links -->\n",
    "<div id=\"wave:app:string:vcomp\"></div>\n",
    "\n",
    "$$\n",
    "\\begin{equation} \n",
    "m_iu_i''(t) = T\\frac{\\Delta u_{i+1}}{\\Delta s_{i+1}} -\n",
    "               T\\frac{\\Delta u_i}{\\Delta s_i}\n",
    "\\label{wave:app:string:vcomp} \\tag{2}\n",
    "\\thinspace .\n",
    "\\end{equation}\n",
    "$$"
   ]
  },
  {
   "cell_type": "markdown",
   "metadata": {},
   "source": [
    "A basic reasonable assumption for a string\n",
    "is small displacements $u_i$ and small\n",
    "displacement gradients $\\Delta u_i/\\Delta x$. For small $g=\\Delta u_i/\\Delta x$\n",
    "we have that"
   ]
  },
  {
   "cell_type": "markdown",
   "metadata": {},
   "source": [
    "$$\n",
    "\\Delta s_i = \\sqrt{\\Delta u_i^2 + \\Delta x^2} = \\Delta x\\sqrt{1 + g^2}\n",
    "+ \\Delta x (1 + {\\frac{1}{2}}g^2 + {\\cal O}(g^4)) \\approx \\Delta x\n",
    "\\thinspace .\n",
    "$$"
   ]
  },
  {
   "cell_type": "markdown",
   "metadata": {},
   "source": [
    "Equation ([1](#wave:app:string:hcomp)) is then simply the identity $T=T$, while\n",
    "([2](#wave:app:string:vcomp)) can be written as"
   ]
  },
  {
   "cell_type": "markdown",
   "metadata": {},
   "source": [
    "$$\n",
    "m_iu_i''(t) = T\\frac{\\Delta u_{i+1}}{\\Delta x} - T\\frac{\\Delta u_i}{\\Delta x},\n",
    "$$"
   ]
  },
  {
   "cell_type": "markdown",
   "metadata": {},
   "source": [
    "which upon division by $\\Delta x$ and introducing the density\n",
    "$\\varrho_i = m_i/\\Delta x$ becomes"
   ]
  },
  {
   "cell_type": "markdown",
   "metadata": {},
   "source": [
    "<!-- Equation labels as ordinary links -->\n",
    "<div id=\"wave:app:string:model0\"></div>\n",
    "\n",
    "$$\n",
    "\\begin{equation}\n",
    "\\varrho_i u_i''(t) = T\\frac{1}{\\Delta x^2}\n",
    "\\left( u_{i+1} - 2u_i + u_{i-1}\\right)\n",
    "\\label{wave:app:string:model0} \\tag{3}\n",
    "\\thinspace .\n",
    "\\end{equation}\n",
    "$$"
   ]
  },
  {
   "cell_type": "markdown",
   "metadata": {},
   "source": [
    "We can now choose to approximate $u_i''$ by a finite difference in time\n",
    "and get the discretized wave equation,"
   ]
  },
  {
   "cell_type": "markdown",
   "metadata": {},
   "source": [
    "<!-- Equation labels as ordinary links -->\n",
    "<div id=\"_auto1\"></div>\n",
    "\n",
    "$$\n",
    "\\begin{equation}\n",
    "\\varrho_i \\frac{1}{\\Delta t^2}\n",
    "\\left(u^{n+1}_i - 2u^n_i - u^{n-1}_i\\right) =\n",
    "T\\frac{1}{\\Delta x^2}\n",
    "\\left( u_{i+1} - 2u_i + u_{i-1}\\right)\\thinspace .\n",
    "\\label{_auto1} \\tag{4}\n",
    "\\end{equation}\n",
    "$$"
   ]
  },
  {
   "cell_type": "markdown",
   "metadata": {},
   "source": [
    "On the other hand, we may go to the continuum limit $\\Delta x\\rightarrow 0$ and\n",
    "replace $u_i(t)$ by $u(x,t)$, $\\varrho_i$ by $\\varrho(x)$, and\n",
    "recognize that the right-hand side of ([3](#wave:app:string:model0))\n",
    "approaches $\\partial^2 u/\\partial x^2$ as $\\Delta x\\rightarrow 0$.\n",
    "We end up with the continuous model for waves on a string:"
   ]
  },
  {
   "cell_type": "markdown",
   "metadata": {},
   "source": [
    "<!-- Equation labels as ordinary links -->\n",
    "<div id=\"wave:app:string:model1\"></div>\n",
    "\n",
    "$$\n",
    "\\begin{equation}\n",
    "\\varrho\\frac{\\partial^2 u}{\\partial t^2} = T\\frac{\\partial^2 u}{\\partial x^2}\n",
    "\\label{wave:app:string:model1} \\tag{5}\n",
    "\\thinspace .\n",
    "\\end{equation}\n",
    "$$"
   ]
  },
  {
   "cell_type": "markdown",
   "metadata": {},
   "source": [
    "Note that the density $\\varrho$ may change along the string, while the\n",
    "tension $T$ is a constant. With variable wave velocity $c(x) = \\sqrt{T/\\varrho(x)}$ we can write the wave equation in the more standard form"
   ]
  },
  {
   "cell_type": "markdown",
   "metadata": {},
   "source": [
    "<!-- Equation labels as ordinary links -->\n",
    "<div id=\"wave:app:string:model2\"></div>\n",
    "\n",
    "$$\n",
    "\\begin{equation}\n",
    "\\frac{\\partial^2 u}{\\partial t^2} = c^2(x)\\frac{\\partial^2 u}{\\partial x^2}\n",
    "\\label{wave:app:string:model2} \\tag{6}\n",
    "\\thinspace .\n",
    "\\end{equation}\n",
    "$$"
   ]
  },
  {
   "cell_type": "markdown",
   "metadata": {},
   "source": [
    "Because of the way $\\varrho$ enters the equations, the variable wave\n",
    "velocity does *not* appear inside the derivatives as in many other\n",
    "versions of the wave equation. However, most strings of interest have\n",
    "constant $\\varrho$.\n",
    "\n",
    "The end points of a string are fixed so that the displacement\n",
    "$u$ is zero. The boundary conditions are therefore $u=0$.\n",
    "\n",
    "\n",
    "### Damping\n",
    "\n",
    "Air resistance and non-elastic effects in the string will contribute\n",
    "to reduce the amplitudes of the waves so that the motion dies out\n",
    "after some time. This damping effect can be modeled by a term\n",
    "$bu_t$ on the left-hand side of the equation"
   ]
  },
  {
   "cell_type": "markdown",
   "metadata": {},
   "source": [
    "<!-- Equation labels as ordinary links -->\n",
    "<div id=\"wave:app:string:model1:damping\"></div>\n",
    "\n",
    "$$\n",
    "\\begin{equation}\n",
    "\\varrho\\frac{\\partial^2 u}{\\partial t^2}\n",
    "+ b\\frac{\\partial u}{\\partial t}  =  T\\frac{\\partial^2 u}{\\partial x^2}\n",
    "\\label{wave:app:string:model1:damping} \\tag{7}\n",
    "\\thinspace .\n",
    "\\end{equation}\n",
    "$$"
   ]
  },
  {
   "cell_type": "markdown",
   "metadata": {},
   "source": [
    "The parameter $b\\geq 0$ is small for most wave phenomena, but the\n",
    "damping effect may become significant in long time simulations.\n",
    "\n",
    "\n",
    "### External forcing\n",
    "\n",
    "mathcal{I}_t is easy to include an external force acting on the string.\n",
    "Say we have a vertical force $\\tilde f_i\\jj$ acting on mass $m_i$, modeling\n",
    "the effect of gravity on a string.\n",
    "This force affects the vertical component of Newton's law\n",
    "and gives rise to an extra term $\\tilde f(x,t)$ on the right-hand side of\n",
    "([5](#wave:app:string:model1)). In the model\n",
    "([6](#wave:app:string:model2)) we would add a term\n",
    "$f(x,t) = \\tilde f(x,t)/\\varrho(x)$.\n",
    "\n",
    "### Modeling the tension via springs\n",
    "\n",
    "We assumed, in the derivation above, that the tension in the string, $T$,\n",
    "was constant. mathcal{I}_t is easy to check this assumption by modeling the\n",
    "string segments between the masses as standard springs, where the\n",
    "force (tension $T$) is proportional to the elongation of the spring segment.\n",
    "Let $k$ be the spring constant, and set $T_i=k\\Delta \\ell$ for the\n",
    "tension in the spring segment between $x_{i-1}$ and $x_i$, where\n",
    "$\\Delta\\ell$ is the elongation of this segment from the tension-free state.\n",
    "A basic feature of a string is that it has high tension in the\n",
    "equilibrium position $u=0$. Let the string segment have an elongation\n",
    "$\\Delta\\ell_0$ in the equilibrium position. After deformation of the\n",
    "string, the elongation is $\\Delta \\ell = \\Delta \\ell_0 + \\Delta s_i$:\n",
    "$T_i = k(\\Delta \\ell_0 + \\Delta s_i)\\approx k(\\Delta \\ell_0 + \\Delta x)$.\n",
    "This shows that $T_i$ is independent of $i$. Moreover, the extra\n",
    "approximate elongation $\\Delta x$ is very small compared to $\\Delta\\ell_0$,\n",
    "so we may well set $T_i = T = k\\Delta\\ell_0$. This means that\n",
    "the tension is completely dominated by the initial tension determined\n",
    "by the tuning of the string. The additional deformations of the\n",
    "spring during the vibrations do not introduce significant changes in the\n",
    "tension.\n",
    "\n",
    "## Elastic waves in a rod\n",
    "<div id=\"wave:app:elastic:rod\"></div>\n",
    "\n",
    "Consider an elastic rod subject to a hammer impact at the end.\n",
    "This experiment will give rise to an elastic deformation pulse that travels\n",
    "through the rod. A mathematical model for longitudinal waves along\n",
    "an elastic rod starts with the general equation for deformations\n",
    "and stresses in an elastic medium,"
   ]
  },
  {
   "cell_type": "markdown",
   "metadata": {},
   "source": [
    "<!-- Equation labels as ordinary links -->\n",
    "<div id=\"wave:app:elastic:rod:eqmotion\"></div>\n",
    "\n",
    "$$\n",
    "\\begin{equation}\n",
    "\\varrho\\u_{tt} = \\nabla\\cdot\\stress + \\varrho\\f,\n",
    "\\label{wave:app:elastic:rod:eqmotion} \\tag{8}\n",
    "\\end{equation}\n",
    "$$"
   ]
  },
  {
   "cell_type": "markdown",
   "metadata": {},
   "source": [
    "where $\\varrho$ is the density, $\\u$ the displacement field, $\\stress$ the\n",
    "stress tensor, and $\\f$ body forces. The latter has normally no impact\n",
    "on elastic waves.\n",
    "\n",
    "For stationary deformation of an elastic rod, aligned with the $x$\n",
    "axis, one has that $\\sigma_{xx} = Eu_x$, with all other stress\n",
    "components being zero.  The parameter $E$ is known as Young's modulus.\n",
    "Moreover, we set $\\u = u(x,t)\\ii$ and neglect the radial contraction\n",
    "and expansion (where Poisson's ratio is the important parameter).\n",
    "Assuming that this simple stress and deformation field is a good\n",
    "approximation, ([8](#wave:app:elastic:rod:eqmotion)) simplifies to"
   ]
  },
  {
   "cell_type": "markdown",
   "metadata": {},
   "source": [
    "<!-- Equation labels as ordinary links -->\n",
    "<div id=\"wave:app:elastic:rod:eq\"></div>\n",
    "\n",
    "$$\n",
    "\\begin{equation}\n",
    "\\varrho\\frac{\\partial^2 u}{\\partial t^2} = \\frac{\\partial}{\\partial x}\n",
    "\\left( E\\frac{\\partial u}{\\partial x}\\right)\n",
    "\\label{wave:app:elastic:rod:eq} \\tag{9}\n",
    "\\thinspace .\n",
    "\\end{equation}\n",
    "$$"
   ]
  },
  {
   "cell_type": "markdown",
   "metadata": {},
   "source": [
    "The associated boundary conditions are $u$ or $\\sigma_{xx}=Eu_x$ known,\n",
    "typically\n",
    "$u=0$ for a fixed end and $\\sigma_{xx}=0$ for a free end.\n",
    "\n",
    "## Waves on a membrane\n",
    "<div id=\"wave:app:membrane\"></div>\n",
    "\n",
    "Think of a thin, elastic membrane with shape as a circle or\n",
    "rectangle. This membrane can be brought into oscillatory motion and\n",
    "will develop elastic waves.  We can model this phenomenon somewhat\n",
    "similar to waves in a rod: waves in a membrane are simply the\n",
    "two-dimensional counterpart. We assume that the material is deformed\n",
    "in the $z$ direction only and write the elastic displacement field on\n",
    "the form $\\u (x,y,t) = w(x,y,t)\\ii$. The $z$ coordinate is omitted\n",
    "since the membrane is thin and all properties are taken as constant\n",
    "throughout the thickness. Inserting this displacement field in\n",
    "Newton's 2nd law of motion ([8](#wave:app:elastic:rod:eqmotion))\n",
    "results in"
   ]
  },
  {
   "cell_type": "markdown",
   "metadata": {},
   "source": [
    "<!-- Equation labels as ordinary links -->\n",
    "<div id=\"wave:app:elastic:membrane:eq\"></div>\n",
    "\n",
    "$$\n",
    "\\begin{equation}\n",
    "\\varrho\\frac{\\partial^2 w}{\\partial t^2} = \\frac{\\partial}{\\partial x}\n",
    "\\left( \\mu\\frac{\\partial w}{\\partial x}\\right) +\n",
    "\\frac{\\partial}{\\partial y}\n",
    "\\left( \\mu\\frac{\\partial w}{\\partial y}\\right)\n",
    "\\label{wave:app:elastic:membrane:eq} \\tag{10}\n",
    "\\thinspace .\n",
    "\\end{equation}\n",
    "$$"
   ]
  },
  {
   "cell_type": "markdown",
   "metadata": {},
   "source": [
    "This is nothing but a wave equation in $w(x,y,t)$, which needs the usual\n",
    "initial conditions on $w$ and $w_t$ as well as a boundary condition $w=0$.\n",
    "When computing the stress in the membrane, one needs to split $\\stress$\n",
    "into a constant high-stress component due to the fact that all membranes are\n",
    "normally pre-stressed, plus a component proportional to the displacement and\n",
    "governed by the wave motion.\n",
    "\n",
    "<!-- This is like Navier for a string, not a rod. -->\n",
    "<!-- Can incorporate an initial stress in the membrane. Should do that with -->\n",
    "<!-- the stress tensor, perhaps in an exercise. Just sigma = sigma_0 + sigma_here, -->\n",
    "<!-- where sigma_0 is a constant high stress in the membrane. -->\n",
    "\n",
    "## The acoustic model for seismic waves\n",
    "<div id=\"wave:app:acoustic:seismic\"></div>\n",
    "\n",
    "Seismic waves are used to infer properties of subsurface\n",
    "geological structures. The physical model is a heterogeneous\n",
    "elastic medium where sound is propagated by small elastic\n",
    "vibrations. The general mathematical model for deformations\n",
    "in an elastic medium is based on Newton's second law,"
   ]
  },
  {
   "cell_type": "markdown",
   "metadata": {},
   "source": [
    "<!-- Equation labels as ordinary links -->\n",
    "<div id=\"wave:app:acoustic:seismic:eqmotion\"></div>\n",
    "\n",
    "$$\n",
    "\\begin{equation}\n",
    "\\varrho\\u_{tt} = \\nabla\\cdot\\stress + \\varrho\\f,\n",
    "\\label{wave:app:acoustic:seismic:eqmotion} \\tag{11}\n",
    "\\end{equation}\n",
    "$$"
   ]
  },
  {
   "cell_type": "markdown",
   "metadata": {},
   "source": [
    "and a constitutive law relating $\\stress$ to $\\u$, often Hooke's\n",
    "generalized law,"
   ]
  },
  {
   "cell_type": "markdown",
   "metadata": {},
   "source": [
    "<!-- Equation labels as ordinary links -->\n",
    "<div id=\"wave:app:acoustic:seismic:Hooke\"></div>\n",
    "\n",
    "$$\n",
    "\\begin{equation}\n",
    "\\stress = K\\nabla\\cdot\\u\\, \\I  + G(\\nabla\\u + (\\nabla\\u)^T - \\frac{2}{3}\\nabla\\cdot\\u\\, \\I)\n",
    "\\label{wave:app:acoustic:seismic:Hooke} \\tag{12}\n",
    "\\thinspace .\n",
    "\\end{equation}\n",
    "$$"
   ]
  },
  {
   "cell_type": "markdown",
   "metadata": {},
   "source": [
    "Here, $\\u$ is the displacement field, $\\stress$ is the stress tensor,\n",
    "$\\I$ is the identity tensor,\n",
    "$\\varrho$ is the medium's density, $\\f$ are body forces (such as gravity),\n",
    "$K$ is the medium's bulk modulus and $G$ is the shear modulus.\n",
    "All these quantities may vary in space, while $\\u$ and $\\stress$ will\n",
    "also show significant variation in time during wave motion.\n",
    "\n",
    "The acoustic approximation to elastic waves arises from a basic\n",
    "assumption that the second term in Hooke's law, representing the\n",
    "deformations that give rise to shear stresses, can be neglected.\n",
    "This assumption can be interpreted as approximating the geological\n",
    "medium by a fluid.\n",
    "Neglecting also the body forces $\\f$,\n",
    "([11](#wave:app:acoustic:seismic:eqmotion)) becomes"
   ]
  },
  {
   "cell_type": "markdown",
   "metadata": {},
   "source": [
    "<!-- Equation labels as ordinary links -->\n",
    "<div id=\"wave:app:acoustic:seismic:eqmotion2\"></div>\n",
    "\n",
    "$$\n",
    "\\begin{equation}\n",
    "\\varrho\\u_{tt} = \\nabla (K\\nabla\\cdot\\u )\n",
    "\\label{wave:app:acoustic:seismic:eqmotion2} \\tag{13}\n",
    "\\end{equation}\n",
    "$$"
   ]
  },
  {
   "cell_type": "markdown",
   "metadata": {},
   "source": [
    "Introducing $p$ as a pressure via"
   ]
  },
  {
   "cell_type": "markdown",
   "metadata": {},
   "source": [
    "<!-- Equation labels as ordinary links -->\n",
    "<div id=\"wave:app:acoustic:seismic:eqmotion3\"></div>\n",
    "\n",
    "$$\n",
    "\\begin{equation}\n",
    "p=-K\\nabla\\cdot\\u,\n",
    "\\label{wave:app:acoustic:seismic:eqmotion3} \\tag{14}\n",
    "\\end{equation}\n",
    "$$"
   ]
  },
  {
   "cell_type": "markdown",
   "metadata": {},
   "source": [
    "and dividing ([13](#wave:app:acoustic:seismic:eqmotion2)) by $\\varrho$,\n",
    "we get"
   ]
  },
  {
   "cell_type": "markdown",
   "metadata": {},
   "source": [
    "<!-- Equation labels as ordinary links -->\n",
    "<div id=\"_auto2\"></div>\n",
    "\n",
    "$$\n",
    "\\begin{equation}\n",
    "\\u_{tt} = -\\frac{1}{\\varrho}\\nabla p\n",
    "\\thinspace .\n",
    "\\label{_auto2} \\tag{15}\n",
    "\\end{equation}\n",
    "$$"
   ]
  },
  {
   "cell_type": "markdown",
   "metadata": {},
   "source": [
    "Taking the divergence of this equation, using $\\nabla\\cdot\\u = -p/K$\n",
    "from ([14](#wave:app:acoustic:seismic:eqmotion3)),\n",
    "gives the *acoustic approximation to elastic waves*:"
   ]
  },
  {
   "cell_type": "markdown",
   "metadata": {},
   "source": [
    "<!-- Equation labels as ordinary links -->\n",
    "<div id=\"wave:app:acoustic:seismic:accoustic1\"></div>\n",
    "\n",
    "$$\n",
    "\\begin{equation}\n",
    "p_{tt} = K\\nabla\\cdot\\left(\\frac{1}{\\varrho}\\nabla p\\right)\n",
    "\\thinspace .\n",
    "\\label{wave:app:acoustic:seismic:accoustic1} \\tag{16}\n",
    "\\end{equation}\n",
    "$$"
   ]
  },
  {
   "cell_type": "markdown",
   "metadata": {},
   "source": [
    "This is a standard, linear wave equation with variable coefficients.\n",
    "mathcal{I}_t is common to add a source term $s(x,y,z,t)$\n",
    "to model the generation of sound waves:"
   ]
  },
  {
   "cell_type": "markdown",
   "metadata": {},
   "source": [
    "<!-- Equation labels as ordinary links -->\n",
    "<div id=\"wave:app:acoustic:seismic:accoustic\"></div>\n",
    "\n",
    "$$\n",
    "\\begin{equation}\n",
    "p_{tt} = K\\nabla\\cdot\\left(\\frac{1}{\\varrho}\\nabla p\\right) + s\n",
    "\\thinspace .\n",
    "\\label{wave:app:acoustic:seismic:accoustic} \\tag{17}\n",
    "\\end{equation}\n",
    "$$"
   ]
  },
  {
   "cell_type": "markdown",
   "metadata": {},
   "source": [
    "A common additional approximation of ([17](#wave:app:acoustic:seismic:accoustic))\n",
    "is based on using the chain rule on the right-hand side,"
   ]
  },
  {
   "cell_type": "markdown",
   "metadata": {},
   "source": [
    "$$\n",
    "K\\nabla\\cdot\\left(\\frac{1}{\\varrho}\\nabla p\\right)\n",
    "= \\frac{K}{\\varrho}\\nabla^2 p + K\\nabla\\left(\\frac{1}{\\varrho}\\right)\\cdot\n",
    "\\nabla p \\approx \\frac{K}{\\varrho}\\nabla^2 p,\n",
    "$$"
   ]
  },
  {
   "cell_type": "markdown",
   "metadata": {},
   "source": [
    "under the assumption that\n",
    "the relative spatial gradient $\\nabla\\varrho^{-1}\n",
    "= -\\varrho^{-2}\\nabla\\varrho$ is small. This approximation results\n",
    "in the simplified equation"
   ]
  },
  {
   "cell_type": "markdown",
   "metadata": {},
   "source": [
    "<!-- Equation labels as ordinary links -->\n",
    "<div id=\"wave:app:acoustic:seismic:accoustic1:const\"></div>\n",
    "\n",
    "$$\n",
    "\\begin{equation}\n",
    "p_{tt} = \\frac{K}{\\varrho}\\nabla^2 p + s\n",
    "\\thinspace .\n",
    "\\label{wave:app:acoustic:seismic:accoustic1:const} \\tag{18}\n",
    "\\end{equation}\n",
    "$$"
   ]
  },
  {
   "cell_type": "markdown",
   "metadata": {},
   "source": [
    "The acoustic approximations to seismic waves are used for sound\n",
    "waves in the ground, and the Earth's surface is then a boundary\n",
    "where $p$ equals the atmospheric pressure $p_0$ such that the\n",
    "boundary condition becomes $p=p_0$.\n",
    "\n",
    "### Anisotropy\n",
    "\n",
    "Quite often in geological materials, the effective wave velocity\n",
    "$c=\\sqrt{K/\\varrho}$ is different in different spatial directions\n",
    "because geological layers are compacted, and often twisted, in such a\n",
    "way that the properties in the horizontal and vertical direction\n",
    "differ. With $z$ as the vertical coordinate, we can introduce a\n",
    "vertical wave velocity $c_z$ and a horizontal wave velocity $c_h$, and\n",
    "generalize ([18](#wave:app:acoustic:seismic:accoustic1:const)) to"
   ]
  },
  {
   "cell_type": "markdown",
   "metadata": {},
   "source": [
    "<!-- Equation labels as ordinary links -->\n",
    "<div id=\"wave:app:acoustic:seismic:accoustic1a\"></div>\n",
    "\n",
    "$$\n",
    "\\begin{equation}\n",
    "p_{tt} = c_z^2 p_{zz} + c_h^2 (p_{xx} + p_{yy}) + s\n",
    "\\thinspace .\n",
    "\\label{wave:app:acoustic:seismic:accoustic1a} \\tag{19}\n",
    "\\end{equation}\n",
    "$$"
   ]
  },
  {
   "cell_type": "markdown",
   "metadata": {},
   "source": [
    "## Sound waves in liquids and gases\n",
    "<div id=\"wave:app:sound\"></div>\n",
    "\n",
    "Sound waves arise from pressure and density variations in fluids.\n",
    "The starting point of modeling sound waves is the basic\n",
    "equations for a compressible fluid where we omit viscous (frictional)\n",
    "forces, body forces (gravity, for instance), and temperature effects:"
   ]
  },
  {
   "cell_type": "markdown",
   "metadata": {},
   "source": [
    "<!-- Equation labels as ordinary links -->\n",
    "<div id=\"wave:app:sound:cont\"></div>\n",
    "\n",
    "$$\n",
    "\\begin{equation}\n",
    "\\varrho_t + \\nabla\\cdot (\\varrho \\u) = 0,\n",
    "\\label{wave:app:sound:cont} \\tag{20}\n",
    "\\end{equation}\n",
    "$$"
   ]
  },
  {
   "cell_type": "markdown",
   "metadata": {},
   "source": [
    "<!-- Equation labels as ordinary links -->\n",
    "<div id=\"wave:app:sound:Euler\"></div>\n",
    "\n",
    "$$\n",
    "\\begin{equation} \n",
    "\\varrho \\u_{t} + \\varrho \\u\\cdot\\nabla\\u = -\\nabla p,\n",
    "\\label{wave:app:sound:Euler} \\tag{21}\n",
    "\\end{equation}\n",
    "$$"
   ]
  },
  {
   "cell_type": "markdown",
   "metadata": {},
   "source": [
    "<!-- Equation labels as ordinary links -->\n",
    "<div id=\"wave:app:sound:prho\"></div>\n",
    "\n",
    "$$\n",
    "\\begin{equation} \n",
    "\\varrho = \\varrho (p)\n",
    "\\thinspace .\n",
    "\\label{wave:app:sound:prho} \\tag{22}\n",
    "\\end{equation}\n",
    "$$"
   ]
  },
  {
   "cell_type": "markdown",
   "metadata": {},
   "source": [
    "These equations are often referred to as the Euler equations for the motion\n",
    "of a fluid. The parameters involved are the density $\\varrho$,\n",
    "the velocity $\\u$,\n",
    "and the pressure $p$. Equation ([20](#wave:app:sound:cont)) reflects \n",
    "mass balance, ([21](#wave:app:sound:Euler)) is Newton's second law for\n",
    "a fluid, with frictional and body forces omitted, and\n",
    "([22](#wave:app:sound:prho)) is a constitutive law relating\n",
    "density to pressure by thermodynamic considerations.\n",
    "A typical model\n",
    "for ([22](#wave:app:sound:prho)) is the so-called [isentropic relation](http://en.wikipedia.org/wiki/Isentropic_process), valid for\n",
    "adiabatic processes where there is no heat transfer:"
   ]
  },
  {
   "cell_type": "markdown",
   "metadata": {},
   "source": [
    "<!-- Equation labels as ordinary links -->\n",
    "<div id=\"wave:app:sound:prho:formula\"></div>\n",
    "\n",
    "$$\n",
    "\\begin{equation}\n",
    "\\varrho = \\varrho_0\\left(\\frac{p}{p_0}\\right)^{1/\\gamma}\n",
    "\\thinspace .\n",
    "\\label{wave:app:sound:prho:formula} \\tag{23}\n",
    "\\end{equation}\n",
    "$$"
   ]
  },
  {
   "cell_type": "markdown",
   "metadata": {},
   "source": [
    "Here, $p_0$ and $\\varrho_0$ are reference values for $p$ and $\n",
    "\\varrho$ when the fluid is at rest, and\n",
    "$\\gamma$ is the ratio of specific heat at constant pressure and\n",
    "constant volume ($\\gamma = 5/3$ for air).\n",
    "\n",
    "The key approximation in a mathematical model for sound waves is to\n",
    "assume that these waves are small perturbations to the density, pressure,\n",
    "and velocity. We therefore write"
   ]
  },
  {
   "cell_type": "markdown",
   "metadata": {},
   "source": [
    "$$\n",
    "\\begin{align*}\n",
    "p &= p_0 + \\hat p,\\\\\n",
    "\\varrho &= \\varrho_0 + \\hat\\varrho,\\\\\n",
    "\\u &= \\hat\\u,\n",
    "\\end{align*}\n",
    "$$"
   ]
  },
  {
   "cell_type": "markdown",
   "metadata": {},
   "source": [
    "where we have decomposed the fields in a constant\n",
    "equilibrium value, corresponding\n",
    "to $\\u=0$, and a small perturbation marked with a hat symbol.\n",
    "By inserting these decompositions in ([20](#wave:app:sound:cont)) and\n",
    "([21](#wave:app:sound:Euler)), neglecting all product terms of small\n",
    "perturbations and/or their derivatives, and dropping the hat symbols,\n",
    "one gets the following linearized PDE system for the small perturbations in\n",
    "density, pressure, and velocity:"
   ]
  },
  {
   "cell_type": "markdown",
   "metadata": {},
   "source": [
    "<!-- Equation labels as ordinary links -->\n",
    "<div id=\"_auto3\"></div>\n",
    "\n",
    "$$\n",
    "\\begin{equation}\n",
    "\\varrho_t + \\varrho_0\\nabla\\cdot\\u = 0,\n",
    "\\label{_auto3} \\tag{24}\n",
    "\\end{equation}\n",
    "$$"
   ]
  },
  {
   "cell_type": "markdown",
   "metadata": {},
   "source": [
    "<!-- Equation labels as ordinary links -->\n",
    "<div id=\"_auto4\"></div>\n",
    "\n",
    "$$\n",
    "\\begin{equation} \n",
    "\\varrho_0\\u_t = -\\nabla p\n",
    "\\thinspace .\n",
    "\\label{_auto4} \\tag{25}\n",
    "\\end{equation}\n",
    "$$"
   ]
  },
  {
   "cell_type": "markdown",
   "metadata": {},
   "source": [
    "Now we can eliminate $\\varrho_t$ by differentiating the relation $\\varrho(p)$,"
   ]
  },
  {
   "cell_type": "markdown",
   "metadata": {},
   "source": [
    "$$\n",
    "\\varrho_t = \\varrho_0 \\frac{1}{\\gamma}\\left(\\frac{p}{p_0}\\right)^{1/\\gamma-1}\n",
    "\\frac{1}{p_0}p_t = \\frac{\\varrho_0}{\\gamma p_0}\n",
    "\\left(\\frac{p}{p_0}\\right)^{1/\\gamma-1}p_t\n",
    "\\thinspace .\n",
    "$$"
   ]
  },
  {
   "cell_type": "markdown",
   "metadata": {},
   "source": [
    "The product term $p^{1/\\gamma -1}p_t$ can be linearized as\n",
    "$p_0^{1/\\gamma -1}p_t$, resulting in"
   ]
  },
  {
   "cell_type": "markdown",
   "metadata": {},
   "source": [
    "$$\n",
    "\\varrho_t \\approx \\frac{\\varrho_0}{\\gamma p_0} p_t\n",
    "\\thinspace .\n",
    "$$"
   ]
  },
  {
   "cell_type": "markdown",
   "metadata": {},
   "source": [
    "We then get"
   ]
  },
  {
   "cell_type": "markdown",
   "metadata": {},
   "source": [
    "<!-- Equation labels as ordinary links -->\n",
    "<div id=\"wave:app:sound:cont:pert\"></div>\n",
    "\n",
    "$$\n",
    "\\begin{equation}\n",
    "p_t + \\gamma p_0\\nabla\\cdot\\u = 0,\n",
    "\\label{wave:app:sound:cont:pert} \\tag{26}\n",
    "\\end{equation}\n",
    "$$"
   ]
  },
  {
   "cell_type": "markdown",
   "metadata": {},
   "source": [
    "<!-- Equation labels as ordinary links -->\n",
    "<div id=\"wave:app:sound:Euler:pert\"></div>\n",
    "\n",
    "$$\n",
    "\\begin{equation} \n",
    "\\u_t = -\\frac{1}{\\varrho_0}\\nabla p,\n",
    "\\label{wave:app:sound:Euler:pert} \\tag{27}\n",
    "\\thinspace .\n",
    "\\end{equation}\n",
    "$$"
   ]
  },
  {
   "cell_type": "markdown",
   "metadata": {},
   "source": [
    "Taking the divergence of ([27](#wave:app:sound:Euler:pert)) and\n",
    "differentiating ([26](#wave:app:sound:cont:pert)) with respect to time\n",
    "gives the possibility to easily eliminate $\\nabla\\cdot\\u_t$ and\n",
    "arrive at a standard, linear wave equation for $p$:"
   ]
  },
  {
   "cell_type": "markdown",
   "metadata": {},
   "source": [
    "<!-- Equation labels as ordinary links -->\n",
    "<div id=\"_auto5\"></div>\n",
    "\n",
    "$$\n",
    "\\begin{equation}\n",
    "p_{tt} = c^2\\nabla^2 p,\n",
    "\\label{_auto5} \\tag{28}\n",
    "\\end{equation}\n",
    "$$"
   ]
  },
  {
   "cell_type": "markdown",
   "metadata": {},
   "source": [
    "where $c = \\sqrt{\\gamma p_0/\\varrho_0}$ is the speed of sound in the fluid.\n",
    "\n",
    "<!-- Challenge: have p_0(z) and varrho_0(z) and gravity - perhaps exercise? -->\n",
    "\n",
    "\n",
    "## Spherical waves\n",
    "<div id=\"wave:app:spherical\"></div>\n",
    "\n",
    "Spherically symmetric three-dimensional\n",
    "waves propagate in the radial direction $r$ only so that\n",
    "$u = u(r,t)$. The fully three-dimensional wave equation"
   ]
  },
  {
   "cell_type": "markdown",
   "metadata": {},
   "source": [
    "$$\n",
    "\\frac{\\partial^2u}{\\partial t^2}=\\nabla\\cdot (c^2\\nabla u) + f\n",
    "$$"
   ]
  },
  {
   "cell_type": "markdown",
   "metadata": {},
   "source": [
    "then reduces to the spherically symmetric wave equation"
   ]
  },
  {
   "cell_type": "markdown",
   "metadata": {},
   "source": [
    "<!-- Equation labels as ordinary links -->\n",
    "<div id=\"_auto6\"></div>\n",
    "\n",
    "$$\n",
    "\\begin{equation}\n",
    "\\frac{\\partial^2u}{\\partial t^2}=\\frac{1}{r^2}\\frac{\\partial}{\\partial r}\n",
    "\\left(c^2(r)r^2\\frac{\\partial u}{\\partial r}\\right)\n",
    "+ f(r,t),\\quad r\\in (0,R),\\ t>0\n",
    "\\thinspace .\n",
    "\\label{_auto6} \\tag{29}\n",
    "\\end{equation}\n",
    "$$"
   ]
  },
  {
   "cell_type": "markdown",
   "metadata": {},
   "source": [
    "One can easily show\n",
    "that the function $v(r,t) = ru(r,t)$ fulfills a standard wave equation\n",
    "in Cartesian coordinates if $c$ is constant. To this end, insert $u=v/r$ in"
   ]
  },
  {
   "cell_type": "markdown",
   "metadata": {},
   "source": [
    "$$\n",
    "\\frac{1}{r^2}\\frac{\\partial}{\\partial r}\n",
    "\\left(c^2(r)r^2\\frac{\\partial u}{\\partial r}\\right)\n",
    "$$"
   ]
  },
  {
   "cell_type": "markdown",
   "metadata": {},
   "source": [
    "to obtain"
   ]
  },
  {
   "cell_type": "markdown",
   "metadata": {},
   "source": [
    "$$\n",
    "r\\left(\\frac{d c^2}{dr}\\frac{\\partial v}{\\partial r} +\n",
    "c^2\\frac{\\partial^2 v}{\\partial r^2}\\right) - \\frac{d c^2}{dr}v\n",
    "\\thinspace .\n",
    "$$"
   ]
  },
  {
   "cell_type": "markdown",
   "metadata": {},
   "source": [
    "The two terms in the parenthesis can be combined to"
   ]
  },
  {
   "cell_type": "markdown",
   "metadata": {},
   "source": [
    "$$\n",
    "r\\frac{\\partial}{\\partial r}\\left( c^2\\frac{\\partial v}{\\partial r}\\right),\n",
    "$$"
   ]
  },
  {
   "cell_type": "markdown",
   "metadata": {},
   "source": [
    "which is recognized as the variable-coefficient Laplace operator in\n",
    "one Cartesian coordinate. The spherically symmetric wave equation in\n",
    "terms of $v(r,t)$ now becomes"
   ]
  },
  {
   "cell_type": "markdown",
   "metadata": {},
   "source": [
    "<!-- Equation labels as ordinary links -->\n",
    "<div id=\"_auto7\"></div>\n",
    "\n",
    "$$\n",
    "\\begin{equation}\n",
    "\\frac{\\partial^2v}{\\partial t^2}=\n",
    "\\frac{\\partial}{\\partial r}\n",
    "\\left(c^2(r)\\frac{\\partial v}{\\partial r}\\right)\n",
    "-\\frac{1}{r}\\frac{d c^2}{dr}v + rf(r,t),\\quad r\\in (0,R),\\ t>0\n",
    "\\thinspace .\n",
    "\\label{_auto7} \\tag{30}\n",
    "\\end{equation}\n",
    "$$"
   ]
  },
  {
   "cell_type": "markdown",
   "metadata": {},
   "source": [
    "In the case of constant wave velocity $c$, this equation reduces to\n",
    "the wave equation in a single Cartesian coordinate called $r$:"
   ]
  },
  {
   "cell_type": "markdown",
   "metadata": {},
   "source": [
    "<!-- Equation labels as ordinary links -->\n",
    "<div id=\"wave:app:rsymm:Cart\"></div>\n",
    "\n",
    "$$\n",
    "\\begin{equation}\n",
    "\\frac{\\partial^2v}{\\partial t^2}=\n",
    "c^2 \\frac{\\partial^2 v}{\\partial r^2}\n",
    "+ rf(r,t),\\quad r\\in (0,R),\\ t>0\n",
    "\\thinspace .\n",
    "\\label{wave:app:rsymm:Cart} \\tag{31}\n",
    "\\end{equation}\n",
    "$$"
   ]
  },
  {
   "cell_type": "markdown",
   "metadata": {},
   "source": [
    "That is, any program for solving the one-dimensional wave equation\n",
    "in a Cartesian coordinate system can be used to\n",
    "solve ([31](#wave:app:rsymm:Cart)), provided the source term is\n",
    "multiplied by the coordinate, and that we divide the Cartesian mesh\n",
    "solution by $r$ to get the spherically symmetric solution.\n",
    "Moreover, if $r=0$ is included in the\n",
    "domain, spherical symmetry demands that $\\partial u/\\partial r=0$ at\n",
    "$r=0$, which means that"
   ]
  },
  {
   "cell_type": "markdown",
   "metadata": {},
   "source": [
    "$$\n",
    "\\frac{\\partial u}{\\partial r} = \\frac{1}{r^2}\\left(\n",
    "r\\frac{\\partial v}{\\partial r} - v\\right) = 0,\\quad r=0\\thinspace .\n",
    "$$"
   ]
  },
  {
   "cell_type": "markdown",
   "metadata": {},
   "source": [
    "For this to hold\n",
    "in the limit $r\\rightarrow 0$, we must have $v(0,t)=0$ at least as\n",
    "a necessary condition.\n",
    "In most practical applications,\n",
    "we exclude $r=0$ from the domain and assume that some boundary\n",
    "condition is assigned at $r=\\epsilon$, for some $\\epsilon >0$.\n",
    "\n",
    "[hpl 1: Should work out the condition for $v$ further. mathcal{I}_t is a necessary\n",
    "condition, but the expression is $0/0$, so we must differentiate.\n",
    "Rough calculation says it ends with $v_{rr}=0$ as another condition.\n",
    "Could discuss with Hjorth-Jensen.]\n",
    "\n",
    "## The linear shallow water equations\n",
    "<div id=\"wave:app:sw:2D\"></div>\n",
    "\n",
    "The next example considers water waves whose wavelengths are much\n",
    "larger than the depth and whose wave amplitudes are small. This class\n",
    "of waves may be generated by catastrophic geophysical events, such as\n",
    "earthquakes at the sea bottom, landslides moving into water, or\n",
    "underwater slides (or a combination, as earthquakes frequently release\n",
    "avalanches of masses). For example, a subsea earthquake will normally\n",
    "have an extension of many kilometers but lift the water only a few\n",
    "meters. The wave length will have a size dictated by the earthquake\n",
    "area, which is much lager than the water depth, and compared to this\n",
    "wave length, an amplitude of a few meters is very small.\n",
    "The water is essentially a thin film, and mathematically we can average\n",
    "the problem in the vertical direction and approximate the 3D\n",
    "wave phenomenon by 2D PDEs. Instead of a moving water domain in three\n",
    "space dimensions, we get a horizontal 2D domain with an unknown function\n",
    "for the surface elevation and the water depth as a variable coefficient\n",
    "in the PDEs.\n",
    "\n",
    "Let $\\eta(x,y,t)$ be the elevation of\n",
    "the water surface, $H(x,y)$ the water depth corresponding to a flat\n",
    "surface ($\\eta =0$), $u(x,y,t)$ and $v(x,y,t)$ the\n",
    "depth-averaged horizontal velocities of the water. Mass and momentum\n",
    "balance of the water volume give rise to the PDEs involving these\n",
    "quantities:"
   ]
  },
  {
   "cell_type": "markdown",
   "metadata": {},
   "source": [
    "<!-- Equation labels as ordinary links -->\n",
    "<div id=\"wave:app:sw:2D:eeq\"></div>\n",
    "\n",
    "$$\n",
    "\\begin{equation}\n",
    "\\eta_t = - (Hu)_x - (Hv)_x\n",
    "\\label{wave:app:sw:2D:eeq} \\tag{32}\n",
    "\\end{equation}\n",
    "$$"
   ]
  },
  {
   "cell_type": "markdown",
   "metadata": {},
   "source": [
    "<!-- Equation labels as ordinary links -->\n",
    "<div id=\"wave:app:sw:2D:ueq\"></div>\n",
    "\n",
    "$$\n",
    "\\begin{equation} \n",
    "u_t = -g\\eta_x,\n",
    "\\label{wave:app:sw:2D:ueq} \\tag{33}\n",
    "\\end{equation}\n",
    "$$"
   ]
  },
  {
   "cell_type": "markdown",
   "metadata": {},
   "source": [
    "<!-- Equation labels as ordinary links -->\n",
    "<div id=\"wave:app:sw:2D:veq\"></div>\n",
    "\n",
    "$$\n",
    "\\begin{equation} \n",
    "v_t = -g\\eta_y,\n",
    "\\label{wave:app:sw:2D:veq} \\tag{34}\n",
    "\\end{equation}\n",
    "$$"
   ]
  },
  {
   "cell_type": "markdown",
   "metadata": {},
   "source": [
    "where $g$ is the acceleration of gravity. Equation ([32](#wave:app:sw:2D:eeq))\n",
    "corresponds to mass balance while the other two are derived from momentum\n",
    "balance (Newton's second law).\n",
    "\n",
    "The initial conditions associated with\n",
    "([32](#wave:app:sw:2D:eeq))-([34](#wave:app:sw:2D:veq)) are $\\eta$, $u$,\n",
    "and $v$ prescribed at $t=0$. A common condition is to have some water\n",
    "elevation $\\eta =I(x,y)$ and assume that the surface is at rest:\n",
    "$u=v=0$. A subsea earthquake usually means a sufficiently rapid motion\n",
    "of the bottom and the water volume to say that the bottom\n",
    "deformation is mirrored at the water surface as an initial lift $I(x,y)$\n",
    "and that $u=v=0$.\n",
    "\n",
    "Boundary conditions may be $\\eta$ prescribed for incoming, known\n",
    "waves, or zero normal velocity at reflecting boundaries (steep\n",
    "mountains, for instance): $un_x + vn_y =0$, where $(n_x,n_y)$ is the\n",
    "outward unit normal to the boundary.  More sophisticated boundary\n",
    "conditions are needed when waves run up at the shore, and at open\n",
    "boundaries where we want the waves to leave the computational domain\n",
    "undisturbed.\n",
    "\n",
    "Equations ([32](#wave:app:sw:2D:eeq)), ([33](#wave:app:sw:2D:ueq)), and\n",
    "([34](#wave:app:sw:2D:veq)) can be transformed to a standard, linear\n",
    "wave equation. First, multiply ([33](#wave:app:sw:2D:ueq)) and\n",
    "([34](#wave:app:sw:2D:veq)) by $H$, differentiate ([33](#wave:app:sw:2D:ueq)))\n",
    "with respect to $x$ and ([34](#wave:app:sw:2D:veq)) with respect to $y$.\n",
    "Second, differentiate ([32](#wave:app:sw:2D:eeq)) with respect to $t$\n",
    "and use that $(Hu)_{xt}=(Hu_t)_x$ and $(Hv)_{yt}=(Hv_t)_y$ when $H$\n",
    "is independent of $t$. Third, eliminate $(Hu_t)_x$ and $(Hv_t)_y$\n",
    "with the aid of the other two differentiated equations. These manipulations\n",
    "result in a standard, linear wave equation for $\\eta$:"
   ]
  },
  {
   "cell_type": "markdown",
   "metadata": {},
   "source": [
    "<!-- Equation labels as ordinary links -->\n",
    "<div id=\"wave:app:sw:2D:eta:2ndoeq\"></div>\n",
    "\n",
    "$$\n",
    "\\begin{equation}\n",
    "\\eta_{tt} = (gH\\eta_x)_x + (gH\\eta_y)_y = \\nabla\\cdot (gH\\nabla\\eta)\n",
    "\\label{wave:app:sw:2D:eta:2ndoeq} \\tag{35}\n",
    "\\thinspace .\n",
    "\\end{equation}\n",
    "$$"
   ]
  },
  {
   "cell_type": "markdown",
   "metadata": {},
   "source": [
    "In the case we have an initial non-flat water surface at rest, the\n",
    "initial conditions become $\\eta =I(x,y)$ and $\\eta_t=0$.\n",
    "The latter follows from ([32](#wave:app:sw:2D:eeq)) if $u=v=0$, or\n",
    "simply from the fact that the vertical velocity of the surface\n",
    "is $\\eta_t$, which is zero for a surface at rest.\n",
    "\n",
    "The system ([32](#wave:app:sw:2D:eeq))-([34](#wave:app:sw:2D:veq))\n",
    "can be extended to handle a time-varying bottom topography, which is\n",
    "relevant for modeling long waves generated by underwater slides.\n",
    "In such cases the water depth function $H$ is also a function of $t$,\n",
    "due to the moving slide,\n",
    "and one must add a time-derivative term $H_t$ to the left-hand side\n",
    "of ([32](#wave:app:sw:2D:eeq)). A moving bottom is best described by\n",
    "introducing $z=H_0$ as the still-water level, $z=B(x,y,t)$ as\n",
    "the time- and space-varying bottom topography, so that $H=H_0-B(x,y,t)$.\n",
    "In the elimination of $u$ and $v$ one may assume that the dependence of\n",
    "$H$ on $t$ can be neglected in the terms $(Hu)_{xt}$ and $(Hv)_{yt}$.\n",
    "We then end up with a source term in ([35](#wave:app:sw:2D:eta:2ndoeq)),\n",
    "because of the moving (accelerating) bottom:"
   ]
  },
  {
   "cell_type": "markdown",
   "metadata": {},
   "source": [
    "<!-- Equation labels as ordinary links -->\n",
    "<div id=\"wave:app:sw:2D:eta:2ndoeq:Ht\"></div>\n",
    "\n",
    "$$\n",
    "\\begin{equation}\n",
    "\\eta_{tt} = \\nabla\\cdot(gH\\nabla\\eta) + B_{tt}\n",
    "\\label{wave:app:sw:2D:eta:2ndoeq:Ht} \\tag{36}\n",
    "\\thinspace .\n",
    "\\end{equation}\n",
    "$$"
   ]
  },
  {
   "cell_type": "markdown",
   "metadata": {},
   "source": [
    "The reduction of ([36](#wave:app:sw:2D:eta:2ndoeq:Ht)) to 1D, for long waves\n",
    "in a straight channel, or for approximately plane waves in the ocean, is\n",
    "trivial by assuming no change in $y$ direction ($\\partial/\\partial y=0$):"
   ]
  },
  {
   "cell_type": "markdown",
   "metadata": {},
   "source": [
    "<!-- Equation labels as ordinary links -->\n",
    "<div id=\"wave:app:sw:1D:eta:2ndoeq:Ht\"></div>\n",
    "\n",
    "$$\n",
    "\\begin{equation}\n",
    "\\eta_{tt} = (gH\\eta_x)_x + B_{tt}\n",
    "\\label{wave:app:sw:1D:eta:2ndoeq:Ht} \\tag{37}\n",
    "\\thinspace .\n",
    "\\end{equation}\n",
    "$$"
   ]
  },
  {
   "cell_type": "markdown",
   "metadata": {},
   "source": [
    "### Wind drag on the surface\n",
    "\n",
    "Surface waves are influenced by the drag of the wind, and if the\n",
    "wind velocity some meters above the surface is $(U,V)$,\n",
    "the wind drag gives contributions\n",
    "$C_V\\sqrt{U^2+V^2}U$ and $C_V\\sqrt{U^2+V^2}V$ to\n",
    "([33](#wave:app:sw:2D:ueq)) and ([34](#wave:app:sw:2D:veq)), respectively,\n",
    "on the right-hand sides.\n",
    "\n",
    "### Bottom drag\n",
    "\n",
    "The waves will experience a drag from the bottom, often roughly modeled\n",
    "by a term similar to the wind drag:\n",
    "$C_B\\sqrt{u^2+v^2}u$ on the right-hand side of ([33](#wave:app:sw:2D:ueq)) and\n",
    "$C_B\\sqrt{u^2+v^2}v$ on the right-hand side of ([34](#wave:app:sw:2D:veq)).\n",
    "Note that in this case the PDEs ([33](#wave:app:sw:2D:ueq)) and\n",
    "([34](#wave:app:sw:2D:veq)) become nonlinear and the elimination of $u$ and $v$\n",
    "to arrive at a 2nd-order wave equation for $\\eta$ is not possible anymore.\n",
    "\n",
    "### Effect of the Earth's rotation\n",
    "\n",
    "Long geophysical waves will often be affected by the rotation of the\n",
    "Earth because of the Coriolis force. This force gives rise to a\n",
    "term $fv$ on the right-hand side of ([33](#wave:app:sw:2D:ueq)) and\n",
    "$-fu$ on the right-hand side of ([34](#wave:app:sw:2D:veq)).\n",
    "Also in this case one cannot eliminate $u$ and $v$ to work with a single\n",
    "equation for $\\eta$. The Coriolis parameter is $f=2\\Omega\\sin\\phi$,\n",
    "where $\\Omega$ is the angular velocity of the earth and $\\phi$ is\n",
    "the latitude.\n",
    "\n",
    "\n",
    "\n",
    "## Waves in blood vessels\n",
    "<div id=\"wave:app:blood\"></div>\n",
    "\n",
    "The flow of blood in our bodies is basically fluid flow in\n",
    "a network of pipes. Unlike rigid pipes, the walls in the\n",
    "blood vessels are elastic and will increase their diameter when the\n",
    "pressure rises. The elastic forces will then push the wall back\n",
    "and accelerate the fluid. This interaction between the flow of blood\n",
    "and the deformation of the vessel wall results in waves traveling along\n",
    "our blood vessels.\n",
    "\n",
    "A model for one-dimensional waves along blood vessels can be derived\n",
    "from averaging the fluid flow over the cross section of the blood\n",
    "vessels. Let $x$ be a coordinate along the blood vessel and assume\n",
    "that all cross sections are circular, though with different radii $R(x,t)$.\n",
    "The main quantities to compute is the cross section\n",
    "area $A(x,t)$, the averaged pressure $P(x,t)$, and the total volume\n",
    "flux $Q(x,t)$.\n",
    "The area of this cross section\n",
    "is"
   ]
  },
  {
   "cell_type": "markdown",
   "metadata": {},
   "source": [
    "<!-- Equation labels as ordinary links -->\n",
    "<div id=\"_auto8\"></div>\n",
    "\n",
    "$$\n",
    "\\begin{equation}\n",
    "A(x,t) = 2\\pi\\int_{0}^{R(x,t)} rdr,\n",
    "\\label{_auto8} \\tag{38}\n",
    "\\end{equation}\n",
    "$$"
   ]
  },
  {
   "cell_type": "markdown",
   "metadata": {},
   "source": [
    "Let $v_x(x,t)$ be the velocity of blood averaged over\n",
    "the cross section at point $x$. The volume flux,\n",
    "being the total volume of blood passing a cross section per time unit,\n",
    "becomes"
   ]
  },
  {
   "cell_type": "markdown",
   "metadata": {},
   "source": [
    "<!-- Equation labels as ordinary links -->\n",
    "<div id=\"_auto9\"></div>\n",
    "\n",
    "$$\n",
    "\\begin{equation}\n",
    "Q(x,t) = A(x,t)v_x(x,t)\n",
    "\\thinspace\n",
    "\\label{_auto9} \\tag{39}\n",
    "\\end{equation}\n",
    "$$"
   ]
  },
  {
   "cell_type": "markdown",
   "metadata": {},
   "source": [
    "Mass balance and Newton's second law lead to the PDEs"
   ]
  },
  {
   "cell_type": "markdown",
   "metadata": {},
   "source": [
    "<!-- Equation labels as ordinary links -->\n",
    "<div id=\"wave:app:blood:cont\"></div>\n",
    "\n",
    "$$\n",
    "\\begin{equation}\n",
    "\\frac{\\partial A}{\\partial t} + \\frac{\\partial Q}{\\partial x} = 0,\n",
    "\\label{wave:app:blood:cont} \\tag{40}\n",
    "\\end{equation}\n",
    "$$"
   ]
  },
  {
   "cell_type": "markdown",
   "metadata": {},
   "source": [
    "<!-- Equation labels as ordinary links -->\n",
    "<div id=\"wave:app:blood:mom\"></div>\n",
    "\n",
    "$$\n",
    "\\begin{equation} \n",
    "\\frac{\\partial Q}{\\partial t} +\n",
    "\\frac{\\gamma+2}{\\gamma + 1}\n",
    "\\frac{\\partial}{\\partial x}\\left(\\frac{Q^2}{A}\\right)\n",
    "+ \\frac{A}{\\varrho}\\frac{\\partial P}{\\partial x}\n",
    "= -2\\pi (\\gamma + 2)\\frac{\\mu}{\\varrho}\\frac{Q}{A},\n",
    "\\label{wave:app:blood:mom} \\tag{41}\n",
    "\\end{equation}\n",
    "$$"
   ]
  },
  {
   "cell_type": "markdown",
   "metadata": {},
   "source": [
    "where $\\gamma$ is a parameter related to the velocity profile,\n",
    "$\\varrho$ is the density of blood, and $\\mu$ is the dynamic viscosity\n",
    "of blood.\n",
    "\n",
    "We have three unknowns $A$, $Q$, and $P$, and two equations\n",
    "([40](#wave:app:blood:cont)) and ([41](#wave:app:blood:mom)).\n",
    "A third equation is needed to relate the flow to\n",
    "the deformations of the wall. A common form for this equation is"
   ]
  },
  {
   "cell_type": "markdown",
   "metadata": {},
   "source": [
    "<!-- Equation labels as ordinary links -->\n",
    "<div id=\"wave:app:blood:const\"></div>\n",
    "\n",
    "$$\n",
    "\\begin{equation}\n",
    "\\frac{\\partial P}{\\partial t} + \\frac{1}{C}\n",
    "\\frac{\\partial Q}{\\partial x} =0,\n",
    "\\label{wave:app:blood:const} \\tag{42}\n",
    "\\end{equation}\n",
    "$$"
   ]
  },
  {
   "cell_type": "markdown",
   "metadata": {},
   "source": [
    "where $C$ is the compliance of the wall, given by the constitutive\n",
    "relation"
   ]
  },
  {
   "cell_type": "markdown",
   "metadata": {},
   "source": [
    "<!-- Equation labels as ordinary links -->\n",
    "<div id=\"_auto10\"></div>\n",
    "\n",
    "$$\n",
    "\\begin{equation}\n",
    "C = \\frac{\\partial A}{\\partial P} + \\frac{\\partial A}{\\partial t},\n",
    "\\label{_auto10} \\tag{43}\n",
    "\\end{equation}\n",
    "$$"
   ]
  },
  {
   "cell_type": "markdown",
   "metadata": {},
   "source": [
    "which requires a relationship between $A$ and $P$. One common model\n",
    "is to view the vessel wall, locally, as a thin elastic tube subject to an\n",
    "internal pressure. This gives the relation"
   ]
  },
  {
   "cell_type": "markdown",
   "metadata": {},
   "source": [
    "$$\n",
    "P=P_0 + \\frac{\\pi h E}{(1-\\nu^2)A_0}(\\sqrt{A} - \\sqrt{A_0}),\n",
    "$$"
   ]
  },
  {
   "cell_type": "markdown",
   "metadata": {},
   "source": [
    "where $P_0$ and $A_0$ are corresponding reference values when the\n",
    "wall is not deformed, $h$ is the\n",
    "thickness of the wall, and $E$ and $\\nu$ are Young's modulus and\n",
    "Poisson's ratio of the elastic material in the wall.\n",
    "The derivative becomes"
   ]
  },
  {
   "cell_type": "markdown",
   "metadata": {},
   "source": [
    "<!-- Equation labels as ordinary links -->\n",
    "<div id=\"_auto11\"></div>\n",
    "\n",
    "$$\n",
    "\\begin{equation}\n",
    "C = \\frac{\\partial A}{\\partial P} =\n",
    "\\frac{2(1-\\nu^2)A_0}{\\pi h E}\\sqrt{A_0} +\n",
    "2\\left(\\frac{(1-\\nu^2)A_0}{\\pi h E}\\right)^2(P-P_0)\n",
    "\\thinspace .\n",
    "\\label{_auto11} \\tag{44}\n",
    "\\end{equation}\n",
    "$$"
   ]
  },
  {
   "cell_type": "markdown",
   "metadata": {},
   "source": [
    "Another (nonlinear) deformation model of the wall, which has a better\n",
    "fit with experiments, is"
   ]
  },
  {
   "cell_type": "markdown",
   "metadata": {},
   "source": [
    "$$\n",
    "P = P_0\\exp{(\\beta (A/A_0 - 1))},\n",
    "$$"
   ]
  },
  {
   "cell_type": "markdown",
   "metadata": {},
   "source": [
    "where $\\beta$ is some parameter to be estimated. This law leads to"
   ]
  },
  {
   "cell_type": "markdown",
   "metadata": {},
   "source": [
    "<!-- Equation labels as ordinary links -->\n",
    "<div id=\"_auto12\"></div>\n",
    "\n",
    "$$\n",
    "\\begin{equation}\n",
    "C = \\frac{\\partial A}{\\partial P} = \\frac{A_0}{\\beta P}\n",
    "\\thinspace .\n",
    "\\label{_auto12} \\tag{45}\n",
    "\\end{equation}\n",
    "$$"
   ]
  },
  {
   "cell_type": "markdown",
   "metadata": {},
   "source": [
    "**Reduction to the standard wave equation.**\n",
    "mathcal{I}_t is not uncommon to neglect the viscous term on the right-hand side of\n",
    "([41](#wave:app:blood:mom)) and also the quadratic term\n",
    "with $Q^2$ on the left-hand side. The reduced equations\n",
    "([41](#wave:app:blood:mom))\n",
    "and ([42](#wave:app:blood:const)) form a first-order\n",
    "linear wave equation system:"
   ]
  },
  {
   "cell_type": "markdown",
   "metadata": {},
   "source": [
    "<!-- Equation labels as ordinary links -->\n",
    "<div id=\"_auto13\"></div>\n",
    "\n",
    "$$\n",
    "\\begin{equation}\n",
    "C\\frac{\\partial P}{\\partial t} = - \\frac{\\partial Q}{\\partial x},\n",
    "\\label{_auto13} \\tag{46}\n",
    "\\end{equation}\n",
    "$$"
   ]
  },
  {
   "cell_type": "markdown",
   "metadata": {},
   "source": [
    "<!-- Equation labels as ordinary links -->\n",
    "<div id=\"_auto14\"></div>\n",
    "\n",
    "$$\n",
    "\\begin{equation} \n",
    "\\frac{\\partial Q}{\\partial t}\n",
    "= - \\frac{A}{\\varrho}\\frac{\\partial P}{\\partial x}\n",
    "\\thinspace .\n",
    "\\label{_auto14} \\tag{47}\n",
    "\\end{equation}\n",
    "$$"
   ]
  },
  {
   "cell_type": "markdown",
   "metadata": {},
   "source": [
    "These can be combined into standard 1D wave PDE by differentiating\n",
    "the first equation with respect to $t$ and the second with respect to $x$,"
   ]
  },
  {
   "cell_type": "markdown",
   "metadata": {},
   "source": [
    "$$\n",
    "\\frac{\\partial}{\\partial t}\\left( C\\frac{\\partial P}{\\partial t}\n",
    "\\right) = \\frac{\\partial}{\\partial x}\\left(\n",
    "\\frac{A}{\\varrho}\\frac{\\partial P}{\\partial x}\\right),\n",
    "$$"
   ]
  },
  {
   "cell_type": "markdown",
   "metadata": {},
   "source": [
    "which can be approximated by"
   ]
  },
  {
   "cell_type": "markdown",
   "metadata": {},
   "source": [
    "<!-- Equation labels as ordinary links -->\n",
    "<div id=\"_auto15\"></div>\n",
    "\n",
    "$$\n",
    "\\begin{equation}\n",
    "\\frac{\\partial^2 Q}{\\partial t^2} = c^2\\frac{\\partial^2 Q}{\\partial x^2},\\quad\n",
    "c = \\sqrt{\\frac{A}{\\varrho C}},\n",
    "\\label{_auto15} \\tag{48}\n",
    "\\end{equation}\n",
    "$$"
   ]
  },
  {
   "cell_type": "markdown",
   "metadata": {},
   "source": [
    "where the $A$ and $C$ in the expression for $c$ are taken as constant\n",
    "reference values.\n",
    "\n",
    "## Electromagnetic waves\n",
    "<div id=\"wave:app:light\"></div>\n",
    "\n",
    "Light and radio waves are governed by standard wave equations arising\n",
    "from Maxwell's general equations. When there are no charges and\n",
    "no currents, as in a vacuum, Maxwell's equations take the form"
   ]
  },
  {
   "cell_type": "markdown",
   "metadata": {},
   "source": [
    "$$\n",
    "\\begin{align*}\n",
    "\\nabla\\cdot\\pmb{E} &= 0,\\\\\n",
    "\\nabla\\cdot\\pmb{B} &= 0,\\\\\n",
    "\\nabla\\times\\pmb{E} &= -\\frac{\\partial\\pmb{B}}{\\partial t},\\\\\n",
    "\\nabla\\times\\pmb{B} &= \\mu_0\\epsilon_0\\frac{\\partial\\pmb{E}}{\\partial t},\n",
    "\\end{align*}\n",
    "$$"
   ]
  },
  {
   "cell_type": "markdown",
   "metadata": {},
   "source": [
    "where $\\epsilon_0=8.854187817620\\cdot 10^{-12}$ (F/m)\n",
    "is the permittivity of free space, also known as the\n",
    "electric constant, and $\\mu_0=1.2566370614\\cdot 10^{-6}$ (H/m)\n",
    "is the permeability of free space,\n",
    "also known as the magnetic constant.\n",
    "Taking the curl of the two last equations and using the\n",
    "mathematical identity"
   ]
  },
  {
   "cell_type": "markdown",
   "metadata": {},
   "source": [
    "$$\n",
    "\\nabla\\times (\\nabla\\times \\pmb{E}) = \\nabla(\\nabla \\cdot \\pmb{E})\n",
    "- \\nabla^2\\pmb{E} = - \\nabla^2\\pmb{E}\\hbox{ when }\\nabla\\cdot\\pmb{E}=0,\n",
    "$$"
   ]
  },
  {
   "cell_type": "markdown",
   "metadata": {},
   "source": [
    "gives the wave equation governing the electric and magnetic field:"
   ]
  },
  {
   "cell_type": "markdown",
   "metadata": {},
   "source": [
    "<!-- Equation labels as ordinary links -->\n",
    "<div id=\"_auto16\"></div>\n",
    "\n",
    "$$\n",
    "\\begin{equation}\n",
    "\\frac{\\partial^2\\pmb{E}}{\\partial t^2} =\n",
    "c^2\\nabla^2\\pmb{E},\n",
    "\\label{_auto16} \\tag{49}\n",
    "\\end{equation}\n",
    "$$"
   ]
  },
  {
   "cell_type": "markdown",
   "metadata": {},
   "source": [
    "<!-- Equation labels as ordinary links -->\n",
    "<div id=\"_auto17\"></div>\n",
    "\n",
    "$$\n",
    "\\begin{equation} \n",
    "\\frac{\\partial^2\\pmb{B}}{\\partial t^2} =\n",
    "c^2\\nabla^2\\pmb{B},\n",
    "\\label{_auto17} \\tag{50}\n",
    "\\end{equation}\n",
    "$$"
   ]
  },
  {
   "cell_type": "markdown",
   "metadata": {},
   "source": [
    "with $c=1/\\sqrt{\\mu_0\\epsilon_0}$ as the velocity of light.\n",
    "Each component of $\\pmb{E}$ and $\\pmb{B}$ fulfills a wave equation\n",
    "and can hence be solved independently."
   ]
  }
 ],
 "metadata": {
  "kernelspec": {
   "display_name": "Python 3",
   "language": "python",
   "name": "python3"
  },
  "language_info": {
   "codemirror_mode": {
    "name": "ipython",
    "version": 3
   },
   "file_extension": ".py",
   "mimetype": "text/x-python",
   "name": "python",
   "nbconvert_exporter": "python",
   "pygments_lexer": "ipython3",
   "version": "3.8.3"
  }
 },
 "nbformat": 4,
 "nbformat_minor": 4
}
