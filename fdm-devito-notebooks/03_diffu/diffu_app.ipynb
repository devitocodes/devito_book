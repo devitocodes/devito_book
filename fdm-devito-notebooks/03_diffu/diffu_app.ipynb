{
 "cells": [
  {
   "cell_type": "markdown",
   "metadata": {},
   "source": [
    "# Applications\n",
    "<div id=\"diffu:app\"></div>\n",
    "\n",
    "[hpl 1: Remaining: comment on boundary conditions for diffusion of substance\n",
    "and heat conduction (include Robin/cooling).]\n",
    "\n",
    "## Diffusion of a substance\n",
    "<div id=\"diffu:app:substance\"></div>\n",
    "\n",
    "\n",
    "The first process to be considered is a substance that gets\n",
    "transported through a fluid at rest by pure diffusion. We consider an\n",
    "arbitrary volume $V$ of this fluid, containing the substance with\n",
    "concentration function $c(\\x,t)$. Physically, we can think of a very\n",
    "small volume with centroid $\\x$ at time $t$ and assign the ratio of\n",
    "the volume of the substance and the total volume to $c(\\x, t)$.  This\n",
    "means that the mass of the substance in a small volume $\\Delta V$ is\n",
    "approximately $\\varrho c\\Delta V$, where $\\varrho$ is the density of\n",
    "the substance. Consequently, the total mass of the substance inside\n",
    "the volume $V$ is the sum of all $\\varrho c\\Delta V$, which becomes\n",
    "the volume integral $\\int_V\\varrho cdV$.\n",
    "\n",
    "Let us reason how the mass of the substance changes and thereby derive\n",
    "a PDE governing the concentration $c$.  Suppose the substance flows\n",
    "out of $V$ with a flux $\\q$.  If $\\Delta S$ is a small part of the\n",
    "boundary $\\partial V$ of $V$, the volume of the substance flowing out\n",
    "through $dS$ in a small time interval $\\Delta t$ is $\\varrho\n",
    "\\q\\cdot\\boldsymbol{n} \\Delta t \\Delta S$, where $\\boldsymbol{n}$ is an outward\n",
    "unit normal to the boundary $\\partial V$, see [Figure](#diffu:app:substance:fig1).  We realize that only the normal\n",
    "component of $\\q$ is able to transport mass in and out of $V$.  The\n",
    "total outflow of the mass of the substance in a small time interval\n",
    "$\\Delta t$ becomes the surface integral"
   ]
  },
  {
   "cell_type": "markdown",
   "metadata": {},
   "source": [
    "$$\n",
    "\\int\\limits_{\\partial V} \\varrho\\q\\cdot\\boldsymbol{n} \\Delta t\\,  dS\\thinspace .\n",
    "$$"
   ]
  },
  {
   "cell_type": "markdown",
   "metadata": {},
   "source": [
    "Assuming conservation of mass, this outflow of mass must be balanced by\n",
    "a loss of mass inside the volume. The increase of mass inside the volume,\n",
    "during a small time interval $\\Delta t$, is"
   ]
  },
  {
   "cell_type": "markdown",
   "metadata": {},
   "source": [
    "$$\n",
    "\\int\\limits_V \\varrho (c(\\x,t+\\Delta t) - c(\\x,t)) dV,\n",
    "$$"
   ]
  },
  {
   "cell_type": "markdown",
   "metadata": {},
   "source": [
    "assuming $\\varrho$ is constant, which is reasonable. The outflow of mass\n",
    "balances the loss of mass in $V$, which is the increase with a minus sign.\n",
    "Setting the two contributions equal to each other ensures balance of\n",
    "mass inside $V$. Dividing by $\\Delta t$ gives"
   ]
  },
  {
   "cell_type": "markdown",
   "metadata": {},
   "source": [
    "$$\n",
    "\\int\\limits_V \\varrho \\frac{c(\\x,t+\\Delta t) - c(\\x,t)}{\\Delta t} dV =\n",
    "- \\int\\limits_{\\partial V} \\varrho\\q\\cdot\\boldsymbol{n}\\, dS\\thinspace .\n",
    "$$"
   ]
  },
  {
   "cell_type": "markdown",
   "metadata": {},
   "source": [
    "Note the minus sign on the right-hand side: the left-hand side expresses\n",
    "loss of mass, while the integral on the right-hand side is the gain of\n",
    "mass.\n",
    "\n",
    "Now, letting $\\Delta t\\rightarrow 0$, we have"
   ]
  },
  {
   "cell_type": "markdown",
   "metadata": {},
   "source": [
    "$$\n",
    "\\frac{c(\\x,t+\\Delta t) - c(\\x,t)}{\\Delta t} \\rightarrow\n",
    "\\frac{\\partial c}{\\partial t},\n",
    "$$"
   ]
  },
  {
   "cell_type": "markdown",
   "metadata": {},
   "source": [
    "so"
   ]
  },
  {
   "cell_type": "markdown",
   "metadata": {},
   "source": [
    "<!-- Equation labels as ordinary links -->\n",
    "<div id=\"diffu:app:substance:integral\"></div>\n",
    "\n",
    "$$\n",
    "\\begin{equation}\n",
    "\\int\\limits_V \\varrho \\frac{\\partial c}{\\partial t}dV +\n",
    "\\int\\limits_{\\partial V} \\varrho\\q\\cdot\\boldsymbol{n}\\, dS = 0\\thinspace .\n",
    "\\label{diffu:app:substance:integral} \\tag{1}\n",
    "\\end{equation}\n",
    "$$"
   ]
  },
  {
   "cell_type": "markdown",
   "metadata": {},
   "source": [
    "To arrive at a PDE,\n",
    "we express the surface integral as a volume integral using Gauss'\n",
    "divergence theorem:"
   ]
  },
  {
   "cell_type": "markdown",
   "metadata": {},
   "source": [
    "$$\n",
    "\\int\\limits_V (\\varrho \\frac{\\partial c}{\\partial t} +\n",
    "\\nabla\\cdot(\\varrho \\q))dV = 0\\thinspace .\n",
    "$$"
   ]
  },
  {
   "cell_type": "markdown",
   "metadata": {},
   "source": [
    "Since $\\varrho$ is constant, we can divide by this quantity.  If the\n",
    "integral is to vanish for an arbitrary volume $V$, the integrand must\n",
    "vanish too, and we get the mass conservation PDE for the substance:"
   ]
  },
  {
   "cell_type": "markdown",
   "metadata": {},
   "source": [
    "<!-- Equation labels as ordinary links -->\n",
    "<div id=\"diffu:app:substance:massconv\"></div>\n",
    "\n",
    "$$\n",
    "\\begin{equation}\n",
    "\\frac{\\partial c}{\\partial t} +\n",
    "\\nabla\\cdot \\q = 0\\thinspace .\n",
    "\\label{diffu:app:substance:massconv} \\tag{2}\n",
    "\\end{equation}\n",
    "$$"
   ]
  },
  {
   "cell_type": "markdown",
   "metadata": {},
   "source": [
    "<!-- dom:FIGURE: [fig-diffu/continuum.png, width=200 frac=0.3] An arbitrary volume of a fluid. <div id=\"diffu:app:substance:fig1\"></div> -->\n",
    "<!-- begin figure -->\n",
    "<div id=\"diffu:app:substance:fig1\"></div>\n",
    "\n",
    "<p>An arbitrary volume of a fluid.</p>\n",
    "<img src=\"fig-diffu/continuum.png\" width=200>\n",
    "\n",
    "<!-- end figure -->\n",
    "\n",
    "\n",
    "A fundamental problem is that this is a scalar PDE for four unknowns:\n",
    "$c$ and the three components of $\\q$. We therefore need additional\n",
    "equations. Here, Fick's law comes at rescue: it models how the flux\n",
    "$\\q$ of the substance is related to the concentration $c$. Diffusion\n",
    "is recognized by mass flowing from regions with high concentration to\n",
    "regions of low concentration. This principle suggests that $\\q$ is\n",
    "proportional to the negative gradient of $c$:"
   ]
  },
  {
   "cell_type": "markdown",
   "metadata": {},
   "source": [
    "<!-- Equation labels as ordinary links -->\n",
    "<div id=\"diffu:app:substance:Fick\"></div>\n",
    "\n",
    "$$\n",
    "\\begin{equation}\n",
    "\\q = -\\dfc\\nabla c,\n",
    "\\label{diffu:app:substance:Fick} \\tag{3}\n",
    "\\end{equation}\n",
    "$$"
   ]
  },
  {
   "cell_type": "markdown",
   "metadata": {},
   "source": [
    "where $\\dfc$ is an empirically determined constant.\n",
    "The relation ([3](#diffu:app:substance:Fick)) is known as Fick's law.\n",
    "Inserting ([3](#diffu:app:substance:Fick)) in\n",
    "([2](#diffu:app:substance:massconv)) gives a scalar PDE for the\n",
    "concentration $c$:"
   ]
  },
  {
   "cell_type": "markdown",
   "metadata": {},
   "source": [
    "<!-- Equation labels as ordinary links -->\n",
    "<div id=\"diffu:app:substance:PDE\"></div>\n",
    "\n",
    "$$\n",
    "\\begin{equation}\n",
    "\\frac{\\partial c}{\\partial t} = \\dfc\\nabla^2 c\\thinspace .\n",
    "\\label{diffu:app:substance:PDE} \\tag{4}\n",
    "\\end{equation}\n",
    "$$"
   ]
  },
  {
   "cell_type": "markdown",
   "metadata": {},
   "source": [
    "## Heat conduction\n",
    "<div id=\"diffu:app:heat\"></div>\n",
    "\n",
    "\n",
    "Heat conduction is a well-known diffusion process. The governing PDE\n",
    "is in this case based on the first law of thermodynamics: the increase\n",
    "in energy of a system is equal to the work done on the system, plus\n",
    "the supplied heat. Here, we shall consider media at rest and neglect work\n",
    "done on the system. The principle then reduces to a balance between\n",
    "increase in internal energy and supplied heat flow by conduction.\n",
    "\n",
    "Let $e(x,t)$ be the *internal energy* per unit mass. The increase of\n",
    "the internal energy in a small volume $\\Delta V$ in a small time\n",
    "interval $\\Delta t$ is then"
   ]
  },
  {
   "cell_type": "markdown",
   "metadata": {},
   "source": [
    "$$\n",
    "\\varrho (e(\\x,t+\\Delta t) - e(\\x,t))\\Delta V,\n",
    "$$"
   ]
  },
  {
   "cell_type": "markdown",
   "metadata": {},
   "source": [
    "where $\\varrho$ is the density of the material subject to heat conduction.\n",
    "In an arbitrary volume $V$, as depicted in\n",
    "[Figure](#diffu:app:substance:fig1), the corresponding increase in internal\n",
    "energy becomes the volume integral"
   ]
  },
  {
   "cell_type": "markdown",
   "metadata": {},
   "source": [
    "$$\n",
    "\\int\\limits_V \\varrho (e(\\x,t+\\Delta t) - e(\\x,t))dV\\thinspace .\n",
    "$$"
   ]
  },
  {
   "cell_type": "markdown",
   "metadata": {},
   "source": [
    "This increase in internal energy is balanced by heat supplied by\n",
    "conduction. Let $\\q$ be the heat flow per time unit. Through the\n",
    "surface $\\partial V$ of $V$ the following amount of heat flows out\n",
    "of $V$ during a time interval $\\Delta t$:"
   ]
  },
  {
   "cell_type": "markdown",
   "metadata": {},
   "source": [
    "$$\n",
    "\\int\\limits_{\\partial V} \\q\\cdot\\boldsymbol{n}\\Delta t\\, dS\\thinspace .\n",
    "$$"
   ]
  },
  {
   "cell_type": "markdown",
   "metadata": {},
   "source": [
    "The simplified version of the first law of thermodynamics then states that"
   ]
  },
  {
   "cell_type": "markdown",
   "metadata": {},
   "source": [
    "$$\n",
    "\\int\\limits_V \\varrho (e(\\x,t+\\Delta t) - e(\\x,t))dV = -\n",
    "\\int\\limits_{\\partial V} \\q\\cdot\\boldsymbol{n}\\Delta t\\, dS\\thinspace .\n",
    "$$"
   ]
  },
  {
   "cell_type": "markdown",
   "metadata": {},
   "source": [
    "The minus sign on the right-hand side ensures that the integral there\n",
    "models net *inflow* of heat (since $\\boldsymbol{n}$ is an outward unit normal,\n",
    "$\\q\\cdot\\boldsymbol{n}$ models *outflow*).\n",
    "Dividing by $\\Delta t$ and notifying that"
   ]
  },
  {
   "cell_type": "markdown",
   "metadata": {},
   "source": [
    "$$\n",
    "\\lim_{\\Delta t\\rightarrow 0}\n",
    "\\frac{e(\\x,t+\\Delta t) - e(\\x,t)}{\\Delta t} =\n",
    "\\frac{\\partial e}{\\partial t},\n",
    "$$"
   ]
  },
  {
   "cell_type": "markdown",
   "metadata": {},
   "source": [
    "we get (in the limit $\\Delta t\\rightarrow 0$)"
   ]
  },
  {
   "cell_type": "markdown",
   "metadata": {},
   "source": [
    "$$\n",
    "\\int\\limits_V \\varrho \\frac{\\partial e}{\\partial t} dV +\n",
    "\\int\\limits_{\\partial V} \\q\\cdot\\boldsymbol{n}\\Delta t\\, dS = 0\\thinspace .\n",
    "$$"
   ]
  },
  {
   "cell_type": "markdown",
   "metadata": {},
   "source": [
    "This is the integral equation for heat conduction, but we aim at a PDE.\n",
    "The next step is therefore to transform the surface integral to a\n",
    "volume integral via Gauss' divergence theorem. The result is"
   ]
  },
  {
   "cell_type": "markdown",
   "metadata": {},
   "source": [
    "$$\n",
    "\\int\\limits_V\\left( \\varrho \\frac{\\partial e}{\\partial t}\n",
    "+ \\nabla\\cdot\\q\\right) dV = 0\\thinspace .\n",
    "$$"
   ]
  },
  {
   "cell_type": "markdown",
   "metadata": {},
   "source": [
    "If this equality is to hold for all volumes $V$, the integrand must vanish,\n",
    "and we have the PDE"
   ]
  },
  {
   "cell_type": "markdown",
   "metadata": {},
   "source": [
    "<!-- Equation labels as ordinary links -->\n",
    "<div id=\"diffu:app:heat:PDE1\"></div>\n",
    "\n",
    "$$\n",
    "\\begin{equation}\n",
    "\\varrho \\frac{\\partial e}{\\partial t} = -\\nabla\\cdot\\q\\thinspace .\n",
    "\\label{diffu:app:heat:PDE1} \\tag{5}\n",
    "\\end{equation}\n",
    "$$"
   ]
  },
  {
   "cell_type": "markdown",
   "metadata": {},
   "source": [
    "Sometimes the supplied heat can come from the medium itself. This is\n",
    "the case, for instance, when radioactive rock generates heat.  Let us\n",
    "add this effect. If $f(\\x,t)$ is the supplied heat per unit volume per\n",
    "unit time, the heat supplied in a small volume is $f\\Delta t\\Delta V$,\n",
    "and inside an arbitrary volume $V$ the supplied generated heat becomes"
   ]
  },
  {
   "cell_type": "markdown",
   "metadata": {},
   "source": [
    "$$\n",
    "\\int\\limits_V f\\Delta t dV\\thinspace .\n",
    "$$"
   ]
  },
  {
   "cell_type": "markdown",
   "metadata": {},
   "source": [
    "Adding this to the integral statement of the (simplified) first law of\n",
    "thermodynamics, and continuing the derivation, leads to the PDE"
   ]
  },
  {
   "cell_type": "markdown",
   "metadata": {},
   "source": [
    "<!-- Equation labels as ordinary links -->\n",
    "<div id=\"diffu:app:heat:PDE2\"></div>\n",
    "\n",
    "$$\n",
    "\\begin{equation}\n",
    "\\varrho \\frac{\\partial e}{\\partial t} = -\\nabla\\cdot\\q + f\\thinspace .\n",
    "\\label{diffu:app:heat:PDE2} \\tag{6}\n",
    "\\end{equation}\n",
    "$$"
   ]
  },
  {
   "cell_type": "markdown",
   "metadata": {},
   "source": [
    "There are four unknown scalar fields: $e$ and $\\q$. Moreover, the\n",
    "temperature $T$, which is our primary quantity to compute, does not\n",
    "enter the model yet. We need an additional equation, called the\n",
    "*equation of state*, relating $e$, $V=1/\\varrho=$, and $T$:\n",
    "$e=e(V,T)$. By the chain rule we have"
   ]
  },
  {
   "cell_type": "markdown",
   "metadata": {},
   "source": [
    "$$\n",
    "\\frac{\\partial e}{\\partial t} =\n",
    "\\left.\\frac{\\partial e}{\\partial T}\\right\\vert_{V}\n",
    "\\frac{\\partial T}{\\partial t} +\n",
    "\\left.\\frac{\\partial e}{\\partial V}\\right\\vert_{T}\n",
    "\\frac{\\partial V}{\\partial t}\\thinspace .\n",
    "$$"
   ]
  },
  {
   "cell_type": "markdown",
   "metadata": {},
   "source": [
    "The first coefficient $\\partial e/\\partial T$ is called *specific heat\n",
    "capacity at constant volume*, denoted by $c_v$:"
   ]
  },
  {
   "cell_type": "markdown",
   "metadata": {},
   "source": [
    "$$\n",
    "c_v = \\left.\\frac{\\partial e}{\\partial T}\\right\\vert_{V}\\thinspace .\n",
    "$$"
   ]
  },
  {
   "cell_type": "markdown",
   "metadata": {},
   "source": [
    "The specific heat capacity will in general vary with $T$, but taking it as a\n",
    "constant is a good approximation in many applications.\n",
    "\n",
    "The term $\\partial e/\\partial V$ models effects due to compressibility\n",
    "and volume expansion. These effects are often small and can be\n",
    "neglected.  We shall do so here. Using $\\partial e/\\partial t =\n",
    "c_v\\partial T/\\partial t$ in the PDE gives"
   ]
  },
  {
   "cell_type": "markdown",
   "metadata": {},
   "source": [
    "$$\n",
    "\\varrho c_v\\frac{\\partial T}{\\partial t} = -\\nabla\\cdot\\q + f\\thinspace .\n",
    "$$"
   ]
  },
  {
   "cell_type": "markdown",
   "metadata": {},
   "source": [
    "We still have four unknown scalar fields ($T$ and $\\q$). To close the\n",
    "system, we need a relation between the heat flux $\\q$ and the temperature $T$\n",
    "called *Fourier's law*:"
   ]
  },
  {
   "cell_type": "markdown",
   "metadata": {},
   "source": [
    "$$\n",
    "\\q = -k\\nabla T,\n",
    "$$"
   ]
  },
  {
   "cell_type": "markdown",
   "metadata": {},
   "source": [
    "which simply states that heat flows from hot to cold areas, along the\n",
    "path of greatest variation. In a solid medium, $k$ depends on the\n",
    "material of the medium, and in multi-material media one must regard\n",
    "$k$ as spatially dependent. In a fluid, it is common to assume that\n",
    "$k$ is constant. The value of $k$ reflects how easy heat is\n",
    "conducted through the medium, and $k$ is named the *coefficient of\n",
    "heat conduction*.\n",
    "\n",
    "\n",
    "We now have one scalar PDE for the unknown temperature field $T(\\x,t)$:"
   ]
  },
  {
   "cell_type": "markdown",
   "metadata": {},
   "source": [
    "<!-- Equation labels as ordinary links -->\n",
    "<div id=\"diffu:app:heat:PDE\"></div>\n",
    "\n",
    "$$\n",
    "\\begin{equation}\n",
    "\\varrho  c_v\\frac{\\partial T}{\\partial t} = \\nabla\\cdot(k\\nabla T) + f\\thinspace .\n",
    "\\label{diffu:app:heat:PDE} \\tag{7}\n",
    "\\end{equation}\n",
    "$$"
   ]
  },
  {
   "cell_type": "markdown",
   "metadata": {},
   "source": [
    "## Porous media flow\n",
    "<div id=\"diffu:app:porous\"></div>\n",
    "\n",
    "\n",
    "The requirement of mass balance for\n",
    "flow of a single, incompressible fluid through a deformable (elastic) porous\n",
    "medium leads to the equation"
   ]
  },
  {
   "cell_type": "markdown",
   "metadata": {},
   "source": [
    "$$\n",
    "S\\frac{\\partial p}{\\partial t} + \\nabla\\cdot(\\q - \\alpha\\frac{\\partial\\u}{\\partial t}) = 0,\n",
    "$$"
   ]
  },
  {
   "cell_type": "markdown",
   "metadata": {},
   "source": [
    "where $p$ is the fluid pressure, $\\q$ is the fluid velocity, $\\u$\n",
    "is the displacement (deformation) of the medium, $S$ is the storage\n",
    "coefficient of the medium (related to the compressibility of the\n",
    "fluid and the material in the medium), and $\\alpha$ is another coefficient.\n",
    "In many circumstances, the last term with $\\u$ can be neglected,\n",
    "an assumption that decouples the equation above from a model for\n",
    "the deformation of the medium. The famous *Darcy's law* relates\n",
    "$\\q$ to $p$:"
   ]
  },
  {
   "cell_type": "markdown",
   "metadata": {},
   "source": [
    "$$\n",
    "\\q = -\\frac{K}{\\mu}(\\nabla p - \\varrho\\g),\n",
    "$$"
   ]
  },
  {
   "cell_type": "markdown",
   "metadata": {},
   "source": [
    "where $K$ is the permeability of the medium, $\\mu$ is the dynamic\n",
    "viscosity of the fluid, $\\varrho$ is the density of the fluid, and $\\g$\n",
    "is the acceleration of gravity, here taken as $\\g = -g\\kk$.\n",
    "Combining the two equations results in the diffusion model"
   ]
  },
  {
   "cell_type": "markdown",
   "metadata": {},
   "source": [
    "<!-- Equation labels as ordinary links -->\n",
    "<div id=\"diffu:app:porous:PDE\"></div>\n",
    "\n",
    "$$\n",
    "\\begin{equation}\n",
    "S\\frac{\\partial p}{\\partial t} = \\mu^{-1}\\nabla(K\\nabla p) + \\frac{\\varrho g}{\\mu}\\frac{\\partial K}{\\partial z}\\thinspace .\n",
    "\\label{diffu:app:porous:PDE} \\tag{8}\n",
    "\\end{equation}\n",
    "$$"
   ]
  },
  {
   "cell_type": "markdown",
   "metadata": {},
   "source": [
    "Boundary conditions consist of specifying $p$ or $\\q\\cdot\\boldsymbol{n}$ (i.e., normal velocity) at\n",
    " each point of the boundary.\n",
    "\n",
    "## Potential fluid flow\n",
    "\n",
    "\n",
    "Let $\\v$ be the velocity of a fluid. The condition $\\nabla\\times\\v =0$\n",
    "is relevant for many flows, especially in geophysics when viscous effects\n",
    "are negligible. From vector calculus it is known\n",
    "that $\\nabla\\times\\v =0$ implies that $v$ can be derived\n",
    "from a scalar potential field $\\phi$: $\\v = \\nabla\\phi$. If the\n",
    "fluid is incompressible, $\\nabla\\cdot\\v = 0$, it follows that\n",
    "$\\nabla\\cdot\\nabla\\phi = 0$, or"
   ]
  },
  {
   "cell_type": "markdown",
   "metadata": {},
   "source": [
    "<!-- Equation labels as ordinary links -->\n",
    "<div id=\"_auto1\"></div>\n",
    "\n",
    "$$\n",
    "\\begin{equation}\n",
    "\\nabla^2\\phi = 0\\thinspace .\n",
    "\\label{_auto1} \\tag{9}\n",
    "\\end{equation}\n",
    "$$"
   ]
  },
  {
   "cell_type": "markdown",
   "metadata": {},
   "source": [
    "This Laplace equation is sufficient for determining $\\phi$ and thereby\n",
    "describe the fluid motion. This type of flow is known as\n",
    "[potential flow](https://en.wikipedia.org/wiki/Potential_flow).\n",
    "One very important application where potential flow is a good model\n",
    "is water waves.\n",
    "As boundary condition we must prescribe\n",
    "$\\v\\cdot\\boldsymbol{n} =\\partial\\phi/\\partial n$. This gives rise to\n",
    "what is known as a pure Neumann problem and will cause numerical\n",
    "difficulties because $\\phi$ and $\\phi$ plus any constant are two\n",
    "solutions of the problem. The simplest remedy is to fix the value of\n",
    "$\\phi$ at a point.\n",
    "\n",
    "## Streamlines for 2D fluid flow\n",
    "\n",
    "\n",
    "The streamlines in a two-dimensional\n",
    "stationary fluid flow are lines tangential to the flow.\n",
    "The [stream function](https://en.wikipedia.org/wiki/Stream_function)\n",
    "$\\psi$ is often introduced in two-dimensional flow\n",
    "such that its contour\n",
    "lines, $\\psi = \\hbox{const}$, gives the streamlines. The relation\n",
    "between $\\psi$ and the velocity field $\\v=(u,v)$ is"
   ]
  },
  {
   "cell_type": "markdown",
   "metadata": {},
   "source": [
    "$$\n",
    "u = \\frac{\\partial\\psi}{\\partial y},\\quad v = -\n",
    "\\frac{\\partial\\psi}{\\partial x}\\thinspace .\n",
    "$$"
   ]
  },
  {
   "cell_type": "markdown",
   "metadata": {},
   "source": [
    "mathcal{I}_t follows that $\\nabla\\v = \\psi_{yx} - \\psi_{xy}=0$, so the stream function\n",
    "can only be used for incompressible flows.\n",
    "Since"
   ]
  },
  {
   "cell_type": "markdown",
   "metadata": {},
   "source": [
    "$$\n",
    "\\nabla\\times\\v = \\left(\\frac{\\partial v}{\\partial y} - \\frac{\\partial u}{\\partial x}\\right)\\kk \\equiv \\omega\\kk,\n",
    "$$"
   ]
  },
  {
   "cell_type": "markdown",
   "metadata": {},
   "source": [
    "we can derive the relation"
   ]
  },
  {
   "cell_type": "markdown",
   "metadata": {},
   "source": [
    "<!-- Equation labels as ordinary links -->\n",
    "<div id=\"_auto2\"></div>\n",
    "\n",
    "$$\n",
    "\\begin{equation}\n",
    "\\nabla^2\\psi = -\\omega,\n",
    "\\label{_auto2} \\tag{10}\n",
    "\\end{equation}\n",
    "$$"
   ]
  },
  {
   "cell_type": "markdown",
   "metadata": {},
   "source": [
    "which is a governing equation for the stream function $\\psi(x,y)$\n",
    "if the vorticity $\\omega$ is known.\n",
    "\n",
    "## The potential of an electric field\n",
    "\n",
    "Under the assumption of time independence, Maxwell's equations\n",
    "for the electric field $\\boldsymbol{E}$ become"
   ]
  },
  {
   "cell_type": "markdown",
   "metadata": {},
   "source": [
    "$$\n",
    "\\begin{align*}\n",
    "\\nabla\\cdot\\boldsymbol{E} &= \\frac{\\rho}{\\epsilon_0},\\\\\n",
    "\\nabla\\times\\boldsymbol{E} &= 0,\n",
    "\\end{align*}\n",
    "$$"
   ]
  },
  {
   "cell_type": "markdown",
   "metadata": {},
   "source": [
    "where $\\rho$ is the electric charge density and $\\epsilon_0$ is\n",
    "the electric permittivity of free space (i.e., vacuum).\n",
    "Since $\\nabla\\times\\boldsymbol{E}=0$, $\\boldsymbol{E}$ can be derived from a potential\n",
    "$\\varphi$, $\\boldsymbol{E} = -\\nabla\\varphi$. The electric field potential is\n",
    "therefore governed by the Poisson equation"
   ]
  },
  {
   "cell_type": "markdown",
   "metadata": {},
   "source": [
    "<!-- Equation labels as ordinary links -->\n",
    "<div id=\"_auto3\"></div>\n",
    "\n",
    "$$\n",
    "\\begin{equation}\n",
    "\\nabla^2\\varphi = -\\frac{\\rho}{\\epsilon_0}\\thinspace .\n",
    "\\label{_auto3} \\tag{11}\n",
    "\\end{equation}\n",
    "$$"
   ]
  },
  {
   "cell_type": "markdown",
   "metadata": {},
   "source": [
    "If the medium is heterogeneous, $\\rho$ will depend on the spatial location $\\boldsymbol{r}$.\n",
    "Also, $\\epsilon_0$ must be exchanged with an electric permittivity function\n",
    "$\\epsilon(\\boldsymbol{r})$.\n",
    "\n",
    "Each point of the boundary must be accompanied by, either a Dirichlet condition\n",
    "$\\varphi(\\boldsymbol{r}) = \\varphi_D(\\boldsymbol{r})$, or a Neumann condition\n",
    "$\\frac{\\partial\\varphi(\\boldsymbol{r})}{\\partial n} = \\varphi_N(\\boldsymbol{r})$.\n",
    "\n",
    "\n",
    "[hpl 2: What are appropriate boundary conditions?]\n",
    "[hpl 3: Svein, can you get this generalized to electric field inside\n",
    "some heterogeneous medium? Think we get some variable coefficient\n",
    "equation in that case (anisotropic conduction?). Can you figure it out?]\n",
    "[sl 4: is this what you were thinking of?]\n",
    "\n",
    "\n",
    "\n",
    "## Development of flow between two flat plates\n",
    "<div id=\"diffu:app:Couette\"></div>\n",
    "\n",
    "\n",
    "Diffusion equations may also arise as simplified versions of other\n",
    "mathematical models, especially in fluid flow. Consider a fluid\n",
    "flowing between two flat, parallel plates. The velocity is\n",
    "uni-directional, say along the $z$ axis, and depends only on the\n",
    "distance $x$ from the plates; $\\u = u(x,t)\\kk$.  The flow is governed\n",
    "by the Navier-Stokes equations,"
   ]
  },
  {
   "cell_type": "markdown",
   "metadata": {},
   "source": [
    "$$\n",
    "\\begin{align*}\n",
    "\\varrho\\frac{\\partial\\u}{\\partial t} + \\varrho\\u\\cdot\\nabla\\u &= -\\nabla p\n",
    "+ \\mu\\nabla^2\\u + \\varrho\\f,\\\\\n",
    "\\nabla\\cdot\\u &= 0,\n",
    "\\end{align*}\n",
    "$$"
   ]
  },
  {
   "cell_type": "markdown",
   "metadata": {},
   "source": [
    "where $p$ is the pressure field, unknown along with the velocity $\\u$,\n",
    "$\\varrho$ is the fluid density, $\\mu$ the dynamic viscosity, and $\\f$\n",
    "is some external body force. The geometric restrictions of flow between\n",
    "two flat plates puts restrictions on the velocity, $\\u = u(x,t)\\ii$,\n",
    "and the $z$ component of the Navier-Stokes equations collapses to\n",
    "a diffusion equation:"
   ]
  },
  {
   "cell_type": "markdown",
   "metadata": {},
   "source": [
    "$$\n",
    "\\varrho\\frac{\\partial u}{\\partial t} = - \\frac{\\partial p}{\\partial z} +\n",
    "\\mu\\frac{\\partial^2 u}{\\partial z^2}\n",
    "+ \\varrho f_z,\n",
    "$$"
   ]
  },
  {
   "cell_type": "markdown",
   "metadata": {},
   "source": [
    "if $f_z$ is the component of $\\f$ in the $z$ direction.\n",
    "\n",
    "The boundary conditions are derived from the fact that the fluid sticks to\n",
    "the plates, which means $\\u=0$ at the plates. Say the location of the\n",
    "plates are $z=0$ and $z=L$. We then have"
   ]
  },
  {
   "cell_type": "markdown",
   "metadata": {},
   "source": [
    "$$\n",
    "u(0,t)=u(L,t)=0\\thinspace .\n",
    "$$"
   ]
  },
  {
   "cell_type": "markdown",
   "metadata": {},
   "source": [
    "One can easily show that $\\partial p/\\partial z$ must be a constant or\n",
    "just a function of time $t$. We set $\\partial p/\\partial z = -\\beta(t)$.\n",
    "The body force could be a component of gravity, if desired, set as\n",
    "$f_z = \\gamma g$. Switching from $z$ to $x$ as independent variable gives\n",
    "a very standard one-dimensional diffusion equation:"
   ]
  },
  {
   "cell_type": "markdown",
   "metadata": {},
   "source": [
    "$$\n",
    "\\varrho\\frac{\\partial u}{\\partial t} =\n",
    "\\mu\\frac{\\partial^2 u}{\\partial x^2} + \\beta(t) + \\varrho\\gamma g,\\quad\n",
    "x\\in [0,L],\\ t\\in (0,T]\\thinspace .\n",
    "$$"
   ]
  },
  {
   "cell_type": "markdown",
   "metadata": {},
   "source": [
    "The boundary conditions are"
   ]
  },
  {
   "cell_type": "markdown",
   "metadata": {},
   "source": [
    "$$\n",
    "u(0,t)=u(L,t)=0,\n",
    "$$"
   ]
  },
  {
   "cell_type": "markdown",
   "metadata": {},
   "source": [
    "while some initial condition"
   ]
  },
  {
   "cell_type": "markdown",
   "metadata": {},
   "source": [
    "$$\n",
    "u(x,0) = I(x)\n",
    "$$"
   ]
  },
  {
   "cell_type": "markdown",
   "metadata": {},
   "source": [
    "must also be prescribed.\n",
    "\n",
    "The flow is driven by either the pressure gradient $\\beta$ or gravity, or\n",
    "a combination of both. One may also consider one moving plate that\n",
    "drives the fluid. If the plate at $x=L$ moves with velocity $U_L(t)$, we have\n",
    "the adjusted boundary condition"
   ]
  },
  {
   "cell_type": "markdown",
   "metadata": {},
   "source": [
    "$$\n",
    "u(L,t) = U_L(t)\\thinspace .\n",
    "$$"
   ]
  },
  {
   "cell_type": "markdown",
   "metadata": {},
   "source": [
    "[hpl 5: Exercises based on this diffusion model.]\n",
    "\n",
    "## Flow in a straight tube\n",
    "<div id=\"diffu:app:pipeflow\"></div>\n",
    "\n",
    "\n",
    "Now we consider viscous fluid flow in a straight tube with radius $R$\n",
    "and rigid walls.\n",
    "The governing equations are the Navier-Stokes equations, but as\n",
    "in the section [Development of flow between two flat plates](#diffu:app:Couette), it is natural to assume that the\n",
    "velocity is directed along the tube, and that it is axi-symmetric.\n",
    "These assumptions reduced the velocity field to $\\u = u(r,x,t)\\ii$, if the\n",
    "$x$ axis is directed along the tube. From the equation of continuity,\n",
    "$\\nabla\\cdot\\u = 0$, we see that $u$ must be independent of $x$.\n",
    "Inserting $\\u = u(r,t)\\ii$ in the Navier-Stokes equations, expressed\n",
    "in axi-symmetric cylindrical coordinates, results in"
   ]
  },
  {
   "cell_type": "markdown",
   "metadata": {},
   "source": [
    "<!-- Equation labels as ordinary links -->\n",
    "<div id=\"diffu:app:pipeflow:pde\"></div>\n",
    "\n",
    "$$\n",
    "\\begin{equation}\n",
    "\\varrho\\frac{\\partial u}{\\partial t} =\n",
    "\\mu\\frac{1}{r}\\frac{\\partial}{\\partial r}\\left(\n",
    "r\\frac{\\partial u}{\\partial r}\\right) + \\beta(t) + \\varrho\\gamma g,\\quad\n",
    "r\\in [0,R],\\ t\\in (0,T]\\thinspace .\n",
    "\\label{diffu:app:pipeflow:pde} \\tag{12}\n",
    "\\end{equation}\n",
    "$$"
   ]
  },
  {
   "cell_type": "markdown",
   "metadata": {},
   "source": [
    "Here, $\\beta(t) = -\\partial p/\\partial x$ is the pressure gradient along\n",
    "the tube. The associated boundary condition is $u(R,t)=0$.\n",
    "\n",
    "## Tribology: thin film fluid flow\n",
    "\n",
    "\n",
    "Thin fluid films are extremely important inside machinery to reduce friction\n",
    "between gliding surfaces. The mathematical model for the fluid motion takes\n",
    "the form of a diffusion problem and is quickly derived here.\n",
    "We consider two solid surfaces whose distance is described by a\n",
    "gap function $h(x,y)$. The space between these surfaces is filled with\n",
    "a fluid with dynamic viscosity $\\mu$. The fluid may move partially\n",
    "because of pressure gradients and partially because the surfaces\n",
    "move. Let $U\\ii + V\\jj$ be the relative velocity of the two surfaces and\n",
    "$p$ the pressure in the fluid. The mathematical model builds on two\n",
    "principles: 1) conservation of mass, 2) assumption of locally quasi-static\n",
    "flow between flat plates.\n",
    "\n",
    "The conservation of mass equation reads $\\nabla\\cdot\\u$, where $\\u$ is\n",
    "the local fluid velocity. For thin films the detailed variation between\n",
    "the surfaces is not of interest, so $\\nabla\\cdot\\u = 0$ is integrated\n",
    "(average) in the direction perpendicular to the surfaces. This gives\n",
    "rise to the alternative mass conservation equation"
   ]
  },
  {
   "cell_type": "markdown",
   "metadata": {},
   "source": [
    "$$\n",
    "\\nabla\\cdot\\q = 0,\\quad \\q = \\int\\limits_0^{h(x,y)}\\u dz,\n",
    "$$"
   ]
  },
  {
   "cell_type": "markdown",
   "metadata": {},
   "source": [
    "where $z$ is the coordinate perpendicular to the surfaces, and $\\q$\n",
    "is then the volume flux in the fluid gap.\n",
    "\n",
    "Locally, we may assume that we have steady flow between two flat\n",
    "surfaces, with a pressure gradient and where the lower surface is at rest\n",
    "and the upper moves with velocity $U\\ii + V\\jj$.\n",
    "The corresponding mathematical problem is actually the limit problem\n",
    "in the section [Development of flow between two flat plates](#diffu:app:Couette) as $t\\rightarrow\\infty$. The limit\n",
    "problem can be solved analytically, and the local volume flux becomes"
   ]
  },
  {
   "cell_type": "markdown",
   "metadata": {},
   "source": [
    "$$\n",
    "\\q(x,y,z) = \\int\\limits_0^{h}\\u(x,y,z) dz\n",
    "= -\\frac{h^3}{12\\mu}\\nabla p + \\frac{1}{2} Uh\\ii + \\frac{1}{2} Vh\\jj\\thinspace .\n",
    "$$"
   ]
  },
  {
   "cell_type": "markdown",
   "metadata": {},
   "source": [
    "The idea is to use this expression locally\n",
    "also when the surfaces are not flat,\n",
    "but slowly varying, and if $U$, $V$, or $p$ varies in time, provided the\n",
    "time variation is sufficiently slow. This is a common quasi-static\n",
    "approximation, much used in mathematical modeling.\n",
    "\n",
    "Inserting the expression for $\\q$ via $p$, $U$, and $V$ in the\n",
    "equation $\\nabla\\q = 0$ gives a diffusion PDE for $p$:"
   ]
  },
  {
   "cell_type": "markdown",
   "metadata": {},
   "source": [
    "<!-- Equation labels as ordinary links -->\n",
    "<div id=\"_auto4\"></div>\n",
    "\n",
    "$$\n",
    "\\begin{equation}\n",
    "\\nabla\\cdot\\left(\\frac{h^3}{12\\mu}\\nabla p\\right) =\n",
    "\\frac{1}{2}\\frac{\\partial}{\\partial x}(hU)\n",
    "+ \\frac{1}{2}\\frac{\\partial}{\\partial x}(hV)\\thinspace .\n",
    "\\label{_auto4} \\tag{13}\n",
    "\\end{equation}\n",
    "$$"
   ]
  },
  {
   "cell_type": "markdown",
   "metadata": {},
   "source": [
    "The boundary conditions must involve $p$ or $\\q$ at the boundary.\n",
    "\n",
    "[hpl 6: Exercise!]\n",
    "\n",
    "## Propagation of electrical signals in the brain\n",
    "\n",
    "\n",
    "<!-- <http://icwww.epfl.ch/~gerstner/SPNM/node17.html> -->\n",
    "<!-- <http://www.uio.no/studier/emner/matnat/ifi/INF5610/h09/Lecture04.pdf> -->\n",
    "<!-- <http://people.mbi.ohio-state.edu/schwemmer.2/Publications/Schwemmer_Dissertation_Final.pdf> -->\n",
    "<!-- The book by Peskin & ... -->\n",
    "\n",
    "One can make a model of how electrical signals are propagated along the\n",
    "neuronal fibers that receive synaptic inputs in the brain. The signal\n",
    "propagation is one-dimensional and can, in the simplest cases, be\n",
    "governed by the [Cable equation](http://en.wikipedia.org/wiki/Cable_equation):"
   ]
  },
  {
   "cell_type": "markdown",
   "metadata": {},
   "source": [
    "$$\n",
    "\\begin{equation}\n",
    "c_m \\frac{\\partial V}{\\partial t} =\n",
    "\\frac{1}{r_l}\\frac{\\partial^2 V}{\\partial x^2} - \\frac{1}{r_m}V\n",
    "\\label{}\n",
    "\\end{equation}\n",
    "$$"
   ]
  },
  {
   "cell_type": "markdown",
   "metadata": {},
   "source": [
    "where $V(x,t)$ is the voltage to be determined,\n",
    "$c_m$ is capacitance of the neuronal fiber, while\n",
    "$r_l$ and $r_m$ are measures of the resistance.\n",
    "The boundary conditions are often taken as $V=0$ at a short circuit or open end,\n",
    "$\\partial V/\\partial x=0$ at a sealed end, or $\\partial V/\\partial x \\propto\n",
    "V$ where there is an injection of current."
   ]
  }
 ],
 "metadata": {},
 "nbformat": 4,
 "nbformat_minor": 4
}
