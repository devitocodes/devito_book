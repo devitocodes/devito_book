{
 "cells": [
  {
   "cell_type": "markdown",
   "metadata": {},
   "source": [
    "# Introduction of basic concepts\n",
    "<div id=\"nonlin:timediscrete:logistic\"></div>\n",
    "\n",
    "## Linear versus nonlinear equations\n",
    "\n",
    "### Algebraic equations\n",
    "\n",
    "A linear, scalar, algebraic equation in $x$ has the form"
   ]
  },
  {
   "cell_type": "markdown",
   "metadata": {},
   "source": [
    "$$\n",
    "ax + b = 0,\n",
    "$$"
   ]
  },
  {
   "cell_type": "markdown",
   "metadata": {},
   "source": [
    "for arbitrary real constants $a$ and $b$. The unknown is a number $x$.\n",
    "All other algebraic equations, e.g., $x^2 + ax + b = 0$, are nonlinear.\n",
    "The typical feature in a nonlinear algebraic equation is that the unknown\n",
    "appears in products with itself, like $x^2$ or $e^x = 1 + x +\\frac{1}{2} x^2 +\n",
    "\\frac{1}{3!}x^3 + \\cdots$.\n",
    "\n",
    "We know how to solve a linear algebraic equation, $x=-b/a$, but there are\n",
    "no general methods for finding the exact solutions of\n",
    "nonlinear algebraic equations, except for very special cases (quadratic\n",
    "equations constitute a primary example). A nonlinear algebraic equation\n",
    "may have no solution, one solution, or many solutions. The tools for\n",
    "solving nonlinear algebraic equations are *iterative methods*, where\n",
    "we construct a series of linear equations, which we know how to solve,\n",
    "and hope that the solutions of the linear equations converge to a\n",
    "solution of the nonlinear equation we want to solve.\n",
    "Typical methods for nonlinear algebraic equation equations are\n",
    "Newton's method, the Bisection method, and the Secant method.\n",
    "\n",
    "### Differential equations\n",
    "\n",
    "The unknown in a differential equation is a function and not a number.\n",
    "In a linear differential equation, all terms involving the unknown function\n",
    "are linear in the unknown function or its derivatives. Linear here means that\n",
    "the unknown function, or a derivative of it, is multiplied by a number or\n",
    "a known function. All other differential equations are non-linear.\n",
    "\n",
    "The easiest way to see if an equation is nonlinear, is to spot nonlinear terms\n",
    "where the unknown function or its derivatives are multiplied by\n",
    "each other. For example, in"
   ]
  },
  {
   "cell_type": "markdown",
   "metadata": {},
   "source": [
    "$$\n",
    "u^{\\prime}(t) = -a(t)u(t) + b(t),\n",
    "$$"
   ]
  },
  {
   "cell_type": "markdown",
   "metadata": {},
   "source": [
    "the terms involving the unknown function $u$ are linear: $u^{\\prime}$ contains\n",
    "the derivative of the unknown function multiplied by unity, and $au$ contains\n",
    "the unknown function multiplied by a known function.\n",
    "However,"
   ]
  },
  {
   "cell_type": "markdown",
   "metadata": {},
   "source": [
    "$$\n",
    "u^{\\prime}(t) = u(t)(1 - u(t)),\n",
    "$$"
   ]
  },
  {
   "cell_type": "markdown",
   "metadata": {},
   "source": [
    "is nonlinear because of the term $-u^2$ where the unknown function is\n",
    "multiplied by itself. Also"
   ]
  },
  {
   "cell_type": "markdown",
   "metadata": {},
   "source": [
    "$$\n",
    "\\frac{\\partial u}{\\partial t} + u\\frac{\\partial u}{\\partial x} = 0,\n",
    "$$"
   ]
  },
  {
   "cell_type": "markdown",
   "metadata": {},
   "source": [
    "is nonlinear because of the term $uu_x$ where the unknown\n",
    "function appears in a product with its derivative.\n",
    "(Note here that we use different notations for derivatives: $u^{\\prime}$\n",
    "or $du/dt$ for a function $u(t)$ of one variable,\n",
    "$\\frac{\\partial u}{\\partial t}$ or $u_t$ for a function of more than one\n",
    "variable.)\n",
    "\n",
    "Another example of a nonlinear equation is"
   ]
  },
  {
   "cell_type": "markdown",
   "metadata": {},
   "source": [
    "$$\n",
    "u^{\\prime\\prime} + \\sin(u) =0,\n",
    "$$"
   ]
  },
  {
   "cell_type": "markdown",
   "metadata": {},
   "source": [
    "because $\\sin(u)$ contains products of $u$, which becomes clear\n",
    "if we expand the function in a Taylor series:"
   ]
  },
  {
   "cell_type": "markdown",
   "metadata": {},
   "source": [
    "$$\n",
    "\\sin(u) = u - \\frac{1}{3} u^3 + \\ldots\n",
    "$$"
   ]
  },
  {
   "cell_type": "markdown",
   "metadata": {},
   "source": [
    "**Mathematical proof of linearity.**\n",
    "\n",
    "To really prove mathematically that some differential equation\n",
    "in an unknown $u$ is linear,\n",
    "show for each term $T(u)$ that with $u = au_1 + bu_2$ for\n",
    "constants $a$ and $b$,"
   ]
  },
  {
   "cell_type": "markdown",
   "metadata": {},
   "source": [
    "$$\n",
    "T(au_1 + bu_2) = aT(u_1) + bT(u_2)\\thinspace .\n",
    "$$"
   ]
  },
  {
   "cell_type": "markdown",
   "metadata": {},
   "source": [
    "For example, the term $T(u) = (\\sin^2 t)u'(t)$ is linear because"
   ]
  },
  {
   "cell_type": "markdown",
   "metadata": {},
   "source": [
    "$$\n",
    "\\begin{align*}\n",
    "T(au_1 + bu_2) &= (\\sin^2 t)(au_1(t) + b u_2(t))\\\\\n",
    "& = a(\\sin^2 t)u_1(t) + b(\\sin^2 t)u_2(t)\\\\\n",
    "& =aT(u_1) + bT(u_2)\\thinspace .\n",
    "\\end{align*}\n",
    "$$"
   ]
  },
  {
   "cell_type": "markdown",
   "metadata": {},
   "source": [
    "However, $T(u)=\\sin u$ is nonlinear because"
   ]
  },
  {
   "cell_type": "markdown",
   "metadata": {},
   "source": [
    "$$\n",
    "T(au_1 + bu_2) = \\sin (au_1 + bu_2) \\neq a\\sin u_1 + b\\sin u_2\\thinspace .\n",
    "$$"
   ]
  },
  {
   "cell_type": "markdown",
   "metadata": {},
   "source": [
    "## A simple model problem\n",
    "\n",
    "A series of forthcoming examples will explain how to tackle\n",
    "nonlinear differential equations with various techniques.\n",
    "We start with the (scaled) logistic equation as model problem:"
   ]
  },
  {
   "cell_type": "markdown",
   "metadata": {},
   "source": [
    "<!-- Equation labels as ordinary links -->\n",
    "<div id=\"nonlin:timediscrete:logistic:eq\"></div>\n",
    "\n",
    "$$\n",
    "\\begin{equation}\n",
    "u^{\\prime}(t) = u(t)(1 - u(t)) \\thinspace .\n",
    "\\label{nonlin:timediscrete:logistic:eq} \\tag{1}\n",
    "\\end{equation}\n",
    "$$"
   ]
  },
  {
   "cell_type": "markdown",
   "metadata": {},
   "source": [
    "This is a nonlinear ordinary differential equation (ODE)\n",
    "which will be solved by\n",
    "different strategies in the following.\n",
    "Depending on the chosen\n",
    "time discretization of ([1](#nonlin:timediscrete:logistic:eq)),\n",
    "the mathematical problem to be solved at every time level will\n",
    "either be a linear algebraic equation or a nonlinear\n",
    "algebraic equation.\n",
    "In the former case, the time discretization method transforms\n",
    "the nonlinear ODE into linear subproblems at each time level, and\n",
    "the solution is straightforward to find since linear algebraic equations\n",
    "are easy to solve. However,\n",
    "when the time discretization leads to nonlinear algebraic equations, we\n",
    "cannot (except in very rare cases) solve these without turning to\n",
    "approximate, iterative solution methods.\n",
    "\n",
    "The next subsections introduce various methods\n",
    "for solving nonlinear differential equations,\n",
    "using ([1](#nonlin:timediscrete:logistic:eq)) as model. We shall go through\n",
    "the following set of cases:\n",
    "\n",
    " * explicit time discretization methods (with no need to\n",
    "   solve nonlinear algebraic equations)\n",
    "\n",
    " * implicit Backward Euler time discretization, leading to nonlinear\n",
    "   algebraic equations solved by\n",
    "\n",
    "  * an exact analytical technique\n",
    "\n",
    "  * Picard iteration based on manual linearization\n",
    "\n",
    "  * a single Picard step\n",
    "\n",
    "  * Newton's method\n",
    "\n",
    "\n",
    " * implicit Crank-Nicolson time discretization and linearization\n",
    "   via a geometric mean formula\n",
    "\n",
    "Thereafter, we compare the performance of the various approaches. Despite\n",
    "the simplicity of ([1](#nonlin:timediscrete:logistic:eq)), the conclusions\n",
    "reveal typical features of the various methods in much more complicated\n",
    "nonlinear PDE problems.\n",
    "\n",
    "\n",
    "## Linearization by explicit time discretization\n",
    "<div id=\"nonlin:timediscrete:logistic:FE\"></div>\n",
    "\n",
    "\n",
    "Time discretization methods are divided into explicit and implicit\n",
    "methods. Explicit methods lead to a closed-form formula for\n",
    "finding new values of the unknowns, while implicit methods give\n",
    "a linear or nonlinear system of equations that couples (all) the\n",
    "unknowns at a new time level. Here we shall demonstrate that\n",
    "explicit methods constitute an efficient way to deal with nonlinear\n",
    "differential equations.\n",
    "\n",
    "The Forward Euler\n",
    "method is an explicit method. When applied to\n",
    "([1](#nonlin:timediscrete:logistic:eq)), sampled at $t=t_n$, it results in"
   ]
  },
  {
   "cell_type": "markdown",
   "metadata": {},
   "source": [
    "$$\n",
    "\\frac{u^{n+1} - u^n}{\\Delta t} = u^n(1 - u^n),\n",
    "$$"
   ]
  },
  {
   "cell_type": "markdown",
   "metadata": {},
   "source": [
    "which is a *linear* algebraic\n",
    "equation for the unknown value $u^{n+1}$ that we can easily solve:"
   ]
  },
  {
   "cell_type": "markdown",
   "metadata": {},
   "source": [
    "$$\n",
    "u^{n+1} = u^n + \\Delta t\\,u^n(1 - u^n)\\thinspace .\n",
    "$$"
   ]
  },
  {
   "cell_type": "markdown",
   "metadata": {},
   "source": [
    "In this case, the nonlinearity in the original equation poses no difficulty\n",
    "in the discrete algebraic equation.\n",
    "Any other explicit scheme in time will also give only linear\n",
    "algebraic equations\n",
    "to solve. For example, a typical 2nd-order Runge-Kutta method\n",
    "for ([1](#nonlin:timediscrete:logistic:eq)) leads to the following\n",
    "formulas:"
   ]
  },
  {
   "cell_type": "markdown",
   "metadata": {},
   "source": [
    "$$\n",
    "\\begin{align*}\n",
    "u^* &= u^n + \\Delta t u^n(1 - u^n),\\\\\n",
    "u^{n+1} &= u^n + \\Delta t \\frac{1}{2} \\left(\n",
    "u^n(1 - u^n) + u^*(1 - u^*))\n",
    "\\right)\\thinspace .\n",
    "\\end{align*}\n",
    "$$"
   ]
  },
  {
   "cell_type": "markdown",
   "metadata": {},
   "source": [
    "The first step is linear in the unknown $u^*$. Then $u^*$ is\n",
    "known in the next step, which is linear in the unknown $u^{n+1}$ .\n",
    "\n",
    "\n",
    "## Exact solution of nonlinear algebraic equations\n",
    "<div id=\"nonlin:timediscrete:logistic:roots\"></div>\n",
    "\n",
    "\n",
    "Switching to a Backward Euler scheme for\n",
    "([1](#nonlin:timediscrete:logistic:eq)),"
   ]
  },
  {
   "cell_type": "markdown",
   "metadata": {},
   "source": [
    "<!-- Equation labels as ordinary links -->\n",
    "<div id=\"nonlin:timediscrete:logistic:eq:BE\"></div>\n",
    "\n",
    "$$\n",
    "\\begin{equation}\n",
    "\\frac{u^{n} - u^{n-1}}{\\Delta t} = u^n(1 - u^n),\n",
    "\\label{nonlin:timediscrete:logistic:eq:BE} \\tag{2}\n",
    "\\end{equation}\n",
    "$$"
   ]
  },
  {
   "cell_type": "markdown",
   "metadata": {},
   "source": [
    "results in a nonlinear algebraic equation for the unknown value $u^n$.\n",
    "The equation is of quadratic type:"
   ]
  },
  {
   "cell_type": "markdown",
   "metadata": {},
   "source": [
    "$$\n",
    "\\Delta t (u^n)^2 + (1-\\Delta t)u^n - u^{n-1} = 0,\n",
    "$$"
   ]
  },
  {
   "cell_type": "markdown",
   "metadata": {},
   "source": [
    "and may be solved exactly by the well-known formula for such equations.\n",
    "Before we do so, however, we will\n",
    "introduce a shorter, and often cleaner, notation for\n",
    "nonlinear algebraic equations at a given time level. The notation is\n",
    "inspired by the natural notation (i.e., variable names) used in a\n",
    "program, especially in more advanced partial differential equation\n",
    "problems. The unknown in the algebraic equation is denoted by $u$,\n",
    "while $u^{(1)}$ is the value of the unknown at the previous time level\n",
    "(in general, $u^{(\\ell)}$ is the value of the unknown $\\ell$ levels\n",
    "back in time). The notation will be frequently used in later\n",
    "sections. What is meant by $u$ should be evident from the context: $u$\n",
    "may either be 1) the exact solution of the ODE/PDE problem,\n",
    "2) the numerical approximation to the exact solution, or 3) the unknown\n",
    "solution at a certain time level.\n",
    "\n",
    "The quadratic equation for the unknown $u^n$ in\n",
    "([2](#nonlin:timediscrete:logistic:eq:BE)) can, with the new\n",
    "notation, be written"
   ]
  },
  {
   "cell_type": "markdown",
   "metadata": {},
   "source": [
    "<!-- Equation labels as ordinary links -->\n",
    "<div id=\"nonlin:timediscrete:logistic:eq:F\"></div>\n",
    "\n",
    "$$\n",
    "\\begin{equation}\n",
    "F(u) = \\Delta t u^2 + (1-\\Delta t)u - u^{(1)} = 0\\thinspace .\n",
    "\\label{nonlin:timediscrete:logistic:eq:F} \\tag{3}\n",
    "\\end{equation}\n",
    "$$"
   ]
  },
  {
   "cell_type": "markdown",
   "metadata": {},
   "source": [
    "The solution is readily found to be"
   ]
  },
  {
   "cell_type": "markdown",
   "metadata": {},
   "source": [
    "<!-- Equation labels as ordinary links -->\n",
    "<div id=\"nonlin:timediscrete:logistic:eq:roots\"></div>\n",
    "\n",
    "$$\n",
    "\\begin{equation}\n",
    "u = \\frac{1}{2\\Delta t}\n",
    "\\left(-1+\\Delta t \\pm \\sqrt{(1-\\Delta t)^2 - 4\\Delta t u^{(1)}}\\right)\n",
    "\\thinspace .\n",
    "\\label{nonlin:timediscrete:logistic:eq:roots} \\tag{4}\n",
    "\\end{equation}\n",
    "$$"
   ]
  },
  {
   "cell_type": "markdown",
   "metadata": {},
   "source": [
    "Now we encounter a fundamental challenge with nonlinear\n",
    "algebraic equations:\n",
    "the equation may have more than one solution. How do we pick the right\n",
    "solution? This is in general a hard problem.\n",
    "In the present simple case, however, we can analyze the roots mathematically\n",
    "and provide an answer. The idea is to expand the roots\n",
    "in a series in $\\Delta t$ and truncate after the linear term since\n",
    "the Backward Euler scheme will introduce an error proportional to\n",
    "$\\Delta t$ anyway. Using `sympy`, we find the following Taylor series\n",
    "expansions of the roots:"
   ]
  },
  {
   "cell_type": "code",
   "execution_count": 1,
   "metadata": {
    "collapsed": false
   },
   "outputs": [],
   "source": [
    "import sympy as sym\n",
    "dt, u_1, u = sym.symbols('dt u_1 u')\n",
    "r1, r2 = sym.solve(dt*u**2 + (1-dt)*u - u_1, u)  # find roots\n",
    "r1"
   ]
  },
  {
   "cell_type": "code",
   "execution_count": 2,
   "metadata": {
    "collapsed": false
   },
   "outputs": [],
   "source": [
    "r2"
   ]
  },
  {
   "cell_type": "code",
   "execution_count": 3,
   "metadata": {
    "collapsed": false
   },
   "outputs": [],
   "source": [
    "print r1.series(dt, 0, 2)    # 2 terms in dt, around dt=0"
   ]
  },
  {
   "cell_type": "code",
   "execution_count": 4,
   "metadata": {
    "collapsed": false
   },
   "outputs": [],
   "source": [
    "print r2.series(dt, 0, 2)"
   ]
  },
  {
   "cell_type": "markdown",
   "metadata": {},
   "source": [
    "We see that the `r1` root, corresponding to\n",
    "a minus sign in front of the square root in\n",
    "([4](#nonlin:timediscrete:logistic:eq:roots)),\n",
    "behaves as $1/\\Delta t$ and will therefore\n",
    "blow up as $\\Delta t\\rightarrow 0$! Since we know that $u$ takes on\n",
    "finite values, actually it is less than or equal to 1,\n",
    "only the `r2` root is of relevance in this case: as $\\Delta t\\rightarrow 0$,\n",
    "$u\\rightarrow u^{(1)}$, which is the expected result.\n",
    "\n",
    "For those who are not well experienced with approximating mathematical\n",
    "formulas by series expansion, an alternative method of investigation\n",
    "is simply to compute the limits of the two roots as $\\Delta t\\rightarrow 0$\n",
    "and see if a limit appears unreasonable:"
   ]
  },
  {
   "cell_type": "code",
   "execution_count": 5,
   "metadata": {
    "collapsed": false
   },
   "outputs": [],
   "source": [
    "print r1.limit(dt, 0)"
   ]
  },
  {
   "cell_type": "code",
   "execution_count": 6,
   "metadata": {
    "collapsed": false
   },
   "outputs": [],
   "source": [
    "print r2.limit(dt, 0)"
   ]
  },
  {
   "cell_type": "markdown",
   "metadata": {},
   "source": [
    "## Linearization\n",
    "\n",
    "When the time integration of an ODE results in a nonlinear algebraic\n",
    "equation, we must normally find its solution by defining a sequence\n",
    "of linear equations and hope that the solutions of these linear equations\n",
    "converge to the desired solution of the nonlinear algebraic equation.\n",
    "Usually, this means solving the linear equation repeatedly in an\n",
    "iterative fashion.\n",
    "Alternatively, the nonlinear equation can sometimes be approximated by one\n",
    "linear equation, and consequently there is no need for iteration.\n",
    "\n",
    "\n",
    "Constructing a linear equation from a nonlinear one requires\n",
    "*linearization* of each nonlinear term. This can be done manually\n",
    "as in Picard iteration, or fully algorithmically as in Newton's method.\n",
    "Examples will best illustrate how to linearize nonlinear problems.\n",
    "\n",
    "\n",
    "## Picard iteration\n",
    "<div id=\"nonlin:timediscrete:logistic:Picard\"></div>\n",
    "\n",
    "\n",
    "Let us write ([3](#nonlin:timediscrete:logistic:eq:F)) in a\n",
    "more compact form"
   ]
  },
  {
   "cell_type": "markdown",
   "metadata": {},
   "source": [
    "$$\n",
    "F(u) = au^2 + bu + c = 0,\n",
    "$$"
   ]
  },
  {
   "cell_type": "markdown",
   "metadata": {},
   "source": [
    "with $a=\\Delta t$, $b=1-\\Delta t$, and $c=-u^{(1)}$.\n",
    "Let $u^{-}$ be an available approximation of the unknown $u$.\n",
    "Then we can linearize the term $u^2$ simply by writing\n",
    "$u^{-}u$. The resulting equation, $\\hat F(u)=0$, is now linear\n",
    "and hence easy to solve:"
   ]
  },
  {
   "cell_type": "markdown",
   "metadata": {},
   "source": [
    "$$\n",
    "F(u)\\approx\\hat F(u) = au^{-}u + bu + c = 0\\thinspace .\n",
    "$$"
   ]
  },
  {
   "cell_type": "markdown",
   "metadata": {},
   "source": [
    "Since the equation $\\hat F=0$ is only approximate, the solution $u$\n",
    "does not equal the exact solution $\\uex$ of the exact\n",
    "equation $F(\\uex)=0$, but we can hope that $u$ is closer to\n",
    "$\\uex$ than $u^{-}$ is, and hence it makes sense to repeat the\n",
    "procedure, i.e., set $u^{-}=u$ and solve $\\hat F(u)=0$ again.\n",
    "There is no guarantee that $u$ is closer to $\\uex$ than $u^{-}$,\n",
    "but this approach has proven to be effective in a wide range of\n",
    "applications.\n",
    "\n",
    "The idea of turning a nonlinear equation into a linear one by\n",
    "using an approximation $u^{-}$ of $u$ in nonlinear terms is\n",
    "a widely used approach that goes under many names:\n",
    "*fixed-point iteration*, the method of *successive substitutions*,\n",
    "*nonlinear Richardson iteration*, and *Picard iteration*.\n",
    "We will stick to the latter name.\n",
    "\n",
    "\n",
    "Picard iteration for solving the nonlinear equation\n",
    "arising from the Backward Euler discretization of the logistic\n",
    "equation can be written as"
   ]
  },
  {
   "cell_type": "markdown",
   "metadata": {},
   "source": [
    "$$\n",
    "u = -\\frac{c}{au^{-} + b},\\quad u^{-}\\ \\leftarrow\\ u\\thinspace .\n",
    "$$"
   ]
  },
  {
   "cell_type": "markdown",
   "metadata": {},
   "source": [
    "The $\\leftarrow$ symbols means assignment (we set $u^{-}$ equal to\n",
    "the value of $u$).\n",
    "The iteration is started with the value of the unknown at the\n",
    "previous time level: $u^{-}=u^{(1)}$.\n",
    "\n",
    "Some prefer an explicit iteration counter as superscript\n",
    "in the mathematical notation. Let $u^k$ be the computed approximation\n",
    "to the solution in iteration $k$. In iteration $k+1$ we want\n",
    "to solve"
   ]
  },
  {
   "cell_type": "markdown",
   "metadata": {},
   "source": [
    "$$\n",
    "au^k u^{k+1} + bu^{k+1} + c = 0\\quad\\Rightarrow\\quad u^{k+1}\n",
    "= -\\frac{c}{au^k + b},\\quad k=0,1,\\ldots\n",
    "$$"
   ]
  },
  {
   "cell_type": "markdown",
   "metadata": {},
   "source": [
    "Since we need to perform the iteration at every time level, the\n",
    "time level counter is often also included:"
   ]
  },
  {
   "cell_type": "markdown",
   "metadata": {},
   "source": [
    "$$\n",
    "au^{n,k} u^{n,k+1} + bu^{n,k+1} - u^{n-1} = 0\\quad\\Rightarrow\\quad u^{n,k+1}\n",
    "= \\frac{u^n}{au^{n,k} + b},\\quad k=0,1,\\ldots,\n",
    "$$"
   ]
  },
  {
   "cell_type": "markdown",
   "metadata": {},
   "source": [
    "with the start value $u^{n,0}=u^{n-1}$ and the final converged value\n",
    "$u^{n}=u^{n,k}$ for sufficiently large $k$.\n",
    "\n",
    "However, we will normally apply a mathematical notation in our\n",
    "final formulas that is as close as possible to what we aim to write\n",
    "in a computer code and then it becomes natural to use $u$ and $u^{-}$\n",
    "instead of $u^{k+1}$ and $u^k$ or $u^{n,k+1}$ and $u^{n,k}$.\n",
    "\n",
    "\n",
    "\n",
    "### Stopping criteria\n",
    "\n",
    "The iteration method can typically be terminated when the change\n",
    "in the solution is smaller than a tolerance $\\epsilon_u$:"
   ]
  },
  {
   "cell_type": "markdown",
   "metadata": {},
   "source": [
    "$$\n",
    "|u - u^{-}| \\leq\\epsilon_u,\n",
    "$$"
   ]
  },
  {
   "cell_type": "markdown",
   "metadata": {},
   "source": [
    "or when the residual in the equation is sufficiently small ($< \\epsilon_r$),"
   ]
  },
  {
   "cell_type": "markdown",
   "metadata": {},
   "source": [
    "$$\n",
    "|F(u)|= |au^2+bu + c| < \\epsilon_r\\thinspace .\n",
    "$$"
   ]
  },
  {
   "cell_type": "markdown",
   "metadata": {},
   "source": [
    "### A single Picard iteration\n",
    "\n",
    "Instead of iterating until a stopping criterion is fulfilled, one may\n",
    "iterate a specific number of times. Just one Picard iteration is\n",
    "popular as this corresponds to the intuitive idea of approximating a\n",
    "nonlinear term like $(u^n)^2$ by $u^{n-1}u^n$. This follows from the\n",
    "linearization $u^{-}u^n$ and the initial choice of $u^{-}=u^{n-1}$ at\n",
    "time level $t_n$. In other words, a single Picard iteration\n",
    "corresponds to using the solution at the previous time level to\n",
    "linearize nonlinear terms. The resulting discretization becomes (using\n",
    "proper values for $a$, $b$, and $c$)"
   ]
  },
  {
   "cell_type": "markdown",
   "metadata": {},
   "source": [
    "<!-- Equation labels as ordinary links -->\n",
    "<div id=\"nonlin:timediscrete:logistic:BE:Picard:1it\"></div>\n",
    "\n",
    "$$\n",
    "\\begin{equation}\n",
    "\\frac{u^{n} - u^{n-1}}{\\Delta t} = u^n(1 - u^{n-1}),\n",
    "\\label{nonlin:timediscrete:logistic:BE:Picard:1it} \\tag{5}\n",
    "\\end{equation}\n",
    "$$"
   ]
  },
  {
   "cell_type": "markdown",
   "metadata": {},
   "source": [
    "which is a linear algebraic equation in the unknown $u^n$, making\n",
    "it easy to solve for $u^n$ without any need for\n",
    "an alternative notation.\n",
    "\n",
    "We shall later refer to the strategy of taking one Picard step, or\n",
    "equivalently, linearizing terms with use of the solution at the\n",
    "previous time step, as the *Picard1* method. mathcal{I}_t is a widely used\n",
    "approach in science and technology, but with some limitations if\n",
    "$\\Delta t$ is not sufficiently small (as will be illustrated later).\n",
    "\n",
    "**Notice.**\n",
    "\n",
    "\n",
    "Equation ([5](#nonlin:timediscrete:logistic:BE:Picard:1it)) does not\n",
    "correspond to a \"pure\" finite difference method where the equation\n",
    "is sampled at a point and derivatives replaced by differences (because\n",
    "the $u^{n-1}$ term on the right-hand side must then be $u^n$). The\n",
    "best interpretation of the scheme\n",
    "([5](#nonlin:timediscrete:logistic:BE:Picard:1it)) is a Backward Euler\n",
    "difference combined with a single (perhaps insufficient) Picard\n",
    "iteration at each time level, with the value at the previous time\n",
    "level as start for the Picard iteration.\n",
    "\n",
    "\n",
    "\n",
    "## Linearization by a geometric mean\n",
    "<div id=\"nonlin:timediscrete:logistic:geometric:mean\"></div>\n",
    "\n",
    "\n",
    "We consider now a Crank-Nicolson discretization of\n",
    "([1](#nonlin:timediscrete:logistic:eq)). This means that the\n",
    "time derivative is approximated by a centered\n",
    "difference,"
   ]
  },
  {
   "cell_type": "markdown",
   "metadata": {},
   "source": [
    "$$\n",
    "[D_t u = u(1-u)]^{n+\\frac{1}{2}},\n",
    "$$"
   ]
  },
  {
   "cell_type": "markdown",
   "metadata": {},
   "source": [
    "written out as"
   ]
  },
  {
   "cell_type": "markdown",
   "metadata": {},
   "source": [
    "<!-- Equation labels as ordinary links -->\n",
    "<div id=\"nonlin:timediscrete:logistic:geometric:mean:scheme\"></div>\n",
    "\n",
    "$$\n",
    "\\begin{equation}\n",
    "\\frac{u^{n+1}-u^n}{\\Delta t} = u^{n+\\frac{1}{2}} -\n",
    "(u^{n+\\frac{1}{2}})^2\\thinspace .\n",
    "\\label{nonlin:timediscrete:logistic:geometric:mean:scheme} \\tag{6}\n",
    "\\end{equation}\n",
    "$$"
   ]
  },
  {
   "cell_type": "markdown",
   "metadata": {},
   "source": [
    "The term $u^{n+\\frac{1}{2}}$ is normally approximated by an arithmetic\n",
    "mean,"
   ]
  },
  {
   "cell_type": "markdown",
   "metadata": {},
   "source": [
    "$$\n",
    "u^{n+\\frac{1}{2}}\\approx \\frac{1}{2}(u^n + u^{n+1}),\n",
    "$$"
   ]
  },
  {
   "cell_type": "markdown",
   "metadata": {},
   "source": [
    "such that the scheme involves the unknown function only at the time levels\n",
    "where we actually intend to compute it.\n",
    "The same arithmetic mean applied to the nonlinear term gives"
   ]
  },
  {
   "cell_type": "markdown",
   "metadata": {},
   "source": [
    "$$\n",
    "(u^{n+\\frac{1}{2}})^2\\approx \\frac{1}{4}(u^n + u^{n+1})^2,\n",
    "$$"
   ]
  },
  {
   "cell_type": "markdown",
   "metadata": {},
   "source": [
    "which is nonlinear in the unknown $u^{n+1}$.\n",
    "However, using a *geometric mean* for $(u^{n+\\frac{1}{2}})^2$\n",
    "is a way of linearizing the nonlinear term in\n",
    "([6](#nonlin:timediscrete:logistic:geometric:mean:scheme)):"
   ]
  },
  {
   "cell_type": "markdown",
   "metadata": {},
   "source": [
    "$$\n",
    "(u^{n+\\frac{1}{2}})^2\\approx u^nu^{n+1}\\thinspace .\n",
    "$$"
   ]
  },
  {
   "cell_type": "markdown",
   "metadata": {},
   "source": [
    "Using an arithmetic mean on the linear $u^{n+\\frac{1}{2}}$ term in\n",
    "([6](#nonlin:timediscrete:logistic:geometric:mean:scheme)) and a geometric\n",
    "mean for the second term, results in a linearized equation for the\n",
    "unknown $u^{n+1}$:"
   ]
  },
  {
   "cell_type": "markdown",
   "metadata": {},
   "source": [
    "$$\n",
    "\\frac{u^{n+1}-u^n}{\\Delta t} =\n",
    "\\frac{1}{2}(u^n + u^{n+1}) + u^nu^{n+1},\n",
    "$$"
   ]
  },
  {
   "cell_type": "markdown",
   "metadata": {},
   "source": [
    "which can readily be solved:"
   ]
  },
  {
   "cell_type": "markdown",
   "metadata": {},
   "source": [
    "$$\n",
    "u^{n+1} = \\frac{1 + \\frac{1}{2}\\Delta t}{1+\\Delta t u^n - \\frac{1}{2}\\Delta t}\n",
    "u^n\\thinspace .\n",
    "$$"
   ]
  },
  {
   "cell_type": "markdown",
   "metadata": {},
   "source": [
    "This scheme can be coded directly, and since\n",
    "there is no nonlinear algebraic equation to iterate over,\n",
    "we skip the simplified notation with $u$ for $u^{n+1}$\n",
    "and $u^{(1)}$ for $u^n$. The technique with using\n",
    "a geometric average is an example of transforming a nonlinear\n",
    "algebraic equation to a linear one, without any need for iterations.\n",
    "\n",
    "The geometric mean approximation is often very effective for\n",
    "linearizing quadratic nonlinearities. Both the arithmetic and geometric mean\n",
    "approximations have truncation errors of order $\\Delta t^2$ and are\n",
    "therefore compatible with the truncation error $\\Oof{\\Delta t^2}$\n",
    "of the centered difference approximation for $u^\\prime$ in the Crank-Nicolson\n",
    "method.\n",
    "\n",
    "Applying the operator notation for the means and finite differences,\n",
    "the linearized Crank-Nicolson scheme for the logistic equation can be\n",
    "compactly expressed as"
   ]
  },
  {
   "cell_type": "markdown",
   "metadata": {},
   "source": [
    "$$\n",
    "[D_t u = \\overline{u}^{t} + \\overline{u^2}^{t,g}]^{n+\\frac{1}{2}}\\thinspace .\n",
    "$$"
   ]
  },
  {
   "cell_type": "markdown",
   "metadata": {},
   "source": [
    "**Remark.**\n",
    "\n",
    "If we use an arithmetic instead of a geometric mean\n",
    "for the nonlinear term in\n",
    "([6](#nonlin:timediscrete:logistic:geometric:mean:scheme)),\n",
    "we end up with a nonlinear term $(u^{n+1})^2$.\n",
    "This term can be linearized as $u^{-}u^{n+1}$ in a Picard iteration\n",
    "approach and in particular as\n",
    "$u^nu^{n+1}$ in a Picard1 iteration approach.\n",
    "The latter gives a scheme almost identical to the one arising from\n",
    "a geometric mean (the difference in $u^{n+1}$\n",
    "being $\\frac{1}{4}\\Delta t u^n(u^{n+1}-u^n)\\approx \\frac{1}{4}\\Delta t^2\n",
    "u^\\prime u$, i.e., a difference of size $\\Delta t^2$).\n",
    "\n",
    "\n",
    "\n",
    "## Newton's method\n",
    "<div id=\"nonlin:timediscrete:logistic:Newton\"></div>\n",
    "\n",
    "\n",
    "The Backward Euler scheme ([2](#nonlin:timediscrete:logistic:eq:BE))\n",
    "for the logistic equation leads to a nonlinear algebraic equation\n",
    "([3](#nonlin:timediscrete:logistic:eq:F)). Now we write any nonlinear\n",
    "algebraic equation in the general and compact form"
   ]
  },
  {
   "cell_type": "markdown",
   "metadata": {},
   "source": [
    "$$\n",
    "F(u) = 0\\thinspace .\n",
    "$$"
   ]
  },
  {
   "cell_type": "markdown",
   "metadata": {},
   "source": [
    "Newton's method linearizes this equation by approximating $F(u)$ by\n",
    "its Taylor series expansion around a computed value $u^{-}$\n",
    "and keeping only the linear part:"
   ]
  },
  {
   "cell_type": "markdown",
   "metadata": {},
   "source": [
    "$$\n",
    "\\begin{align*}\n",
    "F(u) &= F(u^{-}) + F^{\\prime}(u^{-})(u - u^{-}) + {\\frac{1}{2}}F^{\\prime\\prime}(u^{-})(u-u^{-})^2\n",
    "+\\cdots\\\\\n",
    "& \\approx F(u^{-}) + F^{\\prime}(u^{-})(u - u^{-}) = \\hat F(u)\\thinspace .\n",
    "\\end{align*}\n",
    "$$"
   ]
  },
  {
   "cell_type": "markdown",
   "metadata": {},
   "source": [
    "The linear equation $\\hat F(u)=0$ has the solution"
   ]
  },
  {
   "cell_type": "markdown",
   "metadata": {},
   "source": [
    "$$\n",
    "u = u^{-} - \\frac{F(u^{-})}{F^{\\prime}(u^{-})}\\thinspace .\n",
    "$$"
   ]
  },
  {
   "cell_type": "markdown",
   "metadata": {},
   "source": [
    "Expressed with an iteration index in the unknown, Newton's method takes\n",
    "on the more familiar mathematical form"
   ]
  },
  {
   "cell_type": "markdown",
   "metadata": {},
   "source": [
    "$$\n",
    "u^{k+1} = u^k - \\frac{F(u^k)}{F^{\\prime}(u^k)},\\quad k=0,1,\\ldots\n",
    "$$"
   ]
  },
  {
   "cell_type": "markdown",
   "metadata": {},
   "source": [
    "mathcal{I}_t can be shown that the error in iteration $k+1$ of Newton's method is\n",
    "proportional to\n",
    "the square of the error in iteration $k$, a result referred to as\n",
    "*quadratic convergence*. This means that for\n",
    "small errors the method converges very fast, and in particular much\n",
    "faster than Picard iteration and other iteration methods.\n",
    "(The proof of this result is found in most textbooks on numerical analysis.)\n",
    "However, the quadratic convergence appears only if $u^k$ is sufficiently\n",
    "close to the solution. Further away from the solution the method can\n",
    "easily converge very slowly or diverge. The reader is encouraged to do\n",
    "[nonlin:exer:Newton:problems1](#nonlin:exer:Newton:problems1) to get a better understanding\n",
    "for the behavior of the method.\n",
    "\n",
    "Application of Newton's method to the logistic equation discretized\n",
    "by the Backward Euler method is straightforward\n",
    "as we have"
   ]
  },
  {
   "cell_type": "markdown",
   "metadata": {},
   "source": [
    "$$\n",
    "F(u) = au^2 + bu + c,\\quad a=\\Delta t,\\ b = 1-\\Delta t,\\ c=-u^{(1)},\n",
    "$$"
   ]
  },
  {
   "cell_type": "markdown",
   "metadata": {},
   "source": [
    "and then"
   ]
  },
  {
   "cell_type": "markdown",
   "metadata": {},
   "source": [
    "$$\n",
    "F^{\\prime}(u) = 2au + b\\thinspace .\n",
    "$$"
   ]
  },
  {
   "cell_type": "markdown",
   "metadata": {},
   "source": [
    "The iteration method becomes"
   ]
  },
  {
   "cell_type": "markdown",
   "metadata": {},
   "source": [
    "<!-- Equation labels as ordinary links -->\n",
    "<div id=\"nonlin:timediscrete:logistic:Newton:alg1\"></div>\n",
    "\n",
    "$$\n",
    "\\begin{equation}\n",
    "u = u^{-} + \\frac{a(u^{-})^2 + bu^{-} + c}{2au^{-} + b},\\quad\n",
    "u^{-}\\ \\leftarrow u\\thinspace .\n",
    "\\label{nonlin:timediscrete:logistic:Newton:alg1} \\tag{7}\n",
    "\\end{equation}\n",
    "$$"
   ]
  },
  {
   "cell_type": "markdown",
   "metadata": {},
   "source": [
    "At each time level, we start the iteration by setting $u^{-}=u^{(1)}$.\n",
    "Stopping criteria as listed for the Picard iteration can be used also\n",
    "for Newton's method.\n",
    "\n",
    "An alternative mathematical form, where we write out $a$, $b$, and $c$,\n",
    "and use a time level counter $n$ and an iteration counter $k$, takes\n",
    "the form"
   ]
  },
  {
   "cell_type": "markdown",
   "metadata": {},
   "source": [
    "<!-- Equation labels as ordinary links -->\n",
    "<div id=\"nonlin:timediscrete:logistic:Newton:alg2\"></div>\n",
    "\n",
    "$$\n",
    "\\begin{equation}\n",
    "u^{n,k+1} = u^{n,k} +\n",
    "\\frac{\\Delta t (u^{n,k})^2 + (1-\\Delta t)u^{n,k} - u^{n-1}}\n",
    "{2\\Delta t u^{n,k} + 1 - \\Delta t},\\quad u^{n,0}=u^{n-1},\n",
    "\\label{nonlin:timediscrete:logistic:Newton:alg2} \\tag{8}\n",
    "\\end{equation}\n",
    "$$"
   ]
  },
  {
   "cell_type": "markdown",
   "metadata": {},
   "source": [
    "for $k=0,1,\\ldots$.\n",
    "A program implementation is much closer to ([7](#nonlin:timediscrete:logistic:Newton:alg1)) than to ([8](#nonlin:timediscrete:logistic:Newton:alg2)), but\n",
    "the latter is better aligned with the established mathematical\n",
    "notation used in the literature.\n",
    "\n",
    "## Relaxation\n",
    "<div id=\"nonlin:timediscrete:logistic:relaxation\"></div>\n",
    "\n",
    "\n",
    "One iteration in Newton's method or\n",
    "Picard iteration consists of solving a linear problem $\\hat F(u)=0$.\n",
    "Sometimes convergence problems arise because the new solution $u$\n",
    "of $\\hat F(u)=0$ is \"too far away\" from the previously computed\n",
    "solution $u^{-}$. A remedy is to introduce a relaxation, meaning that\n",
    "we first solve $\\hat F(u^*)=0$ for a suggested value $u^*$ and\n",
    "then we take $u$ as a weighted mean of what we had, $u^{-}$, and\n",
    "what our linearized equation $\\hat F=0$ suggests, $u^*$:"
   ]
  },
  {
   "cell_type": "markdown",
   "metadata": {},
   "source": [
    "$$\n",
    "u = \\omega u^* + (1-\\omega) u^{-}\\thinspace .\n",
    "$$"
   ]
  },
  {
   "cell_type": "markdown",
   "metadata": {},
   "source": [
    "The parameter $\\omega$\n",
    "is known as a *relaxation parameter*, and a choice $\\omega < 1$\n",
    "may prevent divergent iterations.\n",
    "\n",
    "Relaxation in Newton's method can be directly incorporated\n",
    "in the basic iteration formula:"
   ]
  },
  {
   "cell_type": "markdown",
   "metadata": {},
   "source": [
    "<!-- Equation labels as ordinary links -->\n",
    "<div id=\"nonlin:timediscrete:logistic:relaxation:Newton:formula\"></div>\n",
    "\n",
    "$$\n",
    "\\begin{equation}\n",
    "u = u^{-} - \\omega \\frac{F(u^{-})}{F^{\\prime}(u^{-})}\\thinspace .\n",
    "\\label{nonlin:timediscrete:logistic:relaxation:Newton:formula} \\tag{9}\n",
    "\\end{equation}\n",
    "$$"
   ]
  },
  {
   "cell_type": "markdown",
   "metadata": {},
   "source": [
    "## Implementation and experiments\n",
    "<div id=\"nonlin:timediscrete:logistic:impl\"></div>\n",
    "\n",
    "\n",
    "The program [`logistic.py`](${src_nonlin}/logistic.py) contains\n",
    "implementations of all the methods described above.\n",
    "Below is an extract of the file showing how the Picard and Newton\n",
    "methods are implemented for a Backward Euler discretization of\n",
    "the logistic equation.\n",
    "\n",
    "<!-- @@@CODE src-nonlin/logistic.py fromto: def BE_logistic@def CN_logistic -->"
   ]
  },
  {
   "cell_type": "code",
   "execution_count": 7,
   "metadata": {
    "collapsed": false
   },
   "outputs": [],
   "source": [
    "def BE_logistic(u0, dt, Nt, choice='Picard',\n",
    "                eps_r=1E-3, omega=1, max_iter=1000):\n",
    "    if choice == 'Picard1':\n",
    "        choice = 'Picard'\n",
    "        max_iter = 1\n",
    "\n",
    "    u = np.zeros(Nt+1)\n",
    "    iterations = []\n",
    "    u[0] = u0\n",
    "    for n in range(1, Nt+1):\n",
    "        a = dt\n",
    "        b = 1 - dt\n",
    "        c = -u[n-1]\n",
    "\n",
    "        if choice == 'Picard':\n",
    "\n",
    "            def F(u):\n",
    "                return a*u**2 + b*u + c\n",
    "\n",
    "            u_ = u[n-1]\n",
    "            k = 0\n",
    "            while abs(F(u_)) > eps_r and k < max_iter:\n",
    "                u_ = omega*(-c/(a*u_ + b)) + (1-omega)*u_\n",
    "                k += 1\n",
    "            u[n] = u_\n",
    "            iterations.append(k)\n",
    "\n",
    "        elif choice == 'Newton':\n",
    "\n",
    "            def F(u):\n",
    "                return a*u**2 + b*u + c\n",
    "\n",
    "            def dF(u):\n",
    "                return 2*a*u + b\n",
    "\n",
    "            u_ = u[n-1]\n",
    "            k = 0\n",
    "            while abs(F(u_)) > eps_r and k < max_iter:\n",
    "                u_ = u_ - F(u_)/dF(u_)\n",
    "                k += 1\n",
    "            u[n] = u_\n",
    "            iterations.append(k)\n",
    "    return u, iterations"
   ]
  },
  {
   "cell_type": "markdown",
   "metadata": {},
   "source": [
    "The Crank-Nicolson method utilizing a linearization based on the\n",
    "geometric mean gives a simpler algorithm:"
   ]
  },
  {
   "cell_type": "code",
   "execution_count": 8,
   "metadata": {
    "collapsed": false
   },
   "outputs": [],
   "source": [
    "def CN_logistic(u0, dt, Nt):\n",
    "    u = np.zeros(Nt+1)\n",
    "    u[0] = u0\n",
    "    for n in range(0, Nt):\n",
    "        u[n+1] = (1 + 0.5*dt)/(1 + dt*u[n] - 0.5*dt)*u[n]\n",
    "    return u"
   ]
  },
  {
   "cell_type": "markdown",
   "metadata": {},
   "source": [
    "We may run experiments with the model problem\n",
    "([1](#nonlin:timediscrete:logistic:eq)) and the different strategies for\n",
    "dealing with nonlinearities as described above. For a quite coarse\n",
    "time resolution, $\\Delta t=0.9$, use of a tolerance $\\epsilon_r=0.1$\n",
    "in the stopping criterion introduces an iteration error, especially in\n",
    "the Picard iterations, that is visibly much larger than the\n",
    "time discretization error due to a large $\\Delta t$. This is illustrated\n",
    "by comparing the upper two plots in\n",
    "[Figure](#nonlin:timediscrete:logistic:impl:fig:u). The one to\n",
    "the right has a stricter tolerance $\\epsilon = 10^{-3}$, which causes\n",
    "all the curves corresponding to Picard and Newton iteration to be\n",
    "on top of each other (and no changes can be visually observed by\n",
    "reducing $\\epsilon_r$ further). The reason why Newton's method does\n",
    "much better than Picard iteration in the upper left plot is that\n",
    "Newton's method with one step comes far below the $\\epsilon_r$ tolerance,\n",
    "while the Picard iteration needs on average 7 iterations to bring the\n",
    "residual down to $\\epsilon_r=10^{-1}$, which gives insufficient\n",
    "accuracy in the solution of the nonlinear equation. mathcal{I}_t is obvious\n",
    "that the Picard1 method gives significant errors in addition to\n",
    "the time discretization unless the time step is as small as in\n",
    "the lower right plot.\n",
    "\n",
    "The *BE exact* curve corresponds to using the exact solution of the\n",
    "quadratic equation at each time level, so this curve is only affected\n",
    "by the Backward Euler time discretization.  The *CN gm* curve\n",
    "corresponds to the theoretically more accurate Crank-Nicolson\n",
    "discretization, combined with a geometric mean for linearization.\n",
    "This curve appears more accurate, especially if we take the plot in\n",
    "the lower right with a small $\\Delta t$ and an appropriately small\n",
    "$\\epsilon_r$ value as the exact curve.\n",
    "\n",
    "\n",
    "When it comes to the need for iterations, [Figure](#nonlin:timediscrete:logistic:impl:fig:iter) displays the number of\n",
    "iterations required at each time level for Newton's method and\n",
    "Picard iteration. The smaller $\\Delta t$ is, the better starting value\n",
    "we have for the iteration, and the faster the convergence is.\n",
    "With $\\Delta t = 0.9$ Picard iteration requires on average 32 iterations\n",
    "per time step, but this number is dramatically reduced as $\\Delta t$\n",
    "is reduced.\n",
    "\n",
    "However, introducing relaxation and a parameter $\\omega=0.8$\n",
    "immediately reduces the average of 32 to 7, indicating that for the large\n",
    "$\\Delta t=0.9$, Picard iteration takes too long steps. An approximately optimal\n",
    "value for $\\omega$ in this case is 0.5, which results in an average of only\n",
    "2 iterations! An even more dramatic impact of $\\omega$ appears when\n",
    "$\\Delta t = 1$: Picard iteration does not convergence in 1000 iterations,\n",
    "but $\\omega=0.5$ again brings the average number of iterations down to 2.\n",
    "\n",
    "\n",
    "<!-- dom:FIGURE: [fig-nonlin/logistic_u.png, width=800 frac=1] Impact of solution strategy and time step length on the solution. <div id=\"nonlin:timediscrete:logistic:impl:fig:u\"></div> -->\n",
    "<!-- begin figure -->\n",
    "<div id=\"nonlin:timediscrete:logistic:impl:fig:u\"></div>\n",
    "\n",
    "<p>Impact of solution strategy and time step length on the solution.</p>\n",
    "<img src=\"fig-nonlin/logistic_u.png\" width=800>\n",
    "\n",
    "<!-- end figure -->\n",
    "\n",
    "\n",
    "<!-- dom:FIGURE: [fig-nonlin/logistic_iter.png, width=800 frac=1] Comparison of the number of iterations at various time levels for Picard and Newton iteration. <div id=\"nonlin:timediscrete:logistic:impl:fig:iter\"></div> -->\n",
    "<!-- begin figure -->\n",
    "<div id=\"nonlin:timediscrete:logistic:impl:fig:iter\"></div>\n",
    "\n",
    "<p>Comparison of the number of iterations at various time levels for Picard and Newton iteration.</p>\n",
    "<img src=\"fig-nonlin/logistic_iter.png\" width=800>\n",
    "\n",
    "<!-- end figure -->\n",
    "\n",
    "\n",
    "\n",
    "\n",
    "[hpl 1: Is this remark really relevant now? Compare with text.]\n",
    "\n",
    "**Remark.**\n",
    "The simple Crank-Nicolson method with a geometric mean for the quadratic\n",
    "nonlinearity gives visually more accurate solutions than the\n",
    "Backward Euler discretization. Even with a tolerance of $\\epsilon_r=10^{-3}$,\n",
    "all the methods for treating the nonlinearities in the Backward Euler\n",
    "discretization give graphs that cannot be distinguished. So for\n",
    "accuracy in this problem, the time discretization is much more crucial\n",
    "than $\\epsilon_r$. Ideally, one should estimate the error in the\n",
    "time discretization, as the solution progresses, and set $\\epsilon_r$\n",
    "accordingly.\n",
    "\n",
    "## Generalization to a general nonlinear ODE\n",
    "<div id=\"nonlin:ode:generic\"></div>\n",
    "\n",
    "Let us see how the various methods in the previous sections\n",
    "can be applied to the more generic model"
   ]
  },
  {
   "cell_type": "markdown",
   "metadata": {},
   "source": [
    "<!-- Equation labels as ordinary links -->\n",
    "<div id=\"nonlin:ode:generic:model\"></div>\n",
    "\n",
    "$$\n",
    "\\begin{equation}\n",
    "u^{\\prime} = f(u, t),\n",
    "\\label{nonlin:ode:generic:model} \\tag{10}\n",
    "\\end{equation}\n",
    "$$"
   ]
  },
  {
   "cell_type": "markdown",
   "metadata": {},
   "source": [
    "where $f$ is a nonlinear function of $u$.\n",
    "\n",
    "### Explicit time discretization\n",
    "\n",
    "Explicit ODE methods like the Forward Euler scheme, Runge-Kutta methods and\n",
    "Adams-Bashforth methods all evaluate $f$ at time levels where\n",
    "$u$ is already computed, so nonlinearities in $f$ do not\n",
    "pose any difficulties.\n",
    "\n",
    "### Backward Euler discretization\n",
    "\n",
    "Approximating $u^{\\prime}$ by a backward difference leads to a Backward Euler\n",
    "scheme, which can be written as"
   ]
  },
  {
   "cell_type": "markdown",
   "metadata": {},
   "source": [
    "$$\n",
    "F(u^n) = u^{n} - \\Delta t\\, f(u^n, t_n) - u^{n-1}=0,\n",
    "$$"
   ]
  },
  {
   "cell_type": "markdown",
   "metadata": {},
   "source": [
    "or alternatively"
   ]
  },
  {
   "cell_type": "markdown",
   "metadata": {},
   "source": [
    "$$\n",
    "F(u) = u - \\Delta t\\, f(u, t_n) - u^{(1)} = 0\\thinspace .\n",
    "$$"
   ]
  },
  {
   "cell_type": "markdown",
   "metadata": {},
   "source": [
    "A simple Picard iteration, not knowing anything about the nonlinear\n",
    "structure of $f$, must approximate $f(u,t_n)$ by $f(u^{-},t_n)$:"
   ]
  },
  {
   "cell_type": "markdown",
   "metadata": {},
   "source": [
    "$$\n",
    "\\hat F(u) = u - \\Delta t\\, f(u^{-},t_n) - u^{(1)}\\thinspace .\n",
    "$$"
   ]
  },
  {
   "cell_type": "markdown",
   "metadata": {},
   "source": [
    "The iteration starts with $u^{-}=u^{(1)}$ and proceeds with repeating"
   ]
  },
  {
   "cell_type": "markdown",
   "metadata": {},
   "source": [
    "$$\n",
    "u^* = \\Delta t\\, f(u^{-},t_n) + u^{(1)},\\quad u = \\omega u^* + (1-\\omega)u^{-},\n",
    "\\quad u^{-}\\ \\leftarrow\\ u,\n",
    "$$"
   ]
  },
  {
   "cell_type": "markdown",
   "metadata": {},
   "source": [
    "until a stopping criterion is fulfilled.\n",
    "\n",
    "**Explicit vs implicit treatment of nonlinear terms.**\n",
    "\n",
    "Evaluating $f$ for a known $u^{-}$ is referred to as *explicit* treatment of\n",
    "$f$, while if $f(u,t)$ has some structure, say $f(u,t) = u^3$, parts of\n",
    "$f$ can involve the unknown $u$, as in the manual linearization\n",
    "$(u^{-})^2u$, and then the treatment of $f$ is \"more implicit\"\n",
    "and \"less explicit\". This terminology is inspired by time discretization\n",
    "of $u^{\\prime}=f(u,t)$, where evaluating $f$ for known $u$ values gives\n",
    "explicit schemes, while treating $f$ or parts of $f$ implicitly,\n",
    "makes $f$ contribute to the unknown terms in the equation at the new\n",
    "time level.\n",
    "\n",
    "Explicit treatment of $f$ usually means stricter conditions on\n",
    "$\\Delta t$ to achieve stability of time discretization schemes. The same\n",
    "applies to iteration techniques for nonlinear algebraic equations: the \"less\"\n",
    "we linearize $f$ (i.e., the more we keep of $u$ in the original formula),\n",
    "the faster the convergence may be.\n",
    "\n",
    "We may say that $f(u,t)=u^3$ is treated explicitly if we evaluate $f$\n",
    "as $(u^{-})^3$, partially implicit if we linearize as $(u^{-})^2u$\n",
    "and fully implicit if we represent $f$ by $u^3$. (Of course, the\n",
    "fully implicit representation will require further linearization,\n",
    "but with $f(u,t)=u^2$ a fully implicit treatment is possible if\n",
    "the resulting quadratic equation is solved with a formula.)\n",
    "\n",
    "For the ODE $u^{\\prime}=-u^3$ with $f(u,t)=-u^3$ and coarse\n",
    "time resolution $\\Delta t = 0.4$, Picard iteration with $(u^{-})^2u$\n",
    "requires 8 iterations with $\\epsilon_r = 10^{-3}$ for the first\n",
    "time step, while $(u^{-})^3$ leads to 22 iterations. After about 10\n",
    "time steps both approaches are down to about 2 iterations per time\n",
    "step, but this example shows a potential of treating $f$ more\n",
    "implicitly.\n",
    "\n",
    "A trick to treat $f$ implicitly in Picard iteration is to\n",
    "evaluate it as $f(u^{-},t)u/u^{-}$. For a polynomial $f$, $f(u,t)=u^m$,\n",
    "this corresponds to $(u^{-})^{m}u/u^{-}=(u^{-})^{m-1}u$. Sometimes this more implicit\n",
    "treatment has no effect, as with $f(u,t)=\\exp(-u)$ and $f(u,t)=\\ln (1+u)$,\n",
    "but with $f(u,t)=\\sin(2(u+1))$, the $f(u^{-},t)u/u^{-}$ trick\n",
    "leads to 7, 9, and 11 iterations during the first three steps, while\n",
    "$f(u^{-},t)$ demands 17, 21, and 20 iterations.\n",
    "(Experiments can be done with the code [`ODE_Picard_tricks.py`](${src_nonlin}/ODE_Picard_tricks.py).)\n",
    "\n",
    "\n",
    "\n",
    "Newton's method applied to a Backward Euler discretization of\n",
    "$u^{\\prime}=f(u,t)$\n",
    "requires computation of the derivative"
   ]
  },
  {
   "cell_type": "markdown",
   "metadata": {},
   "source": [
    "$$\n",
    "F^{\\prime}(u) = 1 - \\Delta t\\frac{\\partial f}{\\partial u}(u,t_n)\\thinspace .\n",
    "$$"
   ]
  },
  {
   "cell_type": "markdown",
   "metadata": {},
   "source": [
    "Starting with the solution at the previous time level, $u^{-}=u^{(1)}$,\n",
    "we can just use the standard formula"
   ]
  },
  {
   "cell_type": "markdown",
   "metadata": {},
   "source": [
    "<!-- Equation labels as ordinary links -->\n",
    "<div id=\"nonlin:ode:generic:Newton\"></div>\n",
    "\n",
    "$$\n",
    "\\begin{equation}\n",
    "u = u^{-} - \\omega \\frac{F(u^{-})}{F^{\\prime}(u^{-})}\n",
    "= u^{-} - \\omega \\frac{u^{-} - \\Delta t\\, f(u^{-}, t_n) - u^{(1)}}{1 - \\Delta t\n",
    "\\frac{\\partial}{\\partial u}f(u^{-},t_n)}\n",
    "\\thinspace .\n",
    "\\label{nonlin:ode:generic:Newton} \\tag{11}\n",
    "\\end{equation}\n",
    "$$"
   ]
  },
  {
   "cell_type": "markdown",
   "metadata": {},
   "source": [
    "<!-- The geometric mean trick cannot be used unless we know that $f$ has -->\n",
    "<!-- a special structure with quadratic expressions in $u$. -->\n",
    "\n",
    "### Crank-Nicolson discretization\n",
    "\n",
    "The standard Crank-Nicolson scheme with arithmetic mean approximation of\n",
    "$f$ takes the form"
   ]
  },
  {
   "cell_type": "markdown",
   "metadata": {},
   "source": [
    "$$\n",
    "\\frac{u^{n+1} - u^n}{\\Delta t} = \\frac{1}{2}(f(u^{n+1}, t_{n+1})\n",
    "+ f(u^n, t_n))\\thinspace .\n",
    "$$"
   ]
  },
  {
   "cell_type": "markdown",
   "metadata": {},
   "source": [
    "We can write the scheme as a nonlinear algebraic equation"
   ]
  },
  {
   "cell_type": "markdown",
   "metadata": {},
   "source": [
    "<!-- Equation labels as ordinary links -->\n",
    "<div id=\"nonlin:ode:generic:Newton2\"></div>\n",
    "\n",
    "$$\n",
    "\\begin{equation}\n",
    "F(u) = u - u^{(1)} - \\Delta t{\\frac{1}{2}}f(u,t_{n+1}) -\n",
    "\\Delta t{\\frac{1}{2}}f(u^{(1)},t_{n}) = 0\\thinspace .\n",
    "\\label{nonlin:ode:generic:Newton2} \\tag{12}\n",
    "\\end{equation}\n",
    "$$"
   ]
  },
  {
   "cell_type": "markdown",
   "metadata": {},
   "source": [
    "A Picard iteration scheme must in general employ the linearization"
   ]
  },
  {
   "cell_type": "markdown",
   "metadata": {},
   "source": [
    "$$\n",
    "\\hat F(u) = u - u^{(1)} - \\Delta t{\\frac{1}{2}}f(u^{-},t_{n+1}) -\n",
    "\\Delta t{\\frac{1}{2}}f(u^{(1)},t_{n}),\n",
    "$$"
   ]
  },
  {
   "cell_type": "markdown",
   "metadata": {},
   "source": [
    "while Newton's method can apply the general formula\n",
    "([11](#nonlin:ode:generic:Newton)) with $F(u)$ given in\n",
    "([12](#nonlin:ode:generic:Newton2)) and"
   ]
  },
  {
   "cell_type": "markdown",
   "metadata": {},
   "source": [
    "$$\n",
    "F^{\\prime}(u)= 1 - \\frac{1}{2}\\Delta t\\frac{\\partial f}{\\partial u}(u,t_{n+1})\\thinspace .\n",
    "$$"
   ]
  },
  {
   "cell_type": "markdown",
   "metadata": {},
   "source": [
    "<!-- What about pendulum sin(u) as u/u_ sin(u_)? Check in odespy if it -->\n",
    "<!-- converges faster (should be able to store the no of Newton and -->\n",
    "<!-- Picard iterations in the classes and poll afterwards). mathcal{I}_t the trick -->\n",
    "<!-- pays off, describe it here. Can odespy be used here? That is, can we -->\n",
    "<!-- provide the linearization? No...? -->\n",
    "\n",
    "## Systems of ODEs\n",
    "<div id=\"nonlin:ode:generic:sys:pendulum\"></div>\n",
    "\n",
    "\n",
    "We may write a system of ODEs"
   ]
  },
  {
   "cell_type": "markdown",
   "metadata": {},
   "source": [
    "$$\n",
    "\\begin{align*}\n",
    "\\frac{d}{dt}u_0(t) &= f_0(u_0(t),u_1(t),\\ldots,u_N(t),t),\\\\\n",
    "\\frac{d}{dt}u_1(t) &= f_1(u_0(t),u_1(t),\\ldots,u_N(t),t),\\\\\n",
    "&\\vdots\\\\\n",
    "\\frac{d}{dt}u_m(t) &= f_m(u_0(t),u_1(t),\\ldots,u_N(t),t),\n",
    "\\end{align*}\n",
    "$$"
   ]
  },
  {
   "cell_type": "markdown",
   "metadata": {},
   "source": [
    "as"
   ]
  },
  {
   "cell_type": "markdown",
   "metadata": {},
   "source": [
    "<!-- Equation labels as ordinary links -->\n",
    "<div id=\"_auto1\"></div>\n",
    "\n",
    "$$\n",
    "\\begin{equation}\n",
    "u^{\\prime} = f(u,t),\\quad u(0)=U_0,\n",
    "\\label{_auto1} \\tag{13}\n",
    "\\end{equation}\n",
    "$$"
   ]
  },
  {
   "cell_type": "markdown",
   "metadata": {},
   "source": [
    "if we interpret $u$ as a vector $u=(u_0(t),u_1(t),\\ldots,u_N(t))$\n",
    "and $f$ as a vector function with components\n",
    "$(f_0(u,t),f_1(u,t),\\ldots,f_N(u,t))$.\n",
    "\n",
    "Most solution methods for scalar ODEs, including\n",
    "the Forward and Backward Euler schemes and the\n",
    "Crank-Nicolson method, generalize in a\n",
    "straightforward way to systems of ODEs simply by using vector\n",
    "arithmetics instead of scalar arithmetics, which corresponds to\n",
    "applying the scalar scheme to each component of the system.  For\n",
    "example, here is a backward difference scheme applied to each\n",
    "component,"
   ]
  },
  {
   "cell_type": "markdown",
   "metadata": {},
   "source": [
    "$$\n",
    "\\begin{align*}\n",
    "\\frac{u_0^n- u_0^{n-1}}{\\Delta t} &= f_0(u^n,t_n),\\\\\n",
    "\\frac{u_1^n- u_1^{n-1}}{\\Delta t} &= f_1(u^n,t_n),\\\\\n",
    "&\\vdots\\\\\n",
    "\\frac{u_N^n- u_N^{n-1}}{\\Delta t} &= f_N(u^n,t_n),\n",
    "\\end{align*}\n",
    "$$"
   ]
  },
  {
   "cell_type": "markdown",
   "metadata": {},
   "source": [
    "which can be written more compactly in vector form as"
   ]
  },
  {
   "cell_type": "markdown",
   "metadata": {},
   "source": [
    "$$\n",
    "\\frac{u^n- u^{n-1}}{\\Delta t} = f(u^n,t_n)\\thinspace .\n",
    "$$"
   ]
  },
  {
   "cell_type": "markdown",
   "metadata": {},
   "source": [
    "This is a *system of algebraic equations*,"
   ]
  },
  {
   "cell_type": "markdown",
   "metadata": {},
   "source": [
    "$$\n",
    "u^n - \\Delta t\\,f(u^n,t_n) - u^{n-1}=0,\n",
    "$$"
   ]
  },
  {
   "cell_type": "markdown",
   "metadata": {},
   "source": [
    "or written out"
   ]
  },
  {
   "cell_type": "markdown",
   "metadata": {},
   "source": [
    "$$\n",
    "\\begin{align*}\n",
    "u_0^n - \\Delta t\\, f_0(u^n,t_n) - u_0^{n-1} &= 0,\\\\\n",
    "&\\vdots\\\\\n",
    "u_N^n - \\Delta t\\, f_N(u^n,t_n) - u_N^{n-1} &= 0\\thinspace .\n",
    "\\end{align*}\n",
    "$$"
   ]
  },
  {
   "cell_type": "markdown",
   "metadata": {},
   "source": [
    "### Example\n",
    "\n",
    "We shall address the $2\\times 2$ ODE system for\n",
    "oscillations of a pendulum\n",
    "subject to gravity and air drag. The system can be written as"
   ]
  },
  {
   "cell_type": "markdown",
   "metadata": {},
   "source": [
    "<!-- Equation labels as ordinary links -->\n",
    "<div id=\"_auto2\"></div>\n",
    "\n",
    "$$\n",
    "\\begin{equation}\n",
    "\\dot\\omega = -\\sin\\theta -\\beta \\omega |\\omega|,\n",
    "\\label{_auto2} \\tag{14}\n",
    "\\end{equation}\n",
    "$$"
   ]
  },
  {
   "cell_type": "markdown",
   "metadata": {},
   "source": [
    "<!-- Equation labels as ordinary links -->\n",
    "<div id=\"_auto3\"></div>\n",
    "\n",
    "$$\n",
    "\\begin{equation} \n",
    "\\dot\\theta = \\omega,\n",
    "\\label{_auto3} \\tag{15}\n",
    "\\end{equation}\n",
    "$$"
   ]
  },
  {
   "cell_type": "markdown",
   "metadata": {},
   "source": [
    "where $\\beta$ is a dimensionless parameter (this is the scaled, dimensionless\n",
    "version of the original, physical model). The unknown components of the\n",
    "system are the\n",
    "angle $\\theta(t)$ and the angular velocity $\\omega(t)$.\n",
    "We introduce $u_0=\\omega$ and $u_1=\\theta$, which leads to"
   ]
  },
  {
   "cell_type": "markdown",
   "metadata": {},
   "source": [
    "$$\n",
    "\\begin{align*}\n",
    "u_0^{\\prime} = f_0(u,t) &= -\\sin u_1 - \\beta u_0|u_0|,\\\\\n",
    "u_1^{\\prime} = f_1(u,t) &= u_0\\thinspace .\n",
    "\\end{align*}\n",
    "$$"
   ]
  },
  {
   "cell_type": "markdown",
   "metadata": {},
   "source": [
    "A Crank-Nicolson scheme reads"
   ]
  },
  {
   "cell_type": "markdown",
   "metadata": {},
   "source": [
    "$$\n",
    "\\frac{u_0^{n+1}-u_0^{n}}{\\Delta t} = -\\sin u_1^{n+\\frac{1}{2}}\n",
    "- \\beta u_0^{n+\\frac{1}{2}}|u_0^{n+\\frac{1}{2}}|\\nonumber\n",
    "$$"
   ]
  },
  {
   "cell_type": "markdown",
   "metadata": {},
   "source": [
    "<!-- Equation labels as ordinary links -->\n",
    "<div id=\"_auto4\"></div>\n",
    "\n",
    "$$\n",
    "\\begin{equation} \n",
    " \\approx -\\sin\\left(\\frac{1}{2}(u_1^{n+1} + u_1n)\\right)\n",
    "- \\beta\\frac{1}{4} (u_0^{n+1} + u_0^n)|u_0^{n+1}+u_0^n|,\n",
    "\\label{_auto4} \\tag{16}\n",
    "\\end{equation}\n",
    "$$"
   ]
  },
  {
   "cell_type": "markdown",
   "metadata": {},
   "source": [
    "<!-- Equation labels as ordinary links -->\n",
    "<div id=\"_auto5\"></div>\n",
    "\n",
    "$$\n",
    "\\begin{equation} \n",
    "\\frac{u_1^{n+1}-u_1^n}{\\Delta t} = u_0^{n+\\frac{1}{2}}\\approx\n",
    "\\frac{1}{2} (u_0^{n+1}+u_0^n)\\thinspace .\n",
    "\\label{_auto5} \\tag{17}\n",
    "\\end{equation}\n",
    "$$"
   ]
  },
  {
   "cell_type": "markdown",
   "metadata": {},
   "source": [
    "This is a *coupled system* of two nonlinear algebraic equations\n",
    "in two unknowns $u_0^{n+1}$ and $u_1^{n+1}$.\n",
    "\n",
    "Using the notation $u_0$ and $u_1$ for the unknowns $u_0^{n+1}$ and\n",
    "$u_1^{n+1}$ in this system, writing $u_0^{(1)}$ and\n",
    "$u_1^{(1)}$ for the previous values $u_0^n$ and $u_1^n$, multiplying\n",
    "by $\\Delta t$ and moving the terms to the left-hand sides, gives"
   ]
  },
  {
   "cell_type": "markdown",
   "metadata": {},
   "source": [
    "<!-- Equation labels as ordinary links -->\n",
    "<div id=\"nonlin:ode:generic:sys:pendulum:u0\"></div>\n",
    "\n",
    "$$\n",
    "\\begin{equation}\n",
    "u_0 - u_0^{(1)} + \\Delta t\\,\\sin\\left(\\frac{1}{2}(u_1 + u_1^{(1)})\\right)\n",
    "+ \\frac{1}{4}\\Delta t\\beta (u_0 + u_0^{(1)})|u_0 + u_0^{(1)}| =0,\n",
    "\\label{nonlin:ode:generic:sys:pendulum:u0} \\tag{18}\n",
    "\\end{equation}\n",
    "$$"
   ]
  },
  {
   "cell_type": "markdown",
   "metadata": {},
   "source": [
    "<!-- Equation labels as ordinary links -->\n",
    "<div id=\"nonlin:ode:generic:sys:pendulum:u1\"></div>\n",
    "\n",
    "$$\n",
    "\\begin{equation} \n",
    "u_1 - u_1^{(1)} -\\frac{1}{2}\\Delta t(u_0 + u_0^{(1)}) =0\\thinspace .\n",
    "\\label{nonlin:ode:generic:sys:pendulum:u1} \\tag{19}\n",
    "\\end{equation}\n",
    "$$"
   ]
  },
  {
   "cell_type": "markdown",
   "metadata": {},
   "source": [
    "Obviously, we have a need for solving systems of nonlinear algebraic\n",
    "equations, which is the topic of the next section.\n",
    "\n",
    "# Systems of nonlinear algebraic equations\n",
    "<div id=\"nonlin:systems:alg\"></div>\n",
    "\n",
    "Implicit time discretization methods for a system of ODEs, or a PDE,\n",
    "lead to *systems* of nonlinear algebraic equations, written\n",
    "compactly as"
   ]
  },
  {
   "cell_type": "markdown",
   "metadata": {},
   "source": [
    "$$\n",
    "F(u) = 0,\n",
    "$$"
   ]
  },
  {
   "cell_type": "markdown",
   "metadata": {},
   "source": [
    "where $u$ is a vector of unknowns $u=(u_0,\\ldots,u_N)$, and\n",
    "$F$ is a vector function: $F=(F_0,\\ldots,F_N)$.\n",
    "The system at the end of the section [Systems of ODEs](#nonlin:ode:generic:sys:pendulum) fits\n",
    "this notation with $N=1$, $F_0(u)$ given by the left-hand side of\n",
    "([18](#nonlin:ode:generic:sys:pendulum:u0)), while $F_1(u)$ is\n",
    "the left-hand side of ([19](#nonlin:ode:generic:sys:pendulum:u1)).\n",
    "\n",
    "Sometimes the equation system has a special structure because of the\n",
    "underlying problem, e.g.,"
   ]
  },
  {
   "cell_type": "markdown",
   "metadata": {},
   "source": [
    "$$\n",
    "A(u)u = b(u),\n",
    "$$"
   ]
  },
  {
   "cell_type": "markdown",
   "metadata": {},
   "source": [
    "with $A(u)$ as\n",
    "an $(N+1)\\times (N+1)$ matrix function of $u$ and $b$ as a vector\n",
    "function: $b=(b_0,\\ldots,b_N)$.\n",
    "\n",
    "We shall next explain how Picard iteration and Newton's method\n",
    "can be applied to systems like $F(u)=0$ and $A(u)u=b(u)$.\n",
    "The exposition has a focus on ideas and practical computations.\n",
    "More theoretical considerations, including quite general results\n",
    "on convergence properties\n",
    "of these methods, can be found in Kelley [[Kelley_1995]](#Kelley_1995).\n",
    "\n",
    "## Picard iteration\n",
    "<div id=\"nonlin:systems:alg:Picard\"></div>\n",
    "\n",
    "\n",
    "We cannot apply Picard iteration to nonlinear equations unless there is\n",
    "some special structure. For the commonly arising case\n",
    "$A(u)u=b(u)$ we can linearize the\n",
    "product $A(u)u$ to $A(u^{-})u$ and $b(u)$ as $b(u^{-})$.\n",
    "That is, we use the most previously\n",
    "computed approximation in $A$ and $b$ to arrive at a *linear system* for\n",
    "$u$:"
   ]
  },
  {
   "cell_type": "markdown",
   "metadata": {},
   "source": [
    "$$\n",
    "A(u^{-})u = b(u^{-})\\thinspace .\n",
    "$$"
   ]
  },
  {
   "cell_type": "markdown",
   "metadata": {},
   "source": [
    "A relaxed iteration takes the form"
   ]
  },
  {
   "cell_type": "markdown",
   "metadata": {},
   "source": [
    "$$\n",
    "A(u^{-})u^* = b(u^{-}),\\quad u = \\omega u^* + (1-\\omega)u^{-}\\thinspace .\n",
    "$$"
   ]
  },
  {
   "cell_type": "markdown",
   "metadata": {},
   "source": [
    "In other words, we solve a system of nonlinear algebraic equations as\n",
    "a sequence of linear systems.\n",
    "\n",
    "**Algorithm for relaxed Picard iteration.**\n",
    "\n",
    "Given $A(u)u=b(u)$ and an initial guess $u^{-}$, iterate until convergence:\n",
    "\n",
    "1. solve $A(u^{-})u^* = b(u^{-})$ with respect to $u^*$\n",
    "\n",
    "2. $u = \\omega u^* + (1-\\omega) u^{-}$\n",
    "\n",
    "3. $u^{-}\\ \\leftarrow\\ u$\n",
    "\n",
    "\n",
    "\n",
    "\"Until convergence\" means that the iteration is stopped when the\n",
    "change in the unknown, $||u - u^{-}||$, or the residual $||A(u)u-b||$,\n",
    "is sufficiently small, see the section [Stopping criteria](#nonlin:systems:alg:terminate) for\n",
    "more details.\n",
    "\n",
    "## Newton's method\n",
    "<div id=\"nonlin:systems:alg:Newton\"></div>\n",
    "\n",
    "\n",
    "The natural starting point for Newton's method is the general\n",
    "nonlinear vector equation $F(u)=0$.\n",
    "As for a scalar equation, the idea is to approximate $F$\n",
    "around a known value $u^{-}$ by a linear function $\\hat F$,\n",
    "calculated from the first two terms of a Taylor expansion of\n",
    "$F$. In the multi-variate case these two terms become"
   ]
  },
  {
   "cell_type": "markdown",
   "metadata": {},
   "source": [
    "$$\n",
    "F(u^{-}) + J(u^{-}) \\cdot (u - u^{-}),\n",
    "$$"
   ]
  },
  {
   "cell_type": "markdown",
   "metadata": {},
   "source": [
    "where $J$ is the *Jacobian* of $F$, defined by"
   ]
  },
  {
   "cell_type": "markdown",
   "metadata": {},
   "source": [
    "$$\n",
    "J_{i,j} = \\frac{\\partial F_i}{\\partial u_j}\\thinspace .\n",
    "$$"
   ]
  },
  {
   "cell_type": "markdown",
   "metadata": {},
   "source": [
    "So, the original nonlinear system is approximated by"
   ]
  },
  {
   "cell_type": "markdown",
   "metadata": {},
   "source": [
    "$$\n",
    "\\hat F(u) = F(u^{-}) + J(u^{-}) \\cdot (u - u^{-})=0,\n",
    "$$"
   ]
  },
  {
   "cell_type": "markdown",
   "metadata": {},
   "source": [
    "which is linear in $u$ and can be solved in a two-step procedure:\n",
    "first solve $J\\delta u = -F(u^{-})$ with respect to the vector $\\delta u$\n",
    "and then update $u = u^{-} + \\delta u$.\n",
    "A relaxation parameter can easily be incorporated:"
   ]
  },
  {
   "cell_type": "markdown",
   "metadata": {},
   "source": [
    "$$\n",
    "u = \\omega(u^{-} +\\delta u)\n",
    "+ (1-\\omega)u^{-} = u^{-}  + \\omega\\delta u\\thinspace .\n",
    "$$"
   ]
  },
  {
   "cell_type": "markdown",
   "metadata": {},
   "source": [
    "**Algorithm for Newton's method.**\n",
    "\n",
    "Given $F(u)=0$ and an initial guess $u^{-}$, iterate until convergence:\n",
    "\n",
    "1. solve $J\\delta u = -F(u^{-})$ with respect to $\\delta u$\n",
    "\n",
    "2. $u = u^{-} + \\omega\\delta u$\n",
    "\n",
    "3. $u^{-}\\ \\leftarrow\\ u$\n",
    "\n",
    "\n",
    "\n",
    "For the special system with structure $A(u)u=b(u)$,"
   ]
  },
  {
   "cell_type": "markdown",
   "metadata": {},
   "source": [
    "$$\n",
    "F_i = \\sum_k A_{i,k}(u)u_k - b_i(u),\n",
    "$$"
   ]
  },
  {
   "cell_type": "markdown",
   "metadata": {},
   "source": [
    "one gets"
   ]
  },
  {
   "cell_type": "markdown",
   "metadata": {},
   "source": [
    "<!-- Equation labels as ordinary links -->\n",
    "<div id=\"_auto6\"></div>\n",
    "\n",
    "$$\n",
    "\\begin{equation}\n",
    "J_{i,j} = \\sum_k \\frac{\\partial A_{i,k}}{\\partial u_j}u_k\n",
    "+ A_{i,j} -\n",
    "\\frac{\\partial b_i}{\\partial u_j}\\thinspace .\n",
    "\\label{_auto6} \\tag{20}\n",
    "\\end{equation}\n",
    "$$"
   ]
  },
  {
   "cell_type": "markdown",
   "metadata": {},
   "source": [
    "We realize that the Jacobian needed in Newton's method consists of\n",
    "$A(u^{-})$ as in the Picard iteration plus two additional terms\n",
    "arising from the differentiation. Using the notation $A^{\\prime}(u)$ for\n",
    "$\\partial A/\\partial u$ (a quantity with three indices: $\\partial\n",
    "A_{i,k}/\\partial u_j$), and $b^{\\prime}(u)$ for $\\partial b/\\partial u$ (a\n",
    "quantity with two indices: $\\partial b_i/\\partial u_j$), we can write\n",
    "the linear system to be solved as"
   ]
  },
  {
   "cell_type": "markdown",
   "metadata": {},
   "source": [
    "$$\n",
    "(A + A^{\\prime}u + b^{\\prime})\\delta u = -Au + b,\n",
    "$$"
   ]
  },
  {
   "cell_type": "markdown",
   "metadata": {},
   "source": [
    "or"
   ]
  },
  {
   "cell_type": "markdown",
   "metadata": {},
   "source": [
    "$$\n",
    "(A(u^{-}) + A^{\\prime}(u^{-})u^{-} + b^{\\prime}(u^{-}))\\delta u\n",
    "= -A(u^{-})u^{-} + b(u^{-})\\thinspace .\n",
    "$$"
   ]
  },
  {
   "cell_type": "markdown",
   "metadata": {},
   "source": [
    "Rearranging the terms demonstrates the difference from the system\n",
    "solved in each Picard iteration:"
   ]
  },
  {
   "cell_type": "markdown",
   "metadata": {},
   "source": [
    "$$\n",
    "\\underbrace{A(u^{-})(u^{-}+\\delta u) - b(u^{-})}_{\\hbox{Picard system}}\n",
    "+\\, \\gamma (A^{\\prime}(u^{-})u^{-} + b^{\\prime}(u^{-}))\\delta u\n",
    "= 0\\thinspace .\n",
    "$$"
   ]
  },
  {
   "cell_type": "markdown",
   "metadata": {},
   "source": [
    "Here we have inserted a parameter $\\gamma$ such that $\\gamma=0$\n",
    "gives the Picard system and $\\gamma=1$ gives the Newton system.\n",
    "Such a parameter can be handy in software to easily switch between\n",
    "the methods.\n",
    "\n",
    "**Combined algorithm for Picard and Newton iteration.**\n",
    "\n",
    "Given $A(u)$, $b(u)$, and an initial guess $u^{-}$, iterate until convergence:\n",
    "\n",
    "1. solve $(A + \\gamma(A^{\\prime}(u^{-})u^{-} +\n",
    "   b^{\\prime}(u^{-})))\\delta u = -A(u^{-})u^{-} + b(u^{-})$\n",
    "   with respect to $\\delta u$\n",
    "\n",
    "2. $u = u^{-} + \\omega\\delta u$\n",
    "\n",
    "3. $u^{-}\\ \\leftarrow\\ u$\n",
    "\n",
    "$\\gamma =1$ gives a Newton method while $\\gamma =0$ corresponds to\n",
    "Picard iteration.\n",
    "\n",
    "\n",
    "\n",
    "## Stopping criteria\n",
    "<div id=\"nonlin:systems:alg:terminate\"></div>\n",
    "\n",
    "\n",
    "Let $||\\cdot||$ be the standard Euclidean vector norm. Four termination\n",
    "criteria are much in use:\n",
    "\n",
    " * Absolute change in solution: $||u - u^{-}||\\leq \\epsilon_u$\n",
    "\n",
    " * Relative change in solution: $||u - u^{-}||\\leq \\epsilon_u ||u_0||$,\n",
    "   where $u_0$ denotes the start value of $u^{-}$ in the iteration\n",
    "\n",
    " * Absolute residual: $||F(u)|| \\leq \\epsilon_r$\n",
    "\n",
    " * Relative residual: $||F(u)|| \\leq \\epsilon_r ||F(u_0)||$\n",
    "\n",
    "To prevent divergent iterations to run forever,\n",
    "one terminates the iterations when\n",
    "the current number of iterations $k$ exceeds a maximum value $k_{\\max}$.\n",
    "\n",
    "The relative criteria are most used since they are not sensitive to\n",
    "the characteristic size of $u$. Nevertheless, the relative criteria\n",
    "can be misleading when the initial start value for the iteration is\n",
    "very close to the solution, since an unnecessary reduction in\n",
    "the error measure is enforced. In such cases the absolute criteria\n",
    "work better. mathcal{I}_t is common to combine the absolute and relative measures\n",
    "of the size of the residual,\n",
    "as in"
   ]
  },
  {
   "cell_type": "markdown",
   "metadata": {},
   "source": [
    "<!-- Equation labels as ordinary links -->\n",
    "<div id=\"_auto7\"></div>\n",
    "\n",
    "$$\n",
    "\\begin{equation}\n",
    "||F(u)|| \\leq \\epsilon_{rr} ||F(u_0)|| + \\epsilon_{ra},\n",
    "\\label{_auto7} \\tag{21}\n",
    "\\end{equation}\n",
    "$$"
   ]
  },
  {
   "cell_type": "markdown",
   "metadata": {},
   "source": [
    "where $\\epsilon_{rr}$ is the tolerance in the relative criterion\n",
    "and $\\epsilon_{ra}$ is the tolerance in the absolute criterion.\n",
    "With a very good initial guess for the iteration\n",
    "(typically the solution of a differential\n",
    "equation at the previous time level), the term $||F(u_0)||$ is small\n",
    "and $\\epsilon_{ra}$ is the dominating tolerance. Otherwise,\n",
    "$\\epsilon_{rr} ||F(u_0)||$ and the relative criterion dominates.\n",
    "\n",
    "With the change in solution as criterion we can formulate a combined\n",
    "absolute and relative measure of the change in the solution:"
   ]
  },
  {
   "cell_type": "markdown",
   "metadata": {},
   "source": [
    "<!-- Equation labels as ordinary links -->\n",
    "<div id=\"_auto8\"></div>\n",
    "\n",
    "$$\n",
    "\\begin{equation}\n",
    "||\\delta u|| \\leq \\epsilon_{ur} ||u_0|| + \\epsilon_{ua},\n",
    "\\label{_auto8} \\tag{22}\n",
    "\\end{equation}\n",
    "$$"
   ]
  },
  {
   "cell_type": "markdown",
   "metadata": {},
   "source": [
    "The ultimate termination criterion, combining the residual and\n",
    "the change in solution with a test on the maximum number\n",
    "of iterations, can be expressed as"
   ]
  },
  {
   "cell_type": "markdown",
   "metadata": {},
   "source": [
    "<!-- Equation labels as ordinary links -->\n",
    "<div id=\"_auto9\"></div>\n",
    "\n",
    "$$\n",
    "\\begin{equation}\n",
    "||F(u)|| \\leq \\epsilon_{rr} ||F(u_0)|| + \\epsilon_{ra}\n",
    "\\quad\\hbox{or}\\quad\n",
    "||\\delta u|| \\leq \\epsilon_{ur} ||u_0|| + \\epsilon_{ua}\n",
    "\\quad\\hbox{or}\\quad\n",
    "k>k_{\\max}\\thinspace .\n",
    "\\label{_auto9} \\tag{23}\n",
    "\\end{equation}\n",
    "$$"
   ]
  },
  {
   "cell_type": "markdown",
   "metadata": {},
   "source": [
    "## Example: A nonlinear ODE model from epidemiology\n",
    "<div id=\"nonlin:systems:alg:SI\"></div>\n",
    "\n",
    "A very simple model for the spreading of a disease, such as a flu, takes\n",
    "the form of a $2\\times 2$ ODE system"
   ]
  },
  {
   "cell_type": "markdown",
   "metadata": {},
   "source": [
    "<!-- Equation labels as ordinary links -->\n",
    "<div id=\"_auto10\"></div>\n",
    "\n",
    "$$\n",
    "\\begin{equation}\n",
    "S^{\\prime} = -\\beta SI,\n",
    "\\label{_auto10} \\tag{24}\n",
    "\\end{equation}\n",
    "$$"
   ]
  },
  {
   "cell_type": "markdown",
   "metadata": {},
   "source": [
    "<!-- Equation labels as ordinary links -->\n",
    "<div id=\"_auto11\"></div>\n",
    "\n",
    "$$\n",
    "\\begin{equation} \n",
    "I^{\\prime} = \\beta SI - \\nu I,\n",
    "\\label{_auto11} \\tag{25}\n",
    "\\end{equation}\n",
    "$$"
   ]
  },
  {
   "cell_type": "markdown",
   "metadata": {},
   "source": [
    "where $S(t)$ is the number of people who can get ill (susceptibles)\n",
    "and $I(t)$ is the number of people who are ill (infected).\n",
    "The constants $\\beta >0$ and $\\nu >0$ must be given along with\n",
    "initial conditions $S(0)$ and $I(0)$.\n",
    "\n",
    "### Implicit time discretization\n",
    "\n",
    "A Crank-Nicolson scheme leads to a $2\\times 2$ system of nonlinear\n",
    "algebraic equations in the unknowns $S^{n+1}$ and $I^{n+1}$:"
   ]
  },
  {
   "cell_type": "markdown",
   "metadata": {},
   "source": [
    "<!-- Equation labels as ordinary links -->\n",
    "<div id=\"_auto12\"></div>\n",
    "\n",
    "$$\n",
    "\\begin{equation}\n",
    "\\frac{S^{n+1}-S^n}{\\Delta t} = -\\beta [SI]^{n+\\frac{1}{2}}\n",
    "\\approx -\\frac{\\beta}{2}(S^nI^n + S^{n+1}I^{n+1}),\n",
    "\\label{_auto12} \\tag{26}\n",
    "\\end{equation}\n",
    "$$"
   ]
  },
  {
   "cell_type": "markdown",
   "metadata": {},
   "source": [
    "<!-- Equation labels as ordinary links -->\n",
    "<div id=\"_auto13\"></div>\n",
    "\n",
    "$$\n",
    "\\begin{equation} \n",
    "\\frac{I^{n+1}-I^n}{\\Delta t} = \\beta [SI]^{n+\\frac{1}{2}} -\n",
    "\\nu I^{n+\\frac{1}{2}}\n",
    "\\approx \\frac{\\beta}{2}(S^nI^n + S^{n+1}I^{n+1}) -\n",
    "\\frac{\\nu}{2}(I^n + I^{n+1})\\thinspace .\n",
    "\\label{_auto13} \\tag{27}\n",
    "\\end{equation}\n",
    "$$"
   ]
  },
  {
   "cell_type": "markdown",
   "metadata": {},
   "source": [
    "Introducing $S$ for $S^{n+1}$, $S^{(1)}$ for $S^n$, $I$ for $I^{n+1}$ and\n",
    "$I^{(1)}$ for $I^n$, we can rewrite the system as"
   ]
  },
  {
   "cell_type": "markdown",
   "metadata": {},
   "source": [
    "<!-- Equation labels as ordinary links -->\n",
    "<div id=\"nonlin:systems:alg:SI:CN:FS\"></div>\n",
    "\n",
    "$$\n",
    "\\begin{equation}\n",
    "F_S(S,I) = S - S^{(1)} +\n",
    "\\frac{1}{2}\\Delta t\\beta(S^{(1)}I^{(1)} + SI) = 0,\n",
    "\\label{nonlin:systems:alg:SI:CN:FS} \\tag{28}\n",
    "\\end{equation}\n",
    "$$"
   ]
  },
  {
   "cell_type": "markdown",
   "metadata": {},
   "source": [
    "<!-- Equation labels as ordinary links -->\n",
    "<div id=\"nonlin:systems:alg:SI:CN:FI\"></div>\n",
    "\n",
    "$$\n",
    "\\begin{equation} \n",
    "F_I(S,I) = I - I^{(1)} -\n",
    "\\frac{1}{2}\\Delta t\\beta(S^{(1)}I^{(1)} + SI) +\n",
    "\\frac{1}{2}\\Delta t\\nu(I^{(1)} + I) =0\\thinspace .\n",
    "\\label{nonlin:systems:alg:SI:CN:FI} \\tag{29}\n",
    "\\end{equation}\n",
    "$$"
   ]
  },
  {
   "cell_type": "markdown",
   "metadata": {},
   "source": [
    "### A Picard iteration\n",
    "\n",
    "We assume that we have approximations $S^{-}$ and $I^{-}$ to $S$ and\n",
    "$I$, respectively.  A way of linearizing the only nonlinear term $SI$\n",
    "is to write $I^{-}S$ in the $F_S=0$ equation and $S^{-}I$ in the\n",
    "$F_I=0$ equation, which also *decouples* the equations.  Solving the\n",
    "resulting linear equations with respect to the unknowns $S$ and $I$\n",
    "gives"
   ]
  },
  {
   "cell_type": "markdown",
   "metadata": {},
   "source": [
    "$$\n",
    "\\begin{align*}\n",
    "S &= \\frac{S^{(1)} - \\frac{1}{2}\\Delta t\\beta S^{(1)}I^{(1)}}\n",
    "{1 + \\frac{1}{2}\\Delta t\\beta I^{-}},\n",
    "\\\\\n",
    "I &= \\frac{I^{(1)} + \\frac{1}{2}\\Delta t\\beta S^{(1)}I^{(1)} - \\frac{1}{2}\\Delta t\\nu I^{(1)}}\n",
    "{1 - \\frac{1}{2}\\Delta t\\beta S^{-} + \\frac{1}{2}\\Delta t \\nu}\\thinspace .\n",
    "\\end{align*}\n",
    "$$"
   ]
  },
  {
   "cell_type": "markdown",
   "metadata": {},
   "source": [
    "Before a new iteration, we must update $S^{-}\\ \\leftarrow\\ S$ and\n",
    "$I^{-}\\ \\leftarrow\\ I$.\n",
    "\n",
    "### Newton's method\n",
    "\n",
    "The nonlinear system\n",
    "([28](#nonlin:systems:alg:SI:CN:FS))-([29](#nonlin:systems:alg:SI:CN:FI))\n",
    "can be written as $F(u)=0$ with $F=(F_S,F_I)$ and $u=(S,I)$.  The\n",
    "Jacobian becomes"
   ]
  },
  {
   "cell_type": "markdown",
   "metadata": {},
   "source": [
    "$$\n",
    "J = \\left(\\begin{array}{cc}\n",
    "\\frac{\\partial}{\\partial S} F_S & \\frac{\\partial}{\\partial I}F_S\\\\\n",
    "\\frac{\\partial}{\\partial S} F_I & \\frac{\\partial}{\\partial I}F_I\n",
    "\\end{array}\\right)\n",
    "= \\left(\\begin{array}{cc}\n",
    "1 + \\frac{1}{2}\\Delta t\\beta I & \\frac{1}{2}\\Delta t\\beta S\\\\\n",
    "- \\frac{1}{2}\\Delta t\\beta I & 1 - \\frac{1}{2}\\Delta t\\beta S +\n",
    "\\frac{1}{2}\\Delta t\\nu\n",
    "\\end{array}\\right)\n",
    "\\thinspace .\n",
    "$$"
   ]
  },
  {
   "cell_type": "markdown",
   "metadata": {},
   "source": [
    "The Newton system $J(u^{-})\\delta u = -F(u^{-})$\n",
    "to be solved in each iteration is then"
   ]
  },
  {
   "cell_type": "markdown",
   "metadata": {},
   "source": [
    "$$\n",
    "\\begin{align*}\n",
    "&\n",
    "\\left(\\begin{array}{cc}\n",
    "1 + \\frac{1}{2}\\Delta t\\beta I^{-} & \\frac{1}{2}\\Delta t\\beta S^{-}\\\\\n",
    "- \\frac{1}{2}\\Delta t\\beta I^{-} & 1 - \\frac{1}{2}\\Delta t\\beta S^{-} +\n",
    "\\frac{1}{2}\\Delta t\\nu\n",
    "\\end{array}\\right)\n",
    "\\left(\\begin{array}{c}\n",
    "\\delta S\\\\\n",
    "\\delta I\n",
    "\\end{array}\\right)\n",
    "=\\\\\n",
    "& \\qquad\\qquad\n",
    "\\left(\\begin{array}{c}\n",
    "S^{-} - S^{(1)} + \\frac{1}{2}\\Delta t\\beta(S^{(1)}I^{(1)} + S^{-}I^{-})\\\\\n",
    "I^{-} - I^{(1)} - \\frac{1}{2}\\Delta t\\beta(S^{(1)}I^{(1)} + S^{-}I^{-}) +\n",
    "\\frac{1}{2}\\Delta t\\nu(I^{(1)} + I^{-})\n",
    "\\end{array}\\right)\n",
    "\\end{align*}\n",
    "$$"
   ]
  },
  {
   "cell_type": "markdown",
   "metadata": {},
   "source": [
    "**Remark.**\n",
    "For this particular system of ODEs, explicit time integration methods work very\n",
    "well. Even a Forward Euler scheme is fine, but (as also experienced more\n",
    "generally)\n",
    "the 4-th order Runge-Kutta method is an excellent\n",
    "balance between high accuracy, high efficiency, and simplicity."
   ]
  }
 ],
 "metadata": {},
 "nbformat": 4,
 "nbformat_minor": 4
}
