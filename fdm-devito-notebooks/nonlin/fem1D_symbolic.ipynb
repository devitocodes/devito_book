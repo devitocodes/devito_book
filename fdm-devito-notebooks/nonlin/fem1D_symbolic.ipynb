{
 "cells": [
  {
   "cell_type": "markdown",
   "metadata": {},
   "source": [
    "The integrals in nonlinear finite element equations are computed\n",
    "by numerical integration rules in computer programs, so the\n",
    "formulas for the variational form is directly transferred to numbers.\n",
    "It is of interest to understand the nature of the system of difference equations\n",
    "that arises from the finite element method in nonlinear problems and\n",
    "to compare with corresponding expressions arising from finite difference\n",
    "discretization. We shall dive into this problem here. To see the\n",
    "structure of the difference equations implied by the finite element method,\n",
    "we have to find symbolic expressions for the integrals, and this is\n",
    "extremely difficult since the integrals involve the unknown function\n",
    "in nonlinear problems. However, there are some techniques that allow\n",
    "us to approximate the integrals and work out symbolic formulas that\n",
    "can compared with their finite difference counterparts.\n",
    "\n",
    "We shall address the 1D model problem ([nonlin:alglevel:1D:pde](#nonlin:alglevel:1D:pde)) from\n",
    "the beginning of the section [nonlin:alglevel:1D](#nonlin:alglevel:1D).\n",
    "The finite difference discretization is shown in the section [nonlin:alglevel:1D:fd](#nonlin:alglevel:1D:fd), while the variational form based on\n",
    "Galerkin's method is developed in the section [nonlin:alglevel:1D:fe](#nonlin:alglevel:1D:fe).\n",
    "We build directly on formulas developed in the latter section.\n",
    "\n",
    "## Finite element basis functions\n",
    "<div id=\"nonlin:alglevel:1D:fe_basis\"></div>\n",
    "\n",
    "Introduction of finite element basis functions $\\basphi_i$ means setting"
   ]
  },
  {
   "cell_type": "markdown",
   "metadata": {},
   "source": [
    "$$\n",
    "\\baspsi_i = \\basphi_{\\nu(i)},\\quad i\\in\\If,\n",
    "$$"
   ]
  },
  {
   "cell_type": "markdown",
   "metadata": {},
   "source": [
    "where degree of freedom number $\\nu(i)$ in the mesh corresponds to\n",
    "unknown number $i$ ($c_i$).\n",
    "In the present example, we use all the basis functions except the\n",
    "last at $i=N_n-1$, i.e., $\\If = \\{0,\\ldots,N_n-2\\}$, and $\\nu(j)=j$.\n",
    "The expansion of $u$ can be taken as"
   ]
  },
  {
   "cell_type": "markdown",
   "metadata": {},
   "source": [
    "$$\n",
    "u = D + \\sum_{j\\in\\If} c_j\\basphi_{\\nu(j)},\n",
    "$$"
   ]
  },
  {
   "cell_type": "markdown",
   "metadata": {},
   "source": [
    "but it is more common in a finite element context to use a boundary\n",
    "function $B=\\sum_{j\\in\\Ifb}U_j\\basphi_j$, where $U_j$ are prescribed\n",
    "Dirichlet conditions for degree of freedom number $j$ and $U_j$ is\n",
    "the corresponding value."
   ]
  },
  {
   "cell_type": "markdown",
   "metadata": {},
   "source": [
    "$$\n",
    "u = D\\basphi_{N_n-1} + \\sum_{j\\in\\If} c_j\\basphi_{\\nu(j)}\\tp\n",
    "$$"
   ]
  },
  {
   "cell_type": "markdown",
   "metadata": {},
   "source": [
    "In the general case with $u$ prescribed as $U_j$ at some nodes $j\\in\\Ifb$,\n",
    "we set"
   ]
  },
  {
   "cell_type": "markdown",
   "metadata": {},
   "source": [
    "$$\n",
    "u = \\sum_{j\\in\\Ifb} U_j\\basphi_j +\n",
    "\\sum_{j\\in\\If}c_j\\basphi_{\\nu(j)},\n",
    "$$"
   ]
  },
  {
   "cell_type": "markdown",
   "metadata": {},
   "source": [
    "where $c_j = u(x^{\\nu(j)})$. That is, $\\nu(j)$ maps unknown number $j$ to\n",
    "the corresponding node number $\\nu(j)$ such that $c_j = u(x^{\\nu(j)})$.\n",
    "\n",
    "\n",
    "## The group finite element method\n",
    "<div id=\"nonlin:alglevel:1D:fe:group\"></div>\n",
    "\n",
    "### Finite element approximation of functions of $u$\n",
    "\n",
    "Since we already expand $u$ as $\\sum_j\\basphi_j u(\\xno{j})$, we may use the\n",
    "same approximation for other functions as well. For example,"
   ]
  },
  {
   "cell_type": "markdown",
   "metadata": {},
   "source": [
    "$$\n",
    "f(u)\\approx \\sum_{j} f(\\xno{j})\\basphi_j,\n",
    "$$"
   ]
  },
  {
   "cell_type": "markdown",
   "metadata": {},
   "source": [
    "where $f(\\xno{j})$ is the value of $f$ at node $j$. Since $f$ is a function\n",
    "of $u$, $f(\\xno{j})=f(u(\\xno{j}))$. Introducing\n",
    "$u_j$ as a short form for $u(\\xno{j})$, we can write"
   ]
  },
  {
   "cell_type": "markdown",
   "metadata": {},
   "source": [
    "$$\n",
    "f(u)\\approx \\sum_{j} f(u_{j})\\basphi_j\\tp\n",
    "$$"
   ]
  },
  {
   "cell_type": "markdown",
   "metadata": {},
   "source": [
    "This approximation is known as the *group finite element method*\n",
    "or the *product approximation* technique. The index $j$ runs over\n",
    "all node numbers in the mesh.\n",
    "\n",
    "The principal advantages of the group finite element method are two-fold:\n",
    "\n",
    "1. Complicated nonlinear expressions can be simplified to increase\n",
    "   the efficiency of numerical computations.\n",
    "\n",
    "2. One can derive *symbolic forms* of the difference equations arising\n",
    "   from the finite element method in nonlinear problems.\n",
    "   The symbolic form is useful for comparing finite element and finite\n",
    "   difference equations of nonlinear differential equation problems.\n",
    "\n",
    "Below, we shall explore point 2 to see exactly how the finite element\n",
    "method creates more complex expressions in the resulting\n",
    "linear system (the difference equations) that the finite difference\n",
    "method does. It turns out that is very difficult to see\n",
    "what kind of terms in the difference equations that arise from\n",
    "$\\int f(u)\\basphi_i\\dx$ without using the group finite element\n",
    "method or numerical integration utilizing the nodes only.\n",
    "\n",
    "Note, however, that an expression like $\\int f(u)\\basphi_i\\dx$ causes\n",
    "no problems in a computer program as the integral is calculated by\n",
    "numerical integration using an existing approximation of $u$ in\n",
    "$f(u)$ such that the integrand can be sampled at any spatial point.\n",
    "\n",
    "### Simplified problem\n",
    "\n",
    "Our aim now is to derive symbolic expressions for the difference\n",
    "equations arising from the finite element method in nonlinear\n",
    "problems and compare the expressions with those arising in the\n",
    "finite difference method. To this end,\n",
    "let us simplify the model problem and set $a=0$, $\\dfc=1$,\n",
    "$f(u)=u^2$, and have Neumann conditions at both ends such that we\n",
    "get a very simple nonlinear problem $-u^{\\prime\\prime}=u^2$,\n",
    "$u'(0)=1$, $u'(L)=0$.\n",
    "The variational form is then"
   ]
  },
  {
   "cell_type": "markdown",
   "metadata": {},
   "source": [
    "$$\n",
    "\\int_0^L u^{\\prime}v^{\\prime}\\dx = \\int_0^L u^2v\\dx\n",
    "- v(0),\\quad\\forall v\\in V\\tp\n",
    "$$"
   ]
  },
  {
   "cell_type": "markdown",
   "metadata": {},
   "source": [
    "The term with $u^{\\prime}v^{\\prime}$ is well known so the only new feature is\n",
    "the term $\\int u^2v\\dx$.\n",
    "\n",
    "To make the distance from finite element equations to finite\n",
    "difference equations as short as possible, we shall substitute $c_j$\n",
    "in the sum $u=\\sum_jc_j\\basphi_j$ by $u_j=u(\\xno{j})$ since $c_j$ is\n",
    "the value of $u$ at node $j$. (In the more general case\n",
    "with Dirichlet conditions as well, we have a sum\n",
    "$\\sum_jc_j\\basphi_{\\nu(j)}$ where $c_j$ is replaced by $u(\\xno{\\nu(j)})$.\n",
    "We can then introduce some other counter $k$ such that it is\n",
    "meaningful to write $u=\\sum_k u_k\\basphi_k$, where $k$ runs over appropriate\n",
    "node numbers.)\n",
    "The quantity $u_j$ in $\\sum_ju_j\\basphi_j$\n",
    "is the same as $u$ at mesh point number $j$\n",
    "in the finite difference method, which is commonly denoted $u_j$.\n",
    "\n",
    "### Integrating nonlinear functions\n",
    "\n",
    "Consider the term $\\int u^2v\\dx$ in the variational formulation\n",
    "with $v=\\basphi_i$ and $u=\\sum_k\\basphi_ku_k$:"
   ]
  },
  {
   "cell_type": "markdown",
   "metadata": {},
   "source": [
    "$$\n",
    "\\int_0^L (\\sum_ku_k\\basphi_k)^2\\basphi_i\\dx\\tp\n",
    "$$"
   ]
  },
  {
   "cell_type": "markdown",
   "metadata": {},
   "source": [
    "Evaluating this integral for P1 elements (see [nonlin:exer:fu:fem:int](#nonlin:exer:fu:fem:int)) results in the expression"
   ]
  },
  {
   "cell_type": "markdown",
   "metadata": {},
   "source": [
    "$$\n",
    "\\frac{h}{12}(u_{i-1}^2 + 2u_i(u_{i-1} + u_{i+1}) + 6u_i^2\n",
    "+ u_{i+1}^2),\n",
    "$$"
   ]
  },
  {
   "cell_type": "markdown",
   "metadata": {},
   "source": [
    "to be compared with the simple value $u_i^2$ that would arise in\n",
    "a finite difference discretization when $u^2$ is sampled at\n",
    "mesh point $x_i$. More complicated $f(u)$ functions\n",
    "in the integral $\\int_0^L f(u)\\basphi_i\\dx$\n",
    "give rise to much more lengthy expressions, if it is possible to\n",
    "carry out the integral symbolically at all.\n",
    "\n",
    "\n",
    "\n",
    "### Application of the group finite element method\n",
    "\n",
    "Let us use the group finite element method to derive the terms in\n",
    "the difference equation corresponding to $f(u)$ in the differential\n",
    "equation. We have"
   ]
  },
  {
   "cell_type": "markdown",
   "metadata": {},
   "source": [
    "$$\n",
    "\\int_0^L f(u)\\basphi_i\\dx \\approx\n",
    "\\int_0^L (\\sum_j \\basphi_jf(u_j))\\basphi_i\\dx\n",
    "= \\sum_j \\left(\\int_0^L \\basphi_i\\basphi_j\\dx\\right) f(u_j)\\tp\n",
    "$$"
   ]
  },
  {
   "cell_type": "markdown",
   "metadata": {},
   "source": [
    "We recognize this expression as the mass matrix $M$, arising from\n",
    "$\\int\\basphi_i\\basphi_j\\dx$, times the\n",
    "vector $f=(f(u_0),f(u_1),\\ldots,)$: $Mf$. The associated terms\n",
    "in the difference equations are, for P1 elements,"
   ]
  },
  {
   "cell_type": "markdown",
   "metadata": {},
   "source": [
    "$$\n",
    "\\frac{h}{6}(f(u_{i-1}) + 4f(u_i) + f(u_{i+1}))\\tp\n",
    "$$"
   ]
  },
  {
   "cell_type": "markdown",
   "metadata": {},
   "source": [
    "Occasionally, we want to interpret this expression in terms of finite\n",
    "differences, and to this end a rewrite of this expression is convenient:"
   ]
  },
  {
   "cell_type": "markdown",
   "metadata": {},
   "source": [
    "$$\n",
    "\\frac{h}{6}(f(u_{i-1}) + 4f(u_i) + f(u_{i+1}))\n",
    "= h[f(u) - \\frac{h^2}{6}D_xD_x f(u)]_i\\tp\n",
    "$$"
   ]
  },
  {
   "cell_type": "markdown",
   "metadata": {},
   "source": [
    "That is, the finite element treatment of $f(u)$ (when using a group\n",
    "finite element method) gives the same term as in a finite difference\n",
    "approach, $f(u_i)$, minus a diffusion term which is the\n",
    "2nd-order discretization of $\\frac{1}{6}h^2f''(x_i)$.\n",
    "\n",
    "We may lump the mass matrix through integration with the Trapezoidal\n",
    "rule so that $M$ becomes diagonal in the finite element method.\n",
    "In that case the $f(u)$ term in the differential equation\n",
    "gives rise to a single term $hf(u_i)$, just as in the finite difference\n",
    "method.\n",
    "\n",
    "\n",
    "## Numerical integration of nonlinear terms by hand\n",
    "<div id=\"nonlin:alglevel:1D:fe:f\"></div>\n",
    "\n",
    "Let us reconsider a term $\\int f(u)v\\dx$ as treated in the previous\n",
    "section, but now we want to integrate this term numerically.\n",
    "Such an approach can lead to easy-to-interpret formulas if we apply\n",
    "a numerical integration rule that samples the integrand at the node\n",
    "points $\\xno{i}$ only, because at such points, $\\basphi_j(\\xno{i})=0$\n",
    "if $j\\neq i$, which leads to great simplifications.\n",
    "\n",
    "The term in question takes the form"
   ]
  },
  {
   "cell_type": "markdown",
   "metadata": {},
   "source": [
    "$$\n",
    "\\int_0^L f(\\sum_k u_k\\basphi_k)\\basphi_i\\dx\\tp\n",
    "$$"
   ]
  },
  {
   "cell_type": "markdown",
   "metadata": {},
   "source": [
    "Evaluation of the integrand at a node $\\xno{\\ell}$ leads to a\n",
    "collapse of the sum $\\sum_k u_k\\basphi_k$ to one term because"
   ]
  },
  {
   "cell_type": "markdown",
   "metadata": {},
   "source": [
    "$$\n",
    "\\sum_k u_k\\basphi_k(\\xno{\\ell}) = u_\\ell\\tp\n",
    "$$"
   ]
  },
  {
   "cell_type": "markdown",
   "metadata": {},
   "source": [
    "$$\n",
    "f(\\sum_k u_k\\underbrace{\\basphi_k(\\xno{\\ell})}_{\\delta_{k\\ell}})\n",
    "\\underbrace{\\basphi_i(\\xno{\\ell})}_{\\delta_{i\\ell}}\n",
    "= f(u_\\ell)\\delta_{i\\ell},\n",
    "$$"
   ]
  },
  {
   "cell_type": "markdown",
   "metadata": {},
   "source": [
    "where we have used the Kronecker delta: $\\delta_{ij}=0$ if $i\\neq j$ and\n",
    "$\\delta_{ij}=1$ if $i=j$.\n",
    "\n",
    "Considering the Trapezoidal rule for integration, where the integration\n",
    "points are the nodes, we have"
   ]
  },
  {
   "cell_type": "markdown",
   "metadata": {},
   "source": [
    "$$\n",
    "\\int_0^L f(\\sum_k u_k\\basphi_k(x))\\basphi_i(x)\\dx\n",
    "\\approx h\\sum_{\\ell=0}^{N_n} f(u_\\ell)\\delta_{i\\ell} - \\mathcal{C}\n",
    "= hf(u_i)\\tp\n",
    "$$"
   ]
  },
  {
   "cell_type": "markdown",
   "metadata": {},
   "source": [
    "This is the same representation of the $f$ term as in the finite\n",
    "difference method.\n",
    "The term $\\mathcal{C}$ contains the evaluations of the integrand\n",
    "at the ends with weight $\\half$, needed to make a true Trapezoidal rule:"
   ]
  },
  {
   "cell_type": "markdown",
   "metadata": {},
   "source": [
    "$$\n",
    "\\mathcal{C} = \\frac{h}{2}f(u_0)\\basphi_i(0) + \\frac{h}{2}f(u_{N_n-1})\\basphi_i(L)\\tp\n",
    "$$"
   ]
  },
  {
   "cell_type": "markdown",
   "metadata": {},
   "source": [
    "The answer $hf(u_i)$ must therefore be multiplied by $\\half$ if\n",
    "$i=0$ or $i=N_n-1$. Note that $\\mathcal{C}=0$ for $i=1,\\ldots,N_n-2$.\n",
    "\n",
    "One can alternatively use the Trapezoidal rule on the reference cell and\n",
    "assemble the contributions. It is a bit more labor in this context,\n",
    "but working on the reference cell is safer as that approach is\n",
    "guaranteed to handle discontinuous derivatives of finite element\n",
    "functions correctly (not important in this particular example),\n",
    "while the rule above was derived with the\n",
    "assumption that $f$ is continuous at the integration points.\n",
    "\n",
    "The conclusion is that it suffices to use the Trapezoidal rule if\n",
    "one wants to derive the difference equations in the finite element\n",
    "method and make them similar to those arising in the finite difference\n",
    "method. The Trapezoidal rule has sufficient accuracy for P1 elements, but\n",
    "for P2 elements one should turn to Simpson's rule.\n",
    "\n",
    "## Finite element discretization of a variable coefficient Laplace term\n",
    "<div id=\"nonlin:alglevel:1D:fe:Laplace\"></div>\n",
    "\n",
    "Turning back to the model problem ([nonlin:alglevel:1D:pde](#nonlin:alglevel:1D:pde)), it\n",
    "remains to calculate the contribution of the $(\\dfc u^{\\prime})^{\\prime}$\n",
    "and boundary terms\n",
    "to the difference equations. The integral in the variational form\n",
    "corresponding to $(\\dfc u^{\\prime})^{\\prime}$ is"
   ]
  },
  {
   "cell_type": "markdown",
   "metadata": {},
   "source": [
    "$$\n",
    "\\int_0^L \\dfc(\\sum_k c_k\\baspsi_k)\\baspsi_i^{\\prime}\\baspsi_j^{\\prime}\\dx\\tp\n",
    "$$"
   ]
  },
  {
   "cell_type": "markdown",
   "metadata": {},
   "source": [
    "Numerical integration utilizing a value of $\\sum_k c_k\\baspsi_k$ from\n",
    "a previous iteration must in general be used to compute the integral.\n",
    "Now our aim is to integrate symbolically, as much as we can, to obtain\n",
    "some insight into how the finite element method approximates\n",
    "this term.\n",
    "To be able to derive symbolic expressions, we must either turn to\n",
    "the group finite element method or numerical integration in the\n",
    "node points. Finite element basis functions $\\basphi_i$ are now used.\n",
    "\n",
    "### Group finite element method\n",
    "\n",
    "We set $\\dfc(u)\\approx \\sum_k\\alpha(u_k)\\basphi_k$, and then\n",
    "we write"
   ]
  },
  {
   "cell_type": "markdown",
   "metadata": {},
   "source": [
    "$$\n",
    "\\int_0^L \\dfc(\\sum_k c_k\\basphi_k)\\basphi_i^{\\prime}\\basphi_j^{\\prime}\\dx\n",
    "\\approx\n",
    "\\sum_k (\\underbrace{\\int_0^L \\basphi_k\\basphi_i^{\\prime}\\basphi_j^{\\prime}\\dx}_{L_{i,j,k}})\n",
    "\\dfc(u_k) = \\sum_k L_{i,j,k}\\dfc(u_k)\\tp\n",
    "$$"
   ]
  },
  {
   "cell_type": "markdown",
   "metadata": {},
   "source": [
    "Further calculations are now easiest to carry out in the reference\n",
    "cell. With P1 elements we can compute\n",
    "$L_{i,j,k}$ for the two $k$ values that are relevant on the reference\n",
    "cell. Turning to local indices, one gets"
   ]
  },
  {
   "cell_type": "markdown",
   "metadata": {},
   "source": [
    "$$\n",
    "L_{r,s,t}^{(e)} =\n",
    "\\frac{1}{2h}\\left(\\begin{array}{rr}\n",
    "1 & -1\\\\\n",
    "-1 & 1\n",
    "\\end{array}\\right),\\quad t=0, 1,\n",
    "$$"
   ]
  },
  {
   "cell_type": "markdown",
   "metadata": {},
   "source": [
    "where $r,s,t=0,1$ are indices over local degrees of\n",
    "freedom in the reference cell\n",
    "($i=q(e,r)$, $j=q(e,s)$, and $k=q(e,t)$). The\n",
    "sum $\\sum_k L_{i,j,k}\\dfc(u_k)$ at the cell level becomes\n",
    "$\\sum_{t=0}^1 L_{r,s,t}^{(e)}\\dfc(\\tilde u_t)$, where $\\tilde u_t$\n",
    "is $u(\\xno{q(e,t)})$, i.e., the value of $u$ at local node number $t$ in\n",
    "cell number $e$. The element matrix becomes"
   ]
  },
  {
   "cell_type": "markdown",
   "metadata": {},
   "source": [
    "<!-- Equation labels as ordinary links -->\n",
    "<div id=\"nonlin:alglevel:1D:fe:Laplace:Ae\"></div>\n",
    "\n",
    "$$\n",
    "\\begin{equation}\n",
    "\\half (\\dfc(\\tilde u_0) + \\dfc(\\tilde u^{(1)}))\n",
    "\\frac{1}{h}\\left(\\begin{array}{rr}\n",
    "1 & -1\\\\\n",
    "-1 & 1\n",
    "\\end{array}\\right)\\tp\n",
    "\\label{nonlin:alglevel:1D:fe:Laplace:Ae} \\tag{1}\n",
    "\\end{equation}\n",
    "$$"
   ]
  },
  {
   "cell_type": "markdown",
   "metadata": {},
   "source": [
    "As usual, we employ\n",
    "a left-to-right numbering of cells and nodes.\n",
    "Row number $i$ in the global matrix gets contributions from\n",
    "the first row of the element matrix in cell $i$ and the last\n",
    "row of the element matrix in cell $i-1$.\n",
    "In cell number $i-1$ the sum\n",
    "$\\dfc(\\tilde u_0) + \\dfc(\\tilde u^{(1)})$ corresponds to\n",
    "$\\dfc(u_{i-1}) + \\dfc(u_i)$. The same sum becomes\n",
    "$\\dfc(u_{i}) + \\dfc(u_{i+1})$ in cell number $i$.\n",
    "We can with this insight assemble the contributions to row number $i$\n",
    "in the global matrix:"
   ]
  },
  {
   "cell_type": "markdown",
   "metadata": {},
   "source": [
    "$$\n",
    "\\frac{1}{2h}(-(\\dfc(u_{i-1}) + \\dfc(u_i)),\\quad\n",
    "\\dfc(u_{i-1}) + 2\\dfc(u_i) + \\dfc(u_{i+1}),\\quad\n",
    "\\dfc(u_{i}) + \\dfc(u_{i+1}))\\tp\n",
    "$$"
   ]
  },
  {
   "cell_type": "markdown",
   "metadata": {},
   "source": [
    "Multiplying by the vector of unknowns $u_i$ results in a formula that\n",
    "can be arranged to"
   ]
  },
  {
   "cell_type": "markdown",
   "metadata": {},
   "source": [
    "<!-- Equation labels as ordinary links -->\n",
    "<div id=\"nonlin:alglevel:1D:fe:Laplace:diffeq\"></div>\n",
    "\n",
    "$$\n",
    "\\begin{equation}\n",
    "-\\frac{1}{h}(\\half(\\dfc(u_i) + \\dfc(u_{i+1}))(u_{i+1}-u_i)\n",
    "-  \\half(\\dfc(u_{i-1}) + \\dfc(u_{i}))(u_{i}-u_{i-1})),\n",
    "\\label{nonlin:alglevel:1D:fe:Laplace:diffeq} \\tag{2}\n",
    "\\end{equation}\n",
    "$$"
   ]
  },
  {
   "cell_type": "markdown",
   "metadata": {},
   "source": [
    "which is nothing but the standard finite difference discretization\n",
    "of $-(\\dfc(u)u^{\\prime})^{\\prime}$ with an arithmetic mean of $\\dfc(u)$ (and\n",
    "the usual factor $h$ because of the integration in the finite element method).\n",
    "\n",
    "### Numerical integration at the nodes\n",
    "\n",
    "Instead of using the group finite element method and exact integration\n",
    "we can turn to the Trapezoidal rule for computing\n",
    "$\\int_0^L \\dfc(\\sum_k u_k\\basphi_k)\\basphi_i^{\\prime}\\basphi_j^{\\prime}\\dx$, again at\n",
    "the cell level since that is most convenient when we deal with discontinuous\n",
    "functions $\\basphi_i'$:"
   ]
  },
  {
   "cell_type": "markdown",
   "metadata": {},
   "source": [
    "$$\n",
    "\\int_{-1}^1 \\alpha(\\sum_t\\tilde u_t\\refphi_t)\\refphi_r'\\refphi_s'\\frac{h}{2}dX\n",
    "= \\int_{-1}^1 \\dfc(\\sum_{t=0}^1\n",
    "\\tilde u_t\\refphi_t)\\frac{2}{h}\\frac{d\\refphi_r}{dX}\n",
    "\\frac{2}{h}\\frac{d\\refphi_s}{dX}\\frac{h}{2}dX\\nonumber\n",
    "$$"
   ]
  },
  {
   "cell_type": "markdown",
   "metadata": {},
   "source": [
    "$$\n",
    "= \\frac{1}{2h}(-1)^r(-1)^s \\int_{-1}^1 \\dfc(\\sum_{t=0}^1 u_t\\refphi_t(X))dX\n",
    "\\nonumber\n",
    "$$"
   ]
  },
  {
   "cell_type": "markdown",
   "metadata": {},
   "source": [
    "$$\n",
    "\\approx \\frac{1}{2h}(-1)^r(-1)^s\\dfc (\n",
    "\\sum_{t=0}^1\\refphi_t(-1)\\tilde u_t) + \\dfc(\\sum_{t=0}^1\\refphi_t(1)\\tilde u_t)\n",
    "\\nonumber\n",
    "$$"
   ]
  },
  {
   "cell_type": "markdown",
   "metadata": {},
   "source": [
    "<!-- Equation labels as ordinary links -->\n",
    "<div id=\"nonlin:alglevel:1D:fe:Laplace:Ae:Trapez\"></div>\n",
    "\n",
    "$$\n",
    "\\begin{equation} \n",
    " = \\frac{1}{2h}(-1)^r(-1)^s(\\dfc(\\tilde u_0) + \\dfc(\\tilde u^{(1)}))\\tp\n",
    "\\label{nonlin:alglevel:1D:fe:Laplace:Ae:Trapez} \\tag{3}\n",
    "\\end{equation}\n",
    "$$"
   ]
  },
  {
   "cell_type": "markdown",
   "metadata": {},
   "source": [
    "The element matrix in ([3](#nonlin:alglevel:1D:fe:Laplace:Ae:Trapez))\n",
    "is identical to the one in\n",
    "([1](#nonlin:alglevel:1D:fe:Laplace:Ae)), showing that the\n",
    "group finite element method and Trapezoidal integration are\n",
    "equivalent with a standard finite discretization of a\n",
    "nonlinear Laplace term $(\\dfc(u)u^{\\prime})^{\\prime}$ using an arithmetic mean for\n",
    "$\\dfc$: $[D_x\\overline{x}D_xu]_i$.\n",
    "\n",
    "**Remark about integration in the physical $x$ coordinate.**\n",
    "\n",
    "We might comment on integration in the physical coordinate system too.\n",
    "The common Trapezoidal rule in the section [Numerical integration of nonlinear terms by hand](#nonlin:alglevel:1D:fe:f)\n",
    "cannot be used to integrate derivatives like $\\basphi_i^{\\prime}$, because\n",
    "the formula is derived under the assumption of a continuous integrand.\n",
    "One must instead use the more basic version of the Trapezoidal rule\n",
    "where all the trapezoids are summed up. This is straightforward, but\n",
    "I think it is even more straightforward to apply the Trapezoidal\n",
    "rule on the reference cell and assemble the contributions.\n",
    "\n",
    "\n",
    "\n",
    "The term $\\int auv\\dx$ in the variational form is linear and gives\n",
    "these terms in the algebraic equations:"
   ]
  },
  {
   "cell_type": "markdown",
   "metadata": {},
   "source": [
    "$$\n",
    "\\frac{ah}{6}(u_{i-1} + 4u_i + u_{i+1})\n",
    "= ah[u - \\frac{h^2}{6}D_xD_x u]_i\\tp\n",
    "$$"
   ]
  },
  {
   "cell_type": "markdown",
   "metadata": {},
   "source": [
    "The final term in the variational form is the Neumann condition\n",
    "at the boundary: $Cv(0)=C\\basphi_i(0)$. With a left-to-right numbering\n",
    "only $i=0$ will give a contribution $Cv(0)=C\\delta_{i0}$ (since\n",
    "$\\basphi_i(0)\\neq 0$ only for $i=0$).\n",
    "\n",
    "**Summary.**\n",
    "\n",
    "For the equation"
   ]
  },
  {
   "cell_type": "markdown",
   "metadata": {},
   "source": [
    "$$\n",
    "-(\\dfc(u)u^{\\prime})^{\\prime} +au = f(u),\n",
    "$$"
   ]
  },
  {
   "cell_type": "markdown",
   "metadata": {},
   "source": [
    "P1 finite elements results in difference equations where\n",
    "\n",
    " * the term $-(\\dfc(u)u^{\\prime})^{\\prime}$ becomes $-h[D_x\\overline{\\dfc(u)}^xD_x u]_i$\n",
    "   if the group finite element method or Trapezoidal integration is applied,\n",
    "\n",
    " * $f(u)$ becomes $hf(u_i)$ with Trapezoidal integration or the\n",
    "   \"mass matrix\" representation $h[f(u) - \\frac{h}{6}D_xD_x f(u)]_i$\n",
    "   if computed by a group finite element method,\n",
    "\n",
    " * $au$ leads to the \"mass matrix\" form $ah[u - \\frac{h}{6}D_xD_x u]_i$.\n",
    "\n",
    "\n",
    "\n",
    "\n",
    "As we now have explicit expressions for the nonlinear difference\n",
    "equations also in the finite element method, a Picard or Newton method\n",
    "can be defined as shown for the finite difference method.  However,\n",
    "our efforts in deriving symbolic forms of the difference equations in\n",
    "the finite element method was motivated by a desire to see how\n",
    "nonlinear terms in differential equations make the finite element and\n",
    "difference method different. For practical calculations in computer\n",
    "programs we apply numerical integration, normally the more accurate\n",
    "Gauss-Legendre quadrature rules, to the integrals directly. This\n",
    "allows us to easily *evaluate* the nonlinear algebraic equations for a\n",
    "given numerical approximation of $u$ (here denoted $u^{-}$).  To\n",
    "*solve* the nonlinear algebraic equations we need to apply the Picard\n",
    "iteration method or Newton's method to the variational form directly,\n",
    "as shown next."
   ]
  }
 ],
 "metadata": {},
 "nbformat": 4,
 "nbformat_minor": 4
}
