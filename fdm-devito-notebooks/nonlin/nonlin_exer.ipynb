{
 "cells": [
  {
   "cell_type": "markdown",
   "metadata": {},
   "source": [
    "# Exercises\n",
    "<div id=\"nonlin:exer\"></div>\n",
    "\n",
    "\n",
    "\n",
    "<!-- --- begin exercise --- -->\n",
    "\n",
    "## Problem 1: Determine if equations are nonlinear or not\n",
    "<div id=\"nonlin:exer:lin:vs:nonlin\"></div>\n",
    "\n",
    "Classify each term in the following equations as linear or nonlinear.\n",
    "Assume that $u$, $\\u$, and $p$ are unknown functions and that\n",
    "all other symbols are known quantities.\n",
    "\n",
    "1. $mu^{\\prime\\prime} + \\beta |u^{\\prime}|u^{\\prime} + cu = F(t)$\n",
    "\n",
    "2. $u_t = \\dfc u_{xx}$\n",
    "\n",
    "3. $u_{tt} = c^2\\nabla^2 u$\n",
    "\n",
    "4. $u_t = \\nabla\\cdot(\\dfc(u)\\nabla u) + f(x,y)$\n",
    "\n",
    "5. $u_t + f(u)_x = 0$\n",
    "\n",
    "6. $\\u_t + \\u\\cdot\\nabla \\u = -\\nabla p + r\\nabla^2\\u$, $\\nabla\\cdot\\u = 0$\n",
    "   ($\\u$ is a vector field)\n",
    "\n",
    "7. $u^{\\prime} = f(u,t)$\n",
    "\n",
    "8. $\\nabla^2 u = \\lambda e^u$\n",
    "\n",
    "<!-- --- begin solution of exercise --- -->\n",
    "**Solution.**\n",
    "1. $mu^{\\prime\\prime}$ is linear; $\\beta |u^{\\prime}|u^{\\prime}$ is\n",
    "   nonlinear; $cu$ is linear; $F(t)$ does not contain the unknown $u$\n",
    "   and is hence constant in $u$, so the term is linear.\n",
    "\n",
    "2. $u_t$ is linear; $\\dfc u_{xx}$ is linear.\n",
    "\n",
    "3. $u_{tt}$ is linear; $c^2\\nabla^2 u$ is linear.\n",
    "\n",
    "4. $u_t$ is linear; $\\nabla\\cdot(\\dfc(u)\\nabla u)$ is nonlinear;\n",
    "   $f(x,y)$ is constant in $u$ and hence linear.\n",
    "\n",
    "5. $u_t$ is linear;  $f(u)_x$ is nonlinear if $f$ is nonlinear in $u$.\n",
    "\n",
    "6. $\\u_t$ is linear; $\\u\\cdot\\nabla \\u$ is nonlinear;\n",
    "   $-\\nabla p$ is linear (in $p$);  $r\\nabla^2\\u$ is linear;\n",
    "   $\\nabla\\cdot\\u$ is linear.\n",
    "\n",
    "7. $u^{\\prime}$ is linear;  $f(u,t)$ is nonlinear if $f$ is nonlinear in $u$.\n",
    "\n",
    "8. $\\nabla^2 u$ is linear; $\\lambda e^u$ is nonlinear.\n",
    "\n",
    "<!-- --- end solution of exercise --- -->\n",
    "Filename: `nonlinear_vs_linear`.\n",
    "\n",
    "<!-- --- end exercise --- -->\n",
    "\n",
    "\n",
    "\n",
    "\n",
    "<!-- --- begin exercise --- -->\n",
    "\n",
    "## Problem 2: Derive and investigate a generalized logistic model\n",
    "<div id=\"nonlin:exer:logistic:gen\"></div>\n",
    "\n",
    "The logistic model for population growth is derived by assuming\n",
    "a nonlinear growth rate,"
   ]
  },
  {
   "cell_type": "markdown",
   "metadata": {},
   "source": [
    "<!-- Equation labels as ordinary links -->\n",
    "<div id=\"nonlin:exer:logistic:gen:eq\"></div>\n",
    "\n",
    "$$\n",
    "\\begin{equation}\n",
    "u^{\\prime} = a(u)u,\\quad u(0)=I,\n",
    "\\label{nonlin:exer:logistic:gen:eq} \\tag{1}\n",
    "\\end{equation}\n",
    "$$"
   ]
  },
  {
   "cell_type": "markdown",
   "metadata": {},
   "source": [
    "and the logistic model arises from the simplest possible choice of\n",
    "$a(u)$: $r(u)=\\varrho(1 - u/M)$, where $M$ is the maximum value of $u$ that\n",
    "the environment can sustain, and $\\varrho$ is the growth under\n",
    "unlimited access to resources (as in the beginning when $u$ is small).\n",
    "The idea is that $a(u)\\sim\\varrho$ when $u$ is small and that\n",
    "$a(t)\\rightarrow 0$ as $u\\rightarrow M$.\n",
    "\n",
    "An $a(u)$ that generalizes the linear choice is the polynomial form"
   ]
  },
  {
   "cell_type": "markdown",
   "metadata": {},
   "source": [
    "<!-- Equation labels as ordinary links -->\n",
    "<div id=\"nonlin:exer:logistic:gen:r1\"></div>\n",
    "\n",
    "$$\n",
    "\\begin{equation}\n",
    "a(u) = \\varrho(1-u/M)^p,\n",
    "\\label{nonlin:exer:logistic:gen:r1} \\tag{2}\n",
    "\\end{equation}\n",
    "$$"
   ]
  },
  {
   "cell_type": "markdown",
   "metadata": {},
   "source": [
    "where $p>0$ is some real number.\n",
    "\n",
    "\n",
    "**a)**\n",
    "Formulate a Forward Euler, Backward Euler, and a Crank-Nicolson\n",
    "scheme for ([1](#nonlin:exer:logistic:gen:eq)).\n",
    "\n",
    "<!-- --- begin hint in exercise --- -->\n",
    "\n",
    "**Hint.**\n",
    "Use a geometric mean approximation in the Crank-Nicolson scheme:\n",
    "$[a(u)u]^{n+1/2}\\approx a(u^n)u^{n+1}$.\n",
    "\n",
    "<!-- --- end hint in exercise --- -->\n",
    "\n",
    "\n",
    "<!-- --- begin solution of exercise --- -->\n",
    "**Solution.**\n",
    "The Forward Euler scheme reads"
   ]
  },
  {
   "cell_type": "markdown",
   "metadata": {},
   "source": [
    "$$\n",
    "[D^+_t u = a(u)u]^n,\n",
    "$$"
   ]
  },
  {
   "cell_type": "markdown",
   "metadata": {},
   "source": [
    "or written out,"
   ]
  },
  {
   "cell_type": "markdown",
   "metadata": {},
   "source": [
    "$$\n",
    "\\frac{u^{n+1}-u^n}{\\Delta t} = a(u^n)u^n\\thinspace .\n",
    "$$"
   ]
  },
  {
   "cell_type": "markdown",
   "metadata": {},
   "source": [
    "The scheme is linear in the unknown $u^{n+1}$:"
   ]
  },
  {
   "cell_type": "markdown",
   "metadata": {},
   "source": [
    "$$\n",
    "u^{n+1} = u^n + {\\Delta t}a(u^n)u^n\\thinspace .\n",
    "$$"
   ]
  },
  {
   "cell_type": "markdown",
   "metadata": {},
   "source": [
    "The Backward Euler scheme,"
   ]
  },
  {
   "cell_type": "markdown",
   "metadata": {},
   "source": [
    "$$\n",
    "[D^-_t u = a(u)u]^n,\n",
    "$$"
   ]
  },
  {
   "cell_type": "markdown",
   "metadata": {},
   "source": [
    "becomes"
   ]
  },
  {
   "cell_type": "markdown",
   "metadata": {},
   "source": [
    "$$\n",
    "\\frac{u^{n}-u^{n-1}}{\\Delta t} = a(u^n)u^n,\n",
    "$$"
   ]
  },
  {
   "cell_type": "markdown",
   "metadata": {},
   "source": [
    "which is a nonlinear equation in the unknown $u$, here expressed as\n",
    "$u^{n+1}$:"
   ]
  },
  {
   "cell_type": "markdown",
   "metadata": {},
   "source": [
    "$$\n",
    "u^{n+1} - \\Delta t a(u^{n+1})u^{n+1} = u^n\\thinspace .\n",
    "$$"
   ]
  },
  {
   "cell_type": "markdown",
   "metadata": {},
   "source": [
    "The standard Crank-Nicolson scheme,"
   ]
  },
  {
   "cell_type": "markdown",
   "metadata": {},
   "source": [
    "$$\n",
    "D_t u = \\overline{a(u)u}^t]^{n+\\frac{1}{2}},\n",
    "$$"
   ]
  },
  {
   "cell_type": "markdown",
   "metadata": {},
   "source": [
    "takes the form"
   ]
  },
  {
   "cell_type": "markdown",
   "metadata": {},
   "source": [
    "$$\n",
    "\\frac{u^{n+1}-u^n}{\\Delta t} = \\frac{1}{2} a(u^n)u^n + \\frac{1}{2} a(u^{n+1})u^{n+1}\\thinspace .\n",
    "$$"
   ]
  },
  {
   "cell_type": "markdown",
   "metadata": {},
   "source": [
    "This is a nonlinear equation in the unknown $u^{n+1}$,"
   ]
  },
  {
   "cell_type": "markdown",
   "metadata": {},
   "source": [
    "$$\n",
    "u^{n+1} - \\frac{1}{2} {\\Delta t} a(u^{n+1})u^{n+1}\n",
    "= u^n + \\frac{1}{2} {\\Delta t} a(u^n)u^n\\thinspace .\n",
    "$$"
   ]
  },
  {
   "cell_type": "markdown",
   "metadata": {},
   "source": [
    "However, with the suggested geometric mean, the $a(u)u$ term is\n",
    "linearized:"
   ]
  },
  {
   "cell_type": "markdown",
   "metadata": {},
   "source": [
    "$$\n",
    "\\frac{u^{n+1}-u^n}{\\Delta t} = a(u^n)u^{n+1},\n",
    "$$"
   ]
  },
  {
   "cell_type": "markdown",
   "metadata": {},
   "source": [
    "leading to a linear equation in $u^{n+1}$:"
   ]
  },
  {
   "cell_type": "markdown",
   "metadata": {},
   "source": [
    "$$\n",
    "(1 - \\Delta t a(u^n))u^{n+1} = u^n\\thinspace .\n",
    "$$"
   ]
  },
  {
   "cell_type": "markdown",
   "metadata": {},
   "source": [
    "<!-- --- end solution of exercise --- -->\n",
    "\n",
    "**b)**\n",
    "Formulate Picard and Newton iteration for the Backward Euler scheme in a).\n",
    "\n",
    "\n",
    "<!-- --- begin solution of exercise --- -->\n",
    "**Solution.**\n",
    "A Picard iteration for"
   ]
  },
  {
   "cell_type": "markdown",
   "metadata": {},
   "source": [
    "$$\n",
    "u^{n+1} - \\Delta t a(u^{n+1})u^{n+1} = u^n\\thinspace .\n",
    "$$"
   ]
  },
  {
   "cell_type": "markdown",
   "metadata": {},
   "source": [
    "applies old values in for $u^{n+1}$ in $a(u^{n+1})$. If $u^-$ is the\n",
    "most recently computed approximation to $u^{n+1}$, we can write the Picard\n",
    "linearization as"
   ]
  },
  {
   "cell_type": "markdown",
   "metadata": {},
   "source": [
    "$$\n",
    "(1 - \\Delta t a(u^-))u^{n+1} = u^n\\thinspace .\n",
    "$$"
   ]
  },
  {
   "cell_type": "markdown",
   "metadata": {},
   "source": [
    "Alternatively, with an iteration index $k$,"
   ]
  },
  {
   "cell_type": "markdown",
   "metadata": {},
   "source": [
    "$$\n",
    "(1 - \\Delta t a(u^{n+1,k}))u^{n+1,k+1} = u^n\\thinspace .\n",
    "$$"
   ]
  },
  {
   "cell_type": "markdown",
   "metadata": {},
   "source": [
    "Newton's method starts with identifying the nonlinear equation as\n",
    "$F(u)=0$, and here"
   ]
  },
  {
   "cell_type": "markdown",
   "metadata": {},
   "source": [
    "$$\n",
    "F(u) = u - \\Delta t a(u)u - u^n\\thinspace .\n",
    "$$"
   ]
  },
  {
   "cell_type": "markdown",
   "metadata": {},
   "source": [
    "The Jacobian is"
   ]
  },
  {
   "cell_type": "markdown",
   "metadata": {},
   "source": [
    "$$\n",
    "J(u) = \\frac{F(u)}{du} = 1 - \\Delta t(a'(u)u + a(u))\\thinspace .\n",
    "$$"
   ]
  },
  {
   "cell_type": "markdown",
   "metadata": {},
   "source": [
    "The key equation in Newton's method is then\n",
    "[hpl 1: Check notation here with previously used notation!]"
   ]
  },
  {
   "cell_type": "markdown",
   "metadata": {},
   "source": [
    "$$\n",
    "J(u^-)\\delta u = - F(u^-),\\quad u\\leftarrow u - \\delta u\\thinspace .\n",
    "$$"
   ]
  },
  {
   "cell_type": "markdown",
   "metadata": {},
   "source": [
    "<!-- --- end solution of exercise --- -->\n",
    "\n",
    "**c)**\n",
    "Implement the numerical solution methods from a) and b).\n",
    "Use [`logistic.py`](${src_nonlin}/logistic.py) to compare the case\n",
    "$p=1$ and the choice ([2](#nonlin:exer:logistic:gen:r1)).\n",
    "\n",
    "\n",
    "<!-- --- begin solution of exercise --- -->\n",
    "**Solution.**\n",
    "We specialize the code for $a(u)$ to ([2](#nonlin:exer:logistic:gen:r1))\n",
    "since the code was developed from `logistic.py`. It is convenient to\n",
    "work with a dimensionless form of the problem.\n",
    "Choosing a time scale $t_c = 1\\varrho$ and a scale for $u$,\n",
    "$u_c=M$, leads to"
   ]
  },
  {
   "cell_type": "markdown",
   "metadata": {},
   "source": [
    "$$\n",
    "u^{\\prime} = \\varrho (1-u)^p u,\\quad u(0)=\\alpha,\n",
    "$$"
   ]
  },
  {
   "cell_type": "markdown",
   "metadata": {},
   "source": [
    "where $\\alpha$ is a dimensionless number"
   ]
  },
  {
   "cell_type": "markdown",
   "metadata": {},
   "source": [
    "$$\n",
    "\\alpha = \\frac{I}{M}\\thinspace .\n",
    "$$"
   ]
  },
  {
   "cell_type": "markdown",
   "metadata": {},
   "source": [
    "The three schemes can be implemented as follows."
   ]
  },
  {
   "cell_type": "code",
   "execution_count": 1,
   "metadata": {
    "collapsed": false
   },
   "outputs": [],
   "source": [
    "import numpy as np\n",
    "\n",
    "def FE_logistic(p, u0, dt, Nt):\n",
    "    u = np.zeros(Nt+1)\n",
    "    u[0] = u0\n",
    "    for n in range(Nt):\n",
    "        u[n+1] = u[n] + dt*(1 - u[n])**p*u[n]\n",
    "    return u\n",
    "\n",
    "def BE_logistic(p, u0, dt, Nt, choice='Picard',\n",
    "                eps_r=1E-3, omega=1, max_iter=1000):\n",
    "    # u[n] = u[n-1] + dt*(1-u[n])**p*u[n]\n",
    "    # -dt*(1-u[n])**p*u[n] + u[n] = u[n-1]\n",
    "    if choice == 'Picard1':\n",
    "        choice = 'Picard'\n",
    "        max_iter = 1\n",
    "\n",
    "    u = np.zeros(Nt+1)\n",
    "    iterations = []\n",
    "    u[0] = u0\n",
    "    for n in range(1, Nt+1):\n",
    "        c = -u[n-1]\n",
    "        if choice == 'Picard':\n",
    "            def F(u):\n",
    "                return -dt*(1-u)**p*u + u + c\n",
    "\n",
    "            u_ = u[n-1]\n",
    "            k = 0\n",
    "            while abs(F(u_)) > eps_r and k < max_iter:\n",
    "                # u*(1-dt*(1-u_)**p) + c = 0\n",
    "                u_ = omega*(-c/(1-dt*(1-u_)**p)) + (1-omega)*u_\n",
    "                k += 1\n",
    "            u[n] = u_\n",
    "            iterations.append(k)\n",
    "\n",
    "        elif choice == 'Newton':\n",
    "            def F(u):\n",
    "                return -dt*(1-u)**p*u + u + c\n",
    "\n",
    "            def dF(u):\n",
    "                return dt*p*(1-u)**(p-1)*u - dt*(1-u)**p + 1\n",
    "\n",
    "            u_ = u[n-1]\n",
    "            k = 0\n",
    "            while abs(F(u_)) > eps_r and k < max_iter:\n",
    "                u_ = u_ - F(u_)/dF(u_)\n",
    "                k += 1\n",
    "            u[n] = u_\n",
    "            iterations.append(k)\n",
    "    return u, iterations\n",
    "\n",
    "def CN_logistic(p, u0, dt, Nt):\n",
    "    # u[n+1] = u[n] + dt*(1-u[n])**p*u[n+1]\n",
    "    # (1 - dt*(1-u[n])**p)*u[n+1] = u[n]\n",
    "    u = np.zeros(Nt+1)\n",
    "    u[0] = u0\n",
    "    for n in range(0, Nt):\n",
    "        u[n+1] = u[n]/(1 - dt*(1 - u[n])**p)\n",
    "    return u"
   ]
  },
  {
   "cell_type": "markdown",
   "metadata": {},
   "source": [
    "A first verification is to choose $p=1$ and compare the results with\n",
    "those from `logistic.py`. The number of iterations and the final\n",
    "numerical answers should be identical.\n",
    "\n",
    "<!-- --- end solution of exercise --- -->\n",
    "\n",
    "**d)**\n",
    "Implement unit tests that check the asymptotic limit of the solutions:\n",
    "$u\\rightarrow M$ as $t\\rightarrow\\infty$.\n",
    "\n",
    "<!-- --- begin hint in exercise --- -->\n",
    "\n",
    "**Hint.**\n",
    "You need to experiment to find what \"infinite time\" is\n",
    "(increases substantially with $p$) and what the\n",
    "appropriate tolerance is for testing the asymptotic limit.\n",
    "\n",
    "<!-- --- end hint in exercise --- -->\n",
    "\n",
    "\n",
    "<!-- --- begin solution of exercise --- -->\n",
    "**Solution.**\n",
    "The test function may look like"
   ]
  },
  {
   "cell_type": "code",
   "execution_count": 2,
   "metadata": {
    "collapsed": false
   },
   "outputs": [],
   "source": [
    "def test_asymptotic_value():\n",
    "    T = 100\n",
    "    dt = 0.1\n",
    "    Nt = int(round(T/float(dt)))\n",
    "    u0 = 0.1\n",
    "    p = 1.8\n",
    "\n",
    "    u_CN = CN_logistic(p, u0, dt, Nt)\n",
    "    u_BE_Picard, iter_Picard = BE_logistic(\n",
    "        p, u0, dt, Nt, choice='Picard',\n",
    "        eps_r=1E-5, omega=1, max_iter=1000)\n",
    "    u_BE_Newton, iter_Newton = BE_logistic(\n",
    "        p, u0, dt, Nt, choice='Newton',\n",
    "        eps_r=1E-5, omega=1, max_iter=1000)\n",
    "    u_FE = FE_logistic(p, u0, dt, Nt)\n",
    "\n",
    "    for arr in u_CN, u_BE_Picard, u_BE_Newton, u_FE:\n",
    "        expected = 1\n",
    "        computed = arr[-1]\n",
    "        tol = 0.01\n",
    "        msg = 'expected=%s, computed=%s' % (expected, computed)\n",
    "        print msg\n",
    "        assert abs(expected - computed) < tol"
   ]
  },
  {
   "cell_type": "markdown",
   "metadata": {},
   "source": [
    "It is important with a sufficiently small `eps_r` tolerance for the\n",
    "asymptotic value to be accurate (using `eps_r=1E-3` leads to a value\n",
    "0.92 at $t=T$ instead of 0.994 when `eps_r=1E-5`).\n",
    "\n",
    "<!-- --- end solution of exercise --- -->\n",
    "\n",
    "**e)**\n",
    "Perform experiments with Newton and Picard iteration for\n",
    "the model ([2](#nonlin:exer:logistic:gen:r1)).\n",
    "See how sensitive\n",
    "the number of iterations is to $\\Delta t$ and $p$.\n",
    "\n",
    "\n",
    "<!-- --- begin solution of exercise --- -->\n",
    "**Solution.**\n",
    "Appropriate code is"
   ]
  },
  {
   "cell_type": "code",
   "execution_count": 3,
   "metadata": {
    "collapsed": false
   },
   "outputs": [],
   "source": [
    "%matplotlib inline\n",
    "\n",
    "from scitools.std import *\n",
    "\n",
    "def demo():\n",
    "    T = 12\n",
    "    p = 1.2\n",
    "    try:\n",
    "        dt = float(sys.argv[1])\n",
    "        eps_r = float(sys.argv[2])\n",
    "        omega = float(sys.argv[3])\n",
    "    except:\n",
    "        dt = 0.8\n",
    "        eps_r = 1E-3\n",
    "        omega = 1\n",
    "    N = int(round(T/float(dt)))\n",
    "\n",
    "    u_FE = FE_logistic(p, 0.1, dt, N)\n",
    "    u_BE31, iter_BE31 = BE_logistic(p, 0.1, dt, N,\n",
    "                                    'Picard1', eps_r, omega)\n",
    "    u_BE3, iter_BE3 = BE_logistic(p, 0.1, dt, N,\n",
    "                                  'Picard', eps_r, omega)\n",
    "    u_BE4, iter_BE4 = BE_logistic(p, 0.1, dt, N,\n",
    "                                  'Newton', eps_r, omega)\n",
    "    u_CN = CN_logistic(p, 0.1, dt, N)\n",
    "\n",
    "    print 'Picard mean no of iterations (dt=%g):' % dt, \\\n",
    "          int(round(mean(iter_BE3)))\n",
    "    print 'Newton mean no of iterations (dt=%g):' % dt, \\\n",
    "          int(round(mean(iter_BE4)))\n",
    "\n",
    "    t = np.linspace(0, dt*N, N+1)\n",
    "    plot(t, u_FE, t, u_BE3, t, u_BE31, t, u_BE4, t, u_CN,\n",
    "         legend=['FE', 'BE Picard', 'BE Picard1', 'BE Newton', 'CN gm'],\n",
    "         title='dt=%g, eps=%.0E' % (dt, eps_r), xlabel='t', ylabel='u',\n",
    "         legend_loc='lower right')\n",
    "    filestem = 'logistic_N%d_eps%03d' % (N, log10(eps_r))\n",
    "    savefig(filestem + '_u.png')\n",
    "    savefig(filestem + '_u.pdf')\n",
    "    figure()\n",
    "    plot(range(1, len(iter_BE3)+1), iter_BE3, 'r-o',\n",
    "         range(1, len(iter_BE4)+1), iter_BE4, 'b-o',\n",
    "         legend=['Picard', 'Newton'],\n",
    "         title='dt=%g, eps=%.0E' % (dt, eps_r),\n",
    "         axis=[1, N+1, 0, max(iter_BE3 + iter_BE4)+1],\n",
    "         xlabel='Time level', ylabel='No of iterations')\n",
    "    savefig(filestem + '_iter.png')\n",
    "    savefig(filestem + '_iter.pdf')"
   ]
  },
  {
   "cell_type": "markdown",
   "metadata": {},
   "source": [
    "[hpl 2: Not finished!]\n",
    "\n",
    "<!-- --- end solution of exercise --- -->\n",
    "\n",
    "<!-- ===== Exercise: Derive a relaxation formula ===== -->\n",
    "\n",
    "Filename: `logistic_p`.\n",
    "\n",
    "<!-- --- end exercise --- -->\n",
    "\n",
    "\n",
    "\n",
    "\n",
    "<!-- --- begin exercise --- -->\n",
    "\n",
    "## Problem 3: Experience the behavior of Newton's method\n",
    "<div id=\"nonlin:exer:Newton:problems1\"></div>\n",
    "\n",
    "The program [`Newton_demo.py`](${src_nonlin}/Newton_demo.py) illustrates\n",
    "graphically each step in Newton's method and is run like"
   ]
  },
  {
   "cell_type": "markdown",
   "metadata": {},
   "source": [
    "        Terminal> python Newton_demo.py f dfdx x0 xmin xmax\n"
   ]
  },
  {
   "cell_type": "markdown",
   "metadata": {},
   "source": [
    "Use this program to investigate potential\n",
    "problems with Newton's method when solving $e^{-0.5x^2}\\cos (\\pi x)=0$.\n",
    "Try a starting point $x_0=0.8$ and $x_0=0.85$ and watch the different\n",
    "behavior. Just run"
   ]
  },
  {
   "cell_type": "markdown",
   "metadata": {},
   "source": [
    "        Terminal>  python Newton_demo.py '0.2 + exp(-0.5*x**2)*cos(pi*x)' \\\n",
    "                   '-x*exp(-x**2)*cos(pi*x) - pi*exp(-x**2)*sin(pi*x)' \\\n",
    "                   0.85 -3 3\n"
   ]
  },
  {
   "cell_type": "markdown",
   "metadata": {},
   "source": [
    "and repeat with 0.85 replaced by 0.8.\n",
    "\n",
    "<!-- --- end exercise --- -->\n",
    "\n",
    "\n",
    "\n",
    "\n",
    "<!-- --- begin exercise --- -->\n",
    "\n",
    "## Exercise 4: Compute the Jacobian of a $2\\times 2$ system\n",
    "<div id=\"nonlin:exer:vib:Jacobian\"></div>\n",
    "\n",
    "Write up the system ([nonlin:ode:generic:sys:pendulum:u0](#nonlin:ode:generic:sys:pendulum:u0))-([nonlin:ode:generic:sys:pendulum:u1](#nonlin:ode:generic:sys:pendulum:u1)) in the form $F(u)=0$, $F=(F_0,F_1)$, $u=(u_0,u_1)$,\n",
    "and compute the Jacobian $J_{i,j}=\\partial F_i/\\partial u_j$.\n",
    "\n",
    "<!-- --- end exercise --- -->\n",
    "\n",
    "\n",
    "\n",
    "\n",
    "<!-- --- begin exercise --- -->\n",
    "\n",
    "## Problem 5: Solve nonlinear equations arising from a vibration ODE\n",
    "<div id=\"nonlin:exer:vib:geometric:mean\"></div>\n",
    "\n",
    "Consider a nonlinear vibration problem"
   ]
  },
  {
   "cell_type": "markdown",
   "metadata": {},
   "source": [
    "<!-- Equation labels as ordinary links -->\n",
    "<div id=\"_auto1\"></div>\n",
    "\n",
    "$$\n",
    "\\begin{equation}\n",
    "mu^{\\prime\\prime} + bu^{\\prime}|u^{\\prime}| + s(u) = F(t),\n",
    "\\label{_auto1} \\tag{3}\n",
    "\\end{equation}\n",
    "$$"
   ]
  },
  {
   "cell_type": "markdown",
   "metadata": {},
   "source": [
    "where $m>0$ is a constant, $b\\geq 0$ is a constant, $s(u)$ a possibly\n",
    "nonlinear function of $u$, and $F(t)$ is a prescribed function. Such\n",
    "models arise from Newton's second law of motion in mechanical\n",
    "vibration problems where $s(u)$ is a spring or restoring force,\n",
    "$mu^{\\prime\\prime}$ is mass times acceleration, and\n",
    "$bu^{\\prime}|u^{\\prime}|$ models water or air drag.\n",
    "\n",
    "\n",
    "**a)**\n",
    "Rewrite the equation for $u$ as a system of two first-order ODEs, and\n",
    "discretize this system by a Crank-Nicolson (centered difference)\n",
    "method. With $v=u^\\prime$, we get a nonlinear term\n",
    "$v^{n+\\frac{1}{2}}|v^{n+\\frac{1}{2}}|$. Use a geometric\n",
    "average for $v^{n+\\frac{1}{2}}$.\n",
    "\n",
    "**b)**\n",
    "Formulate a Picard iteration method to solve the system of nonlinear\n",
    "algebraic equations.\n",
    "\n",
    "**c)**\n",
    "Explain how to apply Newton's method to solve the nonlinear equations\n",
    "at each time level. Derive expressions for the Jacobian and the\n",
    "right-hand side in each Newton iteration.\n",
    "\n",
    "<!-- 2DO: b) Newmark scheme -->\n",
    "<!-- derive it logically and connect it to the centered diff scheme -->\n",
    "<!-- ma + bv|v| + s(u) = F(t), v'=a, u'=v (staggered is natural, -->\n",
    "<!-- v at n+1/2 and a and u at n). Should be in vib first -->\n",
    "\n",
    "Filename: `nonlin_vib`.\n",
    "\n",
    "<!-- --- end exercise --- -->\n",
    "\n",
    "\n",
    "\n",
    "\n",
    "<!-- --- begin exercise --- -->\n",
    "\n",
    "## Exercise 6: Find the truncation error of arithmetic mean of products\n",
    "<div id=\"nonlin:exer:products:arith:mean\"></div>\n",
    "\n",
    "In the section [nonlin:pdelevel:Picard:CN](#nonlin:pdelevel:Picard:CN) we introduce alternative\n",
    "arithmetic means of a product. Say the product is $P(t)Q(t)$ evaluated\n",
    "at $t=t_{n+\\frac{1}{2}}$. The exact value is"
   ]
  },
  {
   "cell_type": "markdown",
   "metadata": {},
   "source": [
    "$$\n",
    "[PQ]^{n+\\frac{1}{2}} = P^{n+\\frac{1}{2}}Q^{n+\\frac{1}{2}}\n",
    "$$"
   ]
  },
  {
   "cell_type": "markdown",
   "metadata": {},
   "source": [
    "There are two obvious candidates for evaluating $[PQ]^{n+\\frac{1}{2}}$\n",
    "as a mean of values of $P$ and $Q$ at $t_n$ and $t_{n+1}$. Either\n",
    "we can take the arithmetic mean of each factor $P$ and $Q$,"
   ]
  },
  {
   "cell_type": "markdown",
   "metadata": {},
   "source": [
    "<!-- Equation labels as ordinary links -->\n",
    "<div id=\"nonlin:exer:products:arith:mean:f\"></div>\n",
    "\n",
    "$$\n",
    "\\begin{equation}\n",
    "[PQ]^{n+\\frac{1}{2}} \\approx \\frac{1}{2}(P^n + P^{n+1})\\frac{1}{2}(Q^n + Q^{n+1}),\n",
    "\\label{nonlin:exer:products:arith:mean:f} \\tag{4}\n",
    "\\end{equation}\n",
    "$$"
   ]
  },
  {
   "cell_type": "markdown",
   "metadata": {},
   "source": [
    "or we can take the arithmetic mean of the product $PQ$:"
   ]
  },
  {
   "cell_type": "markdown",
   "metadata": {},
   "source": [
    "<!-- Equation labels as ordinary links -->\n",
    "<div id=\"nonlin:exer:products:arith:mean:p\"></div>\n",
    "\n",
    "$$\n",
    "\\begin{equation}\n",
    "[PQ]^{n+\\frac{1}{2}} \\approx \\frac{1}{2}(P^nQ^n + P^{n+1}Q^{n+1})\\thinspace .\n",
    "\\label{nonlin:exer:products:arith:mean:p} \\tag{5}\n",
    "\\end{equation}\n",
    "$$"
   ]
  },
  {
   "cell_type": "markdown",
   "metadata": {},
   "source": [
    "The arithmetic average\n",
    "of $P(t_{n+\\frac{1}{2}})$ is $\\Oof{\\Delta t^2}$:"
   ]
  },
  {
   "cell_type": "markdown",
   "metadata": {},
   "source": [
    "$$\n",
    "P(t_{n+\\frac{1}{2}}) = \\frac{1}{2}(P^n + P^{n+1}) +\\Oof{\\Delta t^2}\\thinspace .\n",
    "$$"
   ]
  },
  {
   "cell_type": "markdown",
   "metadata": {},
   "source": [
    "A fundamental question is whether ([4](#nonlin:exer:products:arith:mean:f))\n",
    "and ([5](#nonlin:exer:products:arith:mean:p)) have different\n",
    "orders of accuracy in $\\Delta t = t_{n+1}-t_n$. To investigate\n",
    "this question, expand quantities at $t_{n+1}$ and $t_n$ in\n",
    "Taylor series around $t_{n+\\frac{1}{2}}$, and subtract the true\n",
    "value $[PQ]^{n+\\frac{1}{2}}$ from the approximations\n",
    "([4](#nonlin:exer:products:arith:mean:f)) and\n",
    "([5](#nonlin:exer:products:arith:mean:p)) to see what the\n",
    "order of the error terms are.\n",
    "\n",
    "<!-- --- begin hint in exercise --- -->\n",
    "\n",
    "**Hint.**\n",
    "You may explore `sympy` for carrying out the tedious calculations.\n",
    "A general Taylor series expansion of $P(t+\\frac{1}{2}\\Delta t)$ around $t$\n",
    "involving just a general function $P(t)$ can be\n",
    "created as follows:"
   ]
  },
  {
   "cell_type": "code",
   "execution_count": 4,
   "metadata": {
    "collapsed": false
   },
   "outputs": [],
   "source": [
    "from sympy import *\n",
    "t, dt = symbols('t dt')\n",
    "P = symbols('P', cls=Function)\n",
    "P(t).series(t, 0, 4)"
   ]
  },
  {
   "cell_type": "code",
   "execution_count": 5,
   "metadata": {
    "collapsed": false
   },
   "outputs": [],
   "source": [
    "P_p = P(t).series(t, 0, 4).subs(t, dt/2)\n",
    "P_p"
   ]
  },
  {
   "cell_type": "markdown",
   "metadata": {},
   "source": [
    "The error of the arithmetic mean, $\\frac{1}{2}(P(-\\frac{1}{2}\\Delta t)\n",
    "+ P(-\\frac{1}{2}\\Delta t))$ for $t=0$ is then"
   ]
  },
  {
   "cell_type": "code",
   "execution_count": 6,
   "metadata": {
    "collapsed": false
   },
   "outputs": [],
   "source": [
    "P_m = P(t).series(t, 0, 4).subs(t, -dt/2)\n",
    "mean = Rational(1,2)*(P_m + P_p)\n",
    "error = simplify(expand(mean) - P(0))\n",
    "error"
   ]
  },
  {
   "cell_type": "markdown",
   "metadata": {},
   "source": [
    "Use these examples to investigate the error of\n",
    "([4](#nonlin:exer:products:arith:mean:f)) and\n",
    "([5](#nonlin:exer:products:arith:mean:p)) for $n=0$. (Choosing $n=0$\n",
    "is necessary for not making the expressions too complicated for `sympy`,\n",
    "but there is of course no lack of generality by using $n=0$ rather\n",
    "than an arbitrary $n$ - the main point is the product and addition\n",
    "of Taylor series.)\n",
    "\n",
    "<!-- --- end hint in exercise --- -->\n",
    "Filename: `product_arith_mean`.\n",
    "\n",
    "<!-- --- end exercise --- -->\n",
    "\n",
    "\n",
    "\n",
    "\n",
    "<!-- --- begin exercise --- -->\n",
    "\n",
    "## Problem 7: Newton's method for linear problems\n",
    "<div id=\"nonlin:exer:Newton:linear\"></div>\n",
    "\n",
    "Suppose we have a linear system $F(u) = Au- b=0$. Apply Newton's method\n",
    "to this system, and show that the method converges in one iteration.\n",
    "Filename: `Newton_linear`.\n",
    "\n",
    "<!-- --- end exercise --- -->\n",
    "\n",
    "\n",
    "\n",
    "\n",
    "<!-- --- begin exercise --- -->\n",
    "\n",
    "## Problem 8: Discretize a 1D problem with a nonlinear coefficient\n",
    "<div id=\"nonlin:exer:1D:1pu2:fem\"></div>\n",
    "\n",
    "We consider the problem"
   ]
  },
  {
   "cell_type": "markdown",
   "metadata": {},
   "source": [
    "<!-- Equation labels as ordinary links -->\n",
    "<div id=\"nonlin:exer:1D:1pu2:fem:pde\"></div>\n",
    "\n",
    "$$\n",
    "\\begin{equation}\n",
    "((1 + u^2)u^{\\prime})^{\\prime} = 1,\\quad x\\in (0,1),\\quad u(0)=u(1)=0\\thinspace .\n",
    "\\label{nonlin:exer:1D:1pu2:fem:pde} \\tag{6}\n",
    "\\end{equation}\n",
    "$$"
   ]
  },
  {
   "cell_type": "markdown",
   "metadata": {},
   "source": [
    "% if FEM_BOOK:\n",
    "\n",
    "\n",
    "**a)**\n",
    "Discretize ([6](#nonlin:exer:1D:1pu2:fem:pde)) by a centered\n",
    "finite difference method on a uniform mesh.\n",
    "\n",
    "**b)**\n",
    "Discretize ([6](#nonlin:exer:1D:1pu2:fem:pde)) by a finite\n",
    "element method with P1 elements of equal length.\n",
    "Use the Trapezoidal method to compute all integrals.\n",
    "Set up the resulting matrix system in symbolic form such that the\n",
    "equations can be compared with those in a).\n",
    "% else:\n",
    "Discretize ([6](#nonlin:exer:1D:1pu2:fem:pde)) by a centered\n",
    "finite difference method on a uniform mesh.\n",
    "% endif\n",
    "\n",
    "Filename: `nonlin_1D_coeff_discretize`.\n",
    "\n",
    "<!-- --- end exercise --- -->\n",
    "\n",
    "\n",
    "\n",
    "\n",
    "<!-- --- begin exercise --- -->\n",
    "\n",
    "## Problem 9: Linearize a 1D problem with a nonlinear coefficient\n",
    "<div id=\"nonlin:exer:1D:1pu2:PicardNewton\"></div>\n",
    "\n",
    "We have a two-point boundary value problem"
   ]
  },
  {
   "cell_type": "markdown",
   "metadata": {},
   "source": [
    "<!-- Equation labels as ordinary links -->\n",
    "<div id=\"nonlin:exer:1D:1pu2:PicardNewton:pde\"></div>\n",
    "\n",
    "$$\n",
    "\\begin{equation}\n",
    "((1 + u^2)u^{\\prime})^{\\prime} = 1,\\quad x\\in (0,1),\\quad u(0)=u(1)=0\\thinspace .\n",
    "\\label{nonlin:exer:1D:1pu2:PicardNewton:pde} \\tag{7}\n",
    "\\end{equation}\n",
    "$$"
   ]
  },
  {
   "cell_type": "markdown",
   "metadata": {},
   "source": [
    "**a)**\n",
    "Construct a Picard iteration method for ([7](#nonlin:exer:1D:1pu2:PicardNewton:pde))\n",
    "without discretizing in space.\n",
    "\n",
    "**b)**\n",
    "Apply Newton's method to ([7](#nonlin:exer:1D:1pu2:PicardNewton:pde))\n",
    "without discretizing in space.\n",
    "\n",
    "**c)**\n",
    "Discretize ([7](#nonlin:exer:1D:1pu2:PicardNewton:pde)) by a centered finite\n",
    "difference scheme. Construct a Picard method for the resulting\n",
    "system of nonlinear algebraic equations.\n",
    "\n",
    "**d)**\n",
    "Discretize ([7](#nonlin:exer:1D:1pu2:PicardNewton:pde)) by a centered finite\n",
    "difference scheme. Define the system of nonlinear algebraic equations,\n",
    "calculate the Jacobian, and set up Newton's method for solving the system.\n",
    "\n",
    "\n",
    "Filename: `nonlin_1D_coeff_linearize`.\n",
    "\n",
    "<!-- --- end exercise --- -->\n",
    "\n",
    "\n",
    "\n",
    "\n",
    "<!-- --- begin exercise --- -->\n",
    "\n",
    "## Problem 10: Finite differences for the 1D Bratu problem\n",
    "<div id=\"nonlin:exer:1D:fu:discretize:fd\"></div>\n",
    "\n",
    "We address the so-called Bratu problem"
   ]
  },
  {
   "cell_type": "markdown",
   "metadata": {},
   "source": [
    "<!-- Equation labels as ordinary links -->\n",
    "<div id=\"nonlin:exer:1D:fu:discretize:fd:pde\"></div>\n",
    "\n",
    "$$\n",
    "\\begin{equation}\n",
    "u^{\\prime\\prime} + \\lambda e^u=0,\\quad x\\in (0,1),\\quad u(0)=u(1)=0,\n",
    "\\label{nonlin:exer:1D:fu:discretize:fd:pde} \\tag{8}\n",
    "\\end{equation}\n",
    "$$"
   ]
  },
  {
   "cell_type": "markdown",
   "metadata": {},
   "source": [
    "where $\\lambda$ is a given parameter and $u$ is a function of $x$.\n",
    "This is a widely used model problem for studying numerical\n",
    "methods for nonlinear differential equations.\n",
    "The problem ([8](#nonlin:exer:1D:fu:discretize:fd:pde)) has an\n",
    "exact solution"
   ]
  },
  {
   "cell_type": "markdown",
   "metadata": {},
   "source": [
    "$$\n",
    "\\uex(x) = -2\\ln\\left(\\frac{\\cosh((x-\\frac{1}{2})\\theta/2)}{\\cosh(\\theta/4)}\\right),\n",
    "$$"
   ]
  },
  {
   "cell_type": "markdown",
   "metadata": {},
   "source": [
    "where $\\theta$ solves"
   ]
  },
  {
   "cell_type": "markdown",
   "metadata": {},
   "source": [
    "$$\n",
    "\\theta = \\sqrt{2\\lambda}\\cosh(\\theta/4)\\thinspace .\n",
    "$$"
   ]
  },
  {
   "cell_type": "markdown",
   "metadata": {},
   "source": [
    "There are two solutions of ([8](#nonlin:exer:1D:fu:discretize:fd:pde)) for\n",
    "$0<\\lambda <\\lambda_c$ and no solution for $\\lambda >\\lambda_c$.\n",
    "For $\\lambda = \\lambda_c$ there is one unique solution. The critical\n",
    "value $\\lambda_c$ solves"
   ]
  },
  {
   "cell_type": "markdown",
   "metadata": {},
   "source": [
    "$$\n",
    "1 = \\sqrt{2\\lambda_c}\\frac{1}{4}\\sinh(\\theta(\\lambda_c)/4)\\thinspace .\n",
    "$$"
   ]
  },
  {
   "cell_type": "markdown",
   "metadata": {},
   "source": [
    "A numerical value is $\\lambda_c = 3.513830719$.\n",
    "\n",
    "\n",
    "**a)**\n",
    "Discretize ([8](#nonlin:exer:1D:fu:discretize:fd:pde)) by a\n",
    "centered finite difference method.\n",
    "\n",
    "**b)**\n",
    "Set up the nonlinear equations $F_i(u_0,u_1,\\ldots,u_{N_x})=0$\n",
    "from a). Calculate the associated Jacobian.\n",
    "\n",
    "**c)**\n",
    "Implement a solver that can compute $u(x)$ using Newton's method.\n",
    "Plot the error as a function of $x$ in each iteration.\n",
    "\n",
    "**d)**\n",
    "Investigate whether Newton's method gives second-order convergence\n",
    "by computing\n",
    "$|| \\uex - u||/||\\uex - u^{-}||^2$\n",
    "in each iteration, where $u$ is solution in the current iteration and\n",
    "$u^{-}$ is the solution in the previous iteration.\n",
    "\n",
    "% if FEM_BOOK:\n",
    "Filename: `nonlin_1D_Bratu_fd`.\n",
    "\n",
    "<!-- --- end exercise --- -->\n",
    "\n",
    "\n",
    "\n",
    "\n",
    "<!-- --- begin exercise --- -->\n",
    "\n",
    "## Problem 11: Integrate functions of finite element expansions\n",
    "<div id=\"nonlin:exer:fu:fem:int\"></div>\n",
    "\n",
    "\n",
    "We shall investigate integrals on the form"
   ]
  },
  {
   "cell_type": "markdown",
   "metadata": {},
   "source": [
    "<!-- Equation labels as ordinary links -->\n",
    "<div id=\"nonlin:exer:fu:fem:int:global\"></div>\n",
    "\n",
    "$$\n",
    "\\begin{equation}\n",
    "\\int_0^L f(\\sum_ku_k\\basphi_k(x))\\basphi_i(x)\\dx,\n",
    "\\label{nonlin:exer:fu:fem:int:global} \\tag{9}\n",
    "\\end{equation}\n",
    "$$"
   ]
  },
  {
   "cell_type": "markdown",
   "metadata": {},
   "source": [
    "where $\\basphi_i(x)$ are P1 finite element basis functions and $u_k$\n",
    "are unknown coefficients, more precisely the values of the unknown\n",
    "function $u$ at nodes $\\xno{k}$. We introduce a node numbering that\n",
    "goes from left to right and also that all cells have\n",
    "the same length $h$. Given $i$, the integral\n",
    "only gets contributions from $[\\xno{i-1},\\xno{i+1}]$. On this\n",
    "interval $\\basphi_k(x)=0$ for $k<i-1$ and $k>i+1$, so only three\n",
    "basis functions will contribute:"
   ]
  },
  {
   "cell_type": "markdown",
   "metadata": {},
   "source": [
    "$$\n",
    "\\sum_k u_k\\basphi_k(x) = u_{i-1}\\basphi_{i-1}(x) +\n",
    "u_{i}\\basphi_{i}(x) + u_{i+1}\\basphi_{i+1}(x)\\thinspace .\n",
    "$$"
   ]
  },
  {
   "cell_type": "markdown",
   "metadata": {},
   "source": [
    "The integral ([9](#nonlin:exer:fu:fem:int:global)) now takes the\n",
    "simplified form"
   ]
  },
  {
   "cell_type": "markdown",
   "metadata": {},
   "source": [
    "$$\n",
    "\\int_{\\xno{i-1}}^{\\xno{i+1}}\n",
    "f(u_{i-1}\\basphi_{i-1}(x) +\n",
    "u_{i}\\basphi_{i}(x) + u_{i+1}\\basphi_{i+1}(x))\\basphi_i(x)\\dx\\thinspace .\n",
    "$$"
   ]
  },
  {
   "cell_type": "markdown",
   "metadata": {},
   "source": [
    "Split this integral in two integrals over cell L (left),\n",
    "$[\\xno{i-1},\\xno{i}]$, and cell R (right), $[\\xno{i},\\xno{i+1}]$. Over\n",
    "cell L, $u$ simplifies to $u_{i-1}\\basphi_{i-1} + u_{i}\\basphi_{i}$\n",
    "(since $\\basphi_{i+1}=0$ on this cell), and over cell R, $u$\n",
    "simplifies to $u_{i}\\basphi_{i} + u_{i+1}\\basphi_{i+1}$.  Make a\n",
    "`sympy` program that can compute the integral and write it out as a\n",
    "difference equation. Give the $f(u)$ formula on the command line.\n",
    "Try out $f(u)=u^2, \\sin u, \\exp u$.\n",
    "\n",
    "<!-- --- begin hint in exercise --- -->\n",
    "\n",
    "**Hint.**\n",
    "Introduce symbols `u_i`, `u_im1`, and `u_ip1` for $u_i$, $u_{i-1}$,\n",
    "and $u_{i+1}$, respectively, and similar symbols for $x_i$, $x_{i-1}$,\n",
    "and $x_{i+1}$. Find formulas for the basis functions on each of the\n",
    "two cells, make expressions for $u$ on the two cells, integrate over\n",
    "each cell, expand the answer and simplify. You can ask `sympy` for\n",
    "LaTeX code and render it either by creating a LaTeX document and\n",
    "compiling it to a PDF document or by using\n",
    "<http://latex.codecogs.com> to display LaTeX formulas in a web\n",
    "page. Here are some appropriate Python statements\n",
    "for the latter purpose:"
   ]
  },
  {
   "cell_type": "code",
   "execution_count": 7,
   "metadata": {
    "collapsed": false
   },
   "outputs": [],
   "source": [
    "from sympy import *\n",
    "...\n",
    "# expr_i holdes the integral as a sympy expression\n",
    "latex_code = latex(expr_i, mode='plain')\n",
    "# Replace u_im1 sympy symbol name by latex symbol u_{i-1}\n",
    "latex_code = latex_code.replace('im1', '{i-1}')\n",
    "# Replace u_ip1 sympy symbol name by latex symbol u_{i+1}\n",
    "latex_code = latex_code.replace('ip1', '{i+1}')\n",
    "# Escape (quote) latex_code so it can be sent as HTML text\n",
    "import cgi\n",
    "html_code = cgi.escape(latex_code)\n",
    "# Make a file with HTML code for displaying the LaTeX formula\n",
    "f = open('tmp.html', 'w')\n",
    "# Include an image that can be clicked on to yield a new\n",
    "# page with an interactive editor and display area where the\n",
    "# formula can be further edited\n",
    "text = \"\"\"\n",
    "<a href=\"http://www.codecogs.com/eqnedit.php?latex=%(html_code)s\"\n",
    " target=\"_blank\">\n",
    "<img src=\"http://latex.codecogs.com/gif.latex?%(html_code)s\"\n",
    " title=\"%(latex_code)s\"/>\n",
    "</a>\n",
    " \"\"\" % vars()\n",
    "f.write(text)\n",
    "f.close()"
   ]
  },
  {
   "cell_type": "markdown",
   "metadata": {},
   "source": [
    "The formula is displayed by loading `tmp.html` into a web browser.\n",
    "\n",
    "<!-- --- end hint in exercise --- -->\n",
    "Filename: `fu_fem_int`.\n",
    "\n",
    "<!-- --- end exercise --- -->\n",
    "\n",
    "\n",
    "\n",
    "\n",
    "<!-- --- begin exercise --- -->\n",
    "\n",
    "## Problem 12: Finite elements for the 1D Bratu problem\n",
    "<div id=\"nonlin:exer:1D:fu:discretize:fe\"></div>\n",
    "\n",
    "We address the same 1D Bratu problem as described in\n",
    "[Problem 10: Finite differences for the 1D Bratu problem](#nonlin:exer:1D:fu:discretize:fd).\n",
    "\n",
    "\n",
    "**a)**\n",
    "Discretize ([Problem 12: Finite elements for the 1D Bratu problem](#nonlin:exer:1D:fu:discretize:fe)) by a finite element\n",
    "method using a uniform mesh with P1 elements. Use a group\n",
    "finite element method for the $e^u$ term.\n",
    "\n",
    "**b)**\n",
    "Set up the nonlinear equations $F_i(u_0,u_1,\\ldots,u_{N_x})=0$\n",
    "from a). Calculate the associated Jacobian.\n",
    "% endif\n",
    "\n",
    "\n",
    "Filename: `nonlin_1D_Bratu_fe`.\n",
    "\n",
    "<!-- --- end exercise --- -->\n",
    "\n",
    "\n",
    "\n",
    "\n",
    "<!-- --- begin exercise --- -->\n",
    "\n",
    "## Problem 13: Discretize a nonlinear 1D heat conduction PDE by finite differences\n",
    "<div id=\"nonlin:exer:1D:heat:nonlinear:fdm\"></div>\n",
    "\n",
    "We address the 1D heat conduction PDE"
   ]
  },
  {
   "cell_type": "markdown",
   "metadata": {},
   "source": [
    "$$\n",
    "\\varrho c(T) T_t = (k(T)T_x)_x,\n",
    "$$"
   ]
  },
  {
   "cell_type": "markdown",
   "metadata": {},
   "source": [
    "for $x\\in [0,L]$,\n",
    "where $\\varrho$ is the density of the solid material, $c(T)$ is\n",
    "the heat capacity, $T$ is the temperature, and $k(T)$ is the\n",
    "heat conduction coefficient. $T(x,0)=I(x)$, and ends are\n",
    "subject to a cooling law:"
   ]
  },
  {
   "cell_type": "markdown",
   "metadata": {},
   "source": [
    "$$\n",
    "k(T)T_x|_{x=0} = h(T)(T-T_s),\\quad -k(T)T_x|_{x=L}=h(T)(T-T_s),\n",
    "$$"
   ]
  },
  {
   "cell_type": "markdown",
   "metadata": {},
   "source": [
    "where $h(T)$ is a heat transfer coefficient and $T_s$ is the\n",
    "given surrounding temperature.\n",
    "\n",
    "\n",
    "**a)**\n",
    "Discretize this PDE in time using either a\n",
    "Backward Euler or Crank-Nicolson scheme.\n",
    "\n",
    "**b)**\n",
    "Formulate a Picard iteration method for the time-discrete problem\n",
    "(i.e., an iteration method before discretizing in space).\n",
    "\n",
    "**c)**\n",
    "Formulate a Newton method for the time-discrete problem in b).\n",
    "\n",
    "**d)**\n",
    "Discretize the PDE by a finite difference method in space.\n",
    "Derive the matrix and right-hand side of a Picard iteration method applied\n",
    "to the space-time discretized PDE.\n",
    "\n",
    "**e)**\n",
    "Derive the matrix and right-hand side of a Newton method applied\n",
    "to the discretized PDE in d).\n",
    "\n",
    "% if FEM_BOOK:\n",
    "Filename: `nonlin_1D_heat_FD`.\n",
    "\n",
    "<!-- --- end exercise --- -->\n",
    "\n",
    "\n",
    "\n",
    "\n",
    "<!-- --- begin exercise --- -->\n",
    "\n",
    "## Exercise 14: Use different symbols for different approximations of the solution\n",
    "<div id=\"nonlin:exer:dD:nonlinear:usymbols\"></div>\n",
    "\n",
    "The symbol $u$ has several meanings, depending on the context, as\n",
    "briefly mentioned in the section [nonlin:alglevel:dD:fe](#nonlin:alglevel:dD:fe).\n",
    "Go through the derivation of the Picard iteration method in\n",
    "that section and use different symbols for all the different\n",
    "approximations of $u$:\n",
    "\n",
    " * $\\uex(\\x,t)$ for the exact solution of the PDE problem\n",
    "\n",
    " * $\\uex(\\x)^n$ for the exact solution after time discretization\n",
    "\n",
    " * $u^n(\\x)$ for the spatially discrete solution $\\sum_jc_j\\baspsi_j$\n",
    "\n",
    " * $u^{n,k}$ for approximation in Picard/Newton iteration no $k$\n",
    "   to $u^n(\\x)$\n",
    "\n",
    "Filename: `nonlin_heat_FE_usymbols`.\n",
    "\n",
    "<!-- --- end exercise --- -->\n",
    "\n",
    "\n",
    "\n",
    "\n",
    "<!-- --- begin exercise --- -->\n",
    "\n",
    "## Exercise 15: Derive Picard and Newton systems from a variational form\n",
    "<div id=\"nonlin:exer:dD:heat:nonlinear:c:a\"></div>\n",
    "\n",
    "We study the multi-dimensional heat conduction PDE"
   ]
  },
  {
   "cell_type": "markdown",
   "metadata": {},
   "source": [
    "$$\n",
    "\\varrho c(T) T_t = \\nabla\\cdot (k(T)\\nabla T)\n",
    "$$"
   ]
  },
  {
   "cell_type": "markdown",
   "metadata": {},
   "source": [
    "in a spatial domain $\\Omega$, with a nonlinear Robin boundary condition"
   ]
  },
  {
   "cell_type": "markdown",
   "metadata": {},
   "source": [
    "$$\n",
    "-k(T)\\frac{\\partial T}{\\partial n} = h(T)(T-T_s(t)),\n",
    "$$"
   ]
  },
  {
   "cell_type": "markdown",
   "metadata": {},
   "source": [
    "at the boundary $\\partial\\Omega$.\n",
    "The primary unknown is the temperature $T$, $\\varrho$ is the density\n",
    "of the solid material, $c(T)$ is the heat capacity, $k(T)$ is\n",
    "the heat conduction, $h(T)$ is a heat transfer coefficient, and\n",
    "$T_s(T)$ is a possibly time-dependent temperature of the surroundings.\n",
    "\n",
    "\n",
    "**a)**\n",
    "Use a Backward Euler or Crank-Nicolson time discretization and\n",
    "derive the variational form for the spatial problem to be solved\n",
    "at each time level.\n",
    "\n",
    "**b)**\n",
    "Define a Picard iteration method from the variational form at\n",
    "a time level.\n",
    "\n",
    "**c)**\n",
    "Derive expressions for the matrix and the right-hand side of the\n",
    "equation system that arises from applying Newton's method to\n",
    "the variational form at a time level.\n",
    "\n",
    "**d)**\n",
    "Apply the Backward Euler or Crank-Nicolson scheme in time first.\n",
    "Derive a Newton method at the PDE level. Make a variational\n",
    "form of the resulting PDE at a time level.\n",
    "\n",
    "Filename: `nonlin_heat_FE`.\n",
    "\n",
    "<!-- --- end exercise --- -->\n",
    "\n",
    "\n",
    "\n",
    "\n",
    "<!-- --- begin exercise --- -->\n",
    "\n",
    "## Exercise 16: Derive algebraic equations for nonlinear 1D heat conduction\n",
    "<div id=\"nonlin:exer:1D:heat:nonlinear:c:a\"></div>\n",
    "\n",
    "We consider the same problem as in [Exercise 15: Derive Picard and Newton systems from a variational form](#nonlin:exer:dD:heat:nonlinear:c:a), but restricted to one space dimension: $\\Omega = [0,L]$.\n",
    "Simplify the boundary condition to $T_x=0$ (i.e., $h(T)=0$).\n",
    "Use a uniform finite element mesh of P1 elements, the group\n",
    "finite element method, and the Trapezoidal\n",
    "rule for integration at the nodes to derive symbolic expressions for\n",
    "the algebraic equations arising from this diffusion problem.\n",
    "% endif\n",
    "Filename: `nonlin_1D_heat_FE`.\n",
    "\n",
    "<!-- --- end exercise --- -->\n",
    "\n",
    "\n",
    "\n",
    "\n",
    "<!-- --- begin exercise --- -->\n",
    "\n",
    "## Problem 17: Differentiate a highly nonlinear term\n",
    "<div id=\"nonlin:exer:grad:pow:term\"></div>\n",
    "\n",
    "The operator $\\nabla\\cdot(\\dfc(u)\\nabla u)$ with\n",
    "$\\dfc(u) = |\\nabla u|^q$ appears in several physical problems,\n",
    "especially flow of Non-Newtonian fluids. The expression $|\\nabla u|$\n",
    "is defined as the Euclidean norm of a vector:\n",
    "$|\\nabla u|^2 = \\nabla u \\cdot \\nabla u$.\n",
    "In a Newton method one\n",
    "has to carry out the differentiation $\\partial\\dfc(u)/\\partial c_j$,\n",
    "for $u=\\sum_kc_k\\baspsi_k$. Show that"
   ]
  },
  {
   "cell_type": "markdown",
   "metadata": {},
   "source": [
    "$$\n",
    "{\\partial\\over\\partial u_j} |\\nabla u|^q =\n",
    "q|\\nabla  u|^{q-2}\\nabla u\\cdot\n",
    "\\nabla\\baspsi_j\\thinspace .\n",
    "$$"
   ]
  },
  {
   "cell_type": "markdown",
   "metadata": {},
   "source": [
    "<!-- --- begin solution of exercise --- -->\n",
    "**Solution.**"
   ]
  },
  {
   "cell_type": "markdown",
   "metadata": {},
   "source": [
    "$$\n",
    "\\begin{align*}\n",
    "\\frac{\\partial }{\\partial c_j}|\\nabla u |^q &=\n",
    "\\frac{\\partial }{\\partial c_j}(\\nabla u\\cdot \\nabla u )^{\\tfrac{q}{2}}\n",
    "= \\frac{q}{2} (\\nabla u\\cdot \\nabla u )^{\\tfrac{q}{2}-1}\n",
    "\\frac{\\partial }{\\partial c_j}(\\nabla u\\cdot \\nabla u )\\\\ \n",
    "&=\\frac{q}{2} |\\nabla u |^{q-2}(\\frac{\\partial }{\\partial c_j}(\\nabla u)\n",
    "\\cdot \\nabla u + \\nabla u \\cdot\\frac{\\partial }{\\partial c_j}(\\nabla u))\\\\ \n",
    "&=q|\\nabla u |^{q-2}(\\nabla u \\cdot \\nabla \\frac{\\partial u}{\\partial c_j})\n",
    "=q|\\nabla u |^{q-2}(\\nabla u \\cdot \\nabla\\psi_j)\n",
    "\\end{align*}\n",
    "$$"
   ]
  },
  {
   "cell_type": "markdown",
   "metadata": {},
   "source": [
    "<!-- --- end solution of exercise --- -->\n",
    "Filename: `nonlin_differentiate`.\n",
    "\n",
    "<!-- --- end exercise --- -->\n",
    "\n",
    "\n",
    "\n",
    "\n",
    "<!-- --- begin exercise --- -->\n",
    "\n",
    "## Exercise 18: Crank-Nicolson for a nonlinear 3D diffusion equation\n",
    "<div id=\"nonlin:exer:2D:heat:nonlinear:fd\"></div>\n",
    "\n",
    "Redo the section [nonlin:alglevel:dD:fd](#nonlin:alglevel:dD:fd) when a Crank-Nicolson scheme\n",
    "is used to discretize the equations in time and the problem is\n",
    "formulated for three spatial dimensions.\n",
    "\n",
    "<!-- --- begin hint in exercise --- -->\n",
    "\n",
    "**Hint.**\n",
    "Express the Jacobian as $J_{i,j,k,r,s,t} = \\partial F_{i,j,k}/\\partial u_{r,s,t}$ and observe, as in the 2D case, that $J_{i,j,k,r,s,t}$ is very sparse:\n",
    "$J_{i,j,k,r,s,t}\\neq 0$ only for $r=i\\pm i$, $s=j\\pm 1$, and $t=k\\pm 1$\n",
    "as well as $r=i$, $s=j$, and $t=k$.\n",
    "\n",
    "<!-- --- end hint in exercise --- -->\n",
    "Filename: `nonlin_heat_FD_CN_2D`.\n",
    "\n",
    "<!-- --- end exercise --- -->\n",
    "\n",
    "\n",
    "\n",
    "\n",
    "<!-- --- begin exercise --- -->\n",
    "\n",
    "## Problem 19: Find the sparsity of the Jacobian\n",
    "<div id=\"nonlin:exer:sparsity:Jacobian\"></div>\n",
    "\n",
    "Consider a typical nonlinear Laplace term like\n",
    "$\\nabla\\cdot\\dfc(u)\\nabla u$ discretized by centered finite differences.\n",
    "Explain why the Jacobian corresponding to this term has the same\n",
    "sparsity pattern as the matrix associated with the corresponding linear\n",
    "term $\\dfc\\nabla^2 u$.\n",
    "\n",
    "<!-- --- begin hint in exercise --- -->\n",
    "\n",
    "**Hint.**\n",
    "Set up the unknowns that enter the difference equation at a\n",
    "point $(i,j)$ in 2D or $(i,j,k)$ in 3D, and identify the\n",
    "nonzero entries of the Jacobian that can arise from such a type\n",
    "of difference equation.\n",
    "\n",
    "<!-- --- end hint in exercise --- -->\n",
    "Filename: `nonlin_sparsity_Jacobian`.\n",
    "\n",
    "<!-- --- end exercise --- -->\n",
    "\n",
    "\n",
    "\n",
    "\n",
    "<!-- --- begin exercise --- -->\n",
    "\n",
    "## Problem 20: Investigate a 1D problem with a continuation method\n",
    "<div id=\"nonlin:exer:continuation:1DnNflow\"></div>\n",
    "\n",
    "\n",
    "Flow of a pseudo-plastic power-law fluid between two flat plates can be\n",
    "modeled by"
   ]
  },
  {
   "cell_type": "markdown",
   "metadata": {},
   "source": [
    "$$\n",
    "\\frac{d}{dx}\\left(\\mu_0\\left\\vert\\frac{du}{dx}\\right\\vert^{n-1}\n",
    "\\frac{du}{dx}\\right) = -\\beta,\\quad u^{\\prime}(0)=0,\\ u(H) = 0,\n",
    "$$"
   ]
  },
  {
   "cell_type": "markdown",
   "metadata": {},
   "source": [
    "where $\\beta>0$ and $\\mu_0>0$ are constants.\n",
    "A target value of $n$ may be $n=0.2$.\n",
    "\n",
    "\n",
    "**a)**\n",
    "Formulate a Picard iteration method directly for the differential\n",
    "equation problem.\n",
    "\n",
    "**b)**\n",
    "Perform a finite difference discretization of the problem in\n",
    "each Picard iteration. Implement a solver that can compute $u$\n",
    "on a mesh. Verify that the solver gives an exact solution for $n=1$\n",
    "on a uniform mesh regardless of the cell size.\n",
    "\n",
    "**c)**\n",
    "Given a sequence of decreasing $n$ values, solve the problem for each\n",
    "$n$ using the solution for the previous $n$ as initial guess for\n",
    "the Picard iteration. This is called a continuation method.\n",
    "Experiment with $n=(1,0.6,0.2)$ and $n=(1,0.9,0.8,\\ldots,0.2)$\n",
    "and make a table of the number of Picard iterations versus $n$.\n",
    "\n",
    "**d)**\n",
    "Derive a Newton method at the differential equation level and\n",
    "discretize the resulting linear equations in each Newton iteration\n",
    "with the finite difference method.\n",
    "\n",
    "**e)**\n",
    "Investigate if Newton's method has better convergence properties than\n",
    "Picard iteration, both in combination with a continuation method.\n",
    "\n",
    "<!-- --- end exercise --- -->"
   ]
  }
 ],
 "metadata": {},
 "nbformat": 4,
 "nbformat_minor": 4
}
