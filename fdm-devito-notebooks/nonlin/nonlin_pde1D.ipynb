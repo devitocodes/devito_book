{
 "cells": [
  {
   "cell_type": "markdown",
   "metadata": {},
   "source": [
    "# Linearization at the differential equation level\n",
    "<div id=\"nonlin:pdelevel\"></div>\n",
    "\n",
    "The attention is now turned to nonlinear partial differential\n",
    "equations (PDEs) and application of the techniques explained above for\n",
    "ODEs.  The model problem is a nonlinear diffusion equation for\n",
    "$u(\\x,t)$:"
   ]
  },
  {
   "cell_type": "markdown",
   "metadata": {},
   "source": [
    "<!-- Equation labels as ordinary links -->\n",
    "<div id=\"nonlin:pdelevel:model:pde\"></div>\n",
    "\n",
    "$$\n",
    "\\begin{equation}\n",
    "\\frac{\\partial u}{\\partial t} = \\nabla\\cdot (\\dfc(u)\\nabla u) + f(u),\\quad\n",
    "\\x\\in\\Omega,\\ t\\in (0,T],\n",
    "\\label{nonlin:pdelevel:model:pde} \\tag{1}\n",
    "\\end{equation}\n",
    "$$"
   ]
  },
  {
   "cell_type": "markdown",
   "metadata": {},
   "source": [
    "<!-- Equation labels as ordinary links -->\n",
    "<div id=\"nonlin:pdelevel:model:Neumann\"></div>\n",
    "\n",
    "$$\n",
    "\\begin{equation}  \n",
    "-\\dfc(u)\\frac{\\partial u}{\\partial n} = g,\\quad \\x\\in\\partial\\Omega_N,\\ \n",
    "t\\in (0,T],\n",
    "\\label{nonlin:pdelevel:model:Neumann} \\tag{2}\n",
    "\\end{equation}\n",
    "$$"
   ]
  },
  {
   "cell_type": "markdown",
   "metadata": {},
   "source": [
    "<!-- Equation labels as ordinary links -->\n",
    "<div id=\"nonlin:pdelevel:model:Dirichlet\"></div>\n",
    "\n",
    "$$\n",
    "\\begin{equation}  \n",
    "u = u_0,\\quad \\x\\in\\partial\\Omega_D,\\ t\\in (0,T]\\thinspace .\n",
    "\\label{nonlin:pdelevel:model:Dirichlet} \\tag{3}\n",
    "\\end{equation}\n",
    "$$"
   ]
  },
  {
   "cell_type": "markdown",
   "metadata": {},
   "source": [
    "In the present section, our aim is to discretize this problem in time\n",
    "and then present techniques for linearizing the time-discrete PDE\n",
    "problem \"at the PDE level\" such that we transform the nonlinear\n",
    "stationary PDE problem at each time level into a sequence of linear\n",
    "PDE problems, which can be solved using any method for linear\n",
    "PDEs. This strategy avoids the solution of systems of nonlinear\n",
    "algebraic equations.  In the section [1D stationary nonlinear differential equations](#nonlin:alglevel:1D) we shall take\n",
    "the opposite (and more common) approach: discretize the nonlinear\n",
    "problem in time and space first, and then solve the resulting\n",
    "nonlinear algebraic equations at each time level by the methods of\n",
    "the section [nonlin:systems:alg](#nonlin:systems:alg).  Very often, the two approaches are\n",
    "mathematically identical, so there is no preference from a\n",
    "computational efficiency point of view.  The details of the ideas\n",
    "sketched above will hopefully become clear through the forthcoming\n",
    "examples.\n",
    "\n",
    "\n",
    "## Explicit time integration\n",
    "<div id=\"nonlin:pdelevel:explicit\"></div>\n",
    "\n",
    "The nonlinearities in the PDE are trivial to deal with if we choose an\n",
    "explicit time integration method for ([1](#nonlin:pdelevel:model:pde)),\n",
    "such as the Forward Euler method:"
   ]
  },
  {
   "cell_type": "markdown",
   "metadata": {},
   "source": [
    "$$\n",
    "[D_t^+ u = \\nabla\\cdot (\\dfc(u)\\nabla u) + f(u)]^n,\n",
    "$$"
   ]
  },
  {
   "cell_type": "markdown",
   "metadata": {},
   "source": [
    "or written out,"
   ]
  },
  {
   "cell_type": "markdown",
   "metadata": {},
   "source": [
    "$$\n",
    "\\frac{u^{n+1} - u^n}{\\Delta t} = \\nabla\\cdot (\\dfc(u^n)\\nabla u^n)\n",
    "+ f(u^n),\n",
    "$$"
   ]
  },
  {
   "cell_type": "markdown",
   "metadata": {},
   "source": [
    "which is a linear equation in the unknown $u^{n+1}$ with solution"
   ]
  },
  {
   "cell_type": "markdown",
   "metadata": {},
   "source": [
    "$$\n",
    "u^{n+1} = u^n + \\Delta t\\nabla\\cdot (\\dfc(u^n)\\nabla u^n) +\n",
    "\\Delta t f(u^n)\\thinspace .\n",
    "$$"
   ]
  },
  {
   "cell_type": "markdown",
   "metadata": {},
   "source": [
    "The disadvantage with this discretization is\n",
    "the strict stability criterion $\\Delta t \\leq h^2/(6\\max\\alpha)$\n",
    "for the case $f=0$ and a standard 2nd-order finite difference discretization\n",
    "in 3D space with mesh cell sizes $h=\\Delta x=\\Delta y=\\Delta z$.\n",
    "\n",
    "<!-- BC -->\n",
    "\n",
    "## Backward Euler scheme and Picard iteration\n",
    "<div id=\"nonlin:pdelevel:Picard\"></div>\n",
    "\n",
    "A Backward Euler scheme for ([1](#nonlin:pdelevel:model:pde))\n",
    "reads"
   ]
  },
  {
   "cell_type": "markdown",
   "metadata": {},
   "source": [
    "$$\n",
    "[D_t^- u = \\nabla\\cdot (\\dfc(u)\\nabla u) + f(u)]^n\\thinspace .\n",
    "$$"
   ]
  },
  {
   "cell_type": "markdown",
   "metadata": {},
   "source": [
    "Written out,"
   ]
  },
  {
   "cell_type": "markdown",
   "metadata": {},
   "source": [
    "<!-- Equation labels as ordinary links -->\n",
    "<div id=\"nonlin:pdelevel:pde:BE\"></div>\n",
    "\n",
    "$$\n",
    "\\begin{equation}\n",
    "\\frac{u^{n} - u^{n-1}}{\\Delta t} = \\nabla\\cdot (\\dfc(u^n)\\nabla u^n)\n",
    "+ f(u^n)\\thinspace .\n",
    "\\label{nonlin:pdelevel:pde:BE} \\tag{4}\n",
    "\\end{equation}\n",
    "$$"
   ]
  },
  {
   "cell_type": "markdown",
   "metadata": {},
   "source": [
    "This is a nonlinear PDE for the unknown function $u^n(\\x)$. Such a\n",
    "PDE can be viewed as a time-independent PDE where\n",
    "$u^{n-1}(\\x)$ is a known function.\n",
    "\n",
    "We introduce a Picard iteration with $k$ as iteration counter.\n",
    "A typical linearization of the $\\nabla\\cdot(\\dfc(u^n)\\nabla u^n)$ term\n",
    "in iteration $k+1$ is to use the previously computed $u^{n,k}$\n",
    "approximation in the diffusion coefficient: $\\dfc(u^{n,k})$.\n",
    "The nonlinear source term is treated similarly: $f(u^{n,k})$.\n",
    "The unknown function $u^{n,k+1}$ then fulfills the linear PDE"
   ]
  },
  {
   "cell_type": "markdown",
   "metadata": {},
   "source": [
    "<!-- Equation labels as ordinary links -->\n",
    "<div id=\"nonlin:pdelevel:pde:BE:Picard:k\"></div>\n",
    "\n",
    "$$\n",
    "\\begin{equation}\n",
    "\\frac{u^{n,k+1} - u^{n-1}}{\\Delta t} = \\nabla\\cdot (\\dfc(u^{n,k})\n",
    "\\nabla u^{n,k+1})\n",
    "+ f(u^{n,k})\\thinspace .\n",
    "\\label{nonlin:pdelevel:pde:BE:Picard:k} \\tag{5}\n",
    "\\end{equation}\n",
    "$$"
   ]
  },
  {
   "cell_type": "markdown",
   "metadata": {},
   "source": [
    "The initial guess for the Picard iteration at this time level can be\n",
    "taken as the solution at the previous time level: $u^{n,0}=u^{n-1}$.\n",
    "\n",
    "We can alternatively apply the implementation-friendly\n",
    "notation where $u$ corresponds to\n",
    "the unknown we want to solve for, i.e., $u^{n,k+1}$ above, and $u^{-}$\n",
    "is the most recently computed value, $u^{n,k}$ above. Moreover,\n",
    "$u^{(1)}$ denotes the unknown function at the previous time level, $u^{n-1}$\n",
    "above. The PDE to be solved in a Picard iteration then looks like"
   ]
  },
  {
   "cell_type": "markdown",
   "metadata": {},
   "source": [
    "<!-- Equation labels as ordinary links -->\n",
    "<div id=\"nonlin:pdelevel:pde:BE:Picard\"></div>\n",
    "\n",
    "$$\n",
    "\\begin{equation}\n",
    "\\frac{u - u^{(1)}}{\\Delta t} = \\nabla\\cdot (\\dfc(u^{-})\n",
    "\\nabla u)\n",
    "+ f(u^{-})\\thinspace .\n",
    "\\label{nonlin:pdelevel:pde:BE:Picard} \\tag{6}\n",
    "\\end{equation}\n",
    "$$"
   ]
  },
  {
   "cell_type": "markdown",
   "metadata": {},
   "source": [
    "At the beginning of the iteration we start with the value from the\n",
    "previous time level: $u^{-}=u^{(1)}$, and after each\n",
    "iteration, $u^{-}$ is updated to $u$.\n",
    "\n",
    "**Remark on notation.**\n",
    "\n",
    "The previous derivations of the numerical scheme for time discretizations\n",
    "of PDEs have, strictly\n",
    "speaking, a somewhat sloppy notation, but it is much used and convenient\n",
    "to read. A more precise notation must\n",
    "distinguish clearly between the exact solution of the PDE problem,\n",
    "here denoted $\\uex(\\x,t)$, and the exact solution of the spatial\n",
    "problem, arising after time discretization at each time level,\n",
    "where ([4](#nonlin:pdelevel:pde:BE)) is an example. The latter\n",
    "is here represented as $u^n(\\x)$ and is an approximation to\n",
    "$\\uex(\\x,t_n)$. Then we have another approximation $u^{n,k}(\\x)$\n",
    "to $u^n(\\x)$ when solving the nonlinear PDE problem for\n",
    "$u^n$ by iteration methods, as in ([5](#nonlin:pdelevel:pde:BE:Picard:k)).\n",
    "\n",
    "In our notation, $u$ is a synonym for $u^{n,k+1}$ and $u^{(1)}$ is\n",
    "a synonym for $u^{n-1}$, inspired by what are natural variable names\n",
    "in a code.\n",
    "We will usually state the PDE problem in terms of $u$ and\n",
    "quickly redefine the symbol $u$ to mean the numerical approximation,\n",
    "while $\\uex$ is not explicitly introduced unless we need to talk about\n",
    "the exact solution and the approximate solution at the same time.\n",
    "\n",
    "\n",
    "\n",
    "## Backward Euler scheme and Newton's method\n",
    "<div id=\"nonlin:pdelevel:Newton\"></div>\n",
    "\n",
    "\n",
    "At time level $n$, we have to solve the stationary PDE\n",
    "([4](#nonlin:pdelevel:pde:BE)). In the previous section, we\n",
    "saw how this can be done with Picard iterations.\n",
    "Another alternative is to apply the idea of Newton's method\n",
    "in a clever way.\n",
    "Normally, Newton's method is defined for systems of *algebraic equations*,\n",
    "but the idea of the method can be applied at the PDE level too.\n",
    "\n",
    "### Linearization via Taylor expansions\n",
    "\n",
    "Let $u^{n,k}$ be an approximation to the unknown $u^n$. We seek a\n",
    "better approximation on\n",
    "the form"
   ]
  },
  {
   "cell_type": "markdown",
   "metadata": {},
   "source": [
    "<!-- Equation labels as ordinary links -->\n",
    "<div id=\"nonlin:pdelevel:Newton:ansatz\"></div>\n",
    "\n",
    "$$\n",
    "\\begin{equation}\n",
    "u^{n} = u^{n,k} + \\delta u\\thinspace .\n",
    "\\label{nonlin:pdelevel:Newton:ansatz} \\tag{7}\n",
    "\\end{equation}\n",
    "$$"
   ]
  },
  {
   "cell_type": "markdown",
   "metadata": {},
   "source": [
    "The idea is to insert ([7](#nonlin:pdelevel:Newton:ansatz)) in\n",
    "([4](#nonlin:pdelevel:pde:BE)), Taylor expand the nonlinearities\n",
    "and keep only the terms that are\n",
    "linear in $\\delta u$ (which makes ([7](#nonlin:pdelevel:Newton:ansatz))\n",
    "an approximation for $u^{n}$). Then we can solve a linear PDE for\n",
    "the correction $\\delta u$ and use ([7](#nonlin:pdelevel:Newton:ansatz))\n",
    "to find a new approximation"
   ]
  },
  {
   "cell_type": "markdown",
   "metadata": {},
   "source": [
    "$$\n",
    "u^{n,k+1}=u^{n,k}+\\delta u\n",
    "$$"
   ]
  },
  {
   "cell_type": "markdown",
   "metadata": {},
   "source": [
    "to $u^{n}$.\n",
    "Repeating this procedure gives a sequence $u^{n,k+1}$, $k=0,1,\\ldots$\n",
    "that hopefully converges to the goal $u^n$.\n",
    "\n",
    "Let us carry out all the mathematical details for the nonlinear diffusion\n",
    "PDE discretized by the Backward Euler method.\n",
    "Inserting ([7](#nonlin:pdelevel:Newton:ansatz)) in\n",
    "([4](#nonlin:pdelevel:pde:BE)) gives"
   ]
  },
  {
   "cell_type": "markdown",
   "metadata": {},
   "source": [
    "<!-- Equation labels as ordinary links -->\n",
    "<div id=\"nonlin:pdelevel:pde:BE:Newton1\"></div>\n",
    "\n",
    "$$\n",
    "\\begin{equation}\n",
    "\\frac{u^{n,k} +\\delta u - u^{n-1}}{\\Delta t} =\n",
    "\\nabla\\cdot (\\dfc(u^{n,k} + \\delta u)\\nabla (u^{n,k}+\\delta u))\n",
    "+ f(u^{n,k}+\\delta u)\\thinspace .\n",
    "\\label{nonlin:pdelevel:pde:BE:Newton1} \\tag{8}\n",
    "\\end{equation}\n",
    "$$"
   ]
  },
  {
   "cell_type": "markdown",
   "metadata": {},
   "source": [
    "We can Taylor expand $\\dfc(u^{n,k} + \\delta u)$ and\n",
    "$f(u^{n,k}+\\delta u)$:"
   ]
  },
  {
   "cell_type": "markdown",
   "metadata": {},
   "source": [
    "$$\n",
    "\\begin{align*}\n",
    "\\dfc(u^{n,k} + \\delta u) & = \\dfc(u^{n,k}) + \\frac{d\\dfc}{du}(u^{n,k})\n",
    "\\delta u + \\Oof{\\delta u^2}\\approx \\dfc(u^{n,k}) + \\dfc^{\\prime}(u^{n,k})\\delta u,\\\\ \n",
    "f(u^{n,k}+\\delta u) &=  f(u^{n,k}) + \\frac{df}{du}(u^{n,k})\\delta u\n",
    "+ \\Oof{\\delta u^2}\\approx f(u^{n,k}) + f^{\\prime}(u^{n,k})\\delta u\\thinspace .\n",
    "\\end{align*}\n",
    "$$"
   ]
  },
  {
   "cell_type": "markdown",
   "metadata": {},
   "source": [
    "Inserting the linear approximations of $\\dfc$ and $f$ in\n",
    "([8](#nonlin:pdelevel:pde:BE:Newton1)) results in"
   ]
  },
  {
   "cell_type": "markdown",
   "metadata": {},
   "source": [
    "$$\n",
    "\\frac{u^{n,k} +\\delta u - u^{n-1}}{\\Delta t} =\n",
    "\\nabla\\cdot (\\dfc(u^{n,k})\\nabla u^{n,k}) + f(u^{n,k}) + \\nonumber\n",
    "$$"
   ]
  },
  {
   "cell_type": "markdown",
   "metadata": {},
   "source": [
    "$$\n",
    "\\qquad \\nabla\\cdot (\\dfc(u^{n,k})\\nabla \\delta u)\n",
    "+ \\nabla\\cdot (\\dfc^{\\prime}(u^{n,k})\\delta u\\nabla u^{n,k}) + \\nonumber\n",
    "$$"
   ]
  },
  {
   "cell_type": "markdown",
   "metadata": {},
   "source": [
    "<!-- Equation labels as ordinary links -->\n",
    "<div id=\"nonlin:pdelevel:pde:BE:Newton2\"></div>\n",
    "\n",
    "$$\n",
    "\\begin{equation}  \n",
    "\\qquad \\nabla\\cdot (\\dfc^{\\prime}(u^{n,k})\\delta u\\nabla \\delta u)\n",
    "+ f^{\\prime}(u^{n,k})\\delta u\\thinspace .\n",
    "\\label{nonlin:pdelevel:pde:BE:Newton2} \\tag{9}\n",
    "\\end{equation}\n",
    "$$"
   ]
  },
  {
   "cell_type": "markdown",
   "metadata": {},
   "source": [
    "The term $\\dfc^{\\prime}(u^{n,k})\\delta u\\nabla \\delta u$ is of\n",
    "order $\\delta u^2$\n",
    "and therefore omitted since we expect the correction $\\delta u$\n",
    "to be small ($\\delta u \\gg \\delta u^2$).\n",
    "Reorganizing the equation gives a PDE\n",
    "for $\\delta u$ that we can write in short form as"
   ]
  },
  {
   "cell_type": "markdown",
   "metadata": {},
   "source": [
    "$$\n",
    "\\delta F(\\delta u; u^{n,k}) = -F(u^{n,k}),\n",
    "$$"
   ]
  },
  {
   "cell_type": "markdown",
   "metadata": {},
   "source": [
    "where"
   ]
  },
  {
   "cell_type": "markdown",
   "metadata": {},
   "source": [
    "<!-- Equation labels as ordinary links -->\n",
    "<div id=\"nonlin:pdelevel:pde:BE:Newton2:F\"></div>\n",
    "\n",
    "$$\n",
    "\\begin{equation}\n",
    "F(u^{n,k}) = \\frac{u^{n,k} - u^{n-1}}{\\Delta t} -\n",
    "\\nabla\\cdot (\\dfc(u^{n,k})\\nabla u^{n,k}) + f(u^{n,k}),\n",
    "\\label{nonlin:pdelevel:pde:BE:Newton2:F} \\tag{10}\n",
    "\\end{equation}\n",
    "$$"
   ]
  },
  {
   "cell_type": "markdown",
   "metadata": {},
   "source": [
    "$$\n",
    "\\delta F(\\delta u; u^{n,k}) =\n",
    "- \\frac{1}{\\Delta t}\\delta u +\n",
    "\\nabla\\cdot (\\dfc(u^{n,k})\\nabla \\delta u) + \\nonumber\n",
    "$$"
   ]
  },
  {
   "cell_type": "markdown",
   "metadata": {},
   "source": [
    "<!-- Equation labels as ordinary links -->\n",
    "<div id=\"_auto1\"></div>\n",
    "\n",
    "$$\n",
    "\\begin{equation}  \n",
    "\\quad \\nabla\\cdot (\\dfc^{\\prime}(u^{n,k})\\delta u\\nabla u^{n,k})\n",
    "+ f^{\\prime}(u^{n,k})\\delta u\\thinspace .\n",
    "\\label{_auto1} \\tag{11}\n",
    "\\end{equation}\n",
    "$$"
   ]
  },
  {
   "cell_type": "markdown",
   "metadata": {},
   "source": [
    "Note that $\\delta F$ is a linear function of $\\delta u$, and\n",
    "$F$ contains only terms that are known, such that\n",
    "the PDE for $\\delta u$ is indeed linear.\n",
    "\n",
    "**Observations.**\n",
    "\n",
    "The notational form $\\delta F = -F$ resembles the Newton system $J\\delta u =-F$\n",
    "for systems of algebraic equations, with $\\delta F$ as $J\\delta u$.\n",
    "The unknown vector in a linear system of algebraic equations enters\n",
    "the system as a linear operator in terms of a\n",
    "matrix-vector product ($J\\delta u$), while at\n",
    "the PDE level we have a linear differential operator instead\n",
    "($\\delta F$).\n",
    "\n",
    "\n",
    "\n",
    "### Similarity with Picard iteration\n",
    "\n",
    "We can rewrite the PDE for $\\delta u$ in a slightly different way too\n",
    "if we define $u^{n,k} + \\delta u$ as $u^{n,k+1}$."
   ]
  },
  {
   "cell_type": "markdown",
   "metadata": {},
   "source": [
    "$$\n",
    "\\frac{u^{n,k+1} - u^{n-1}}{\\Delta t} =\n",
    "\\nabla\\cdot (\\dfc(u^{n,k})\\nabla u^{n,k+1}) + f(u^{n,k})\\nonumber\n",
    "$$"
   ]
  },
  {
   "cell_type": "markdown",
   "metadata": {},
   "source": [
    "<!-- Equation labels as ordinary links -->\n",
    "<div id=\"_auto2\"></div>\n",
    "\n",
    "$$\n",
    "\\begin{equation}  \n",
    "\\qquad  + \\nabla\\cdot (\\dfc^{\\prime}(u^{n,k})\\delta u\\nabla u^{n,k})\n",
    "+ f^{\\prime}(u^{n,k})\\delta u\\thinspace .\n",
    "\\label{_auto2} \\tag{12}\n",
    "\\end{equation}\n",
    "$$"
   ]
  },
  {
   "cell_type": "markdown",
   "metadata": {},
   "source": [
    "Note that the first line is the same PDE as arises in the Picard\n",
    "iteration, while the remaining terms arise from the differentiations\n",
    "that are an inherent ingredient in Newton's method.\n",
    "\n",
    "### Implementation\n",
    "\n",
    "For coding we want to introduce $u$ for $u^n$, $u^{-}$ for $u^{n,k}$ and\n",
    "$u^{(1)}$ for $u^{n-1}$. The formulas for $F$ and $\\delta F$\n",
    "are then more clearly written as"
   ]
  },
  {
   "cell_type": "markdown",
   "metadata": {},
   "source": [
    "<!-- Equation labels as ordinary links -->\n",
    "<div id=\"nonlin:pdelevel:pde:BE:Newton2:F2\"></div>\n",
    "\n",
    "$$\n",
    "\\begin{equation}\n",
    "F(u^{-}) = \\frac{u^{-} - u^{(1)}}{\\Delta t} -\n",
    "\\nabla\\cdot (\\dfc(u^{-})\\nabla u^{-}) + f(u^{-}),\n",
    "\\label{nonlin:pdelevel:pde:BE:Newton2:F2} \\tag{13}\n",
    "\\end{equation}\n",
    "$$"
   ]
  },
  {
   "cell_type": "markdown",
   "metadata": {},
   "source": [
    "$$\n",
    "\\delta F(\\delta u; u^{-}) =\n",
    "- \\frac{1}{\\Delta t}\\delta u +\n",
    "\\nabla\\cdot (\\dfc(u^{-})\\nabla \\delta u) + \\nonumber\n",
    "$$"
   ]
  },
  {
   "cell_type": "markdown",
   "metadata": {},
   "source": [
    "<!-- Equation labels as ordinary links -->\n",
    "<div id=\"_auto3\"></div>\n",
    "\n",
    "$$\n",
    "\\begin{equation}  \n",
    "\\quad \\nabla\\cdot (\\dfc^{\\prime}(u^{-})\\delta u\\nabla u^{-})\n",
    "+ f^{\\prime}(u^{-})\\delta u\\thinspace .\n",
    "\\label{_auto3} \\tag{14}\n",
    "\\end{equation}\n",
    "$$"
   ]
  },
  {
   "cell_type": "markdown",
   "metadata": {},
   "source": [
    "The form that orders the PDE as the Picard iteration terms plus\n",
    "the Newton method's derivative terms becomes"
   ]
  },
  {
   "cell_type": "markdown",
   "metadata": {},
   "source": [
    "$$\n",
    "\\frac{u - u^{(1)}}{\\Delta t} =\n",
    "\\nabla\\cdot (\\dfc(u^{-})\\nabla u) + f(u^{-}) + \\nonumber\n",
    "$$"
   ]
  },
  {
   "cell_type": "markdown",
   "metadata": {},
   "source": [
    "<!-- Equation labels as ordinary links -->\n",
    "<div id=\"_auto4\"></div>\n",
    "\n",
    "$$\n",
    "\\begin{equation}  \n",
    "\\qquad  \\gamma(\\nabla\\cdot (\\dfc^{\\prime}(u^{-})(u - u^{-})\\nabla u^{-})\n",
    "+ f^{\\prime}(u^{-})(u - u^{-}))\\thinspace .\n",
    "\\label{_auto4} \\tag{15}\n",
    "\\end{equation}\n",
    "$$"
   ]
  },
  {
   "cell_type": "markdown",
   "metadata": {},
   "source": [
    "The Picard and full Newton versions correspond to\n",
    "$\\gamma=0$ and $\\gamma=1$, respectively.\n",
    "\n",
    "### Derivation with alternative notation\n",
    "\n",
    "Some may prefer to derive the linearized PDE for $\\delta u$ using\n",
    "the more compact notation. We start with inserting $u^n=u^{-}+\\delta u$\n",
    "to get"
   ]
  },
  {
   "cell_type": "markdown",
   "metadata": {},
   "source": [
    "$$\n",
    "\\frac{u^{-} +\\delta u - u^{n-1}}{\\Delta t} =\n",
    "\\nabla\\cdot (\\dfc(u^{-} + \\delta u)\\nabla (u^{-}+\\delta u))\n",
    "+ f(u^{-}+\\delta u)\\thinspace .\n",
    "$$"
   ]
  },
  {
   "cell_type": "markdown",
   "metadata": {},
   "source": [
    "Taylor expanding,"
   ]
  },
  {
   "cell_type": "markdown",
   "metadata": {},
   "source": [
    "$$\n",
    "\\begin{align*}\n",
    "\\dfc(u^{-} + \\delta u) & \\approx \\dfc(u^{-}) + \\dfc^{\\prime}(u^{-})\\delta u,\\\\ \n",
    "f(u^{-}+\\delta u) & \\approx f(u^{-}) + f^{\\prime}(u^{-})\\delta u,\n",
    "\\end{align*}\n",
    "$$"
   ]
  },
  {
   "cell_type": "markdown",
   "metadata": {},
   "source": [
    "and inserting these expressions gives a less cluttered PDE for $\\delta u$:"
   ]
  },
  {
   "cell_type": "markdown",
   "metadata": {},
   "source": [
    "$$\n",
    "\\begin{align*}\n",
    "\\frac{u^{-} +\\delta u - u^{n-1}}{\\Delta t} &=\n",
    "\\nabla\\cdot (\\dfc(u^{-})\\nabla u^{-}) + f(u^{-}) + \\\\ \n",
    "&\\qquad \\nabla\\cdot (\\dfc(u^{-})\\nabla \\delta u)\n",
    "+ \\nabla\\cdot (\\dfc^{\\prime}(u^{-})\\delta u\\nabla u^{-}) + \\\\ \n",
    "&\\qquad \\nabla\\cdot (\\dfc^{\\prime}(u^{-})\\delta u\\nabla \\delta u)\n",
    "+ f^{\\prime}(u^{-})\\delta u\\thinspace .\n",
    "\\end{align*}\n",
    "$$"
   ]
  },
  {
   "cell_type": "markdown",
   "metadata": {},
   "source": [
    "## Crank-Nicolson discretization\n",
    "<div id=\"nonlin:pdelevel:Picard:CN\"></div>\n",
    "\n",
    "A Crank-Nicolson discretization of\n",
    "([1](#nonlin:pdelevel:model:pde)) applies a centered difference\n",
    "at $t_{n+\\frac{1}{2}}$:"
   ]
  },
  {
   "cell_type": "markdown",
   "metadata": {},
   "source": [
    "$$\n",
    "[D_t u = \\nabla\\cdot (\\dfc(u)\\nabla u) + f(u)]^{n+\\frac{1}{2}}\\thinspace .\n",
    "$$"
   ]
  },
  {
   "cell_type": "markdown",
   "metadata": {},
   "source": [
    "The standard technique is to apply an arithmetic average for\n",
    "quantities defined between two mesh points, e.g.,"
   ]
  },
  {
   "cell_type": "markdown",
   "metadata": {},
   "source": [
    "$$\n",
    "u^{n+\\frac{1}{2}}\\approx \\frac{1}{2}(u^n + u^{n+1})\\thinspace .\n",
    "$$"
   ]
  },
  {
   "cell_type": "markdown",
   "metadata": {},
   "source": [
    "However, with nonlinear terms we have many choices of formulating\n",
    "an arithmetic mean:"
   ]
  },
  {
   "cell_type": "markdown",
   "metadata": {},
   "source": [
    "<!-- Equation labels as ordinary links -->\n",
    "<div id=\"_auto5\"></div>\n",
    "\n",
    "$$\n",
    "\\begin{equation}\n",
    "[f(u)]^{n+\\frac{1}{2}} \\approx f(\\frac{1}{2}(u^n + u^{n+1}))\n",
    "= [f(\\overline{u}^t)]^{n+\\frac{1}{2}},\n",
    "\\label{_auto5} \\tag{16}\n",
    "\\end{equation}\n",
    "$$"
   ]
  },
  {
   "cell_type": "markdown",
   "metadata": {},
   "source": [
    "<!-- Equation labels as ordinary links -->\n",
    "<div id=\"_auto6\"></div>\n",
    "\n",
    "$$\n",
    "\\begin{equation}  \n",
    "[f(u)]^{n+\\frac{1}{2}} \\approx \\frac{1}{2}(f(u^n) + f(u^{n+1}))\n",
    "=[\\overline{f(u)}^t]^{n+\\frac{1}{2}},\n",
    "\\label{_auto6} \\tag{17}\n",
    "\\end{equation}\n",
    "$$"
   ]
  },
  {
   "cell_type": "markdown",
   "metadata": {},
   "source": [
    "<!-- Equation labels as ordinary links -->\n",
    "<div id=\"_auto7\"></div>\n",
    "\n",
    "$$\n",
    "\\begin{equation}  \n",
    "[\\dfc(u)\\nabla u]^{n+\\frac{1}{2}} \\approx\n",
    "\\dfc(\\frac{1}{2}(u^n + u^{n+1}))\\nabla (\\frac{1}{2}(u^n + u^{n+1}))\n",
    "= [\\dfc(\\overline{u}^t)\\nabla \\overline{u}^t]^{n+\\frac{1}{2}},\n",
    "\\label{_auto7} \\tag{18}\n",
    "\\end{equation}\n",
    "$$"
   ]
  },
  {
   "cell_type": "markdown",
   "metadata": {},
   "source": [
    "<!-- Equation labels as ordinary links -->\n",
    "<div id=\"_auto8\"></div>\n",
    "\n",
    "$$\n",
    "\\begin{equation}  \n",
    "[\\dfc(u)\\nabla u]^{n+\\frac{1}{2}} \\approx\n",
    "\\frac{1}{2}(\\dfc(u^n) + \\dfc(u^{n+1}))\\nabla (\\frac{1}{2}(u^n + u^{n+1}))\n",
    "= [\\overline{\\dfc(u)}^t\\nabla\\overline{u}^t]^{n+\\frac{1}{2}},\n",
    "\\label{_auto8} \\tag{19}\n",
    "\\end{equation}\n",
    "$$"
   ]
  },
  {
   "cell_type": "markdown",
   "metadata": {},
   "source": [
    "<!-- Equation labels as ordinary links -->\n",
    "<div id=\"_auto9\"></div>\n",
    "\n",
    "$$\n",
    "\\begin{equation}  \n",
    "[\\dfc(u)\\nabla u]^{n+\\frac{1}{2}} \\approx\n",
    "\\frac{1}{2}(\\dfc(u^n)\\nabla u^n + \\dfc(u^{n+1})\\nabla u^{n+1})\n",
    "= [\\overline{\\dfc(u)\\nabla u}^t]^{n+\\frac{1}{2}}\\thinspace .\n",
    "\\label{_auto9} \\tag{20}\n",
    "\\end{equation}\n",
    "$$"
   ]
  },
  {
   "cell_type": "markdown",
   "metadata": {},
   "source": [
    "A big question is whether there are significant differences in accuracy\n",
    "between taking the products of arithmetic means or taking the arithmetic\n",
    "mean of products. [nonlin:exer:products:arith:mean](#nonlin:exer:products:arith:mean) investigates\n",
    "this question, and the answer is that the approximation is\n",
    "$\\Oof{\\Delta t^2}$ in both cases.\n",
    "\n",
    "\n",
    "# 1D stationary nonlinear differential equations\n",
    "<div id=\"nonlin:alglevel:1D\"></div>\n",
    "\n",
    "The section [Linearization at the differential equation level](#nonlin:pdelevel) presented methods for linearizing\n",
    "time-discrete PDEs directly prior to discretization in space.  We can\n",
    "alternatively carry out the discretization in space of the\n",
    "time-discrete nonlinear PDE problem and get a system of nonlinear\n",
    "algebraic equations, which can be solved by Picard iteration or\n",
    "Newton's method as presented in the section [nonlin:systems:alg](#nonlin:systems:alg).\n",
    "This latter approach will now be described in detail.\n",
    "\n",
    "We shall work with the 1D problem"
   ]
  },
  {
   "cell_type": "markdown",
   "metadata": {},
   "source": [
    "<!-- Equation labels as ordinary links -->\n",
    "<div id=\"nonlin:alglevel:1D:pde\"></div>\n",
    "\n",
    "$$\n",
    "\\begin{equation}\n",
    "-(\\dfc(u)u^{\\prime})^{\\prime} + au = f(u),\\quad x\\in (0,L),\n",
    "\\quad \\dfc(u(0))u^{\\prime}(0) = C,\\ u(L)=D\n",
    "\\thinspace .\n",
    "\\label{nonlin:alglevel:1D:pde} \\tag{21}\n",
    "\\end{equation}\n",
    "$$"
   ]
  },
  {
   "cell_type": "markdown",
   "metadata": {},
   "source": [
    "The problem ([21](#nonlin:alglevel:1D:pde)) arises from the stationary\n",
    "limit of a diffusion equation,"
   ]
  },
  {
   "cell_type": "markdown",
   "metadata": {},
   "source": [
    "<!-- Equation labels as ordinary links -->\n",
    "<div id=\"nonlin:alglevel:1D:pde:tver\"></div>\n",
    "\n",
    "$$\n",
    "\\begin{equation}\n",
    "\\frac{\\partial u}{\\partial t} = \\frac{\\partial}{\\partial x}\\left(\n",
    "\\alpha(u)\\frac{\\partial u}{\\partial x}\\right) - au + f(u),\n",
    "\\label{nonlin:alglevel:1D:pde:tver} \\tag{22}\n",
    "\\end{equation}\n",
    "$$"
   ]
  },
  {
   "cell_type": "markdown",
   "metadata": {},
   "source": [
    "as $t\\rightarrow\\infty$ and $\\partial u/\\partial t\\rightarrow 0$.\n",
    "Alternatively, the problem ([21](#nonlin:alglevel:1D:pde)) arises\n",
    "at each time level from implicit time discretization of\n",
    "([22](#nonlin:alglevel:1D:pde:tver)). For example, a Backward Euler\n",
    "scheme for ([22](#nonlin:alglevel:1D:pde:tver)) leads to"
   ]
  },
  {
   "cell_type": "markdown",
   "metadata": {},
   "source": [
    "<!-- Equation labels as ordinary links -->\n",
    "<div id=\"nonlin:alglevel:1D:pde:tver:BE\"></div>\n",
    "\n",
    "$$\n",
    "\\begin{equation}\n",
    "\\frac{u^{n}-u^{n-1}}{\\Delta t} =\n",
    "\\frac{d}{dx}\\left(\n",
    "\\alpha(u^n)\\frac{du^n}{dx}\\right) - au^n + f(u^n)\\thinspace .\n",
    "\\label{nonlin:alglevel:1D:pde:tver:BE} \\tag{23}\n",
    "\\end{equation}\n",
    "$$"
   ]
  },
  {
   "cell_type": "markdown",
   "metadata": {},
   "source": [
    "Introducing $u(x)$ for $u^n(x)$, $u^{(1)}$ for $u^{n-1}$, and defining $f(u)$\n",
    "in ([21](#nonlin:alglevel:1D:pde)) to be $f(u)$ in\n",
    "([23](#nonlin:alglevel:1D:pde:tver:BE)) plus $u^{n-1}/\\Delta t$, gives\n",
    "([21](#nonlin:alglevel:1D:pde)) with $a=1/\\Delta t$.\n",
    "\n",
    "\n",
    "## Finite difference discretization\n",
    "<div id=\"nonlin:alglevel:1D:fd\"></div>\n",
    "\n",
    "\n",
    "The nonlinearity in the differential equation\n",
    "([21](#nonlin:alglevel:1D:pde)) poses no more difficulty than a variable\n",
    "coefficient, as in the term $(\\dfc(x)u^{\\prime})^{\\prime}$.  We can\n",
    "therefore use a standard finite difference approach when discretizing\n",
    "the Laplace term with a variable coefficient:"
   ]
  },
  {
   "cell_type": "markdown",
   "metadata": {},
   "source": [
    "$$\n",
    "[-D_x\\dfc D_x u +au = f]_i\\thinspace .\n",
    "$$"
   ]
  },
  {
   "cell_type": "markdown",
   "metadata": {},
   "source": [
    "Writing this out for a uniform mesh with points $x_i=i\\Delta x$,\n",
    "$i=0,\\ldots,N_x$, leads to"
   ]
  },
  {
   "cell_type": "markdown",
   "metadata": {},
   "source": [
    "<!-- Equation labels as ordinary links -->\n",
    "<div id=\"nonlin:alglevel:1D:fd:deq0\"></div>\n",
    "\n",
    "$$\n",
    "\\begin{equation}\n",
    "-\\frac{1}{\\Delta x^2}\n",
    "\\left(\\dfc_{i+\\frac{1}{2}}(u_{i+1}-u_i) -\n",
    "\\dfc_{i-\\frac{1}{2}}(u_{i}-u_{i-1})\\right)\n",
    "+ au_i = f(u_i)\\thinspace .\n",
    "\\label{nonlin:alglevel:1D:fd:deq0} \\tag{24}\n",
    "\\end{equation}\n",
    "$$"
   ]
  },
  {
   "cell_type": "markdown",
   "metadata": {},
   "source": [
    "This equation is valid at all the mesh points $i=0,1,\\ldots,N_x-1$.\n",
    "At $i=N_x$ we have the Dirichlet condition $u_i=0$.\n",
    "The only difference from the case with $(\\dfc(x)u^{\\prime})^{\\prime}$ and $f(x)$ is that\n",
    "now $\\dfc$ and $f$ are functions of $u$ and not only of $x$:\n",
    "$(\\dfc(u(x))u^{\\prime})^{\\prime}$ and $f(u(x))$.\n",
    "\n",
    "The quantity $\\dfc_{i+\\frac{1}{2}}$, evaluated between two mesh points,\n",
    "needs a comment. Since $\\dfc$ depends on $u$ and $u$ is only known\n",
    "at the mesh points, we need to express $\\dfc_{i+\\frac{1}{2}}$ in\n",
    "terms of $u_i$ and $u_{i+1}$. For this purpose we use an arithmetic\n",
    "mean, although a harmonic mean is also common in this context if\n",
    "$\\dfc$ features large jumps.\n",
    "There are two choices of arithmetic means:"
   ]
  },
  {
   "cell_type": "markdown",
   "metadata": {},
   "source": [
    "<!-- Equation labels as ordinary links -->\n",
    "<div id=\"nonlin:alglevel:1D:fd:dfc:mean:u\"></div>\n",
    "\n",
    "$$\n",
    "\\begin{equation}\n",
    "\\dfc_{i+\\frac{1}{2}} \\approx\n",
    "\\dfc(\\frac{1}{2}(u_i + u_{i+1}) =\n",
    "[\\dfc(\\overline{u}^x)]^{i+\\frac{1}{2}},\n",
    "\\label{nonlin:alglevel:1D:fd:dfc:mean:u} \\tag{25}\n",
    "\\end{equation}\n",
    "$$"
   ]
  },
  {
   "cell_type": "markdown",
   "metadata": {},
   "source": [
    "<!-- Equation labels as ordinary links -->\n",
    "<div id=\"nonlin:alglevel:1D:fd:dfc:mean:dfc\"></div>\n",
    "\n",
    "$$\n",
    "\\begin{equation}  \n",
    "\\dfc_{i+\\frac{1}{2}} \\approx\n",
    "\\frac{1}{2}(\\dfc(u_i) + \\dfc(u_{i+1})) = [\\overline{\\dfc(u)}^x]^{i+\\frac{1}{2}}\n",
    "\\label{nonlin:alglevel:1D:fd:dfc:mean:dfc} \\tag{26}\n",
    "\\end{equation}\n",
    "$$"
   ]
  },
  {
   "cell_type": "markdown",
   "metadata": {},
   "source": [
    "Equation ([24](#nonlin:alglevel:1D:fd:deq0)) with\n",
    "the latter approximation then looks like"
   ]
  },
  {
   "cell_type": "markdown",
   "metadata": {},
   "source": [
    "$$\n",
    "-\\frac{1}{2\\Delta x^2}\n",
    "\\left((\\dfc(u_i)+\\dfc(u_{i+1}))(u_{i+1}-u_i) -\n",
    "(\\dfc(u_{i-1})+\\dfc(u_{i}))(u_{i}-u_{i-1})\\right)\\nonumber\n",
    "$$"
   ]
  },
  {
   "cell_type": "markdown",
   "metadata": {},
   "source": [
    "<!-- Equation labels as ordinary links -->\n",
    "<div id=\"nonlin:alglevel:1D:fd:deq\"></div>\n",
    "\n",
    "$$\n",
    "\\begin{equation}  \n",
    "\\qquad\\qquad + au_i = f(u_i),\n",
    "\\label{nonlin:alglevel:1D:fd:deq} \\tag{27}\n",
    "\\end{equation}\n",
    "$$"
   ]
  },
  {
   "cell_type": "markdown",
   "metadata": {},
   "source": [
    "or written more compactly,"
   ]
  },
  {
   "cell_type": "markdown",
   "metadata": {},
   "source": [
    "$$\n",
    "[-D_x\\overline{\\dfc}^x D_x u +au = f]_i\\thinspace .\n",
    "$$"
   ]
  },
  {
   "cell_type": "markdown",
   "metadata": {},
   "source": [
    "At mesh point $i=0$ we have the boundary condition $\\dfc(u)u^{\\prime}=C$,\n",
    "which is discretized by"
   ]
  },
  {
   "cell_type": "markdown",
   "metadata": {},
   "source": [
    "$$\n",
    "[\\dfc(u)D_{2x}u = C]_0,\n",
    "$$"
   ]
  },
  {
   "cell_type": "markdown",
   "metadata": {},
   "source": [
    "meaning"
   ]
  },
  {
   "cell_type": "markdown",
   "metadata": {},
   "source": [
    "<!-- Equation labels as ordinary links -->\n",
    "<div id=\"nonlin:alglevel:1D:fd:Neumann:x0\"></div>\n",
    "\n",
    "$$\n",
    "\\begin{equation}\n",
    "\\dfc(u_0)\\frac{u_{1} - u_{-1}}{2\\Delta x} = C\\thinspace .\n",
    "\\label{nonlin:alglevel:1D:fd:Neumann:x0} \\tag{28}\n",
    "\\end{equation}\n",
    "$$"
   ]
  },
  {
   "cell_type": "markdown",
   "metadata": {},
   "source": [
    "The fictitious value $u_{-1}$ can be eliminated with the aid\n",
    "of ([27](#nonlin:alglevel:1D:fd:deq)) for $i=0$.\n",
    "Formally, ([27](#nonlin:alglevel:1D:fd:deq)) should be solved with\n",
    "respect to $u_{i-1}$ and that value (for $i=0$) should be inserted in\n",
    "([28](#nonlin:alglevel:1D:fd:Neumann:x0)), but it is algebraically\n",
    "much easier to do it the other way around. Alternatively, one can\n",
    "use a ghost cell $[-\\Delta x,0]$ and update the $u_{-1}$ value\n",
    "in the ghost cell according to ([28](#nonlin:alglevel:1D:fd:Neumann:x0))\n",
    "after every Picard or Newton iteration. Such an approach means that\n",
    "we use a known $u_{-1}$ value in ([27](#nonlin:alglevel:1D:fd:deq))\n",
    "from the previous iteration.\n",
    "\n",
    "## Solution of algebraic equations\n",
    "\n",
    "### The structure of the equation system\n",
    "\n",
    "The nonlinear algebraic equations ([27](#nonlin:alglevel:1D:fd:deq)) are\n",
    "of the form $A(u)u = b(u)$ with"
   ]
  },
  {
   "cell_type": "markdown",
   "metadata": {},
   "source": [
    "$$\n",
    "\\begin{align*}\n",
    "A_{i,i} &= \\frac{1}{2\\Delta x^2}(\\dfc(u_{i-1}) + 2\\dfc(u_{i})\n",
    "\\dfc(u_{i+1})) + a,\\\\ \n",
    "A_{i,i-1} &= -\\frac{1}{2\\Delta x^2}(\\dfc(u_{i-1}) + \\dfc(u_{i})),\\\\ \n",
    "A_{i,i+1} &= -\\frac{1}{2\\Delta x^2}(\\dfc(u_{i}) + \\dfc(u_{i+1})),\\\\ \n",
    "b_i &= f(u_i)\\thinspace .\n",
    "\\end{align*}\n",
    "$$"
   ]
  },
  {
   "cell_type": "markdown",
   "metadata": {},
   "source": [
    "The matrix $A(u)$ is tridiagonal: $A_{i,j}=0$ for $j > i+1$ and $j < i-1$.\n",
    "\n",
    "The above expressions are valid for internal mesh points $1\\leq i\\leq N_x-1$.\n",
    "For $i=0$ we need to express $u_{i-1}=u_{-1}$ in terms of $u_1$ using\n",
    "([28](#nonlin:alglevel:1D:fd:Neumann:x0)):"
   ]
  },
  {
   "cell_type": "markdown",
   "metadata": {},
   "source": [
    "<!-- Equation labels as ordinary links -->\n",
    "<div id=\"nonlin:alglevel:1D:fd:Neumann:x0:um1\"></div>\n",
    "\n",
    "$$\n",
    "\\begin{equation}\n",
    "u_{-1} = u_1 -\\frac{2\\Delta x}{\\dfc(u_0)}C\\thinspace .\n",
    "\\label{nonlin:alglevel:1D:fd:Neumann:x0:um1} \\tag{29}\n",
    "\\end{equation}\n",
    "$$"
   ]
  },
  {
   "cell_type": "markdown",
   "metadata": {},
   "source": [
    "This value must be inserted in $A_{0,0}$. The expression for $A_{i,i+1}$\n",
    "applies for $i=0$, and $A_{i,i-1}$ does not enter the system when $i=0$.\n",
    "\n",
    "Regarding the last equation, its form depends on whether we include\n",
    "the Dirichlet condition $u(L)=D$, meaning $u_{N_x}=D$, in the\n",
    "nonlinear algebraic equation system or not. Suppose we choose\n",
    "$(u_0,u_1,\\ldots,u_{N_x-1})$ as unknowns, later referred to as\n",
    "*systems without Dirichlet conditions*. The last equation\n",
    "corresponds to $i=N_x-1$. mathcal{I}_t involves the boundary value $u_{N_x}$,\n",
    "which is substituted by $D$. If the unknown vector includes the\n",
    "boundary value, $(u_0,u_1,\\ldots,u_{N_x})$, later referred to as\n",
    "*system including Dirichlet conditions*, the equation for $i=N_x-1$\n",
    "just involves the unknown $u_{N_x}$, and the final equation becomes\n",
    "$u_{N_x}=D$, corresponding to $A_{i,i}=1$ and $b_i=D$ for $i=N_x$.\n",
    "\n",
    "### Picard iteration\n",
    "\n",
    "The obvious Picard iteration scheme is to use previously computed\n",
    "values of $u_i$ in $A(u)$ and $b(u)$, as described more in detail in\n",
    "the section [nonlin:systems:alg](#nonlin:systems:alg). With the notation $u^{-}$ for the\n",
    "most recently computed value of $u$, we have the system $F(u)\\approx\n",
    "\\hat F(u) = A(u^{-})u - b(u^{-})$, with $F=(F_0,F_1,\\ldots,F_m)$,\n",
    "$u=(u_0,u_1,\\ldots,u_m)$.  The index $m$ is $N_x$ if the system\n",
    "includes the Dirichlet condition as a separate equation and $N_x-1$\n",
    "otherwise.  The matrix $A(u^{-})$ is tridiagonal, so the solution\n",
    "procedure is to fill a tridiagonal matrix data structure and the\n",
    "right-hand side vector with the right numbers and call a Gaussian\n",
    "elimination routine for tridiagonal linear systems.\n",
    "\n",
    "### Mesh with two cells\n",
    "\n",
    "mathcal{I}_t helps on the understanding of the details to write out all the\n",
    "mathematics in a specific\n",
    "case with a small mesh, say just two cells ($N_x=2$). We use $u^{-}_i$\n",
    "for the $i$-th component in $u^{-}$.\n",
    "\n",
    "The starting point is the basic expressions for the\n",
    "nonlinear equations at mesh point $i=0$ and $i=1$:"
   ]
  },
  {
   "cell_type": "markdown",
   "metadata": {},
   "source": [
    "<!-- Equation labels as ordinary links -->\n",
    "<div id=\"nonlin:alglevel:1D:fd:2x2:x0\"></div>\n",
    "\n",
    "$$\n",
    "\\begin{equation}\n",
    "A_{0,-1}u_{-1} + A_{0,0}u_0 + A_{0,1}u_1 = b_0,\n",
    "\\label{nonlin:alglevel:1D:fd:2x2:x0} \\tag{30}\n",
    "\\end{equation}\n",
    "$$"
   ]
  },
  {
   "cell_type": "markdown",
   "metadata": {},
   "source": [
    "<!-- Equation labels as ordinary links -->\n",
    "<div id=\"nonlin:alglevel:1D:fd:2x2:x1\"></div>\n",
    "\n",
    "$$\n",
    "\\begin{equation}  \n",
    "A_{1,0}u_{0} + A_{1,1}u_1 + A_{1,2}u_2 = b_1\\thinspace .\n",
    "\\label{nonlin:alglevel:1D:fd:2x2:x1} \\tag{31}\n",
    "\\end{equation}\n",
    "$$"
   ]
  },
  {
   "cell_type": "markdown",
   "metadata": {},
   "source": [
    "Equation ([30](#nonlin:alglevel:1D:fd:2x2:x0)) written out reads"
   ]
  },
  {
   "cell_type": "markdown",
   "metadata": {},
   "source": [
    "$$\n",
    "\\begin{align*}\n",
    "\\frac{1}{2\\Delta x^2}(& -(\\dfc(u_{-1}) + \\dfc(u_{0}))u_{-1}\\, +\\\\ \n",
    "& (\\dfc(u_{-1}) + 2\\dfc(u_{0}) + \\dfc(u_{1}))u_0\\, -\\\\ \n",
    "& (\\dfc(u_{0}) + \\dfc(u_{1})))u_1 + au_0\n",
    "=f(u_0)\\thinspace .\n",
    "\\end{align*}\n",
    "$$"
   ]
  },
  {
   "cell_type": "markdown",
   "metadata": {},
   "source": [
    "We must then replace $u_{-1}$ by\n",
    "([29](#nonlin:alglevel:1D:fd:Neumann:x0:um1)).\n",
    "With Picard iteration we get\n",
    "<!-- u_{-1} = u_1 -\\frac{2\\Delta x}{\\dfc(u_0)}C -->"
   ]
  },
  {
   "cell_type": "markdown",
   "metadata": {},
   "source": [
    "$$\n",
    "\\begin{align*}\n",
    "\\frac{1}{2\\Delta x^2}(& -(\\dfc(u^-_{-1}) + 2\\dfc(u^-_{0})\n",
    "+ \\dfc(u^-_{1}))u_1\\, +\\\\ \n",
    "&(\\dfc(u^-_{-1}) + 2\\dfc(u^-_{0}) + \\dfc(u^-_{1}))u_0\n",
    " + au_0\\\\ \n",
    "&=f(u^-_0) -\n",
    "\\frac{1}{\\dfc(u^-_0)\\Delta x}(\\dfc(u^-_{-1}) + \\dfc(u^-_{0}))C,\n",
    "\\end{align*}\n",
    "$$"
   ]
  },
  {
   "cell_type": "markdown",
   "metadata": {},
   "source": [
    "where"
   ]
  },
  {
   "cell_type": "markdown",
   "metadata": {},
   "source": [
    "$$\n",
    "u^-_{-1} = u_1^- -\\frac{2\\Delta x}{\\dfc(u^-_0)}C\\thinspace .\n",
    "$$"
   ]
  },
  {
   "cell_type": "markdown",
   "metadata": {},
   "source": [
    "Equation ([31](#nonlin:alglevel:1D:fd:2x2:x1)) contains the unknown $u_2$\n",
    "for which we have a Dirichlet condition. In case we omit the\n",
    "condition as a separate equation, ([31](#nonlin:alglevel:1D:fd:2x2:x1))\n",
    "with Picard iteration becomes"
   ]
  },
  {
   "cell_type": "markdown",
   "metadata": {},
   "source": [
    "$$\n",
    "\\begin{align*}\n",
    "\\frac{1}{2\\Delta x^2}(&-(\\dfc(u^-_{0}) + \\dfc(u^-_{1}))u_{0}\\, + \\\\ \n",
    "&(\\dfc(u^-_{0}) + 2\\dfc(u^-_{1}) + \\dfc(u^-_{2}))u_1\\, -\\\\ \n",
    "&(\\dfc(u^-_{1}) + \\dfc(u^-_{2})))u_2 + au_1\n",
    "=f(u^-_1)\\thinspace .\n",
    "\\end{align*}\n",
    "$$"
   ]
  },
  {
   "cell_type": "markdown",
   "metadata": {},
   "source": [
    "We must now move the $u_2$ term to the right-hand side and replace all\n",
    "occurrences of $u_2$ by $D$:"
   ]
  },
  {
   "cell_type": "markdown",
   "metadata": {},
   "source": [
    "$$\n",
    "\\begin{align*}\n",
    "\\frac{1}{2\\Delta x^2}(&-(\\dfc(u^-_{0}) + \\dfc(u^-_{1}))u_{0}\\, +\\\\ \n",
    "& (\\dfc(u^-_{0}) + 2\\dfc(u^-_{1}) + \\dfc(D)))u_1 + au_1\\\\ \n",
    "&=f(u^-_1) + \\frac{1}{2\\Delta x^2}(\\dfc(u^-_{1}) + \\dfc(D))D\\thinspace .\n",
    "\\end{align*}\n",
    "$$"
   ]
  },
  {
   "cell_type": "markdown",
   "metadata": {},
   "source": [
    "The two equations can be written as a $2\\times 2$ system:"
   ]
  },
  {
   "cell_type": "markdown",
   "metadata": {},
   "source": [
    "$$\n",
    "\\left(\\begin{array}{cc}\n",
    "B_{0,0}& B_{0,1}\\\\ \n",
    "B_{1,0} & B_{1,1}\n",
    "\\end{array}\\right)\n",
    "\\left(\\begin{array}{c}\n",
    "u_0\\\\ \n",
    "u_1\n",
    "\\end{array}\\right)\n",
    "=\n",
    "\\left(\\begin{array}{c}\n",
    "d_0\\\\ \n",
    "d_1\n",
    "\\end{array}\\right),\n",
    "$$"
   ]
  },
  {
   "cell_type": "markdown",
   "metadata": {},
   "source": [
    "where"
   ]
  },
  {
   "cell_type": "markdown",
   "metadata": {},
   "source": [
    "<!-- Equation labels as ordinary links -->\n",
    "<div id=\"_auto10\"></div>\n",
    "\n",
    "$$\n",
    "\\begin{equation}\n",
    "B_{0,0} =\\frac{1}{2\\Delta x^2}(\\dfc(u^-_{-1}) + 2\\dfc(u^-_{0}) + \\dfc(u^-_{1}))\n",
    "+ a,\n",
    "\\label{_auto10} \\tag{32}\n",
    "\\end{equation}\n",
    "$$"
   ]
  },
  {
   "cell_type": "markdown",
   "metadata": {},
   "source": [
    "<!-- Equation labels as ordinary links -->\n",
    "<div id=\"_auto11\"></div>\n",
    "\n",
    "$$\n",
    "\\begin{equation}  \n",
    "B_{0,1} =\n",
    "-\\frac{1}{2\\Delta x^2}(\\dfc(u^-_{-1}) + 2\\dfc(u^-_{0})\n",
    "+ \\dfc(u^-_{1})),\n",
    "\\label{_auto11} \\tag{33}\n",
    "\\end{equation}\n",
    "$$"
   ]
  },
  {
   "cell_type": "markdown",
   "metadata": {},
   "source": [
    "<!-- Equation labels as ordinary links -->\n",
    "<div id=\"_auto12\"></div>\n",
    "\n",
    "$$\n",
    "\\begin{equation}  \n",
    "B_{1,0} =\n",
    "-\\frac{1}{2\\Delta x^2}(\\dfc(u^-_{0}) + \\dfc(u^-_{1})),\n",
    "\\label{_auto12} \\tag{34}\n",
    "\\end{equation}\n",
    "$$"
   ]
  },
  {
   "cell_type": "markdown",
   "metadata": {},
   "source": [
    "<!-- Equation labels as ordinary links -->\n",
    "<div id=\"_auto13\"></div>\n",
    "\n",
    "$$\n",
    "\\begin{equation}  \n",
    "B_{1,1} =\n",
    "\\frac{1}{2\\Delta x^2}(\\dfc(u^-_{0}) + 2\\dfc(u^-_{1}) + \\dfc(D)) + a,\n",
    "\\label{_auto13} \\tag{35}\n",
    "\\end{equation}\n",
    "$$"
   ]
  },
  {
   "cell_type": "markdown",
   "metadata": {},
   "source": [
    "<!-- Equation labels as ordinary links -->\n",
    "<div id=\"_auto14\"></div>\n",
    "\n",
    "$$\n",
    "\\begin{equation}  \n",
    "d_0 =\n",
    "f(u^-_0) -\n",
    "\\frac{1}{\\dfc(u^-_0)\\Delta x}(\\dfc(u^-_{-1}) + \\dfc(u^-_{0}))C,\n",
    "\\label{_auto14} \\tag{36}\n",
    "\\end{equation}\n",
    "$$"
   ]
  },
  {
   "cell_type": "markdown",
   "metadata": {},
   "source": [
    "<!-- Equation labels as ordinary links -->\n",
    "<div id=\"_auto15\"></div>\n",
    "\n",
    "$$\n",
    "\\begin{equation}  \n",
    "d_1 = f(u^-_1) + \\frac{1}{2\\Delta x^2}(\\dfc(u^-_{1}) + \\dfc(D))D\\thinspace .\n",
    "\\label{_auto15} \\tag{37}\n",
    "\\end{equation}\n",
    "$$"
   ]
  },
  {
   "cell_type": "markdown",
   "metadata": {},
   "source": [
    "The system with the Dirichlet condition becomes"
   ]
  },
  {
   "cell_type": "markdown",
   "metadata": {},
   "source": [
    "$$\n",
    "\\left(\\begin{array}{ccc}\n",
    "B_{0,0}& B_{0,1} & 0\\\\ \n",
    "B_{1,0} & B_{1,1} & B_{1,2}\\\\ \n",
    "0  & 0 & 1\n",
    "\\end{array}\\right)\n",
    "\\left(\\begin{array}{c}\n",
    "u_0\\\\ \n",
    "u_1\\\\ \n",
    "u_2\n",
    "\\end{array}\\right)\n",
    "=\n",
    "\\left(\\begin{array}{c}\n",
    "d_0\\\\ \n",
    "d_1\\\\ \n",
    "D\n",
    "\\end{array}\\right),\n",
    "$$"
   ]
  },
  {
   "cell_type": "markdown",
   "metadata": {},
   "source": [
    "with"
   ]
  },
  {
   "cell_type": "markdown",
   "metadata": {},
   "source": [
    "<!-- Equation labels as ordinary links -->\n",
    "<div id=\"_auto16\"></div>\n",
    "\n",
    "$$\n",
    "\\begin{equation}\n",
    "B_{1,1} =\n",
    "\\frac{1}{2\\Delta x^2}(\\dfc(u^-_{0}) + 2\\dfc(u^-_{1}) + \\dfc(u_2)) + a,\n",
    "\\label{_auto16} \\tag{38}\n",
    "\\end{equation}\n",
    "$$"
   ]
  },
  {
   "cell_type": "markdown",
   "metadata": {},
   "source": [
    "<!-- Equation labels as ordinary links -->\n",
    "<div id=\"_auto17\"></div>\n",
    "\n",
    "$$\n",
    "\\begin{equation}  \n",
    "B_{1,2} = -\n",
    "\\frac{1}{2\\Delta x^2}(\\dfc(u^-_{1}) + \\dfc(u_2))),\n",
    "\\label{_auto17} \\tag{39}\n",
    "\\end{equation}\n",
    "$$"
   ]
  },
  {
   "cell_type": "markdown",
   "metadata": {},
   "source": [
    "<!-- Equation labels as ordinary links -->\n",
    "<div id=\"_auto18\"></div>\n",
    "\n",
    "$$\n",
    "\\begin{equation}  \n",
    "d_1 = f(u^-_1)\\thinspace .\n",
    "\\label{_auto18} \\tag{40}\n",
    "\\end{equation}\n",
    "$$"
   ]
  },
  {
   "cell_type": "markdown",
   "metadata": {},
   "source": [
    "Other entries are as in the $2\\times 2$ system.\n",
    "\n",
    "\n",
    "### Newton's method\n",
    "\n",
    "The Jacobian must be derived in order to use Newton's method. Here it means\n",
    "that we need to differentiate $F(u)=A(u)u - b(u)$ with respect to\n",
    "the unknown parameters\n",
    "$u_0,u_1,\\ldots,u_m$ ($m=N_x$ or $m=N_x-1$, depending on whether the\n",
    "Dirichlet condition is included in the nonlinear system $F(u)=0$ or not).\n",
    "Nonlinear equation number $i$ has the structure"
   ]
  },
  {
   "cell_type": "markdown",
   "metadata": {},
   "source": [
    "$$\n",
    "F_i = A_{i,i-1}(u_{i-1},u_i)u_{i-1} +\n",
    "A_{i,i}(u_{i-1},u_i,u_{i+1})u_i +\n",
    "A_{i,i+1}(u_i, u_{i+1})u_{i+1} - b_i(u_i)\\thinspace .\n",
    "$$"
   ]
  },
  {
   "cell_type": "markdown",
   "metadata": {},
   "source": [
    "Computing the Jacobian requires careful differentiation. For example,"
   ]
  },
  {
   "cell_type": "markdown",
   "metadata": {},
   "source": [
    "$$\n",
    "\\begin{align*}\n",
    "\\frac{\\partial}{\\partial u_i}(A_{i,i}(u_{i-1},u_i,u_{i+1})u_i) &=\n",
    "\\frac{\\partial A_{i,i}}{\\partial u_i}u_i + A_{i,i}\n",
    "\\frac{\\partial u_i}{\\partial u_i}\\\\ \n",
    "&=\n",
    "\\frac{\\partial}{\\partial u_i}(\n",
    "\\frac{1}{2\\Delta x^2}(\\dfc(u_{i-1}) + 2\\dfc(u_{i})\n",
    "+\\dfc(u_{i+1})) + a)u_i +\\\\ \n",
    "&\\quad\\frac{1}{2\\Delta x^2}(\\dfc(u_{i-1}) + 2\\dfc(u_{i})\n",
    "+\\dfc(u_{i+1})) + a\\\\ \n",
    "&= \\frac{1}{2\\Delta x^2}(2\\dfc^\\prime (u_i)u_i\n",
    "+\\dfc(u_{i-1}) + 2\\dfc(u_{i})\n",
    "+\\dfc(u_{i+1})) + a\\thinspace .\n",
    "\\end{align*}\n",
    "$$"
   ]
  },
  {
   "cell_type": "markdown",
   "metadata": {},
   "source": [
    "The complete Jacobian becomes"
   ]
  },
  {
   "cell_type": "markdown",
   "metadata": {},
   "source": [
    "$$\n",
    "\\begin{align*}\n",
    "J_{i,i} &= \\frac{\\partial F_i}{\\partial u_i}\n",
    "= \\frac{\\partial A_{i,i-1}}{\\partial u_i}u_{i-1}\n",
    "+ \\frac{\\partial A_{i,i}}{\\partial u_i}u_i\n",
    "+ A_{i,i}\n",
    "+ \\frac{\\partial A_{i,i+1}}{\\partial u_i}u_{i+1}\n",
    "- \\frac{\\partial b_i}{\\partial u_{i}}\\\\ \n",
    "&=\n",
    "\\frac{1}{2\\Delta x^2}(\n",
    "-\\dfc^{\\prime}(u_i)u_{i-1}\n",
    "+2\\dfc^{\\prime}(u_i)u_{i}\n",
    "+\\dfc(u_{i-1}) + 2\\dfc(u_i) + \\dfc(u_{i+1})) +\\\\ \n",
    "&\\quad a\n",
    "-\\frac{1}{2\\Delta x^2}\\dfc^{\\prime}(u_{i})u_{i+1}\n",
    "- b^{\\prime}(u_i),\\\\ \n",
    "J_{i,i-1} &= \\frac{\\partial F_i}{\\partial u_{i-1}}\n",
    "= \\frac{\\partial A_{i,i-1}}{\\partial u_{i-1}}u_{i-1}\n",
    "+ A_{i-1,i}\n",
    "+ \\frac{\\partial A_{i,i}}{\\partial u_{i-1}}u_i\n",
    "- \\frac{\\partial b_i}{\\partial u_{i-1}}\\\\ \n",
    "&=\n",
    "\\frac{1}{2\\Delta x^2}(\n",
    "-\\dfc^{\\prime}(u_{i-1})u_{i-1} - (\\dfc(u_{i-1}) + \\dfc(u_i))\n",
    "+ \\dfc^{\\prime}(u_{i-1})u_i),\\\\ \n",
    "J_{i,i+1} &= \\frac{\\partial A_{i,i+1}}{\\partial u_{i-1}}u_{i+1}\n",
    "+ A_{i+1,i} +\n",
    "\\frac{\\partial A_{i,i}}{\\partial u_{i+1}}u_i\n",
    "- \\frac{\\partial b_i}{\\partial u_{i+1}}\\\\ \n",
    "&=\\frac{1}{2\\Delta x^2}(\n",
    "-\\dfc^{\\prime}(u_{i+1})u_{i+1} - (\\dfc(u_{i}) + \\dfc(u_{i+1}))\n",
    "+ \\dfc^{\\prime}(u_{i+1})u_i)\n",
    "\\thinspace .\n",
    "\\end{align*}\n",
    "$$"
   ]
  },
  {
   "cell_type": "markdown",
   "metadata": {},
   "source": [
    "The explicit expression for nonlinear equation number $i$,\n",
    "$F_i(u_0,u_1,\\ldots)$, arises from moving the $f(u_i)$ term in\n",
    "([27](#nonlin:alglevel:1D:fd:deq)) to the left-hand side:"
   ]
  },
  {
   "cell_type": "markdown",
   "metadata": {},
   "source": [
    "$$\n",
    "F_i = -\\frac{1}{2\\Delta x^2}\n",
    "\\left((\\dfc(u_i)+\\dfc(u_{i+1}))(u_{i+1}-u_i) -\n",
    "(\\dfc(u_{i-1})+\\dfc(u_{i}))(u_{i}-u_{i-1})\\right)\\nonumber\n",
    "$$"
   ]
  },
  {
   "cell_type": "markdown",
   "metadata": {},
   "source": [
    "<!-- Equation labels as ordinary links -->\n",
    "<div id=\"nonlin:alglevel:1D:fd:deq2\"></div>\n",
    "\n",
    "$$\n",
    "\\begin{equation}  \n",
    "\\qquad\\qquad + au_i - f(u_i) = 0\\thinspace .\n",
    "\\label{nonlin:alglevel:1D:fd:deq2} \\tag{41}\n",
    "\\end{equation}\n",
    "$$"
   ]
  },
  {
   "cell_type": "markdown",
   "metadata": {},
   "source": [
    "At the boundary point $i=0$, $u_{-1}$ must be replaced using\n",
    "the formula ([29](#nonlin:alglevel:1D:fd:Neumann:x0:um1)).\n",
    "When the Dirichlet condition at $i=N_x$ is not a part of the\n",
    "equation system, the last equation $F_m=0$ for $m=N_x-1$\n",
    "involves the quantity $u_{N_x-1}$ which must be replaced by $D$.\n",
    "If $u_{N_x}$ is treated as an unknown in the system, the\n",
    "last equation $F_m=0$ has $m=N_x$ and reads"
   ]
  },
  {
   "cell_type": "markdown",
   "metadata": {},
   "source": [
    "$$\n",
    "F_{N_x}(u_0,\\ldots,u_{N_x}) = u_{N_x} - D = 0\\thinspace .\n",
    "$$"
   ]
  },
  {
   "cell_type": "markdown",
   "metadata": {},
   "source": [
    "Similar replacement of $u_{-1}$ and $u_{N_x}$ must be done in\n",
    "the Jacobian for the first and last row. When $u_{N_x}$\n",
    "is included as an unknown, the last row in the Jacobian\n",
    "must help implement the condition $\\delta u_{N_x}=0$, since\n",
    "we assume that $u$ contains the right Dirichlet value\n",
    "at the beginning of the iteration ($u_{N_x}=D$), and then\n",
    "the Newton update should be zero for $i=0$, i.e., $\\delta u_{N_x}=0$.\n",
    "This also forces the right-hand side to be $b_i=0$, $i=N_x$.\n",
    "\n",
    "We have seen, and can see from the present example, that the\n",
    "linear system in Newton's method contains all the terms present\n",
    "in the system that arises in the Picard iteration method.\n",
    "The extra terms in Newton's method can be multiplied by a factor\n",
    "such that it is easy to program one linear system and set this\n",
    "factor to 0 or 1 to generate the Picard or Newton system.\n",
    "\n",
    "<!-- Remark: Neumann cond at x=L and Dirichlet at x=0 leads to different -->\n",
    "<!-- numbering of unknowns and u at mesh points. Must address this -->\n",
    "<!-- in a remark and treat it properly in diffu. -->"
   ]
  }
 ],
 "metadata": {},
 "nbformat": 4,
 "nbformat_minor": 4
}
