{
 "cells": [
  {
   "cell_type": "markdown",
   "metadata": {},
   "source": [
    "# Finite difference operator notation\n",
    "<div id=\"sec:form:fdop\"></div>"
   ]
  },
  {
   "cell_type": "markdown",
   "metadata": {},
   "source": [
    "<!-- Equation labels as ordinary links -->\n",
    "<div id=\"Dop:fd1:center\"></div>\n",
    "\n",
    "$$\n",
    "\\begin{equation}\n",
    "u'(t_n) \\approx\n",
    "\\lbrack D_tu\\rbrack^n = \\frac{u^{n+\\half} - u^{n-\\half}}{\\Delta t} \\label{Dop:fd1:center} \\tag{1}\n",
    "\\end{equation}\n",
    "$$"
   ]
  },
  {
   "cell_type": "markdown",
   "metadata": {},
   "source": [
    "<!-- Equation labels as ordinary links -->\n",
    "<div id=\"Dop:fd1:center2\"></div>\n",
    "\n",
    "$$\n",
    "\\begin{equation} \n",
    "u'(t_n) \\approx\n",
    "\\lbrack D_{2t}u\\rbrack^n = \\frac{u^{n+1} - u^{n-1}}{2\\Delta t}\n",
    "\\label{Dop:fd1:center2} \\tag{2}\n",
    "\\end{equation}\n",
    "$$"
   ]
  },
  {
   "cell_type": "markdown",
   "metadata": {},
   "source": [
    "<!-- Equation labels as ordinary links -->\n",
    "<div id=\"Dop:fd1:bw\"></div>\n",
    "\n",
    "$$\n",
    "\\begin{equation} \n",
    "u'(t_n) =\n",
    "\\lbrack D_t^-u\\rbrack^n = \\frac{u^{n} - u^{n-1}}{\\Delta t}\n",
    "\\label{Dop:fd1:bw} \\tag{3}\n",
    "\\end{equation}\n",
    "$$"
   ]
  },
  {
   "cell_type": "markdown",
   "metadata": {},
   "source": [
    "<!-- Equation labels as ordinary links -->\n",
    "<div id=\"Dop:fd1:fw\"></div>\n",
    "\n",
    "$$\n",
    "\\begin{equation} \n",
    "u'(t_n) \\approx\n",
    "\\lbrack D_t^+u\\rbrack^n = \\frac{u^{n+1} - u^{n}}{\\Delta t}\n",
    "\\label{Dop:fd1:fw} \\tag{4}\n",
    "\\end{equation}\n",
    "$$"
   ]
  },
  {
   "cell_type": "markdown",
   "metadata": {},
   "source": [
    "<!-- Equation labels as ordinary links -->\n",
    "<div id=\"Dop:fd1:theta\"></div>\n",
    "\n",
    "$$\n",
    "\\begin{equation} \n",
    "u'(t_{n+\\theta}) =\n",
    "\\lbrack \\bar D_tu\\rbrack^{n+\\theta} = \\frac{u^{n+1} - u^{n}}{\\Delta t}\n",
    "\\label{Dop:fd1:theta} \\tag{5}\n",
    "\\end{equation}\n",
    "$$"
   ]
  },
  {
   "cell_type": "markdown",
   "metadata": {},
   "source": [
    "<!-- Equation labels as ordinary links -->\n",
    "<div id=\"Dop:fd1:bw2\"></div>\n",
    "\n",
    "$$\n",
    "\\begin{equation} \n",
    "u'(t_n) \\approx\n",
    "\\lbrack D_t^{2-}u\\rbrack^n = \\frac{3u^{n} - 4u^{n-1} + u^{n-2}}{2\\Delta t}\n",
    "\\label{Dop:fd1:bw2} \\tag{6}\n",
    "\\end{equation}\n",
    "$$"
   ]
  },
  {
   "cell_type": "markdown",
   "metadata": {},
   "source": [
    "<!-- Equation labels as ordinary links -->\n",
    "<div id=\"Dop:fd2:center\"></div>\n",
    "\n",
    "$$\n",
    "\\begin{equation} \n",
    "u''(t_n) \\approx\n",
    "\\lbrack D_tD_t u\\rbrack^n = \\frac{u^{n+1} - 2u^{n} + u^{n-1}}{\\Delta t^2}\n",
    "\\label{Dop:fd2:center} \\tag{7}\n",
    "\\end{equation}\n",
    "$$"
   ]
  },
  {
   "cell_type": "markdown",
   "metadata": {},
   "source": [
    "<!-- Equation labels as ordinary links -->\n",
    "<div id=\"Dop:avg:arith\"></div>\n",
    "\n",
    "$$\n",
    "\\begin{equation} \n",
    "u(t_{n+\\half}) \\approx \\lbrack \\overline{u}^{t}\\rbrack^{n+\\half}\n",
    "= \\half(u^{n+1} + u^n)\n",
    "\\label{Dop:avg:arith} \\tag{8}\n",
    "\\end{equation}\n",
    "$$"
   ]
  },
  {
   "cell_type": "markdown",
   "metadata": {},
   "source": [
    "<!-- Equation labels as ordinary links -->\n",
    "<div id=\"Dop:avg:geom\"></div>\n",
    "\n",
    "$$\n",
    "\\begin{equation} \n",
    "u(t_{n+\\half})^2 \\approx \\lbrack \\overline{u^2}^{t,g}\\rbrack^{n+\\half}\n",
    "= u^{n+1}u^n\n",
    "\\label{Dop:avg:geom} \\tag{9}\n",
    "\\end{equation}\n",
    "$$"
   ]
  },
  {
   "cell_type": "markdown",
   "metadata": {},
   "source": [
    "<!-- Equation labels as ordinary links -->\n",
    "<div id=\"Dop:avg:harm\"></div>\n",
    "\n",
    "$$\n",
    "\\begin{equation} \n",
    "u(t_{n+\\half}) \\approx \\lbrack \\overline{u}^{t,h}\\rbrack^{n+\\half}\n",
    "= \\frac{2}{\\frac{1}{u^{n+1}} + \\frac{1}{u^n}}\n",
    "\\label{Dop:avg:harm} \\tag{10}\n",
    "\\end{equation}\n",
    "$$"
   ]
  },
  {
   "cell_type": "markdown",
   "metadata": {},
   "source": [
    "<!-- Equation labels as ordinary links -->\n",
    "<div id=\"Dop:avg:theta\"></div>\n",
    "\n",
    "$$\n",
    "\\begin{equation} \n",
    "u(t_{n+\\theta}) \\approx \\lbrack \\overline{u}^{t,\\theta}\\rbrack^{n+\\theta}\n",
    "= \\theta u^{n+1} + (1-\\theta)u^n ,\n",
    "\\label{Dop:avg:theta} \\tag{11}\n",
    "\\end{equation}\n",
    "$$"
   ]
  },
  {
   "cell_type": "markdown",
   "metadata": {},
   "source": [
    "<!-- Equation labels as ordinary links -->\n",
    "<div id=\"_auto1\"></div>\n",
    "\n",
    "$$\n",
    "\\begin{equation} \n",
    "\\qquad t_{n+\\theta}=\\theta t_{n+1} + (1-\\theta)t_{n-1}\n",
    "\\label{_auto1} \\tag{12}\n",
    "\\end{equation}\n",
    "$$"
   ]
  },
  {
   "cell_type": "markdown",
   "metadata": {},
   "source": [
    "Some may wonder why $\\theta$ is absent on the right-hand side\n",
    "of ([5](#Dop:fd1:theta)). The fraction is an approximation to the\n",
    "derivative at the point $t_{n+\\theta}=\\theta t_{n+1} + (1-\\theta) t_{n}$.\n",
    "\n",
    "# Truncation errors of finite difference approximations\n",
    "<div id=\"sec:form:truncerr\"></div>"
   ]
  },
  {
   "cell_type": "markdown",
   "metadata": {},
   "source": [
    "$$\n",
    "\\uex'(t_n) =\n",
    "[D_t\\uex]^n + R^n = \\frac{\\uex^{n+\\half} - \\uex^{n-\\half}}{\\Delta t} +R^n\\nonumber,\n",
    "$$"
   ]
  },
  {
   "cell_type": "markdown",
   "metadata": {},
   "source": [
    "<!-- Equation labels as ordinary links -->\n",
    "<div id=\"form:trunc:fd1:center\"></div>\n",
    "\n",
    "$$\n",
    "\\begin{equation} \n",
    "R^n = -\\frac{1}{24}\\uex'''(t_n)\\Delta t^2 + {\\cal O}(\\Delta t^4)\n",
    "\\label{form:trunc:fd1:center} \\tag{13}\n",
    "\\end{equation}\n",
    "$$"
   ]
  },
  {
   "cell_type": "markdown",
   "metadata": {},
   "source": [
    "$$\n",
    "\\uex'(t_n) =\n",
    "[D_{2t}\\uex]^n +R^n = \\frac{\\uex^{n+1} - \\uex^{n-1}}{2\\Delta t} +\n",
    "R^n\\nonumber,\n",
    "$$"
   ]
  },
  {
   "cell_type": "markdown",
   "metadata": {},
   "source": [
    "<!-- Equation labels as ordinary links -->\n",
    "<div id=\"form:trunc:fd1:center2\"></div>\n",
    "\n",
    "$$\n",
    "\\begin{equation} \n",
    "R^n = -\\frac{1}{6}\\uex'''(t_n)\\Delta t^2 + {\\cal O}(\\Delta t^4)\n",
    "\\label{form:trunc:fd1:center2} \\tag{14}\n",
    "\\end{equation}\n",
    "$$"
   ]
  },
  {
   "cell_type": "markdown",
   "metadata": {},
   "source": [
    "$$\n",
    "\\uex'(t_n) =\n",
    "[D_t^-\\uex]^n +R^n = \\frac{\\uex^{n} - \\uex^{n-1}}{\\Delta t}\n",
    "+R^n\\nonumber,\n",
    "$$"
   ]
  },
  {
   "cell_type": "markdown",
   "metadata": {},
   "source": [
    "<!-- Equation labels as ordinary links -->\n",
    "<div id=\"form:trunc:fd1:bw\"></div>\n",
    "\n",
    "$$\n",
    "\\begin{equation} \n",
    "R^n = -\\half\\uex''(t_n)\\Delta t + {\\cal O}(\\Delta t^2)\n",
    "\\label{form:trunc:fd1:bw} \\tag{15}\n",
    "\\end{equation}\n",
    "$$"
   ]
  },
  {
   "cell_type": "markdown",
   "metadata": {},
   "source": [
    "$$\n",
    "\\uex'(t_n) =\n",
    "[D_t^+\\uex]^n +R^n = \\frac{\\uex^{n+1} - \\uex^{n}}{\\Delta t}\n",
    "+R^n\\nonumber,\n",
    "$$"
   ]
  },
  {
   "cell_type": "markdown",
   "metadata": {},
   "source": [
    "<!-- Equation labels as ordinary links -->\n",
    "<div id=\"form:trunc:fd1:fw\"></div>\n",
    "\n",
    "$$\n",
    "\\begin{equation} \n",
    "R^n = \\half\\uex''(t_n)\\Delta t + {\\cal O}(\\Delta t^2)\n",
    "\\label{form:trunc:fd1:fw} \\tag{16}\n",
    "\\end{equation}\n",
    "$$"
   ]
  },
  {
   "cell_type": "markdown",
   "metadata": {},
   "source": [
    "$$\n",
    "\\uex'(t_{n+\\theta}) =\n",
    "[\\bar D_t\\uex]^{n+\\theta} +R^{n+\\theta} = \\frac{\\uex^{n+1} - \\uex^{n}}{\\Delta t}\n",
    "+R^{n+\\theta}\\nonumber,\n",
    "$$"
   ]
  },
  {
   "cell_type": "markdown",
   "metadata": {},
   "source": [
    "$$\n",
    "R^{n+\\theta} = -\\half(1-2\\theta)\\uex''(t_{n+\\theta})\\Delta t +\n",
    "\\frac{1}{6}((1 - \\theta)^3 - \\theta^3)\\uex'''(t_{n+\\theta})\\Delta t^2 +\n",
    "\\nonumber\n",
    "$$"
   ]
  },
  {
   "cell_type": "markdown",
   "metadata": {},
   "source": [
    "<!-- Equation labels as ordinary links -->\n",
    "<div id=\"form:trunc:fd1:theta\"></div>\n",
    "\n",
    "$$\n",
    "\\begin{equation} \n",
    "\\quad {\\cal O}(\\Delta t^3)\n",
    "\\label{form:trunc:fd1:theta} \\tag{17}\n",
    "\\end{equation}\n",
    "$$"
   ]
  },
  {
   "cell_type": "markdown",
   "metadata": {},
   "source": [
    "$$\n",
    "\\uex'(t_n) =\n",
    "[D_t^{2-}\\uex]^n +R^n = \\frac{3\\uex^{n} - 4\\uex^{n-1} + \\uex^{n-2}}{2\\Delta t}\n",
    "+R^n\\nonumber,\n",
    "$$"
   ]
  },
  {
   "cell_type": "markdown",
   "metadata": {},
   "source": [
    "<!-- Equation labels as ordinary links -->\n",
    "<div id=\"form:trunc:fd1:bw2\"></div>\n",
    "\n",
    "$$\n",
    "\\begin{equation} \n",
    "R^n = \\frac{1}{3}\\uex'''(t_n)\\Delta t^2 + {\\cal O}(\\Delta t^3)\n",
    "\\label{form:trunc:fd1:bw2} \\tag{18}\n",
    "\\end{equation}\n",
    "$$"
   ]
  },
  {
   "cell_type": "markdown",
   "metadata": {},
   "source": [
    "$$\n",
    "\\uex''(t_n) =\n",
    "[D_tD_t \\uex]^n +R^n = \\frac{\\uex^{n+1} - 2\\uex^{n} + \\uex^{n-1}}{\\Delta t^2}\n",
    "+R^n\\nonumber,\n",
    "$$"
   ]
  },
  {
   "cell_type": "markdown",
   "metadata": {},
   "source": [
    "<!-- Equation labels as ordinary links -->\n",
    "<div id=\"form:trunc:fd2:center\"></div>\n",
    "\n",
    "$$\n",
    "\\begin{equation} \n",
    "R^n = -\\frac{1}{12}\\uex''''(t_n)\\Delta t^2 + {\\cal O}(\\Delta t^4)\n",
    "\\label{form:trunc:fd2:center} \\tag{19}\n",
    "\\end{equation}\n",
    "$$"
   ]
  },
  {
   "cell_type": "markdown",
   "metadata": {},
   "source": [
    "$$\n",
    "\\uex(t_{n+\\theta}) = [\\overline{\\uex}^{t,\\theta}]^{n+\\theta} +R^{n+\\theta}\n",
    "= \\theta \\uex^{n+1} + (1-\\theta)\\uex^n +R^{n+\\theta},\\nonumber\n",
    "$$"
   ]
  },
  {
   "cell_type": "markdown",
   "metadata": {},
   "source": [
    "<!-- Equation labels as ordinary links -->\n",
    "<div id=\"form:trunc:avg:theta\"></div>\n",
    "\n",
    "$$\n",
    "\\begin{equation} \n",
    "R^{n+\\theta} = -\\half\\uex''(t_{n+\\theta})\\Delta t^2\\theta (1-\\theta) +\n",
    "{\\cal O}(\\Delta t^3)\n",
    "\\tp\n",
    "\\label{form:trunc:avg:theta} \\tag{20}\n",
    "\\end{equation}\n",
    "$$"
   ]
  },
  {
   "cell_type": "markdown",
   "metadata": {},
   "source": [
    "# Finite differences of exponential functions\n",
    "<div id=\"sec:form:fdexp\"></div>\n",
    "\n",
    "### Complex exponentials\n",
    "\n",
    "Let $u^n = \\exp{(i\\omega n\\Delta t)} = e^{i\\omega t_n}$."
   ]
  },
  {
   "cell_type": "markdown",
   "metadata": {},
   "source": [
    "<!-- Equation labels as ordinary links -->\n",
    "<div id=\"form:exp:fd2:center\"></div>\n",
    "\n",
    "$$\n",
    "\\begin{equation}\n",
    "[D_tD_t u]^n = u^n \\frac{2}{\\Delta t}(\\cos \\omega\\Delta t - 1) =\n",
    "-\\frac{4}{\\Delta t}\\sin^2\\left(\\frac{\\omega\\Delta t}{2}\\right),\n",
    "\\label{form:exp:fd2:center} \\tag{21}\n",
    "\\end{equation}\n",
    "$$"
   ]
  },
  {
   "cell_type": "markdown",
   "metadata": {},
   "source": [
    "<!-- Equation labels as ordinary links -->\n",
    "<div id=\"form:exp:fd1:fw\"></div>\n",
    "\n",
    "$$\n",
    "\\begin{equation} \n",
    "[D_t^+ u]^n = u^n\\frac{1}{\\Delta t}(\\exp{(i\\omega\\Delta t)} - 1),\n",
    "\\label{form:exp:fd1:fw} \\tag{22}\n",
    "\\end{equation}\n",
    "$$"
   ]
  },
  {
   "cell_type": "markdown",
   "metadata": {},
   "source": [
    "<!-- Equation labels as ordinary links -->\n",
    "<div id=\"form:exp:fd1:bw\"></div>\n",
    "\n",
    "$$\n",
    "\\begin{equation} \n",
    "[D_t^- u]^n = u^n\\frac{1}{\\Delta t}(1 - \\exp{(-i\\omega\\Delta t)}),\n",
    "\\label{form:exp:fd1:bw} \\tag{23}\n",
    "\\end{equation}\n",
    "$$"
   ]
  },
  {
   "cell_type": "markdown",
   "metadata": {},
   "source": [
    "<!-- Equation labels as ordinary links -->\n",
    "<div id=\"form:exp:fd1:center\"></div>\n",
    "\n",
    "$$\n",
    "\\begin{equation} \n",
    "[D_t u]^n = u^n\\frac{2}{\\Delta t}i\\sin{\\left(\\frac{\\omega\\Delta t}{2}\\right)},\n",
    "\\label{form:exp:fd1:center} \\tag{24}\n",
    "\\end{equation}\n",
    "$$"
   ]
  },
  {
   "cell_type": "markdown",
   "metadata": {},
   "source": [
    "<!-- Equation labels as ordinary links -->\n",
    "<div id=\"form:exp:fd1c:center\"></div>\n",
    "\n",
    "$$\n",
    "\\begin{equation} \n",
    "[D_{2t} u]^n = u^n\\frac{1}{\\Delta t}i\\sin{(\\omega\\Delta t)}\n",
    "\\label{form:exp:fd1c:center} \\tag{25}\n",
    "\\tp\n",
    "\\end{equation}\n",
    "$$"
   ]
  },
  {
   "cell_type": "markdown",
   "metadata": {},
   "source": [
    "### Real exponentials\n",
    "\n",
    "Let $u^n = \\exp{(\\omega n\\Delta t)} = e^{\\omega t_n}$."
   ]
  },
  {
   "cell_type": "markdown",
   "metadata": {},
   "source": [
    "<!-- Equation labels as ordinary links -->\n",
    "<div id=\"form:rexp:fd2:center\"></div>\n",
    "\n",
    "$$\n",
    "\\begin{equation}\n",
    "[D_tD_t u]^n = u^n \\frac{2}{\\Delta t}(\\cos \\omega\\Delta t - 1) =\n",
    "-\\frac{4}{\\Delta t}\\sin^2\\left(\\frac{\\omega\\Delta t}{2}\\right),\n",
    "\\label{form:rexp:fd2:center} \\tag{26}\n",
    "\\end{equation}\n",
    "$$"
   ]
  },
  {
   "cell_type": "markdown",
   "metadata": {},
   "source": [
    "<!-- Equation labels as ordinary links -->\n",
    "<div id=\"form:rexp:fd1:fw\"></div>\n",
    "\n",
    "$$\n",
    "\\begin{equation} \n",
    "[D_t^+ u]^n = u^n\\frac{1}{\\Delta t}(\\exp{(i\\omega\\Delta t)} - 1),\n",
    "\\label{form:rexp:fd1:fw} \\tag{27}\n",
    "\\end{equation}\n",
    "$$"
   ]
  },
  {
   "cell_type": "markdown",
   "metadata": {},
   "source": [
    "<!-- Equation labels as ordinary links -->\n",
    "<div id=\"form:rexp:fd1:bw\"></div>\n",
    "\n",
    "$$\n",
    "\\begin{equation} \n",
    "[D_t^- u]^n = u^n\\frac{1}{\\Delta t}(1 - \\exp{(-i\\omega\\Delta t)}),\n",
    "\\label{form:rexp:fd1:bw} \\tag{28}\n",
    "\\end{equation}\n",
    "$$"
   ]
  },
  {
   "cell_type": "markdown",
   "metadata": {},
   "source": [
    "<!-- Equation labels as ordinary links -->\n",
    "<div id=\"form:rexp:fd1:center\"></div>\n",
    "\n",
    "$$\n",
    "\\begin{equation} \n",
    "[D_t u]^n = u^n\\frac{2}{\\Delta t}i\\sin{\\left(\\frac{\\omega\\Delta t}{2}\\right)},\n",
    "\\label{form:rexp:fd1:center} \\tag{29}\n",
    "\\end{equation}\n",
    "$$"
   ]
  },
  {
   "cell_type": "markdown",
   "metadata": {},
   "source": [
    "<!-- Equation labels as ordinary links -->\n",
    "<div id=\"form:rexp:fd1c:center\"></div>\n",
    "\n",
    "$$\n",
    "\\begin{equation} \n",
    "[D_{2t} u]^n = u^n\\frac{1}{\\Delta t}i\\sin{(\\omega\\Delta t)}\n",
    "\\label{form:rexp:fd1c:center} \\tag{30}\n",
    "\\tp\n",
    "\\end{equation}\n",
    "$$"
   ]
  },
  {
   "cell_type": "markdown",
   "metadata": {},
   "source": [
    "# Finite differences of $t^n$\n",
    "<div id=\"sec:form:fdtn\"></div>\n",
    "\n",
    "The following results are useful when checking if a polynomial term in a\n",
    "solution fulfills the discrete equation for the numerical method."
   ]
  },
  {
   "cell_type": "markdown",
   "metadata": {},
   "source": [
    "<!-- Equation labels as ordinary links -->\n",
    "<div id=\"form:Dop:tn:fw\"></div>\n",
    "\n",
    "$$\n",
    "\\begin{equation}\n",
    "\\lbrack D_t^+ t\\rbrack^n = 1,\n",
    "\\label{form:Dop:tn:fw} \\tag{31}\n",
    "\\end{equation}\n",
    "$$"
   ]
  },
  {
   "cell_type": "markdown",
   "metadata": {},
   "source": [
    "<!-- Equation labels as ordinary links -->\n",
    "<div id=\"form:Dop:tn:bw\"></div>\n",
    "\n",
    "$$\n",
    "\\begin{equation} \n",
    "\\lbrack D_t^- t\\rbrack^n = 1,\n",
    "\\label{form:Dop:tn:bw} \\tag{32}\n",
    "\\end{equation}\n",
    "$$"
   ]
  },
  {
   "cell_type": "markdown",
   "metadata": {},
   "source": [
    "<!-- Equation labels as ordinary links -->\n",
    "<div id=\"form:Dop:tn:cn\"></div>\n",
    "\n",
    "$$\n",
    "\\begin{equation} \n",
    "\\lbrack D_t t\\rbrack^n = 1,\n",
    "\\label{form:Dop:tn:cn} \\tag{33}\n",
    "\\end{equation}\n",
    "$$"
   ]
  },
  {
   "cell_type": "markdown",
   "metadata": {},
   "source": [
    "<!-- Equation labels as ordinary links -->\n",
    "<div id=\"form:Dop:tn:2cn\"></div>\n",
    "\n",
    "$$\n",
    "\\begin{equation} \n",
    "\\lbrack D_{2t} t\\rbrack^n = 1,\n",
    "\\label{form:Dop:tn:2cn} \\tag{34}\n",
    "\\end{equation}\n",
    "$$"
   ]
  },
  {
   "cell_type": "markdown",
   "metadata": {},
   "source": [
    "<!-- Equation labels as ordinary links -->\n",
    "<div id=\"form:Dop2:tn:cn\"></div>\n",
    "\n",
    "$$\n",
    "\\begin{equation} \n",
    "\\lbrack D_{t}D_t t\\rbrack^n = 0\n",
    "\\label{form:Dop2:tn:cn} \\tag{35}\n",
    "\\tp\n",
    "\\end{equation}\n",
    "$$"
   ]
  },
  {
   "cell_type": "markdown",
   "metadata": {},
   "source": [
    "The next formulas concern the action of difference operators on a $t^2$ term."
   ]
  },
  {
   "cell_type": "markdown",
   "metadata": {},
   "source": [
    "<!-- Equation labels as ordinary links -->\n",
    "<div id=\"form:Dop:tn2:fw\"></div>\n",
    "\n",
    "$$\n",
    "\\begin{equation}\n",
    "\\lbrack D_t^+ t^2\\rbrack^n = (2n+1)\\Delta t,\n",
    "\\label{form:Dop:tn2:fw} \\tag{36}\n",
    "\\end{equation}\n",
    "$$"
   ]
  },
  {
   "cell_type": "markdown",
   "metadata": {},
   "source": [
    "<!-- Equation labels as ordinary links -->\n",
    "<div id=\"form:Dop:tn2:bw\"></div>\n",
    "\n",
    "$$\n",
    "\\begin{equation} \n",
    "\\lbrack D_t^- t^2\\rbrack^n = (2n-1)\\Delta t,\n",
    "\\label{form:Dop:tn2:bw} \\tag{37}\n",
    "\\end{equation}\n",
    "$$"
   ]
  },
  {
   "cell_type": "markdown",
   "metadata": {},
   "source": [
    "<!-- Equation labels as ordinary links -->\n",
    "<div id=\"form:Dop:tn2:cn\"></div>\n",
    "\n",
    "$$\n",
    "\\begin{equation} \n",
    "\\lbrack D_t t^2\\rbrack^n = 2n\\Delta t,\n",
    "\\label{form:Dop:tn2:cn} \\tag{38}\n",
    "\\end{equation}\n",
    "$$"
   ]
  },
  {
   "cell_type": "markdown",
   "metadata": {},
   "source": [
    "<!-- Equation labels as ordinary links -->\n",
    "<div id=\"form:Dop:tn2:2cn\"></div>\n",
    "\n",
    "$$\n",
    "\\begin{equation} \n",
    "\\lbrack D_{2t} t^2\\rbrack^n = 2n\\Delta t,\n",
    "\\label{form:Dop:tn2:2cn} \\tag{39}\n",
    "\\end{equation}\n",
    "$$"
   ]
  },
  {
   "cell_type": "markdown",
   "metadata": {},
   "source": [
    "<!-- Equation labels as ordinary links -->\n",
    "<div id=\"form:Dop2:tn2:cn\"></div>\n",
    "\n",
    "$$\n",
    "\\begin{equation} \n",
    "\\lbrack D_{t}D_t t^2\\rbrack^n = 2,\n",
    "\\label{form:Dop2:tn2:cn} \\tag{40}\n",
    "\\end{equation}\n",
    "$$"
   ]
  },
  {
   "cell_type": "markdown",
   "metadata": {},
   "source": [
    "Finally, we present formulas for a $t^3$ term:"
   ]
  },
  {
   "cell_type": "markdown",
   "metadata": {},
   "source": [
    "<!-- Equation labels as ordinary links -->\n",
    "<div id=\"form:Dop:tn3:fw\"></div>\n",
    "\n",
    "$$\n",
    "\\begin{equation}\n",
    "\\lbrack D_t^+ t^3\\rbrack^n = 3(n\\Delta t)^2 + 3n\\Delta t^2 + \\Delta t^2,\n",
    "\\label{form:Dop:tn3:fw} \\tag{41}\n",
    "\\end{equation}\n",
    "$$"
   ]
  },
  {
   "cell_type": "markdown",
   "metadata": {},
   "source": [
    "<!-- Equation labels as ordinary links -->\n",
    "<div id=\"form:Dop:tn3:bw\"></div>\n",
    "\n",
    "$$\n",
    "\\begin{equation} \n",
    "\\lbrack D_t^- t^3\\rbrack^n = 3(n\\Delta t)^2 - 3n\\Delta t^2 + \\Delta t^2,\n",
    "\\label{form:Dop:tn3:bw} \\tag{42}\n",
    "\\end{equation}\n",
    "$$"
   ]
  },
  {
   "cell_type": "markdown",
   "metadata": {},
   "source": [
    "<!-- Equation labels as ordinary links -->\n",
    "<div id=\"form:Dop:tn3:cn\"></div>\n",
    "\n",
    "$$\n",
    "\\begin{equation} \n",
    "\\lbrack D_t t^3\\rbrack^n = 3(n\\Delta t)^2 + \\frac{1}{4}\\Delta t^2,\n",
    "\\label{form:Dop:tn3:cn} \\tag{43}\n",
    "\\end{equation}\n",
    "$$"
   ]
  },
  {
   "cell_type": "markdown",
   "metadata": {},
   "source": [
    "<!-- Equation labels as ordinary links -->\n",
    "<div id=\"form:Dop:tn3:2cn\"></div>\n",
    "\n",
    "$$\n",
    "\\begin{equation} \n",
    "\\lbrack D_{2t} t^3\\rbrack^n = 3(n\\Delta t)^2 + \\Delta t^2,\n",
    "\\label{form:Dop:tn3:2cn} \\tag{44}\n",
    "\\end{equation}\n",
    "$$"
   ]
  },
  {
   "cell_type": "markdown",
   "metadata": {},
   "source": [
    "<!-- Equation labels as ordinary links -->\n",
    "<div id=\"form:Dop2:tn3:cn\"></div>\n",
    "\n",
    "$$\n",
    "\\begin{equation} \n",
    "\\lbrack D_{t}D_t t^3\\rbrack^n = 6n\\Delta t,\n",
    "\\label{form:Dop2:tn3:cn} \\tag{45}\n",
    "\\end{equation}\n",
    "$$"
   ]
  },
  {
   "cell_type": "markdown",
   "metadata": {},
   "source": [
    "## Software\n",
    "\n",
    "\n",
    "Application of finite difference operators to polynomials and exponential\n",
    "functions, resulting in the formulas above, can easily be computed by\n",
    "some `sympy` code (from the file [`lib.py`](${src_formulas}/lib.py)):"
   ]
  },
  {
   "cell_type": "code",
   "execution_count": 1,
   "metadata": {
    "collapsed": false
   },
   "outputs": [],
   "source": [
    "from sympy import *\n",
    "t, dt, n, w = symbols('t dt n w', real=True)\n",
    "\n",
    "# Finite difference operators\n",
    "\n",
    "def D_t_forward(u):\n",
    "    return (u(t + dt) - u(t))/dt\n",
    "\n",
    "def D_t_backward(u):\n",
    "    return (u(t) - u(t-dt))/dt\n",
    "\n",
    "def D_t_centered(u):\n",
    "    return (u(t + dt/2) - u(t-dt/2))/dt\n",
    "\n",
    "def D_2t_centered(u):\n",
    "    return (u(t + dt) - u(t-dt))/(2*dt)\n",
    "\n",
    "def D_t_D_t(u):\n",
    "    return (u(t + dt) - 2*u(t) + u(t-dt))/(dt**2)\n",
    "\n",
    "\n",
    "op_list = [D_t_forward, D_t_backward,\n",
    "           D_t_centered, D_2t_centered, D_t_D_t]\n",
    "\n",
    "def ft1(t):\n",
    "    return t\n",
    "\n",
    "def ft2(t):\n",
    "    return t**2\n",
    "\n",
    "def ft3(t):\n",
    "    return t**3\n",
    "\n",
    "def f_expiwt(t):\n",
    "    return exp(I*w*t)\n",
    "\n",
    "def f_expwt(t):\n",
    "    return exp(w*t)\n",
    "\n",
    "func_list = [ft1, ft2, ft3, f_expiwt, f_expwt]"
   ]
  },
  {
   "cell_type": "markdown",
   "metadata": {},
   "source": [
    "To see the results, one can now make a simple loop over the different\n",
    "types of functions and the various operators associated with them:"
   ]
  },
  {
   "cell_type": "code",
   "execution_count": 2,
   "metadata": {
    "collapsed": false
   },
   "outputs": [],
   "source": [
    "for func in func_list:\n",
    "    for op in op_list:\n",
    "        f = func\n",
    "        e = op(f)\n",
    "        e = simplify(expand(e))\n",
    "        print e\n",
    "        if func in [f_expiwt, f_expwt]:\n",
    "            e = e/f(t)\n",
    "        e = e.subs(t, n*dt)\n",
    "        print expand(e)\n",
    "        print factor(simplify(expand(e)))"
   ]
  }
 ],
 "metadata": {},
 "nbformat": 4,
 "nbformat_minor": 4
}
