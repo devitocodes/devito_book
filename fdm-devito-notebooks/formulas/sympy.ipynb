{
 "cells": [
  {
   "cell_type": "markdown",
   "metadata": {},
   "source": [
    "<!-- dom:TITLE: SymPy recipes -->\n",
    "# SymPy recipes\n",
    "<!-- dom:AUTHOR: Hans Petter Langtangen -->\n",
    "<!-- Author: -->  \n",
    "**Hans Petter Langtangen**\n",
    "\n",
    "Date: **Jul 15, 2020**"
   ]
  },
  {
   "cell_type": "code",
   "execution_count": 1,
   "metadata": {
    "collapsed": false
   },
   "outputs": [],
   "source": [
    "q = diff(sin(a*x), x, 4)\n",
    "q"
   ]
  },
  {
   "cell_type": "code",
   "execution_count": 2,
   "metadata": {
    "collapsed": false
   },
   "outputs": [],
   "source": [
    "integrate(q, x)"
   ]
  },
  {
   "cell_type": "markdown",
   "metadata": {},
   "source": [
    "### Simplify\n",
    "\n",
    "Many functions are relevant for simplification: `simplify`, `expand`,\n",
    "`factor`, `collect` (collect common\n",
    "polynomial terms), `cancel` (simplify a fraction), `trigsimp` (for\n",
    "trigonometric and hyperbolic trigonometric expressions), `expand_trig`\n",
    "(expand trigonometric expressions)."
   ]
  },
  {
   "cell_type": "markdown",
   "metadata": {},
   "source": [
    "## Resources\n",
    "\n",
    " * [SymPy wiki](htthinspace .s://github.com/sympy/sympy/wiki)\n",
    "\n",
    " * \"SymPy documentation\": \"\""
   ]
  }
 ],
 "metadata": {},
 "nbformat": 4,
 "nbformat_minor": 4
}
