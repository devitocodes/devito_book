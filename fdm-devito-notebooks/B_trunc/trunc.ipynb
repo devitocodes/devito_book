{
 "cells": [
  {
   "cell_type": "markdown",
   "metadata": {},
   "source": [
    "<!-- 2DO: -->\n",
    "<!-- truncation error of consistent vs lumped mass matrix for -->\n",
    "<!-- diffusion and wave equations -->\n",
    "\n",
    "Truncation error analysis provides a widely applicable framework for\n",
    "analyzing the accuracy of finite difference schemes. This type of\n",
    "analysis can also be used for finite element and finite volume methods\n",
    "if the discrete equations are written in finite difference form.  The\n",
    "result of the analysis is an asymptotic estimate of the error in the\n",
    "scheme on the form $Ch^r$, where $h$ is a discretization parameter\n",
    "($\\Delta t$, $\\Delta x$, etc.), $r$ is a number, known as the convergence\n",
    "rate, and $C$ is a constant, typically dependent on the\n",
    "derivatives of the exact solution.\n",
    "\n",
    "Knowing $r$ gives understanding of the accuracy of the scheme. But\n",
    "maybe even more important, a powerful verification method for computer\n",
    "codes is to check that the empirically observed convergence rates in\n",
    "experiments coincide with the theoretical value of $r$ found from\n",
    "truncation error analysis.\n",
    "\n",
    "The analysis\n",
    "can be carried out by hand, by symbolic software, and also\n",
    "numerically. All three methods will be illustrated.\n",
    "From examining the symbolic expressions of the truncation error\n",
    "we can add correction terms to the differential equations in order\n",
    "to increase the numerical accuracy.\n",
    "\n",
    "In general, the term truncation error refers to the discrepancy that\n",
    "arises from performing a finite number of steps to approximate a\n",
    "process with infinitely many steps. The term is used in a number\n",
    "of contexts, including truncation of infinite series, finite\n",
    "precision arithmetic, finite differences, and differential equations.\n",
    "We shall be concerned with computing truncation errors arising in\n",
    "finite difference formulas and in finite difference discretizations\n",
    "of differential equations.\n",
    "\n",
    "\n",
    "# Overview of truncation error analysis\n",
    "\n",
    "## Abstract problem setting\n",
    "\n",
    "Consider an abstract differential equation"
   ]
  },
  {
   "cell_type": "markdown",
   "metadata": {},
   "source": [
    "$$\n",
    "\\mathcal{L}(u)=0,\n",
    "$$"
   ]
  },
  {
   "cell_type": "markdown",
   "metadata": {},
   "source": [
    "where $\\mathcal{L}(u)$ is some formula involving the unknown $u$ and\n",
    "its derivatives. One example is $\\mathcal{L}(u)=u'(t)+a(t)u(t)-b(t)$, where\n",
    "$a$ and $b$ are constants or functions of time.\n",
    "We can discretize the differential equation and obtain a corresponding\n",
    "discrete model, here written as"
   ]
  },
  {
   "cell_type": "markdown",
   "metadata": {},
   "source": [
    "$$\n",
    "\\mathcal{L}_{\\Delta}(u) =0\\thinspace .\n",
    "$$"
   ]
  },
  {
   "cell_type": "markdown",
   "metadata": {},
   "source": [
    "The solution $u$ of this equation is the *numerical solution*.\n",
    "To distinguish the\n",
    "numerical solution from the exact solution of the differential\n",
    "equation problem,\n",
    "we denote the latter by $u$ and write the\n",
    "differential equation and its discrete counterpart as"
   ]
  },
  {
   "cell_type": "markdown",
   "metadata": {},
   "source": [
    "$$\n",
    "\\begin{align*}\n",
    "\\mathcal{L}(u)&=0,\\\\\n",
    "\\mathcal{L}_\\Delta (u)&=0\\thinspace .\n",
    "\\end{align*}\n",
    "$$"
   ]
  },
  {
   "cell_type": "markdown",
   "metadata": {},
   "source": [
    "Initial and/or boundary conditions can usually be left out of the truncation\n",
    "error analysis and are omitted in the following.\n",
    "\n",
    "The numerical solution $u$ is, in a finite difference method, computed\n",
    "at a collection of mesh points. The discrete equations represented\n",
    "by the abstract equation $\\mathcal{L}_\\Delta (u)=0$ are usually\n",
    "algebraic equations involving $u$ at some\n",
    "neighboring mesh points.\n",
    "\n",
    "## Error measures\n",
    "\n",
    "A key issue is how accurate the numerical solution is.\n",
    "The ultimate way of addressing this issue would be to compute\n",
    "the error $u - u$ at the mesh points. This is usually extremely demanding.\n",
    "In very simplified problem settings we may, however, manage to\n",
    "derive formulas for the numerical solution $u$, and\n",
    "therefore closed form expressions\n",
    "for the error $u - u$. Such special cases can provide\n",
    "considerable insight regarding accuracy and stability, but\n",
    "the results are established for special problems.\n",
    "\n",
    "The error $u -u$ can be computed empirically in special cases where\n",
    "we know $u$. Such cases can be constructed by the method of\n",
    "manufactured solutions, where we choose some exact solution $u = v$\n",
    "and fit a source term $f$ in the governing differential equation\n",
    "$\\mathcal{L}(u)=f$ such that $u=v$ is a solution (i.e.,\n",
    "$f=\\mathcal{L}(v)$).  Assuming an error model of the form $Ch^r$,\n",
    "where $h$ is the discretization parameter, such as $\\Delta t$ or\n",
    "$\\Delta x$, one can estimate the convergence rate $r$. This is a\n",
    "widely applicable procedure, but the validity of the results is,\n",
    "strictly speaking, tied to the chosen test problems.\n",
    "\n",
    "Another error measure arises by asking to what extent the exact solution\n",
    "$u$ fits the discrete equations. Clearly, $u$ is in general\n",
    "not a solution of $\\mathcal{L}_\\Delta(u)=0$, but we can define\n",
    "the residual"
   ]
  },
  {
   "cell_type": "markdown",
   "metadata": {},
   "source": [
    "$$\n",
    "R = \\mathcal{L}_\\Delta(u),\n",
    "$$"
   ]
  },
  {
   "cell_type": "markdown",
   "metadata": {},
   "source": [
    "and investigate how close $R$ is to zero. A small $R$ means\n",
    "intuitively that the discrete equations are close to the\n",
    "differential equation, and then we are tempted to think that\n",
    "$u^n$ must also be close to $u(t_n)$.\n",
    "\n",
    "The residual $R$ is known as the truncation error of the finite\n",
    "difference scheme $\\mathcal{L}_\\Delta(u)=0$.  mathcal{I}_t appears that the\n",
    "truncation error is relatively straightforward to compute by hand or\n",
    "symbolic software *without specializing the differential equation\n",
    "and the discrete model to a special case*. The resulting $R$ is found\n",
    "as a power series in the discretization parameters. The leading-order\n",
    "terms in the series provide an asymptotic measure of the accuracy of\n",
    "the numerical solution method (as the discretization parameters\n",
    "tend to zero). An advantage of truncation error analysis, compared to\n",
    "empirical estimation of convergence rates, or detailed analysis\n",
    "of a special problem with a mathematical expression for the numerical\n",
    "solution, is that the truncation error analysis reveals the\n",
    "accuracy of the various building blocks in the numerical method and\n",
    "how each building block impacts the overall accuracy. The analysis\n",
    "can therefore be used to detect building blocks with lower accuracy\n",
    "than the others.\n",
    "\n",
    "Knowing the truncation error or other error measures is important for\n",
    "verification of programs by empirically establishing convergence\n",
    "rates. The forthcoming text will provide many examples on how to\n",
    "compute truncation errors for finite difference discretizations of\n",
    "ODEs and PDEs.\n",
    "\n",
    "\n",
    "# Truncation errors in finite difference formulas\n",
    "<div id=\"trunc:finite:differences\"></div>\n",
    "\n",
    "The accuracy of a finite difference formula is a fundamental issue\n",
    "when discretizing differential equations. We shall first go through a\n",
    "particular example in detail and thereafter list the truncation error\n",
    "in the most common finite difference approximation formulas.\n",
    "\n",
    "## Example: The backward difference for $u'(t)$\n",
    "<div id=\"trunc:fd:backward\"></div>\n",
    "\n",
    "\n",
    "\n",
    "Consider a backward\n",
    "finite difference approximation of the first-order derivative $u'$:"
   ]
  },
  {
   "cell_type": "markdown",
   "metadata": {},
   "source": [
    "<!-- Equation labels as ordinary links -->\n",
    "<div id=\"trunc:fd:bw1\"></div>\n",
    "\n",
    "$$\n",
    "\\begin{equation}\n",
    "\\lbrack D_t^- u\\rbrack^n  = \\frac{u^{n} - u^{n-1}}{\\Delta t} \\approx u'(t_n)\n",
    "\\label{trunc:fd:bw1} \\tag{1}\n",
    "\\thinspace .\n",
    "\\end{equation}\n",
    "$$"
   ]
  },
  {
   "cell_type": "markdown",
   "metadata": {},
   "source": [
    "Here, $u^n$ means the value of some function $u(t)$ at a point $t_n$, and\n",
    "$[D_t^-u]^n$ is the *discrete derivative* of $u(t)$ at\n",
    "$t=t_n$. The discrete derivative computed by a finite difference\n",
    "is, in general, not exactly equal to the derivative $u'(t_n)$. The error in\n",
    "the approximation is"
   ]
  },
  {
   "cell_type": "markdown",
   "metadata": {},
   "source": [
    "<!-- Equation labels as ordinary links -->\n",
    "<div id=\"trunc:fd:bw3\"></div>\n",
    "\n",
    "$$\n",
    "\\begin{equation}\n",
    "R^n = [D^-_tu]^n - u'(t_n)\\thinspace .\n",
    "\\label{trunc:fd:bw3} \\tag{2}\n",
    "\\end{equation}\n",
    "$$"
   ]
  },
  {
   "cell_type": "markdown",
   "metadata": {},
   "source": [
    "The common way of calculating $R^n$ is to\n",
    "\n",
    "1. expand $u(t)$ in a Taylor series around the point where the\n",
    "   derivative is evaluated, here $t_n$,\n",
    "\n",
    "2. insert this Taylor series in ([2](#trunc:fd:bw3)),\n",
    "   and\n",
    "\n",
    "3. collect terms that cancel and simplify the expression.\n",
    "\n",
    "The result is an expression for $R^n$ in terms of a power series in\n",
    "$\\Delta t$. The error $R^n$ is commonly referred to as the *truncation\n",
    "error* of the finite difference formula.\n",
    "\n",
    "The Taylor series formula often found in calculus books takes the form"
   ]
  },
  {
   "cell_type": "markdown",
   "metadata": {},
   "source": [
    "$$\n",
    "f(x+h) = \\sum_{i=0}^\\infty \\frac{1}{i!}\\frac{d^if}{dx^i}(x)h^i\\thinspace .\n",
    "$$"
   ]
  },
  {
   "cell_type": "markdown",
   "metadata": {},
   "source": [
    "In our application,\n",
    "we expand the Taylor series around the point where the finite difference\n",
    "formula approximates the derivative. The Taylor series of $u^n$ at $t_n$\n",
    "is simply $u(t_n)$, while the Taylor series of $u^{n-1}$ at $t_n$ must\n",
    "employ the general formula,"
   ]
  },
  {
   "cell_type": "markdown",
   "metadata": {},
   "source": [
    "$$\n",
    "\\begin{align*}\n",
    "u(t_{n-1}) = u(t-\\Delta t) &= \\sum_{i=0}^\\infty \\frac{1}{i!}\\frac{d^iu}{dt^i}(t_n)(-\\Delta t)^i\\\\\n",
    "& = u(t_n) - u'(t_n)\\Delta t + {\\frac{1}{2}}u''(t_n)\\Delta t^2\n",
    "+ \\mathcal{O}({\\Delta t^3}),\n",
    "\\end{align*}\n",
    "$$"
   ]
  },
  {
   "cell_type": "markdown",
   "metadata": {},
   "source": [
    "where $\\mathcal{O}({\\Delta t^3})$ means a power-series in $\\Delta t$ where\n",
    "the lowest power is $\\Delta t^3$. We assume that $\\Delta t$ is small such that\n",
    "$\\Delta t^p \\gg \\Delta t^q$ if $p$ is smaller than $q$.\n",
    "The details of higher-order terms\n",
    "in $\\Delta t$ are therefore not of much interest.\n",
    "Inserting the Taylor series above in the right-hand side of\n",
    "([2](#trunc:fd:bw3)) gives rise to some algebra:"
   ]
  },
  {
   "cell_type": "markdown",
   "metadata": {},
   "source": [
    "$$\n",
    "\\begin{align*}\n",
    "[D_t^-u]^n - u'(t_n) &= \\frac{u(t_n) - u(t_{n-1})}{\\Delta t} - u'(t_n)\\\\\n",
    "&= \\frac{u(t_n) - (u(t_n) - u'(t_n)\\Delta t + {\\frac{1}{2}}u''(t_n)\\Delta t^2 + \\mathcal{O}{\\Delta t^3} )}{\\Delta t} - u'(t_n)\\\\\n",
    "&= -{\\frac{1}{2}}u''(t_n)\\Delta t + \\mathcal{O}{\\Delta t^2} ),\n",
    "\\end{align*}\n",
    "$$"
   ]
  },
  {
   "cell_type": "markdown",
   "metadata": {},
   "source": [
    "which is, according to\n",
    "([2](#trunc:fd:bw3)), the truncation error:"
   ]
  },
  {
   "cell_type": "markdown",
   "metadata": {},
   "source": [
    "<!-- Equation labels as ordinary links -->\n",
    "<div id=\"_auto1\"></div>\n",
    "\n",
    "$$\n",
    "\\begin{equation}\n",
    "R^n = - {\\frac{1}{2}}u''(t_n)\\Delta t + \\mathcal({O}){\\Delta t^2} )\n",
    "\\thinspace .\n",
    "\\label{_auto1} \\tag{3}\n",
    "\\end{equation}\n",
    "$$"
   ]
  },
  {
   "cell_type": "markdown",
   "metadata": {},
   "source": [
    "The dominating term for small $\\Delta t$ is $-{\\frac{1}{2}}u''(t_n)\\Delta t$,\n",
    "which is proportional to $\\Delta t$, and we say that the truncation error\n",
    "is of *first order* in $\\Delta t$.\n",
    "\n",
    "## Example: The forward difference for $u'(t)$\n",
    "<div id=\"trunc:fd:forward\"></div>\n",
    "\n",
    "\n",
    "\n",
    "We can analyze the approximation error in the forward difference"
   ]
  },
  {
   "cell_type": "markdown",
   "metadata": {},
   "source": [
    "$$\n",
    "u'(t_n) \\approx [D_t^+ u]^n = \\frac{u^{n+1}-u^n}{\\Delta t},\n",
    "$$"
   ]
  },
  {
   "cell_type": "markdown",
   "metadata": {},
   "source": [
    "by writing"
   ]
  },
  {
   "cell_type": "markdown",
   "metadata": {},
   "source": [
    "$$\n",
    "R^n = [D_t^+ u]^n - u'(t_n),\n",
    "$$"
   ]
  },
  {
   "cell_type": "markdown",
   "metadata": {},
   "source": [
    "and expanding $u^{n+1}$ in a Taylor series around $t_n$,"
   ]
  },
  {
   "cell_type": "markdown",
   "metadata": {},
   "source": [
    "$$\n",
    "u(t_{n+1}) = u(t_n) + u'(t_n)\\Delta t +\n",
    "{\\frac{1}{2}}u''(t_n)\\Delta t^2 + \\mathcal{O}{\\Delta t^3}\n",
    "\\thinspace .\n",
    "$$"
   ]
  },
  {
   "cell_type": "markdown",
   "metadata": {},
   "source": [
    "The result becomes"
   ]
  },
  {
   "cell_type": "markdown",
   "metadata": {},
   "source": [
    "$$\n",
    "R = {\\frac{1}{2}}u''(t_n)\\Delta t +\n",
    "\\mathcal{O}{\\Delta t^2},\n",
    "$$"
   ]
  },
  {
   "cell_type": "markdown",
   "metadata": {},
   "source": [
    "showing that also the forward difference is of first order.\n",
    "\n",
    "## Example: The central difference for $u'(t)$\n",
    "<div id=\"trunc:fd:central\"></div>\n",
    "\n",
    "\n",
    "For the central difference approximation,"
   ]
  },
  {
   "cell_type": "markdown",
   "metadata": {},
   "source": [
    "$$\n",
    "u'(t_n)\\approx [ D_tu]^n, \\quad [D_tu]^n =\n",
    "\\frac{u^{n+\\frac{1}{2}} - u^{n-\\frac{1}{2}}}{\\Delta t},\n",
    "$$"
   ]
  },
  {
   "cell_type": "markdown",
   "metadata": {},
   "source": [
    "we write"
   ]
  },
  {
   "cell_type": "markdown",
   "metadata": {},
   "source": [
    "$$\n",
    "R^n = [ D_tu]^n - u'(t_n),\n",
    "$$"
   ]
  },
  {
   "cell_type": "markdown",
   "metadata": {},
   "source": [
    "and expand $u(t_{n+\\frac{1}{2}})$ and\n",
    "$u(t_{n-\\frac{1}{2}}$ in Taylor series around the point $t_n$ where\n",
    "the derivative is evaluated. We have"
   ]
  },
  {
   "cell_type": "markdown",
   "metadata": {},
   "source": [
    "$$\n",
    "\\begin{align*}\n",
    "u(t_{n+\\frac{1}{2}}) = &u(t_n) + u'(t_n)\\frac{1}{2}\\Delta t +\n",
    "{\\frac{1}{2}}u''(t_n)(\\frac{1}{2}\\Delta t)^2 + \\\\\n",
    "& \\frac{1}{6}u'''(t_n) (\\frac{1}{2}\\Delta t)^3\n",
    "+ \\frac{1}{24}u''''(t_n) (\\frac{1}{2}\\Delta t)^4 + \\\\\n",
    "& \\frac{1}{120}u''''(t_n) (\\frac{1}{2}\\Delta t)^5 + \\mathcal{O}{\\Delta t^6},\\\\\n",
    "u(t_{n-\\frac{1}{2}}) = &u(t_n) - u'(t_n)\\frac{1}{2}\\Delta t +\n",
    "{\\frac{1}{2}}u''(t_n)(\\frac{1}{2}\\Delta t)^2 - \\\\\n",
    "& \\frac{1}{6}u'''(t_n) (\\frac{1}{2}\\Delta t)^3\n",
    "+ \\frac{1}{24}u''''(t_n) (\\frac{1}{2}\\Delta t)^4 - \\\\\n",
    "& \\frac{1}{120}u'''''(t_n) (\\frac{1}{2}\\Delta t)^5 + \\mathcal{O}{\\Delta t^6}\n",
    "\\thinspace .\n",
    "\\end{align*}\n",
    "$$"
   ]
  },
  {
   "cell_type": "markdown",
   "metadata": {},
   "source": [
    "Now,"
   ]
  },
  {
   "cell_type": "markdown",
   "metadata": {},
   "source": [
    "$$\n",
    "u(t_{n+\\frac{1}{2}}) - u(t_{n-\\frac{1}{2}}) = u'(t_n)\\Delta t + \\frac{1}{24}u'''(t_n) \\Delta t^3 + \\frac{1}{960}u'''''(t_n) \\Delta t^5 + \\mathcal{O}{\\Delta t^7}\n",
    "\\thinspace .\n",
    "$$"
   ]
  },
  {
   "cell_type": "markdown",
   "metadata": {},
   "source": [
    "By collecting terms in $[D_t u]^n - u'(t_n)$ we find the truncation error\n",
    "to be"
   ]
  },
  {
   "cell_type": "markdown",
   "metadata": {},
   "source": [
    "<!-- Equation labels as ordinary links -->\n",
    "<div id=\"_auto2\"></div>\n",
    "\n",
    "$$\n",
    "\\begin{equation}\n",
    "R^n = \\frac{1}{24}u'''(t_n)\\Delta t^2 + \\mathcal{O}{\\Delta t^4},\n",
    "\\label{_auto2} \\tag{4}\n",
    "\\end{equation}\n",
    "$$"
   ]
  },
  {
   "cell_type": "markdown",
   "metadata": {},
   "source": [
    "with only even powers of $\\Delta t$. Since $R\\sim \\Delta t^2$ we say\n",
    "the centered difference is of *second order* in $\\Delta t$.\n",
    "\n",
    "## Overview of leading-order error terms in finite difference formulas\n",
    "<div id=\"trunc:table\"></div>\n",
    "\n",
    "\n",
    "Here we list the leading-order terms of the truncation errors\n",
    "associated with several common finite difference formulas for the\n",
    "first and second derivatives."
   ]
  },
  {
   "cell_type": "markdown",
   "metadata": {},
   "source": [
    "<!-- Equation labels as ordinary links -->\n",
    "<div id=\"trunc:table:fd1:center:eq\"></div>\n",
    "\n",
    "$$\n",
    "\\begin{equation}\n",
    "\\lbrack D_tu \\rbrack^n = \\frac{u^{n+\\frac{1}{2}} - u^{n-\\frac{1}{2}}}{\\Delta t} = u'(t_n) + R^n\n",
    "\\label{trunc:table:fd1:center:eq} \\tag{5},\n",
    "\\end{equation}\n",
    "$$"
   ]
  },
  {
   "cell_type": "markdown",
   "metadata": {},
   "source": [
    "<!-- Equation labels as ordinary links -->\n",
    "<div id=\"trunc:table:fd1:center\"></div>\n",
    "\n",
    "$$\n",
    "\\begin{equation} \n",
    "R^n = \\frac{1}{24}u'''(t_n)\\Delta t^2 + \\mathcal{O}{\\Delta t^4}\n",
    "\\label{trunc:table:fd1:center} \\tag{6}\n",
    "\\end{equation}\n",
    "$$"
   ]
  },
  {
   "cell_type": "markdown",
   "metadata": {},
   "source": [
    "<!-- Equation labels as ordinary links -->\n",
    "<div id=\"trunc:table:fd1:center2:eq\"></div>\n",
    "\n",
    "$$\n",
    "\\begin{equation} \n",
    " \\lbrack D_{2t}u \\rbrack^n = \\frac{u^{n+1} - u^{n-1}}{2\\Delta t} = u'(t_n) + R^n\n",
    "\\label{trunc:table:fd1:center2:eq} \\tag{7},\n",
    "\\end{equation}\n",
    "$$"
   ]
  },
  {
   "cell_type": "markdown",
   "metadata": {},
   "source": [
    "<!-- Equation labels as ordinary links -->\n",
    "<div id=\"trunc:table:fd1:center2\"></div>\n",
    "\n",
    "$$\n",
    "\\begin{equation} \n",
    "R^n = \\frac{1}{6}u'''(t_n)\\Delta t^2 + \\mathcal{O}{\\Delta t^4}\n",
    "\\label{trunc:table:fd1:center2} \\tag{8}\n",
    "\\end{equation}\n",
    "$$"
   ]
  },
  {
   "cell_type": "markdown",
   "metadata": {},
   "source": [
    "<!-- Equation labels as ordinary links -->\n",
    "<div id=\"trunc:table:fd1:bw:eq\"></div>\n",
    "\n",
    "$$\n",
    "\\begin{equation} \n",
    "\\lbrack D_t^-u \\rbrack^n = \\frac{u^{n} - u^{n-1}}{\\Delta t} = u'(t_n) + R^n\n",
    "\\label{trunc:table:fd1:bw:eq} \\tag{9},\n",
    "\\end{equation}\n",
    "$$"
   ]
  },
  {
   "cell_type": "markdown",
   "metadata": {},
   "source": [
    "<!-- Equation labels as ordinary links -->\n",
    "<div id=\"trunc:table:fd1:bw\"></div>\n",
    "\n",
    "$$\n",
    "\\begin{equation} \n",
    "R^n = -{\\frac{1}{2}}u''(t_n)\\Delta t + \\mathcal{O}{\\Delta t^2}\n",
    "\\label{trunc:table:fd1:bw} \\tag{10}\n",
    "\\end{equation}\n",
    "$$"
   ]
  },
  {
   "cell_type": "markdown",
   "metadata": {},
   "source": [
    "<!-- Equation labels as ordinary links -->\n",
    "<div id=\"trunc:table:fd1:fw:eq\"></div>\n",
    "\n",
    "$$\n",
    "\\begin{equation} \n",
    "\\lbrack D_t^+u \\rbrack^n = \\frac{u^{n+1} - u^{n}}{\\Delta t} = u'(t_n) + R^n\n",
    "\\label{trunc:table:fd1:fw:eq} \\tag{11},\n",
    "\\end{equation}\n",
    "$$"
   ]
  },
  {
   "cell_type": "markdown",
   "metadata": {},
   "source": [
    "<!-- Equation labels as ordinary links -->\n",
    "<div id=\"trunc:table:fd1:fw\"></div>\n",
    "\n",
    "$$\n",
    "\\begin{equation} \n",
    "R^n = {\\frac{1}{2}}u''(t_n)\\Delta t + \\mathcal{O}{\\Delta t^2}\n",
    "\\label{trunc:table:fd1:fw} \\tag{12}\n",
    "\\end{equation}\n",
    "$$"
   ]
  },
  {
   "cell_type": "markdown",
   "metadata": {},
   "source": [
    "<!-- Equation labels as ordinary links -->\n",
    "<div id=\"trunc:table:fd1:theta:eq\"></div>\n",
    "\n",
    "$$\n",
    "\\begin{equation} \n",
    "[\\bar D_tu]^{n+\\theta} = \\frac{u^{n+1} - u^{n}}{\\Delta t} = u'(t_{n+\\theta}) + R^{n+\\theta}\n",
    "\\label{trunc:table:fd1:theta:eq} \\tag{13},\n",
    "\\end{equation}\n",
    "$$"
   ]
  },
  {
   "cell_type": "markdown",
   "metadata": {},
   "source": [
    "<!-- Equation labels as ordinary links -->\n",
    "<div id=\"trunc:table:fd1:theta\"></div>\n",
    "\n",
    "$$\n",
    "\\begin{equation} \n",
    "R^{n+\\theta} = \\frac{1}{2}(1-2\\theta)u''(t_{n+\\theta})\\Delta t -\n",
    "\\frac{1}{6}((1 - \\theta)^3 - \\theta^3)u'''(t_{n+\\theta})\\Delta t^2 +\n",
    "\\mathcal{O}{\\Delta t^3}\n",
    "\\label{trunc:table:fd1:theta} \\tag{14}\n",
    "\\end{equation}\n",
    "$$"
   ]
  },
  {
   "cell_type": "markdown",
   "metadata": {},
   "source": [
    "<!-- Equation labels as ordinary links -->\n",
    "<div id=\"trunc:table:fd1:bw2:eq\"></div>\n",
    "\n",
    "$$\n",
    "\\begin{equation} \n",
    "\\lbrack D_t^{2-}u \\rbrack^n = \\frac{3u^{n} - 4u^{n-1} + u^{n-2}}{2\\Delta t} = u'(t_n) + R^n\n",
    "\\label{trunc:table:fd1:bw2:eq} \\tag{15},\n",
    "\\end{equation}\n",
    "$$"
   ]
  },
  {
   "cell_type": "markdown",
   "metadata": {},
   "source": [
    "<!-- Equation labels as ordinary links -->\n",
    "<div id=\"trunc:table:fd1:bw2\"></div>\n",
    "\n",
    "$$\n",
    "\\begin{equation} \n",
    "R^n = -\\frac{1}{3}u'''(t_n)\\Delta t^2 + \\mathcal{O}{\\Delta t^3}\n",
    "\\label{trunc:table:fd1:bw2} \\tag{16}\n",
    "\\end{equation}\n",
    "$$"
   ]
  },
  {
   "cell_type": "markdown",
   "metadata": {},
   "source": [
    "<!-- Equation labels as ordinary links -->\n",
    "<div id=\"trunc:table:fd2:center:eq\"></div>\n",
    "\n",
    "$$\n",
    "\\begin{equation} \n",
    "\\lbrack D_tD_t u \\rbrack^n = \\frac{u^{n+1} - 2u^{n} + u^{n-1}}{\\Delta t^2} = u''(t_n) + R^n\n",
    "\\label{trunc:table:fd2:center:eq} \\tag{17},\n",
    "\\end{equation}\n",
    "$$"
   ]
  },
  {
   "cell_type": "markdown",
   "metadata": {},
   "source": [
    "<!-- Equation labels as ordinary links -->\n",
    "<div id=\"trunc:table:fd2:center\"></div>\n",
    "\n",
    "$$\n",
    "\\begin{equation} \n",
    "R^n = \\frac{1}{12}u''''(t_n)\\Delta t^2 + \\mathcal{O}{\\Delta t^4}\n",
    "\\label{trunc:table:fd2:center} \\tag{18}\n",
    "\\end{equation}\n",
    "$$"
   ]
  },
  {
   "cell_type": "markdown",
   "metadata": {},
   "source": [
    "mathcal{I}_t will also be convenient to have the truncation errors for various\n",
    "means or averages. The weighted arithmetic mean leads to"
   ]
  },
  {
   "cell_type": "markdown",
   "metadata": {},
   "source": [
    "<!-- Equation labels as ordinary links -->\n",
    "<div id=\"trunc:table:avg:theta:eq\"></div>\n",
    "\n",
    "$$\n",
    "\\begin{equation}\n",
    "[\\overline{u}^{t,\\theta}]^{n+\\theta}\n",
    " = \\theta u^{n+1} + (1-\\theta)u^n =\n",
    "u(t_{n+\\theta}) + R^{n+\\theta},\n",
    "\\label{trunc:table:avg:theta:eq} \\tag{19}\n",
    "\\end{equation}\n",
    "$$"
   ]
  },
  {
   "cell_type": "markdown",
   "metadata": {},
   "source": [
    "<!-- Equation labels as ordinary links -->\n",
    "<div id=\"trunc:table:avg:theta\"></div>\n",
    "\n",
    "$$\n",
    "\\begin{equation} \n",
    "R^{n+\\theta} = {\\frac{1}{2}}u''(t_{n+\\theta})\\Delta t^2\\theta (1-\\theta) +\n",
    "\\mathcal{O}{\\Delta t^3}\n",
    "\\thinspace .\n",
    "\\label{trunc:table:avg:theta} \\tag{20}\n",
    "\\end{equation}\n",
    "$$"
   ]
  },
  {
   "cell_type": "markdown",
   "metadata": {},
   "source": [
    "The standard arithmetic mean follows from this formula when\n",
    "$\\theta=\\frac{1}{2}$. Expressed at point $t_n$ we get"
   ]
  },
  {
   "cell_type": "markdown",
   "metadata": {},
   "source": [
    "<!-- Equation labels as ordinary links -->\n",
    "<div id=\"trunc:table:avg:arith:eq\"></div>\n",
    "\n",
    "$$\n",
    "\\begin{equation}\n",
    "[\\overline{u}^{t}]^{n} = \\frac{1}{2}(u^{n-\\frac{1}{2}} + u^{n+\\frac{1}{2}})\n",
    "= u(t_n) + R^{n},\n",
    "\\label{trunc:table:avg:arith:eq} \\tag{21}\n",
    "\\end{equation}\n",
    "$$"
   ]
  },
  {
   "cell_type": "markdown",
   "metadata": {},
   "source": [
    "<!-- Equation labels as ordinary links -->\n",
    "<div id=\"trunc:table:avg:arith\"></div>\n",
    "\n",
    "$$\n",
    "\\begin{equation} \n",
    "R^{n} = \\frac{1}{8}u''(t_{n})\\Delta t^2 + \\frac{1}{384}u''''(t_n)\\Delta t^4\n",
    "+ \\mathcal{O}{\\Delta t^6}\\thinspace .\n",
    "\\label{trunc:table:avg:arith} \\tag{22}\n",
    "\\end{equation}\n",
    "$$"
   ]
  },
  {
   "cell_type": "markdown",
   "metadata": {},
   "source": [
    "The geometric mean also has an error $\\mathcal{O}{\\Delta t^2}$:"
   ]
  },
  {
   "cell_type": "markdown",
   "metadata": {},
   "source": [
    "<!-- Equation labels as ordinary links -->\n",
    "<div id=\"trunc:table:avg:geom:eq\"></div>\n",
    "\n",
    "$$\n",
    "\\begin{equation}\n",
    "[\\overline{u^2}^{t,g}]^{n} = u^{n-\\frac{1}{2}}u^{n+\\frac{1}{2}} = (u^n)^2 + R^n,\n",
    "\\label{trunc:table:avg:geom:eq} \\tag{23}\n",
    "\\end{equation}\n",
    "$$"
   ]
  },
  {
   "cell_type": "markdown",
   "metadata": {},
   "source": [
    "<!-- Equation labels as ordinary links -->\n",
    "<div id=\"trunc:table:avg:geom\"></div>\n",
    "\n",
    "$$\n",
    "\\begin{equation} \n",
    "R^n = - \\frac{1}{4}u'(t_n)^2\\Delta t^2  + \\frac{1}{4}u(t_n)u''(t_n)\\Delta t^2\n",
    "+ \\mathcal{O}{\\Delta t^4}\n",
    "\\thinspace .\n",
    "\\label{trunc:table:avg:geom} \\tag{24}\n",
    "\\end{equation}\n",
    "$$"
   ]
  },
  {
   "cell_type": "markdown",
   "metadata": {},
   "source": [
    "The harmonic mean is also second-order accurate:"
   ]
  },
  {
   "cell_type": "markdown",
   "metadata": {},
   "source": [
    "<!-- Equation labels as ordinary links -->\n",
    "<div id=\"trunc:table:avg:harm:eq\"></div>\n",
    "\n",
    "$$\n",
    "\\begin{equation}\n",
    "[\\overline{u}^{t,h}]^{n} = u^n = \\frac{2}{\\frac{1}{u^{n-\\frac{1}{2}}} + \\frac{1}{u^{n+\\frac{1}{2}}}}\n",
    "+ R^{n+\\frac{1}{2}},\n",
    "\\label{trunc:table:avg:harm:eq} \\tag{25}\n",
    "\\end{equation}\n",
    "$$"
   ]
  },
  {
   "cell_type": "markdown",
   "metadata": {},
   "source": [
    "<!-- Equation labels as ordinary links -->\n",
    "<div id=\"trunc:table:avg:harm\"></div>\n",
    "\n",
    "$$\n",
    "\\begin{equation} \n",
    "R^n = - \\frac{u'(t_n)^2}{4u(t_n)}\\Delta t^2 + \\frac{1}{8}u''(t_n)\\Delta t^2\n",
    "\\thinspace .\n",
    "\\label{trunc:table:avg:harm} \\tag{26}\n",
    "\\end{equation}\n",
    "$$"
   ]
  },
  {
   "cell_type": "markdown",
   "metadata": {},
   "source": [
    "## Software for computing truncation errors\n",
    "<div id=\"trunc:sympy\"></div>\n",
    "\n",
    "We can use `sympy` to aid calculations with Taylor series.\n",
    "The derivatives can be defined as symbols, say `D3f` for the\n",
    "3rd derivative of some function $f$. A truncated Taylor series\n",
    "can then be written as `f + D1f*h + D2f*h**2/2`. The following\n",
    "class takes some symbol `f` for the function in question\n",
    "and makes a list of symbols for the derivatives. The\n",
    "`__call__` method computes the symbolic form of the series\n",
    "truncated at `num_terms` terms."
   ]
  },
  {
   "cell_type": "code",
   "execution_count": null,
   "metadata": {},
   "outputs": [],
   "source": [
    "import sympy as sym"
   ]
  },
  {
   "cell_type": "code",
   "execution_count": null,
   "metadata": {},
   "outputs": [],
   "source": [
    "# %load -s TaylorSeries, src-trunc/truncation_errors.py\n",
    "class TaylorSeries:\n",
    "    \"\"\"Class for symbolic Taylor series.\"\"\"\n",
    "    def __init__(self, f, num_terms=4):\n",
    "        self.f = f\n",
    "        self.N = num_terms\n",
    "        # Introduce symbols for the derivatives\n",
    "        self.df = [f]\n",
    "        for i in range(1, self.N+1):\n",
    "            self.df.append(sym.Symbol('D%d%s' % (i, f.name)))\n",
    "\n",
    "    def __call__(self, h):\n",
    "        \"\"\"Return the truncated Taylor series at x+h.\"\"\"\n",
    "        terms = self.f\n",
    "        for i in range(1, self.N+1):\n",
    "            terms += sym.Rational(1, sym.factorial(i))*self.df[i]*h**i\n",
    "        return terms\n"
   ]
  },
  {
   "cell_type": "markdown",
   "metadata": {},
   "source": [
    "We may, for example, use this class to compute the truncation error\n",
    "of the Forward Euler finite difference formula:"
   ]
  },
  {
   "cell_type": "code",
   "execution_count": 9,
   "metadata": {},
   "outputs": [
    {
     "data": {
      "text/latex": [
       "$\\displaystyle D1u dt + \\frac{D2u dt^{2}}{2} + \\frac{D3u dt^{3}}{6} + \\frac{D4u dt^{4}}{24} + u$"
      ],
      "text/plain": [
       "D1u*dt + D2u*dt**2/2 + D3u*dt**3/6 + D4u*dt**4/24 + u"
      ]
     },
     "execution_count": 9,
     "metadata": {},
     "output_type": "execute_result"
    }
   ],
   "source": [
    "from sympy import *\n",
    "u, dt = symbols('u dt')\n",
    "u_Taylor = TaylorSeries(u, 4)\n",
    "u_Taylor(dt)"
   ]
  },
  {
   "cell_type": "code",
   "execution_count": 10,
   "metadata": {},
   "outputs": [
    {
     "data": {
      "text/latex": [
       "$\\displaystyle \\frac{D1u dt + \\frac{D2u dt^{2}}{2} + \\frac{D3u dt^{3}}{6} + \\frac{D4u dt^{4}}{24}}{dt}$"
      ],
      "text/plain": [
       "(D1u*dt + D2u*dt**2/2 + D3u*dt**3/6 + D4u*dt**4/24)/dt"
      ]
     },
     "execution_count": 10,
     "metadata": {},
     "output_type": "execute_result"
    }
   ],
   "source": [
    "FE = (u_Taylor(dt) - u)/dt\n",
    "FE"
   ]
  },
  {
   "cell_type": "code",
   "execution_count": 11,
   "metadata": {},
   "outputs": [
    {
     "data": {
      "text/latex": [
       "$\\displaystyle D1u + \\frac{D2u dt}{2} + \\frac{D3u dt^{2}}{6} + \\frac{D4u dt^{3}}{24}$"
      ],
      "text/plain": [
       "D1u + D2u*dt/2 + D3u*dt**2/6 + D4u*dt**3/24"
      ]
     },
     "execution_count": 11,
     "metadata": {},
     "output_type": "execute_result"
    }
   ],
   "source": [
    "simplify(FE)"
   ]
  },
  {
   "cell_type": "markdown",
   "metadata": {},
   "source": [
    "The truncation error consists of the terms after the first one ($u'$).\n",
    "\n",
    "The module file [`src-trunc/truncation_errors.py`](src-trunc/truncation_errors.py) contains another class `DiffOp` with symbolic expressions for\n",
    "most of the truncation errors listed in the previous section."
   ]
  },
  {
   "cell_type": "code",
   "execution_count": null,
   "metadata": {},
   "outputs": [],
   "source": [
    "# %load -s DiffOp, src-trunc/truncation_errors.py\n",
    "class DiffOp:\n",
    "    \"\"\"Class for discrete difference operators.\"\"\"\n",
    "    def __init__(self, f, independent_variable='x',\n",
    "                 num_terms_Taylor_series=4):\n",
    "        self.Taylor = TaylorSeries(f, num_terms_Taylor_series)\n",
    "        self.f = self.Taylor.f\n",
    "        self.h = sym.Symbol('d%s' % independent_variable)\n",
    "\n",
    "        # Finite difference operators\n",
    "        h, f, f_T = self.h, self.f, self.Taylor # short names\n",
    "        theta = sym.Symbol('theta')\n",
    "        self.diffops = {\n",
    "            'Dtp':  (f_T(h) - f)/h,\n",
    "            'Dtm':  (f - f_T(-h))/h,\n",
    "            'Dt':   (f_T(h/2) - f_T(-h/2))/h,\n",
    "            'D2t':  (f_T(h) - f_T(-h))/(2*h),\n",
    "            'DtDt': (f_T(h) - 2*f + f_T(-h))/h**2,\n",
    "            'barDt': (f_T((1-theta)*h) - f_T(-theta*h))/h,\n",
    "            }\n",
    "        self.diffops = {diffop: sym.simplify(self.diffops[diffop])\n",
    "                        for diffop in self.diffops}\n",
    "\n",
    "        self.diffops['weighted_arithmetic_mean'] = \\\n",
    "             self._weighted_arithmetic_mean()\n",
    "        self.diffops['geometric_mean'] = self._geometric_mean()\n",
    "        self.diffops['harmonic_mean'] = self._harmonic_mean()\n",
    "\n",
    "    def _weighted_arithmetic_mean(self):\n",
    "        # The expansion is around n*h + theta*h\n",
    "        h, f, f_T = self.h, self.f, self.Taylor\n",
    "        theta = sym.Symbol('theta')\n",
    "        f_n = f_T(-h*theta)\n",
    "        f_np1 = f_T((1-theta)*h)\n",
    "        a_mean = theta*f_np1 + (1-theta)*f_n\n",
    "        return sym.expand(a_mean)\n",
    "\n",
    "    def _geometric_mean(self):\n",
    "        h, f, f_T = self.h, self.f, self.Taylor\n",
    "        f_nmhalf = f_T(-h/2)\n",
    "        f_nphalf = f_T(h/2)\n",
    "        g_mean = f_nmhalf*f_nphalf\n",
    "        return sym.expand(g_mean)\n",
    "\n",
    "    def _harmonic_mean(self):\n",
    "        h, f, f_T = self.h, self.f, self.Taylor\n",
    "        f_nmhalf = f_T(-h/2)\n",
    "        f_nphalf = f_T(h/2)\n",
    "        h_mean = 2/(1/f_nmhalf + 1/f_nphalf)\n",
    "        return sym.expand(h_mean)\n",
    "\n",
    "    def D(self, i):\n",
    "        \"\"\"Return the symbol for the i-th derivative.\"\"\"\n",
    "        return self.Taylor.df[i]\n",
    "\n",
    "    def __getitem__(self, operator_name):\n",
    "        return self.diffops.get(operator_name, None)\n",
    "\n",
    "    def operator_names(self):\n",
    "        \"\"\"Return all names for the operators.\"\"\"\n",
    "        return list(self.diffops.keys())\n"
   ]
  },
  {
   "cell_type": "markdown",
   "metadata": {},
   "source": [
    "An example of its usage is as follows:"
   ]
  },
  {
   "cell_type": "markdown",
   "metadata": {},
   "source": [
    "        >>> from truncation_errors import DiffOp\n",
    "        >>> from sympy import *\n",
    "        >>> u = Symbol('u')\n",
    "        >>> diffop = DiffOp(u, independent_variable='t')\n",
    "        >>> diffop['geometric_mean']\n",
    "        -D1u**2*dt**2/4 - D1u*D3u*dt**4/48 + D2u**2*dt**4/64 + ...\n",
    "        >>> diffop['Dtm']\n",
    "        D1u + D2u*dt/2 + D3u*dt**2/6 + D4u*dt**3/24\n",
    "        >>> >>> diffop.operator_names()\n",
    "        ['geometric_mean', 'harmonic_mean', 'Dtm', 'D2t', 'DtDt',\n",
    "         'weighted_arithmetic_mean', 'Dthinspace .', 'Dt']\n"
   ]
  },
  {
   "cell_type": "markdown",
   "metadata": {},
   "source": [
    "The indexing of `diffop` applies names that correspond to the operators:\n",
    "`Dtp` for $D^+_t$, `Dtm` for $D_t^-$, `Dt` for $D_t$, `D2t` for\n",
    "$D_{2t}$, `DtDt` for $D_tD_t$.\n",
    "\n",
    "\n",
    "# Exponential decay ODEs\n",
    "<div id=\"trunc:decay\"></div>\n",
    "\n",
    "\n",
    "We shall now compute the truncation error of a finite difference\n",
    "scheme for a differential equation.\n",
    "Our first problem involves the following\n",
    "linear ODE that models exponential decay,"
   ]
  },
  {
   "cell_type": "markdown",
   "metadata": {},
   "source": [
    "<!-- Equation labels as ordinary links -->\n",
    "<div id=\"trunc:decay:ode\"></div>\n",
    "\n",
    "$$\n",
    "\\begin{equation}\n",
    "u'(t)=-au(t)\\thinspace .\n",
    "\\label{trunc:decay:ode} \\tag{27}\n",
    "\\end{equation}\n",
    "$$"
   ]
  },
  {
   "cell_type": "markdown",
   "metadata": {},
   "source": [
    "## Forward Euler scheme\n",
    "<div id=\"trunc:decay:FE\"></div>\n",
    "\n",
    "We begin with the Forward Euler scheme for discretizing ([27](#trunc:decay:ode)):"
   ]
  },
  {
   "cell_type": "markdown",
   "metadata": {},
   "source": [
    "<!-- Equation labels as ordinary links -->\n",
    "<div id=\"trunc:decay:FE:scheme\"></div>\n",
    "\n",
    "$$\n",
    "\\begin{equation}\n",
    "\\lbrack D_t^+ u = -au \\rbrack^n\n",
    "\\label{trunc:decay:FE:scheme} \\tag{28}\n",
    "\\thinspace .\n",
    "\\end{equation}\n",
    "$$"
   ]
  },
  {
   "cell_type": "markdown",
   "metadata": {},
   "source": [
    "The idea behind the truncation error computation is to insert\n",
    "the exact solution $u$ of the differential equation problem\n",
    "([27](#trunc:decay:ode))\n",
    "in the discrete equations ([28](#trunc:decay:FE:scheme)) and find the residual\n",
    "that arises because $u$ does not solve the discrete equations.\n",
    "Instead, $u$ solves the discrete equations with a residual $R^n$:"
   ]
  },
  {
   "cell_type": "markdown",
   "metadata": {},
   "source": [
    "<!-- Equation labels as ordinary links -->\n",
    "<div id=\"trunc:decay:FE:uex\"></div>\n",
    "\n",
    "$$\n",
    "\\begin{equation}\n",
    "[D_t^+ u + au = R]^n\n",
    "\\label{trunc:decay:FE:uex} \\tag{29}\n",
    "\\thinspace .\n",
    "\\end{equation}\n",
    "$$"
   ]
  },
  {
   "cell_type": "markdown",
   "metadata": {},
   "source": [
    "From ([11](#trunc:table:fd1:fw:eq))-([12](#trunc:table:fd1:fw)) it follows that"
   ]
  },
  {
   "cell_type": "markdown",
   "metadata": {},
   "source": [
    "$$\n",
    "[D_t^+ u]^n = u'(t_n) +\n",
    "\\frac{1}{2}u''(t_n)\\Delta t + \\mathcal{O}{\\Delta t^2},\n",
    "$$"
   ]
  },
  {
   "cell_type": "markdown",
   "metadata": {},
   "source": [
    "which inserted in ([29](#trunc:decay:FE:uex)) results in"
   ]
  },
  {
   "cell_type": "markdown",
   "metadata": {},
   "source": [
    "$$\n",
    "u'(t_n) +\n",
    "\\frac{1}{2}u''(t_n)\\Delta t + \\mathcal{O}{\\Delta t^2}\n",
    "+ au(t_n) = R^n\n",
    "\\thinspace .\n",
    "$$"
   ]
  },
  {
   "cell_type": "markdown",
   "metadata": {},
   "source": [
    "Now, $u'(t_n) + au^n = 0$ since $u$ solves the differential equation.\n",
    "The remaining terms constitute the residual:"
   ]
  },
  {
   "cell_type": "markdown",
   "metadata": {},
   "source": [
    "<!-- Equation labels as ordinary links -->\n",
    "<div id=\"trunc:decay:FE:R\"></div>\n",
    "\n",
    "$$\n",
    "\\begin{equation}\n",
    "R^n = \\frac{1}{2}u''(t_n)\\Delta t + \\mathcal{O}{\\Delta t^2}\n",
    "\\label{trunc:decay:FE:R} \\tag{30}\n",
    "\\thinspace .\n",
    "\\end{equation}\n",
    "$$"
   ]
  },
  {
   "cell_type": "markdown",
   "metadata": {},
   "source": [
    "This is the truncation error $R^n$ of the Forward Euler scheme.\n",
    "\n",
    "Because $R^n$ is proportional to $\\Delta t$, we say that\n",
    "the Forward Euler scheme is of first order in $\\Delta t$.\n",
    "However, the truncation error\n",
    "is just one error measure, and it is not equal to the true error\n",
    "$u^n - u^n$. For this simple model problem we can compute\n",
    "a range of different error measures for the Forward Euler scheme,\n",
    "including the true error $u^n - u^n$, and all of them\n",
    "have dominating terms proportional to $\\Delta t$.\n",
    "\n",
    "## Crank-Nicolson scheme\n",
    "<div id=\"trunc:decay:CN\"></div>\n",
    "\n",
    "For the Crank-Nicolson scheme,"
   ]
  },
  {
   "cell_type": "markdown",
   "metadata": {},
   "source": [
    "<!-- Equation labels as ordinary links -->\n",
    "<div id=\"trunc:decay:CN:scheme\"></div>\n",
    "\n",
    "$$\n",
    "\\begin{equation}\n",
    "[D_t u = -au]^{n+\\frac{1}{2}},\n",
    "\\label{trunc:decay:CN:scheme} \\tag{31}\n",
    "\\end{equation}\n",
    "$$"
   ]
  },
  {
   "cell_type": "markdown",
   "metadata": {},
   "source": [
    "we compute the truncation error by inserting the exact solution of\n",
    "the ODE and adding a residual $R$,"
   ]
  },
  {
   "cell_type": "markdown",
   "metadata": {},
   "source": [
    "<!-- Equation labels as ordinary links -->\n",
    "<div id=\"trunc:decay:CN:scheme:R\"></div>\n",
    "\n",
    "$$\n",
    "\\begin{equation}\n",
    "[D_t u + a\\overline{u}^{t} = R]^{n+\\frac{1}{2}}\n",
    "\\thinspace .\n",
    "\\label{trunc:decay:CN:scheme:R} \\tag{32}\n",
    "\\end{equation}\n",
    "$$"
   ]
  },
  {
   "cell_type": "markdown",
   "metadata": {},
   "source": [
    "The term $[D_tu]^{n+\\frac{1}{2}}$ is easily computed\n",
    "from ([5](#trunc:table:fd1:center:eq))-([6](#trunc:table:fd1:center))\n",
    "by replacing $n$\n",
    "with $n+{\\frac{1}{2}}$ in the formula,"
   ]
  },
  {
   "cell_type": "markdown",
   "metadata": {},
   "source": [
    "$$\n",
    "\\lbrack D_tu\\rbrack^{n+\\frac{1}{2}} = u'(t_{n+\\frac{1}{2}}) +\n",
    "\\frac{1}{24}u'''(t_{n+\\frac{1}{2}})\\Delta t^2 + \\mathcal{O}{\\Delta t^4}\\thinspace .\n",
    "$$"
   ]
  },
  {
   "cell_type": "markdown",
   "metadata": {},
   "source": [
    "The arithmetic mean is related to $u(t_{n+\\frac{1}{2}})$ by\n",
    "([21](#trunc:table:avg:arith:eq))-([22](#trunc:table:avg:arith)) so"
   ]
  },
  {
   "cell_type": "markdown",
   "metadata": {},
   "source": [
    "$$\n",
    "[a\\overline{u}^{t}]^{n+\\frac{1}{2}}\n",
    "= u(t_{n+\\frac{1}{2}}) + \\frac{1}{8}u''(t_{n})\\Delta t^2 +\n",
    "+ \\mathcal{O}{\\Delta t^4}\\thinspace .\n",
    "$$"
   ]
  },
  {
   "cell_type": "markdown",
   "metadata": {},
   "source": [
    "Inserting these expressions in ([32](#trunc:decay:CN:scheme:R)) and\n",
    "observing that $u'(t_{n+\\frac{1}{2}}) +au^{n+\\frac{1}{2}} = 0$, because\n",
    "$u(t)$ solves the ODE $u'(t)=-au(t)$ at any point $t$,\n",
    "we find that"
   ]
  },
  {
   "cell_type": "markdown",
   "metadata": {},
   "source": [
    "<!-- Equation labels as ordinary links -->\n",
    "<div id=\"_auto3\"></div>\n",
    "\n",
    "$$\n",
    "\\begin{equation}\n",
    "R^{n+\\frac{1}{2}} = \\left(\n",
    "\\frac{1}{24}u'''(t_{n+\\frac{1}{2}}) + \\frac{1}{8}u''(t_{n})\n",
    "\\right)\\Delta t^2 + \\mathcal{O}{\\Delta t^4}\n",
    "\\label{_auto3} \\tag{33}\n",
    "\\end{equation}\n",
    "$$"
   ]
  },
  {
   "cell_type": "markdown",
   "metadata": {},
   "source": [
    "Here, the truncation error is of second order because the leading\n",
    "term in $R$ is proportional to $\\Delta t^2$.\n",
    "\n",
    "At this point it is wise to redo some of the computations above\n",
    "to establish the truncation error of the Backward Euler scheme,\n",
    "see [Problem 4: Truncation error of the Backward Euler scheme](#trunc:exer:decay:BE).\n",
    "\n",
    "\n",
    "## The $\\theta$-rule\n",
    "<div id=\"trunc:decay:theta\"></div>\n",
    "\n",
    "We may also compute the truncation error of the $\\theta$-rule,"
   ]
  },
  {
   "cell_type": "markdown",
   "metadata": {},
   "source": [
    "$$\n",
    "[\\bar D_t u = -a\\overline{u}^{t,\\theta}]^{n+\\theta}\n",
    "\\thinspace .\n",
    "$$"
   ]
  },
  {
   "cell_type": "markdown",
   "metadata": {},
   "source": [
    "Our computational task is to find $R^{n+\\theta}$ in"
   ]
  },
  {
   "cell_type": "markdown",
   "metadata": {},
   "source": [
    "$$\n",
    "[\\bar D_t u  + a\\overline{u}^{t,\\theta} = R]^{n+\\theta}\n",
    "\\thinspace .\n",
    "$$"
   ]
  },
  {
   "cell_type": "markdown",
   "metadata": {},
   "source": [
    "From ([13](#trunc:table:fd1:theta:eq))-([14](#trunc:table:fd1:theta)) and\n",
    "([19](#trunc:table:avg:theta:eq))-([20](#trunc:table:avg:theta)) we get\n",
    "expressions for the terms with $u$.\n",
    "Using that $u'(t_{n+\\theta}) + au(t_{n+\\theta})=0$,\n",
    "we end up with"
   ]
  },
  {
   "cell_type": "markdown",
   "metadata": {},
   "source": [
    "$$\n",
    "R^{n+\\theta}\n",
    "=\n",
    "({\\frac{1}{2}}-\\theta)u''(t_{n+\\theta})\\Delta t +\n",
    "\\frac{1}{2}\\theta (1-\\theta)u''(t_{n+\\theta})\\Delta t^2 + \\nonumber\n",
    "$$"
   ]
  },
  {
   "cell_type": "markdown",
   "metadata": {},
   "source": [
    "<!-- Equation labels as ordinary links -->\n",
    "<div id=\"_auto4\"></div>\n",
    "\n",
    "$$\n",
    "\\begin{equation} \n",
    " \\frac{1}{2}(\\theta^2 -\\theta + 3)u'''(t_{n+\\theta})\\Delta t^2\n",
    "+ \\mathcal{O}{\\Delta t^3}\n",
    "\\label{_auto4} \\tag{34}\n",
    "\\end{equation}\n",
    "$$"
   ]
  },
  {
   "cell_type": "markdown",
   "metadata": {},
   "source": [
    "For $\\theta =\\frac{1}{2}$ the first-order term vanishes and the scheme is of\n",
    "second order, while for $\\theta\\neq \\frac{1}{2}$ we only have a first-order scheme.\n",
    "\n",
    "## Using symbolic software\n",
    "<div id=\"trunc:decay:software\"></div>\n",
    "\n",
    "The previously mentioned `truncation_error` module can be used to\n",
    "automate the Taylor series expansions and the process of\n",
    "collecting terms."
   ]
  },
  {
   "cell_type": "markdown",
   "metadata": {},
   "source": [
    "Here is an example on possible use:"
   ]
  },
  {
   "cell_type": "code",
   "execution_count": null,
   "metadata": {},
   "outputs": [],
   "source": [
    "# %load -s decay, src-trunc/session.py\n",
    "def decay():\n",
    "    u, a = symbols('u a')\n",
    "    diffop = DiffOp(u, independent_variable='t',\n",
    "                    num_terms_Taylor_series=3)\n",
    "    D1u = diffop.D(1)   # symbol for du/dt\n",
    "    ODE = D1u + a*u     # define ODE\n",
    "    # Define schemes\n",
    "    FE = diffop['Dtp'] + a*u\n",
    "    CN = diffop['Dt' ] + a*u\n",
    "    BE = diffop['Dtm'] + a*u\n",
    "    theta = diffop['barDt'] + a*diffop['weighted_arithmetic_mean']\n",
    "    theta = simplify(expand(theta))\n",
    "    # Residuals (truncation errors)\n",
    "    R = {'FE': FE-ODE, 'BE': BE-ODE, 'CN': CN-ODE, 'theta': theta-ODE}\n",
    "    return R\n"
   ]
  },
  {
   "cell_type": "markdown",
   "metadata": {},
   "source": [
    "The returned dictionary becomes"
   ]
  },
  {
   "cell_type": "markdown",
   "metadata": {},
   "source": [
    "```python        \n",
    "        decay: {\n",
    "         'BE': D2u*dt/2 + D3u*dt**2/6,\n",
    "         'FE': -D2u*dt/2 + D3u*dt**2/6,\n",
    "         'CN': D3u*dt**2/24,\n",
    "         'theta': -D2u*a*dt**2*theta**2/2 + D2u*a*dt**2*theta/2 -\n",
    "                   D2u*dt*theta + D2u*dt/2 + D3u*a*dt**3*theta**3/3 -\n",
    "                   D3u*a*dt**3*theta**2/2 + D3u*a*dt**3*theta/6 +\n",
    "                   D3u*dt**2*theta**2/2 - D3u*dt**2*theta/2 + D3u*dt**2/6,\n",
    "        }\n",
    "```"
   ]
  },
  {
   "cell_type": "markdown",
   "metadata": {},
   "source": [
    "The results are in correspondence with our hand-derived expressions.\n",
    "\n",
    "## Empirical verification of the truncation error\n",
    "<div id=\"trunc:decay:estimate:R\"></div>\n",
    "\n",
    "\n",
    "The task of this section is to demonstrate how we can compute\n",
    "the truncation error $R$ numerically. For example, the truncation\n",
    "error of the Forward Euler scheme applied to the decay ODE $u'=-ua$\n",
    "is"
   ]
  },
  {
   "cell_type": "markdown",
   "metadata": {},
   "source": [
    "<!-- Equation labels as ordinary links -->\n",
    "<div id=\"trunc:decay:FE:R:comp\"></div>\n",
    "\n",
    "$$\n",
    "\\begin{equation}\n",
    "R^n = [D_t^+u + au]^n\n",
    "\\label{trunc:decay:FE:R:comp} \\tag{35}\n",
    "\\thinspace .\n",
    "\\end{equation}\n",
    "$$"
   ]
  },
  {
   "cell_type": "markdown",
   "metadata": {},
   "source": [
    "If we happen to know the exact solution $u(t)$, we can easily evaluate\n",
    "$R^n$ from the above formula.\n",
    "\n",
    "To estimate how $R$ varies with the discretization parameter $\\Delta\n",
    "t$, which has been our focus in the previous mathematical derivations,\n",
    "we first make the assumption that $R=C\\Delta t^r$ for\n",
    "appropriate constants $C$ and\n",
    "$r$ and small enough $\\Delta t$. The rate $r$ can be estimated from a series\n",
    "of experiments where $\\Delta t$ is varied. Suppose we have\n",
    "$m$ experiments $(\\Delta t_i, R_i)$, $i=0,\\ldots,m-1$.\n",
    "For two consecutive experiments $(\\Delta t_{i-1}, R_{i-1})$\n",
    "and $(\\Delta t_i, R_i)$, a corresponding $r_{i-1}$ can be estimated by"
   ]
  },
  {
   "cell_type": "markdown",
   "metadata": {},
   "source": [
    "<!-- Equation labels as ordinary links -->\n",
    "<div id=\"trunc:R:empir1\"></div>\n",
    "\n",
    "$$\n",
    "\\begin{equation}\n",
    "r_{i-1} = \\frac{\\ln (R_{i-1}/R_i)}{\\ln (\\Delta t_{i-1}/\\Delta t_i)},\n",
    "\\label{trunc:R:empir1} \\tag{36}\n",
    "\\end{equation}\n",
    "$$"
   ]
  },
  {
   "cell_type": "markdown",
   "metadata": {},
   "source": [
    "for $i=1,\\ldots,m-1$. Note that the truncation error $R_i$ varies\n",
    "through the mesh, so ([36](#trunc:R:empir1)) is to be applied\n",
    "pointwise. A complicating issue is that $R_i$ and $R_{i-1}$ refer to\n",
    "different meshes. Pointwise comparisons of the truncation error at a\n",
    "certain point in all meshes therefore requires any\n",
    "computed $R$ to be restricted to the *coarsest mesh* and that\n",
    "all finer meshes contain all the points in the coarsest mesh.\n",
    "Suppose we have\n",
    "$N_0$ intervals in the coarsest mesh. Inserting a superscript $n$ in\n",
    "([36](#trunc:R:empir1)), where $n$ counts mesh points in the coarsest\n",
    "mesh, $n=0,\\ldots,N_0$, leads to the formula"
   ]
  },
  {
   "cell_type": "markdown",
   "metadata": {},
   "source": [
    "<!-- Equation labels as ordinary links -->\n",
    "<div id=\"trunc:R:empir2\"></div>\n",
    "\n",
    "$$\n",
    "\\begin{equation}\n",
    "r_{i-1}^n = \\frac{\\ln (R_{i-1}^n/R_i^n)}{\\ln (\\Delta t_{i-1}/\\Delta t_i)}\n",
    "\\thinspace .\n",
    "\\label{trunc:R:empir2} \\tag{37}\n",
    "\\end{equation}\n",
    "$$"
   ]
  },
  {
   "cell_type": "markdown",
   "metadata": {},
   "source": [
    "Experiments are most conveniently defined by $N_0$ and a number of\n",
    "refinements $m$. Suppose each mesh has twice as many cells $N_i$ as the previous\n",
    "one:"
   ]
  },
  {
   "cell_type": "markdown",
   "metadata": {},
   "source": [
    "$$\n",
    "N_i = 2^iN_0,\\quad \\Delta t_i = TN_i^{-1},\n",
    "$$"
   ]
  },
  {
   "cell_type": "markdown",
   "metadata": {},
   "source": [
    "where $[0,T]$ is the total time interval for the computations.\n",
    "Suppose the computed $R_i$ values on the mesh with $N_i$ intervals\n",
    "are stored in an array `R[i]` (`R` being a list of arrays, one for\n",
    "each mesh). Restricting this $R_i$ function to\n",
    "the coarsest mesh means extracting every $N_i/N_0$ point and is done\n",
    "as follows:"
   ]
  },
  {
   "cell_type": "markdown",
   "metadata": {},
   "source": [
    "```python\n",
    "stride = N[i]/N_0\n",
    "R[i] = R[i][::stride]\n",
    "```"
   ]
  },
  {
   "cell_type": "markdown",
   "metadata": {},
   "source": [
    "The quantity `R[i][n]` now corresponds to $R_i^n$.\n",
    "\n",
    "In addition to estimating $r$ for the pointwise values\n",
    "of $R=C\\Delta t^r$, we may also consider an integrated quantity\n",
    "on mesh $i$,"
   ]
  },
  {
   "cell_type": "markdown",
   "metadata": {},
   "source": [
    "<!-- Equation labels as ordinary links -->\n",
    "<div id=\"_auto5\"></div>\n",
    "\n",
    "$$\n",
    "\\begin{equation}\n",
    "R_{I,i} = \\left(\\Delta t_i\\sum_{n=0}^{N_i} (R_i^n)^2\\right)^\\frac{1}{2}\\approx \\int_0^T R_i(t)dt\n",
    "\\thinspace .\n",
    "\\label{_auto5} \\tag{38}\n",
    "\\end{equation}\n",
    "$$"
   ]
  },
  {
   "cell_type": "markdown",
   "metadata": {},
   "source": [
    "The sequence $R_{I,i}$, $i=0,\\ldots,m-1$, is also expected to\n",
    "behave as $C\\Delta t^r$, with the same $r$ as for the pointwise quantity\n",
    "$R$, as $\\Delta t\\rightarrow 0$.\n",
    "\n",
    "The function below computes the $R_i$ and $R_{I,i}$ quantities, plots\n",
    "them and compares with\n",
    "the theoretically derived truncation error (`R_a`) if available."
   ]
  },
  {
   "cell_type": "code",
   "execution_count": 18,
   "metadata": {},
   "outputs": [
    {
     "ename": "SyntaxError",
     "evalue": "Missing parentheses in call to 'print'. Did you mean print('R integrated in time)? (<ipython-input-18-5dc5fe81461e>, line 76)",
     "output_type": "error",
     "traceback": [
      "\u001b[0;36m  File \u001b[0;32m\"<ipython-input-18-5dc5fe81461e>\"\u001b[0;36m, line \u001b[0;32m76\u001b[0m\n\u001b[0;31m    print 'R integrated in time; r:',\u001b[0m\n\u001b[0m          ^\u001b[0m\n\u001b[0;31mSyntaxError\u001b[0m\u001b[0;31m:\u001b[0m Missing parentheses in call to 'print'. Did you mean print('R integrated in time)?\n"
     ]
    }
   ],
   "source": [
    "%matplotlib inline\n",
    "\n",
    "import numpy as np\n",
    "import scitools.std as plt\n",
    "\n",
    "def estimate(truncation_error, T, N_0, m, makeplot=True):\n",
    "    \"\"\"\n",
    "    Compute the truncation error in a problem with one independent\n",
    "    variable, using m meshes, and estimate the convergence\n",
    "    rate of the truncation error.\n",
    "\n",
    "    The user-supplied function truncation_error(dt, N) computes\n",
    "    the truncation error on a uniform mesh with N intervals of\n",
    "    length dt::\n",
    "\n",
    "      R, t, R_a = truncation_error(dt, N)\n",
    "\n",
    "    where R holds the truncation error at points in the array t,\n",
    "    and R_a are the corresponding theoretical truncation error\n",
    "    values (None if not available).\n",
    "\n",
    "    The truncation_error function is run on a series of meshes\n",
    "    with 2**i*N_0 intervals, i=0,1,...,m-1.\n",
    "    The values of R and R_a are restricted to the coarsest mesh.\n",
    "    and based on these data, the convergence rate of R (pointwise)\n",
    "    and time-integrated R can be estimated empirically.\n",
    "    \"\"\"\n",
    "    N = [2**i*N_0 for i in range(m)]\n",
    "\n",
    "    R_I = np.zeros(m) # time-integrated R values on various meshes\n",
    "    R   = [None]*m    # time series of R restricted to coarsest mesh\n",
    "    R_a = [None]*m    # time series of R_a restricted to coarsest mesh\n",
    "    dt = np.zeros(m)\n",
    "    legends_R = [];  legends_R_a = []  # all legends of curves\n",
    "\n",
    "    for i in range(m):\n",
    "        dt[i] = T/float(N[i])\n",
    "        R[i], t, R_a[i] = truncation_error(dt[i], N[i])\n",
    "\n",
    "        R_I[i] = np.sqrt(dt[i]*np.sum(R[i]**2))\n",
    "\n",
    "        if i == 0:\n",
    "            t_coarse = t           # the coarsest mesh\n",
    "\n",
    "        stride = N[i]/N_0\n",
    "        R[i] = R[i][::stride]      # restrict to coarsest mesh\n",
    "        R_a[i] = R_a[i][::stride]\n",
    "\n",
    "        if makeplot:\n",
    "            plt.figure(1)\n",
    "            plt.plot(t_coarse, R[i], log='y')\n",
    "            legends_R.append('N=%d' % N[i])\n",
    "            plt.hold('on')\n",
    "\n",
    "            plt.figure(2)\n",
    "            plt.plot(t_coarse, R_a[i] - R[i], log='y')\n",
    "            plt.hold('on')\n",
    "            legends_R_a.append('N=%d' % N[i])\n",
    "\n",
    "    if makeplot:\n",
    "        plt.figure(1)\n",
    "        plt.xlabel('time')\n",
    "        plt.ylabel('pointwise truncation error')\n",
    "        plt.legend(legends_R)\n",
    "        plt.savefig('R_series.png')\n",
    "        plt.savefig('R_series.pdf')\n",
    "        plt.figure(2)\n",
    "        plt.xlabel('time')\n",
    "        plt.ylabel('pointwise error in estimated truncation error')\n",
    "        plt.legend(legends_R_a)\n",
    "        plt.savefig('R_error.png')\n",
    "        plt.savefig('R_error.pdf')\n",
    "\n",
    "    # Convergence rates\n",
    "    r_R_I = convergence_rates(dt, R_I)\n",
    "    print 'R integrated in time; r:',\n",
    "    print ' '.join(['%.1f' % r for r in r_R_I])\n",
    "    R = np.array(R)  # two-dim. numpy array\n",
    "    r_R = [convergence_rates(dt, R[:,n])[-1]\n",
    "           for n in range(len(t_coarse))]"
   ]
  },
  {
   "cell_type": "markdown",
   "metadata": {},
   "source": [
    "The first `makeplot` block demonstrates how to build up two figures\n",
    "in parallel, using `plt.figure(i)` to create and switch to figure number\n",
    "`i.` Figure numbers start at 1. A logarithmic scale is used on the\n",
    "$y$ axis since we expect that $R$ as a function of time (or mesh points)\n",
    "is exponential. The reason is that the theoretical estimate\n",
    "([30](#trunc:decay:FE:R)) contains $u''$, which for the present model\n",
    "goes like $e^{-at}$. Taking the logarithm makes a straight line.\n",
    "\n",
    "The code follows closely the previously\n",
    "stated mathematical formulas, but the statements for computing the convergence\n",
    "rates might deserve an explanation.\n",
    "The generic help function `convergence_rate(h, E)` computes and returns\n",
    "$r_{i-1}$, $i=1,\\ldots,m-1$ from ([37](#trunc:R:empir2)),\n",
    "given $\\Delta t_i$ in `h` and\n",
    "$R_i^n$ in `E`:"
   ]
  },
  {
   "cell_type": "code",
   "execution_count": 8,
   "metadata": {},
   "outputs": [],
   "source": [
    "def convergence_rates(h, E):\n",
    "    from math import log\n",
    "    r = [log(E[i]/E[i-1])/log(h[i]/h[i-1])\n",
    "         for i in range(1, len(h))]\n",
    "    return r"
   ]
  },
  {
   "cell_type": "markdown",
   "metadata": {},
   "source": [
    "Calling `r_R_I = convergence_rates(dt, R_I)` computes the sequence\n",
    "of rates $r_0,r_1,\\ldots,r_{m-2}$ for the model $R_I\\sim\\Delta t^r$,\n",
    "while the statements"
   ]
  },
  {
   "cell_type": "code",
   "execution_count": 9,
   "metadata": {},
   "outputs": [],
   "source": [
    "R = np.array(R)  # two-dim. numpy array\n",
    "r_R = [convergence_rates(dt, R[:,n])[-1]\n",
    "       for n in range(len(t_coarse))]"
   ]
  },
  {
   "cell_type": "markdown",
   "metadata": {},
   "source": [
    "compute the final rate $r_{m-2}$ for $R^n\\sim\\Delta t^r$ at each mesh\n",
    "point $t_n$ in the coarsest mesh. This latter computation deserves\n",
    "more explanation. Since `R[i][n]` holds the estimated\n",
    "truncation error $R_i^n$ on mesh $i$, at point $t_n$ in the coarsest mesh,\n",
    "`R[:,n]` picks out the sequence $R_i^n$ for $i=0,\\ldots,m-1$.\n",
    "The `convergence_rate` function computes the rates at $t_n$, and by\n",
    "indexing `[-1]` on the returned array from `convergence_rate`,\n",
    "we pick the rate $r_{m-2}$, which we believe is the best estimation since\n",
    "it is based on the two finest meshes.\n",
    "\n",
    "The `estimate` function is available in a module\n",
    "[`trunc_empir.py`](${src_trunc}/trunc_empir.py).\n",
    "Let us apply this function to estimate the truncation\n",
    "error of the Forward Euler scheme. We need a function `decay_FE(dt, N)`\n",
    "that can compute ([35](#trunc:decay:FE:R:comp)) at the\n",
    "points in a mesh with time step `dt` and `N` intervals:"
   ]
  },
  {
   "cell_type": "code",
   "execution_count": 10,
   "metadata": {},
   "outputs": [],
   "source": [
    "import numpy as np\n",
    "import trunc_empir\n",
    "\n",
    "def decay_FE(dt, N):\n",
    "    dt = float(dt)\n",
    "    t = np.linspace(0, N*dt, N+1)\n",
    "    u_e = I*np.exp(-a*t)  # exact solution, I and a are global\n",
    "    u = u_e  # naming convention when writing up the scheme\n",
    "    R = np.zeros(N)\n",
    "\n",
    "    for n in range(0, N):\n",
    "        R[n] = (u[n+1] - u[n])/dt + a*u[n]\n",
    "\n",
    "    # Theoretical expression for the trunction error\n",
    "    R_a = 0.5*I*(-a)**2*np.exp(-a*t)*dt\n",
    "\n",
    "    return R, t[:-1], R_a[:-1]\n",
    "\n",
    "if __name__ == '__main__':\n",
    "    I = 1; a = 2  # global variables needed in decay_FE\n",
    "    trunc_empir.estimate(decay_FE, T=2.5, N_0=6, m=4, makeplot=True)"
   ]
  },
  {
   "cell_type": "markdown",
   "metadata": {},
   "source": [
    "The estimated rates for the integrated truncation error $R_I$ become\n",
    "1.1, 1.0, and 1.0 for this sequence of four meshes. All the rates\n",
    "for $R^n$, computed as `r_R`, are also very close to 1 at all mesh points.\n",
    "The agreement between the theoretical formula ([30](#trunc:decay:FE:R))\n",
    "and the computed quantity (ref([35](#trunc:decay:FE:R:comp))) is\n",
    "very good, as illustrated in\n",
    "Figures [trunc:fig:FE:rates](#trunc:fig:FE:rates) and [trunc:fig:FE:error](#trunc:fig:FE:error).\n",
    "The program [`trunc_decay_FE.py`](${src_trunc}/trunc_decay_FE.py)\n",
    "was used to perform the simulations and it can easily be modified to\n",
    "test other schemes (see also [Exercise 5: Empirical estimation of truncation errors](#trunc:exer:decay:estimate)).\n",
    "\n",
    "<!-- dom:FIGURE: [fig-trunc/R_series.png, width=400] Estimated truncation error at mesh points for different meshes. <div id=\"trunc:fig:FE:rates\"></div> -->\n",
    "<!-- begin figure -->\n",
    "<div id=\"trunc:fig:FE:rates\"></div>\n",
    "\n",
    "<p>Estimated truncation error at mesh points for different meshes.</p>\n",
    "<img src=\"fig-trunc/R_series.png\" width=400>\n",
    "\n",
    "<!-- end figure -->\n",
    "\n",
    "\n",
    "<!-- dom:FIGURE: [fig-trunc/R_error.png, width=400] Difference between theoretical and estimated truncation error at mesh points for different meshes. <div id=\"trunc:fig:FE:error\"></div> -->\n",
    "<!-- begin figure -->\n",
    "<div id=\"trunc:fig:FE:error\"></div>\n",
    "\n",
    "<p>Difference between theoretical and estimated truncation error at mesh points for different meshes.</p>\n",
    "<img src=\"fig-trunc/R_error.png\" width=400>\n",
    "\n",
    "<!-- end figure -->\n",
    "\n",
    "\n",
    "## Increasing the accuracy by adding correction terms\n",
    "<div id=\"trunc:decay:corr\"></div>\n",
    "\n",
    "\n",
    "Now we ask the question: can we add terms in the differential equation\n",
    "that can help increase the order of the truncation error? To be precise,\n",
    "let us revisit the Forward Euler scheme for $u'=-au$, insert the\n",
    "exact solution $u$, include a residual $R$, but also include\n",
    "new terms $C$:"
   ]
  },
  {
   "cell_type": "markdown",
   "metadata": {},
   "source": [
    "<!-- Equation labels as ordinary links -->\n",
    "<div id=\"trunc:decay:FE:corr\"></div>\n",
    "\n",
    "$$\n",
    "\\begin{equation}\n",
    "\\lbrack D_t^+ u + au = C + R \\rbrack^n\\thinspace .\n",
    "\\label{trunc:decay:FE:corr} \\tag{39}\n",
    "\\end{equation}\n",
    "$$"
   ]
  },
  {
   "cell_type": "markdown",
   "metadata": {},
   "source": [
    "Inserting the Taylor expansions for $[D_t^+u]^n$ and keeping\n",
    "terms up to 3rd order in $\\Delta t$ gives the equation"
   ]
  },
  {
   "cell_type": "markdown",
   "metadata": {},
   "source": [
    "$$\n",
    "\\frac{1}{2}u''(t_n)\\Delta t - \\frac{1}{6}u'''(t_n)\\Delta t^2\n",
    "+ \\frac{1}{24}u''''(t_n)\\Delta t^3\n",
    "+ \\mathcal{O}{\\Delta t^4}  = C^n + R^n\\thinspace .\n",
    "$$"
   ]
  },
  {
   "cell_type": "markdown",
   "metadata": {},
   "source": [
    "Can we find $C^n$ such that $R^n$ is $\\mathcal{O}{\\Delta t^2}$?\n",
    "Yes, by setting"
   ]
  },
  {
   "cell_type": "markdown",
   "metadata": {},
   "source": [
    "$$\n",
    "C^n = \\frac{1}{2}u''(t_n)\\Delta t,\n",
    "$$"
   ]
  },
  {
   "cell_type": "markdown",
   "metadata": {},
   "source": [
    "we manage to cancel the first-order term and"
   ]
  },
  {
   "cell_type": "markdown",
   "metadata": {},
   "source": [
    "$$\n",
    "R^n = \\frac{1}{6}u'''(t_n)\\Delta t^2 + \\mathcal{O}{\\Delta t^3}\\thinspace .\n",
    "$$"
   ]
  },
  {
   "cell_type": "markdown",
   "metadata": {},
   "source": [
    "The correction term $C^n$ introduces $\\frac{1}{2}\\Delta t u''$\n",
    "in the discrete equation, and we have to get rid of the derivative\n",
    "$u''$. One idea is to approximate $u''$ by a second-order accurate finite\n",
    "difference formula, $u''\\approx (u^{n+1}-2u^n+u^{n-1})/\\Delta t^2$,\n",
    "but this introduces an additional time level\n",
    "with $u^{n-1}$. Another approach is to rewrite $u''$ in terms of $u'$\n",
    "or $u$ using the ODE:"
   ]
  },
  {
   "cell_type": "markdown",
   "metadata": {},
   "source": [
    "$$\n",
    "u'=-au\\quad\\Rightarrow\\quad u''=-au' = -a(-au)= a^2u\\thinspace .\n",
    "$$"
   ]
  },
  {
   "cell_type": "markdown",
   "metadata": {},
   "source": [
    "This  means that we can simply set\n",
    "$C^n = {\\frac{1}{2}}a^2\\Delta t u^n$. We can then either\n",
    "solve the discrete equation"
   ]
  },
  {
   "cell_type": "markdown",
   "metadata": {},
   "source": [
    "<!-- Equation labels as ordinary links -->\n",
    "<div id=\"trunc:decay:corr:FE:discrete\"></div>\n",
    "\n",
    "$$\n",
    "\\begin{equation}\n",
    "[D_t^+ u = -au + {\\frac{1}{2}}a^2\\Delta t u]^n,\n",
    "\\label{trunc:decay:corr:FE:discrete} \\tag{40}\n",
    "\\end{equation}\n",
    "$$"
   ]
  },
  {
   "cell_type": "markdown",
   "metadata": {},
   "source": [
    "or we can equivalently discretize the perturbed ODE"
   ]
  },
  {
   "cell_type": "markdown",
   "metadata": {},
   "source": [
    "<!-- Equation labels as ordinary links -->\n",
    "<div id=\"trunc:decay:corr:FE:ODE\"></div>\n",
    "\n",
    "$$\n",
    "\\begin{equation}\n",
    "u' = -\\hat au ,\\quad \\hat a = a(1 - {\\frac{1}{2}}a\\Delta t),\n",
    "\\label{trunc:decay:corr:FE:ODE} \\tag{41}\n",
    "\\end{equation}\n",
    "$$"
   ]
  },
  {
   "cell_type": "markdown",
   "metadata": {},
   "source": [
    "by a Forward Euler method. That is, we replace the original coefficient\n",
    "$a$ by the perturbed coefficient $\\hat a$. Observe that\n",
    "$\\hat a\\rightarrow a$ as $\\Delta t\\rightarrow 0$.\n",
    "\n",
    "The Forward Euler method applied to ([41](#trunc:decay:corr:FE:ODE))\n",
    "results in"
   ]
  },
  {
   "cell_type": "markdown",
   "metadata": {},
   "source": [
    "$$\n",
    "[D_t^+ u = -a(1 - {\\frac{1}{2}}a\\Delta t)u]^n\\thinspace .\n",
    "$$"
   ]
  },
  {
   "cell_type": "markdown",
   "metadata": {},
   "source": [
    "We can control our computations and verify that the truncation error\n",
    "of the scheme above is indeed $\\mathcal{O}{\\Delta t^2}$.\n",
    "\n",
    "Another way of revealing the fact that the perturbed ODE leads\n",
    "to a more accurate solution is to look at the amplification factor.\n",
    "Our scheme can be written as"
   ]
  },
  {
   "cell_type": "markdown",
   "metadata": {},
   "source": [
    "$$\n",
    "u^{n+1} = Au^n,\\quad A = 1-\\hat a\\Delta t = 1 - p + {\\frac{1}{2}}p^2,\\quad p=a\\Delta t,\n",
    "$$"
   ]
  },
  {
   "cell_type": "markdown",
   "metadata": {},
   "source": [
    "The amplification factor $A$ as a function of $p=a\\Delta t$ is seen to be\n",
    "the first three terms of the Taylor series for the exact amplification\n",
    "factor $e^{-p}$. The Forward Euler scheme for $u=-au$ gives only the\n",
    "first two terms $1-p$ of the Taylor series for $e^{-p}$. That is,\n",
    "using $\\hat a$ increases the order of the accuracy in the amplification factor.\n",
    "\n",
    "Instead of replacing $u''$ by $a^2u$, we use the relation\n",
    "$u''=-au'$ and add a term $-{\\frac{1}{2}}a\\Delta t u'$\n",
    "in the ODE:"
   ]
  },
  {
   "cell_type": "markdown",
   "metadata": {},
   "source": [
    "$$\n",
    "u'=-au - {\\frac{1}{2}}a\\Delta t u'\\quad\\Rightarrow\\quad\n",
    "\\left( 1 + {\\frac{1}{2}}a\\Delta t\\right) u' = -au\\thinspace .\n",
    "$$"
   ]
  },
  {
   "cell_type": "markdown",
   "metadata": {},
   "source": [
    "Using a Forward Euler method results in"
   ]
  },
  {
   "cell_type": "markdown",
   "metadata": {},
   "source": [
    "$$\n",
    "\\left( 1 + {\\frac{1}{2}}a\\Delta t\\right)\\frac{u^{n+1}-u^n}{\\Delta t}\n",
    "= -au^n,\n",
    "$$"
   ]
  },
  {
   "cell_type": "markdown",
   "metadata": {},
   "source": [
    "which after some algebra can be written as"
   ]
  },
  {
   "cell_type": "markdown",
   "metadata": {},
   "source": [
    "$$\n",
    "u^{n+1} = \\frac{1 - {\\frac{1}{2}}a\\Delta t}{1+{\\frac{1}{2}}a\\Delta t}u^n\\thinspace .\n",
    "$$"
   ]
  },
  {
   "cell_type": "markdown",
   "metadata": {},
   "source": [
    "This is the same formula as the one arising from a Crank-Nicolson\n",
    "scheme applied to $u'=-au$!\n",
    "mathcal{I}_t is now recommended to do [Exercise 6: Correction term for a Backward Euler scheme](#trunc:exer:decay:corr:BE) and\n",
    "repeat the above steps to see what kind of correction term is needed\n",
    "in the Backward Euler scheme to make it second order.\n",
    "\n",
    "The Crank-Nicolson scheme is a bit more challenging to analyze, but\n",
    "the ideas and techniques are the same. The discrete equation reads"
   ]
  },
  {
   "cell_type": "markdown",
   "metadata": {},
   "source": [
    "$$\n",
    "[D_t u = -au ]^{n+\\frac{1}{2}},\n",
    "$$"
   ]
  },
  {
   "cell_type": "markdown",
   "metadata": {},
   "source": [
    "and the truncation error is defined through"
   ]
  },
  {
   "cell_type": "markdown",
   "metadata": {},
   "source": [
    "$$\n",
    "[D_t u + a\\overline{u}^{t} = C + R]^{n+\\frac{1}{2}},\n",
    "$$"
   ]
  },
  {
   "cell_type": "markdown",
   "metadata": {},
   "source": [
    "where we have added a correction term.  We need to Taylor expand both\n",
    "the discrete derivative and the arithmetic mean with aid of\n",
    "([5](#trunc:table:fd1:center:eq))-([6](#trunc:table:fd1:center)) and\n",
    "([21](#trunc:table:avg:arith:eq))-([22](#trunc:table:avg:arith)), respectively.\n",
    "The result is"
   ]
  },
  {
   "cell_type": "markdown",
   "metadata": {},
   "source": [
    "$$\n",
    "\\frac{1}{24}u'''(t_{n+\\frac{1}{2}})\\Delta t^2 + \\mathcal{O}{\\Delta t^4}\n",
    "+ \\frac{a}{8}u''(t_{n+\\frac{1}{2}})\\Delta t^2 + \\mathcal{O}{\\Delta t^4} = C^{n+\\frac{1}{2}} + R^{n+\\frac{1}{2}}\\thinspace .\n",
    "$$"
   ]
  },
  {
   "cell_type": "markdown",
   "metadata": {},
   "source": [
    "The goal now is to make $C^{n+\\frac{1}{2}}$ cancel the $\\Delta t^2$ terms:"
   ]
  },
  {
   "cell_type": "markdown",
   "metadata": {},
   "source": [
    "$$\n",
    "C^{n+\\frac{1}{2}} =\n",
    "\\frac{1}{24}u'''(t_{n+\\frac{1}{2}})\\Delta t^2\n",
    "+ \\frac{a}{8}u''(t_{n})\\Delta t^2\\thinspace .\n",
    "$$"
   ]
  },
  {
   "cell_type": "markdown",
   "metadata": {},
   "source": [
    "Using $u'=-au$, we have that $u''=a^2u$, and we find that $u'''=-a^3u$.\n",
    "We can therefore solve the perturbed ODE problem"
   ]
  },
  {
   "cell_type": "markdown",
   "metadata": {},
   "source": [
    "$$\n",
    "u' = -\\hat a u,\\quad \\hat a = a(1 - \\frac{1}{12}a^2\\Delta t^2),\n",
    "$$"
   ]
  },
  {
   "cell_type": "markdown",
   "metadata": {},
   "source": [
    "by the Crank-Nicolson scheme and obtain a method that is of fourth\n",
    "order in $\\Delta t$. [Problem 7: Verify the effect of correction terms](#trunc:exer:decay:corr:verify)\n",
    "encourages you to implement these correction terms and calculate\n",
    "empirical convergence rates to verify that higher-order accuracy\n",
    "is indeed obtained in real computations.\n",
    "\n",
    "\n",
    "## Extension to variable coefficients\n",
    "\n",
    "Let us address the decay ODE with variable coefficients,"
   ]
  },
  {
   "cell_type": "markdown",
   "metadata": {},
   "source": [
    "$$\n",
    "u'(t) = -a(t)u(t) + b(t),\n",
    "$$"
   ]
  },
  {
   "cell_type": "markdown",
   "metadata": {},
   "source": [
    "discretized by the Forward Euler scheme,"
   ]
  },
  {
   "cell_type": "markdown",
   "metadata": {},
   "source": [
    "<!-- Equation labels as ordinary links -->\n",
    "<div id=\"_auto6\"></div>\n",
    "\n",
    "$$\n",
    "\\begin{equation}\n",
    "[D_t^+ u = -au + b]^n\n",
    "\\thinspace .\n",
    "\\label{_auto6} \\tag{42}\n",
    "\\end{equation}\n",
    "$$"
   ]
  },
  {
   "cell_type": "markdown",
   "metadata": {},
   "source": [
    "The truncation error $R$ is as always found by inserting the exact\n",
    "solution $u(t)$ in the discrete scheme:"
   ]
  },
  {
   "cell_type": "markdown",
   "metadata": {},
   "source": [
    "<!-- Equation labels as ordinary links -->\n",
    "<div id=\"_auto7\"></div>\n",
    "\n",
    "$$\n",
    "\\begin{equation}\n",
    "[D_t^+ u + au - b = R]^n\n",
    "\\thinspace .\n",
    "\\label{_auto7} \\tag{43}\n",
    "\\end{equation}\n",
    "$$"
   ]
  },
  {
   "cell_type": "markdown",
   "metadata": {},
   "source": [
    "Using ([11](#trunc:table:fd1:fw:eq))-([12](#trunc:table:fd1:fw)),"
   ]
  },
  {
   "cell_type": "markdown",
   "metadata": {},
   "source": [
    "$$\n",
    "u'(t_n) - \\frac{1}{2}u''(t_n)\\Delta t + \\mathcal{O}{\\Delta t^2}\n",
    "+ a(t_n)u(t_n) - b(t_n) = R^n\n",
    "\\thinspace .\n",
    "$$"
   ]
  },
  {
   "cell_type": "markdown",
   "metadata": {},
   "source": [
    "Because of the ODE,"
   ]
  },
  {
   "cell_type": "markdown",
   "metadata": {},
   "source": [
    "$$\n",
    "u'(t_n) + a(t_n)u(t_n) - b(t_n) =0,\n",
    "$$"
   ]
  },
  {
   "cell_type": "markdown",
   "metadata": {},
   "source": [
    "we are left with the result"
   ]
  },
  {
   "cell_type": "markdown",
   "metadata": {},
   "source": [
    "<!-- Equation labels as ordinary links -->\n",
    "<div id=\"trunc:decay:vc:R\"></div>\n",
    "\n",
    "$$\n",
    "\\begin{equation}\n",
    "R^n = -\\frac{1}{2}u''(t_n)\\Delta t + \\mathcal{O}{\\Delta t^2}\n",
    "\\label{trunc:decay:vc:R} \\tag{44}\n",
    "\\thinspace .\n",
    "\\end{equation}\n",
    "$$"
   ]
  },
  {
   "cell_type": "markdown",
   "metadata": {},
   "source": [
    "We see that the variable coefficients do not pose any additional difficulties\n",
    "in this case. [Problem 8: Truncation error of the Crank-Nicolson scheme](#trunc:exer:decay:varcoeff:CN) takes the\n",
    "analysis above one step further to the Crank-Nicolson scheme.\n",
    "\n",
    "## Exact solutions of the finite difference equations\n",
    "\n",
    "\n",
    "Having a mathematical expression for the numerical solution is very\n",
    "valuable in program verification, since we then know the exact numbers\n",
    "that the program should produce. Looking at the various\n",
    "formulas for the truncation errors in\n",
    "([5](#trunc:table:fd1:center:eq))-([6](#trunc:table:fd1:center)) and\n",
    "([25](#trunc:table:avg:harm:eq))-([26](#trunc:table:avg:harm)) in\n",
    "the section [Overview of leading-order error terms in finite difference formulas](#trunc:table), we see that all but two of\n",
    "the $R$ expressions contain a second or higher order derivative\n",
    "of $u$. The exceptions are the geometric and harmonic\n",
    "means where the truncation\n",
    "error involves $u'$ and even $u$ in case of the harmonic mean.\n",
    "So, apart from these two means,\n",
    "choosing $u$ to be a linear function of\n",
    "$t$, $u = ct+d$ for constants $c$ and $d$, will make\n",
    "the truncation error vanish since $u''=0$. Consequently,\n",
    "the truncation error of a finite difference scheme will be zero\n",
    "since the various\n",
    "approximations used will all be exact. This means that the linear solution\n",
    "is an exact solution of the discrete equations.\n",
    "\n",
    "In a particular differential equation problem, the reasoning above can\n",
    "be used to determine if we expect a linear $u$ to fulfill the\n",
    "discrete equations. To actually prove that this is true, we can either\n",
    "compute the truncation error and see that it vanishes, or we can\n",
    "simply insert $u(t)=ct+d$ in the scheme and see that it fulfills\n",
    "the equations. The latter method is usually the simplest. mathcal{I}_t will\n",
    "often be necessary to add some source term to the ODE in order to\n",
    "allow a linear solution.\n",
    "\n",
    "Many ODEs are discretized by centered differences.\n",
    "From the section [Overview of leading-order error terms in finite difference formulas](#trunc:table) we see that all the centered\n",
    "difference formulas have truncation errors involving $u'''$ or\n",
    "higher-order derivatives.\n",
    "A quadratic solution, e.g., $u(t) =t^2 + ct + d$,\n",
    "will then make the truncation errors vanish. This observation\n",
    "can be used to test if a quadratic solution will fulfill the\n",
    "discrete equations. Note that a quadratic solution will not\n",
    "obey the equations for a Crank-Nicolson scheme for $u'=-au+b$\n",
    "because the approximation applies an arithmetic mean, which\n",
    "involves a truncation error with $u''$.\n",
    "\n",
    "\n",
    "## Computing truncation errors in nonlinear problems\n",
    "<div id=\"trunc:decay:gen\"></div>\n",
    "\n",
    "The general nonlinear ODE"
   ]
  },
  {
   "cell_type": "markdown",
   "metadata": {},
   "source": [
    "<!-- Equation labels as ordinary links -->\n",
    "<div id=\"trunc:decay:gen:ode\"></div>\n",
    "\n",
    "$$\n",
    "\\begin{equation}\n",
    "u'=f(u,t),\n",
    "\\label{trunc:decay:gen:ode} \\tag{45}\n",
    "\\end{equation}\n",
    "$$"
   ]
  },
  {
   "cell_type": "markdown",
   "metadata": {},
   "source": [
    "can be solved by a Crank-Nicolson scheme"
   ]
  },
  {
   "cell_type": "markdown",
   "metadata": {},
   "source": [
    "<!-- Equation labels as ordinary links -->\n",
    "<div id=\"trunc:decay:gen:ode:fdm\"></div>\n",
    "\n",
    "$$\n",
    "\\begin{equation}\n",
    "[D_t u=\\overline{f}^{t}]^{n+\\frac{1}{2}}\\thinspace .\n",
    "\\label{trunc:decay:gen:ode:fdm} \\tag{46}\n",
    "\\end{equation}\n",
    "$$"
   ]
  },
  {
   "cell_type": "markdown",
   "metadata": {},
   "source": [
    "The truncation error is as always defined as the residual arising\n",
    "when inserting the\n",
    "exact solution $u$ in the scheme:"
   ]
  },
  {
   "cell_type": "markdown",
   "metadata": {},
   "source": [
    "<!-- Equation labels as ordinary links -->\n",
    "<div id=\"trunc:decay:gen:ode:CN\"></div>\n",
    "\n",
    "$$\n",
    "\\begin{equation}\n",
    "[D_t u - \\overline{f}^{t}= R]^{n+\\frac{1}{2}}\\thinspace .\n",
    "\\label{trunc:decay:gen:ode:CN} \\tag{47}\n",
    "\\end{equation}\n",
    "$$"
   ]
  },
  {
   "cell_type": "markdown",
   "metadata": {},
   "source": [
    "Using ([21](#trunc:table:avg:arith:eq))-([22](#trunc:table:avg:arith)) for\n",
    "$\\overline{f}^{t}$ results in"
   ]
  },
  {
   "cell_type": "markdown",
   "metadata": {},
   "source": [
    "$$\n",
    "\\begin{align*}\n",
    "[\\overline{f}^{t}]^{n+\\frac{1}{2}} &=\n",
    "\\frac{1}{2}(f(u^n,t_n) + f(u^{n+1},t_{n+1}))\\\\\n",
    "&= f(u^{n+\\frac{1}{2}},t_{n+\\frac{1}{2}}) +\n",
    "\\frac{1}{8}u''(t_{n+\\frac{1}{2}})\\Delta t^2\n",
    "+ \\mathcal{O}{\\Delta t^4}\\thinspace .\n",
    "\\end{align*}\n",
    "$$"
   ]
  },
  {
   "cell_type": "markdown",
   "metadata": {},
   "source": [
    "With ([5](#trunc:table:fd1:center:eq))-([6](#trunc:table:fd1:center)) the discrete\n",
    "equations ([47](#trunc:decay:gen:ode:CN)) lead to"
   ]
  },
  {
   "cell_type": "markdown",
   "metadata": {},
   "source": [
    "$$\n",
    "u'(t_{n+\\frac{1}{2}}) +\n",
    "\\frac{1}{24}u'''(t_{n+\\frac{1}{2}})\\Delta t^2\n",
    "- f(u^{n+\\frac{1}{2}},t_{n+\\frac{1}{2}}) -\n",
    "\\frac{1}{8}u''(t_{n+\\frac{1}{2}})\\Delta t^2\n",
    "+ \\mathcal{O}{\\Delta t^4} = R^{n+\\frac{1}{2}}\\thinspace .\n",
    "$$"
   ]
  },
  {
   "cell_type": "markdown",
   "metadata": {},
   "source": [
    "Since $u'(t_{n+\\frac{1}{2}}) - f(u^{n+\\frac{1}{2}},t_{n+\\frac{1}{2}})=0$,\n",
    "the truncation error becomes"
   ]
  },
  {
   "cell_type": "markdown",
   "metadata": {},
   "source": [
    "$$\n",
    "R^{n+\\frac{1}{2}} = (\\frac{1}{24}u'''(t_{n+\\frac{1}{2}})\n",
    "- \\frac{1}{8}u''(t_{n+\\frac{1}{2}})) \\Delta t^2\\thinspace .\n",
    "$$"
   ]
  },
  {
   "cell_type": "markdown",
   "metadata": {},
   "source": [
    "The computational techniques worked well\n",
    "even for this nonlinear ODE.\n",
    "\n",
    "\n",
    "# Vibration ODEs\n",
    "<div id=\"trunc:vib\"></div>\n",
    "\n",
    "## Linear model without damping\n",
    "<div id=\"trunc:vib:undamped\"></div>\n",
    "\n",
    "The next example on computing the truncation error involves the\n",
    "following ODE for vibration problems:"
   ]
  },
  {
   "cell_type": "markdown",
   "metadata": {},
   "source": [
    "<!-- Equation labels as ordinary links -->\n",
    "<div id=\"trunc:vib:undamped:ode\"></div>\n",
    "\n",
    "$$\n",
    "\\begin{equation}\n",
    "u''(t) + \\omega^2 u(t) = 0\\thinspace .\n",
    "\\label{trunc:vib:undamped:ode} \\tag{48}\n",
    "\\end{equation}\n",
    "$$"
   ]
  },
  {
   "cell_type": "markdown",
   "metadata": {},
   "source": [
    "Here, $\\omega$ is a given constant.\n",
    "\n",
    "### The truncation error of a centered finite difference scheme\n",
    "\n",
    "Using a standard, second-ordered, central difference for the\n",
    "second-order derivative in time, we have the scheme"
   ]
  },
  {
   "cell_type": "markdown",
   "metadata": {},
   "source": [
    "<!-- Equation labels as ordinary links -->\n",
    "<div id=\"trunc:vib:undamped:scheme\"></div>\n",
    "\n",
    "$$\n",
    "\\begin{equation}\n",
    "[D_tD_t u + \\omega^2u=0]^n\n",
    "\\label{trunc:vib:undamped:scheme} \\tag{49}\n",
    "\\thinspace .\n",
    "\\end{equation}\n",
    "$$"
   ]
  },
  {
   "cell_type": "markdown",
   "metadata": {},
   "source": [
    "Inserting the exact solution $u$ in this equation and adding\n",
    "a residual $R$ so that $u$ can fulfill the equation results in"
   ]
  },
  {
   "cell_type": "markdown",
   "metadata": {},
   "source": [
    "<!-- Equation labels as ordinary links -->\n",
    "<div id=\"_auto8\"></div>\n",
    "\n",
    "$$\n",
    "\\begin{equation}\n",
    "[D_tD_t u + \\omega^2u =R]^n\n",
    "\\thinspace .\n",
    "\\label{_auto8} \\tag{50}\n",
    "\\end{equation}\n",
    "$$"
   ]
  },
  {
   "cell_type": "markdown",
   "metadata": {},
   "source": [
    "To calculate the truncation error $R^n$, we use\n",
    "([17](#trunc:table:fd2:center:eq))-([18](#trunc:table:fd2:center)), i.e.,"
   ]
  },
  {
   "cell_type": "markdown",
   "metadata": {},
   "source": [
    "$$\n",
    "[D_tD_t u]^n = u''(t_n) + \\frac{1}{12}u''''(t_n)\\Delta t^2\n",
    "+ \\mathcal{O}{\\Delta t^4},\n",
    "$$"
   ]
  },
  {
   "cell_type": "markdown",
   "metadata": {},
   "source": [
    "and the fact that $u''(t) + \\omega^2u(t)=0$. The result is"
   ]
  },
  {
   "cell_type": "markdown",
   "metadata": {},
   "source": [
    "<!-- Equation labels as ordinary links -->\n",
    "<div id=\"_auto9\"></div>\n",
    "\n",
    "$$\n",
    "\\begin{equation}\n",
    "R^n =  \\frac{1}{12}u''''(t_n)\\Delta t^2 + \\mathcal{O}{\\Delta t^4}\n",
    "\\thinspace .\n",
    "\\label{_auto9} \\tag{51}\n",
    "\\end{equation}\n",
    "$$"
   ]
  },
  {
   "cell_type": "markdown",
   "metadata": {},
   "source": [
    "### The truncation error of approximating $u'(0)$\n",
    "\n",
    "The initial conditions for ([48](#trunc:vib:undamped:ode)) are\n",
    "$u(0)=I$ and $u'(0)=V$. The latter involves a finite difference\n",
    "approximation. The standard choice"
   ]
  },
  {
   "cell_type": "markdown",
   "metadata": {},
   "source": [
    "$$\n",
    "[D_{2t}u=V]^0,\n",
    "$$"
   ]
  },
  {
   "cell_type": "markdown",
   "metadata": {},
   "source": [
    "where $u^{-1}$ is eliminated with the aid of the discretized ODE\n",
    "for $n=0$, involves a centered difference with an\n",
    "$\\mathcal{O}{\\Delta t^2}$ truncation error\n",
    "given by ([7](#trunc:table:fd1:center2:eq))-([8](#trunc:table:fd1:center2)).\n",
    "The simpler choice"
   ]
  },
  {
   "cell_type": "markdown",
   "metadata": {},
   "source": [
    "$$\n",
    "[D_t^+u = V]^0,\n",
    "$$"
   ]
  },
  {
   "cell_type": "markdown",
   "metadata": {},
   "source": [
    "is based on a forward difference with a truncation error $\\mathcal{O}{\\Delta t}$.\n",
    "A central question is if this initial error will impact the\n",
    "order of the scheme throughout the simulation.\n",
    "[Exercise 11: Investigate the impact of approximating $u'(0)$](#trunc:exer:vib:ic:fw) asks you to perform an\n",
    "experiment to investigate this question.\n",
    "\n",
    "### Truncation error of the equation for the first step\n",
    "\n",
    "We have shown that the truncation error of the difference used to\n",
    "approximate the initial condition $u'(0)=0$ is $\\mathcal{O}{\\Delta t^2}$, but we\n",
    "can also investigate the difference equation used for the first\n",
    "step. In a truncation error setting, the right way to view this\n",
    "equation is not to use the initial condition $[D_{2t}u=V]^0$ to\n",
    "express $u^{-1}=u^1 - 2\\Delta t V$ in order to eliminate $u^{-1}$ from\n",
    "the discretized differential equation, but the other way around: the\n",
    "fundamental equation is the discretized initial condition\n",
    "$[D_{2t}u=V]^0$ and we use the discretized ODE $[D_tD_t + \\omega^2\n",
    "u=0]^0$ to eliminate $u^{-1}$ in the discretized initial\n",
    "condition. From $[D_tD_t + \\omega^2 u=0]^0$ we have"
   ]
  },
  {
   "cell_type": "markdown",
   "metadata": {},
   "source": [
    "$$\n",
    "u^{-1} = 2u^0 - u^1 - \\Delta t^2\\omega^2 u^0,\n",
    "$$"
   ]
  },
  {
   "cell_type": "markdown",
   "metadata": {},
   "source": [
    "which inserted in $[D_{2t}u = V]^0$ gives"
   ]
  },
  {
   "cell_type": "markdown",
   "metadata": {},
   "source": [
    "<!-- Equation labels as ordinary links -->\n",
    "<div id=\"trunc:vib:undamped:ic:d2\"></div>\n",
    "\n",
    "$$\n",
    "\\begin{equation}\n",
    "\\frac{u^1 - u^0}{\\Delta t} + \\frac{1}{2}\\omega^2\\Delta t u^0 = V\\thinspace .\n",
    "\\label{trunc:vib:undamped:ic:d2} \\tag{52}\n",
    "\\end{equation}\n",
    "$$"
   ]
  },
  {
   "cell_type": "markdown",
   "metadata": {},
   "source": [
    "The first term can be recognized as a forward difference such that\n",
    "the equation can be written in operator notation as"
   ]
  },
  {
   "cell_type": "markdown",
   "metadata": {},
   "source": [
    "$$\n",
    "[D_t^+ u + \\frac{1}{2}\\omega^2\\Delta t u = V]^0\\thinspace .\n",
    "$$"
   ]
  },
  {
   "cell_type": "markdown",
   "metadata": {},
   "source": [
    "The truncation error is defined as"
   ]
  },
  {
   "cell_type": "markdown",
   "metadata": {},
   "source": [
    "$$\n",
    "[D_t^+ u + \\frac{1}{2}\\omega^2\\Delta t u - V = R]^0\\thinspace .\n",
    "$$"
   ]
  },
  {
   "cell_type": "markdown",
   "metadata": {},
   "source": [
    "Using ([11](#trunc:table:fd1:fw:eq))-([12](#trunc:table:fd1:fw)) with\n",
    "one more term in the Taylor series, we get that"
   ]
  },
  {
   "cell_type": "markdown",
   "metadata": {},
   "source": [
    "$$\n",
    "u'(0) + \\frac{1}{2}u''(0)\\Delta t + \\frac{1}{6}u'''(0)\\Delta t^2\n",
    " + \\mathcal{O}{\\Delta t^3}\n",
    "+ \\frac{1}{2}\\omega^2\\Delta t u(0) - V = R^n\\thinspace .\n",
    "$$"
   ]
  },
  {
   "cell_type": "markdown",
   "metadata": {},
   "source": [
    "Now, $u'(0)=V$ and $u''(0)=-\\omega^2 u(0)$ so we get"
   ]
  },
  {
   "cell_type": "markdown",
   "metadata": {},
   "source": [
    "$$\n",
    "R^n = \\frac{1}{6}u'''(0)\\Delta t^2 + \\mathcal{O}{\\Delta t^3}\\thinspace .\n",
    "$$"
   ]
  },
  {
   "cell_type": "markdown",
   "metadata": {},
   "source": [
    "There is another way of analyzing the discrete initial\n",
    "condition, because eliminating $u^{-1}$ via the discretized ODE\n",
    "can be expressed as"
   ]
  },
  {
   "cell_type": "markdown",
   "metadata": {},
   "source": [
    "<!-- Equation labels as ordinary links -->\n",
    "<div id=\"trunc:vib:undamped:ic:d3\"></div>\n",
    "\n",
    "$$\n",
    "\\begin{equation}\n",
    "[ D_{2t} u + \\Delta t(D_tD_t u - \\omega^2 u) = V]^0\\thinspace .\n",
    "\\label{trunc:vib:undamped:ic:d3} \\tag{53}\n",
    "\\end{equation}\n",
    "$$"
   ]
  },
  {
   "cell_type": "markdown",
   "metadata": {},
   "source": [
    "Writing out ([53](#trunc:vib:undamped:ic:d3)) shows that the equation is\n",
    "equivalent to ([52](#trunc:vib:undamped:ic:d2)).\n",
    "The truncation error is defined by"
   ]
  },
  {
   "cell_type": "markdown",
   "metadata": {},
   "source": [
    "$$\n",
    "[ D_{2t} u + \\Delta t(D_tD_t u - \\omega^2 u) = V + R]^0\\thinspace .\n",
    "$$"
   ]
  },
  {
   "cell_type": "markdown",
   "metadata": {},
   "source": [
    "Replacing the difference via\n",
    "([7](#trunc:table:fd1:center2:eq))-([8](#trunc:table:fd1:center2)) and\n",
    "([17](#trunc:table:fd2:center:eq))-([18](#trunc:table:fd2:center)), as\n",
    "well as using $u'(0)=V$ and $u''(0) = -\\omega^2u(0)$,\n",
    "gives"
   ]
  },
  {
   "cell_type": "markdown",
   "metadata": {},
   "source": [
    "$$\n",
    "R^n = \\frac{1}{6}u'''(0)\\Delta t^2 + \\mathcal{O}{\\Delta t^3}\\thinspace .\n",
    "$$"
   ]
  },
  {
   "cell_type": "markdown",
   "metadata": {},
   "source": [
    "### Computing correction terms\n",
    "\n",
    "The idea of using correction terms to increase the order of $R^n$ can\n",
    "be applied as described in the section [Increasing the accuracy by adding correction terms](#trunc:decay:corr). We look at"
   ]
  },
  {
   "cell_type": "markdown",
   "metadata": {},
   "source": [
    "$$\n",
    "[D_tD_t u + \\omega^2u =C + R]^n,\n",
    "$$"
   ]
  },
  {
   "cell_type": "markdown",
   "metadata": {},
   "source": [
    "and observe that $C^n$ must be chosen to cancel\n",
    "the $\\Delta t^2$ term in $R^n$. That is,"
   ]
  },
  {
   "cell_type": "markdown",
   "metadata": {},
   "source": [
    "$$\n",
    "C^n = \\frac{1}{12}u''''(t_n)\\Delta t^2\\thinspace .\n",
    "$$"
   ]
  },
  {
   "cell_type": "markdown",
   "metadata": {},
   "source": [
    "To get rid of the 4th-order derivative we can use the differential\n",
    "equation: $u''=-\\omega^2u$, which implies $u'''' = \\omega^4 u$.\n",
    "Adding the correction term to the ODE results in"
   ]
  },
  {
   "cell_type": "markdown",
   "metadata": {},
   "source": [
    "<!-- Equation labels as ordinary links -->\n",
    "<div id=\"trunc:vib:undamped:corr:ode\"></div>\n",
    "\n",
    "$$\n",
    "\\begin{equation}\n",
    "u'' + \\omega^2(1 - \\frac{1}{12}\\omega^2\\Delta t^2)u = 0\\thinspace .\n",
    "\\label{trunc:vib:undamped:corr:ode} \\tag{54}\n",
    "\\end{equation}\n",
    "$$"
   ]
  },
  {
   "cell_type": "markdown",
   "metadata": {},
   "source": [
    "Solving this equation by the standard scheme"
   ]
  },
  {
   "cell_type": "markdown",
   "metadata": {},
   "source": [
    "$$\n",
    "[D_tD_t u + \\omega^2(1 - \\frac{1}{12}\\omega^2\\Delta t^2)u=0]^n,\n",
    "$$"
   ]
  },
  {
   "cell_type": "markdown",
   "metadata": {},
   "source": [
    "will result in a scheme with truncation error $\\mathcal{O}{\\Delta t^4}$.\n",
    "\n",
    "We can use another set of arguments to justify that ([54](#trunc:vib:undamped:corr:ode)) leads to a higher-order method.\n",
    "Mathematical analysis of the scheme ([49](#trunc:vib:undamped:scheme))\n",
    "reveals that the numerical frequency $\\tilde\\omega$ is (approximately\n",
    "as $\\Delta t\\rightarrow 0$)"
   ]
  },
  {
   "cell_type": "markdown",
   "metadata": {},
   "source": [
    "$$\n",
    "\\tilde\\omega = \\omega (1+\\frac{1}{24}\\omega^2\\Delta t^2)\\thinspace .\n",
    "$$"
   ]
  },
  {
   "cell_type": "markdown",
   "metadata": {},
   "source": [
    "One can therefore attempt to replace $\\omega$ in the ODE by\n",
    "a slightly smaller $\\omega$ since the numerics will make it larger:\n",
    "<!-- Ref to exercise -->"
   ]
  },
  {
   "cell_type": "markdown",
   "metadata": {},
   "source": [
    "$$\n",
    "[ u'' + (\\omega(1 - \\frac{1}{24}\\omega^2\\Delta t^2))^2 u ]^n = 0\\thinspace .\n",
    "$$"
   ]
  },
  {
   "cell_type": "markdown",
   "metadata": {},
   "source": [
    "Expanding the squared term and omitting the higher-order term $\\Delta t^4$\n",
    "gives exactly the ODE ([54](#trunc:vib:undamped:corr:ode)). Experiments\n",
    "show that $u^n$ is computed to 4th order in $\\Delta t$. You can confirm\n",
    "this by running a little program in the `vib` directory:"
   ]
  },
  {
   "cell_type": "code",
   "execution_count": 11,
   "metadata": {},
   "outputs": [],
   "source": [
    "from vib_undamped import convergence_rates, solver_adjust_w\n",
    "\n",
    "r = convergence_rates(\n",
    "      m=5, solver_function=solver_adjust_w, num_periods=8)"
   ]
  },
  {
   "cell_type": "markdown",
   "metadata": {},
   "source": [
    "One will see that the rates `r` lie around 4.\n",
    "\n",
    "\n",
    "## Model with damping and nonlinearity\n",
    "<div id=\"trunc:vib:gen\"></div>\n",
    "\n",
    "The model ([48](#trunc:vib:undamped:ode))\n",
    "can be extended to include damping $\\beta u'$,\n",
    "a nonlinear restoring (spring) force $s(u)$, and some\n",
    "known excitation force $F(t)$:"
   ]
  },
  {
   "cell_type": "markdown",
   "metadata": {},
   "source": [
    "<!-- Equation labels as ordinary links -->\n",
    "<div id=\"trunc:vib:gen:ode1\"></div>\n",
    "\n",
    "$$\n",
    "\\begin{equation}\n",
    "mu'' + \\beta u' + s(u) =F(t)\\thinspace .\n",
    "\\label{trunc:vib:gen:ode1} \\tag{55}\n",
    "\\end{equation}\n",
    "$$"
   ]
  },
  {
   "cell_type": "markdown",
   "metadata": {},
   "source": [
    "The coefficient $m$ usually represents the mass of the system.\n",
    "This governing equation can be discretized by centered differences:"
   ]
  },
  {
   "cell_type": "markdown",
   "metadata": {},
   "source": [
    "<!-- Equation labels as ordinary links -->\n",
    "<div id=\"_auto10\"></div>\n",
    "\n",
    "$$\n",
    "\\begin{equation}\n",
    "[mD_tD_t u + \\beta D_{2t} u + s(u)=F]^n\n",
    "\\thinspace .\n",
    "\\label{_auto10} \\tag{56}\n",
    "\\end{equation}\n",
    "$$"
   ]
  },
  {
   "cell_type": "markdown",
   "metadata": {},
   "source": [
    "The exact solution $u$ fulfills the discrete equations with a residual term:"
   ]
  },
  {
   "cell_type": "markdown",
   "metadata": {},
   "source": [
    "<!-- Equation labels as ordinary links -->\n",
    "<div id=\"_auto11\"></div>\n",
    "\n",
    "$$\n",
    "\\begin{equation}\n",
    "[mD_tD_t u + \\beta D_{2t} u + s(u)=F + R]^n\n",
    "\\thinspace .\n",
    "\\label{_auto11} \\tag{57}\n",
    "\\end{equation}\n",
    "$$"
   ]
  },
  {
   "cell_type": "markdown",
   "metadata": {},
   "source": [
    "Using ([17](#trunc:table:fd2:center:eq))-([18](#trunc:table:fd2:center)) and\n",
    "([7](#trunc:table:fd1:center2:eq))-([8](#trunc:table:fd1:center2)) we\n",
    "get"
   ]
  },
  {
   "cell_type": "markdown",
   "metadata": {},
   "source": [
    "$$\n",
    "\\begin{align*}\n",
    "\\lbrack mD_tD_t u + \\beta D_{2t} u\\rbrack^n &=\n",
    "mu''(t_n) + \\betau'(t_n) + \\\\\n",
    "&\\quad \\left(\\frac{m}{12}u''''(t_n) +\n",
    "  \\frac{\\beta}{6}u'''(t_n)\\right)\\Delta t^2 + \\mathcal{O}{\\Delta t^4}\n",
    "\\end{align*}\n",
    "$$"
   ]
  },
  {
   "cell_type": "markdown",
   "metadata": {},
   "source": [
    "Combining this with the previous equation, we can collect the terms"
   ]
  },
  {
   "cell_type": "markdown",
   "metadata": {},
   "source": [
    "$$\n",
    "mu''(t_n) + \\betau'(t_n) + \\omega^2u(t_n) + s(u(t_n)) - F^n,\n",
    "$$"
   ]
  },
  {
   "cell_type": "markdown",
   "metadata": {},
   "source": [
    "and set this sum to zero because $u$ solves\n",
    "the differential equation. We are left with\n",
    "the truncation error"
   ]
  },
  {
   "cell_type": "markdown",
   "metadata": {},
   "source": [
    "<!-- Equation labels as ordinary links -->\n",
    "<div id=\"trunc:vib:gen:R\"></div>\n",
    "\n",
    "$$\n",
    "\\begin{equation}\n",
    "R^n = \\left(\\frac{m}{12}u''''(t_n) +\n",
    "  \\frac{\\beta}{6}u'''(t_n)\\right)\\Delta t^2 + \\mathcal{O}{\\Delta t^4},\n",
    "\\label{trunc:vib:gen:R} \\tag{58}\n",
    "\\end{equation}\n",
    "$$"
   ]
  },
  {
   "cell_type": "markdown",
   "metadata": {},
   "source": [
    "so the scheme is of second order.\n",
    "\n",
    "According to ([58](#trunc:vib:gen:R)), we can add correction terms"
   ]
  },
  {
   "cell_type": "markdown",
   "metadata": {},
   "source": [
    "$$\n",
    "C^n = \\left(\\frac{m}{12}u''''(t_n) +\n",
    "  \\frac{\\beta}{6}u'''(t_n)\\right)\\Delta t^2,\n",
    "$$"
   ]
  },
  {
   "cell_type": "markdown",
   "metadata": {},
   "source": [
    "to the right-hand side of the ODE to obtain a fourth-order scheme.\n",
    "However, expressing $u''''$ and $u'''$ in terms\n",
    "of lower-order derivatives is now harder because the differential equation\n",
    "is more complicated:"
   ]
  },
  {
   "cell_type": "markdown",
   "metadata": {},
   "source": [
    "$$\n",
    "\\begin{align*}\n",
    "u''' &= \\frac{1}{m}(F' - \\beta u'' - s'(u)u'),\\\\\n",
    "u'''' &= \\frac{1}{m}(F'' - \\beta u''' - s''(u)(u')^2 - s'(u)u''),\\\\\n",
    "&= \\frac{1}{m}(F'' - \\beta \\frac{1}{m}(F' - \\beta u'' - s'(u)u')\n",
    "- s''(u)(u')^2 - s'(u)u'')\\thinspace .\n",
    "\\end{align*}\n",
    "$$"
   ]
  },
  {
   "cell_type": "markdown",
   "metadata": {},
   "source": [
    "mathcal{I}_t is not impossible to discretize the resulting modified ODE, but it is up\n",
    "to debate whether correction terms are feasible and the way to go.\n",
    "Computing with a smaller $\\Delta t$ is usually always possible in these\n",
    "problems to achieve the desired accuracy.\n",
    "\n",
    "## Extension to quadratic damping\n",
    "\n",
    "Instead of the linear damping term $\\beta u'$ in ([55](#trunc:vib:gen:ode1))\n",
    "we now consider quadratic damping $\\beta |u'|u'$:"
   ]
  },
  {
   "cell_type": "markdown",
   "metadata": {},
   "source": [
    "<!-- Equation labels as ordinary links -->\n",
    "<div id=\"trunc:vib:gen:ode2\"></div>\n",
    "\n",
    "$$\n",
    "\\begin{equation}\n",
    "mu'' + \\beta |u'|u' + s(u) =F(t)\\thinspace .\n",
    "\\label{trunc:vib:gen:ode2} \\tag{59}\n",
    "\\end{equation}\n",
    "$$"
   ]
  },
  {
   "cell_type": "markdown",
   "metadata": {},
   "source": [
    "A centered difference for $u'$ gives rise to a nonlinearity, which can\n",
    "be linearized using a geometric mean:\n",
    "$[|u'|u']^n \\approx |[u']^{n-\\frac{1}{2}}|[u']^{n+\\frac{1}{2}}$.\n",
    "The resulting scheme becomes"
   ]
  },
  {
   "cell_type": "markdown",
   "metadata": {},
   "source": [
    "<!-- Equation labels as ordinary links -->\n",
    "<div id=\"_auto12\"></div>\n",
    "\n",
    "$$\n",
    "\\begin{equation}\n",
    "[mD_t D_t u]^n + \\beta |[D_{t} u]^{n-\\frac{1}{2}}|[D_t u]^{n+\\frac{1}{2}}\n",
    "+ s(u^n)=F^n\\thinspace .\n",
    "\\label{_auto12} \\tag{60}\n",
    "\\end{equation}\n",
    "$$"
   ]
  },
  {
   "cell_type": "markdown",
   "metadata": {},
   "source": [
    "The truncation error is defined through"
   ]
  },
  {
   "cell_type": "markdown",
   "metadata": {},
   "source": [
    "<!-- Equation labels as ordinary links -->\n",
    "<div id=\"_auto13\"></div>\n",
    "\n",
    "$$\n",
    "\\begin{equation}\n",
    "[mD_t D_t u]^n +\n",
    "\\beta |[D_{t} u]^{n-\\frac{1}{2}}|[D_t u]^{n+\\frac{1}{2}}\n",
    "+ s(u^n)-F^n = R^n\\thinspace .\n",
    "\\label{_auto13} \\tag{61}\n",
    "\\end{equation}\n",
    "$$"
   ]
  },
  {
   "cell_type": "markdown",
   "metadata": {},
   "source": [
    "We start with expressing the truncation error of the geometric mean.\n",
    "According to ([23](#trunc:table:avg:geom:eq))-([24](#trunc:table:avg:geom)),"
   ]
  },
  {
   "cell_type": "markdown",
   "metadata": {},
   "source": [
    "$$\n",
    "\\begin{align*}\n",
    "|[D_{t} u]^{n-\\frac{1}{2}}|[D_t u]^{n+\\frac{1}{2}}\n",
    "&= [|D_tu|D_tu]^n\n",
    "- \\frac{1}{4}u'(t_n)^2\\Delta t^2  +\\\\\n",
    "&\\quad \\frac{1}{4}u(t_n)u''(t_n)\\Delta t^2\n",
    "+ \\mathcal{O}{\\Delta t^4}\\thinspace .\n",
    "\\end{align*}\n",
    "$$"
   ]
  },
  {
   "cell_type": "markdown",
   "metadata": {},
   "source": [
    "Using ([5](#trunc:table:fd1:center:eq))-([6](#trunc:table:fd1:center))\n",
    "for the $D_tu$ factors results in"
   ]
  },
  {
   "cell_type": "markdown",
   "metadata": {},
   "source": [
    "$$\n",
    "[|D_tu|D_tu]^n = |u' + \\frac{1}{24}u'''(t_n)\\Delta t^2 +\n",
    "\\mathcal{O}{\\Delta t^4}|(u' + \\frac{1}{24}u'''(t_n)\\Delta t^2 +\n",
    "\\mathcal{O}{\\Delta t^4})\n",
    "$$"
   ]
  },
  {
   "cell_type": "markdown",
   "metadata": {},
   "source": [
    "We can remove the absolute value since it essentially gives a factor 1 or -1\n",
    "only. Calculating the product, we have the leading-order terms"
   ]
  },
  {
   "cell_type": "markdown",
   "metadata": {},
   "source": [
    "$$\n",
    "[D_tu D_tu]^n = (u'(t_n))^2 +\n",
    "\\frac{1}{12}u(t_n)u'''(t_n)\\Delta t^2 +\n",
    "\\mathcal{O}{\\Delta t^4}\\thinspace .\n",
    "$$"
   ]
  },
  {
   "cell_type": "markdown",
   "metadata": {},
   "source": [
    "With"
   ]
  },
  {
   "cell_type": "markdown",
   "metadata": {},
   "source": [
    "$$\n",
    "m[D_t D_tu]^n = mu''(t_n) + \\frac{m}{12}u''''(t_n)\\Delta t^2\n",
    "+\\mathcal{O}{\\Delta t^4},\n",
    "$$"
   ]
  },
  {
   "cell_type": "markdown",
   "metadata": {},
   "source": [
    "and using the differential equation on the\n",
    "form $mu'' + \\beta (u')^2 + s(u)=F$, we end up with"
   ]
  },
  {
   "cell_type": "markdown",
   "metadata": {},
   "source": [
    "$$\n",
    "R^n = (\\frac{m}{12}u''''(t_n) +\n",
    "\\frac{\\beta}{12}u(t_n)u'''(t_n))\n",
    "\\Delta t^2 + \\mathcal{O}{\\Delta t^4}\\thinspace .\n",
    "$$"
   ]
  },
  {
   "cell_type": "markdown",
   "metadata": {},
   "source": [
    "This result demonstrates that we have\n",
    "second-order accuracy also with quadratic damping.\n",
    "The key elements that lead to the second-order accuracy is that\n",
    "the difference approximations are $\\mathcal{O}{\\Delta t^2}$ *and* the\n",
    "geometric mean approximation is also $\\mathcal{O}{\\Delta t^2}$.\n",
    "\n",
    "## The general model formulated as first-order ODEs\n",
    "<div id=\"trunc:vib:gen:staggered\"></div>\n",
    "\n",
    "\n",
    "The second-order model ([59](#trunc:vib:gen:ode2)) can be\n",
    "formulated as a first-order system,"
   ]
  },
  {
   "cell_type": "markdown",
   "metadata": {},
   "source": [
    "<!-- Equation labels as ordinary links -->\n",
    "<div id=\"trunc:vib:gen:2x2model:ode:v\"></div>\n",
    "\n",
    "$$\n",
    "\\begin{equation}\n",
    "v' = \\frac{1}{m}\\left( F(t) - \\beta |v|v - s(u)\\right),\n",
    "\\label{trunc:vib:gen:2x2model:ode:v} \\tag{62}\n",
    "\\end{equation}\n",
    "$$"
   ]
  },
  {
   "cell_type": "markdown",
   "metadata": {},
   "source": [
    "<!-- Equation labels as ordinary links -->\n",
    "<div id=\"trunc:vib:gen:2x2model:ode:u\"></div>\n",
    "\n",
    "$$\n",
    "\\begin{equation} \n",
    "u' = v\\thinspace .\n",
    "\\label{trunc:vib:gen:2x2model:ode:u} \\tag{63}\n",
    "\\end{equation}\n",
    "$$"
   ]
  },
  {
   "cell_type": "markdown",
   "metadata": {},
   "source": [
    "The system ([63](#trunc:vib:gen:2x2model:ode:u))-([63](#trunc:vib:gen:2x2model:ode:u)) can be solved either by a forward-backward scheme (the Euler-Cromer\n",
    "method) or a centered\n",
    "scheme on a staggered mesh.\n",
    "\n",
    "[hpl 1: A basic problem at this stage is to show that Euler-Cromer is only\n",
    "of first order. Well, that follows from each individual equation, but\n",
    "the scheme is equivalent to a second-order scheme if we eliminate $v$.\n",
    "Why? The staggered scheme has only 2nd-order approximations so that is\n",
    "easy. I have not found any literature on the Euler-Cromer scheme\n",
    "and its truncation error, except for the result (1st order).]\n",
    "\n",
    "\n",
    "### A centered scheme on a staggered mesh\n",
    "\n",
    "We now introduce a staggered mesh where we\n",
    "seek $u$ at mesh points $t_n$ and $v$ at points $t_{n+\\frac{1}{2}}$\n",
    "in between the $u$ points. The staggered mesh makes it easy to\n",
    "formulate centered differences in the system\n",
    "([63](#trunc:vib:gen:2x2model:ode:u))-([63](#trunc:vib:gen:2x2model:ode:u)):"
   ]
  },
  {
   "cell_type": "markdown",
   "metadata": {},
   "source": [
    "<!-- Equation labels as ordinary links -->\n",
    "<div id=\"trunc:vib:gen:2x2model:ode:u:staggered\"></div>\n",
    "\n",
    "$$\n",
    "\\begin{equation}\n",
    "\\lbrack D_t u = v \\rbrack^{n-\\frac{1}{2}},\n",
    "\\label{trunc:vib:gen:2x2model:ode:u:staggered} \\tag{64} \n",
    "\\end{equation}\n",
    "$$"
   ]
  },
  {
   "cell_type": "markdown",
   "metadata": {},
   "source": [
    "<!-- Equation labels as ordinary links -->\n",
    "<div id=\"trunc:vib:gen:2x2model:ode:v:staggered\"></div>\n",
    "\n",
    "$$\n",
    "\\begin{equation} \n",
    "\\lbrack D_t v = \\frac{1}{m}( F(t) - \\beta |v|v - s(u)) \\rbrack^{n}\\thinspace .\n",
    "\\label{trunc:vib:gen:2x2model:ode:v:staggered} \\tag{65}\n",
    "\\end{equation}\n",
    "$$"
   ]
  },
  {
   "cell_type": "markdown",
   "metadata": {},
   "source": [
    "The term $|v^n|v^n$ causes trouble since $v^n$ is not computed, only\n",
    "$v^{n-\\frac{1}{2}}$ and $v^{n+\\frac{1}{2}}$. Using geometric mean,\n",
    "we can express $|v^n|v^n$ in terms of known quantities:\n",
    "$|v^n|v^n \\approx |v^{n-\\frac{1}{2}}|v^{n+\\frac{1}{2}}$.\n",
    "We then have"
   ]
  },
  {
   "cell_type": "markdown",
   "metadata": {},
   "source": [
    "<!-- Equation labels as ordinary links -->\n",
    "<div id=\"trunc:vib:gen:2x2model:ode:u:staggered2\"></div>\n",
    "\n",
    "$$\n",
    "\\begin{equation}\n",
    "\\lbrack D_t u \\rbrack^{n-\\frac{1}{2}} = v^{n-\\frac{1}{2}},\n",
    "\\label{trunc:vib:gen:2x2model:ode:u:staggered2} \\tag{66} \n",
    "\\end{equation}\n",
    "$$"
   ]
  },
  {
   "cell_type": "markdown",
   "metadata": {},
   "source": [
    "<!-- Equation labels as ordinary links -->\n",
    "<div id=\"trunc:vib:gen:2x2model:ode:v:staggered2\"></div>\n",
    "\n",
    "$$\n",
    "\\begin{equation} \n",
    "\\lbrack D_t v \\rbrack^n = \\frac{1}{m}( F(t_n) -\n",
    "\\beta |v^{n-\\frac{1}{2}}|v^{n+\\frac{1}{2}} - s(u^n))\\thinspace .\n",
    "\\label{trunc:vib:gen:2x2model:ode:v:staggered2} \\tag{67}\n",
    "\\end{equation}\n",
    "$$"
   ]
  },
  {
   "cell_type": "markdown",
   "metadata": {},
   "source": [
    "The truncation error in each equation fulfills"
   ]
  },
  {
   "cell_type": "markdown",
   "metadata": {},
   "source": [
    "$$\n",
    "\\begin{align*}\n",
    "\\lbrack D_t u \\rbrack^{n-\\frac{1}{2}} &= \\vex(t_{n-\\frac{1}{2}}) + R_u^{n-\\frac{1}{2}},\\\\\n",
    "\\lbrack D_t \\vex \\rbrack^n &= \\frac{1}{m}( F(t_n) -\n",
    "\\beta |\\vex(t_{n-\\frac{1}{2}})|\\vex(t_{n+\\frac{1}{2}}) - s(u^n)) + R_v^n\\thinspace .\n",
    "\\end{align*}\n",
    "$$"
   ]
  },
  {
   "cell_type": "markdown",
   "metadata": {},
   "source": [
    "The truncation error of the centered differences is given\n",
    "by ([5](#trunc:table:fd1:center:eq))-([6](#trunc:table:fd1:center)),\n",
    "and the geometric mean approximation\n",
    "analysis can be taken from ([23](#trunc:table:avg:geom:eq))-([24](#trunc:table:avg:geom)).\n",
    "These results lead to"
   ]
  },
  {
   "cell_type": "markdown",
   "metadata": {},
   "source": [
    "$$\n",
    "u'(t_{n-\\frac{1}{2}}) +\n",
    "\\frac{1}{24}u'''(t_{n-\\frac{1}{2}})\\Delta t^2 + \\mathcal{O}{\\Delta t^4}\n",
    "= \\vex(t_{n-\\frac{1}{2}}) + R_u^{n-\\frac{1}{2}},\n",
    "$$"
   ]
  },
  {
   "cell_type": "markdown",
   "metadata": {},
   "source": [
    "and"
   ]
  },
  {
   "cell_type": "markdown",
   "metadata": {},
   "source": [
    "$$\n",
    "\\vex'(t_n) =\n",
    "\\frac{1}{m}( F(t_n) -\n",
    "\\beta |\\vex(t_n)|\\vex(t_n) + \\mathcal{O}{\\Delta t^2} - s(u^n)) + R_v^n\\thinspace .\n",
    "$$"
   ]
  },
  {
   "cell_type": "markdown",
   "metadata": {},
   "source": [
    "The ODEs fulfilled by $u$ and $\\vex$ are evident in these equations,\n",
    "and we achieve second-order accuracy for the truncation error\n",
    "in both equations:"
   ]
  },
  {
   "cell_type": "markdown",
   "metadata": {},
   "source": [
    "$$\n",
    "R_u^{n-\\frac{1}{2}}= \\mathcal{O}{\\Delta t^2}, \\quad R_v^n = \\mathcal{O}{\\Delta t^2}\\thinspace .\n",
    "$$"
   ]
  },
  {
   "cell_type": "markdown",
   "metadata": {},
   "source": [
    "# Wave equations\n",
    "\n",
    "## Linear wave equation in 1D\n",
    "<div id=\"trunc:wave:1D\"></div>\n",
    "\n",
    "The standard, linear wave equation in 1D for a function $u(x,t)$ reads"
   ]
  },
  {
   "cell_type": "markdown",
   "metadata": {},
   "source": [
    "<!-- Equation labels as ordinary links -->\n",
    "<div id=\"trunc:wave:pde1D\"></div>\n",
    "\n",
    "$$\n",
    "\\begin{equation}\n",
    "\\frac{\\partial^2 u}{\\partial t^2} = c^2\\frac{\\partial^2 u}{\\partial x^2} + f(x,t),\\quad x\\in (0, L),\\ t\\in (0,T],\n",
    "\\label{trunc:wave:pde1D} \\tag{68}\n",
    "\\end{equation}\n",
    "$$"
   ]
  },
  {
   "cell_type": "markdown",
   "metadata": {},
   "source": [
    "where $c$ is the constant wave velocity of the physical medium in $[0,L]$.\n",
    "The equation can also be more compactly written as"
   ]
  },
  {
   "cell_type": "markdown",
   "metadata": {},
   "source": [
    "<!-- Equation labels as ordinary links -->\n",
    "<div id=\"trunc:wave:pde1D:v2\"></div>\n",
    "\n",
    "$$\n",
    "\\begin{equation}\n",
    "u_{tt} = c^2u_{xx} + f,\\quad x\\in (0, L),\\ t\\in (0,T],\n",
    "\\label{trunc:wave:pde1D:v2} \\tag{69}\n",
    "\\end{equation}\n",
    "$$"
   ]
  },
  {
   "cell_type": "markdown",
   "metadata": {},
   "source": [
    "Centered, second-order finite differences are a natural choice for\n",
    "discretizing the derivatives, leading to"
   ]
  },
  {
   "cell_type": "markdown",
   "metadata": {},
   "source": [
    "<!-- Equation labels as ordinary links -->\n",
    "<div id=\"trunc:wave:pde1D:fd\"></div>\n",
    "\n",
    "$$\n",
    "\\begin{equation}\n",
    "[D_t D_t u = c^2 D_xD_x u + f]^n_i\n",
    "\\label{trunc:wave:pde1D:fd} \\tag{70}\n",
    "\\thinspace .\n",
    "\\end{equation}\n",
    "$$"
   ]
  },
  {
   "cell_type": "markdown",
   "metadata": {},
   "source": [
    "Inserting the exact solution $u(x,t)$ in ([70](#trunc:wave:pde1D:fd))\n",
    "makes this function fulfill the equation if we add the\n",
    "term $R$:"
   ]
  },
  {
   "cell_type": "markdown",
   "metadata": {},
   "source": [
    "<!-- Equation labels as ordinary links -->\n",
    "<div id=\"trunc:wave:pde1D:fd:R\"></div>\n",
    "\n",
    "$$\n",
    "\\begin{equation}\n",
    "[D_t D_t u = c^2 D_xD_x u + f + R]^n_i\n",
    "\\label{trunc:wave:pde1D:fd:R} \\tag{71}\n",
    "\\end{equation}\n",
    "$$"
   ]
  },
  {
   "cell_type": "markdown",
   "metadata": {},
   "source": [
    "Our purpose is to calculate the truncation error $R$.\n",
    "From ([17](#trunc:table:fd2:center:eq))-([18](#trunc:table:fd2:center)) we have that"
   ]
  },
  {
   "cell_type": "markdown",
   "metadata": {},
   "source": [
    "$$\n",
    "[D_t D_tu]_i^n = ud{tt}(x_i,t_n) +\n",
    "\\frac{1}{12}ud{tttt}(x_i,t_n)\\Delta t^2 + \\mathcal{O}{\\Delta t^4},\n",
    "$$"
   ]
  },
  {
   "cell_type": "markdown",
   "metadata": {},
   "source": [
    "when we use a notation taking into account that $u$ is a function\n",
    "of two variables and that derivatives must be partial derivatives.\n",
    "The notation $ud{tt}$ means $\\partial^2u /\\partial t^2$.\n",
    "\n",
    "The same formula may also be applied to the $x$-derivative term:"
   ]
  },
  {
   "cell_type": "markdown",
   "metadata": {},
   "source": [
    "$$\n",
    "[D_xD_xu]_i^n = ud{xx}(x_i,t_n) +\n",
    "\\frac{1}{12}ud{xxxx}(x_i,t_n)\\Delta x^2 + \\mathcal{O}{\\Delta x^4},\n",
    "$$"
   ]
  },
  {
   "cell_type": "markdown",
   "metadata": {},
   "source": [
    "Equation ([71](#trunc:wave:pde1D:fd:R)) now becomes"
   ]
  },
  {
   "cell_type": "markdown",
   "metadata": {},
   "source": [
    "$$\n",
    "\\begin{align*}\n",
    "ud{tt}\n",
    "+ \\frac{1}{12}ud{tttt}(x_i,t_n)\\Delta t^2  &=\n",
    "c^2ud{xx} +\n",
    "c^2\\frac{1}{12}ud{xxxx}(x_i,t_n)\\Delta x^2 + f(x_i,t_n) + \\\\\n",
    "& \\quad  \\mathcal{O}{\\Delta t^4,\\Delta x^4} + R^n_i\n",
    "\\thinspace .\n",
    "\\end{align*}\n",
    "$$"
   ]
  },
  {
   "cell_type": "markdown",
   "metadata": {},
   "source": [
    "Because $u$ fulfills the partial differential equation (PDE)\n",
    "([69](#trunc:wave:pde1D:v2)), the first, third, and fifth term cancel out,\n",
    "and we are left with"
   ]
  },
  {
   "cell_type": "markdown",
   "metadata": {},
   "source": [
    "<!-- Equation labels as ordinary links -->\n",
    "<div id=\"trunc:wave:1D:R\"></div>\n",
    "\n",
    "$$\n",
    "\\begin{equation}\n",
    "R^n_i = \\frac{1}{12}ud{tttt}(x_i,t_n)\\Delta t^2 -\n",
    "c^2\\frac{1}{12}ud{xxxx}(x_i,t_n)\\Delta x^2 +\n",
    "\\mathcal{O}{\\Delta t^4,\\Delta x^4},\n",
    "\\label{trunc:wave:1D:R} \\tag{72}\n",
    "\\end{equation}\n",
    "$$"
   ]
  },
  {
   "cell_type": "markdown",
   "metadata": {},
   "source": [
    "showing that the scheme ([70](#trunc:wave:pde1D:fd)) is of second order\n",
    "in the time and space mesh spacing.\n",
    "\n",
    "## Finding correction terms\n",
    "<div id=\"trunc:wave:1D:corr\"></div>\n",
    "\n",
    "Can we add correction terms to the PDE and increase the order of\n",
    "$R^n_i$ in ([72](#trunc:wave:1D:R))? The starting point is"
   ]
  },
  {
   "cell_type": "markdown",
   "metadata": {},
   "source": [
    "<!-- Equation labels as ordinary links -->\n",
    "<div id=\"trunc:wave:pde1D:fd:R2\"></div>\n",
    "\n",
    "$$\n",
    "\\begin{equation}\n",
    "[D_t D_t u = c^2 D_xD_x u + f + C + R]^n_i\n",
    "\\label{trunc:wave:pde1D:fd:R2} \\tag{73}\n",
    "\\end{equation}\n",
    "$$"
   ]
  },
  {
   "cell_type": "markdown",
   "metadata": {},
   "source": [
    "From the previous analysis we simply get ([72](#trunc:wave:1D:R))\n",
    "again, but now with $C$:"
   ]
  },
  {
   "cell_type": "markdown",
   "metadata": {},
   "source": [
    "<!-- Equation labels as ordinary links -->\n",
    "<div id=\"trunc:wave:1D:R:C\"></div>\n",
    "\n",
    "$$\n",
    "\\begin{equation}\n",
    "R^n_i + C_i^n = \\frac{1}{12}ud{tttt}(x_i,t_n)\\Delta t^2 -\n",
    "c^2\\frac{1}{12}ud{xxxx}(x_i,t_n)\\Delta x^2 +\n",
    "\\mathcal{O}{\\Delta t^4,\\Delta x^4}\\thinspace .\n",
    "\\label{trunc:wave:1D:R:C} \\tag{74}\n",
    "\\end{equation}\n",
    "$$"
   ]
  },
  {
   "cell_type": "markdown",
   "metadata": {},
   "source": [
    "The idea is to let $C_i^n$ cancel the $\\Delta t^2$ and $\\Delta x^2$\n",
    "terms to make $R^n_i = \\mathcal{O}{\\Delta t^4,\\Delta x^4}$:"
   ]
  },
  {
   "cell_type": "markdown",
   "metadata": {},
   "source": [
    "$$\n",
    "C_i^n =\n",
    "\\frac{1}{12}ud{tttt}(x_i,t_n)\\Delta t^2 -\n",
    "c^2\\frac{1}{12}ud{xxxx}(x_i,t_n)\\Delta x^2\\thinspace .\n",
    "$$"
   ]
  },
  {
   "cell_type": "markdown",
   "metadata": {},
   "source": [
    "Essentially, it means that we add a new term"
   ]
  },
  {
   "cell_type": "markdown",
   "metadata": {},
   "source": [
    "$$\n",
    "C = \\frac{1}{12}\\left( u_{tttt}\\Delta t^2 - c^2u_{xxxx}\\Delta x^2\\right),\n",
    "$$"
   ]
  },
  {
   "cell_type": "markdown",
   "metadata": {},
   "source": [
    "to the right-hand side of the PDE.\n",
    "We must either discretize these 4th-order derivatives directly or\n",
    "rewrite them in terms of lower-order derivatives with the aid of the\n",
    "PDE. The latter approach is more feasible. From the PDE we have the\n",
    "operator equality"
   ]
  },
  {
   "cell_type": "markdown",
   "metadata": {},
   "source": [
    "$$\n",
    "\\frac{\\partial^2}{\\partial t^2} = c^2\\frac{\\partial^2}{\\partial x^2},\n",
    "$$"
   ]
  },
  {
   "cell_type": "markdown",
   "metadata": {},
   "source": [
    "so"
   ]
  },
  {
   "cell_type": "markdown",
   "metadata": {},
   "source": [
    "$$\n",
    "u_{tttt} = c^2u_{xxtt},\\quad u_{xxxx} = c^{-2}u_{ttxx}\\thinspace .\n",
    "$$"
   ]
  },
  {
   "cell_type": "markdown",
   "metadata": {},
   "source": [
    "Assuming $u$ is smooth enough, so that $u_{xxtt}=u_{ttxx}$, these relations\n",
    "lead to"
   ]
  },
  {
   "cell_type": "markdown",
   "metadata": {},
   "source": [
    "$$\n",
    "C = \\frac{1}{12}((c^2\\Delta t^2 - \\Delta x^2)u_{xx})_{tt}\\thinspace .\n",
    "$$"
   ]
  },
  {
   "cell_type": "markdown",
   "metadata": {},
   "source": [
    "A natural discretization is"
   ]
  },
  {
   "cell_type": "markdown",
   "metadata": {},
   "source": [
    "$$\n",
    "C^n_i = \\frac{1}{12}((c^2\\Delta t^2 - \\Delta x^2)\n",
    "[D_xD_xD_tD_t u]^n_i\\thinspace .\n",
    "$$"
   ]
  },
  {
   "cell_type": "markdown",
   "metadata": {},
   "source": [
    "Writing out $[D_xD_xD_tD_t u]^n_i$ as\n",
    "$[D_xD_x (D_tD_t u)]^n_i$ gives"
   ]
  },
  {
   "cell_type": "markdown",
   "metadata": {},
   "source": [
    "$$\n",
    "\\begin{align*}\n",
    "\\frac{1}{\\Delta t^2}\\biggl(\n",
    "&\\frac{u^{n+1}_{i+1} - 2u^{n}_{i+1} + u^{n-1}_{i+1}}{\\Delta x^2} -2\\\\\n",
    "&\\frac{u^{n+1}_{i} - 2u^{n}_{i} + u^{n-1}_{i}}{\\Delta x^2} +\n",
    "&\\frac{u^{n+1}_{i-1} - 2u^{n}_{i-1} + u^{n-1}_{i-1}}{\\Delta x^2}\n",
    "\\biggr)\n",
    "\\end{align*}\n",
    "$$"
   ]
  },
  {
   "cell_type": "markdown",
   "metadata": {},
   "source": [
    "Now the unknown values $u^{n+1}_{i+1}$, $u^{n+1}_{i}$,\n",
    "and $u^{n+1}_{i-1}$ are *coupled*, and we must solve a tridiagonal\n",
    "system to find them. This is in principle straightforward, but it\n",
    "results in an implicit finite difference scheme, while we had\n",
    "a convenient explicit scheme without the correction terms.\n",
    "\n",
    "## Extension to variable coefficients\n",
    "<div id=\"trunc:wave:1D:varcoeff\"></div>\n",
    "\n",
    "Now we address the variable coefficient version of the linear 1D\n",
    "wave equation,"
   ]
  },
  {
   "cell_type": "markdown",
   "metadata": {},
   "source": [
    "$$\n",
    "\\frac{\\partial^2 u}{\\partial t^2} = \\frac{\\partial}{\\partial x}\n",
    "\\left( \\lambda(x)\\frac{\\partial u}{\\partial x}\\right),\n",
    "$$"
   ]
  },
  {
   "cell_type": "markdown",
   "metadata": {},
   "source": [
    "or written more compactly as"
   ]
  },
  {
   "cell_type": "markdown",
   "metadata": {},
   "source": [
    "<!-- Equation labels as ordinary links -->\n",
    "<div id=\"trunc:wave:1D:varcoeff:pde\"></div>\n",
    "\n",
    "$$\n",
    "\\begin{equation}\n",
    "u_{tt} = (\\lambda u_x)_x\\thinspace .\n",
    "\\label{trunc:wave:1D:varcoeff:pde} \\tag{75}\n",
    "\\end{equation}\n",
    "$$"
   ]
  },
  {
   "cell_type": "markdown",
   "metadata": {},
   "source": [
    "The discrete counterpart to this equation, using arithmetic mean for\n",
    "$\\lambda$ and centered differences, reads"
   ]
  },
  {
   "cell_type": "markdown",
   "metadata": {},
   "source": [
    "<!-- Equation labels as ordinary links -->\n",
    "<div id=\"trunc:wave:1D:varcoeff:fd\"></div>\n",
    "\n",
    "$$\n",
    "\\begin{equation}\n",
    "[D_t D_t u = D_x \\overline{\\lambda}^{x}D_x u]^n_i\\thinspace .\n",
    "\\label{trunc:wave:1D:varcoeff:fd} \\tag{76}\n",
    "\\end{equation}\n",
    "$$"
   ]
  },
  {
   "cell_type": "markdown",
   "metadata": {},
   "source": [
    "The truncation error is the residual $R$ in the equation"
   ]
  },
  {
   "cell_type": "markdown",
   "metadata": {},
   "source": [
    "<!-- Equation labels as ordinary links -->\n",
    "<div id=\"trunc:wave:1D:varcoef:fd:R\"></div>\n",
    "\n",
    "$$\n",
    "\\begin{equation}\n",
    "[D_t D_t u = D_x \\overline{\\lambda}^{x}D_x u + R]^n_i\\thinspace .\n",
    "\\label{trunc:wave:1D:varcoef:fd:R} \\tag{77}\n",
    "\\end{equation}\n",
    "$$"
   ]
  },
  {
   "cell_type": "markdown",
   "metadata": {},
   "source": [
    "The difficulty with ([77](#trunc:wave:1D:varcoef:fd:R))\n",
    "is how to compute the truncation error of\n",
    "the term $[D_x \\overline{\\lambda}^{x}D_x u]^n_i$.\n",
    "\n",
    "We start by writing out the outer operator:"
   ]
  },
  {
   "cell_type": "markdown",
   "metadata": {},
   "source": [
    "<!-- Equation labels as ordinary links -->\n",
    "<div id=\"trunc:wave:1D:varcoeff:outer\"></div>\n",
    "\n",
    "$$\n",
    "\\begin{equation}\n",
    "[D_x \\overline{\\lambda}^{x}D_x u]^n_i =\n",
    "\\frac{1}{\\Delta x}\\left(\n",
    "[\\overline{\\lambda}^{x}D_x u]^n_{i+\\frac{1}{2}} -\n",
    "[\\overline{\\lambda}^{x}D_x u]^n_{i-\\frac{1}{2}}\n",
    "\\right).\n",
    "\\label{trunc:wave:1D:varcoeff:outer} \\tag{78}\n",
    "\\end{equation}\n",
    "$$"
   ]
  },
  {
   "cell_type": "markdown",
   "metadata": {},
   "source": [
    "With the aid of ([5](#trunc:table:fd1:center:eq))-([6](#trunc:table:fd1:center))\n",
    "and ([21](#trunc:table:avg:arith:eq))-([22](#trunc:table:avg:arith)) we have"
   ]
  },
  {
   "cell_type": "markdown",
   "metadata": {},
   "source": [
    "$$\n",
    "\\begin{align*}\n",
    "\\lbrack D_x u \\rbrack^n_{i+\\frac{1}{2}} & = ud{x}(x_{i+\\frac{1}{2}},t_n) +\n",
    "\\frac{1}{24}ud{xxx}(x_{i+\\frac{1}{2}},t_n)\\Delta x^2 +\n",
    "\\mathcal{O}{\\Delta x^4},\\\\\n",
    "\\lbrack\\overline{\\lambda}^{x}\\rbrack_{i+\\frac{1}{2}}\n",
    "&= \\lambda(x_{i+\\frac{1}{2}}) +\n",
    "\\frac{1}{8}\\lambda''(x_{i+\\frac{1}{2}})\\Delta x^2\n",
    "+ \\mathcal{O}{\\Delta x^4},\\\\\n",
    "[\\overline{\\lambda}^{x}D_x u]^n_{i+\\frac{1}{2}} &=\n",
    "(\\lambda(x_{i+\\frac{1}{2}}) +\n",
    "\\frac{1}{8}\\lambda''(x_{i+\\frac{1}{2}})\\Delta x^2\n",
    "+ \\mathcal{O}{\\Delta x^4})\\times\\\\\n",
    "&\\quad (ud{x}(x_{i+\\frac{1}{2}},t_n) +\n",
    "\\frac{1}{24}ud{xxx}(x_{i+\\frac{1}{2}},t_n)\\Delta x^2 +\n",
    "\\mathcal{O}{\\Delta x^4})\\\\\n",
    "&= \\lambda(x_{i+\\frac{1}{2}})ud{x}(x_{i+\\frac{1}{2}},t_n)\n",
    "+ \\lambda(x_{i+\\frac{1}{2}})\n",
    "\\frac{1}{24}ud{xxx}(x_{i+\\frac{1}{2}},t_n)\\Delta x^2 + \\\\\n",
    "&\\quad ud{x}(x_{i+\\frac{1}{2}},t_n)\n",
    "\\frac{1}{8}\\lambda''(x_{i+\\frac{1}{2}})\\Delta x^2\n",
    "+\\mathcal{O}{\\Delta x^4}\\\\\n",
    "&= [\\lambda ud{x}]^n_{i+\\frac{1}{2}} + G^n_{i+\\frac{1}{2}}\\Delta x^2\n",
    "+\\mathcal{O}{\\Delta x^4},\n",
    "\\end{align*}\n",
    "$$"
   ]
  },
  {
   "cell_type": "markdown",
   "metadata": {},
   "source": [
    "where we have introduced the short form"
   ]
  },
  {
   "cell_type": "markdown",
   "metadata": {},
   "source": [
    "$$\n",
    "G^n_{i+\\frac{1}{2}} =\n",
    "\\frac{1}{24}ud{xxx}(x_{i+\\frac{1}{2}},t_n)\\lambda(x_{i+\\frac{1}{2}})\n",
    "+ ud{x}(x_{i+\\frac{1}{2}},t_n)\n",
    "\\frac{1}{8}\\lambda''(x_{i+\\frac{1}{2}})\\thinspace .\n",
    "$$"
   ]
  },
  {
   "cell_type": "markdown",
   "metadata": {},
   "source": [
    "Similarly, we find that"
   ]
  },
  {
   "cell_type": "markdown",
   "metadata": {},
   "source": [
    "$$\n",
    "\\lbrack\\overline{\\lambda}^{x}D_x u\\rbrack^n_{i-\\frac{1}{2}} =\n",
    "[\\lambda ud{x}]^n_{i-\\frac{1}{2}} + G^n_{i-\\frac{1}{2}}\\Delta x^2\n",
    "+\\mathcal{O}{\\Delta x^4}\\thinspace .\n",
    "$$"
   ]
  },
  {
   "cell_type": "markdown",
   "metadata": {},
   "source": [
    "Inserting these expressions in the outer operator ([78](#trunc:wave:1D:varcoeff:outer))\n",
    "results in"
   ]
  },
  {
   "cell_type": "markdown",
   "metadata": {},
   "source": [
    "$$\n",
    "\\begin{align*}\n",
    "\\lbrack D_x \\overline{\\lambda}^{x}D_x u \\rbrack^n_i &=\n",
    "\\frac{1}{\\Delta x}(\n",
    "[\\overline{\\lambda}^{x}D_x u]^n_{i+\\frac{1}{2}} -\n",
    "[\\overline{\\lambda}^{x}D_x u]^n_{i-\\frac{1}{2}}\n",
    ")\\\\\n",
    "&= \\frac{1}{\\Delta x}(\n",
    "[\\lambda ud{x}]^n_{i+\\frac{1}{2}} +\n",
    "G^n_{i+\\frac{1}{2}}\\Delta x^2 -\n",
    "[\\lambda ud{x}]^n_{i-\\frac{1}{2}} -\n",
    "G^n_{i-\\frac{1}{2}}\\Delta x^2 +\n",
    "\\mathcal{O}{\\Delta x^4}\n",
    ")\\\\\n",
    "&= [D_x \\lambda ud{x}]^n_i + [D_x G]^n_i\\Delta x^2 + \\mathcal{O}{\\Delta x^4}\\thinspace .\n",
    "\\end{align*}\n",
    "$$"
   ]
  },
  {
   "cell_type": "markdown",
   "metadata": {},
   "source": [
    "The reason for $\\mathcal{O}{\\Delta x^4}$ in the remainder is that there\n",
    "are coefficients in front of this term, say $H\\Delta x^4$, and the\n",
    "subtraction and division by $\\Delta x$ results in $[D_x H]^n_i\\Delta x^4$.\n",
    "\n",
    "We can now use ([5](#trunc:table:fd1:center:eq))-([6](#trunc:table:fd1:center))\n",
    "to express the $D_x$ operator\n",
    "in $[D_x \\lambda ud{x}]^n_i$\n",
    "as a derivative and a truncation error:"
   ]
  },
  {
   "cell_type": "markdown",
   "metadata": {},
   "source": [
    "$$\n",
    "[D_x \\lambda ud{x}]^n_i =\n",
    "\\frac{\\partial}{\\partial x}\\lambda(x_i)ud{x}(x_i,t_n)\n",
    "+ \\frac{1}{24}(\\lambdaud{x})_{xxx}(x_i,t_n)\\Delta x^2\n",
    "+ \\mathcal{O}{\\Delta x^4}\\thinspace .\n",
    "$$"
   ]
  },
  {
   "cell_type": "markdown",
   "metadata": {},
   "source": [
    "Expressions like $[D_x G]^n_i\\Delta x^2$ can be treated in an identical\n",
    "way,"
   ]
  },
  {
   "cell_type": "markdown",
   "metadata": {},
   "source": [
    "$$\n",
    "[D_x G]^n_i\\Delta x^2 = G_x(x_i,t_n)\\Delta x^2\n",
    "+ \\frac{1}{24}G_{xxx}(x_i,t_n)\\Delta x^4 + \\mathcal{O}{\\Delta x^4}\\thinspace .\n",
    "$$"
   ]
  },
  {
   "cell_type": "markdown",
   "metadata": {},
   "source": [
    "There will be a number of terms with the $\\Delta x^2$ factor. We\n",
    "lump these now into $\\mathcal{O}{\\Delta x^2}$.\n",
    "The result of the truncation error analysis of the spatial derivative\n",
    "is therefore summarized as"
   ]
  },
  {
   "cell_type": "markdown",
   "metadata": {},
   "source": [
    "$$\n",
    "[D_x \\overline{\\lambda}^{x}D_x u]^n_i =\n",
    "\\frac{\\partial}{\\partial x}\n",
    "\\lambda(x_i)ud{x}(x_i,t_n) +\n",
    "\\mathcal{O}{\\Delta x^2}\\thinspace .\n",
    "$$"
   ]
  },
  {
   "cell_type": "markdown",
   "metadata": {},
   "source": [
    "After having treated the $[D_tD_tu]^n_i$ term as well, we achieve"
   ]
  },
  {
   "cell_type": "markdown",
   "metadata": {},
   "source": [
    "$$\n",
    "R^n_i = \\mathcal{O}{\\Delta x^2} +\n",
    "\\frac{1}{12}ud{tttt}(x_i,t_n)\\Delta t^2\n",
    "\\thinspace .\n",
    "$$"
   ]
  },
  {
   "cell_type": "markdown",
   "metadata": {},
   "source": [
    "The main conclusion is that the scheme is of second-order in time\n",
    "and space also in this variable coefficient case. The key ingredients\n",
    "for second order are the centered differences and the arithmetic\n",
    "mean for $\\lambda$: all those building blocks feature second-order accuracy.\n",
    "\n",
    "\n",
    "[sl 2: HP planned 1D wave equation on a staggered mesh here, five equal signs heading]\n",
    "[hpl 3: Write out 1D wave equation on a staggered mesh]\n",
    "\n",
    "\n",
    "## Linear wave equation in 2D/3D\n",
    "<div id=\"trunc:wave:2D\"></div>\n",
    "\n",
    "The two-dimensional extension of ([68](#trunc:wave:pde1D)) takes the form"
   ]
  },
  {
   "cell_type": "markdown",
   "metadata": {},
   "source": [
    "<!-- Equation labels as ordinary links -->\n",
    "<div id=\"trunc:wave:pde2D\"></div>\n",
    "\n",
    "$$\n",
    "\\begin{equation}\n",
    "\\frac{\\partial^2 u}{\\partial t^2} = c^2\\left(\\frac{\\partial^2 u}{\\partial x^2}\n",
    "+ \\frac{\\partial^2 u}{\\partial y^2}\\right) + f(x,y,t),\\quad (x,y)\\in (0, L)\\times (0,H),\\ t\\in (0,T],\n",
    "\\label{trunc:wave:pde2D} \\tag{79}\n",
    "\\end{equation}\n",
    "$$"
   ]
  },
  {
   "cell_type": "markdown",
   "metadata": {},
   "source": [
    "where now $c(x,y)$ is the constant wave velocity of the physical medium\n",
    "$[0,L]\\times [0,H]$. In compact notation, the PDE\n",
    "([79](#trunc:wave:pde2D)) can be written"
   ]
  },
  {
   "cell_type": "markdown",
   "metadata": {},
   "source": [
    "<!-- Equation labels as ordinary links -->\n",
    "<div id=\"trunc:wave:pde2D:v2\"></div>\n",
    "\n",
    "$$\n",
    "\\begin{equation}\n",
    "u_{tt} = c^2(u_{xx} + u_{yy}) + f(x,y,t),\\quad (x,y)\\in (0, L)\\times (0,H),\n",
    "\\ t\\in (0,T],\n",
    "\\label{trunc:wave:pde2D:v2} \\tag{80}\n",
    "\\end{equation}\n",
    "$$"
   ]
  },
  {
   "cell_type": "markdown",
   "metadata": {},
   "source": [
    "in 2D, while the 3D version reads"
   ]
  },
  {
   "cell_type": "markdown",
   "metadata": {},
   "source": [
    "<!-- Equation labels as ordinary links -->\n",
    "<div id=\"trunc:wave:pde3D:v2\"></div>\n",
    "\n",
    "$$\n",
    "\\begin{equation}\n",
    "u_{tt} = c^2(u_{xx} + u_{yy} + u_{zz}) + f(x,y,z,t),\n",
    "\\label{trunc:wave:pde3D:v2} \\tag{81}\n",
    "\\end{equation}\n",
    "$$"
   ]
  },
  {
   "cell_type": "markdown",
   "metadata": {},
   "source": [
    "for $(x,y,z)\\in (0, L)\\times (0,H)\\times (0,B)$ and\n",
    "$t\\in (0,T]$.\n",
    "\n",
    "Approximating the second-order derivatives by the standard\n",
    "formulas ([17](#trunc:table:fd2:center:eq))-([18](#trunc:table:fd2:center))\n",
    "yields the scheme"
   ]
  },
  {
   "cell_type": "markdown",
   "metadata": {},
   "source": [
    "<!-- Equation labels as ordinary links -->\n",
    "<div id=\"_auto14\"></div>\n",
    "\n",
    "$$\n",
    "\\begin{equation}\n",
    "[D_t D_t u = c^2(D_xD_x u + D_yD_y u + D_zD_z u) + f]^n_{i,j,k}\n",
    "\\thinspace .\n",
    "\\label{_auto14} \\tag{82}\n",
    "\\end{equation}\n",
    "$$"
   ]
  },
  {
   "cell_type": "markdown",
   "metadata": {},
   "source": [
    "The truncation error is found from"
   ]
  },
  {
   "cell_type": "markdown",
   "metadata": {},
   "source": [
    "<!-- Equation labels as ordinary links -->\n",
    "<div id=\"_auto15\"></div>\n",
    "\n",
    "$$\n",
    "\\begin{equation}\n",
    "[D_t D_t u = c^2(D_xD_x u + D_yD_y u + D_zD_z u) + f + R]^n_{i,j,k}\n",
    "\\thinspace .\n",
    "\\label{_auto15} \\tag{83}\n",
    "\\end{equation}\n",
    "$$"
   ]
  },
  {
   "cell_type": "markdown",
   "metadata": {},
   "source": [
    "The calculations from the 1D case can be repeated with the\n",
    "terms in the $y$ and $z$ directions. Collecting terms that\n",
    "fulfill the PDE, we end up with"
   ]
  },
  {
   "cell_type": "markdown",
   "metadata": {},
   "source": [
    "<!-- Equation labels as ordinary links -->\n",
    "<div id=\"_auto16\"></div>\n",
    "\n",
    "$$\n",
    "\\begin{equation}\n",
    "R^n_{i,j,k}  = [\\frac{1}{12}ud{tttt}\\Delta t^2 -\n",
    "c^2\\frac{1}{12}\\left( ud{xxxx}\\Delta x^2\n",
    "+ ud{yyyy}\\Delta x^2\n",
    "+ ud{zzzz}\\Delta z^2\\right)]^n_{i,j,k} +\n",
    "\\label{_auto16} \\tag{84}\n",
    "\\end{equation}\n",
    "$$"
   ]
  },
  {
   "cell_type": "markdown",
   "metadata": {},
   "source": [
    "$$\n",
    "\\quad \\mathcal{O}{\\Delta t^4,\\Delta x^4,\\Delta y^4,\\Delta z^4}\\nonumber\n",
    "\\thinspace .\n",
    "$$"
   ]
  },
  {
   "cell_type": "markdown",
   "metadata": {},
   "source": [
    "# Diffusion equations\n",
    "<div id=\"trunc:diffu\"></div>\n",
    "\n",
    "## Linear diffusion equation in 1D\n",
    "<div id=\"trunc:diffu:1D\"></div>\n",
    "\n",
    "The standard, linear, 1D diffusion equation takes the form"
   ]
  },
  {
   "cell_type": "markdown",
   "metadata": {},
   "source": [
    "<!-- Equation labels as ordinary links -->\n",
    "<div id=\"trunc:diffu:pde1D\"></div>\n",
    "\n",
    "$$\n",
    "\\begin{equation}\n",
    "\\frac{\\partial u}{\\partial t} = \\dfc\\frac{\\partial^2 u}{\\partial x^2} + f(x,t),\\quad x\\in (0, L),\\ t\\in (0,T],\n",
    "\\label{trunc:diffu:pde1D} \\tag{85}\n",
    "\\end{equation}\n",
    "$$"
   ]
  },
  {
   "cell_type": "markdown",
   "metadata": {},
   "source": [
    "where $\\dfc > 0$ is a constant diffusion coefficient. A more\n",
    "compact form of the diffusion equation is $u_t = \\dfc u_{xx}+f$.\n",
    "\n",
    "The spatial derivative in the diffusion equation, $\\dfc u_{xx}$,\n",
    "is commonly discretized as $[D_x D_xu]^n_i$. The time-derivative,\n",
    "however, can be treated by a variety of methods.\n",
    "\n",
    "### The Forward Euler scheme in time\n",
    "\n",
    "Let us start\n",
    "with the simple Forward Euler scheme:"
   ]
  },
  {
   "cell_type": "markdown",
   "metadata": {},
   "source": [
    "$$\n",
    "[D_t^+ u = \\dfc D_xD_x u + f]^n_i\\thinspace .\n",
    "$$"
   ]
  },
  {
   "cell_type": "markdown",
   "metadata": {},
   "source": [
    "The truncation error arises as the residual $R$ when\n",
    "inserting the exact solution\n",
    "$u$ in the discrete equations:"
   ]
  },
  {
   "cell_type": "markdown",
   "metadata": {},
   "source": [
    "$$\n",
    "[D_t^+ u = \\dfc D_xD_x u + f + R]^n_i\\thinspace .\n",
    "$$"
   ]
  },
  {
   "cell_type": "markdown",
   "metadata": {},
   "source": [
    "Now, using ([11](#trunc:table:fd1:fw:eq))-([12](#trunc:table:fd1:fw))\n",
    "and ([17](#trunc:table:fd2:center:eq))-([18](#trunc:table:fd2:center)),\n",
    "we can transform the difference operators to derivatives:"
   ]
  },
  {
   "cell_type": "markdown",
   "metadata": {},
   "source": [
    "$$\n",
    "\\begin{align*}\n",
    "ud{t}(x_i,t_n) &+ \\frac{1}{2}ud{tt}(t_n)\\Delta t + \\mathcal{O}{\\Delta t^2}\n",
    "= \\dfcud{xx}(x_i,t_n) + \\\\\n",
    "&\\frac{\\dfc}{12}ud{xxxx}(x_i,t_n)\\Delta x^2 + \\mathcal{O}{\\Delta x^4}\n",
    "+ f(x_i,t_n) + R^n_i\\thinspace .\n",
    "\\end{align*}\n",
    "$$"
   ]
  },
  {
   "cell_type": "markdown",
   "metadata": {},
   "source": [
    "The terms $ud{t}(x_i,t_n) - \\dfcud{xx}(x_i,t_n) - f(x_i,t_n)$\n",
    "vanish because $u$ solves the PDE. The truncation error then becomes"
   ]
  },
  {
   "cell_type": "markdown",
   "metadata": {},
   "source": [
    "$$\n",
    "R^n_i =\n",
    "\\frac{1}{2}ud{tt}(t_n)\\Delta t + \\mathcal{O}{\\Delta t^2}\n",
    "- \\frac{\\dfc}{12}ud{xxxx}(x_i,t_n)\\Delta x^2 + \\mathcal{O}{\\Delta x^4}\\thinspace .\n",
    "$$"
   ]
  },
  {
   "cell_type": "markdown",
   "metadata": {},
   "source": [
    "<!-- Correction terms in time...backward 2-level discr of u_tt? Implicity anyway -->\n",
    "\n",
    "### The Crank-Nicolson scheme in time\n",
    "\n",
    "The Crank-Nicolson method consists of\n",
    "using a centered difference for $u_t$ and an arithmetic average of\n",
    "the $u_{xx}$ term:"
   ]
  },
  {
   "cell_type": "markdown",
   "metadata": {},
   "source": [
    "$$\n",
    "[D_t u]^{n+\\frac{1}{2}}_i = \\dfc\\frac{1}{2}([D_xD_x u]^n_i +\n",
    "[D_xD_x u]^{n+1}_i) + f^{n+\\frac{1}{2}}_i\\thinspace .\n",
    "$$"
   ]
  },
  {
   "cell_type": "markdown",
   "metadata": {},
   "source": [
    "The equation for the truncation error is"
   ]
  },
  {
   "cell_type": "markdown",
   "metadata": {},
   "source": [
    "$$\n",
    "[D_t u]^{n+\\frac{1}{2}}_i = \\dfc\\frac{1}{2}([D_xD_x u]^n_i +\n",
    "[D_xD_x u]^{n+1}_i) + f^{n+\\frac{1}{2}}_i + R^{n+\\frac{1}{2}}_i\\thinspace .\n",
    "$$"
   ]
  },
  {
   "cell_type": "markdown",
   "metadata": {},
   "source": [
    "To find the truncation error, we start by expressing the arithmetic\n",
    "average in terms of values at time $t_{n+\\frac{1}{2}}$. According to\n",
    "([21](#trunc:table:avg:arith:eq))-([22](#trunc:table:avg:arith)),"
   ]
  },
  {
   "cell_type": "markdown",
   "metadata": {},
   "source": [
    "$$\n",
    "\\frac{1}{2}([D_xD_x u]^n_i + [D_xD_x u]^{n+1}_i)\n",
    "=\n",
    "[D_xD_xu]^{n+\\frac{1}{2}}_i +\n",
    "\\frac{1}{8}[D_xD_xud{tt}]_i^{n+\\frac{1}{2}}\\Delta t^2\n",
    "+ \\mathcal{O}{\\Delta t^4}\\thinspace .\n",
    "$$"
   ]
  },
  {
   "cell_type": "markdown",
   "metadata": {},
   "source": [
    "With ([17](#trunc:table:fd2:center:eq))-([18](#trunc:table:fd2:center))\n",
    "we can express the difference operator\n",
    "$D_xD_xu$ in terms of a derivative:"
   ]
  },
  {
   "cell_type": "markdown",
   "metadata": {},
   "source": [
    "$$\n",
    "[D_xD_xu]^{n+\\frac{1}{2}}_i =\n",
    "ud{xx}(x_i, t_{n+\\frac{1}{2}})\n",
    "+ \\frac{1}{12}ud{xxxx}(x_i, t_{n+\\frac{1}{2}})\\Delta x^2 +\n",
    "\\mathcal{O}{\\Delta x^4}\\thinspace .\n",
    "$$"
   ]
  },
  {
   "cell_type": "markdown",
   "metadata": {},
   "source": [
    "The error term from the arithmetic mean is similarly expanded,"
   ]
  },
  {
   "cell_type": "markdown",
   "metadata": {},
   "source": [
    "$$\n",
    "\\frac{1}{8}[D_xD_xud{tt}]_i^{n+\\frac{1}{2}}\\Delta t^2\n",
    "= \\frac{1}{8}ud{ttxx}(x_i, t_{n+\\frac{1}{2}})\\Delta t^2\n",
    "+ \\mathcal{O}{\\Delta t^2\\Delta x^2}\n",
    "$$"
   ]
  },
  {
   "cell_type": "markdown",
   "metadata": {},
   "source": [
    "The time derivative is analyzed using\n",
    "([5](#trunc:table:fd1:center:eq))-([6](#trunc:table:fd1:center)):"
   ]
  },
  {
   "cell_type": "markdown",
   "metadata": {},
   "source": [
    "$$\n",
    "[D_t u]^{n+\\frac{1}{2}}_i\n",
    "= ud{t}(x_i,t_{n+\\frac{1}{2}}) +\n",
    "\\frac{1}{24}ud{ttt}(x_i,t_{n+\\frac{1}{2}})\\Delta t^2 +\n",
    "\\mathcal{O}{\\Delta t^4}\\thinspace .\n",
    "$$"
   ]
  },
  {
   "cell_type": "markdown",
   "metadata": {},
   "source": [
    "Summing up all the contributions and notifying that"
   ]
  },
  {
   "cell_type": "markdown",
   "metadata": {},
   "source": [
    "$$\n",
    "ud{t}(x_i,t_{n+\\frac{1}{2}}) =\n",
    "\\dfcud{xx}(x_i, t_{n+\\frac{1}{2}})\n",
    "+ f(x_i,t_{n+\\frac{1}{2}}),\n",
    "$$"
   ]
  },
  {
   "cell_type": "markdown",
   "metadata": {},
   "source": [
    "the truncation error is given by"
   ]
  },
  {
   "cell_type": "markdown",
   "metadata": {},
   "source": [
    "$$\n",
    "\\begin{align*}\n",
    "R^{n+\\frac{1}{2}}_i\n",
    "& =\n",
    "\\frac{1}{8}u_{\\mbox{\\footnotesize e},{xx}}(x_i,t_{n+\\frac{1}{2}})\\Delta t^2 +\n",
    "\\frac{1}{12}ud{xxxx}(x_i, t_{n+\\frac{1}{2}})\\Delta x^2 +\\\\\n",
    "&\\quad \\frac{1}{24}ud{ttt}(x_i,t_{n+\\frac{1}{2}})\\Delta t^2 +\n",
    "+ \\mathcal{O}{\\Delta x^4} + \\mathcal{O}{\\Delta t^4} + \\mathcal{O}{\\Delta t^2\\Delta x^2}\n",
    "\\end{align*}\n",
    "$$"
   ]
  },
  {
   "cell_type": "markdown",
   "metadata": {},
   "source": [
    "## Nonlinear diffusion equation in 1D\n",
    "\n",
    "We address the PDE"
   ]
  },
  {
   "cell_type": "markdown",
   "metadata": {},
   "source": [
    "$$\n",
    "\\frac{\\partial u}{\\partial t} = \\frac{\\partial}{\\partial x}\\left(\n",
    "\\dfc(u)\\frac{\\partial u}{\\partial x}\\right) + f(u),\n",
    "$$"
   ]
  },
  {
   "cell_type": "markdown",
   "metadata": {},
   "source": [
    "with two potentially nonlinear coefficients $q(u)$ and $\\dfc(u)$.\n",
    "We use a Backward Euler scheme with arithmetic mean for $\\dfc(u)$,"
   ]
  },
  {
   "cell_type": "markdown",
   "metadata": {},
   "source": [
    "$$\n",
    "[D^-u = D_x\\overline{\\dfc(u)}^{x}D_x u + f(u)]_i^n\\thinspace .\n",
    "$$"
   ]
  },
  {
   "cell_type": "markdown",
   "metadata": {},
   "source": [
    "Inserting $u$ defines the truncation error $R$:"
   ]
  },
  {
   "cell_type": "markdown",
   "metadata": {},
   "source": [
    "$$\n",
    "[D^-u = D_x\\overline{\\dfc(u)}^{x}D_x u + f(u) + R]_i^n\\thinspace .\n",
    "$$"
   ]
  },
  {
   "cell_type": "markdown",
   "metadata": {},
   "source": [
    "The most computationally challenging part is the variable coefficient with\n",
    "$\\dfc(u)$, but we can use the same setup as in the section [Extension to variable coefficients](#trunc:wave:1D:varcoeff) and arrive at a truncation error $\\mathcal{O}{\\Delta x^2}$\n",
    "for the $x$-derivative term. The nonlinear term $[f(u)]^n_{i} =\n",
    "f(u(x_i, t_n))$ matches $x$ and $t$ derivatives of $u$ in the PDE.\n",
    "We end up with"
   ]
  },
  {
   "cell_type": "markdown",
   "metadata": {},
   "source": [
    "$$\n",
    "R^n_i = -{\\frac{1}{2}}\\frac{\\partial^2}{\\partial t^2}u(x_i,t_n)\\Delta t + \\mathcal{O}{\\Delta x^2}\\thinspace .\n",
    "$$"
   ]
  },
  {
   "cell_type": "markdown",
   "metadata": {},
   "source": [
    "# Exercises\n",
    "\n",
    "\n",
    "\n",
    "<!-- --- begin exercise --- -->\n",
    "\n",
    "## Exercise 1: Truncation error of a weighted mean\n",
    "<div id=\"trunc:exer:theta:avg\"></div>\n",
    "\n",
    "Derive the truncation error of the weighted mean in\n",
    "([19](#trunc:table:avg:theta:eq))-([20](#trunc:table:avg:theta)).\n",
    "\n",
    "<!-- --- begin hint in exercise --- -->\n",
    "\n",
    "**Hint.**\n",
    "Expand $u^{n+1}$ and $u^n$ around $t_{n+\\theta}$.\n",
    "\n",
    "<!-- --- end hint in exercise --- -->\n",
    "Filename: `trunc_weighted_mean`.\n",
    "\n",
    "<!-- --- end exercise --- -->\n",
    "\n",
    "\n",
    "\n",
    "\n",
    "<!-- --- begin exercise --- -->\n",
    "\n",
    "## Exercise 2: Simulate the error of a weighted mean\n",
    "<div id=\"trunc:exer:theta:avg2\"></div>\n",
    "\n",
    "We consider the weighted mean"
   ]
  },
  {
   "cell_type": "markdown",
   "metadata": {},
   "source": [
    "$$\n",
    "u(t_n) \\approx \\theta u^{n+1} + (1-\\theta)u^n\\thinspace .\n",
    "$$"
   ]
  },
  {
   "cell_type": "markdown",
   "metadata": {},
   "source": [
    "Choose some specific function for $u(t)$ and compute the error in\n",
    "this approximation for a sequence of decreasing $\\Delta t =\n",
    "t_{n+1}-t_n$ and for $\\theta = 0, 0.25, 0.5, 0.75, 1$.  Assuming that\n",
    "the error equals $C\\Delta t^r$, for some constants $C$ and $r$,\n",
    "compute $r$ for the two smallest $\\Delta t$ values for each choice of\n",
    "$\\theta$ and compare with the truncation error\n",
    "([19](#trunc:table:avg:theta:eq))-([20](#trunc:table:avg:theta)).\n",
    "Filename: `trunc_theta_avg`.\n",
    "\n",
    "<!-- --- end exercise --- -->\n",
    "\n",
    "\n",
    "\n",
    "\n",
    "<!-- --- begin exercise --- -->\n",
    "\n",
    "## Exercise 3: Verify a truncation error formula\n",
    "<div id=\"trunc:exer:decay:bw2\"></div>\n",
    "\n",
    "Set up a numerical experiment as explained in\n",
    "the section [Empirical verification of the truncation error](#trunc:decay:estimate:R) for verifying the formulas\n",
    "([15](#trunc:table:fd1:bw2:eq))-([16](#trunc:table:fd1:bw2)).\n",
    "Filename: `trunc_backward_2level`.\n",
    "\n",
    "<!-- --- end exercise --- -->\n",
    "\n",
    "\n",
    "\n",
    "\n",
    "<!-- --- begin exercise --- -->\n",
    "\n",
    "## Problem 4: Truncation error of the Backward Euler scheme\n",
    "<div id=\"trunc:exer:decay:BE\"></div>\n",
    "\n",
    "Derive the truncation error of the Backward Euler scheme for\n",
    "the decay ODE $u'=-au$ with constant $a$. Extend the analysis to\n",
    "cover the variable-coefficient case $u'=-a(t)u + b(t)$.\n",
    "Filename: `trunc_decay_BE`.\n",
    "\n",
    "<!-- --- end exercise --- -->\n",
    "\n",
    "\n",
    "\n",
    "\n",
    "<!-- --- begin exercise --- -->\n",
    "\n",
    "## Exercise 5: Empirical estimation of truncation errors\n",
    "<div id=\"trunc:exer:decay:estimate\"></div>\n",
    "\n",
    "Use the ideas and tools from the section [Empirical verification of the truncation error](#trunc:decay:estimate:R) to\n",
    "estimate the rate of the truncation error of the Backward Euler\n",
    "and Crank-Nicolson schemes applied to the exponential decay\n",
    "model $u'=-au$, $u(0)=I$.\n",
    "\n",
    "<!-- --- begin hint in exercise --- -->\n",
    "\n",
    "**Hint.**\n",
    "In the Backward Euler scheme, the truncation error can be estimated\n",
    "at mesh points $n=1,\\ldots,N$, while the truncation error must\n",
    "be estimated at midpoints $t_{n+\\frac{1}{2}}$, $n=0,\\ldots,N-1$ for\n",
    "the Crank-Nicolson scheme. The `truncation_error(dt, N)`\n",
    "function to be supplied to the `estimate` function needs to\n",
    "carefully implement these details and return the right `t` array\n",
    "such that `t[i]` is the time point corresponding to the quantities\n",
    "`R[i]` and `R_a[i]`.\n",
    "\n",
    "<!-- --- end hint in exercise --- -->\n",
    "Filename: `trunc_decay_BNCN`.\n",
    "\n",
    "<!-- --- end exercise --- -->\n",
    "\n",
    "\n",
    "\n",
    "\n",
    "<!-- --- begin exercise --- -->\n",
    "\n",
    "## Exercise 6: Correction term for a Backward Euler scheme\n",
    "<div id=\"trunc:exer:decay:corr:BE\"></div>\n",
    "\n",
    "Consider the model $u'=-au$, $u(0)=I$. Use the ideas of\n",
    "the section [Increasing the accuracy by adding correction terms](#trunc:decay:corr) to add a correction term to the ODE\n",
    "such that the Backward Euler scheme applied to the perturbed ODE\n",
    "problem is of second order in $\\Delta t$. Find the amplification\n",
    "factor.\n",
    "Filename: `trunc_decay_BE_corr`.\n",
    "\n",
    "\n",
    "<!-- with u''=a^u, the BE scheme probably leads to a 2nd-order Pade -->\n",
    "<!-- approximation of exp(-p) -->\n",
    "<!-- --- end exercise --- -->\n",
    "\n",
    "\n",
    "\n",
    "\n",
    "<!-- --- begin exercise --- -->\n",
    "\n",
    "## Problem 7: Verify the effect of correction terms\n",
    "<div id=\"trunc:exer:decay:corr:verify\"></div>\n",
    "\n",
    "Make a program that solves $u'=-au$, $u(0)=I$, by the $\\theta$-rule\n",
    "and computes convergence rates.  Adjust $a$ such that it incorporates\n",
    "correction terms. Run the program to verify that the error from the\n",
    "Forward and Backward Euler schemes with perturbed $a$ is $\\mathcal{O}{\\Delta\n",
    "t^2}$, while the error arising from the Crank-Nicolson scheme with\n",
    "perturbed $a$ is $\\mathcal{O}{\\Delta t^4}$.\n",
    "Filename: `trunc_decay_corr_verify`.\n",
    "\n",
    "\n",
    "<!-- decay.py from decay book? -->\n",
    "<!-- --- end exercise --- -->\n",
    "\n",
    "\n",
    "\n",
    "\n",
    "<!-- --- begin exercise --- -->\n",
    "\n",
    "## Problem 8: Truncation error of the Crank-Nicolson scheme\n",
    "<div id=\"trunc:exer:decay:varcoeff:CN\"></div>\n",
    "\n",
    "The variable-coefficient ODE $u'=-a(t)u+b(t)$ can be discretized\n",
    "in two different ways by the Crank-Nicolson scheme, depending on\n",
    "whether we use averages for $a$ and $b$ or compute them at\n",
    "the midpoint $t_{n+\\frac{1}{2}}$:"
   ]
  },
  {
   "cell_type": "markdown",
   "metadata": {},
   "source": [
    "<!-- Equation labels as ordinary links -->\n",
    "<div id=\"_auto17\"></div>\n",
    "\n",
    "$$\n",
    "\\begin{equation}\n",
    "\\lbrack D_t u   = -a\\overline{u}^t + b \\rbrack^{n+\\frac{1}{2}},\n",
    "\\label{_auto17} \\tag{86}\n",
    "\\end{equation}\n",
    "$$"
   ]
  },
  {
   "cell_type": "markdown",
   "metadata": {},
   "source": [
    "<!-- Equation labels as ordinary links -->\n",
    "<div id=\"_auto18\"></div>\n",
    "\n",
    "$$\n",
    "\\begin{equation} \n",
    "\\lbrack D_t u   = \\overline{-au+b}^t \\rbrack^{n+\\frac{1}{2}}\n",
    "\\thinspace .\n",
    "\\label{_auto18} \\tag{87}\n",
    "\\end{equation}\n",
    "$$"
   ]
  },
  {
   "cell_type": "markdown",
   "metadata": {},
   "source": [
    "Compute the truncation error in both cases.\n",
    "Filename: `trunc_decay_CN_vc`.\n",
    "\n",
    "<!-- --- end exercise --- -->\n",
    "\n",
    "\n",
    "\n",
    "\n",
    "<!-- --- begin exercise --- -->\n",
    "\n",
    "## Problem 9: Truncation error of $u'=f(u,t)$\n",
    "<div id=\"trunc:exer:decay:nonlin:BEFE\"></div>\n",
    "\n",
    "Consider the general nonlinear first-order scalar ODE"
   ]
  },
  {
   "cell_type": "markdown",
   "metadata": {},
   "source": [
    "$$\n",
    "u'(t) = f(u(t), t)\n",
    "\\thinspace .\n",
    "$$"
   ]
  },
  {
   "cell_type": "markdown",
   "metadata": {},
   "source": [
    "Show that the truncation error in the Forward Euler scheme,"
   ]
  },
  {
   "cell_type": "markdown",
   "metadata": {},
   "source": [
    "$$\n",
    "[D_t^+ u = f(u,t)]^n,\n",
    "$$"
   ]
  },
  {
   "cell_type": "markdown",
   "metadata": {},
   "source": [
    "and in the Backward Euler scheme,"
   ]
  },
  {
   "cell_type": "markdown",
   "metadata": {},
   "source": [
    "$$\n",
    "[D_t^- u = f(u,t)]^n,\n",
    "$$"
   ]
  },
  {
   "cell_type": "markdown",
   "metadata": {},
   "source": [
    "both are of first order, regardless of what $f$ is.\n",
    "\n",
    "Showing the order of the truncation error in the Crank-Nicolson scheme,"
   ]
  },
  {
   "cell_type": "markdown",
   "metadata": {},
   "source": [
    "$$\n",
    "[D_t u = f(u,t)]^{n+\\frac{1}{2}},\n",
    "$$"
   ]
  },
  {
   "cell_type": "markdown",
   "metadata": {},
   "source": [
    "is somewhat more involved: Taylor expand $u^n$, $u^{n+1}$,\n",
    "$f(u^n, t_n)$, and $f(u^{n+1}, t_{n+1})$ around $t_{n+\\frac{1}{2}}$,\n",
    "and use that"
   ]
  },
  {
   "cell_type": "markdown",
   "metadata": {},
   "source": [
    "$$\n",
    "\\frac{df}{dt} = \\frac{\\partial f}{\\partial u}u' + \\frac{\\partial f}{\\partial t}\n",
    "\\thinspace .\n",
    "$$"
   ]
  },
  {
   "cell_type": "markdown",
   "metadata": {},
   "source": [
    "Check that the derived truncation error is consistent with previous\n",
    "results for the case $f(u,t)=-au$.\n",
    "Filename: `trunc_nonlinear_ODE`.\n",
    "\n",
    "<!-- --- end exercise --- -->\n",
    "\n",
    "\n",
    "\n",
    "\n",
    "<!-- --- begin exercise --- -->\n",
    "\n",
    "## Exercise 10: Truncation error of $[D_t D_tu]^n$\n",
    "<div id=\"trunc:exer:DtDtu\"></div>\n",
    "\n",
    "Derive the truncation error of the finite difference approximation\n",
    "([17](#trunc:table:fd2:center:eq))-([18](#trunc:table:fd2:center)) to\n",
    "the second-order derivative.\n",
    "Filename: `trunc_d2u`.\n",
    "\n",
    "<!-- --- end exercise --- -->\n",
    "\n",
    "\n",
    "\n",
    "\n",
    "<!-- --- begin exercise --- -->\n",
    "\n",
    "## Exercise 11: Investigate the impact of approximating $u'(0)$\n",
    "<div id=\"trunc:exer:vib:ic:fw\"></div>\n",
    "\n",
    "The section [Linear model without damping](#trunc:vib:undamped) describes two ways of discretizing\n",
    "the initial condition $u'(0)=V$ for a vibration model\n",
    "$u''+\\omega^2u=0$: a centered difference $[D_{2t}u=V]^0$ or\n",
    "a forward difference $[D_t^+u=V]^0$.\n",
    "The program [`vib_undamped.py`](${src_vib}/vib_undamped.py)\n",
    "solves $u''+\\omega^2u=0$ with $[D_{2t}u=0]^0$ and features\n",
    "a function `convergence_rates` for computing the order of the\n",
    "error in the numerical solution. Modify this program such\n",
    "that it applies the forward difference $[D_t^+u=0]^0$ and\n",
    "report how this simpler and more convenient approximation impacts\n",
    "the overall convergence rate of the scheme.\n",
    "Filename: `trunc_vib_ic_fw`.\n",
    "\n",
    "<!-- --- end exercise --- -->\n",
    "\n",
    "\n",
    "\n",
    "\n",
    "<!-- --- begin exercise --- -->\n",
    "\n",
    "## Problem 12: Investigate the accuracy of a simplified scheme\n",
    "<div id=\"trunc:exer:vib:fbw\"></div>\n",
    "\n",
    "Consider the ODE"
   ]
  },
  {
   "cell_type": "markdown",
   "metadata": {},
   "source": [
    "$$\n",
    "mu'' + \\beta |u'|u' + s(u) = F(t)\\thinspace .\n",
    "$$"
   ]
  },
  {
   "cell_type": "markdown",
   "metadata": {},
   "source": [
    "The term $|u'|u'$ quickly gives rise to nonlinearities and complicates\n",
    "the scheme. Why not simply apply a backward difference to this term\n",
    "such that it only involves known values? That is, we propose to solve"
   ]
  },
  {
   "cell_type": "markdown",
   "metadata": {},
   "source": [
    "$$\n",
    "[mD_tD_tu + \\beta |D_t^-u|D_t^-u + s(u) = F]^n\\thinspace .\n",
    "$$"
   ]
  },
  {
   "cell_type": "markdown",
   "metadata": {},
   "source": [
    "Drop the absolute value for simplicity and find the truncation error\n",
    "of the scheme.\n",
    "Perform numerical experiments with the scheme and compared with the one\n",
    "based on centered differences. Can you illustrate the accuracy loss\n",
    "visually in real computations, or is the asymptotic analysis here\n",
    "mainly of theoretical interest?\n",
    "Filename: `trunc_vib_bw_damping`.\n",
    "\n",
    "<!-- --- end exercise --- -->"
   ]
  }
 ],
 "metadata": {
  "kernelspec": {
   "display_name": "Python 3",
   "language": "python",
   "name": "python3"
  },
  "language_info": {
   "codemirror_mode": {
    "name": "ipython",
    "version": 3
   },
   "file_extension": ".py",
   "mimetype": "text/x-python",
   "name": "python",
   "nbconvert_exporter": "python",
   "pygments_lexer": "ipython3",
   "version": "3.8.3"
  }
 },
 "nbformat": 4,
 "nbformat_minor": 4
}
