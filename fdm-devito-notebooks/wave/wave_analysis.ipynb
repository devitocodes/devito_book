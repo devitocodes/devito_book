{
 "cells": [
  {
   "cell_type": "markdown",
   "metadata": {},
   "source": [
    "<!-- 2DO -->\n",
    "\n",
    "<!-- Explain the concepts of stability, convergence and consistence -->\n",
    "<!-- in trunc and state here too. -->\n",
    "<!-- Explain the relation between von Neumann stability analysis and -->\n",
    "<!-- dispersion relations. -->\n",
    "\n",
    "# Analysis of the difference equations\n",
    "<div id=\"wave:pde1:analysis\"></div>\n",
    "\n",
    "## Properties of the solution of the wave equation\n",
    "<div id=\"wave:pde1:properties\"></div>\n",
    "\n",
    "The wave equation"
   ]
  },
  {
   "cell_type": "markdown",
   "metadata": {},
   "source": [
    "$$\n",
    "\\frac{\\partial^2 u}{\\partial t^2} =\n",
    "c^2 \\frac{\\partial^2 u}{\\partial x^2}\n",
    "$$"
   ]
  },
  {
   "cell_type": "markdown",
   "metadata": {},
   "source": [
    "has solutions of the form"
   ]
  },
  {
   "cell_type": "markdown",
   "metadata": {},
   "source": [
    "<!-- Equation labels as ordinary links -->\n",
    "<div id=\"wave:pde1:gensol\"></div>\n",
    "\n",
    "$$\n",
    "\\begin{equation}\n",
    "u(x,t) = g_R(x-ct) + g_L(x+ct),\n",
    "\\label{wave:pde1:gensol} \\tag{1}\n",
    "\\end{equation}\n",
    "$$"
   ]
  },
  {
   "cell_type": "markdown",
   "metadata": {},
   "source": [
    "for any functions $g_R$ and $g_L$ sufficiently smooth to be differentiated\n",
    "twice. The result follows from inserting ([1](#wave:pde1:gensol))\n",
    "in the wave equation. A function of the form $g_R(x-ct)$ represents a\n",
    "signal\n",
    "moving to the right in time with constant velocity $c$.\n",
    "This feature can be explained as follows.\n",
    "At time $t=0$ the signal looks like $g_R(x)$. Introducing a\n",
    "moving horizontal coordinate $\\xi = x-ct$, we see the function\n",
    "$g_R(\\xi)$ is \"at rest\"\n",
    "in the $\\xi$ coordinate system, and the shape is always\n",
    "the same. Say the $g_R(\\xi)$ function has a peak at $\\xi=0$. This peak\n",
    "is located at $x=ct$, which means that it moves with the velocity\n",
    "$dx/dt=c$ in the $x$ coordinate system. Similarly, $g_L(x+ct)$\n",
    "is a function, initially with shape $g_L(x)$, that moves in the negative\n",
    "$x$ direction with constant velocity $c$ (introduce $\\xi=x+ct$,\n",
    "look at the point $\\xi=0$, $x=-ct$, which has velocity $dx/dt=-c$).\n",
    "\n",
    "With the particular initial conditions"
   ]
  },
  {
   "cell_type": "markdown",
   "metadata": {},
   "source": [
    "$$\n",
    "u(x,0)=I(x),\\quad \\frac{\\partial}{\\partial t}u(x,0) =0,\n",
    "$$"
   ]
  },
  {
   "cell_type": "markdown",
   "metadata": {},
   "source": [
    "we get, with $u$ as in ([1](#wave:pde1:gensol)),"
   ]
  },
  {
   "cell_type": "markdown",
   "metadata": {},
   "source": [
    "$$\n",
    "g_R(x) + g_L(x) = I(x),\\quad -cg_R'(x) + cg_L'(x) = 0\\thinspace .\n",
    "$$"
   ]
  },
  {
   "cell_type": "markdown",
   "metadata": {},
   "source": [
    "The former suggests $g_R=g_L$, and the former then leads to\n",
    "$g_R=g_L=I/2$. Consequently,"
   ]
  },
  {
   "cell_type": "markdown",
   "metadata": {},
   "source": [
    "<!-- Equation labels as ordinary links -->\n",
    "<div id=\"wave:pde1:gensol2\"></div>\n",
    "\n",
    "$$\n",
    "\\begin{equation}\n",
    "u(x,t) = \\frac{1}{2} I(x-ct) + \\frac{1}{2} I(x+ct) \\thinspace .\n",
    "\\label{wave:pde1:gensol2} \\tag{2}\n",
    "\\end{equation}\n",
    "$$"
   ]
  },
  {
   "cell_type": "markdown",
   "metadata": {},
   "source": [
    "The interpretation of ([2](#wave:pde1:gensol2)) is that\n",
    "the initial shape of $u$ is split into two parts, each with the same\n",
    "shape as $I$ but frac{1}{2}\n",
    "of the initial amplitude. One part is traveling to the left and the\n",
    "other one to the right.\n",
    "\n",
    "\n",
    "The solution has two important physical features: constant amplitude\n",
    "of the left and right wave, and constant velocity of these two waves.\n",
    "mathcal{I}_t turns out that the numerical solution will also preserve the\n",
    "constant amplitude, but the velocity depends on the mesh parameters\n",
    "$\\Delta t$ and $\\Delta x$.\n",
    "\n",
    "The solution ([2](#wave:pde1:gensol2)) will be influenced by\n",
    "boundary conditions when the parts\n",
    "$\\frac{1}{2} I(x-ct)$ and $\\frac{1}{2} I(x+ct)$ hit the boundaries and get, e.g.,\n",
    "reflected back into the domain. However, when $I(x)$ is nonzero\n",
    "only in a small part in the middle\n",
    "of the spatial domain $[0,L]$, which means that the\n",
    "boundaries are placed far away from the initial disturbance of $u$,\n",
    "the solution ([2](#wave:pde1:gensol2)) is very clearly observed\n",
    "in a simulation.\n",
    "\n",
    "<!-- plug! -->\n",
    "\n",
    "A useful representation of solutions of wave equations is a linear\n",
    "combination of sine and/or cosine waves. Such a sum of waves is a\n",
    "solution if the governing PDE is linear and each sine or cosine\n",
    "wave fulfills the\n",
    "equation.  To ease analytical calculations by hand we shall work with\n",
    "complex exponential functions instead of real-valued sine or cosine\n",
    "functions. The real part of complex expressions will typically be\n",
    "taken as the physical relevant quantity (whenever a physical relevant\n",
    "quantity is strictly needed).\n",
    "The idea now is to build $I(x)$ of complex wave components\n",
    "$e^{ikx}$:"
   ]
  },
  {
   "cell_type": "markdown",
   "metadata": {},
   "source": [
    "<!-- Equation labels as ordinary links -->\n",
    "<div id=\"wave:Fourier:I\"></div>\n",
    "\n",
    "$$\n",
    "\\begin{equation} I(x) \\approx \\sum_{k\\in K} b_k e^{ikx} \\thinspace .\n",
    "\\label{wave:Fourier:I} \\tag{3}\n",
    "\\end{equation}\n",
    "$$"
   ]
  },
  {
   "cell_type": "markdown",
   "metadata": {},
   "source": [
    "Here, $k$ is the frequency of a component,\n",
    "$K$ is some set of all the discrete\n",
    "$k$ values needed to approximate $I(x)$ well,\n",
    "and $b_k$ are\n",
    "constants that must be determined. We will very seldom\n",
    "need to compute the $b_k$ coefficients: most of the insight\n",
    "we look for, and the understanding of the numerical methods we want to\n",
    "establish, come from\n",
    "investigating how the PDE and the scheme treat a single\n",
    "component $e^{ikx}$ wave.\n",
    "\n",
    "Letting the number of $k$ values in $K$ tend to infinity, makes the sum\n",
    "([3](#wave:Fourier:I)) converge to $I(x)$. This sum is known as a\n",
    "*Fourier series* representation of $I(x)$.  Looking at\n",
    "([2](#wave:pde1:gensol2)), we see that the solution $u(x,t)$, when\n",
    "$I(x)$ is represented as in ([3](#wave:Fourier:I)), is also built of\n",
    "basic complex exponential wave components of the form $e^{ik(x\\pm\n",
    "ct)}$ according to"
   ]
  },
  {
   "cell_type": "markdown",
   "metadata": {},
   "source": [
    "<!-- Equation labels as ordinary links -->\n",
    "<div id=\"wave:Fourier:u1\"></div>\n",
    "\n",
    "$$\n",
    "\\begin{equation}\n",
    "u(x,t) = \\frac{1}{2} \\sum_{k\\in K} b_k e^{ik(x - ct)}\n",
    "+ \\frac{1}{2} \\sum_{k\\in K} b_k e^{ik(x + ct)} \\thinspace .\n",
    "\\label{wave:Fourier:u1} \\tag{4}\n",
    "\\end{equation}\n",
    "$$"
   ]
  },
  {
   "cell_type": "markdown",
   "metadata": {},
   "source": [
    "mathcal{I}_t is common to introduce the frequency in time $\\omega = kc$ and\n",
    "assume that $u(x,t)$ is a sum of basic wave components\n",
    "written as $e^{ikx -\\omega t}$.\n",
    "(Observe that inserting such a wave component in the governing PDE reveals that\n",
    "$\\omega^2 = k^2c^2$, or $\\omega =\\pm kc$, reflecting the\n",
    "two solutions: one ($+kc$) traveling to the right and the other ($-kc$)\n",
    "traveling to the left.)\n",
    "\n",
    "## More precise definition of Fourier representations\n",
    "<div id=\"wave:pde1:Fourier\"></div>\n",
    "\n",
    "The above introduction to function representation by sine and cosine\n",
    "waves was quick and intuitive, but will suffice as background\n",
    "knowledge for the following material of single wave component\n",
    "analysis.\n",
    "However, to understand\n",
    "all details of how different wave components sum up to the analytical\n",
    "and numerical solutions, a more precise mathematical treatment is helpful\n",
    "and therefore summarized below.\n",
    "\n",
    "mathcal{I}_t is well known that periodic functions can be represented by\n",
    "Fourier series. A generalization of the Fourier series idea to\n",
    "non-periodic functions defined on the real line is the *Fourier transform*:"
   ]
  },
  {
   "cell_type": "markdown",
   "metadata": {},
   "source": [
    "<!-- Equation labels as ordinary links -->\n",
    "<div id=\"wave:pde1:Fourier:I\"></div>\n",
    "\n",
    "$$\n",
    "\\begin{equation}\n",
    "I(x) = \\int_{-\\infty}^\\infty A(k)e^{ikx}dk,\n",
    "\\label{wave:pde1:Fourier:I} \\tag{5} \n",
    "\\end{equation}\n",
    "$$"
   ]
  },
  {
   "cell_type": "markdown",
   "metadata": {},
   "source": [
    "<!-- Equation labels as ordinary links -->\n",
    "<div id=\"wave:pde1:Fourier:A\"></div>\n",
    "\n",
    "$$\n",
    "\\begin{equation} \n",
    "A(k) = \\int_{-\\infty}^\\infty I(x)e^{-ikx}dx\\thinspace .\n",
    "\\label{wave:pde1:Fourier:A} \\tag{6}\n",
    "\\end{equation}\n",
    "$$"
   ]
  },
  {
   "cell_type": "markdown",
   "metadata": {},
   "source": [
    "The function $A(k)$ reflects the weight of each wave component $e^{ikx}$\n",
    "in an infinite sum of such wave components. That is, $A(k)$\n",
    "reflects the frequency content in the function $I(x)$. Fourier transforms\n",
    "are particularly fundamental for analyzing and understanding time-varying\n",
    "signals.\n",
    "\n",
    "The solution of the linear 1D wave PDE can be expressed as"
   ]
  },
  {
   "cell_type": "markdown",
   "metadata": {},
   "source": [
    "$$\n",
    "u(x,t) = \\int_{-\\infty}^\\infty A(k)e^{i(kx-\\omega(k)t)}dx\\thinspace .\n",
    "$$"
   ]
  },
  {
   "cell_type": "markdown",
   "metadata": {},
   "source": [
    "In a finite difference method, we represent $u$ by a mesh function\n",
    "$u^n_q$, where $n$ counts temporal mesh points and $q$ counts\n",
    "the spatial ones (the usual counter for spatial points, $i$, is\n",
    "here already used as imaginary unit). Similarly, $I(x)$ is approximated by\n",
    "the mesh function $I_q$, $q=0,\\ldots,N_x$.\n",
    "On a mesh, it does not make sense to work with wave\n",
    "components $e^{ikx}$ for very large $k$, because the shortest possible\n",
    "sine or cosine wave that can be represented uniquely\n",
    "on a mesh with spacing $\\Delta x$\n",
    "is the wave with wavelength $2\\Delta x$. This wave has its peaks\n",
    "and throughs at every two mesh points. That is, the wave \"jumps up and down\"\n",
    "between the mesh points.\n",
    "\n",
    "The corresponding $k$ value for the shortest possible wave in the mesh is\n",
    "$k=2\\pi /(2\\Delta x) = \\pi/\\Delta x$. This maximum frequency is\n",
    "known as the *Nyquist frequency*.\n",
    "Within the range of\n",
    "relevant frequencies $(0,\\pi/\\Delta x]$ one defines\n",
    "the [discrete Fourier transform](htthinspace .://en.wikipedia.org/wiki/Discrete_Fourier_transform), using $N_x+1$ discrete frequencies:"
   ]
  },
  {
   "cell_type": "markdown",
   "metadata": {},
   "source": [
    "<!-- Equation labels as ordinary links -->\n",
    "<div id=\"_auto1\"></div>\n",
    "\n",
    "$$\n",
    "\\begin{equation}\n",
    "I_q = \\frac{1}{N_x+1}\\sum_{k=0}^{N_x} A_k e^{i2\\pi k q/(N_x+1)},\\quad\n",
    "q=0,\\ldots,N_x,\n",
    "\\label{_auto1} \\tag{7}\n",
    "\\end{equation}\n",
    "$$"
   ]
  },
  {
   "cell_type": "markdown",
   "metadata": {},
   "source": [
    "<!-- Equation labels as ordinary links -->\n",
    "<div id=\"_auto2\"></div>\n",
    "\n",
    "$$\n",
    "\\begin{equation} \n",
    "A_k = \\sum_{q=0}^{N_x} I_q e^{-i2\\pi k q/(N_x+1)},\n",
    "\\quad k=0,\\ldots,N_x\\thinspace .\n",
    "\\label{_auto2} \\tag{8}\n",
    "\\end{equation}\n",
    "$$"
   ]
  },
  {
   "cell_type": "markdown",
   "metadata": {},
   "source": [
    "The $A_k$ values represent the discrete Fourier transform of the $I_q$ values,\n",
    "which themselves are the inverse discrete Fourier transform of the $A_k$\n",
    "values.\n",
    "\n",
    "The discrete Fourier transform is efficiently computed by the\n",
    "*Fast Fourier transform* algorithm. For a real function $I(x)$,\n",
    "the relevant Python code for computing and plotting\n",
    "the discrete Fourier transform appears in the example below."
   ]
  },
  {
   "cell_type": "code",
   "execution_count": 1,
   "metadata": {},
   "outputs": [],
   "source": [
    "%matplotlib inline\n",
    "\n",
    "import numpy as np\n",
    "from numpy import sin, pi\n",
    "\n",
    "def I(x):\n",
    "    return sin(2*pi*x) + 0.5*sin(4*pi*x) + 0.1*sin(6*pi*x)\n",
    "\n",
    "# Mesh\n",
    "L = 10; Nx = 100\n",
    "x = np.linspace(0, L, Nx+1)\n",
    "dx = L/float(Nx)\n",
    "\n",
    "# Discrete Fourier transform\n",
    "A = np.fft.rfft(I(x))\n",
    "A_amplitude = np.abs(A)\n",
    "\n",
    "# Compute the corresponding frequencies\n",
    "freqs = np.linspace(0, pi/dx, A_amplitude.size)\n",
    "\n",
    "import matplotlib.pyplot as plt\n",
    "plt.plot(freqs, A_amplitude)\n",
    "plt.show()"
   ]
  },
  {
   "cell_type": "markdown",
   "metadata": {},
   "source": [
    "## Stability\n",
    "<div id=\"wave:pde1:stability\"></div>\n",
    "\n",
    "\n",
    "The scheme"
   ]
  },
  {
   "cell_type": "markdown",
   "metadata": {},
   "source": [
    "<!-- Equation labels as ordinary links -->\n",
    "<div id=\"wave:pde1:analysis:scheme\"></div>\n",
    "\n",
    "$$\n",
    "\\begin{equation}\n",
    "[D_tD_t u = c^2 D_xD_x u]^n_q\n",
    "\\label{wave:pde1:analysis:scheme} \\tag{9}\n",
    "\\end{equation}\n",
    "$$"
   ]
  },
  {
   "cell_type": "markdown",
   "metadata": {},
   "source": [
    "for the wave equation $u_{tt} = c^2u_{xx}$ allows basic wave components"
   ]
  },
  {
   "cell_type": "markdown",
   "metadata": {},
   "source": [
    "$$\n",
    "u^n_q=e^{i(kx_q - \\tilde\\omega t_n)}\n",
    "$$"
   ]
  },
  {
   "cell_type": "markdown",
   "metadata": {},
   "source": [
    "as solution, but it turns out that\n",
    "the frequency in time, $\\tilde\\omega$, is not equal to\n",
    "the exact frequency $\\omega = kc$.  The goal now is to\n",
    "find exactly what $\\tilde \\omega$ is. We ask two key\n",
    "questions:\n",
    "\n",
    " * How accurate is $\\tilde\\omega$\n",
    "   compared to $\\omega$?\n",
    "\n",
    " * Does the amplitude of such a wave component\n",
    "   preserve its (unit) amplitude, as it should,\n",
    "   or does it get amplified or damped in time (because of a complex $\\tilde\\omega$)?\n",
    "\n",
    "The following analysis will answer these questions. We shall\n",
    "continue using $q$ as an identifier for a certain mesh point in\n",
    "the $x$ direction.\n",
    "\n",
    "\n",
    "### Preliminary results\n",
    "\n",
    "A key result needed in the investigations is the finite difference\n",
    "approximation of a second-order derivative acting on a complex\n",
    "wave component:"
   ]
  },
  {
   "cell_type": "markdown",
   "metadata": {},
   "source": [
    "$$\n",
    "[D_tD_t e^{i\\omega t}]^n = -\\frac{4}{\\Delta t^2}\\sin^2\\left(\n",
    "\\frac{\\omega\\Delta t}{2}\\right)e^{i\\omega n\\Delta t}\n",
    "\\thinspace .\n",
    "$$"
   ]
  },
  {
   "cell_type": "markdown",
   "metadata": {},
   "source": [
    "By just changing symbols ($\\omega\\rightarrow k$,\n",
    "$t\\rightarrow x$, $n\\rightarrow q$) it follows that"
   ]
  },
  {
   "cell_type": "markdown",
   "metadata": {},
   "source": [
    "$$\n",
    "[D_xD_x e^{ikx}]_q = -\\frac{4}{\\Delta x^2}\\sin^2\\left(\n",
    "\\frac{k\\Delta x}{2}\\right)e^{ikq\\Delta x} \\thinspace .\n",
    "$$"
   ]
  },
  {
   "cell_type": "markdown",
   "metadata": {},
   "source": [
    "### Numerical wave propagation\n",
    "\n",
    "Inserting a basic wave component $u^n_q=e^{i(kx_q-\\tilde\\omega t_n)}$ in\n",
    "([9](#wave:pde1:analysis:scheme)) results in the need to\n",
    "evaluate two expressions:"
   ]
  },
  {
   "cell_type": "markdown",
   "metadata": {},
   "source": [
    "$$\n",
    "\\lbrack D_tD_t e^{ikx}e^{-i\\tilde\\omega t}\\rbrack^n_q = \\lbrack D_tD_t e^{-i\\tilde\\omega t}\\rbrack^ne^{ikq\\Delta x}\\nonumber\n",
    "$$"
   ]
  },
  {
   "cell_type": "markdown",
   "metadata": {},
   "source": [
    "<!-- Equation labels as ordinary links -->\n",
    "<div id=\"_auto3\"></div>\n",
    "\n",
    "$$\n",
    "\\begin{equation}  = -\\frac{4}{\\Delta t^2}\\sin^2\\left(\n",
    "\\frac{\\tilde\\omega\\Delta t}{2}\\right)e^{-i\\tilde\\omega n\\Delta t}e^{ikq\\Delta x}\n",
    "\\label{_auto3} \\tag{10}\n",
    "\\end{equation}\n",
    "$$"
   ]
  },
  {
   "cell_type": "markdown",
   "metadata": {},
   "source": [
    "$$\n",
    "\\lbrack D_xD_x e^{ikx}e^{-i\\tilde\\omega t}\\rbrack^n_q = \\lbrack D_xD_x e^{ikx}\\rbrack_q e^{-i\\tilde\\omega n\\Delta t}\\nonumber\n",
    "$$"
   ]
  },
  {
   "cell_type": "markdown",
   "metadata": {},
   "source": [
    "<!-- Equation labels as ordinary links -->\n",
    "<div id=\"_auto4\"></div>\n",
    "\n",
    "$$\n",
    "\\begin{equation}  = -\\frac{4}{\\Delta x^2}\\sin^2\\left(\n",
    "\\frac{k\\Delta x}{2}\\right)e^{ikq\\Delta x}e^{-i\\tilde\\omega n\\Delta t} \\thinspace .   \\label{_auto4} \\tag{11}\n",
    "\\end{equation}\n",
    "$$"
   ]
  },
  {
   "cell_type": "markdown",
   "metadata": {},
   "source": [
    "Then the complete scheme,"
   ]
  },
  {
   "cell_type": "markdown",
   "metadata": {},
   "source": [
    "$$\n",
    "\\lbrack D_tD_t e^{ikx}e^{-i\\tilde\\omega t} = c^2D_xD_x e^{ikx}e^{-i\\tilde\\omega t}\\rbrack^n_q\n",
    "$$"
   ]
  },
  {
   "cell_type": "markdown",
   "metadata": {},
   "source": [
    "leads to the following equation for the unknown numerical\n",
    "frequency $\\tilde\\omega$\n",
    "(after dividing by $-e^{ikx}e^{-i\\tilde\\omega t}$):"
   ]
  },
  {
   "cell_type": "markdown",
   "metadata": {},
   "source": [
    "$$\n",
    "\\frac{4}{\\Delta t^2}\\sin^2\\left(\\frac{\\tilde\\omega\\Delta t}{2}\\right)\n",
    "= c^2 \\frac{4}{\\Delta x^2}\\sin^2\\left(\\frac{k\\Delta x}{2}\\right),\n",
    "$$"
   ]
  },
  {
   "cell_type": "markdown",
   "metadata": {},
   "source": [
    "or"
   ]
  },
  {
   "cell_type": "markdown",
   "metadata": {},
   "source": [
    "<!-- Equation labels as ordinary links -->\n",
    "<div id=\"wave:pde1:analysis:sineq1\"></div>\n",
    "\n",
    "$$\n",
    "\\begin{equation}\n",
    "\\sin^2\\left(\\frac{\\tilde\\omega\\Delta t}{2}\\right)\n",
    "= C^2\\sin^2\\left(\\frac{k\\Delta x}{2}\\right),\n",
    "\\label{wave:pde1:analysis:sineq1} \\tag{12}\n",
    "\\end{equation}\n",
    "$$"
   ]
  },
  {
   "cell_type": "markdown",
   "metadata": {},
   "source": [
    "where"
   ]
  },
  {
   "cell_type": "markdown",
   "metadata": {},
   "source": [
    "<!-- Equation labels as ordinary links -->\n",
    "<div id=\"_auto5\"></div>\n",
    "\n",
    "$$\n",
    "\\begin{equation}\n",
    "C = \\frac{c\\Delta t}{\\Delta x}\n",
    "\\label{_auto5} \\tag{13}\n",
    "\\end{equation}\n",
    "$$"
   ]
  },
  {
   "cell_type": "markdown",
   "metadata": {},
   "source": [
    "is the Courant number.\n",
    "Taking the square root of ([12](#wave:pde1:analysis:sineq1)) yields"
   ]
  },
  {
   "cell_type": "markdown",
   "metadata": {},
   "source": [
    "<!-- Equation labels as ordinary links -->\n",
    "<div id=\"wave:pde1:analysis:sineq2\"></div>\n",
    "\n",
    "$$\n",
    "\\begin{equation}\n",
    "\\sin\\left(\\frac{\\tilde\\omega\\Delta t}{2}\\right)\n",
    "= C\\sin\\left(\\frac{k\\Delta x}{2}\\right),\n",
    "\\label{wave:pde1:analysis:sineq2} \\tag{14}\n",
    "\\end{equation}\n",
    "$$"
   ]
  },
  {
   "cell_type": "markdown",
   "metadata": {},
   "source": [
    "Since the exact $\\omega$ is real it is reasonable to look for a real\n",
    "solution $\\tilde\\omega$ of ([14](#wave:pde1:analysis:sineq2)).\n",
    "The right-hand side of\n",
    "([14](#wave:pde1:analysis:sineq2)) must then be in $[-1,1]$ because\n",
    "the sine function on the left-hand side has values in $[-1,1]$\n",
    "for real $\\tilde\\omega$. The magnitude of the sine function on\n",
    "the right-hand side attains the value 1 when"
   ]
  },
  {
   "cell_type": "markdown",
   "metadata": {},
   "source": [
    "$$\n",
    "\\frac{k\\Delta x}{2} = \\frac{\\pi}{2} + m\\pi,\\quad m\\in\\Integer\n",
    "\\thinspace .\n",
    "$$"
   ]
  },
  {
   "cell_type": "markdown",
   "metadata": {},
   "source": [
    "With $m=0$ we have $k\\Delta x = \\pi$, which means that\n",
    "the wavelength $\\lambda = 2\\pi/k$ becomes $2\\Delta x$. This is\n",
    "the absolutely shortest wavelength that can be represented on the mesh:\n",
    "the wave jumps up and down between each mesh point. Larger values of $|m|$\n",
    "are irrelevant since these correspond to $k$ values whose\n",
    "waves are too short to be represented\n",
    "on a mesh with spacing $\\Delta x$.\n",
    "For the shortest possible wave in the mesh, $\\sin\\left(k\\Delta x/2\\right)=1$,\n",
    "and we must require"
   ]
  },
  {
   "cell_type": "markdown",
   "metadata": {},
   "source": [
    "<!-- Equation labels as ordinary links -->\n",
    "<div id=\"wave:pde1:stability:crit\"></div>\n",
    "\n",
    "$$\n",
    "\\begin{equation}\n",
    "C\\leq 1 \\thinspace .\n",
    "\\label{wave:pde1:stability:crit} \\tag{15}\n",
    "\\end{equation}\n",
    "$$"
   ]
  },
  {
   "cell_type": "markdown",
   "metadata": {},
   "source": [
    "Consider a right-hand side in ([14](#wave:pde1:analysis:sineq2)) of\n",
    "magnitude larger\n",
    "than unity. The solution $\\tilde\\omega$ of ([14](#wave:pde1:analysis:sineq2))\n",
    "must then be a complex number\n",
    "$\\tilde\\omega = \\tilde\\omega_r + i\\tilde\\omega_i$ because\n",
    "the sine function is larger than unity for a complex argument.\n",
    "One can show that for any $\\omega_i$  there will also be a\n",
    "corresponding solution with $-\\omega_i$. The component with $\\omega_i>0$\n",
    "gives an amplification factor $e^{\\omega_it}$ that grows exponentially\n",
    "in time. We cannot allow this and must therefore require $C\\leq 1$\n",
    "as a *stability criterion*.\n",
    "\n",
    "**Remark on the stability requirement.**\n",
    "\n",
    "For smoother wave components with longer wave lengths per length $\\Delta x$,\n",
    "([15](#wave:pde1:stability:crit)) can in theory be relaxed. However,\n",
    "small round-off errors are always present in a numerical solution and these\n",
    "vary arbitrarily from mesh point to mesh point and can be viewed as\n",
    "unavoidable noise with wavelength $2\\Delta x$. As explained, $C>1$\n",
    "will for this very small noise lead to exponential growth of\n",
    "the shortest possible wave component in the mesh. This noise will\n",
    "therefore grow with time and destroy the whole solution.\n",
    "\n",
    "\n",
    "\n",
    "## Numerical dispersion relation\n",
    "<div id=\"wave:pde1:num:dispersion\"></div>\n",
    "\n",
    "\n",
    "Equation ([14](#wave:pde1:analysis:sineq2)) can be solved with respect\n",
    "to $\\tilde\\omega$:"
   ]
  },
  {
   "cell_type": "markdown",
   "metadata": {},
   "source": [
    "<!-- Equation labels as ordinary links -->\n",
    "<div id=\"wave:pde1:disprel\"></div>\n",
    "\n",
    "$$\n",
    "\\begin{equation}\n",
    "\\tilde\\omega = \\frac{2}{\\Delta t}\n",
    "\\sin^{-1}\\left( C\\sin\\left(\\frac{k\\Delta x}{2}\\right)\\right) \\thinspace .\n",
    "\\label{wave:pde1:disprel} \\tag{16}\n",
    "\\end{equation}\n",
    "$$"
   ]
  },
  {
   "cell_type": "markdown",
   "metadata": {},
   "source": [
    "The relation between the numerical frequency $\\tilde\\omega$ and\n",
    "the other parameters $k$, $c$, $\\Delta x$, and $\\Delta t$ is called\n",
    "a *numerical dispersion relation*. Correspondingly,\n",
    "$\\omega =kc$ is the *analytical dispersion relation*.\n",
    "In general, dispersion refers to the phenomenon where the wave\n",
    "velocity depends on the spatial frequency ($k$, or the\n",
    "wave length $\\lambda = 2\\pi/k$) of the wave.\n",
    "Since the wave velocity is $\\omega/k =c$, we realize that the\n",
    "analytical dispersion relation reflects the fact that there is no\n",
    "dispersion. However, in a numerical scheme we have dispersive waves\n",
    "where the wave velocity depends on $k$.\n",
    "\n",
    "The special case $C=1$ deserves attention since then the right-hand side\n",
    "of ([16](#wave:pde1:disprel)) reduces to"
   ]
  },
  {
   "cell_type": "markdown",
   "metadata": {},
   "source": [
    "$$\n",
    "\\frac{2}{\\Delta t}\\frac{k\\Delta x}{2} = \\frac{1}{\\Delta t}\n",
    "\\frac{\\omega\\Delta x}{c} = \\frac{\\omega}{C} = \\omega \\thinspace .\n",
    "$$"
   ]
  },
  {
   "cell_type": "markdown",
   "metadata": {},
   "source": [
    "That is, $\\tilde\\omega = \\omega$ and the numerical solution is exact\n",
    "at all mesh points regardless of $\\Delta x$ and $\\Delta t$!\n",
    "This implies that the numerical solution method is also an analytical\n",
    "solution method, at least for computing $u$ at discrete points (the\n",
    "numerical method says nothing about the\n",
    "variation of $u$ *between* the mesh points, and employing the\n",
    "common linear interpolation for extending the discrete solution\n",
    "gives a curve that in general deviates from the exact one).\n",
    "\n",
    "For a closer examination of the error in the numerical dispersion\n",
    "relation when $C<1$, we can study\n",
    "$\\tilde\\omega -\\omega$, $\\tilde\\omega/\\omega$, or the similar\n",
    "error measures in wave velocity: $\\tilde c - c$ and $\\tilde c/c$,\n",
    "where $c=\\omega /k$ and $\\tilde c = \\tilde\\omega /k$.\n",
    "mathcal{I}_t appears that the most convenient expression to work with is $\\tilde c/c$,\n",
    "since it can be written as a function of just two parameters:"
   ]
  },
  {
   "cell_type": "markdown",
   "metadata": {},
   "source": [
    "$$\n",
    "\\frac{\\tilde c}{c} = \\frac{1}{Cp}{\\sin}^{-1}\\left(C\\sin p\\right),\n",
    "$$"
   ]
  },
  {
   "cell_type": "markdown",
   "metadata": {},
   "source": [
    "with $p=k\\Delta x/2$ as a non-dimensional measure of the spatial frequency.\n",
    "In essence, $p$ tells how many spatial mesh points we have per\n",
    "wave length in space for the wave component with frequency $k$ (recall\n",
    "that the wave\n",
    "length is $2\\pi/k$). That is, $p$ reflects how well the\n",
    "spatial variation of the wave component\n",
    "is resolved in the mesh. Wave components with wave length\n",
    "less than $2\\Delta x$ ($2\\pi/k < 2\\Delta x$) are not visible in the mesh,\n",
    "so it does not make sense to have $p>\\pi/2$.\n",
    "\n",
    "We may introduce the function $r(C, p)=\\tilde c/c$ for further investigation\n",
    "of numerical errors in the wave velocity:"
   ]
  },
  {
   "cell_type": "markdown",
   "metadata": {},
   "source": [
    "<!-- Equation labels as ordinary links -->\n",
    "<div id=\"wave:pde1:disprel2\"></div>\n",
    "\n",
    "$$\n",
    "\\begin{equation}\n",
    "r(C, p) = \\frac{1}{Cp}{\\sin}^{-1}\\left(C\\sin p\\right), \\quad C\\in (0,1],\\ p\\in (0,\\pi/2] \\thinspace .\n",
    "\\label{wave:pde1:disprel2} \\tag{17}\n",
    "\\end{equation}\n",
    "$$"
   ]
  },
  {
   "cell_type": "markdown",
   "metadata": {},
   "source": [
    "This function is very well suited for plotting since it combines several\n",
    "parameters in the problem into a dependence on two dimensionless\n",
    "numbers, $C$ and $p$.\n",
    "\n",
    "<!-- dom:FIGURE: [fig-wave/disprel.png, width=600 frac=0.9]  The fractional error in the wave velocity for different Courant numbers.  <div id=\"wave:pde1:fig:disprel\"></div> -->\n",
    "<!-- begin figure -->\n",
    "<div id=\"wave:pde1:fig:disprel\"></div>\n",
    "\n",
    "<p>The fractional error in the wave velocity for different Courant numbers.</p>\n",
    "<img src=\"fig-wave/disprel.png\" width=600>\n",
    "\n",
    "<!-- end figure -->\n",
    "\n",
    "\n",
    "Defining"
   ]
  },
  {
   "cell_type": "markdown",
   "metadata": {},
   "source": [
    "        def r(C, p):\n",
    "            return 2/(C*p)*asin(C*sin(p))\n"
   ]
  },
  {
   "cell_type": "markdown",
   "metadata": {},
   "source": [
    "we can plot $r(C,p)$ as a function of $p$ for various values of\n",
    "$C$, see [Figure](#wave:pde1:fig:disprel). Note that the shortest\n",
    "waves have the most erroneous velocity, and that short waves move\n",
    "more slowly than they should.\n",
    "\n",
    "\n",
    "We can also easily make a Taylor series expansion in the\n",
    "discretization parameter $p$:"
   ]
  },
  {
   "cell_type": "code",
   "execution_count": 2,
   "metadata": {},
   "outputs": [],
   "source": [
    "import sympy as sym\n",
    "C, p = sym.symbols('C p')\n",
    "# Compute the 7 first terms around p=0 with no O() term\n",
    "rs = r(C, p).series(p, 0, 7).removeO()\n",
    "rs"
   ]
  },
  {
   "cell_type": "code",
   "execution_count": 3,
   "metadata": {},
   "outputs": [],
   "source": [
    "# Pick out the leading order term, but drop the constant 1\n",
    "rs_error_leading_order = (rs - 1).extract_leading_order(p)\n",
    "rs_error_leading_order"
   ]
  },
  {
   "cell_type": "code",
   "execution_count": 4,
   "metadata": {},
   "outputs": [],
   "source": [
    "# Turn the series expansion into a Python function\n",
    "rs_pyfunc = lambdify([C, p], rs, modules='numpy')"
   ]
  },
  {
   "cell_type": "code",
   "execution_count": 5,
   "metadata": {},
   "outputs": [],
   "source": [
    "# Check: rs_pyfunc is exact (=1) for C=1\n",
    "rs_pyfunc(1, 0.1)"
   ]
  },
  {
   "cell_type": "markdown",
   "metadata": {},
   "source": [
    "Note that without the `.removeO()` call the series gets an `O(x**7)` term\n",
    "that makes it impossible to convert the series to a Python function\n",
    "(for, e.g., plotting).\n",
    "\n",
    "From the `rs_error_leading_order` expression above, we see that the leading\n",
    "order term in the error of this series expansion is"
   ]
  },
  {
   "cell_type": "markdown",
   "metadata": {},
   "source": [
    "<!-- Equation labels as ordinary links -->\n",
    "<div id=\"_auto6\"></div>\n",
    "\n",
    "$$\n",
    "\\begin{equation}\n",
    "\\frac{1}{6}\\left(\\frac{k\\Delta x}{2}\\right)^2(C^2-1)\n",
    "= \\frac{k^2}{24}\\left( c^2\\Delta t^2 - \\Delta x^2\\right),\n",
    "\\label{_auto6} \\tag{18}\n",
    "\\end{equation}\n",
    "$$"
   ]
  },
  {
   "cell_type": "markdown",
   "metadata": {},
   "source": [
    "pointing to an error $\\Oof{\\Delta t^2, \\Delta x^2}$, which is\n",
    "compatible with the errors in the difference approximations ($D_tD_tu$\n",
    "and $D_xD_xu$).\n",
    "\n",
    "We can do more with a series expansion, e.g., factor it to see how\n",
    "the factor $C-1$ plays a significant role.\n",
    "To this end, we make a list of the terms, factor each term,\n",
    "and then sum the terms:"
   ]
  },
  {
   "cell_type": "code",
   "execution_count": 6,
   "metadata": {},
   "outputs": [],
   "source": [
    "rs = r(C, p).series(p, 0, 4).removeO().as_ordered_terms()\n",
    "rs"
   ]
  },
  {
   "cell_type": "code",
   "execution_count": 7,
   "metadata": {},
   "outputs": [],
   "source": [
    "rs = [factor(t) for t in rs]\n",
    "rs"
   ]
  },
  {
   "cell_type": "code",
   "execution_count": 8,
   "metadata": {},
   "outputs": [],
   "source": [
    "rs = sum(rs)  # Python's sum function sums the list\n",
    "rs"
   ]
  },
  {
   "cell_type": "markdown",
   "metadata": {},
   "source": [
    "We see from the last expression\n",
    "that $C=1$ makes all the terms in `rs` vanish.\n",
    "Since we already know that the numerical solution is exact for $C=1$, the\n",
    "remaining terms in the Taylor series expansion\n",
    "will also contain factors of $C-1$ and cancel for $C=1$.\n",
    "\n",
    "\n",
    "<!-- 2DO -->\n",
    "<!-- Test that the exact solution is there for $K=\\{ 1, 3, 7\\}$! Give the -->\n",
    "<!-- $k$ values on the command line. -->\n",
    "\n",
    "\n",
    "## Extending the analysis to 2D and 3D\n",
    "<div id=\"wave:pde1:analysis:2D3D\"></div>\n",
    "\n",
    "The typical analytical solution of a 2D wave equation"
   ]
  },
  {
   "cell_type": "markdown",
   "metadata": {},
   "source": [
    "$$\n",
    "u_{tt} = c^2(u_{xx} + u_{yy}),\n",
    "$$"
   ]
  },
  {
   "cell_type": "markdown",
   "metadata": {},
   "source": [
    "is a wave traveling in the direction of $\\kk = k_x\\ii + k_y\\jj$, where\n",
    "$\\ii$ and $\\jj$ are unit vectors in the $x$ and $y$ directions, respectively\n",
    "($\\ii$ should not be confused with $i=\\sqrt{-1}$ here).\n",
    "Such a wave can be expressed by"
   ]
  },
  {
   "cell_type": "markdown",
   "metadata": {},
   "source": [
    "$$\n",
    "u(x,y,t) = g(k_xx + k_yy - kct)\n",
    "$$"
   ]
  },
  {
   "cell_type": "markdown",
   "metadata": {},
   "source": [
    "for some twice differentiable function $g$, or with $\\omega =kc$, $k=|\\kk|$:"
   ]
  },
  {
   "cell_type": "markdown",
   "metadata": {},
   "source": [
    "$$\n",
    "u(x,y,t) = g(k_xx + k_yy - \\omega t)\\thinspace .\n",
    "$$"
   ]
  },
  {
   "cell_type": "markdown",
   "metadata": {},
   "source": [
    "We can, in particular, build a solution by adding complex Fourier components\n",
    "of the form"
   ]
  },
  {
   "cell_type": "markdown",
   "metadata": {},
   "source": [
    "$$\n",
    "e^{(i(k_xx + k_yy - \\omega t))}\n",
    "\\thinspace .\n",
    "$$"
   ]
  },
  {
   "cell_type": "markdown",
   "metadata": {},
   "source": [
    "A discrete 2D wave equation can be written as"
   ]
  },
  {
   "cell_type": "markdown",
   "metadata": {},
   "source": [
    "<!-- Equation labels as ordinary links -->\n",
    "<div id=\"wave:pde1:analysis:scheme2D\"></div>\n",
    "\n",
    "$$\n",
    "\\begin{equation}\n",
    "\\lbrack D_tD_t u = c^2(D_xD_x u + D_yD_y u)\\rbrack^n_{q,r}\n",
    "\\thinspace .\n",
    "\\label{wave:pde1:analysis:scheme2D} \\tag{19}\n",
    "\\end{equation}\n",
    "$$"
   ]
  },
  {
   "cell_type": "markdown",
   "metadata": {},
   "source": [
    "This equation admits a Fourier component"
   ]
  },
  {
   "cell_type": "markdown",
   "metadata": {},
   "source": [
    "<!-- Equation labels as ordinary links -->\n",
    "<div id=\"wave:pde1:analysis:numsol2D\"></div>\n",
    "\n",
    "$$\n",
    "\\begin{equation}\n",
    "u^n_{q,r} = e^{\\left( i(k_x q\\Delta x + k_y r\\Delta y -\n",
    "\\tilde\\omega n\\Delta t)\\right)},\n",
    "\\label{wave:pde1:analysis:numsol2D} \\tag{20}\n",
    "\\end{equation}\n",
    "$$"
   ]
  },
  {
   "cell_type": "markdown",
   "metadata": {},
   "source": [
    "as solution. Letting the operators $D_tD_t$, $D_xD_x$, and $D_yD_y$\n",
    "act on $u^n_{q,r}$ from ([20](#wave:pde1:analysis:numsol2D)) transforms\n",
    "([19](#wave:pde1:analysis:scheme2D)) to"
   ]
  },
  {
   "cell_type": "markdown",
   "metadata": {},
   "source": [
    "<!-- Equation labels as ordinary links -->\n",
    "<div id=\"_auto7\"></div>\n",
    "\n",
    "$$\n",
    "\\begin{equation}\n",
    "\\frac{4}{\\Delta t^2}\\sin^2\\left(\\frac{\\tilde\\omega\\Delta t}{2}\\right)\n",
    "= c^2 \\frac{4}{\\Delta x^2}\\sin^2\\left(\\frac{k_x\\Delta x}{2}\\right)\n",
    "+ c^2 \\frac{4}{\\Delta y^2}\\sin^2\\left(\\frac{k_y\\Delta y}{2}\\right) \\thinspace .   \\label{_auto7} \\tag{21}\n",
    "\\end{equation}\n",
    "$$"
   ]
  },
  {
   "cell_type": "markdown",
   "metadata": {},
   "source": [
    "or"
   ]
  },
  {
   "cell_type": "markdown",
   "metadata": {},
   "source": [
    "<!-- Equation labels as ordinary links -->\n",
    "<div id=\"_auto8\"></div>\n",
    "\n",
    "$$\n",
    "\\begin{equation}\n",
    "\\sin^2\\left(\\frac{\\tilde\\omega\\Delta t}{2}\\right)\n",
    "= C_x^2\\sin^2 p_x\n",
    "+ C_y^2\\sin^2 p_y,  \\label{_auto8} \\tag{22}\n",
    "\\end{equation}\n",
    "$$"
   ]
  },
  {
   "cell_type": "markdown",
   "metadata": {},
   "source": [
    "where we have eliminated the factor 4 and introduced the symbols"
   ]
  },
  {
   "cell_type": "markdown",
   "metadata": {},
   "source": [
    "$$\n",
    "C_x = \\frac{c\\Delta t}{\\Delta x},\\quad\n",
    "C_y = \\frac{c\\Delta t}{\\Delta y}, \\quad\n",
    "p_x = \\frac{k_x\\Delta x}{2},\\quad\n",
    "p_y = \\frac{k_y\\Delta y}{2}\\thinspace .\n",
    "$$"
   ]
  },
  {
   "cell_type": "markdown",
   "metadata": {},
   "source": [
    "For a real-valued $\\tilde\\omega$ the right-hand side\n",
    "must be less than or equal to unity in absolute value, requiring in general\n",
    "that"
   ]
  },
  {
   "cell_type": "markdown",
   "metadata": {},
   "source": [
    "<!-- Equation labels as ordinary links -->\n",
    "<div id=\"wave:pde1:analysis:2DstabC\"></div>\n",
    "\n",
    "$$\n",
    "\\begin{equation}\n",
    "C_x^2 + C_y^2 \\leq 1 \\thinspace .\n",
    "\\label{wave:pde1:analysis:2DstabC} \\tag{23}\n",
    "\\end{equation}\n",
    "$$"
   ]
  },
  {
   "cell_type": "markdown",
   "metadata": {},
   "source": [
    "This gives the stability criterion, more commonly expressed directly\n",
    "in an inequality for the time step:"
   ]
  },
  {
   "cell_type": "markdown",
   "metadata": {},
   "source": [
    "<!-- Equation labels as ordinary links -->\n",
    "<div id=\"wave:pde1:analysis:2Dstab\"></div>\n",
    "\n",
    "$$\n",
    "\\begin{equation}\n",
    "\\Delta t \\leq \\frac{1}{c} \\left( \\frac{1}{\\Delta x^2} +\n",
    "\\frac{1}{\\Delta y^2}\\right)^{-\\frac{1}{2}i}\n",
    "\\label{wave:pde1:analysis:2Dstab} \\tag{24}\n",
    "\\end{equation}\n",
    "$$"
   ]
  },
  {
   "cell_type": "markdown",
   "metadata": {},
   "source": [
    "A similar, straightforward analysis for the 3D case leads to"
   ]
  },
  {
   "cell_type": "markdown",
   "metadata": {},
   "source": [
    "<!-- Equation labels as ordinary links -->\n",
    "<div id=\"_auto9\"></div>\n",
    "\n",
    "$$\n",
    "\\begin{equation}\n",
    "\\Delta t \\leq \\frac{1}{c}\\left( \\frac{1}{\\Delta x^2} +\n",
    "\\frac{1}{\\Delta y^2} + \\frac{1}{\\Delta z^2}\\right)^{-\\frac{1}{2}i}\n",
    "\\label{_auto9} \\tag{25}\n",
    "\\end{equation}\n",
    "$$"
   ]
  },
  {
   "cell_type": "markdown",
   "metadata": {},
   "source": [
    "In the case of a variable coefficient $c^2=c^2(\\xpoint)$, we must use\n",
    "the worst-case value"
   ]
  },
  {
   "cell_type": "markdown",
   "metadata": {},
   "source": [
    "<!-- Equation labels as ordinary links -->\n",
    "<div id=\"_auto10\"></div>\n",
    "\n",
    "$$\n",
    "\\begin{equation}\n",
    "\\bar c = \\sqrt{\\max_{\\xpoint\\in\\Omega} c^2(\\xpoint)}\n",
    "\\label{_auto10} \\tag{26}\n",
    "\\end{equation}\n",
    "$$"
   ]
  },
  {
   "cell_type": "markdown",
   "metadata": {},
   "source": [
    "in the stability criteria. Often, especially in the variable wave\n",
    "velocity case, it is wise to introduce a safety factor $\\beta\\in (0,1]$ too:"
   ]
  },
  {
   "cell_type": "markdown",
   "metadata": {},
   "source": [
    "<!-- Equation labels as ordinary links -->\n",
    "<div id=\"_auto11\"></div>\n",
    "\n",
    "$$\n",
    "\\begin{equation}\n",
    "\\Delta t \\leq \\beta \\frac{1}{\\bar c}\n",
    "\\left( \\frac{1}{\\Delta x^2} +\n",
    "\\frac{1}{\\Delta y^2} + \\frac{1}{\\Delta z^2}\\right)^{-\\frac{1}{2}i}\n",
    "\\label{_auto11} \\tag{27}\n",
    "\\end{equation}\n",
    "$$"
   ]
  },
  {
   "cell_type": "markdown",
   "metadata": {},
   "source": [
    "The exact numerical dispersion relations in 2D and 3D becomes, for constant $c$,"
   ]
  },
  {
   "cell_type": "markdown",
   "metadata": {},
   "source": [
    "<!-- Equation labels as ordinary links -->\n",
    "<div id=\"_auto12\"></div>\n",
    "\n",
    "$$\n",
    "\\begin{equation}\n",
    "\\tilde\\omega = \\frac{2}{\\Delta t}\\sin^{-1}\\left(\n",
    "\\left( C_x^2\\sin^2 p_x + C_y^2\\sin^2 p_y\\right)^\\frac{1}{2}\\right),\n",
    "\\label{_auto12} \\tag{28}\n",
    "\\end{equation}\n",
    "$$"
   ]
  },
  {
   "cell_type": "markdown",
   "metadata": {},
   "source": [
    "<!-- Equation labels as ordinary links -->\n",
    "<div id=\"_auto13\"></div>\n",
    "\n",
    "$$\n",
    "\\begin{equation} \n",
    "\\tilde\\omega = \\frac{2}{\\Delta t}\\sin^{-1}\\left(\n",
    "\\left( C_x^2\\sin^2 p_x + C_y^2\\sin^2 p_y + C_z^2\\sin^2 p_z\\right)^\\frac{1}{2}\\right)\\thinspace .\n",
    "\\label{_auto13} \\tag{29}\n",
    "\\end{equation}\n",
    "$$"
   ]
  },
  {
   "cell_type": "markdown",
   "metadata": {},
   "source": [
    "We can visualize the numerical dispersion error in 2D much like we did\n",
    "in 1D. To this end, we need to reduce the number of parameters in\n",
    "$\\tilde\\omega$. The direction of the wave is parameterized by the\n",
    "polar angle $\\theta$, which means that"
   ]
  },
  {
   "cell_type": "markdown",
   "metadata": {},
   "source": [
    "$$\n",
    "k_x = k\\sin\\theta,\\quad k_y=k\\cos\\theta\\thinspace .\n",
    "$$"
   ]
  },
  {
   "cell_type": "markdown",
   "metadata": {},
   "source": [
    "A simplification is to set $\\Delta x=\\Delta y=h$.\n",
    "Then $C_x=C_y=c\\Delta t/h$, which we call $C$. Also,"
   ]
  },
  {
   "cell_type": "markdown",
   "metadata": {},
   "source": [
    "$$\n",
    "p_x=\\frac{1}{2} kh\\cos\\theta,\\quad p_y=\\frac{1}{2} kh\\sin\\theta\\thinspace .\n",
    "$$"
   ]
  },
  {
   "cell_type": "markdown",
   "metadata": {},
   "source": [
    "The numerical frequency $\\tilde\\omega$\n",
    "is now a function of three parameters:\n",
    "\n",
    "  * $C$, reflecting the number of cells a wave is displaced during a time step,\n",
    "\n",
    "  * $p=\\frac{1}{2} kh$, reflecting the number of cells per wave length in space,\n",
    "\n",
    "  * $\\theta$, expressing the direction of the wave.\n",
    "\n",
    "We want to visualize the error in the numerical frequency. To avoid having\n",
    "$\\Delta t$ as a free parameter in $\\tilde\\omega$, we work with\n",
    "$\\tilde c/c = \\tilde\\omega/(kc)$. The coefficient in front of the\n",
    "$\\sin^{-1}$ factor is then"
   ]
  },
  {
   "cell_type": "markdown",
   "metadata": {},
   "source": [
    "$$\n",
    "\\frac{2}{kc\\Delta t} = \\frac{2}{2kc\\Delta t h/h} =\n",
    "\\frac{1}{Ckh} = \\frac{2}{Cp},\n",
    "$$"
   ]
  },
  {
   "cell_type": "markdown",
   "metadata": {},
   "source": [
    "and"
   ]
  },
  {
   "cell_type": "markdown",
   "metadata": {},
   "source": [
    "$$\n",
    "\\frac{\\tilde c}{c} = \\frac{2}{Cp}\n",
    "\\sin^{-1}\\left(C\\left(\\sin^2 (p\\cos\\theta)\n",
    "+ \\sin^2(p\\sin\\theta) \\right)^\\frac{1}{2}\\right)\\thinspace .\n",
    "$$"
   ]
  },
  {
   "cell_type": "markdown",
   "metadata": {},
   "source": [
    "We want to visualize this quantity as a function of\n",
    "$p$ and $\\theta$ for some values of $C\\leq 1$. mathcal{I}_t is\n",
    "instructive\n",
    "to make color contour plots of $1-\\tilde c/c$ in\n",
    "*polar coordinates* with $\\theta$ as the angular coordinate and\n",
    "$p$ as the radial coordinate.\n",
    "\n",
    "The stability criterion ([23](#wave:pde1:analysis:2DstabC))\n",
    "becomes $C\\leq C_{\\max} = 1/\\sqrt{2}$ in the present 2D case with the\n",
    "$C$ defined above. Let us plot $1-\\tilde c/c$ in polar coordinates\n",
    "for $C_{\\max}, 0.9C_{\\max}, 0.5C_{\\max}, 0.2C_{\\max}$.\n",
    "The program below does the somewhat tricky\n",
    "work in Mathinspace .lotlib, and the result appears\n",
    "in [Figure](#wave:pde1:fig:disprel2D). From the figure we clearly\n",
    "see that the maximum $C$ value gives the best results, and that\n",
    "waves whose propagation direction makes an angle of 45 degrees with\n",
    "an axis are the most accurate."
   ]
  },
  {
   "cell_type": "code",
   "execution_count": 9,
   "metadata": {},
   "outputs": [],
   "source": [
    "def dispersion_relation_2D(p, theta, C):\n",
    "    arg = C*sqrt(sin(p*cos(theta))**2 +\n",
    "                 sin(p*sin(theta))**2)\n",
    "    c_frac = 2./(C*p)*arcsin(arg)\n",
    "\n",
    "    return c_frac\n",
    "\n",
    "import numpy as np\n",
    "from numpy import \\\n",
    "     cos, sin, arcsin, sqrt, pi  # for nicer math formulas\n",
    "\n",
    "r = p = np.linspace(0.001, pi/2, 101)\n",
    "theta = np.linspace(0, 2*pi, 51)\n",
    "r, theta = np.meshgrid(r, theta)\n",
    "\n",
    "# Make 2x2 filled contour plots for 4 values of C\n",
    "import matplotlib.pyplot as plt\n",
    "C_max = 1/sqrt(2)\n",
    "C = [[C_max, 0.9*C_max], [0.5*C_max, 0.2*C_max]]\n",
    "fix, axes = plt.subplots(2, 2, subplot_kw=dict(polar=True))\n",
    "for row in range(2):\n",
    "    for column in range(2):\n",
    "        error = 1 - dispersion_relation_2D(\n",
    "            p, theta, C[row][column])\n",
    "        print error.min(), error.max()\n",
    "        # use vmin=error.min(), vmax=error.max()\n",
    "        cax = axes[row][column].contourf(\n",
    "            theta, r, error, 50, vmin=-1, vmax=-0.28)\n",
    "        axes[row][column].set_xticks([])\n",
    "        axes[row][column].set_yticks([])\n",
    "\n",
    "# Add colorbar to the last plot\n",
    "cbar = plt.colorbar(cax)\n",
    "cbar.ax.set_ylabel('error in wave velocity')\n",
    "plt.savefig('disprel2D.png');  plt.savefig('disprel2D.pdf')\n",
    "plt.show()"
   ]
  },
  {
   "cell_type": "markdown",
   "metadata": {},
   "source": [
    "<!-- dom:FIGURE: [fig-wave/disprel2D.png, width=600] Error in numerical dispersion in 2D. <div id=\"wave:pde1:fig:disprel2D\"></div> -->\n",
    "<!-- begin figure -->\n",
    "<div id=\"wave:pde1:fig:disprel2D\"></div>\n",
    "\n",
    "<p>Error in numerical dispersion in 2D.</p>\n",
    "<img src=\"fig-wave/disprel2D.png\" width=600>\n",
    "\n",
    "<!-- end figure -->"
   ]
  }
 ],
 "metadata": {
  "kernelspec": {
   "display_name": "Python 3",
   "language": "python",
   "name": "python3"
  },
  "language_info": {
   "codemirror_mode": {
    "name": "ipython",
    "version": 3
   },
   "file_extension": ".py",
   "mimetype": "text/x-python",
   "name": "python",
   "nbconvert_exporter": "python",
   "pygments_lexer": "ipython3",
   "version": "3.8.3"
  }
 },
 "nbformat": 4,
 "nbformat_minor": 4
}
